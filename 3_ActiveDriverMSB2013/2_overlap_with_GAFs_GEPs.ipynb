{
 "cells": [
  {
   "cell_type": "code",
   "execution_count": 1,
   "metadata": {
    "ExecuteTime": {
     "end_time": "2019-08-08T10:15:43.745041Z",
     "start_time": "2019-08-08T10:15:43.678Z"
    }
   },
   "outputs": [],
   "source": [
    "# Are there GAP/GEF hotspots within the MSB2013 dataset?\n",
    "library(ActiveDriver)"
   ]
  },
  {
   "cell_type": "code",
   "execution_count": 2,
   "metadata": {
    "ExecuteTime": {
     "end_time": "2019-08-08T10:15:43.835135Z",
     "start_time": "2019-08-08T10:15:43.682Z"
    }
   },
   "outputs": [],
   "source": [
    "load('MSB2013_psnv_info.RData')"
   ]
  },
  {
   "cell_type": "code",
   "execution_count": 6,
   "metadata": {
    "ExecuteTime": {
     "end_time": "2019-08-08T10:18:59.469381Z",
     "start_time": "2019-08-08T10:18:59.445Z"
    }
   },
   "outputs": [
    {
     "data": {
      "text/html": [
       "<table>\n",
       "<caption>A data.frame: 6 × 13</caption>\n",
       "<thead>\n",
       "\t<tr><th scope=col>sample_id</th><th scope=col>mut_position</th><th scope=col>wt_residue</th><th scope=col>mut_residue</th><th scope=col>count</th><th scope=col>status</th><th scope=col>active_region</th><th scope=col>Freq</th><th scope=col>gene</th><th scope=col>PTM_position</th><th scope=col>residue</th><th scope=col>kinase</th><th scope=col>active_region_p</th></tr>\n",
       "\t<tr><th scope=col>&lt;chr&gt;</th><th scope=col>&lt;dbl&gt;</th><th scope=col>&lt;chr&gt;</th><th scope=col>&lt;chr&gt;</th><th scope=col>&lt;chr&gt;</th><th scope=col>&lt;chr&gt;</th><th scope=col>&lt;dbl&gt;</th><th scope=col>&lt;dbl&gt;</th><th scope=col>&lt;chr&gt;</th><th scope=col>&lt;dbl&gt;</th><th scope=col>&lt;chr&gt;</th><th scope=col>&lt;chr&gt;</th><th scope=col>&lt;dbl&gt;</th></tr>\n",
       "</thead>\n",
       "<tbody>\n",
       "\t<tr><td>TCGA-25-1635-01A</td><td>1253</td><td>E</td><td>K</td><td>1</td><td>N1   </td><td> 3</td><td>1262</td><td>ABCA1</td><td>1255</td><td>S</td><td>CSNK2A1                       </td><td>0.062004134</td></tr>\n",
       "\t<tr><td>TCGA-25-1635-01A</td><td>1253</td><td>E</td><td>K</td><td>1</td><td>N1   </td><td> 3</td><td>1235</td><td>ABCA1</td><td>1255</td><td>S</td><td>CSNK2A1                       </td><td>0.062004134</td></tr>\n",
       "\t<tr><td>16770           </td><td> 751</td><td>R</td><td>S</td><td>1</td><td>N2   </td><td>17</td><td> 747</td><td>ABL1 </td><td> 754</td><td>T</td><td>CLK1,CLK4,MAP3K8,STK3,STK4,TTK</td><td>0.017463786</td></tr>\n",
       "\t<tr><td>16770           </td><td> 751</td><td>R</td><td>S</td><td>1</td><td>N2   </td><td>17</td><td> 761</td><td>ABL1 </td><td> 754</td><td>T</td><td>CLK1,CLK4,MAP3K8,STK3,STK4,TTK</td><td>0.017463786</td></tr>\n",
       "\t<tr><td>16646           </td><td> 825</td><td>P</td><td>L</td><td>1</td><td>N1,N2</td><td>19</td><td> 816</td><td>ABL1 </td><td> 827</td><td>S</td><td>                              </td><td>0.003737638</td></tr>\n",
       "\t<tr><td>16646           </td><td> 825</td><td>P</td><td>L</td><td>1</td><td>N1,N2</td><td>19</td><td> 816</td><td>ABL1 </td><td> 823</td><td>S</td><td>                              </td><td>0.003737638</td></tr>\n",
       "</tbody>\n",
       "</table>\n"
      ],
      "text/latex": [
       "A data.frame: 6 × 13\n",
       "\\begin{tabular}{r|lllllllllllll}\n",
       " sample\\_id & mut\\_position & wt\\_residue & mut\\_residue & count & status & active\\_region & Freq & gene & PTM\\_position & residue & kinase & active\\_region\\_p\\\\\n",
       " <chr> & <dbl> & <chr> & <chr> & <chr> & <chr> & <dbl> & <dbl> & <chr> & <dbl> & <chr> & <chr> & <dbl>\\\\\n",
       "\\hline\n",
       "\t TCGA-25-1635-01A & 1253 & E & K & 1 & N1    &  3 & 1262 & ABCA1 & 1255 & S & CSNK2A1                        & 0.062004134\\\\\n",
       "\t TCGA-25-1635-01A & 1253 & E & K & 1 & N1    &  3 & 1235 & ABCA1 & 1255 & S & CSNK2A1                        & 0.062004134\\\\\n",
       "\t 16770            &  751 & R & S & 1 & N2    & 17 &  747 & ABL1  &  754 & T & CLK1,CLK4,MAP3K8,STK3,STK4,TTK & 0.017463786\\\\\n",
       "\t 16770            &  751 & R & S & 1 & N2    & 17 &  761 & ABL1  &  754 & T & CLK1,CLK4,MAP3K8,STK3,STK4,TTK & 0.017463786\\\\\n",
       "\t 16646            &  825 & P & L & 1 & N1,N2 & 19 &  816 & ABL1  &  827 & S &                                & 0.003737638\\\\\n",
       "\t 16646            &  825 & P & L & 1 & N1,N2 & 19 &  816 & ABL1  &  823 & S &                                & 0.003737638\\\\\n",
       "\\end{tabular}\n"
      ],
      "text/markdown": [
       "\n",
       "A data.frame: 6 × 13\n",
       "\n",
       "| sample_id &lt;chr&gt; | mut_position &lt;dbl&gt; | wt_residue &lt;chr&gt; | mut_residue &lt;chr&gt; | count &lt;chr&gt; | status &lt;chr&gt; | active_region &lt;dbl&gt; | Freq &lt;dbl&gt; | gene &lt;chr&gt; | PTM_position &lt;dbl&gt; | residue &lt;chr&gt; | kinase &lt;chr&gt; | active_region_p &lt;dbl&gt; |\n",
       "|---|---|---|---|---|---|---|---|---|---|---|---|---|\n",
       "| TCGA-25-1635-01A | 1253 | E | K | 1 | N1    |  3 | 1262 | ABCA1 | 1255 | S | CSNK2A1                        | 0.062004134 |\n",
       "| TCGA-25-1635-01A | 1253 | E | K | 1 | N1    |  3 | 1235 | ABCA1 | 1255 | S | CSNK2A1                        | 0.062004134 |\n",
       "| 16770            |  751 | R | S | 1 | N2    | 17 |  747 | ABL1  |  754 | T | CLK1,CLK4,MAP3K8,STK3,STK4,TTK | 0.017463786 |\n",
       "| 16770            |  751 | R | S | 1 | N2    | 17 |  761 | ABL1  |  754 | T | CLK1,CLK4,MAP3K8,STK3,STK4,TTK | 0.017463786 |\n",
       "| 16646            |  825 | P | L | 1 | N1,N2 | 19 |  816 | ABL1  |  827 | S | <!----> | 0.003737638 |\n",
       "| 16646            |  825 | P | L | 1 | N1,N2 | 19 |  816 | ABL1  |  823 | S | <!----> | 0.003737638 |\n",
       "\n"
      ],
      "text/plain": [
       "  sample_id        mut_position wt_residue mut_residue count status\n",
       "1 TCGA-25-1635-01A 1253         E          K           1     N1    \n",
       "2 TCGA-25-1635-01A 1253         E          K           1     N1    \n",
       "3 16770             751         R          S           1     N2    \n",
       "4 16770             751         R          S           1     N2    \n",
       "5 16646             825         P          L           1     N1,N2 \n",
       "6 16646             825         P          L           1     N1,N2 \n",
       "  active_region Freq gene  PTM_position residue kinase                        \n",
       "1  3            1262 ABCA1 1255         S       CSNK2A1                       \n",
       "2  3            1235 ABCA1 1255         S       CSNK2A1                       \n",
       "3 17             747 ABL1   754         T       CLK1,CLK4,MAP3K8,STK3,STK4,TTK\n",
       "4 17             761 ABL1   754         T       CLK1,CLK4,MAP3K8,STK3,STK4,TTK\n",
       "5 19             816 ABL1   827         S                                     \n",
       "6 19             816 ABL1   823         S                                     \n",
       "  active_region_p\n",
       "1 0.062004134    \n",
       "2 0.062004134    \n",
       "3 0.017463786    \n",
       "4 0.017463786    \n",
       "5 0.003737638    \n",
       "6 0.003737638    "
      ]
     },
     "metadata": {},
     "output_type": "display_data"
    }
   ],
   "source": [
    "#lapply(psnv_info, head)\n",
    "head(psnv_info$merged_report)"
   ]
  },
  {
   "cell_type": "code",
   "execution_count": 13,
   "metadata": {
    "ExecuteTime": {
     "end_time": "2019-08-08T10:20:59.661809Z",
     "start_time": "2019-08-08T10:20:59.644Z"
    }
   },
   "outputs": [
    {
     "data": {
      "text/html": [
       "141"
      ],
      "text/latex": [
       "141"
      ],
      "text/markdown": [
       "141"
      ],
      "text/plain": [
       "[1] 141"
      ]
     },
     "metadata": {},
     "output_type": "display_data"
    }
   ],
   "source": [
    "l.GAFs.GEPs <- read.csv(\"../data-dropbox/List_gap_gefs - Sheet1.tsv\", sep='\\t')$GENE.NAME\n",
    "length(l.GAFs.GEPs)"
   ]
  },
  {
   "cell_type": "code",
   "execution_count": 16,
   "metadata": {
    "ExecuteTime": {
     "end_time": "2019-08-08T10:22:13.375087Z",
     "start_time": "2019-08-08T10:22:13.311Z"
    }
   },
   "outputs": [
    {
     "data": {
      "text/html": [
       "<table>\n",
       "<caption>A data.frame: 42 × 13</caption>\n",
       "<thead>\n",
       "\t<tr><th></th><th scope=col>sample_id</th><th scope=col>mut_position</th><th scope=col>wt_residue</th><th scope=col>mut_residue</th><th scope=col>count</th><th scope=col>status</th><th scope=col>active_region</th><th scope=col>Freq</th><th scope=col>gene</th><th scope=col>PTM_position</th><th scope=col>residue</th><th scope=col>kinase</th><th scope=col>active_region_p</th></tr>\n",
       "\t<tr><th></th><th scope=col>&lt;chr&gt;</th><th scope=col>&lt;dbl&gt;</th><th scope=col>&lt;chr&gt;</th><th scope=col>&lt;chr&gt;</th><th scope=col>&lt;chr&gt;</th><th scope=col>&lt;chr&gt;</th><th scope=col>&lt;dbl&gt;</th><th scope=col>&lt;dbl&gt;</th><th scope=col>&lt;chr&gt;</th><th scope=col>&lt;dbl&gt;</th><th scope=col>&lt;chr&gt;</th><th scope=col>&lt;chr&gt;</th><th scope=col>&lt;dbl&gt;</th></tr>\n",
       "</thead>\n",
       "<tbody>\n",
       "\t<tr><th scope=row>73</th><td>TCGA-23-1124-01A</td><td>1750</td><td>S</td><td>I</td><td>1</td><td>N2   </td><td>14</td><td>1761</td><td>AKAP13  </td><td>1754</td><td>S</td><td>        </td><td>0.0013435877</td></tr>\n",
       "\t<tr><th scope=row>74</th><td>TCGA-23-1124-01A</td><td>1750</td><td>S</td><td>I</td><td>1</td><td>N2   </td><td>14</td><td>1761</td><td>AKAP13  </td><td>1747</td><td>T</td><td>        </td><td>0.0013435877</td></tr>\n",
       "\t<tr><th scope=row>75</th><td>TCGA-23-1124-01A</td><td>1750</td><td>S</td><td>I</td><td>1</td><td>N2   </td><td>14</td><td>1740</td><td>AKAP13  </td><td>1754</td><td>S</td><td>        </td><td>0.0013435877</td></tr>\n",
       "\t<tr><th scope=row>76</th><td>TCGA-23-1124-01A</td><td>1750</td><td>S</td><td>I</td><td>1</td><td>N2   </td><td>14</td><td>1740</td><td>AKAP13  </td><td>1747</td><td>T</td><td>        </td><td>0.0013435877</td></tr>\n",
       "\t<tr><th scope=row>119</th><td>Br27P           </td><td>1124</td><td>S</td><td>L</td><td>1</td><td>DI,N2</td><td>11</td><td>1145</td><td>ARHGAP5 </td><td>1129</td><td>T</td><td>        </td><td>0.0032234864</td></tr>\n",
       "\t<tr><th scope=row>120</th><td>Br27P           </td><td>1124</td><td>S</td><td>L</td><td>1</td><td>DI,N2</td><td>11</td><td>1145</td><td>ARHGAP5 </td><td>1124</td><td>S</td><td>        </td><td>0.0032234864</td></tr>\n",
       "\t<tr><th scope=row>121</th><td>Br27P           </td><td>1124</td><td>S</td><td>L</td><td>1</td><td>DI,N2</td><td>11</td><td>1084</td><td>ARHGAP5 </td><td>1129</td><td>T</td><td>        </td><td>0.0032234864</td></tr>\n",
       "\t<tr><th scope=row>122</th><td>Br27P           </td><td>1124</td><td>S</td><td>L</td><td>1</td><td>DI,N2</td><td>11</td><td>1084</td><td>ARHGAP5 </td><td>1124</td><td>S</td><td>        </td><td>0.0032234864</td></tr>\n",
       "\t<tr><th scope=row>123</th><td>HX13T           </td><td> 264</td><td>G</td><td>C</td><td>1</td><td>N1   </td><td> 2</td><td> 269</td><td>ARHGEF40</td><td> 262</td><td>S</td><td>        </td><td>0.0010011041</td></tr>\n",
       "\t<tr><th scope=row>124</th><td>HX13T           </td><td> 264</td><td>G</td><td>C</td><td>1</td><td>N1   </td><td> 2</td><td> 255</td><td>ARHGEF40</td><td> 262</td><td>S</td><td>        </td><td>0.0010011041</td></tr>\n",
       "\t<tr><th scope=row>125</th><td>HX12T           </td><td> 454</td><td>S</td><td>P</td><td>1</td><td>DI,N2</td><td> 6</td><td> 447</td><td>ARHGEF6 </td><td> 454</td><td>S</td><td>        </td><td>0.0004568398</td></tr>\n",
       "\t<tr><th scope=row>126</th><td>HX12T           </td><td> 454</td><td>S</td><td>P</td><td>1</td><td>DI,N2</td><td> 6</td><td> 461</td><td>ARHGEF6 </td><td> 454</td><td>S</td><td>        </td><td>0.0004568398</td></tr>\n",
       "\t<tr><th scope=row>569</th><td>TCGA-04-1338-01A</td><td>  45</td><td>E</td><td>D</td><td>1</td><td>N2   </td><td> 1</td><td>  33</td><td>ECT2    </td><td>  40</td><td>S</td><td>        </td><td>0.0160150473</td></tr>\n",
       "\t<tr><th scope=row>570</th><td>TCGA-04-1338-01A</td><td>  45</td><td>E</td><td>D</td><td>1</td><td>N2   </td><td> 1</td><td>  33</td><td>ECT2    </td><td>  41</td><td>Y</td><td>        </td><td>0.0160150473</td></tr>\n",
       "\t<tr><th scope=row>571</th><td>TCGA-04-1338-01A</td><td>  45</td><td>E</td><td>D</td><td>1</td><td>N2   </td><td> 1</td><td>  48</td><td>ECT2    </td><td>  40</td><td>S</td><td>        </td><td>0.0160150473</td></tr>\n",
       "\t<tr><th scope=row>572</th><td>TCGA-04-1338-01A</td><td>  45</td><td>E</td><td>D</td><td>1</td><td>N2   </td><td> 1</td><td>  48</td><td>ECT2    </td><td>  41</td><td>Y</td><td>        </td><td>0.0160150473</td></tr>\n",
       "\t<tr><th scope=row>691</th><td>TCGA-13-0762-01A</td><td> 648</td><td>R</td><td>Q</td><td>1</td><td>N2   </td><td> 1</td><td> 614</td><td>FAM13A  </td><td> 655</td><td>S</td><td>        </td><td>0.0096583057</td></tr>\n",
       "\t<tr><th scope=row>692</th><td>TCGA-13-0762-01A</td><td> 648</td><td>R</td><td>Q</td><td>1</td><td>N2   </td><td> 1</td><td> 614</td><td>FAM13A  </td><td> 652</td><td>S</td><td>        </td><td>0.0096583057</td></tr>\n",
       "\t<tr><th scope=row>693</th><td>TCGA-13-0762-01A</td><td> 648</td><td>R</td><td>Q</td><td>1</td><td>N2   </td><td> 1</td><td> 614</td><td>FAM13A  </td><td> 644</td><td>S</td><td>        </td><td>0.0096583057</td></tr>\n",
       "\t<tr><th scope=row>694</th><td>TCGA-13-0762-01A</td><td> 648</td><td>R</td><td>Q</td><td>1</td><td>N2   </td><td> 1</td><td> 662</td><td>FAM13A  </td><td> 655</td><td>S</td><td>        </td><td>0.0096583057</td></tr>\n",
       "\t<tr><th scope=row>695</th><td>TCGA-13-0762-01A</td><td> 648</td><td>R</td><td>Q</td><td>1</td><td>N2   </td><td> 1</td><td> 662</td><td>FAM13A  </td><td> 652</td><td>S</td><td>        </td><td>0.0096583057</td></tr>\n",
       "\t<tr><th scope=row>696</th><td>TCGA-13-0762-01A</td><td> 648</td><td>R</td><td>Q</td><td>1</td><td>N2   </td><td> 1</td><td> 662</td><td>FAM13A  </td><td> 644</td><td>S</td><td>        </td><td>0.0096583057</td></tr>\n",
       "\t<tr><th scope=row>1407</th><td>TCGA-04-1343-01A</td><td> 286</td><td>A</td><td>S</td><td>1</td><td>N1,N2</td><td> 1</td><td> 296</td><td>NGEF    </td><td> 289</td><td>Y</td><td>        </td><td>0.0589584284</td></tr>\n",
       "\t<tr><th scope=row>1408</th><td>TCGA-04-1343-01A</td><td> 286</td><td>A</td><td>S</td><td>1</td><td>N1,N2</td><td> 1</td><td> 296</td><td>NGEF    </td><td> 288</td><td>Y</td><td>        </td><td>0.0589584284</td></tr>\n",
       "\t<tr><th scope=row>1409</th><td>TCGA-04-1343-01A</td><td> 286</td><td>A</td><td>S</td><td>1</td><td>N1,N2</td><td> 1</td><td> 281</td><td>NGEF    </td><td> 289</td><td>Y</td><td>        </td><td>0.0589584284</td></tr>\n",
       "\t<tr><th scope=row>1410</th><td>TCGA-04-1343-01A</td><td> 286</td><td>A</td><td>S</td><td>1</td><td>N1,N2</td><td> 1</td><td> 281</td><td>NGEF    </td><td> 288</td><td>Y</td><td>        </td><td>0.0589584284</td></tr>\n",
       "\t<tr><th scope=row>1529</th><td>Br103X          </td><td> 464</td><td>D</td><td>H</td><td>1</td><td>N1,N2</td><td> 4</td><td> 477</td><td>PIK3R1  </td><td> 467</td><td>Y</td><td>        </td><td>0.0051923349</td></tr>\n",
       "\t<tr><th scope=row>1530</th><td>Br103X          </td><td> 464</td><td>D</td><td>H</td><td>1</td><td>N1,N2</td><td> 4</td><td> 477</td><td>PIK3R1  </td><td> 463</td><td>Y</td><td>        </td><td>0.0051923349</td></tr>\n",
       "\t<tr><th scope=row>1531</th><td>Br103X          </td><td> 464</td><td>D</td><td>H</td><td>1</td><td>N1,N2</td><td> 4</td><td> 477</td><td>PIK3R1  </td><td> 470</td><td>Y</td><td>        </td><td>0.0051923349</td></tr>\n",
       "\t<tr><th scope=row>1532</th><td>Br103X          </td><td> 464</td><td>D</td><td>H</td><td>1</td><td>N1,N2</td><td> 4</td><td> 445</td><td>PIK3R1  </td><td> 467</td><td>Y</td><td>        </td><td>0.0051923349</td></tr>\n",
       "\t<tr><th scope=row>1533</th><td>Br103X          </td><td> 464</td><td>D</td><td>H</td><td>1</td><td>N1,N2</td><td> 4</td><td> 445</td><td>PIK3R1  </td><td> 463</td><td>Y</td><td>        </td><td>0.0051923349</td></tr>\n",
       "\t<tr><th scope=row>1534</th><td>Br103X          </td><td> 464</td><td>D</td><td>H</td><td>1</td><td>N1,N2</td><td> 4</td><td> 445</td><td>PIK3R1  </td><td> 470</td><td>Y</td><td>        </td><td>0.0051923349</td></tr>\n",
       "\t<tr><th scope=row>1535</th><td>Br102X          </td><td> 459</td><td>K</td><td>E</td><td>1</td><td>N2   </td><td> 4</td><td> 477</td><td>PIK3R1  </td><td> 452</td><td>Y</td><td>        </td><td>0.0051923349</td></tr>\n",
       "\t<tr><th scope=row>1536</th><td>Br102X          </td><td> 459</td><td>K</td><td>E</td><td>1</td><td>N2   </td><td> 4</td><td> 477</td><td>PIK3R1  </td><td> 463</td><td>Y</td><td>        </td><td>0.0051923349</td></tr>\n",
       "\t<tr><th scope=row>1537</th><td>Br102X          </td><td> 459</td><td>K</td><td>E</td><td>1</td><td>N2   </td><td> 4</td><td> 445</td><td>PIK3R1  </td><td> 452</td><td>Y</td><td>        </td><td>0.0051923349</td></tr>\n",
       "\t<tr><th scope=row>1538</th><td>Br102X          </td><td> 459</td><td>K</td><td>E</td><td>1</td><td>N2   </td><td> 4</td><td> 445</td><td>PIK3R1  </td><td> 463</td><td>Y</td><td>        </td><td>0.0051923349</td></tr>\n",
       "\t<tr><th scope=row>1583</th><td>Pa16C           </td><td> 484</td><td>P</td><td>L</td><td>1</td><td>N1   </td><td> 2</td><td> 475</td><td>PLEKHG2 </td><td> 482</td><td>S</td><td>        </td><td>0.0008641378</td></tr>\n",
       "\t<tr><th scope=row>1584</th><td>Pa16C           </td><td> 484</td><td>P</td><td>L</td><td>1</td><td>N1   </td><td> 2</td><td> 489</td><td>PLEKHG2 </td><td> 482</td><td>S</td><td>        </td><td>0.0008641378</td></tr>\n",
       "\t<tr><th scope=row>2033</th><td>TCGA-13-0893-01B</td><td>1184</td><td>P</td><td>H</td><td>1</td><td>N2   </td><td> 5</td><td>1160</td><td>SOS1    </td><td>1178</td><td>S</td><td>MAPK1   </td><td>          NA</td></tr>\n",
       "\t<tr><th scope=row>2034</th><td>TCGA-13-0893-01B</td><td>1184</td><td>P</td><td>H</td><td>1</td><td>N2   </td><td> 5</td><td>1217</td><td>SOS1    </td><td>1178</td><td>S</td><td>MAPK1   </td><td>          NA</td></tr>\n",
       "\t<tr><th scope=row>2723</th><td>16951           </td><td> 143</td><td>R</td><td>L</td><td>1</td><td>N1   </td><td> 1</td><td> 135</td><td>VAV2    </td><td> 142</td><td>Y</td><td>EGFR,LCK</td><td>0.0158850765</td></tr>\n",
       "\t<tr><th scope=row>2724</th><td>16951           </td><td> 143</td><td>R</td><td>L</td><td>1</td><td>N1   </td><td> 1</td><td> 149</td><td>VAV2    </td><td> 142</td><td>Y</td><td>EGFR,LCK</td><td>0.0158850765</td></tr>\n",
       "</tbody>\n",
       "</table>\n"
      ],
      "text/latex": [
       "A data.frame: 42 × 13\n",
       "\\begin{tabular}{r|lllllllllllll}\n",
       "  & sample\\_id & mut\\_position & wt\\_residue & mut\\_residue & count & status & active\\_region & Freq & gene & PTM\\_position & residue & kinase & active\\_region\\_p\\\\\n",
       "  & <chr> & <dbl> & <chr> & <chr> & <chr> & <chr> & <dbl> & <dbl> & <chr> & <dbl> & <chr> & <chr> & <dbl>\\\\\n",
       "\\hline\n",
       "\t73 & TCGA-23-1124-01A & 1750 & S & I & 1 & N2    & 14 & 1761 & AKAP13   & 1754 & S &          & 0.0013435877\\\\\n",
       "\t74 & TCGA-23-1124-01A & 1750 & S & I & 1 & N2    & 14 & 1761 & AKAP13   & 1747 & T &          & 0.0013435877\\\\\n",
       "\t75 & TCGA-23-1124-01A & 1750 & S & I & 1 & N2    & 14 & 1740 & AKAP13   & 1754 & S &          & 0.0013435877\\\\\n",
       "\t76 & TCGA-23-1124-01A & 1750 & S & I & 1 & N2    & 14 & 1740 & AKAP13   & 1747 & T &          & 0.0013435877\\\\\n",
       "\t119 & Br27P            & 1124 & S & L & 1 & DI,N2 & 11 & 1145 & ARHGAP5  & 1129 & T &          & 0.0032234864\\\\\n",
       "\t120 & Br27P            & 1124 & S & L & 1 & DI,N2 & 11 & 1145 & ARHGAP5  & 1124 & S &          & 0.0032234864\\\\\n",
       "\t121 & Br27P            & 1124 & S & L & 1 & DI,N2 & 11 & 1084 & ARHGAP5  & 1129 & T &          & 0.0032234864\\\\\n",
       "\t122 & Br27P            & 1124 & S & L & 1 & DI,N2 & 11 & 1084 & ARHGAP5  & 1124 & S &          & 0.0032234864\\\\\n",
       "\t123 & HX13T            &  264 & G & C & 1 & N1    &  2 &  269 & ARHGEF40 &  262 & S &          & 0.0010011041\\\\\n",
       "\t124 & HX13T            &  264 & G & C & 1 & N1    &  2 &  255 & ARHGEF40 &  262 & S &          & 0.0010011041\\\\\n",
       "\t125 & HX12T            &  454 & S & P & 1 & DI,N2 &  6 &  447 & ARHGEF6  &  454 & S &          & 0.0004568398\\\\\n",
       "\t126 & HX12T            &  454 & S & P & 1 & DI,N2 &  6 &  461 & ARHGEF6  &  454 & S &          & 0.0004568398\\\\\n",
       "\t569 & TCGA-04-1338-01A &   45 & E & D & 1 & N2    &  1 &   33 & ECT2     &   40 & S &          & 0.0160150473\\\\\n",
       "\t570 & TCGA-04-1338-01A &   45 & E & D & 1 & N2    &  1 &   33 & ECT2     &   41 & Y &          & 0.0160150473\\\\\n",
       "\t571 & TCGA-04-1338-01A &   45 & E & D & 1 & N2    &  1 &   48 & ECT2     &   40 & S &          & 0.0160150473\\\\\n",
       "\t572 & TCGA-04-1338-01A &   45 & E & D & 1 & N2    &  1 &   48 & ECT2     &   41 & Y &          & 0.0160150473\\\\\n",
       "\t691 & TCGA-13-0762-01A &  648 & R & Q & 1 & N2    &  1 &  614 & FAM13A   &  655 & S &          & 0.0096583057\\\\\n",
       "\t692 & TCGA-13-0762-01A &  648 & R & Q & 1 & N2    &  1 &  614 & FAM13A   &  652 & S &          & 0.0096583057\\\\\n",
       "\t693 & TCGA-13-0762-01A &  648 & R & Q & 1 & N2    &  1 &  614 & FAM13A   &  644 & S &          & 0.0096583057\\\\\n",
       "\t694 & TCGA-13-0762-01A &  648 & R & Q & 1 & N2    &  1 &  662 & FAM13A   &  655 & S &          & 0.0096583057\\\\\n",
       "\t695 & TCGA-13-0762-01A &  648 & R & Q & 1 & N2    &  1 &  662 & FAM13A   &  652 & S &          & 0.0096583057\\\\\n",
       "\t696 & TCGA-13-0762-01A &  648 & R & Q & 1 & N2    &  1 &  662 & FAM13A   &  644 & S &          & 0.0096583057\\\\\n",
       "\t1407 & TCGA-04-1343-01A &  286 & A & S & 1 & N1,N2 &  1 &  296 & NGEF     &  289 & Y &          & 0.0589584284\\\\\n",
       "\t1408 & TCGA-04-1343-01A &  286 & A & S & 1 & N1,N2 &  1 &  296 & NGEF     &  288 & Y &          & 0.0589584284\\\\\n",
       "\t1409 & TCGA-04-1343-01A &  286 & A & S & 1 & N1,N2 &  1 &  281 & NGEF     &  289 & Y &          & 0.0589584284\\\\\n",
       "\t1410 & TCGA-04-1343-01A &  286 & A & S & 1 & N1,N2 &  1 &  281 & NGEF     &  288 & Y &          & 0.0589584284\\\\\n",
       "\t1529 & Br103X           &  464 & D & H & 1 & N1,N2 &  4 &  477 & PIK3R1   &  467 & Y &          & 0.0051923349\\\\\n",
       "\t1530 & Br103X           &  464 & D & H & 1 & N1,N2 &  4 &  477 & PIK3R1   &  463 & Y &          & 0.0051923349\\\\\n",
       "\t1531 & Br103X           &  464 & D & H & 1 & N1,N2 &  4 &  477 & PIK3R1   &  470 & Y &          & 0.0051923349\\\\\n",
       "\t1532 & Br103X           &  464 & D & H & 1 & N1,N2 &  4 &  445 & PIK3R1   &  467 & Y &          & 0.0051923349\\\\\n",
       "\t1533 & Br103X           &  464 & D & H & 1 & N1,N2 &  4 &  445 & PIK3R1   &  463 & Y &          & 0.0051923349\\\\\n",
       "\t1534 & Br103X           &  464 & D & H & 1 & N1,N2 &  4 &  445 & PIK3R1   &  470 & Y &          & 0.0051923349\\\\\n",
       "\t1535 & Br102X           &  459 & K & E & 1 & N2    &  4 &  477 & PIK3R1   &  452 & Y &          & 0.0051923349\\\\\n",
       "\t1536 & Br102X           &  459 & K & E & 1 & N2    &  4 &  477 & PIK3R1   &  463 & Y &          & 0.0051923349\\\\\n",
       "\t1537 & Br102X           &  459 & K & E & 1 & N2    &  4 &  445 & PIK3R1   &  452 & Y &          & 0.0051923349\\\\\n",
       "\t1538 & Br102X           &  459 & K & E & 1 & N2    &  4 &  445 & PIK3R1   &  463 & Y &          & 0.0051923349\\\\\n",
       "\t1583 & Pa16C            &  484 & P & L & 1 & N1    &  2 &  475 & PLEKHG2  &  482 & S &          & 0.0008641378\\\\\n",
       "\t1584 & Pa16C            &  484 & P & L & 1 & N1    &  2 &  489 & PLEKHG2  &  482 & S &          & 0.0008641378\\\\\n",
       "\t2033 & TCGA-13-0893-01B & 1184 & P & H & 1 & N2    &  5 & 1160 & SOS1     & 1178 & S & MAPK1    &           NA\\\\\n",
       "\t2034 & TCGA-13-0893-01B & 1184 & P & H & 1 & N2    &  5 & 1217 & SOS1     & 1178 & S & MAPK1    &           NA\\\\\n",
       "\t2723 & 16951            &  143 & R & L & 1 & N1    &  1 &  135 & VAV2     &  142 & Y & EGFR,LCK & 0.0158850765\\\\\n",
       "\t2724 & 16951            &  143 & R & L & 1 & N1    &  1 &  149 & VAV2     &  142 & Y & EGFR,LCK & 0.0158850765\\\\\n",
       "\\end{tabular}\n"
      ],
      "text/markdown": [
       "\n",
       "A data.frame: 42 × 13\n",
       "\n",
       "| <!--/--> | sample_id &lt;chr&gt; | mut_position &lt;dbl&gt; | wt_residue &lt;chr&gt; | mut_residue &lt;chr&gt; | count &lt;chr&gt; | status &lt;chr&gt; | active_region &lt;dbl&gt; | Freq &lt;dbl&gt; | gene &lt;chr&gt; | PTM_position &lt;dbl&gt; | residue &lt;chr&gt; | kinase &lt;chr&gt; | active_region_p &lt;dbl&gt; |\n",
       "|---|---|---|---|---|---|---|---|---|---|---|---|---|---|\n",
       "| 73 | TCGA-23-1124-01A | 1750 | S | I | 1 | N2    | 14 | 1761 | AKAP13   | 1754 | S | <!----> | 0.0013435877 |\n",
       "| 74 | TCGA-23-1124-01A | 1750 | S | I | 1 | N2    | 14 | 1761 | AKAP13   | 1747 | T | <!----> | 0.0013435877 |\n",
       "| 75 | TCGA-23-1124-01A | 1750 | S | I | 1 | N2    | 14 | 1740 | AKAP13   | 1754 | S | <!----> | 0.0013435877 |\n",
       "| 76 | TCGA-23-1124-01A | 1750 | S | I | 1 | N2    | 14 | 1740 | AKAP13   | 1747 | T | <!----> | 0.0013435877 |\n",
       "| 119 | Br27P            | 1124 | S | L | 1 | DI,N2 | 11 | 1145 | ARHGAP5  | 1129 | T | <!----> | 0.0032234864 |\n",
       "| 120 | Br27P            | 1124 | S | L | 1 | DI,N2 | 11 | 1145 | ARHGAP5  | 1124 | S | <!----> | 0.0032234864 |\n",
       "| 121 | Br27P            | 1124 | S | L | 1 | DI,N2 | 11 | 1084 | ARHGAP5  | 1129 | T | <!----> | 0.0032234864 |\n",
       "| 122 | Br27P            | 1124 | S | L | 1 | DI,N2 | 11 | 1084 | ARHGAP5  | 1124 | S | <!----> | 0.0032234864 |\n",
       "| 123 | HX13T            |  264 | G | C | 1 | N1    |  2 |  269 | ARHGEF40 |  262 | S | <!----> | 0.0010011041 |\n",
       "| 124 | HX13T            |  264 | G | C | 1 | N1    |  2 |  255 | ARHGEF40 |  262 | S | <!----> | 0.0010011041 |\n",
       "| 125 | HX12T            |  454 | S | P | 1 | DI,N2 |  6 |  447 | ARHGEF6  |  454 | S | <!----> | 0.0004568398 |\n",
       "| 126 | HX12T            |  454 | S | P | 1 | DI,N2 |  6 |  461 | ARHGEF6  |  454 | S | <!----> | 0.0004568398 |\n",
       "| 569 | TCGA-04-1338-01A |   45 | E | D | 1 | N2    |  1 |   33 | ECT2     |   40 | S | <!----> | 0.0160150473 |\n",
       "| 570 | TCGA-04-1338-01A |   45 | E | D | 1 | N2    |  1 |   33 | ECT2     |   41 | Y | <!----> | 0.0160150473 |\n",
       "| 571 | TCGA-04-1338-01A |   45 | E | D | 1 | N2    |  1 |   48 | ECT2     |   40 | S | <!----> | 0.0160150473 |\n",
       "| 572 | TCGA-04-1338-01A |   45 | E | D | 1 | N2    |  1 |   48 | ECT2     |   41 | Y | <!----> | 0.0160150473 |\n",
       "| 691 | TCGA-13-0762-01A |  648 | R | Q | 1 | N2    |  1 |  614 | FAM13A   |  655 | S | <!----> | 0.0096583057 |\n",
       "| 692 | TCGA-13-0762-01A |  648 | R | Q | 1 | N2    |  1 |  614 | FAM13A   |  652 | S | <!----> | 0.0096583057 |\n",
       "| 693 | TCGA-13-0762-01A |  648 | R | Q | 1 | N2    |  1 |  614 | FAM13A   |  644 | S | <!----> | 0.0096583057 |\n",
       "| 694 | TCGA-13-0762-01A |  648 | R | Q | 1 | N2    |  1 |  662 | FAM13A   |  655 | S | <!----> | 0.0096583057 |\n",
       "| 695 | TCGA-13-0762-01A |  648 | R | Q | 1 | N2    |  1 |  662 | FAM13A   |  652 | S | <!----> | 0.0096583057 |\n",
       "| 696 | TCGA-13-0762-01A |  648 | R | Q | 1 | N2    |  1 |  662 | FAM13A   |  644 | S | <!----> | 0.0096583057 |\n",
       "| 1407 | TCGA-04-1343-01A |  286 | A | S | 1 | N1,N2 |  1 |  296 | NGEF     |  289 | Y | <!----> | 0.0589584284 |\n",
       "| 1408 | TCGA-04-1343-01A |  286 | A | S | 1 | N1,N2 |  1 |  296 | NGEF     |  288 | Y | <!----> | 0.0589584284 |\n",
       "| 1409 | TCGA-04-1343-01A |  286 | A | S | 1 | N1,N2 |  1 |  281 | NGEF     |  289 | Y | <!----> | 0.0589584284 |\n",
       "| 1410 | TCGA-04-1343-01A |  286 | A | S | 1 | N1,N2 |  1 |  281 | NGEF     |  288 | Y | <!----> | 0.0589584284 |\n",
       "| 1529 | Br103X           |  464 | D | H | 1 | N1,N2 |  4 |  477 | PIK3R1   |  467 | Y | <!----> | 0.0051923349 |\n",
       "| 1530 | Br103X           |  464 | D | H | 1 | N1,N2 |  4 |  477 | PIK3R1   |  463 | Y | <!----> | 0.0051923349 |\n",
       "| 1531 | Br103X           |  464 | D | H | 1 | N1,N2 |  4 |  477 | PIK3R1   |  470 | Y | <!----> | 0.0051923349 |\n",
       "| 1532 | Br103X           |  464 | D | H | 1 | N1,N2 |  4 |  445 | PIK3R1   |  467 | Y | <!----> | 0.0051923349 |\n",
       "| 1533 | Br103X           |  464 | D | H | 1 | N1,N2 |  4 |  445 | PIK3R1   |  463 | Y | <!----> | 0.0051923349 |\n",
       "| 1534 | Br103X           |  464 | D | H | 1 | N1,N2 |  4 |  445 | PIK3R1   |  470 | Y | <!----> | 0.0051923349 |\n",
       "| 1535 | Br102X           |  459 | K | E | 1 | N2    |  4 |  477 | PIK3R1   |  452 | Y | <!----> | 0.0051923349 |\n",
       "| 1536 | Br102X           |  459 | K | E | 1 | N2    |  4 |  477 | PIK3R1   |  463 | Y | <!----> | 0.0051923349 |\n",
       "| 1537 | Br102X           |  459 | K | E | 1 | N2    |  4 |  445 | PIK3R1   |  452 | Y | <!----> | 0.0051923349 |\n",
       "| 1538 | Br102X           |  459 | K | E | 1 | N2    |  4 |  445 | PIK3R1   |  463 | Y | <!----> | 0.0051923349 |\n",
       "| 1583 | Pa16C            |  484 | P | L | 1 | N1    |  2 |  475 | PLEKHG2  |  482 | S | <!----> | 0.0008641378 |\n",
       "| 1584 | Pa16C            |  484 | P | L | 1 | N1    |  2 |  489 | PLEKHG2  |  482 | S | <!----> | 0.0008641378 |\n",
       "| 2033 | TCGA-13-0893-01B | 1184 | P | H | 1 | N2    |  5 | 1160 | SOS1     | 1178 | S | MAPK1    |           NA |\n",
       "| 2034 | TCGA-13-0893-01B | 1184 | P | H | 1 | N2    |  5 | 1217 | SOS1     | 1178 | S | MAPK1    |           NA |\n",
       "| 2723 | 16951            |  143 | R | L | 1 | N1    |  1 |  135 | VAV2     |  142 | Y | EGFR,LCK | 0.0158850765 |\n",
       "| 2724 | 16951            |  143 | R | L | 1 | N1    |  1 |  149 | VAV2     |  142 | Y | EGFR,LCK | 0.0158850765 |\n",
       "\n"
      ],
      "text/plain": [
       "     sample_id        mut_position wt_residue mut_residue count status\n",
       "73   TCGA-23-1124-01A 1750         S          I           1     N2    \n",
       "74   TCGA-23-1124-01A 1750         S          I           1     N2    \n",
       "75   TCGA-23-1124-01A 1750         S          I           1     N2    \n",
       "76   TCGA-23-1124-01A 1750         S          I           1     N2    \n",
       "119  Br27P            1124         S          L           1     DI,N2 \n",
       "120  Br27P            1124         S          L           1     DI,N2 \n",
       "121  Br27P            1124         S          L           1     DI,N2 \n",
       "122  Br27P            1124         S          L           1     DI,N2 \n",
       "123  HX13T             264         G          C           1     N1    \n",
       "124  HX13T             264         G          C           1     N1    \n",
       "125  HX12T             454         S          P           1     DI,N2 \n",
       "126  HX12T             454         S          P           1     DI,N2 \n",
       "569  TCGA-04-1338-01A   45         E          D           1     N2    \n",
       "570  TCGA-04-1338-01A   45         E          D           1     N2    \n",
       "571  TCGA-04-1338-01A   45         E          D           1     N2    \n",
       "572  TCGA-04-1338-01A   45         E          D           1     N2    \n",
       "691  TCGA-13-0762-01A  648         R          Q           1     N2    \n",
       "692  TCGA-13-0762-01A  648         R          Q           1     N2    \n",
       "693  TCGA-13-0762-01A  648         R          Q           1     N2    \n",
       "694  TCGA-13-0762-01A  648         R          Q           1     N2    \n",
       "695  TCGA-13-0762-01A  648         R          Q           1     N2    \n",
       "696  TCGA-13-0762-01A  648         R          Q           1     N2    \n",
       "1407 TCGA-04-1343-01A  286         A          S           1     N1,N2 \n",
       "1408 TCGA-04-1343-01A  286         A          S           1     N1,N2 \n",
       "1409 TCGA-04-1343-01A  286         A          S           1     N1,N2 \n",
       "1410 TCGA-04-1343-01A  286         A          S           1     N1,N2 \n",
       "1529 Br103X            464         D          H           1     N1,N2 \n",
       "1530 Br103X            464         D          H           1     N1,N2 \n",
       "1531 Br103X            464         D          H           1     N1,N2 \n",
       "1532 Br103X            464         D          H           1     N1,N2 \n",
       "1533 Br103X            464         D          H           1     N1,N2 \n",
       "1534 Br103X            464         D          H           1     N1,N2 \n",
       "1535 Br102X            459         K          E           1     N2    \n",
       "1536 Br102X            459         K          E           1     N2    \n",
       "1537 Br102X            459         K          E           1     N2    \n",
       "1538 Br102X            459         K          E           1     N2    \n",
       "1583 Pa16C             484         P          L           1     N1    \n",
       "1584 Pa16C             484         P          L           1     N1    \n",
       "2033 TCGA-13-0893-01B 1184         P          H           1     N2    \n",
       "2034 TCGA-13-0893-01B 1184         P          H           1     N2    \n",
       "2723 16951             143         R          L           1     N1    \n",
       "2724 16951             143         R          L           1     N1    \n",
       "     active_region Freq gene     PTM_position residue kinase   active_region_p\n",
       "73   14            1761 AKAP13   1754         S                0.0013435877   \n",
       "74   14            1761 AKAP13   1747         T                0.0013435877   \n",
       "75   14            1740 AKAP13   1754         S                0.0013435877   \n",
       "76   14            1740 AKAP13   1747         T                0.0013435877   \n",
       "119  11            1145 ARHGAP5  1129         T                0.0032234864   \n",
       "120  11            1145 ARHGAP5  1124         S                0.0032234864   \n",
       "121  11            1084 ARHGAP5  1129         T                0.0032234864   \n",
       "122  11            1084 ARHGAP5  1124         S                0.0032234864   \n",
       "123   2             269 ARHGEF40  262         S                0.0010011041   \n",
       "124   2             255 ARHGEF40  262         S                0.0010011041   \n",
       "125   6             447 ARHGEF6   454         S                0.0004568398   \n",
       "126   6             461 ARHGEF6   454         S                0.0004568398   \n",
       "569   1              33 ECT2       40         S                0.0160150473   \n",
       "570   1              33 ECT2       41         Y                0.0160150473   \n",
       "571   1              48 ECT2       40         S                0.0160150473   \n",
       "572   1              48 ECT2       41         Y                0.0160150473   \n",
       "691   1             614 FAM13A    655         S                0.0096583057   \n",
       "692   1             614 FAM13A    652         S                0.0096583057   \n",
       "693   1             614 FAM13A    644         S                0.0096583057   \n",
       "694   1             662 FAM13A    655         S                0.0096583057   \n",
       "695   1             662 FAM13A    652         S                0.0096583057   \n",
       "696   1             662 FAM13A    644         S                0.0096583057   \n",
       "1407  1             296 NGEF      289         Y                0.0589584284   \n",
       "1408  1             296 NGEF      288         Y                0.0589584284   \n",
       "1409  1             281 NGEF      289         Y                0.0589584284   \n",
       "1410  1             281 NGEF      288         Y                0.0589584284   \n",
       "1529  4             477 PIK3R1    467         Y                0.0051923349   \n",
       "1530  4             477 PIK3R1    463         Y                0.0051923349   \n",
       "1531  4             477 PIK3R1    470         Y                0.0051923349   \n",
       "1532  4             445 PIK3R1    467         Y                0.0051923349   \n",
       "1533  4             445 PIK3R1    463         Y                0.0051923349   \n",
       "1534  4             445 PIK3R1    470         Y                0.0051923349   \n",
       "1535  4             477 PIK3R1    452         Y                0.0051923349   \n",
       "1536  4             477 PIK3R1    463         Y                0.0051923349   \n",
       "1537  4             445 PIK3R1    452         Y                0.0051923349   \n",
       "1538  4             445 PIK3R1    463         Y                0.0051923349   \n",
       "1583  2             475 PLEKHG2   482         S                0.0008641378   \n",
       "1584  2             489 PLEKHG2   482         S                0.0008641378   \n",
       "2033  5            1160 SOS1     1178         S       MAPK1              NA   \n",
       "2034  5            1217 SOS1     1178         S       MAPK1              NA   \n",
       "2723  1             135 VAV2      142         Y       EGFR,LCK 0.0158850765   \n",
       "2724  1             149 VAV2      142         Y       EGFR,LCK 0.0158850765   "
      ]
     },
     "metadata": {},
     "output_type": "display_data"
    }
   ],
   "source": [
    "MSB2013.GAFs.GEPs <- psnv_info$merged_report[is.element(psnv_info$merged_report$gene, l.GAFs.GEPs),]\n",
    "MSB2013.GAFs.GEPs"
   ]
  },
  {
   "cell_type": "code",
   "execution_count": 22,
   "metadata": {
    "ExecuteTime": {
     "end_time": "2019-08-08T10:25:56.150593Z",
     "start_time": "2019-08-08T10:25:56.137Z"
    }
   },
   "outputs": [],
   "source": [
    "write.table(MSB2013.GAFs.GEPs, file='MSB2013_GAFs_GEPs.tsv', sep=\"\\t\", quote=F, row.names=FALSE)"
   ]
  },
  {
   "cell_type": "code",
   "execution_count": null,
   "metadata": {},
   "outputs": [],
   "source": []
  }
 ],
 "metadata": {
  "kernelspec": {
   "display_name": "R",
   "language": "R",
   "name": "ir"
  },
  "language_info": {
   "codemirror_mode": "r",
   "file_extension": ".r",
   "mimetype": "text/x-r-source",
   "name": "R",
   "pygments_lexer": "r",
   "version": "3.5.1"
  }
 },
 "nbformat": 4,
 "nbformat_minor": 2
}
