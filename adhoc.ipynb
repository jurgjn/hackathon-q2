{
 "cells": [
  {
   "cell_type": "code",
   "execution_count": 2,
   "metadata": {
    "ExecuteTime": {
     "end_time": "2019-08-07T11:29:14.732728Z",
     "start_time": "2019-08-07T11:29:14.009968Z"
    }
   },
   "outputs": [],
   "source": [
    "import pandas as pd"
   ]
  },
  {
   "cell_type": "code",
   "execution_count": 5,
   "metadata": {
    "ExecuteTime": {
     "end_time": "2019-08-07T11:29:52.334492Z",
     "start_time": "2019-08-07T11:29:52.328178Z"
    }
   },
   "outputs": [],
   "source": [
    "l_gap_gefs = pd.read_csv('data-dropbox/List_gap_gefs - Sheet1.tsv', sep='\\t')['GENE NAME'].tolist()"
   ]
  },
  {
   "cell_type": "code",
   "execution_count": 9,
   "metadata": {
    "ExecuteTime": {
     "end_time": "2019-08-07T11:30:56.969871Z",
     "start_time": "2019-08-07T11:30:56.914647Z"
    }
   },
   "outputs": [
    {
     "name": "stdout",
     "output_type": "stream",
     "text": [
      "240\n"
     ]
    }
   ],
   "source": [
    "l_HOTSPOTS = set(pd.read_csv('data-dropbox/hotspots_v2 - SNV-hotspots.txt', sep='\\t')['Hugo_Symbol'])\n",
    "print(len(l_HOTSPOTS))"
   ]
  },
  {
   "cell_type": "code",
   "execution_count": null,
   "metadata": {},
   "outputs": [],
   "source": [
    "set()"
   ]
  }
 ],
 "metadata": {
  "kernelspec": {
   "display_name": "Python 3",
   "language": "python",
   "name": "python3"
  },
  "language_info": {
   "codemirror_mode": {
    "name": "ipython",
    "version": 3
   },
   "file_extension": ".py",
   "mimetype": "text/x-python",
   "name": "python",
   "nbconvert_exporter": "python",
   "pygments_lexer": "ipython3",
   "version": "3.7.3"
  }
 },
 "nbformat": 4,
 "nbformat_minor": 2
}
