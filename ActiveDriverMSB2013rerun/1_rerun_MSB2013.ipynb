{
 "cells": [
  {
   "cell_type": "code",
   "execution_count": 1,
   "metadata": {
    "ExecuteTime": {
     "end_time": "2019-08-07T15:20:41.900393Z",
     "start_time": "2019-08-07T15:20:41.830Z"
    }
   },
   "outputs": [],
   "source": [
    "# load library\n",
    "# http://reimandlab.org/software/activedriver/\n",
    "library(ActiveDriver)"
   ]
  },
  {
   "cell_type": "code",
   "execution_count": 10,
   "metadata": {
    "ExecuteTime": {
     "end_time": "2019-08-07T15:22:52.160350Z",
     "start_time": "2019-08-07T15:22:50.511Z"
    }
   },
   "outputs": [],
   "source": [
    "# load required datasets (.tab-files separated by spaces...ugh...)\n",
    "muts <- read.delim(\"all_mutations.tab\", sep=\" \")\n",
    "sites = read.delim(\"all_phosphosites.tab\", sep=\" \")\n",
    "seqs = read_fasta(\"all_proteins.fa\")\n",
    "disorder = read_fasta(\"disorder_all_proteins.fa\")"
   ]
  },
  {
   "cell_type": "code",
   "execution_count": 11,
   "metadata": {
    "ExecuteTime": {
     "end_time": "2019-08-07T16:10:59.207576Z",
     "start_time": "2019-08-07T15:22:52.928Z"
    }
   },
   "outputs": [
    {
     "name": "stdout",
     "output_type": "stream",
     "text": [
      "genes: 4025"
     ]
    },
    {
     "name": "stderr",
     "output_type": "stream",
     "text": [
      "Warning message:\n",
      "“glm.fit: fitted rates numerically 0 occurred”Warning message:\n",
      "“glm.fit: fitted rates numerically 0 occurred”Warning message:\n",
      "“glm.fit: fitted rates numerically 0 occurred”Warning message:\n",
      "“glm.fit: fitted rates numerically 0 occurred”Warning message:\n",
      "“glm.fit: fitted rates numerically 0 occurred”Warning message:\n",
      "“glm.fit: fitted rates numerically 0 occurred”Warning message:\n",
      "“glm.fit: fitted rates numerically 0 occurred”Warning message:\n",
      "“glm.fit: fitted rates numerically 0 occurred”Warning message:\n",
      "“glm.fit: fitted rates numerically 0 occurred”Warning message:\n",
      "“glm.fit: fitted rates numerically 0 occurred”Warning message:\n",
      "“glm.fit: fitted rates numerically 0 occurred”Warning message:\n",
      "“glm.fit: fitted rates numerically 0 occurred”Warning message:\n",
      "“glm.fit: fitted rates numerically 0 occurred”Warning message:\n",
      "“glm.fit: fitted rates numerically 0 occurred”Warning message:\n",
      "“glm.fit: fitted rates numerically 0 occurred”"
     ]
    },
    {
     "name": "stdout",
     "output_type": "stream",
     "text": [
      "."
     ]
    },
    {
     "name": "stderr",
     "output_type": "stream",
     "text": [
      "Warning message:\n",
      "“glm.fit: fitted rates numerically 0 occurred”"
     ]
    },
    {
     "name": "stdout",
     "output_type": "stream",
     "text": [
      "."
     ]
    },
    {
     "name": "stderr",
     "output_type": "stream",
     "text": [
      "Warning message:\n",
      "“glm.fit: fitted rates numerically 0 occurred”Warning message:\n",
      "“glm.fit: fitted rates numerically 0 occurred”"
     ]
    },
    {
     "name": "stdout",
     "output_type": "stream",
     "text": [
      "."
     ]
    },
    {
     "name": "stderr",
     "output_type": "stream",
     "text": [
      "Warning message:\n",
      "“glm.fit: fitted rates numerically 0 occurred”Warning message:\n",
      "“glm.fit: fitted rates numerically 0 occurred”"
     ]
    },
    {
     "name": "stdout",
     "output_type": "stream",
     "text": [
      "."
     ]
    },
    {
     "name": "stderr",
     "output_type": "stream",
     "text": [
      "Warning message:\n",
      "“glm.fit: fitted rates numerically 0 occurred”"
     ]
    },
    {
     "name": "stdout",
     "output_type": "stream",
     "text": [
      "."
     ]
    },
    {
     "name": "stderr",
     "output_type": "stream",
     "text": [
      "Warning message:\n",
      "“glm.fit: fitted rates numerically 0 occurred”Warning message:\n",
      "“glm.fit: fitted rates numerically 0 occurred”Warning message:\n",
      "“glm.fit: fitted rates numerically 0 occurred”Warning message:\n",
      "“glm.fit: fitted rates numerically 0 occurred”Warning message:\n",
      "“glm.fit: fitted rates numerically 0 occurred”Warning message:\n",
      "“glm.fit: fitted rates numerically 0 occurred”Warning message:\n",
      "“glm.fit: fitted rates numerically 0 occurred”"
     ]
    },
    {
     "name": "stdout",
     "output_type": "stream",
     "text": [
      "."
     ]
    },
    {
     "name": "stderr",
     "output_type": "stream",
     "text": [
      "Warning message:\n",
      "“glm.fit: fitted rates numerically 0 occurred”Warning message:\n",
      "“glm.fit: fitted rates numerically 0 occurred”Warning message:\n",
      "“glm.fit: fitted rates numerically 0 occurred”Warning message:\n",
      "“glm.fit: fitted rates numerically 0 occurred”Warning message:\n",
      "“glm.fit: fitted rates numerically 0 occurred”Warning message:\n",
      "“glm.fit: fitted rates numerically 0 occurred”"
     ]
    },
    {
     "name": "stdout",
     "output_type": "stream",
     "text": [
      "."
     ]
    },
    {
     "name": "stderr",
     "output_type": "stream",
     "text": [
      "Warning message:\n",
      "“glm.fit: fitted rates numerically 0 occurred”Warning message:\n",
      "“glm.fit: fitted rates numerically 0 occurred”Warning message:\n",
      "“glm.fit: fitted rates numerically 0 occurred”Warning message:\n",
      "“glm.fit: fitted rates numerically 0 occurred”Warning message:\n",
      "“glm.fit: fitted rates numerically 0 occurred”Warning message:\n",
      "“glm.fit: fitted rates numerically 0 occurred”Warning message:\n",
      "“glm.fit: fitted rates numerically 0 occurred”"
     ]
    },
    {
     "name": "stdout",
     "output_type": "stream",
     "text": [
      "."
     ]
    },
    {
     "name": "stderr",
     "output_type": "stream",
     "text": [
      "Warning message:\n",
      "“glm.fit: fitted rates numerically 0 occurred”Warning message:\n",
      "“glm.fit: fitted rates numerically 0 occurred”Warning message:\n",
      "“glm.fit: fitted rates numerically 0 occurred”Warning message:\n",
      "“glm.fit: fitted rates numerically 0 occurred”Warning message:\n",
      "“glm.fit: fitted rates numerically 0 occurred”Warning message:\n",
      "“glm.fit: fitted rates numerically 0 occurred”"
     ]
    },
    {
     "name": "stdout",
     "output_type": "stream",
     "text": [
      "."
     ]
    },
    {
     "name": "stderr",
     "output_type": "stream",
     "text": [
      "Warning message:\n",
      "“glm.fit: fitted rates numerically 0 occurred”Warning message:\n",
      "“glm.fit: fitted rates numerically 0 occurred”"
     ]
    },
    {
     "name": "stdout",
     "output_type": "stream",
     "text": [
      "."
     ]
    },
    {
     "name": "stderr",
     "output_type": "stream",
     "text": [
      "Warning message:\n",
      "“glm.fit: fitted rates numerically 0 occurred”Warning message:\n",
      "“glm.fit: fitted rates numerically 0 occurred”Warning message:\n",
      "“glm.fit: fitted rates numerically 0 occurred”Warning message:\n",
      "“glm.fit: fitted rates numerically 0 occurred”Warning message:\n",
      "“glm.fit: fitted rates numerically 0 occurred”Warning message:\n",
      "“glm.fit: fitted rates numerically 0 occurred”Warning message:\n",
      "“glm.fit: fitted rates numerically 0 occurred”Warning message:\n",
      "“glm.fit: fitted rates numerically 0 occurred”Warning message:\n",
      "“glm.fit: fitted rates numerically 0 occurred”"
     ]
    },
    {
     "name": "stdout",
     "output_type": "stream",
     "text": [
      ".."
     ]
    },
    {
     "name": "stderr",
     "output_type": "stream",
     "text": [
      "Warning message:\n",
      "“glm.fit: fitted rates numerically 0 occurred”Warning message:\n",
      "“glm.fit: fitted rates numerically 0 occurred”Warning message:\n",
      "“glm.fit: fitted rates numerically 0 occurred”Warning message:\n",
      "“glm.fit: fitted rates numerically 0 occurred”Warning message:\n",
      "“glm.fit: fitted rates numerically 0 occurred”Warning message:\n",
      "“glm.fit: fitted rates numerically 0 occurred”Warning message:\n",
      "“glm.fit: fitted rates numerically 0 occurred”Warning message:\n",
      "“glm.fit: fitted rates numerically 0 occurred”"
     ]
    },
    {
     "name": "stdout",
     "output_type": "stream",
     "text": [
      "."
     ]
    },
    {
     "name": "stderr",
     "output_type": "stream",
     "text": [
      "Warning message:\n",
      "“glm.fit: fitted rates numerically 0 occurred”Warning message:\n",
      "“glm.fit: fitted rates numerically 0 occurred”Warning message:\n",
      "“glm.fit: fitted rates numerically 0 occurred”Warning message:\n",
      "“glm.fit: fitted rates numerically 0 occurred”Warning message:\n",
      "“glm.fit: fitted rates numerically 0 occurred”Warning message:\n",
      "“glm.fit: fitted rates numerically 0 occurred”"
     ]
    },
    {
     "name": "stdout",
     "output_type": "stream",
     "text": [
      "."
     ]
    },
    {
     "name": "stderr",
     "output_type": "stream",
     "text": [
      "Warning message:\n",
      "“glm.fit: fitted rates numerically 0 occurred”Warning message:\n",
      "“glm.fit: fitted rates numerically 0 occurred”Warning message:\n",
      "“glm.fit: fitted rates numerically 0 occurred”Warning message:\n",
      "“glm.fit: fitted rates numerically 0 occurred”Warning message:\n",
      "“glm.fit: fitted rates numerically 0 occurred”Warning message:\n",
      "“glm.fit: fitted rates numerically 0 occurred”Warning message:\n",
      "“glm.fit: fitted rates numerically 0 occurred”Warning message:\n",
      "“glm.fit: fitted rates numerically 0 occurred”Warning message:\n",
      "“glm.fit: fitted rates numerically 0 occurred”Warning message:\n",
      "“glm.fit: fitted rates numerically 0 occurred”"
     ]
    },
    {
     "name": "stdout",
     "output_type": "stream",
     "text": [
      "."
     ]
    },
    {
     "name": "stderr",
     "output_type": "stream",
     "text": [
      "Warning message:\n",
      "“glm.fit: fitted rates numerically 0 occurred”Warning message:\n",
      "“glm.fit: fitted rates numerically 0 occurred”Warning message:\n",
      "“glm.fit: fitted rates numerically 0 occurred”Warning message:\n",
      "“glm.fit: fitted rates numerically 0 occurred”"
     ]
    },
    {
     "name": "stdout",
     "output_type": "stream",
     "text": [
      "."
     ]
    },
    {
     "name": "stderr",
     "output_type": "stream",
     "text": [
      "Warning message:\n",
      "“glm.fit: fitted rates numerically 0 occurred”Warning message:\n",
      "“glm.fit: fitted rates numerically 0 occurred”Warning message:\n",
      "“glm.fit: fitted rates numerically 0 occurred”Warning message:\n",
      "“glm.fit: fitted rates numerically 0 occurred”Warning message:\n",
      "“glm.fit: fitted rates numerically 0 occurred”Warning message:\n",
      "“glm.fit: fitted rates numerically 0 occurred”Warning message:\n",
      "“glm.fit: fitted rates numerically 0 occurred”"
     ]
    },
    {
     "name": "stdout",
     "output_type": "stream",
     "text": [
      ".."
     ]
    },
    {
     "name": "stderr",
     "output_type": "stream",
     "text": [
      "Warning message:\n",
      "“glm.fit: fitted rates numerically 0 occurred”Warning message:\n",
      "“glm.fit: fitted rates numerically 0 occurred”Warning message:\n",
      "“glm.fit: fitted rates numerically 0 occurred”Warning message:\n",
      "“glm.fit: fitted rates numerically 0 occurred”Warning message:\n",
      "“glm.fit: fitted rates numerically 0 occurred”"
     ]
    },
    {
     "name": "stdout",
     "output_type": "stream",
     "text": [
      "."
     ]
    },
    {
     "name": "stderr",
     "output_type": "stream",
     "text": [
      "Warning message:\n",
      "“glm.fit: fitted rates numerically 0 occurred”Warning message:\n",
      "“glm.fit: fitted rates numerically 0 occurred”Warning message:\n",
      "“glm.fit: fitted rates numerically 0 occurred”Warning message:\n",
      "“glm.fit: fitted rates numerically 0 occurred”Warning message:\n",
      "“glm.fit: fitted rates numerically 0 occurred”Warning message:\n",
      "“glm.fit: fitted rates numerically 0 occurred”Warning message:\n",
      "“glm.fit: fitted rates numerically 0 occurred”"
     ]
    },
    {
     "name": "stdout",
     "output_type": "stream",
     "text": [
      "."
     ]
    },
    {
     "name": "stderr",
     "output_type": "stream",
     "text": [
      "Warning message:\n",
      "“glm.fit: fitted rates numerically 0 occurred”Warning message:\n",
      "“glm.fit: fitted rates numerically 0 occurred”"
     ]
    },
    {
     "name": "stdout",
     "output_type": "stream",
     "text": [
      "."
     ]
    },
    {
     "name": "stderr",
     "output_type": "stream",
     "text": [
      "Warning message:\n",
      "“glm.fit: fitted rates numerically 0 occurred”Warning message:\n",
      "“glm.fit: fitted rates numerically 0 occurred”Warning message:\n",
      "“glm.fit: fitted rates numerically 0 occurred”Warning message:\n",
      "“glm.fit: fitted rates numerically 0 occurred”Warning message:\n",
      "“glm.fit: fitted rates numerically 0 occurred”Warning message:\n",
      "“glm.fit: fitted rates numerically 0 occurred”"
     ]
    },
    {
     "name": "stdout",
     "output_type": "stream",
     "text": [
      "."
     ]
    },
    {
     "name": "stderr",
     "output_type": "stream",
     "text": [
      "Warning message:\n",
      "“glm.fit: fitted rates numerically 0 occurred”Warning message:\n",
      "“glm.fit: fitted rates numerically 0 occurred”Warning message:\n",
      "“glm.fit: fitted rates numerically 0 occurred”Warning message:\n",
      "“glm.fit: fitted rates numerically 0 occurred”Warning message:\n",
      "“glm.fit: fitted rates numerically 0 occurred”Warning message:\n",
      "“glm.fit: fitted rates numerically 0 occurred”Warning message:\n",
      "“glm.fit: fitted rates numerically 0 occurred”Warning message:\n",
      "“glm.fit: fitted rates numerically 0 occurred”Warning message:\n",
      "“glm.fit: fitted rates numerically 0 occurred”Warning message:\n",
      "“glm.fit: fitted rates numerically 0 occurred”Warning message:\n",
      "“glm.fit: fitted rates numerically 0 occurred”Warning message:\n",
      "“glm.fit: fitted rates numerically 0 occurred”Warning message:\n",
      "“glm.fit: fitted rates numerically 0 occurred”Warning message:\n",
      "“glm.fit: fitted rates numerically 0 occurred”Warning message:\n",
      "“glm.fit: fitted rates numerically 0 occurred”Warning message:\n",
      "“glm.fit: fitted rates numerically 0 occurred”Warning message:\n",
      "“glm.fit: fitted rates numerically 0 occurred”Warning message:\n",
      "“glm.fit: fitted rates numerically 0 occurred”Warning message:\n",
      "“glm.fit: fitted rates numerically 0 occurred”Warning message:\n",
      "“glm.fit: fitted rates numerically 0 occurred”Warning message:\n",
      "“glm.fit: fitted rates numerically 0 occurred”Warning message:\n",
      "“glm.fit: fitted rates numerically 0 occurred”"
     ]
    },
    {
     "name": "stdout",
     "output_type": "stream",
     "text": [
      "...."
     ]
    },
    {
     "name": "stderr",
     "output_type": "stream",
     "text": [
      "Warning message:\n",
      "“glm.fit: fitted rates numerically 0 occurred”Warning message:\n",
      "“glm.fit: fitted rates numerically 0 occurred”Warning message:\n",
      "“glm.fit: fitted rates numerically 0 occurred”Warning message:\n",
      "“glm.fit: fitted rates numerically 0 occurred”Warning message:\n",
      "“glm.fit: fitted rates numerically 0 occurred”Warning message:\n",
      "“glm.fit: fitted rates numerically 0 occurred”Warning message:\n",
      "“glm.fit: fitted rates numerically 0 occurred”Warning message:\n",
      "“glm.fit: fitted rates numerically 0 occurred”Warning message:\n",
      "“glm.fit: fitted rates numerically 0 occurred”Warning message:\n",
      "“glm.fit: fitted rates numerically 0 occurred”Warning message:\n",
      "“glm.fit: fitted rates numerically 0 occurred”Warning message:\n",
      "“glm.fit: fitted rates numerically 0 occurred”Warning message:\n",
      "“glm.fit: fitted rates numerically 0 occurred”Warning message:\n",
      "“glm.fit: fitted rates numerically 0 occurred”Warning message:\n",
      "“glm.fit: fitted rates numerically 0 occurred”Warning message:\n",
      "“glm.fit: fitted rates numerically 0 occurred”Warning message:\n",
      "“glm.fit: fitted rates numerically 0 occurred”Warning message:\n",
      "“glm.fit: fitted rates numerically 0 occurred”"
     ]
    },
    {
     "name": "stdout",
     "output_type": "stream",
     "text": [
      "."
     ]
    },
    {
     "name": "stderr",
     "output_type": "stream",
     "text": [
      "Warning message:\n",
      "“glm.fit: fitted rates numerically 0 occurred”Warning message:\n",
      "“glm.fit: fitted rates numerically 0 occurred”"
     ]
    },
    {
     "name": "stdout",
     "output_type": "stream",
     "text": [
      "."
     ]
    },
    {
     "name": "stderr",
     "output_type": "stream",
     "text": [
      "Warning message:\n",
      "“glm.fit: fitted rates numerically 0 occurred”Warning message:\n",
      "“glm.fit: fitted rates numerically 0 occurred”Warning message:\n",
      "“glm.fit: fitted rates numerically 0 occurred”"
     ]
    },
    {
     "name": "stdout",
     "output_type": "stream",
     "text": [
      "."
     ]
    },
    {
     "name": "stderr",
     "output_type": "stream",
     "text": [
      "Warning message:\n",
      "“glm.fit: fitted rates numerically 0 occurred”Warning message:\n",
      "“glm.fit: fitted rates numerically 0 occurred”Warning message:\n",
      "“glm.fit: fitted rates numerically 0 occurred”"
     ]
    },
    {
     "name": "stdout",
     "output_type": "stream",
     "text": [
      ".."
     ]
    },
    {
     "name": "stderr",
     "output_type": "stream",
     "text": [
      "Warning message:\n",
      "“glm.fit: fitted rates numerically 0 occurred”Warning message:\n",
      "“glm.fit: fitted rates numerically 0 occurred”Warning message:\n",
      "“glm.fit: fitted rates numerically 0 occurred”Warning message:\n",
      "“glm.fit: fitted rates numerically 0 occurred”Warning message:\n",
      "“glm.fit: fitted rates numerically 0 occurred”Warning message:\n",
      "“glm.fit: fitted rates numerically 0 occurred”Warning message:\n",
      "“glm.fit: fitted rates numerically 0 occurred”Warning message:\n",
      "“glm.fit: fitted rates numerically 0 occurred”Warning message:\n",
      "“glm.fit: fitted rates numerically 0 occurred”Warning message:\n",
      "“glm.fit: fitted rates numerically 0 occurred”Warning message:\n",
      "“glm.fit: fitted rates numerically 0 occurred”"
     ]
    },
    {
     "name": "stdout",
     "output_type": "stream",
     "text": [
      "."
     ]
    },
    {
     "name": "stderr",
     "output_type": "stream",
     "text": [
      "Warning message:\n",
      "“glm.fit: fitted rates numerically 0 occurred”Warning message:\n",
      "“glm.fit: fitted rates numerically 0 occurred”"
     ]
    },
    {
     "name": "stdout",
     "output_type": "stream",
     "text": [
      "."
     ]
    },
    {
     "name": "stderr",
     "output_type": "stream",
     "text": [
      "Warning message:\n",
      "“glm.fit: fitted rates numerically 0 occurred”Warning message:\n",
      "“glm.fit: fitted rates numerically 0 occurred”Warning message:\n",
      "“glm.fit: fitted rates numerically 0 occurred”Warning message:\n",
      "“glm.fit: fitted rates numerically 0 occurred”Warning message:\n",
      "“glm.fit: fitted rates numerically 0 occurred”Warning message:\n",
      "“glm.fit: fitted rates numerically 0 occurred”Warning message:\n",
      "“glm.fit: fitted rates numerically 0 occurred”Warning message:\n",
      "“glm.fit: fitted rates numerically 0 occurred”Warning message:\n",
      "“glm.fit: fitted rates numerically 0 occurred”Warning message:\n",
      "“glm.fit: fitted rates numerically 0 occurred”Warning message:\n",
      "“glm.fit: fitted rates numerically 0 occurred”Warning message:\n",
      "“glm.fit: fitted rates numerically 0 occurred”Warning message:\n",
      "“glm.fit: fitted rates numerically 0 occurred”Warning message:\n",
      "“glm.fit: fitted rates numerically 0 occurred”Warning message:\n",
      "“glm.fit: fitted rates numerically 0 occurred”"
     ]
    },
    {
     "name": "stdout",
     "output_type": "stream",
     "text": [
      "......"
     ]
    },
    {
     "name": "stderr",
     "output_type": "stream",
     "text": [
      "Warning message:\n",
      "“glm.fit: fitted rates numerically 0 occurred”Warning message:\n",
      "“glm.fit: fitted rates numerically 0 occurred”Warning message:\n",
      "“glm.fit: fitted rates numerically 0 occurred”Warning message:\n",
      "“glm.fit: fitted rates numerically 0 occurred”Warning message:\n",
      "“glm.fit: fitted rates numerically 0 occurred”Warning message:\n",
      "“glm.fit: algorithm did not converge”Warning message:\n",
      "“glm.fit: fitted rates numerically 0 occurred”Warning message:\n",
      "“glm.fit: algorithm did not converge”Warning message:\n",
      "“glm.fit: fitted rates numerically 0 occurred”Warning message:\n",
      "“glm.fit: algorithm did not converge”Warning message:\n",
      "“glm.fit: fitted rates numerically 0 occurred”Warning message:\n",
      "“glm.fit: algorithm did not converge”Warning message:\n",
      "“glm.fit: fitted rates numerically 0 occurred”Warning message:\n",
      "“glm.fit: fitted rates numerically 0 occurred”Warning message:\n",
      "“glm.fit: fitted rates numerically 0 occurred”Warning message:\n",
      "“glm.fit: fitted rates numerically 0 occurred”Warning message:\n",
      "“glm.fit: fitted rates numerically 0 occurred”Warning message:\n",
      "“glm.fit: fitted rates numerically 0 occurred”Warning message:\n",
      "“glm.fit: fitted rates numerically 0 occurred”Warning message:\n",
      "“glm.fit: fitted rates numerically 0 occurred”Warning message:\n",
      "“glm.fit: fitted rates numerically 0 occurred”Warning message:\n",
      "“glm.fit: fitted rates numerically 0 occurred”Warning message:\n",
      "“glm.fit: fitted rates numerically 0 occurred”Warning message:\n",
      "“glm.fit: fitted rates numerically 0 occurred”Warning message:\n",
      "“glm.fit: fitted rates numerically 0 occurred”Warning message:\n",
      "“glm.fit: fitted rates numerically 0 occurred”Warning message:\n",
      "“glm.fit: fitted rates numerically 0 occurred”Warning message:\n",
      "“glm.fit: fitted rates numerically 0 occurred”"
     ]
    },
    {
     "name": "stdout",
     "output_type": "stream",
     "text": [
      "."
     ]
    },
    {
     "name": "stderr",
     "output_type": "stream",
     "text": [
      "Warning message:\n",
      "“glm.fit: fitted rates numerically 0 occurred”Warning message:\n",
      "“glm.fit: fitted rates numerically 0 occurred”Warning message:\n",
      "“glm.fit: fitted rates numerically 0 occurred”Warning message:\n",
      "“glm.fit: fitted rates numerically 0 occurred”Warning message:\n",
      "“glm.fit: fitted rates numerically 0 occurred”Warning message:\n",
      "“glm.fit: fitted rates numerically 0 occurred”Warning message:\n",
      "“glm.fit: fitted rates numerically 0 occurred”Warning message:\n",
      "“glm.fit: fitted rates numerically 0 occurred”Warning message:\n",
      "“glm.fit: fitted rates numerically 0 occurred”Warning message:\n",
      "“glm.fit: fitted rates numerically 0 occurred”Warning message:\n",
      "“glm.fit: fitted rates numerically 0 occurred”"
     ]
    },
    {
     "name": "stdout",
     "output_type": "stream",
     "text": [
      "."
     ]
    },
    {
     "name": "stderr",
     "output_type": "stream",
     "text": [
      "Warning message:\n",
      "“glm.fit: fitted rates numerically 0 occurred”Warning message:\n",
      "“glm.fit: fitted rates numerically 0 occurred”Warning message:\n",
      "“glm.fit: fitted rates numerically 0 occurred”Warning message:\n",
      "“glm.fit: fitted rates numerically 0 occurred”Warning message:\n",
      "“glm.fit: fitted rates numerically 0 occurred”Warning message:\n",
      "“glm.fit: fitted rates numerically 0 occurred”Warning message:\n",
      "“glm.fit: fitted rates numerically 0 occurred”Warning message:\n",
      "“glm.fit: fitted rates numerically 0 occurred”Warning message:\n",
      "“glm.fit: fitted rates numerically 0 occurred”Warning message:\n",
      "“glm.fit: fitted rates numerically 0 occurred”Warning message:\n",
      "“glm.fit: fitted rates numerically 0 occurred”Warning message:\n",
      "“glm.fit: fitted rates numerically 0 occurred”Warning message:\n",
      "“glm.fit: fitted rates numerically 0 occurred”Warning message:\n",
      "“glm.fit: fitted rates numerically 0 occurred”Warning message:\n",
      "“glm.fit: fitted rates numerically 0 occurred”Warning message:\n",
      "“glm.fit: fitted rates numerically 0 occurred”Warning message:\n",
      "“glm.fit: fitted rates numerically 0 occurred”Warning message:\n",
      "“glm.fit: fitted rates numerically 0 occurred”Warning message:\n",
      "“glm.fit: fitted rates numerically 0 occurred”"
     ]
    },
    {
     "name": "stdout",
     "output_type": "stream",
     "text": [
      "....."
     ]
    },
    {
     "name": "stderr",
     "output_type": "stream",
     "text": [
      "Warning message:\n",
      "“glm.fit: fitted rates numerically 0 occurred”"
     ]
    },
    {
     "name": "stdout",
     "output_type": "stream",
     "text": [
      "."
     ]
    },
    {
     "name": "stderr",
     "output_type": "stream",
     "text": [
      "Warning message:\n",
      "“glm.fit: fitted rates numerically 0 occurred”Warning message:\n",
      "“glm.fit: fitted rates numerically 0 occurred”"
     ]
    },
    {
     "name": "stdout",
     "output_type": "stream",
     "text": [
      "."
     ]
    },
    {
     "name": "stderr",
     "output_type": "stream",
     "text": [
      "Warning message:\n",
      "“glm.fit: fitted rates numerically 0 occurred”Warning message:\n",
      "“glm.fit: fitted rates numerically 0 occurred”"
     ]
    },
    {
     "name": "stdout",
     "output_type": "stream",
     "text": [
      "..."
     ]
    },
    {
     "name": "stderr",
     "output_type": "stream",
     "text": [
      "Warning message:\n",
      "“glm.fit: fitted rates numerically 0 occurred”Warning message:\n",
      "“glm.fit: fitted rates numerically 0 occurred”Warning message:\n",
      "“glm.fit: fitted rates numerically 0 occurred”Warning message:\n",
      "“glm.fit: fitted rates numerically 0 occurred”Warning message:\n",
      "“glm.fit: fitted rates numerically 0 occurred”Warning message:\n",
      "“glm.fit: fitted rates numerically 0 occurred”Warning message:\n",
      "“glm.fit: fitted rates numerically 0 occurred”Warning message:\n",
      "“glm.fit: fitted rates numerically 0 occurred”Warning message:\n",
      "“glm.fit: fitted rates numerically 0 occurred”Warning message:\n",
      "“glm.fit: fitted rates numerically 0 occurred”Warning message:\n",
      "“glm.fit: fitted rates numerically 0 occurred”Warning message:\n",
      "“glm.fit: fitted rates numerically 0 occurred”Warning message:\n",
      "“glm.fit: fitted rates numerically 0 occurred”Warning message:\n",
      "“glm.fit: fitted rates numerically 0 occurred”Warning message:\n",
      "“glm.fit: fitted rates numerically 0 occurred”Warning message:\n",
      "“glm.fit: fitted rates numerically 0 occurred”Warning message:\n",
      "“glm.fit: fitted rates numerically 0 occurred”Warning message:\n",
      "“glm.fit: fitted rates numerically 0 occurred”"
     ]
    },
    {
     "name": "stdout",
     "output_type": "stream",
     "text": [
      "."
     ]
    },
    {
     "name": "stderr",
     "output_type": "stream",
     "text": [
      "Warning message:\n",
      "“glm.fit: fitted rates numerically 0 occurred”Warning message:\n",
      "“glm.fit: fitted rates numerically 0 occurred”Warning message:\n",
      "“glm.fit: fitted rates numerically 0 occurred”"
     ]
    },
    {
     "name": "stdout",
     "output_type": "stream",
     "text": [
      "."
     ]
    },
    {
     "name": "stderr",
     "output_type": "stream",
     "text": [
      "Warning message:\n",
      "“glm.fit: fitted rates numerically 0 occurred”Warning message:\n",
      "“glm.fit: fitted rates numerically 0 occurred”Warning message:\n",
      "“glm.fit: fitted rates numerically 0 occurred”"
     ]
    },
    {
     "name": "stdout",
     "output_type": "stream",
     "text": [
      ".."
     ]
    },
    {
     "name": "stderr",
     "output_type": "stream",
     "text": [
      "Warning message:\n",
      "“glm.fit: fitted rates numerically 0 occurred”Warning message:\n",
      "“glm.fit: fitted rates numerically 0 occurred”"
     ]
    },
    {
     "name": "stdout",
     "output_type": "stream",
     "text": [
      "."
     ]
    },
    {
     "name": "stderr",
     "output_type": "stream",
     "text": [
      "Warning message:\n",
      "“glm.fit: fitted rates numerically 0 occurred”Warning message:\n",
      "“glm.fit: fitted rates numerically 0 occurred”Warning message:\n",
      "“glm.fit: fitted rates numerically 0 occurred”Warning message:\n",
      "“glm.fit: fitted rates numerically 0 occurred”Warning message:\n",
      "“glm.fit: fitted rates numerically 0 occurred”Warning message:\n",
      "“glm.fit: fitted rates numerically 0 occurred”Warning message:\n",
      "“glm.fit: fitted rates numerically 0 occurred”Warning message:\n",
      "“glm.fit: fitted rates numerically 0 occurred”Warning message:\n",
      "“glm.fit: fitted rates numerically 0 occurred”Warning message:\n",
      "“glm.fit: fitted rates numerically 0 occurred”"
     ]
    },
    {
     "name": "stdout",
     "output_type": "stream",
     "text": [
      "."
     ]
    },
    {
     "name": "stderr",
     "output_type": "stream",
     "text": [
      "Warning message:\n",
      "“glm.fit: fitted rates numerically 0 occurred”Warning message:\n",
      "“glm.fit: fitted rates numerically 0 occurred”Warning message:\n",
      "“glm.fit: fitted rates numerically 0 occurred”Warning message:\n",
      "“glm.fit: fitted rates numerically 0 occurred”"
     ]
    },
    {
     "name": "stdout",
     "output_type": "stream",
     "text": [
      "."
     ]
    },
    {
     "name": "stderr",
     "output_type": "stream",
     "text": [
      "Warning message:\n",
      "“glm.fit: fitted rates numerically 0 occurred”Warning message:\n",
      "“glm.fit: fitted rates numerically 0 occurred”"
     ]
    },
    {
     "name": "stdout",
     "output_type": "stream",
     "text": [
      "..."
     ]
    },
    {
     "name": "stderr",
     "output_type": "stream",
     "text": [
      "Warning message:\n",
      "“glm.fit: fitted rates numerically 0 occurred”Warning message:\n",
      "“glm.fit: fitted rates numerically 0 occurred”Warning message:\n",
      "“glm.fit: fitted rates numerically 0 occurred”Warning message:\n",
      "“glm.fit: fitted rates numerically 0 occurred”Warning message:\n",
      "“glm.fit: fitted rates numerically 0 occurred”Warning message:\n",
      "“glm.fit: fitted rates numerically 0 occurred”Warning message:\n",
      "“glm.fit: fitted rates numerically 0 occurred”Warning message:\n",
      "“glm.fit: fitted rates numerically 0 occurred”Warning message:\n",
      "“glm.fit: fitted rates numerically 0 occurred”Warning message:\n",
      "“glm.fit: fitted rates numerically 0 occurred”Warning message:\n",
      "“glm.fit: fitted rates numerically 0 occurred”Warning message:\n",
      "“glm.fit: fitted rates numerically 0 occurred”Warning message:\n",
      "“glm.fit: fitted rates numerically 0 occurred”Warning message:\n",
      "“glm.fit: fitted rates numerically 0 occurred”Warning message:\n",
      "“glm.fit: fitted rates numerically 0 occurred”Warning message:\n",
      "“glm.fit: fitted rates numerically 0 occurred”Warning message:\n",
      "“glm.fit: fitted rates numerically 0 occurred”Warning message:\n",
      "“glm.fit: fitted rates numerically 0 occurred”Warning message:\n",
      "“glm.fit: fitted rates numerically 0 occurred”Warning message:\n",
      "“glm.fit: fitted rates numerically 0 occurred”Warning message:\n",
      "“glm.fit: fitted rates numerically 0 occurred”Warning message:\n",
      "“glm.fit: fitted rates numerically 0 occurred”Warning message:\n",
      "“glm.fit: fitted rates numerically 0 occurred”Warning message:\n",
      "“glm.fit: fitted rates numerically 0 occurred”Warning message:\n",
      "“glm.fit: fitted rates numerically 0 occurred”Warning message:\n",
      "“glm.fit: fitted rates numerically 0 occurred”Warning message:\n",
      "“glm.fit: fitted rates numerically 0 occurred”Warning message:\n",
      "“glm.fit: fitted rates numerically 0 occurred”Warning message:\n",
      "“glm.fit: fitted rates numerically 0 occurred”Warning message:\n",
      "“glm.fit: fitted rates numerically 0 occurred”Warning message:\n",
      "“glm.fit: fitted rates numerically 0 occurred”Warning message:\n",
      "“glm.fit: fitted rates numerically 0 occurred”Warning message:\n",
      "“glm.fit: fitted rates numerically 0 occurred”"
     ]
    },
    {
     "name": "stdout",
     "output_type": "stream",
     "text": [
      "."
     ]
    },
    {
     "name": "stderr",
     "output_type": "stream",
     "text": [
      "Warning message:\n",
      "“glm.fit: fitted rates numerically 0 occurred”Warning message:\n",
      "“glm.fit: fitted rates numerically 0 occurred”"
     ]
    },
    {
     "name": "stdout",
     "output_type": "stream",
     "text": [
      "."
     ]
    },
    {
     "name": "stderr",
     "output_type": "stream",
     "text": [
      "Warning message:\n",
      "“glm.fit: fitted rates numerically 0 occurred”Warning message:\n",
      "“glm.fit: fitted rates numerically 0 occurred”Warning message:\n",
      "“glm.fit: fitted rates numerically 0 occurred”Warning message:\n",
      "“glm.fit: fitted rates numerically 0 occurred”Warning message:\n",
      "“glm.fit: fitted rates numerically 0 occurred”Warning message:\n",
      "“glm.fit: fitted rates numerically 0 occurred”Warning message:\n",
      "“glm.fit: fitted rates numerically 0 occurred”Warning message:\n",
      "“glm.fit: fitted rates numerically 0 occurred”Warning message:\n",
      "“glm.fit: fitted rates numerically 0 occurred”Warning message:\n",
      "“glm.fit: fitted rates numerically 0 occurred”Warning message:\n",
      "“glm.fit: fitted rates numerically 0 occurred”Warning message:\n",
      "“glm.fit: fitted rates numerically 0 occurred”Warning message:\n",
      "“glm.fit: fitted rates numerically 0 occurred”Warning message:\n",
      "“glm.fit: fitted rates numerically 0 occurred”Warning message:\n",
      "“glm.fit: fitted rates numerically 0 occurred”Warning message:\n",
      "“glm.fit: fitted rates numerically 0 occurred”Warning message:\n",
      "“glm.fit: fitted rates numerically 0 occurred”Warning message:\n",
      "“glm.fit: fitted rates numerically 0 occurred”Warning message:\n",
      "“glm.fit: fitted rates numerically 0 occurred”Warning message:\n",
      "“glm.fit: fitted rates numerically 0 occurred”Warning message:\n",
      "“glm.fit: fitted rates numerically 0 occurred”Warning message:\n",
      "“glm.fit: fitted rates numerically 0 occurred”Warning message:\n",
      "“glm.fit: fitted rates numerically 0 occurred”Warning message:\n",
      "“glm.fit: fitted rates numerically 0 occurred”Warning message:\n",
      "“glm.fit: fitted rates numerically 0 occurred”Warning message:\n",
      "“glm.fit: fitted rates numerically 0 occurred”Warning message:\n",
      "“glm.fit: fitted rates numerically 0 occurred”Warning message:\n",
      "“glm.fit: fitted rates numerically 0 occurred”Warning message:\n",
      "“glm.fit: fitted rates numerically 0 occurred”Warning message:\n",
      "“glm.fit: fitted rates numerically 0 occurred”Warning message:\n",
      "“glm.fit: fitted rates numerically 0 occurred”Warning message:\n",
      "“glm.fit: fitted rates numerically 0 occurred”Warning message:\n",
      "“glm.fit: fitted rates numerically 0 occurred”Warning message:\n",
      "“glm.fit: fitted rates numerically 0 occurred”Warning message:\n",
      "“glm.fit: fitted rates numerically 0 occurred”"
     ]
    },
    {
     "name": "stdout",
     "output_type": "stream",
     "text": [
      ".."
     ]
    },
    {
     "name": "stderr",
     "output_type": "stream",
     "text": [
      "Warning message:\n",
      "“glm.fit: fitted rates numerically 0 occurred”Warning message:\n",
      "“glm.fit: fitted rates numerically 0 occurred”Warning message:\n",
      "“glm.fit: fitted rates numerically 0 occurred”"
     ]
    },
    {
     "name": "stdout",
     "output_type": "stream",
     "text": [
      "..."
     ]
    },
    {
     "name": "stderr",
     "output_type": "stream",
     "text": [
      "Warning message:\n",
      "“glm.fit: fitted rates numerically 0 occurred”Warning message:\n",
      "“glm.fit: fitted rates numerically 0 occurred”Warning message:\n",
      "“glm.fit: fitted rates numerically 0 occurred”Warning message:\n",
      "“glm.fit: fitted rates numerically 0 occurred”Warning message:\n",
      "“glm.fit: fitted rates numerically 0 occurred”Warning message:\n",
      "“glm.fit: fitted rates numerically 0 occurred”Warning message:\n",
      "“glm.fit: fitted rates numerically 0 occurred”Warning message:\n",
      "“glm.fit: fitted rates numerically 0 occurred”Warning message:\n",
      "“glm.fit: fitted rates numerically 0 occurred”Warning message:\n",
      "“glm.fit: fitted rates numerically 0 occurred”Warning message:\n",
      "“glm.fit: fitted rates numerically 0 occurred”Warning message:\n",
      "“glm.fit: fitted rates numerically 0 occurred”Warning message:\n",
      "“glm.fit: fitted rates numerically 0 occurred”Warning message:\n",
      "“glm.fit: algorithm did not converge”Warning message:\n",
      "“glm.fit: fitted rates numerically 0 occurred”Warning message:\n",
      "“glm.fit: algorithm did not converge”Warning message:\n",
      "“glm.fit: fitted rates numerically 0 occurred”Warning message:\n",
      "“glm.fit: algorithm did not converge”Warning message:\n",
      "“glm.fit: fitted rates numerically 0 occurred”Warning message:\n",
      "“glm.fit: algorithm did not converge”Warning message:\n",
      "“glm.fit: fitted rates numerically 0 occurred”Warning message:\n",
      "“glm.fit: algorithm did not converge”Warning message:\n",
      "“glm.fit: fitted rates numerically 0 occurred”Warning message:\n",
      "“glm.fit: algorithm did not converge”Warning message:\n",
      "“glm.fit: fitted rates numerically 0 occurred”"
     ]
    },
    {
     "name": "stdout",
     "output_type": "stream",
     "text": [
      "."
     ]
    },
    {
     "name": "stderr",
     "output_type": "stream",
     "text": [
      "Warning message:\n",
      "“glm.fit: fitted rates numerically 0 occurred”Warning message:\n",
      "“glm.fit: fitted rates numerically 0 occurred”Warning message:\n",
      "“glm.fit: fitted rates numerically 0 occurred”Warning message:\n",
      "“glm.fit: fitted rates numerically 0 occurred”Warning message:\n",
      "“glm.fit: fitted rates numerically 0 occurred”"
     ]
    },
    {
     "name": "stdout",
     "output_type": "stream",
     "text": [
      ".."
     ]
    },
    {
     "name": "stderr",
     "output_type": "stream",
     "text": [
      "Warning message:\n",
      "“glm.fit: fitted rates numerically 0 occurred”Warning message:\n",
      "“glm.fit: fitted rates numerically 0 occurred”Warning message:\n",
      "“glm.fit: fitted rates numerically 0 occurred”Warning message:\n",
      "“glm.fit: fitted rates numerically 0 occurred”"
     ]
    },
    {
     "name": "stdout",
     "output_type": "stream",
     "text": [
      ".."
     ]
    },
    {
     "name": "stderr",
     "output_type": "stream",
     "text": [
      "Warning message:\n",
      "“glm.fit: fitted rates numerically 0 occurred”"
     ]
    },
    {
     "name": "stdout",
     "output_type": "stream",
     "text": [
      "."
     ]
    },
    {
     "name": "stderr",
     "output_type": "stream",
     "text": [
      "Warning message:\n",
      "“glm.fit: fitted rates numerically 0 occurred”Warning message:\n",
      "“glm.fit: fitted rates numerically 0 occurred”Warning message:\n",
      "“glm.fit: fitted rates numerically 0 occurred”Warning message:\n",
      "“glm.fit: fitted rates numerically 0 occurred”Warning message:\n",
      "“glm.fit: fitted rates numerically 0 occurred”Warning message:\n",
      "“glm.fit: fitted rates numerically 0 occurred”"
     ]
    },
    {
     "name": "stdout",
     "output_type": "stream",
     "text": [
      "."
     ]
    },
    {
     "name": "stderr",
     "output_type": "stream",
     "text": [
      "Warning message:\n",
      "“glm.fit: fitted rates numerically 0 occurred”Warning message:\n",
      "“glm.fit: fitted rates numerically 0 occurred”"
     ]
    },
    {
     "name": "stdout",
     "output_type": "stream",
     "text": [
      "."
     ]
    },
    {
     "name": "stderr",
     "output_type": "stream",
     "text": [
      "Warning message:\n",
      "“glm.fit: fitted rates numerically 0 occurred”Warning message:\n",
      "“glm.fit: fitted rates numerically 0 occurred”Warning message:\n",
      "“glm.fit: fitted rates numerically 0 occurred”Warning message:\n",
      "“glm.fit: fitted rates numerically 0 occurred”"
     ]
    },
    {
     "name": "stdout",
     "output_type": "stream",
     "text": [
      "."
     ]
    },
    {
     "name": "stderr",
     "output_type": "stream",
     "text": [
      "Warning message:\n",
      "“glm.fit: fitted rates numerically 0 occurred”Warning message:\n",
      "“glm.fit: fitted rates numerically 0 occurred”Warning message:\n",
      "“glm.fit: fitted rates numerically 0 occurred”Warning message:\n",
      "“glm.fit: fitted rates numerically 0 occurred”Warning message:\n",
      "“glm.fit: fitted rates numerically 0 occurred”Warning message:\n",
      "“glm.fit: fitted rates numerically 0 occurred”Warning message:\n",
      "“glm.fit: fitted rates numerically 0 occurred”"
     ]
    },
    {
     "name": "stdout",
     "output_type": "stream",
     "text": [
      "."
     ]
    },
    {
     "name": "stderr",
     "output_type": "stream",
     "text": [
      "Warning message:\n",
      "“glm.fit: fitted rates numerically 0 occurred”Warning message:\n",
      "“glm.fit: fitted rates numerically 0 occurred”Warning message:\n",
      "“glm.fit: fitted rates numerically 0 occurred”Warning message:\n",
      "“glm.fit: fitted rates numerically 0 occurred”"
     ]
    },
    {
     "name": "stdout",
     "output_type": "stream",
     "text": [
      "."
     ]
    },
    {
     "name": "stderr",
     "output_type": "stream",
     "text": [
      "Warning message:\n",
      "“glm.fit: fitted rates numerically 0 occurred”Warning message:\n",
      "“glm.fit: fitted rates numerically 0 occurred”"
     ]
    },
    {
     "name": "stdout",
     "output_type": "stream",
     "text": [
      "..."
     ]
    },
    {
     "name": "stderr",
     "output_type": "stream",
     "text": [
      "Warning message:\n",
      "“glm.fit: fitted rates numerically 0 occurred”"
     ]
    },
    {
     "name": "stdout",
     "output_type": "stream",
     "text": [
      "."
     ]
    },
    {
     "name": "stderr",
     "output_type": "stream",
     "text": [
      "Warning message:\n",
      "“glm.fit: fitted rates numerically 0 occurred”Warning message:\n",
      "“glm.fit: fitted rates numerically 0 occurred”Warning message:\n",
      "“glm.fit: fitted rates numerically 0 occurred”Warning message:\n",
      "“glm.fit: fitted rates numerically 0 occurred”Warning message:\n",
      "“glm.fit: fitted rates numerically 0 occurred”Warning message:\n",
      "“glm.fit: fitted rates numerically 0 occurred”"
     ]
    },
    {
     "name": "stdout",
     "output_type": "stream",
     "text": [
      "."
     ]
    },
    {
     "name": "stderr",
     "output_type": "stream",
     "text": [
      "Warning message:\n",
      "“glm.fit: fitted rates numerically 0 occurred”Warning message:\n",
      "“glm.fit: fitted rates numerically 0 occurred”Warning message:\n",
      "“glm.fit: fitted rates numerically 0 occurred”Warning message:\n",
      "“glm.fit: fitted rates numerically 0 occurred”"
     ]
    },
    {
     "name": "stdout",
     "output_type": "stream",
     "text": [
      ".."
     ]
    },
    {
     "name": "stderr",
     "output_type": "stream",
     "text": [
      "Warning message:\n",
      "“glm.fit: fitted rates numerically 0 occurred”Warning message:\n",
      "“glm.fit: fitted rates numerically 0 occurred”"
     ]
    },
    {
     "name": "stdout",
     "output_type": "stream",
     "text": [
      "."
     ]
    },
    {
     "name": "stderr",
     "output_type": "stream",
     "text": [
      "Warning message:\n",
      "“glm.fit: fitted rates numerically 0 occurred”Warning message:\n",
      "“glm.fit: fitted rates numerically 0 occurred”"
     ]
    },
    {
     "name": "stdout",
     "output_type": "stream",
     "text": [
      "."
     ]
    },
    {
     "name": "stderr",
     "output_type": "stream",
     "text": [
      "Warning message:\n",
      "“glm.fit: fitted rates numerically 0 occurred”Warning message:\n",
      "“glm.fit: fitted rates numerically 0 occurred”"
     ]
    },
    {
     "name": "stdout",
     "output_type": "stream",
     "text": [
      "."
     ]
    },
    {
     "name": "stderr",
     "output_type": "stream",
     "text": [
      "Warning message:\n",
      "“glm.fit: fitted rates numerically 0 occurred”Warning message:\n",
      "“glm.fit: fitted rates numerically 0 occurred”"
     ]
    },
    {
     "name": "stdout",
     "output_type": "stream",
     "text": [
      "."
     ]
    },
    {
     "name": "stderr",
     "output_type": "stream",
     "text": [
      "Warning message:\n",
      "“glm.fit: fitted rates numerically 0 occurred”Warning message:\n",
      "“glm.fit: fitted rates numerically 0 occurred”Warning message:\n",
      "“glm.fit: fitted rates numerically 0 occurred”Warning message:\n",
      "“glm.fit: fitted rates numerically 0 occurred”"
     ]
    },
    {
     "name": "stdout",
     "output_type": "stream",
     "text": [
      ".."
     ]
    },
    {
     "name": "stderr",
     "output_type": "stream",
     "text": [
      "Warning message:\n",
      "“glm.fit: fitted rates numerically 0 occurred”Warning message:\n",
      "“glm.fit: fitted rates numerically 0 occurred”Warning message:\n",
      "“glm.fit: fitted rates numerically 0 occurred”Warning message:\n",
      "“glm.fit: fitted rates numerically 0 occurred”Warning message:\n",
      "“glm.fit: fitted rates numerically 0 occurred”Warning message:\n",
      "“glm.fit: fitted rates numerically 0 occurred”Warning message:\n",
      "“glm.fit: fitted rates numerically 0 occurred”"
     ]
    },
    {
     "name": "stdout",
     "output_type": "stream",
     "text": [
      "."
     ]
    },
    {
     "name": "stderr",
     "output_type": "stream",
     "text": [
      "Warning message:\n",
      "“glm.fit: fitted rates numerically 0 occurred”Warning message:\n",
      "“glm.fit: fitted rates numerically 0 occurred”Warning message:\n",
      "“glm.fit: fitted rates numerically 0 occurred”Warning message:\n",
      "“glm.fit: fitted rates numerically 0 occurred”Warning message:\n",
      "“glm.fit: fitted rates numerically 0 occurred”"
     ]
    },
    {
     "name": "stdout",
     "output_type": "stream",
     "text": [
      "."
     ]
    },
    {
     "name": "stderr",
     "output_type": "stream",
     "text": [
      "Warning message:\n",
      "“glm.fit: fitted rates numerically 0 occurred”Warning message:\n",
      "“glm.fit: fitted rates numerically 0 occurred”"
     ]
    },
    {
     "name": "stdout",
     "output_type": "stream",
     "text": [
      "."
     ]
    },
    {
     "name": "stderr",
     "output_type": "stream",
     "text": [
      "Warning message:\n",
      "“glm.fit: fitted rates numerically 0 occurred”Warning message:\n",
      "“glm.fit: fitted rates numerically 0 occurred”"
     ]
    },
    {
     "name": "stdout",
     "output_type": "stream",
     "text": [
      ".."
     ]
    },
    {
     "name": "stderr",
     "output_type": "stream",
     "text": [
      "Warning message:\n",
      "“glm.fit: fitted rates numerically 0 occurred”Warning message:\n",
      "“glm.fit: fitted rates numerically 0 occurred”Warning message:\n",
      "“glm.fit: fitted rates numerically 0 occurred”Warning message:\n",
      "“glm.fit: fitted rates numerically 0 occurred”"
     ]
    },
    {
     "name": "stdout",
     "output_type": "stream",
     "text": [
      "."
     ]
    },
    {
     "name": "stderr",
     "output_type": "stream",
     "text": [
      "Warning message:\n",
      "“glm.fit: fitted rates numerically 0 occurred”Warning message:\n",
      "“glm.fit: fitted rates numerically 0 occurred”Warning message:\n",
      "“glm.fit: fitted rates numerically 0 occurred”Warning message:\n",
      "“glm.fit: fitted rates numerically 0 occurred”Warning message:\n",
      "“glm.fit: fitted rates numerically 0 occurred”Warning message:\n",
      "“glm.fit: fitted rates numerically 0 occurred”Warning message:\n",
      "“glm.fit: fitted rates numerically 0 occurred”Warning message:\n",
      "“glm.fit: fitted rates numerically 0 occurred”Warning message:\n",
      "“glm.fit: fitted rates numerically 0 occurred”Warning message:\n",
      "“glm.fit: fitted rates numerically 0 occurred”Warning message:\n",
      "“glm.fit: fitted rates numerically 0 occurred”Warning message:\n",
      "“glm.fit: fitted rates numerically 0 occurred”Warning message:\n",
      "“glm.fit: fitted rates numerically 0 occurred”Warning message:\n",
      "“glm.fit: fitted rates numerically 0 occurred”"
     ]
    },
    {
     "name": "stdout",
     "output_type": "stream",
     "text": [
      "."
     ]
    },
    {
     "name": "stderr",
     "output_type": "stream",
     "text": [
      "Warning message:\n",
      "“glm.fit: fitted rates numerically 0 occurred”Warning message:\n",
      "“glm.fit: fitted rates numerically 0 occurred”Warning message:\n",
      "“glm.fit: fitted rates numerically 0 occurred”"
     ]
    },
    {
     "name": "stdout",
     "output_type": "stream",
     "text": [
      "."
     ]
    },
    {
     "name": "stderr",
     "output_type": "stream",
     "text": [
      "Warning message:\n",
      "“glm.fit: fitted rates numerically 0 occurred”Warning message:\n",
      "“glm.fit: fitted rates numerically 0 occurred”Warning message:\n",
      "“glm.fit: fitted rates numerically 0 occurred”Warning message:\n",
      "“glm.fit: fitted rates numerically 0 occurred”Warning message:\n",
      "“glm.fit: fitted rates numerically 0 occurred”Warning message:\n",
      "“glm.fit: fitted rates numerically 0 occurred”Warning message:\n",
      "“glm.fit: fitted rates numerically 0 occurred”Warning message:\n",
      "“glm.fit: fitted rates numerically 0 occurred”"
     ]
    },
    {
     "name": "stdout",
     "output_type": "stream",
     "text": [
      "."
     ]
    },
    {
     "name": "stderr",
     "output_type": "stream",
     "text": [
      "Warning message:\n",
      "“glm.fit: fitted rates numerically 0 occurred”Warning message:\n",
      "“glm.fit: fitted rates numerically 0 occurred”Warning message:\n",
      "“glm.fit: fitted rates numerically 0 occurred”"
     ]
    },
    {
     "name": "stdout",
     "output_type": "stream",
     "text": [
      "."
     ]
    },
    {
     "name": "stderr",
     "output_type": "stream",
     "text": [
      "Warning message:\n",
      "“glm.fit: fitted rates numerically 0 occurred”Warning message:\n",
      "“glm.fit: fitted rates numerically 0 occurred”"
     ]
    },
    {
     "name": "stdout",
     "output_type": "stream",
     "text": [
      "."
     ]
    },
    {
     "name": "stderr",
     "output_type": "stream",
     "text": [
      "Warning message:\n",
      "“glm.fit: fitted rates numerically 0 occurred”Warning message:\n",
      "“glm.fit: fitted rates numerically 0 occurred”Warning message:\n",
      "“glm.fit: fitted rates numerically 0 occurred”Warning message:\n",
      "“glm.fit: fitted rates numerically 0 occurred”Warning message:\n",
      "“glm.fit: fitted rates numerically 0 occurred”Warning message:\n",
      "“glm.fit: fitted rates numerically 0 occurred”Warning message:\n",
      "“glm.fit: fitted rates numerically 0 occurred”"
     ]
    },
    {
     "name": "stdout",
     "output_type": "stream",
     "text": [
      "."
     ]
    },
    {
     "name": "stderr",
     "output_type": "stream",
     "text": [
      "Warning message:\n",
      "“glm.fit: fitted rates numerically 0 occurred”Warning message:\n",
      "“glm.fit: fitted rates numerically 0 occurred”Warning message:\n",
      "“glm.fit: fitted rates numerically 0 occurred”Warning message:\n",
      "“glm.fit: fitted rates numerically 0 occurred”"
     ]
    },
    {
     "name": "stdout",
     "output_type": "stream",
     "text": [
      ".."
     ]
    },
    {
     "name": "stderr",
     "output_type": "stream",
     "text": [
      "Warning message:\n",
      "“glm.fit: fitted rates numerically 0 occurred”Warning message:\n",
      "“glm.fit: fitted rates numerically 0 occurred”"
     ]
    },
    {
     "name": "stdout",
     "output_type": "stream",
     "text": [
      "."
     ]
    },
    {
     "name": "stderr",
     "output_type": "stream",
     "text": [
      "Warning message:\n",
      "“glm.fit: fitted rates numerically 0 occurred”Warning message:\n",
      "“glm.fit: fitted rates numerically 0 occurred”Warning message:\n",
      "“glm.fit: fitted rates numerically 0 occurred”Warning message:\n",
      "“glm.fit: fitted rates numerically 0 occurred”"
     ]
    },
    {
     "name": "stdout",
     "output_type": "stream",
     "text": [
      ".."
     ]
    },
    {
     "name": "stderr",
     "output_type": "stream",
     "text": [
      "Warning message:\n",
      "“glm.fit: fitted rates numerically 0 occurred”Warning message:\n",
      "“glm.fit: fitted rates numerically 0 occurred”Warning message:\n",
      "“glm.fit: fitted rates numerically 0 occurred”Warning message:\n",
      "“glm.fit: fitted rates numerically 0 occurred”Warning message:\n",
      "“glm.fit: fitted rates numerically 0 occurred”Warning message:\n",
      "“glm.fit: fitted rates numerically 0 occurred”"
     ]
    },
    {
     "name": "stdout",
     "output_type": "stream",
     "text": [
      "."
     ]
    },
    {
     "name": "stderr",
     "output_type": "stream",
     "text": [
      "Warning message:\n",
      "“glm.fit: fitted rates numerically 0 occurred”"
     ]
    },
    {
     "name": "stdout",
     "output_type": "stream",
     "text": [
      "."
     ]
    },
    {
     "name": "stderr",
     "output_type": "stream",
     "text": [
      "Warning message:\n",
      "“glm.fit: fitted rates numerically 0 occurred”Warning message:\n",
      "“glm.fit: fitted rates numerically 0 occurred”"
     ]
    },
    {
     "name": "stdout",
     "output_type": "stream",
     "text": [
      "."
     ]
    },
    {
     "name": "stderr",
     "output_type": "stream",
     "text": [
      "Warning message:\n",
      "“glm.fit: fitted rates numerically 0 occurred”Warning message:\n",
      "“glm.fit: fitted rates numerically 0 occurred”Warning message:\n",
      "“glm.fit: fitted rates numerically 0 occurred”Warning message:\n",
      "“glm.fit: fitted rates numerically 0 occurred”"
     ]
    },
    {
     "name": "stdout",
     "output_type": "stream",
     "text": [
      "..."
     ]
    },
    {
     "name": "stderr",
     "output_type": "stream",
     "text": [
      "Warning message:\n",
      "“glm.fit: fitted rates numerically 0 occurred”Warning message:\n",
      "“glm.fit: fitted rates numerically 0 occurred”Warning message:\n",
      "“glm.fit: fitted rates numerically 0 occurred”Warning message:\n",
      "“glm.fit: fitted rates numerically 0 occurred”Warning message:\n",
      "“glm.fit: fitted rates numerically 0 occurred”Warning message:\n",
      "“glm.fit: fitted rates numerically 0 occurred”Warning message:\n",
      "“glm.fit: fitted rates numerically 0 occurred”"
     ]
    },
    {
     "name": "stdout",
     "output_type": "stream",
     "text": [
      ".."
     ]
    },
    {
     "name": "stderr",
     "output_type": "stream",
     "text": [
      "Warning message:\n",
      "“glm.fit: fitted rates numerically 0 occurred”Warning message:\n",
      "“glm.fit: fitted rates numerically 0 occurred”"
     ]
    },
    {
     "name": "stdout",
     "output_type": "stream",
     "text": [
      "."
     ]
    },
    {
     "name": "stderr",
     "output_type": "stream",
     "text": [
      "Warning message:\n",
      "“glm.fit: fitted rates numerically 0 occurred”Warning message:\n",
      "“glm.fit: fitted rates numerically 0 occurred”"
     ]
    },
    {
     "name": "stdout",
     "output_type": "stream",
     "text": [
      "."
     ]
    },
    {
     "name": "stderr",
     "output_type": "stream",
     "text": [
      "Warning message:\n",
      "“glm.fit: fitted rates numerically 0 occurred”Warning message:\n",
      "“glm.fit: fitted rates numerically 0 occurred”Warning message:\n",
      "“glm.fit: fitted rates numerically 0 occurred”Warning message:\n",
      "“glm.fit: fitted rates numerically 0 occurred”Warning message:\n",
      "“glm.fit: fitted rates numerically 0 occurred”Warning message:\n",
      "“glm.fit: fitted rates numerically 0 occurred”Warning message:\n",
      "“glm.fit: fitted rates numerically 0 occurred”Warning message:\n",
      "“glm.fit: fitted rates numerically 0 occurred”Warning message:\n",
      "“glm.fit: fitted rates numerically 0 occurred”Warning message:\n",
      "“glm.fit: fitted rates numerically 0 occurred”Warning message:\n",
      "“glm.fit: fitted rates numerically 0 occurred”Warning message:\n",
      "“glm.fit: fitted rates numerically 0 occurred”Warning message:\n",
      "“glm.fit: fitted rates numerically 0 occurred”Warning message:\n",
      "“glm.fit: fitted rates numerically 0 occurred”Warning message:\n",
      "“glm.fit: fitted rates numerically 0 occurred”Warning message:\n",
      "“glm.fit: fitted rates numerically 0 occurred”Warning message:\n",
      "“glm.fit: fitted rates numerically 0 occurred”Warning message:\n",
      "“glm.fit: fitted rates numerically 0 occurred”"
     ]
    },
    {
     "name": "stdout",
     "output_type": "stream",
     "text": [
      "."
     ]
    },
    {
     "name": "stderr",
     "output_type": "stream",
     "text": [
      "Warning message:\n",
      "“glm.fit: fitted rates numerically 0 occurred”Warning message:\n",
      "“glm.fit: fitted rates numerically 0 occurred”Warning message:\n",
      "“glm.fit: fitted rates numerically 0 occurred”Warning message:\n",
      "“glm.fit: fitted rates numerically 0 occurred”"
     ]
    },
    {
     "name": "stdout",
     "output_type": "stream",
     "text": [
      ".."
     ]
    },
    {
     "name": "stderr",
     "output_type": "stream",
     "text": [
      "Warning message:\n",
      "“glm.fit: fitted rates numerically 0 occurred”Warning message:\n",
      "“glm.fit: fitted rates numerically 0 occurred”Warning message:\n",
      "“glm.fit: fitted rates numerically 0 occurred”Warning message:\n",
      "“glm.fit: fitted rates numerically 0 occurred”Warning message:\n",
      "“glm.fit: fitted rates numerically 0 occurred”Warning message:\n",
      "“glm.fit: fitted rates numerically 0 occurred”"
     ]
    },
    {
     "name": "stdout",
     "output_type": "stream",
     "text": [
      "."
     ]
    },
    {
     "name": "stderr",
     "output_type": "stream",
     "text": [
      "Warning message:\n",
      "“glm.fit: fitted rates numerically 0 occurred”Warning message:\n",
      "“glm.fit: fitted rates numerically 0 occurred”Warning message:\n",
      "“glm.fit: fitted rates numerically 0 occurred”Warning message:\n",
      "“glm.fit: fitted rates numerically 0 occurred”"
     ]
    },
    {
     "name": "stdout",
     "output_type": "stream",
     "text": [
      "."
     ]
    },
    {
     "name": "stderr",
     "output_type": "stream",
     "text": [
      "Warning message:\n",
      "“glm.fit: fitted rates numerically 0 occurred”"
     ]
    },
    {
     "name": "stdout",
     "output_type": "stream",
     "text": [
      "."
     ]
    },
    {
     "name": "stderr",
     "output_type": "stream",
     "text": [
      "Warning message:\n",
      "“glm.fit: fitted rates numerically 0 occurred”Warning message:\n",
      "“glm.fit: fitted rates numerically 0 occurred”Warning message:\n",
      "“glm.fit: fitted rates numerically 0 occurred”Warning message:\n",
      "“glm.fit: fitted rates numerically 0 occurred”Warning message:\n",
      "“glm.fit: fitted rates numerically 0 occurred”Warning message:\n",
      "“glm.fit: fitted rates numerically 0 occurred”Warning message:\n",
      "“glm.fit: fitted rates numerically 0 occurred”Warning message:\n",
      "“glm.fit: fitted rates numerically 0 occurred”"
     ]
    },
    {
     "name": "stdout",
     "output_type": "stream",
     "text": [
      "."
     ]
    },
    {
     "name": "stderr",
     "output_type": "stream",
     "text": [
      "Warning message:\n",
      "“glm.fit: fitted rates numerically 0 occurred”Warning message:\n",
      "“glm.fit: fitted rates numerically 0 occurred”"
     ]
    },
    {
     "name": "stdout",
     "output_type": "stream",
     "text": [
      "."
     ]
    },
    {
     "name": "stderr",
     "output_type": "stream",
     "text": [
      "Warning message:\n",
      "“glm.fit: fitted rates numerically 0 occurred”Warning message:\n",
      "“glm.fit: fitted rates numerically 0 occurred”"
     ]
    },
    {
     "name": "stdout",
     "output_type": "stream",
     "text": [
      ".."
     ]
    },
    {
     "name": "stderr",
     "output_type": "stream",
     "text": [
      "Warning message:\n",
      "“glm.fit: fitted rates numerically 0 occurred”Warning message:\n",
      "“glm.fit: fitted rates numerically 0 occurred”Warning message:\n",
      "“glm.fit: fitted rates numerically 0 occurred”Warning message:\n",
      "“glm.fit: fitted rates numerically 0 occurred”Warning message:\n",
      "“glm.fit: fitted rates numerically 0 occurred”Warning message:\n",
      "“glm.fit: fitted rates numerically 0 occurred”Warning message:\n",
      "“glm.fit: fitted rates numerically 0 occurred”Warning message:\n",
      "“glm.fit: fitted rates numerically 0 occurred”Warning message:\n",
      "“glm.fit: fitted rates numerically 0 occurred”Warning message:\n",
      "“glm.fit: fitted rates numerically 0 occurred”Warning message:\n",
      "“glm.fit: fitted rates numerically 0 occurred”Warning message:\n",
      "“glm.fit: fitted rates numerically 0 occurred”Warning message:\n",
      "“glm.fit: fitted rates numerically 0 occurred”"
     ]
    },
    {
     "name": "stdout",
     "output_type": "stream",
     "text": [
      ".."
     ]
    },
    {
     "name": "stderr",
     "output_type": "stream",
     "text": [
      "Warning message:\n",
      "“glm.fit: fitted rates numerically 0 occurred”Warning message:\n",
      "“glm.fit: fitted rates numerically 0 occurred”Warning message:\n",
      "“glm.fit: fitted rates numerically 0 occurred”Warning message:\n",
      "“glm.fit: fitted rates numerically 0 occurred”Warning message:\n",
      "“glm.fit: fitted rates numerically 0 occurred”Warning message:\n",
      "“glm.fit: fitted rates numerically 0 occurred”Warning message:\n",
      "“glm.fit: fitted rates numerically 0 occurred”Warning message:\n",
      "“glm.fit: fitted rates numerically 0 occurred”Warning message:\n",
      "“glm.fit: fitted rates numerically 0 occurred”"
     ]
    },
    {
     "name": "stdout",
     "output_type": "stream",
     "text": [
      "."
     ]
    },
    {
     "name": "stderr",
     "output_type": "stream",
     "text": [
      "Warning message:\n",
      "“glm.fit: fitted rates numerically 0 occurred”Warning message:\n",
      "“glm.fit: fitted rates numerically 0 occurred”Warning message:\n",
      "“glm.fit: fitted rates numerically 0 occurred”Warning message:\n",
      "“glm.fit: fitted rates numerically 0 occurred”"
     ]
    },
    {
     "name": "stdout",
     "output_type": "stream",
     "text": [
      "."
     ]
    },
    {
     "name": "stderr",
     "output_type": "stream",
     "text": [
      "Warning message:\n",
      "“glm.fit: fitted rates numerically 0 occurred”Warning message:\n",
      "“glm.fit: fitted rates numerically 0 occurred”Warning message:\n",
      "“glm.fit: fitted rates numerically 0 occurred”"
     ]
    },
    {
     "name": "stdout",
     "output_type": "stream",
     "text": [
      ".."
     ]
    },
    {
     "name": "stderr",
     "output_type": "stream",
     "text": [
      "Warning message:\n",
      "“glm.fit: fitted rates numerically 0 occurred”"
     ]
    },
    {
     "name": "stdout",
     "output_type": "stream",
     "text": [
      "."
     ]
    },
    {
     "name": "stderr",
     "output_type": "stream",
     "text": [
      "Warning message:\n",
      "“glm.fit: fitted rates numerically 0 occurred”Warning message:\n",
      "“glm.fit: fitted rates numerically 0 occurred”Warning message:\n",
      "“glm.fit: fitted rates numerically 0 occurred”Warning message:\n",
      "“glm.fit: fitted rates numerically 0 occurred”Warning message:\n",
      "“glm.fit: fitted rates numerically 0 occurred”Warning message:\n",
      "“glm.fit: fitted rates numerically 0 occurred”Warning message:\n",
      "“glm.fit: fitted rates numerically 0 occurred”Warning message:\n",
      "“glm.fit: fitted rates numerically 0 occurred”Warning message:\n",
      "“glm.fit: fitted rates numerically 0 occurred”"
     ]
    },
    {
     "name": "stdout",
     "output_type": "stream",
     "text": [
      "."
     ]
    },
    {
     "name": "stderr",
     "output_type": "stream",
     "text": [
      "Warning message:\n",
      "“glm.fit: fitted rates numerically 0 occurred”Warning message:\n",
      "“glm.fit: fitted rates numerically 0 occurred”Warning message:\n",
      "“glm.fit: fitted rates numerically 0 occurred”Warning message:\n",
      "“glm.fit: fitted rates numerically 0 occurred”Warning message:\n",
      "“glm.fit: fitted rates numerically 0 occurred”Warning message:\n",
      "“glm.fit: fitted rates numerically 0 occurred”"
     ]
    },
    {
     "name": "stdout",
     "output_type": "stream",
     "text": [
      "."
     ]
    },
    {
     "name": "stderr",
     "output_type": "stream",
     "text": [
      "Warning message:\n",
      "“glm.fit: fitted rates numerically 0 occurred”Warning message:\n",
      "“glm.fit: fitted rates numerically 0 occurred”Warning message:\n",
      "“glm.fit: fitted rates numerically 0 occurred”Warning message:\n",
      "“glm.fit: fitted rates numerically 0 occurred”Warning message:\n",
      "“glm.fit: fitted rates numerically 0 occurred”Warning message:\n",
      "“glm.fit: fitted rates numerically 0 occurred”"
     ]
    },
    {
     "name": "stdout",
     "output_type": "stream",
     "text": [
      ".."
     ]
    },
    {
     "name": "stderr",
     "output_type": "stream",
     "text": [
      "Warning message:\n",
      "“glm.fit: fitted rates numerically 0 occurred”Warning message:\n",
      "“glm.fit: fitted rates numerically 0 occurred”"
     ]
    },
    {
     "name": "stdout",
     "output_type": "stream",
     "text": [
      "...."
     ]
    },
    {
     "name": "stderr",
     "output_type": "stream",
     "text": [
      "Warning message:\n",
      "“glm.fit: fitted rates numerically 0 occurred”Warning message:\n",
      "“glm.fit: fitted rates numerically 0 occurred”"
     ]
    },
    {
     "name": "stdout",
     "output_type": "stream",
     "text": [
      ".."
     ]
    },
    {
     "name": "stderr",
     "output_type": "stream",
     "text": [
      "Warning message:\n",
      "“glm.fit: fitted rates numerically 0 occurred”"
     ]
    },
    {
     "name": "stdout",
     "output_type": "stream",
     "text": [
      "."
     ]
    },
    {
     "name": "stderr",
     "output_type": "stream",
     "text": [
      "Warning message:\n",
      "“glm.fit: fitted rates numerically 0 occurred”Warning message:\n",
      "“glm.fit: fitted rates numerically 0 occurred”"
     ]
    },
    {
     "name": "stdout",
     "output_type": "stream",
     "text": [
      "."
     ]
    },
    {
     "name": "stderr",
     "output_type": "stream",
     "text": [
      "Warning message:\n",
      "“glm.fit: fitted rates numerically 0 occurred”Warning message:\n",
      "“glm.fit: fitted rates numerically 0 occurred”Warning message:\n",
      "“glm.fit: fitted rates numerically 0 occurred”"
     ]
    },
    {
     "name": "stdout",
     "output_type": "stream",
     "text": [
      "."
     ]
    },
    {
     "name": "stderr",
     "output_type": "stream",
     "text": [
      "Warning message:\n",
      "“glm.fit: fitted rates numerically 0 occurred”Warning message:\n",
      "“glm.fit: fitted rates numerically 0 occurred”Warning message:\n",
      "“glm.fit: fitted rates numerically 0 occurred”Warning message:\n",
      "“glm.fit: fitted rates numerically 0 occurred”"
     ]
    },
    {
     "name": "stdout",
     "output_type": "stream",
     "text": [
      "."
     ]
    },
    {
     "name": "stderr",
     "output_type": "stream",
     "text": [
      "Warning message:\n",
      "“glm.fit: fitted rates numerically 0 occurred”Warning message:\n",
      "“glm.fit: fitted rates numerically 0 occurred”"
     ]
    },
    {
     "name": "stdout",
     "output_type": "stream",
     "text": [
      "..."
     ]
    },
    {
     "name": "stderr",
     "output_type": "stream",
     "text": [
      "Warning message:\n",
      "“glm.fit: fitted rates numerically 0 occurred”Warning message:\n",
      "“glm.fit: fitted rates numerically 0 occurred”Warning message:\n",
      "“glm.fit: fitted rates numerically 0 occurred”Warning message:\n",
      "“glm.fit: fitted rates numerically 0 occurred”Warning message:\n",
      "“glm.fit: fitted rates numerically 0 occurred”Warning message:\n",
      "“glm.fit: fitted rates numerically 0 occurred”Warning message:\n",
      "“glm.fit: fitted rates numerically 0 occurred”"
     ]
    },
    {
     "name": "stdout",
     "output_type": "stream",
     "text": [
      "."
     ]
    },
    {
     "name": "stderr",
     "output_type": "stream",
     "text": [
      "Warning message:\n",
      "“glm.fit: fitted rates numerically 0 occurred”Warning message:\n",
      "“glm.fit: fitted rates numerically 0 occurred”"
     ]
    },
    {
     "name": "stdout",
     "output_type": "stream",
     "text": [
      "."
     ]
    },
    {
     "name": "stderr",
     "output_type": "stream",
     "text": [
      "Warning message:\n",
      "“glm.fit: fitted rates numerically 0 occurred”Warning message:\n",
      "“glm.fit: fitted rates numerically 0 occurred”Warning message:\n",
      "“glm.fit: fitted rates numerically 0 occurred”Warning message:\n",
      "“glm.fit: fitted rates numerically 0 occurred”"
     ]
    },
    {
     "name": "stdout",
     "output_type": "stream",
     "text": [
      "."
     ]
    },
    {
     "name": "stderr",
     "output_type": "stream",
     "text": [
      "Warning message:\n",
      "“glm.fit: fitted rates numerically 0 occurred”"
     ]
    },
    {
     "name": "stdout",
     "output_type": "stream",
     "text": [
      "."
     ]
    },
    {
     "name": "stderr",
     "output_type": "stream",
     "text": [
      "Warning message:\n",
      "“glm.fit: fitted rates numerically 0 occurred”Warning message:\n",
      "“glm.fit: fitted rates numerically 0 occurred”"
     ]
    },
    {
     "name": "stdout",
     "output_type": "stream",
     "text": [
      "."
     ]
    },
    {
     "name": "stderr",
     "output_type": "stream",
     "text": [
      "Warning message:\n",
      "“glm.fit: fitted rates numerically 0 occurred”Warning message:\n",
      "“glm.fit: fitted rates numerically 0 occurred”Warning message:\n",
      "“glm.fit: fitted rates numerically 0 occurred”Warning message:\n",
      "“glm.fit: fitted rates numerically 0 occurred”Warning message:\n",
      "“glm.fit: fitted rates numerically 0 occurred”Warning message:\n",
      "“glm.fit: fitted rates numerically 0 occurred”Warning message:\n",
      "“glm.fit: fitted rates numerically 0 occurred”Warning message:\n",
      "“glm.fit: fitted rates numerically 0 occurred”Warning message:\n",
      "“glm.fit: fitted rates numerically 0 occurred”Warning message:\n",
      "“glm.fit: fitted rates numerically 0 occurred”Warning message:\n",
      "“glm.fit: fitted rates numerically 0 occurred”Warning message:\n",
      "“glm.fit: fitted rates numerically 0 occurred”Warning message:\n",
      "“glm.fit: fitted rates numerically 0 occurred”Warning message:\n",
      "“glm.fit: fitted rates numerically 0 occurred”Warning message:\n",
      "“glm.fit: fitted rates numerically 0 occurred”"
     ]
    },
    {
     "name": "stdout",
     "output_type": "stream",
     "text": [
      "."
     ]
    },
    {
     "name": "stderr",
     "output_type": "stream",
     "text": [
      "Warning message:\n",
      "“glm.fit: fitted rates numerically 0 occurred”Warning message:\n",
      "“glm.fit: fitted rates numerically 0 occurred”Warning message:\n",
      "“glm.fit: fitted rates numerically 0 occurred”Warning message:\n",
      "“glm.fit: fitted rates numerically 0 occurred”"
     ]
    },
    {
     "name": "stdout",
     "output_type": "stream",
     "text": [
      "."
     ]
    },
    {
     "name": "stderr",
     "output_type": "stream",
     "text": [
      "Warning message:\n",
      "“glm.fit: fitted rates numerically 0 occurred”Warning message:\n",
      "“glm.fit: fitted rates numerically 0 occurred”"
     ]
    },
    {
     "name": "stdout",
     "output_type": "stream",
     "text": [
      ".."
     ]
    },
    {
     "name": "stderr",
     "output_type": "stream",
     "text": [
      "Warning message:\n",
      "“glm.fit: fitted rates numerically 0 occurred”Warning message:\n",
      "“glm.fit: fitted rates numerically 0 occurred”Warning message:\n",
      "“glm.fit: fitted rates numerically 0 occurred”Warning message:\n",
      "“glm.fit: fitted rates numerically 0 occurred”Warning message:\n",
      "“glm.fit: fitted rates numerically 0 occurred”"
     ]
    },
    {
     "name": "stdout",
     "output_type": "stream",
     "text": [
      "."
     ]
    },
    {
     "name": "stderr",
     "output_type": "stream",
     "text": [
      "Warning message:\n",
      "“glm.fit: fitted rates numerically 0 occurred”Warning message:\n",
      "“glm.fit: fitted rates numerically 0 occurred”Warning message:\n",
      "“glm.fit: fitted rates numerically 0 occurred”Warning message:\n",
      "“glm.fit: fitted rates numerically 0 occurred”"
     ]
    },
    {
     "name": "stdout",
     "output_type": "stream",
     "text": [
      "."
     ]
    },
    {
     "name": "stderr",
     "output_type": "stream",
     "text": [
      "Warning message:\n",
      "“glm.fit: fitted rates numerically 0 occurred”Warning message:\n",
      "“glm.fit: fitted rates numerically 0 occurred”Warning message:\n",
      "“glm.fit: fitted rates numerically 0 occurred”Warning message:\n",
      "“glm.fit: fitted rates numerically 0 occurred”"
     ]
    },
    {
     "name": "stdout",
     "output_type": "stream",
     "text": [
      "..."
     ]
    },
    {
     "name": "stderr",
     "output_type": "stream",
     "text": [
      "Warning message:\n",
      "“glm.fit: fitted rates numerically 0 occurred”"
     ]
    },
    {
     "name": "stdout",
     "output_type": "stream",
     "text": [
      "..."
     ]
    },
    {
     "name": "stderr",
     "output_type": "stream",
     "text": [
      "Warning message:\n",
      "“glm.fit: fitted rates numerically 0 occurred”Warning message:\n",
      "“glm.fit: fitted rates numerically 0 occurred”Warning message:\n",
      "“glm.fit: fitted rates numerically 0 occurred”Warning message:\n",
      "“glm.fit: fitted rates numerically 0 occurred”Warning message:\n",
      "“glm.fit: fitted rates numerically 0 occurred”Warning message:\n",
      "“glm.fit: fitted rates numerically 0 occurred”Warning message:\n",
      "“glm.fit: fitted rates numerically 0 occurred”"
     ]
    },
    {
     "name": "stdout",
     "output_type": "stream",
     "text": [
      ".."
     ]
    },
    {
     "name": "stderr",
     "output_type": "stream",
     "text": [
      "Warning message:\n",
      "“glm.fit: fitted rates numerically 0 occurred”Warning message:\n",
      "“glm.fit: fitted rates numerically 0 occurred”"
     ]
    },
    {
     "name": "stdout",
     "output_type": "stream",
     "text": [
      "."
     ]
    },
    {
     "name": "stderr",
     "output_type": "stream",
     "text": [
      "Warning message:\n",
      "“glm.fit: fitted rates numerically 0 occurred”Warning message:\n",
      "“glm.fit: fitted rates numerically 0 occurred”Warning message:\n",
      "“glm.fit: fitted rates numerically 0 occurred”"
     ]
    },
    {
     "name": "stdout",
     "output_type": "stream",
     "text": [
      "."
     ]
    },
    {
     "name": "stderr",
     "output_type": "stream",
     "text": [
      "Warning message:\n",
      "“glm.fit: fitted rates numerically 0 occurred”Warning message:\n",
      "“glm.fit: fitted rates numerically 0 occurred”Warning message:\n",
      "“glm.fit: fitted rates numerically 0 occurred”Warning message:\n",
      "“glm.fit: fitted rates numerically 0 occurred”Warning message:\n",
      "“glm.fit: fitted rates numerically 0 occurred”Warning message:\n",
      "“glm.fit: fitted rates numerically 0 occurred”Warning message:\n",
      "“glm.fit: fitted rates numerically 0 occurred”Warning message:\n",
      "“glm.fit: fitted rates numerically 0 occurred”Warning message:\n",
      "“glm.fit: fitted rates numerically 0 occurred”Warning message:\n",
      "“glm.fit: fitted rates numerically 0 occurred”"
     ]
    },
    {
     "name": "stdout",
     "output_type": "stream",
     "text": [
      ".."
     ]
    },
    {
     "name": "stderr",
     "output_type": "stream",
     "text": [
      "Warning message:\n",
      "“glm.fit: fitted rates numerically 0 occurred”Warning message:\n",
      "“glm.fit: fitted rates numerically 0 occurred”Warning message:\n",
      "“glm.fit: fitted rates numerically 0 occurred”Warning message:\n",
      "“glm.fit: fitted rates numerically 0 occurred”Warning message:\n",
      "“glm.fit: fitted rates numerically 0 occurred”Warning message:\n",
      "“glm.fit: fitted rates numerically 0 occurred”Warning message:\n",
      "“glm.fit: fitted rates numerically 0 occurred”"
     ]
    },
    {
     "name": "stdout",
     "output_type": "stream",
     "text": [
      "."
     ]
    },
    {
     "name": "stderr",
     "output_type": "stream",
     "text": [
      "Warning message:\n",
      "“glm.fit: fitted rates numerically 0 occurred”Warning message:\n",
      "“glm.fit: fitted rates numerically 0 occurred”Warning message:\n",
      "“glm.fit: fitted rates numerically 0 occurred”Warning message:\n",
      "“glm.fit: fitted rates numerically 0 occurred”Warning message:\n",
      "“glm.fit: fitted rates numerically 0 occurred”Warning message:\n",
      "“glm.fit: fitted rates numerically 0 occurred”"
     ]
    },
    {
     "name": "stdout",
     "output_type": "stream",
     "text": [
      "."
     ]
    },
    {
     "name": "stderr",
     "output_type": "stream",
     "text": [
      "Warning message:\n",
      "“glm.fit: fitted rates numerically 0 occurred”Warning message:\n",
      "“glm.fit: fitted rates numerically 0 occurred”"
     ]
    },
    {
     "name": "stdout",
     "output_type": "stream",
     "text": [
      "."
     ]
    },
    {
     "name": "stderr",
     "output_type": "stream",
     "text": [
      "Warning message:\n",
      "“glm.fit: fitted rates numerically 0 occurred”Warning message:\n",
      "“glm.fit: fitted rates numerically 0 occurred”"
     ]
    },
    {
     "name": "stdout",
     "output_type": "stream",
     "text": [
      "."
     ]
    },
    {
     "name": "stderr",
     "output_type": "stream",
     "text": [
      "Warning message:\n",
      "“glm.fit: fitted rates numerically 0 occurred”Warning message:\n",
      "“glm.fit: fitted rates numerically 0 occurred”Warning message:\n",
      "“glm.fit: fitted rates numerically 0 occurred”Warning message:\n",
      "“glm.fit: fitted rates numerically 0 occurred”Warning message:\n",
      "“glm.fit: fitted rates numerically 0 occurred”Warning message:\n",
      "“glm.fit: fitted rates numerically 0 occurred”Warning message:\n",
      "“glm.fit: fitted rates numerically 0 occurred”Warning message:\n",
      "“glm.fit: fitted rates numerically 0 occurred”Warning message:\n",
      "“glm.fit: fitted rates numerically 0 occurred”Warning message:\n",
      "“glm.fit: fitted rates numerically 0 occurred”Warning message:\n",
      "“glm.fit: fitted rates numerically 0 occurred”Warning message:\n",
      "“glm.fit: fitted rates numerically 0 occurred”Warning message:\n",
      "“glm.fit: fitted rates numerically 0 occurred”Warning message:\n",
      "“glm.fit: fitted rates numerically 0 occurred”Warning message:\n",
      "“glm.fit: fitted rates numerically 0 occurred”Warning message:\n",
      "“glm.fit: fitted rates numerically 0 occurred”Warning message:\n",
      "“glm.fit: fitted rates numerically 0 occurred”Warning message:\n",
      "“glm.fit: fitted rates numerically 0 occurred”Warning message:\n",
      "“glm.fit: fitted rates numerically 0 occurred”Warning message:\n",
      "“glm.fit: fitted rates numerically 0 occurred”Warning message:\n",
      "“glm.fit: fitted rates numerically 0 occurred”Warning message:\n",
      "“glm.fit: fitted rates numerically 0 occurred”Warning message:\n",
      "“glm.fit: fitted rates numerically 0 occurred”"
     ]
    },
    {
     "name": "stdout",
     "output_type": "stream",
     "text": [
      "."
     ]
    },
    {
     "name": "stderr",
     "output_type": "stream",
     "text": [
      "Warning message:\n",
      "“glm.fit: fitted rates numerically 0 occurred”Warning message:\n",
      "“glm.fit: fitted rates numerically 0 occurred”Warning message:\n",
      "“glm.fit: fitted rates numerically 0 occurred”Warning message:\n",
      "“glm.fit: fitted rates numerically 0 occurred”Warning message:\n",
      "“glm.fit: fitted rates numerically 0 occurred”Warning message:\n",
      "“glm.fit: fitted rates numerically 0 occurred”Warning message:\n",
      "“glm.fit: fitted rates numerically 0 occurred”"
     ]
    },
    {
     "name": "stdout",
     "output_type": "stream",
     "text": [
      "."
     ]
    },
    {
     "name": "stderr",
     "output_type": "stream",
     "text": [
      "Warning message:\n",
      "“glm.fit: fitted rates numerically 0 occurred”Warning message:\n",
      "“glm.fit: fitted rates numerically 0 occurred”Warning message:\n",
      "“glm.fit: fitted rates numerically 0 occurred”Warning message:\n",
      "“glm.fit: fitted rates numerically 0 occurred”Warning message:\n",
      "“glm.fit: fitted rates numerically 0 occurred”Warning message:\n",
      "“glm.fit: fitted rates numerically 0 occurred”Warning message:\n",
      "“glm.fit: fitted rates numerically 0 occurred”Warning message:\n",
      "“glm.fit: fitted rates numerically 0 occurred”Warning message:\n",
      "“glm.fit: fitted rates numerically 0 occurred”Warning message:\n",
      "“glm.fit: fitted rates numerically 0 occurred”Warning message:\n",
      "“glm.fit: fitted rates numerically 0 occurred”Warning message:\n",
      "“glm.fit: fitted rates numerically 0 occurred”Warning message:\n",
      "“glm.fit: fitted rates numerically 0 occurred”"
     ]
    },
    {
     "name": "stdout",
     "output_type": "stream",
     "text": [
      "."
     ]
    },
    {
     "name": "stderr",
     "output_type": "stream",
     "text": [
      "Warning message:\n",
      "“glm.fit: fitted rates numerically 0 occurred”Warning message:\n",
      "“glm.fit: fitted rates numerically 0 occurred”Warning message:\n",
      "“glm.fit: fitted rates numerically 0 occurred”Warning message:\n",
      "“glm.fit: fitted rates numerically 0 occurred”"
     ]
    },
    {
     "name": "stdout",
     "output_type": "stream",
     "text": [
      "."
     ]
    },
    {
     "name": "stderr",
     "output_type": "stream",
     "text": [
      "Warning message:\n",
      "“glm.fit: fitted rates numerically 0 occurred”Warning message:\n",
      "“glm.fit: fitted rates numerically 0 occurred”Warning message:\n",
      "“glm.fit: fitted rates numerically 0 occurred”Warning message:\n",
      "“glm.fit: fitted rates numerically 0 occurred”Warning message:\n",
      "“glm.fit: fitted rates numerically 0 occurred”"
     ]
    },
    {
     "name": "stdout",
     "output_type": "stream",
     "text": [
      "."
     ]
    },
    {
     "name": "stderr",
     "output_type": "stream",
     "text": [
      "Warning message:\n",
      "“glm.fit: fitted rates numerically 0 occurred”Warning message:\n",
      "“glm.fit: fitted rates numerically 0 occurred”Warning message:\n",
      "“glm.fit: fitted rates numerically 0 occurred”Warning message:\n",
      "“glm.fit: fitted rates numerically 0 occurred”"
     ]
    },
    {
     "name": "stdout",
     "output_type": "stream",
     "text": [
      "."
     ]
    },
    {
     "name": "stderr",
     "output_type": "stream",
     "text": [
      "Warning message:\n",
      "“glm.fit: fitted rates numerically 0 occurred”Warning message:\n",
      "“glm.fit: fitted rates numerically 0 occurred”Warning message:\n",
      "“glm.fit: fitted rates numerically 0 occurred”Warning message:\n",
      "“glm.fit: fitted rates numerically 0 occurred”Warning message:\n",
      "“glm.fit: fitted rates numerically 0 occurred”Warning message:\n",
      "“glm.fit: fitted rates numerically 0 occurred”Warning message:\n",
      "“glm.fit: fitted rates numerically 0 occurred”"
     ]
    },
    {
     "name": "stdout",
     "output_type": "stream",
     "text": [
      "."
     ]
    },
    {
     "name": "stderr",
     "output_type": "stream",
     "text": [
      "Warning message:\n",
      "“glm.fit: fitted rates numerically 0 occurred”Warning message:\n",
      "“glm.fit: fitted rates numerically 0 occurred”"
     ]
    },
    {
     "name": "stdout",
     "output_type": "stream",
     "text": [
      ".."
     ]
    },
    {
     "name": "stderr",
     "output_type": "stream",
     "text": [
      "Warning message:\n",
      "“glm.fit: fitted rates numerically 0 occurred”Warning message:\n",
      "“glm.fit: fitted rates numerically 0 occurred”"
     ]
    },
    {
     "name": "stdout",
     "output_type": "stream",
     "text": [
      "."
     ]
    },
    {
     "name": "stderr",
     "output_type": "stream",
     "text": [
      "Warning message:\n",
      "“glm.fit: fitted rates numerically 0 occurred”Warning message:\n",
      "“glm.fit: fitted rates numerically 0 occurred”Warning message:\n",
      "“glm.fit: fitted rates numerically 0 occurred”Warning message:\n",
      "“glm.fit: fitted rates numerically 0 occurred”Warning message:\n",
      "“glm.fit: fitted rates numerically 0 occurred”Warning message:\n",
      "“glm.fit: fitted rates numerically 0 occurred”Warning message:\n",
      "“glm.fit: fitted rates numerically 0 occurred”Warning message:\n",
      "“glm.fit: fitted rates numerically 0 occurred”Warning message:\n",
      "“glm.fit: fitted rates numerically 0 occurred”Warning message:\n",
      "“glm.fit: fitted rates numerically 0 occurred”Warning message:\n",
      "“glm.fit: fitted rates numerically 0 occurred”"
     ]
    },
    {
     "name": "stdout",
     "output_type": "stream",
     "text": [
      "."
     ]
    },
    {
     "name": "stderr",
     "output_type": "stream",
     "text": [
      "Warning message:\n",
      "“glm.fit: fitted rates numerically 0 occurred”Warning message:\n",
      "“glm.fit: fitted rates numerically 0 occurred”Warning message:\n",
      "“glm.fit: fitted rates numerically 0 occurred”Warning message:\n",
      "“glm.fit: fitted rates numerically 0 occurred”Warning message:\n",
      "“glm.fit: fitted rates numerically 0 occurred”Warning message:\n",
      "“glm.fit: fitted rates numerically 0 occurred”"
     ]
    },
    {
     "name": "stdout",
     "output_type": "stream",
     "text": [
      "."
     ]
    },
    {
     "name": "stderr",
     "output_type": "stream",
     "text": [
      "Warning message:\n",
      "“glm.fit: fitted rates numerically 0 occurred”Warning message:\n",
      "“glm.fit: fitted rates numerically 0 occurred”Warning message:\n",
      "“glm.fit: fitted rates numerically 0 occurred”Warning message:\n",
      "“glm.fit: fitted rates numerically 0 occurred”Warning message:\n",
      "“glm.fit: fitted rates numerically 0 occurred”Warning message:\n",
      "“glm.fit: fitted rates numerically 0 occurred”Warning message:\n",
      "“glm.fit: fitted rates numerically 0 occurred”Warning message:\n",
      "“glm.fit: fitted rates numerically 0 occurred”Warning message:\n",
      "“glm.fit: fitted rates numerically 0 occurred”Warning message:\n",
      "“glm.fit: fitted rates numerically 0 occurred”Warning message:\n",
      "“glm.fit: fitted rates numerically 0 occurred”Warning message:\n",
      "“glm.fit: fitted rates numerically 0 occurred”Warning message:\n",
      "“glm.fit: fitted rates numerically 0 occurred”Warning message:\n",
      "“glm.fit: fitted rates numerically 0 occurred”Warning message:\n",
      "“glm.fit: fitted rates numerically 0 occurred”Warning message:\n",
      "“glm.fit: fitted rates numerically 0 occurred”Warning message:\n",
      "“glm.fit: fitted rates numerically 0 occurred”"
     ]
    },
    {
     "name": "stdout",
     "output_type": "stream",
     "text": [
      ".."
     ]
    },
    {
     "name": "stderr",
     "output_type": "stream",
     "text": [
      "Warning message:\n",
      "“glm.fit: fitted rates numerically 0 occurred”Warning message:\n",
      "“glm.fit: fitted rates numerically 0 occurred”Warning message:\n",
      "“glm.fit: fitted rates numerically 0 occurred”Warning message:\n",
      "“glm.fit: fitted rates numerically 0 occurred”Warning message:\n",
      "“glm.fit: fitted rates numerically 0 occurred”Warning message:\n",
      "“glm.fit: fitted rates numerically 0 occurred”Warning message:\n",
      "“glm.fit: fitted rates numerically 0 occurred”Warning message:\n",
      "“glm.fit: fitted rates numerically 0 occurred”Warning message:\n",
      "“glm.fit: fitted rates numerically 0 occurred”Warning message:\n",
      "“glm.fit: fitted rates numerically 0 occurred”Warning message:\n",
      "“glm.fit: fitted rates numerically 0 occurred”Warning message:\n",
      "“glm.fit: fitted rates numerically 0 occurred”"
     ]
    },
    {
     "name": "stdout",
     "output_type": "stream",
     "text": [
      "."
     ]
    },
    {
     "name": "stderr",
     "output_type": "stream",
     "text": [
      "Warning message:\n",
      "“glm.fit: fitted rates numerically 0 occurred”Warning message:\n",
      "“glm.fit: fitted rates numerically 0 occurred”"
     ]
    },
    {
     "name": "stdout",
     "output_type": "stream",
     "text": [
      "."
     ]
    },
    {
     "name": "stderr",
     "output_type": "stream",
     "text": [
      "Warning message:\n",
      "“glm.fit: fitted rates numerically 0 occurred”Warning message:\n",
      "“glm.fit: fitted rates numerically 0 occurred”Warning message:\n",
      "“glm.fit: fitted rates numerically 0 occurred”"
     ]
    },
    {
     "name": "stdout",
     "output_type": "stream",
     "text": [
      "."
     ]
    },
    {
     "name": "stderr",
     "output_type": "stream",
     "text": [
      "Warning message:\n",
      "“glm.fit: fitted rates numerically 0 occurred”"
     ]
    },
    {
     "name": "stdout",
     "output_type": "stream",
     "text": [
      "."
     ]
    },
    {
     "name": "stderr",
     "output_type": "stream",
     "text": [
      "Warning message:\n",
      "“glm.fit: fitted rates numerically 0 occurred”"
     ]
    },
    {
     "name": "stdout",
     "output_type": "stream",
     "text": [
      "."
     ]
    },
    {
     "name": "stderr",
     "output_type": "stream",
     "text": [
      "Warning message:\n",
      "“glm.fit: fitted rates numerically 0 occurred”Warning message:\n",
      "“glm.fit: fitted rates numerically 0 occurred”"
     ]
    },
    {
     "name": "stdout",
     "output_type": "stream",
     "text": [
      "..."
     ]
    },
    {
     "name": "stderr",
     "output_type": "stream",
     "text": [
      "Warning message:\n",
      "“glm.fit: fitted rates numerically 0 occurred”Warning message:\n",
      "“glm.fit: fitted rates numerically 0 occurred”Warning message:\n",
      "“glm.fit: fitted rates numerically 0 occurred”"
     ]
    },
    {
     "name": "stdout",
     "output_type": "stream",
     "text": [
      "."
     ]
    },
    {
     "name": "stderr",
     "output_type": "stream",
     "text": [
      "Warning message:\n",
      "“glm.fit: fitted rates numerically 0 occurred”Warning message:\n",
      "“glm.fit: fitted rates numerically 0 occurred”"
     ]
    },
    {
     "name": "stdout",
     "output_type": "stream",
     "text": [
      "."
     ]
    },
    {
     "name": "stderr",
     "output_type": "stream",
     "text": [
      "Warning message:\n",
      "“glm.fit: fitted rates numerically 0 occurred”Warning message:\n",
      "“glm.fit: fitted rates numerically 0 occurred”Warning message:\n",
      "“glm.fit: fitted rates numerically 0 occurred”Warning message:\n",
      "“glm.fit: fitted rates numerically 0 occurred”Warning message:\n",
      "“glm.fit: fitted rates numerically 0 occurred”Warning message:\n",
      "“glm.fit: fitted rates numerically 0 occurred”Warning message:\n",
      "“glm.fit: fitted rates numerically 0 occurred”Warning message:\n",
      "“glm.fit: fitted rates numerically 0 occurred”"
     ]
    },
    {
     "name": "stdout",
     "output_type": "stream",
     "text": [
      "."
     ]
    },
    {
     "name": "stderr",
     "output_type": "stream",
     "text": [
      "Warning message:\n",
      "“glm.fit: fitted rates numerically 0 occurred”"
     ]
    },
    {
     "name": "stdout",
     "output_type": "stream",
     "text": [
      "."
     ]
    },
    {
     "name": "stderr",
     "output_type": "stream",
     "text": [
      "Warning message:\n",
      "“glm.fit: fitted rates numerically 0 occurred”Warning message:\n",
      "“glm.fit: fitted rates numerically 0 occurred”Warning message:\n",
      "“glm.fit: fitted rates numerically 0 occurred”Warning message:\n",
      "“glm.fit: fitted rates numerically 0 occurred”Warning message:\n",
      "“glm.fit: fitted rates numerically 0 occurred”Warning message:\n",
      "“glm.fit: fitted rates numerically 0 occurred”Warning message:\n",
      "“glm.fit: fitted rates numerically 0 occurred”Warning message:\n",
      "“glm.fit: fitted rates numerically 0 occurred”Warning message:\n",
      "“glm.fit: fitted rates numerically 0 occurred”Warning message:\n",
      "“glm.fit: fitted rates numerically 0 occurred”Warning message:\n",
      "“glm.fit: fitted rates numerically 0 occurred”"
     ]
    },
    {
     "name": "stdout",
     "output_type": "stream",
     "text": [
      "."
     ]
    },
    {
     "name": "stderr",
     "output_type": "stream",
     "text": [
      "Warning message:\n",
      "“glm.fit: fitted rates numerically 0 occurred”Warning message:\n",
      "“glm.fit: fitted rates numerically 0 occurred”Warning message:\n",
      "“glm.fit: fitted rates numerically 0 occurred”Warning message:\n",
      "“glm.fit: fitted rates numerically 0 occurred”Warning message:\n",
      "“glm.fit: fitted rates numerically 0 occurred”"
     ]
    },
    {
     "name": "stdout",
     "output_type": "stream",
     "text": [
      "."
     ]
    },
    {
     "name": "stderr",
     "output_type": "stream",
     "text": [
      "Warning message:\n",
      "“glm.fit: fitted rates numerically 0 occurred”Warning message:\n",
      "“glm.fit: fitted rates numerically 0 occurred”Warning message:\n",
      "“glm.fit: fitted rates numerically 0 occurred”Warning message:\n",
      "“glm.fit: fitted rates numerically 0 occurred”Warning message:\n",
      "“glm.fit: fitted rates numerically 0 occurred”Warning message:\n",
      "“glm.fit: fitted rates numerically 0 occurred”Warning message:\n",
      "“glm.fit: fitted rates numerically 0 occurred”Warning message:\n",
      "“glm.fit: fitted rates numerically 0 occurred”Warning message:\n",
      "“glm.fit: fitted rates numerically 0 occurred”Warning message:\n",
      "“glm.fit: fitted rates numerically 0 occurred”Warning message:\n",
      "“glm.fit: fitted rates numerically 0 occurred”"
     ]
    },
    {
     "name": "stdout",
     "output_type": "stream",
     "text": [
      "."
     ]
    },
    {
     "name": "stderr",
     "output_type": "stream",
     "text": [
      "Warning message:\n",
      "“glm.fit: fitted rates numerically 0 occurred”Warning message:\n",
      "“glm.fit: fitted rates numerically 0 occurred”Warning message:\n",
      "“glm.fit: fitted rates numerically 0 occurred”Warning message:\n",
      "“glm.fit: fitted rates numerically 0 occurred”Warning message:\n",
      "“glm.fit: fitted rates numerically 0 occurred”Warning message:\n",
      "“glm.fit: fitted rates numerically 0 occurred”Warning message:\n",
      "“glm.fit: fitted rates numerically 0 occurred”Warning message:\n",
      "“glm.fit: fitted rates numerically 0 occurred”"
     ]
    },
    {
     "name": "stdout",
     "output_type": "stream",
     "text": [
      "."
     ]
    },
    {
     "name": "stderr",
     "output_type": "stream",
     "text": [
      "Warning message:\n",
      "“glm.fit: fitted rates numerically 0 occurred”Warning message:\n",
      "“glm.fit: fitted rates numerically 0 occurred”"
     ]
    },
    {
     "name": "stdout",
     "output_type": "stream",
     "text": [
      "."
     ]
    },
    {
     "name": "stderr",
     "output_type": "stream",
     "text": [
      "Warning message:\n",
      "“glm.fit: fitted rates numerically 0 occurred”Warning message:\n",
      "“glm.fit: fitted rates numerically 0 occurred”Warning message:\n",
      "“glm.fit: fitted rates numerically 0 occurred”Warning message:\n",
      "“glm.fit: fitted rates numerically 0 occurred”"
     ]
    },
    {
     "name": "stdout",
     "output_type": "stream",
     "text": [
      "."
     ]
    },
    {
     "name": "stderr",
     "output_type": "stream",
     "text": [
      "Warning message:\n",
      "“glm.fit: fitted rates numerically 0 occurred”Warning message:\n",
      "“glm.fit: fitted rates numerically 0 occurred”Warning message:\n",
      "“glm.fit: fitted rates numerically 0 occurred”Warning message:\n",
      "“glm.fit: fitted rates numerically 0 occurred”"
     ]
    },
    {
     "name": "stdout",
     "output_type": "stream",
     "text": [
      "."
     ]
    },
    {
     "name": "stderr",
     "output_type": "stream",
     "text": [
      "Warning message:\n",
      "“glm.fit: fitted rates numerically 0 occurred”Warning message:\n",
      "“glm.fit: fitted rates numerically 0 occurred”Warning message:\n",
      "“glm.fit: fitted rates numerically 0 occurred”"
     ]
    },
    {
     "name": "stdout",
     "output_type": "stream",
     "text": [
      "."
     ]
    },
    {
     "name": "stderr",
     "output_type": "stream",
     "text": [
      "Warning message:\n",
      "“glm.fit: fitted rates numerically 0 occurred”"
     ]
    },
    {
     "name": "stdout",
     "output_type": "stream",
     "text": [
      "..."
     ]
    },
    {
     "name": "stderr",
     "output_type": "stream",
     "text": [
      "Warning message:\n",
      "“glm.fit: fitted rates numerically 0 occurred”Warning message:\n",
      "“glm.fit: fitted rates numerically 0 occurred”"
     ]
    },
    {
     "name": "stdout",
     "output_type": "stream",
     "text": [
      ".."
     ]
    },
    {
     "name": "stderr",
     "output_type": "stream",
     "text": [
      "Warning message:\n",
      "“glm.fit: fitted rates numerically 0 occurred”Warning message:\n",
      "“glm.fit: fitted rates numerically 0 occurred”Warning message:\n",
      "“glm.fit: fitted rates numerically 0 occurred”"
     ]
    },
    {
     "name": "stdout",
     "output_type": "stream",
     "text": [
      "."
     ]
    },
    {
     "name": "stderr",
     "output_type": "stream",
     "text": [
      "Warning message:\n",
      "“glm.fit: fitted rates numerically 0 occurred”Warning message:\n",
      "“glm.fit: fitted rates numerically 0 occurred”"
     ]
    },
    {
     "name": "stdout",
     "output_type": "stream",
     "text": [
      "."
     ]
    },
    {
     "name": "stderr",
     "output_type": "stream",
     "text": [
      "Warning message:\n",
      "“glm.fit: fitted rates numerically 0 occurred”Warning message:\n",
      "“glm.fit: fitted rates numerically 0 occurred”"
     ]
    },
    {
     "name": "stdout",
     "output_type": "stream",
     "text": [
      ".."
     ]
    },
    {
     "name": "stderr",
     "output_type": "stream",
     "text": [
      "Warning message:\n",
      "“glm.fit: fitted rates numerically 0 occurred”Warning message:\n",
      "“glm.fit: fitted rates numerically 0 occurred”Warning message:\n",
      "“glm.fit: fitted rates numerically 0 occurred”Warning message:\n",
      "“glm.fit: fitted rates numerically 0 occurred”Warning message:\n",
      "“glm.fit: fitted rates numerically 0 occurred”Warning message:\n",
      "“glm.fit: fitted rates numerically 0 occurred”Warning message:\n",
      "“glm.fit: fitted rates numerically 0 occurred”Warning message:\n",
      "“glm.fit: fitted rates numerically 0 occurred”Warning message:\n",
      "“glm.fit: fitted rates numerically 0 occurred”Warning message:\n",
      "“glm.fit: fitted rates numerically 0 occurred”Warning message:\n",
      "“glm.fit: fitted rates numerically 0 occurred”Warning message:\n",
      "“glm.fit: fitted rates numerically 0 occurred”Warning message:\n",
      "“glm.fit: fitted rates numerically 0 occurred”Warning message:\n",
      "“glm.fit: fitted rates numerically 0 occurred”Warning message:\n",
      "“glm.fit: fitted rates numerically 0 occurred”"
     ]
    },
    {
     "name": "stdout",
     "output_type": "stream",
     "text": [
      "."
     ]
    },
    {
     "name": "stderr",
     "output_type": "stream",
     "text": [
      "Warning message:\n",
      "“glm.fit: fitted rates numerically 0 occurred”Warning message:\n",
      "“glm.fit: fitted rates numerically 0 occurred”"
     ]
    },
    {
     "name": "stdout",
     "output_type": "stream",
     "text": [
      "."
     ]
    },
    {
     "name": "stderr",
     "output_type": "stream",
     "text": [
      "Warning message:\n",
      "“glm.fit: fitted rates numerically 0 occurred”Warning message:\n",
      "“glm.fit: fitted rates numerically 0 occurred”Warning message:\n",
      "“glm.fit: fitted rates numerically 0 occurred”Warning message:\n",
      "“glm.fit: fitted rates numerically 0 occurred”Warning message:\n",
      "“glm.fit: fitted rates numerically 0 occurred”Warning message:\n",
      "“glm.fit: fitted rates numerically 0 occurred”Warning message:\n",
      "“glm.fit: fitted rates numerically 0 occurred”Warning message:\n",
      "“glm.fit: fitted rates numerically 0 occurred”Warning message:\n",
      "“glm.fit: fitted rates numerically 0 occurred”Warning message:\n",
      "“glm.fit: fitted rates numerically 0 occurred”"
     ]
    },
    {
     "name": "stdout",
     "output_type": "stream",
     "text": [
      "."
     ]
    },
    {
     "name": "stderr",
     "output_type": "stream",
     "text": [
      "Warning message:\n",
      "“glm.fit: fitted rates numerically 0 occurred”Warning message:\n",
      "“glm.fit: fitted rates numerically 0 occurred”Warning message:\n",
      "“glm.fit: fitted rates numerically 0 occurred”Warning message:\n",
      "“glm.fit: fitted rates numerically 0 occurred”"
     ]
    },
    {
     "name": "stdout",
     "output_type": "stream",
     "text": [
      "..."
     ]
    },
    {
     "name": "stderr",
     "output_type": "stream",
     "text": [
      "Warning message:\n",
      "“glm.fit: fitted rates numerically 0 occurred”"
     ]
    },
    {
     "name": "stdout",
     "output_type": "stream",
     "text": [
      "."
     ]
    },
    {
     "name": "stderr",
     "output_type": "stream",
     "text": [
      "Warning message:\n",
      "“glm.fit: fitted rates numerically 0 occurred”Warning message:\n",
      "“glm.fit: fitted rates numerically 0 occurred”Warning message:\n",
      "“glm.fit: fitted rates numerically 0 occurred”Warning message:\n",
      "“glm.fit: fitted rates numerically 0 occurred”Warning message:\n",
      "“glm.fit: fitted rates numerically 0 occurred”Warning message:\n",
      "“glm.fit: fitted rates numerically 0 occurred”"
     ]
    },
    {
     "name": "stdout",
     "output_type": "stream",
     "text": [
      "..."
     ]
    },
    {
     "name": "stderr",
     "output_type": "stream",
     "text": [
      "Warning message:\n",
      "“glm.fit: fitted rates numerically 0 occurred”Warning message:\n",
      "“glm.fit: fitted rates numerically 0 occurred”Warning message:\n",
      "“glm.fit: fitted rates numerically 0 occurred”"
     ]
    },
    {
     "name": "stdout",
     "output_type": "stream",
     "text": [
      "."
     ]
    },
    {
     "name": "stderr",
     "output_type": "stream",
     "text": [
      "Warning message:\n",
      "“glm.fit: fitted rates numerically 0 occurred”Warning message:\n",
      "“glm.fit: fitted rates numerically 0 occurred”"
     ]
    },
    {
     "name": "stdout",
     "output_type": "stream",
     "text": [
      ".."
     ]
    },
    {
     "name": "stderr",
     "output_type": "stream",
     "text": [
      "Warning message:\n",
      "“glm.fit: fitted rates numerically 0 occurred”Warning message:\n",
      "“glm.fit: fitted rates numerically 0 occurred”Warning message:\n",
      "“glm.fit: fitted rates numerically 0 occurred”Warning message:\n",
      "“glm.fit: fitted rates numerically 0 occurred”Warning message:\n",
      "“glm.fit: fitted rates numerically 0 occurred”Warning message:\n",
      "“glm.fit: fitted rates numerically 0 occurred”Warning message:\n",
      "“glm.fit: fitted rates numerically 0 occurred”Warning message:\n",
      "“glm.fit: fitted rates numerically 0 occurred”Warning message:\n",
      "“glm.fit: fitted rates numerically 0 occurred”Warning message:\n",
      "“glm.fit: fitted rates numerically 0 occurred”Warning message:\n",
      "“glm.fit: fitted rates numerically 0 occurred”Warning message:\n",
      "“glm.fit: fitted rates numerically 0 occurred”Warning message:\n",
      "“glm.fit: fitted rates numerically 0 occurred”Warning message:\n",
      "“glm.fit: fitted rates numerically 0 occurred”Warning message:\n",
      "“glm.fit: fitted rates numerically 0 occurred”Warning message:\n",
      "“glm.fit: fitted rates numerically 0 occurred”Warning message:\n",
      "“glm.fit: fitted rates numerically 0 occurred”"
     ]
    },
    {
     "name": "stdout",
     "output_type": "stream",
     "text": [
      "."
     ]
    },
    {
     "name": "stderr",
     "output_type": "stream",
     "text": [
      "Warning message:\n",
      "“glm.fit: fitted rates numerically 0 occurred”Warning message:\n",
      "“glm.fit: fitted rates numerically 0 occurred”Warning message:\n",
      "“glm.fit: fitted rates numerically 0 occurred”Warning message:\n",
      "“glm.fit: fitted rates numerically 0 occurred”Warning message:\n",
      "“glm.fit: fitted rates numerically 0 occurred”Warning message:\n",
      "“glm.fit: fitted rates numerically 0 occurred”Warning message:\n",
      "“glm.fit: fitted rates numerically 0 occurred”Warning message:\n",
      "“glm.fit: fitted rates numerically 0 occurred”Warning message:\n",
      "“glm.fit: fitted rates numerically 0 occurred”"
     ]
    },
    {
     "name": "stdout",
     "output_type": "stream",
     "text": [
      "."
     ]
    },
    {
     "name": "stderr",
     "output_type": "stream",
     "text": [
      "Warning message:\n",
      "“glm.fit: fitted rates numerically 0 occurred”Warning message:\n",
      "“glm.fit: fitted rates numerically 0 occurred”Warning message:\n",
      "“glm.fit: fitted rates numerically 0 occurred”Warning message:\n",
      "“glm.fit: fitted rates numerically 0 occurred”Warning message:\n",
      "“glm.fit: fitted rates numerically 0 occurred”Warning message:\n",
      "“glm.fit: fitted rates numerically 0 occurred”Warning message:\n",
      "“glm.fit: fitted rates numerically 0 occurred”Warning message:\n",
      "“glm.fit: fitted rates numerically 0 occurred”"
     ]
    },
    {
     "name": "stdout",
     "output_type": "stream",
     "text": [
      "."
     ]
    },
    {
     "name": "stderr",
     "output_type": "stream",
     "text": [
      "Warning message:\n",
      "“glm.fit: fitted rates numerically 0 occurred”"
     ]
    },
    {
     "name": "stdout",
     "output_type": "stream",
     "text": [
      "."
     ]
    },
    {
     "name": "stderr",
     "output_type": "stream",
     "text": [
      "Warning message:\n",
      "“glm.fit: fitted rates numerically 0 occurred”Warning message:\n",
      "“glm.fit: fitted rates numerically 0 occurred”Warning message:\n",
      "“glm.fit: fitted rates numerically 0 occurred”Warning message:\n",
      "“glm.fit: fitted rates numerically 0 occurred”"
     ]
    },
    {
     "name": "stdout",
     "output_type": "stream",
     "text": [
      "."
     ]
    },
    {
     "name": "stderr",
     "output_type": "stream",
     "text": [
      "Warning message:\n",
      "“glm.fit: fitted rates numerically 0 occurred”"
     ]
    },
    {
     "name": "stdout",
     "output_type": "stream",
     "text": [
      "."
     ]
    },
    {
     "name": "stderr",
     "output_type": "stream",
     "text": [
      "Warning message:\n",
      "“glm.fit: fitted rates numerically 0 occurred”Warning message:\n",
      "“glm.fit: fitted rates numerically 0 occurred”Warning message:\n",
      "“glm.fit: fitted rates numerically 0 occurred”Warning message:\n",
      "“glm.fit: fitted rates numerically 0 occurred”"
     ]
    },
    {
     "name": "stdout",
     "output_type": "stream",
     "text": [
      "..."
     ]
    },
    {
     "name": "stderr",
     "output_type": "stream",
     "text": [
      "Warning message:\n",
      "“glm.fit: fitted rates numerically 0 occurred”Warning message:\n",
      "“glm.fit: fitted rates numerically 0 occurred”"
     ]
    },
    {
     "name": "stdout",
     "output_type": "stream",
     "text": [
      ".."
     ]
    },
    {
     "name": "stderr",
     "output_type": "stream",
     "text": [
      "Warning message:\n",
      "“glm.fit: fitted rates numerically 0 occurred”"
     ]
    },
    {
     "name": "stdout",
     "output_type": "stream",
     "text": [
      ".."
     ]
    },
    {
     "name": "stderr",
     "output_type": "stream",
     "text": [
      "Warning message:\n",
      "“glm.fit: fitted rates numerically 0 occurred”Warning message:\n",
      "“glm.fit: fitted rates numerically 0 occurred”Warning message:\n",
      "“glm.fit: fitted rates numerically 0 occurred”Warning message:\n",
      "“glm.fit: fitted rates numerically 0 occurred”Warning message:\n",
      "“glm.fit: fitted rates numerically 0 occurred”Warning message:\n",
      "“glm.fit: fitted rates numerically 0 occurred”Warning message:\n",
      "“glm.fit: fitted rates numerically 0 occurred”Warning message:\n",
      "“glm.fit: fitted rates numerically 0 occurred”Warning message:\n",
      "“glm.fit: fitted rates numerically 0 occurred”Warning message:\n",
      "“glm.fit: fitted rates numerically 0 occurred”Warning message:\n",
      "“glm.fit: fitted rates numerically 0 occurred”"
     ]
    },
    {
     "name": "stdout",
     "output_type": "stream",
     "text": [
      ".."
     ]
    },
    {
     "name": "stderr",
     "output_type": "stream",
     "text": [
      "Warning message:\n",
      "“glm.fit: fitted rates numerically 0 occurred”Warning message:\n",
      "“glm.fit: fitted rates numerically 0 occurred”"
     ]
    },
    {
     "name": "stdout",
     "output_type": "stream",
     "text": [
      "."
     ]
    },
    {
     "name": "stderr",
     "output_type": "stream",
     "text": [
      "Warning message:\n",
      "“glm.fit: fitted rates numerically 0 occurred”Warning message:\n",
      "“glm.fit: fitted rates numerically 0 occurred”Warning message:\n",
      "“glm.fit: fitted rates numerically 0 occurred”Warning message:\n",
      "“glm.fit: fitted rates numerically 0 occurred”Warning message:\n",
      "“glm.fit: fitted rates numerically 0 occurred”Warning message:\n",
      "“glm.fit: fitted rates numerically 0 occurred”Warning message:\n",
      "“glm.fit: fitted rates numerically 0 occurred”Warning message:\n",
      "“glm.fit: fitted rates numerically 0 occurred”Warning message:\n",
      "“glm.fit: fitted rates numerically 0 occurred”Warning message:\n",
      "“glm.fit: fitted rates numerically 0 occurred”Warning message:\n",
      "“glm.fit: fitted rates numerically 0 occurred”Warning message:\n",
      "“glm.fit: fitted rates numerically 0 occurred”Warning message:\n",
      "“glm.fit: fitted rates numerically 0 occurred”Warning message:\n",
      "“glm.fit: fitted rates numerically 0 occurred”Warning message:\n",
      "“glm.fit: fitted rates numerically 0 occurred”Warning message:\n",
      "“glm.fit: fitted rates numerically 0 occurred”Warning message:\n",
      "“glm.fit: fitted rates numerically 0 occurred”Warning message:\n",
      "“glm.fit: fitted rates numerically 0 occurred”Warning message:\n",
      "“glm.fit: fitted rates numerically 0 occurred”Warning message:\n",
      "“glm.fit: fitted rates numerically 0 occurred”Warning message:\n",
      "“glm.fit: fitted rates numerically 0 occurred”Warning message:\n",
      "“glm.fit: fitted rates numerically 0 occurred”Warning message:\n",
      "“glm.fit: fitted rates numerically 0 occurred”"
     ]
    },
    {
     "name": "stdout",
     "output_type": "stream",
     "text": [
      "."
     ]
    },
    {
     "name": "stderr",
     "output_type": "stream",
     "text": [
      "Warning message:\n",
      "“glm.fit: fitted rates numerically 0 occurred”Warning message:\n",
      "“glm.fit: fitted rates numerically 0 occurred”"
     ]
    },
    {
     "name": "stdout",
     "output_type": "stream",
     "text": [
      "."
     ]
    },
    {
     "name": "stderr",
     "output_type": "stream",
     "text": [
      "Warning message:\n",
      "“glm.fit: fitted rates numerically 0 occurred”Warning message:\n",
      "“glm.fit: fitted rates numerically 0 occurred”Warning message:\n",
      "“glm.fit: fitted rates numerically 0 occurred”Warning message:\n",
      "“glm.fit: fitted rates numerically 0 occurred”"
     ]
    },
    {
     "name": "stdout",
     "output_type": "stream",
     "text": [
      "."
     ]
    },
    {
     "name": "stderr",
     "output_type": "stream",
     "text": [
      "Warning message:\n",
      "“glm.fit: fitted rates numerically 0 occurred”Warning message:\n",
      "“glm.fit: fitted rates numerically 0 occurred”"
     ]
    },
    {
     "name": "stdout",
     "output_type": "stream",
     "text": [
      "."
     ]
    },
    {
     "name": "stderr",
     "output_type": "stream",
     "text": [
      "Warning message:\n",
      "“glm.fit: fitted rates numerically 0 occurred”"
     ]
    },
    {
     "name": "stdout",
     "output_type": "stream",
     "text": [
      "...."
     ]
    },
    {
     "name": "stderr",
     "output_type": "stream",
     "text": [
      "Warning message:\n",
      "“glm.fit: fitted rates numerically 0 occurred”Warning message:\n",
      "“glm.fit: fitted rates numerically 0 occurred”"
     ]
    },
    {
     "name": "stdout",
     "output_type": "stream",
     "text": [
      ".."
     ]
    },
    {
     "name": "stderr",
     "output_type": "stream",
     "text": [
      "Warning message:\n",
      "“glm.fit: fitted rates numerically 0 occurred”Warning message:\n",
      "“glm.fit: fitted rates numerically 0 occurred”Warning message:\n",
      "“glm.fit: fitted rates numerically 0 occurred”Warning message:\n",
      "“glm.fit: fitted rates numerically 0 occurred”Warning message:\n",
      "“glm.fit: fitted rates numerically 0 occurred”Warning message:\n",
      "“glm.fit: fitted rates numerically 0 occurred”Warning message:\n",
      "“glm.fit: fitted rates numerically 0 occurred”Warning message:\n",
      "“glm.fit: fitted rates numerically 0 occurred”Warning message:\n",
      "“glm.fit: fitted rates numerically 0 occurred”Warning message:\n",
      "“glm.fit: fitted rates numerically 0 occurred”Warning message:\n",
      "“glm.fit: fitted rates numerically 0 occurred”Warning message:\n",
      "“glm.fit: fitted rates numerically 0 occurred”Warning message:\n",
      "“glm.fit: fitted rates numerically 0 occurred”Warning message:\n",
      "“glm.fit: fitted rates numerically 0 occurred”Warning message:\n",
      "“glm.fit: fitted rates numerically 0 occurred”Warning message:\n",
      "“glm.fit: fitted rates numerically 0 occurred”"
     ]
    },
    {
     "name": "stdout",
     "output_type": "stream",
     "text": [
      ".."
     ]
    },
    {
     "name": "stderr",
     "output_type": "stream",
     "text": [
      "Warning message:\n",
      "“glm.fit: fitted rates numerically 0 occurred”Warning message:\n",
      "“glm.fit: fitted rates numerically 0 occurred”Warning message:\n",
      "“glm.fit: fitted rates numerically 0 occurred”Warning message:\n",
      "“glm.fit: fitted rates numerically 0 occurred”Warning message:\n",
      "“glm.fit: fitted rates numerically 0 occurred”Warning message:\n",
      "“glm.fit: fitted rates numerically 0 occurred”"
     ]
    },
    {
     "name": "stdout",
     "output_type": "stream",
     "text": [
      "."
     ]
    },
    {
     "name": "stderr",
     "output_type": "stream",
     "text": [
      "Warning message:\n",
      "“glm.fit: fitted rates numerically 0 occurred”Warning message:\n",
      "“glm.fit: fitted rates numerically 0 occurred”Warning message:\n",
      "“glm.fit: fitted rates numerically 0 occurred”Warning message:\n",
      "“glm.fit: fitted rates numerically 0 occurred”Warning message:\n",
      "“glm.fit: fitted rates numerically 0 occurred”Warning message:\n",
      "“glm.fit: fitted rates numerically 0 occurred”Warning message:\n",
      "“glm.fit: fitted rates numerically 0 occurred”Warning message:\n",
      "“glm.fit: fitted rates numerically 0 occurred”Warning message:\n",
      "“glm.fit: fitted rates numerically 0 occurred”Warning message:\n",
      "“glm.fit: fitted rates numerically 0 occurred”Warning message:\n",
      "“glm.fit: fitted rates numerically 0 occurred”Warning message:\n",
      "“glm.fit: fitted rates numerically 0 occurred”Warning message:\n",
      "“glm.fit: fitted rates numerically 0 occurred”Warning message:\n",
      "“glm.fit: fitted rates numerically 0 occurred”Warning message:\n",
      "“glm.fit: fitted rates numerically 0 occurred”Warning message:\n",
      "“glm.fit: fitted rates numerically 0 occurred”Warning message:\n",
      "“glm.fit: fitted rates numerically 0 occurred”Warning message:\n",
      "“glm.fit: fitted rates numerically 0 occurred”Warning message:\n",
      "“glm.fit: fitted rates numerically 0 occurred”"
     ]
    },
    {
     "name": "stdout",
     "output_type": "stream",
     "text": [
      "."
     ]
    },
    {
     "name": "stderr",
     "output_type": "stream",
     "text": [
      "Warning message:\n",
      "“glm.fit: fitted rates numerically 0 occurred”Warning message:\n",
      "“glm.fit: fitted rates numerically 0 occurred”Warning message:\n",
      "“glm.fit: fitted rates numerically 0 occurred”Warning message:\n",
      "“glm.fit: fitted rates numerically 0 occurred”"
     ]
    },
    {
     "name": "stdout",
     "output_type": "stream",
     "text": [
      ".."
     ]
    },
    {
     "name": "stderr",
     "output_type": "stream",
     "text": [
      "Warning message:\n",
      "“glm.fit: fitted rates numerically 0 occurred”Warning message:\n",
      "“glm.fit: fitted rates numerically 0 occurred”Warning message:\n",
      "“glm.fit: fitted rates numerically 0 occurred”Warning message:\n",
      "“glm.fit: fitted rates numerically 0 occurred”Warning message:\n",
      "“glm.fit: fitted rates numerically 0 occurred”Warning message:\n",
      "“glm.fit: fitted rates numerically 0 occurred”Warning message:\n",
      "“glm.fit: fitted rates numerically 0 occurred”Warning message:\n",
      "“glm.fit: fitted rates numerically 0 occurred”Warning message:\n",
      "“glm.fit: fitted rates numerically 0 occurred”"
     ]
    },
    {
     "name": "stdout",
     "output_type": "stream",
     "text": [
      "."
     ]
    },
    {
     "name": "stderr",
     "output_type": "stream",
     "text": [
      "Warning message:\n",
      "“glm.fit: fitted rates numerically 0 occurred”Warning message:\n",
      "“glm.fit: fitted rates numerically 0 occurred”Warning message:\n",
      "“glm.fit: fitted rates numerically 0 occurred”"
     ]
    },
    {
     "name": "stdout",
     "output_type": "stream",
     "text": [
      "."
     ]
    },
    {
     "name": "stderr",
     "output_type": "stream",
     "text": [
      "Warning message:\n",
      "“glm.fit: fitted rates numerically 0 occurred”Warning message:\n",
      "“glm.fit: fitted rates numerically 0 occurred”Warning message:\n",
      "“glm.fit: fitted rates numerically 0 occurred”Warning message:\n",
      "“glm.fit: fitted rates numerically 0 occurred”Warning message:\n",
      "“glm.fit: fitted rates numerically 0 occurred”Warning message:\n",
      "“glm.fit: fitted rates numerically 0 occurred”Warning message:\n",
      "“glm.fit: fitted rates numerically 0 occurred”Warning message:\n",
      "“glm.fit: fitted rates numerically 0 occurred”Warning message:\n",
      "“glm.fit: fitted rates numerically 0 occurred”Warning message:\n",
      "“glm.fit: fitted rates numerically 0 occurred”Warning message:\n",
      "“glm.fit: fitted rates numerically 0 occurred”Warning message:\n",
      "“glm.fit: fitted rates numerically 0 occurred”Warning message:\n",
      "“glm.fit: fitted rates numerically 0 occurred”Warning message:\n",
      "“glm.fit: fitted rates numerically 0 occurred”Warning message:\n",
      "“glm.fit: fitted rates numerically 0 occurred”Warning message:\n",
      "“glm.fit: fitted rates numerically 0 occurred”Warning message:\n",
      "“glm.fit: fitted rates numerically 0 occurred”Warning message:\n",
      "“glm.fit: fitted rates numerically 0 occurred”Warning message:\n",
      "“glm.fit: fitted rates numerically 0 occurred”Warning message:\n",
      "“glm.fit: fitted rates numerically 0 occurred”Warning message:\n",
      "“glm.fit: fitted rates numerically 0 occurred”Warning message:\n",
      "“glm.fit: fitted rates numerically 0 occurred”Warning message:\n",
      "“glm.fit: fitted rates numerically 0 occurred”Warning message:\n",
      "“glm.fit: fitted rates numerically 0 occurred”Warning message:\n",
      "“glm.fit: fitted rates numerically 0 occurred”Warning message:\n",
      "“glm.fit: fitted rates numerically 0 occurred”Warning message:\n",
      "“glm.fit: fitted rates numerically 0 occurred”Warning message:\n",
      "“glm.fit: fitted rates numerically 0 occurred”Warning message:\n",
      "“glm.fit: fitted rates numerically 0 occurred”Warning message:\n",
      "“glm.fit: fitted rates numerically 0 occurred”Warning message:\n",
      "“glm.fit: fitted rates numerically 0 occurred”Warning message:\n",
      "“glm.fit: fitted rates numerically 0 occurred”"
     ]
    },
    {
     "name": "stdout",
     "output_type": "stream",
     "text": [
      "."
     ]
    },
    {
     "name": "stderr",
     "output_type": "stream",
     "text": [
      "Warning message:\n",
      "“glm.fit: fitted rates numerically 0 occurred”Warning message:\n",
      "“glm.fit: fitted rates numerically 0 occurred”Warning message:\n",
      "“glm.fit: fitted rates numerically 0 occurred”"
     ]
    },
    {
     "name": "stdout",
     "output_type": "stream",
     "text": [
      "..."
     ]
    },
    {
     "name": "stderr",
     "output_type": "stream",
     "text": [
      "Warning message:\n",
      "“glm.fit: fitted rates numerically 0 occurred”Warning message:\n",
      "“glm.fit: fitted rates numerically 0 occurred”Warning message:\n",
      "“glm.fit: fitted rates numerically 0 occurred”Warning message:\n",
      "“glm.fit: fitted rates numerically 0 occurred”Warning message:\n",
      "“glm.fit: fitted rates numerically 0 occurred”Warning message:\n",
      "“glm.fit: fitted rates numerically 0 occurred”Warning message:\n",
      "“glm.fit: fitted rates numerically 0 occurred”"
     ]
    },
    {
     "name": "stdout",
     "output_type": "stream",
     "text": [
      "."
     ]
    },
    {
     "name": "stderr",
     "output_type": "stream",
     "text": [
      "Warning message:\n",
      "“glm.fit: fitted rates numerically 0 occurred”Warning message:\n",
      "“glm.fit: fitted rates numerically 0 occurred”"
     ]
    },
    {
     "name": "stdout",
     "output_type": "stream",
     "text": [
      "."
     ]
    },
    {
     "name": "stderr",
     "output_type": "stream",
     "text": [
      "Warning message:\n",
      "“glm.fit: fitted rates numerically 0 occurred”Warning message:\n",
      "“glm.fit: fitted rates numerically 0 occurred”"
     ]
    },
    {
     "name": "stdout",
     "output_type": "stream",
     "text": [
      ".."
     ]
    },
    {
     "name": "stderr",
     "output_type": "stream",
     "text": [
      "Warning message:\n",
      "“glm.fit: fitted rates numerically 0 occurred”Warning message:\n",
      "“glm.fit: fitted rates numerically 0 occurred”Warning message:\n",
      "“glm.fit: fitted rates numerically 0 occurred”"
     ]
    },
    {
     "name": "stdout",
     "output_type": "stream",
     "text": [
      "."
     ]
    },
    {
     "name": "stderr",
     "output_type": "stream",
     "text": [
      "Warning message:\n",
      "“glm.fit: fitted rates numerically 0 occurred”Warning message:\n",
      "“glm.fit: fitted rates numerically 0 occurred”Warning message:\n",
      "“glm.fit: fitted rates numerically 0 occurred”"
     ]
    },
    {
     "name": "stdout",
     "output_type": "stream",
     "text": [
      "..."
     ]
    },
    {
     "name": "stderr",
     "output_type": "stream",
     "text": [
      "Warning message:\n",
      "“glm.fit: fitted rates numerically 0 occurred”Warning message:\n",
      "“glm.fit: fitted rates numerically 0 occurred”Warning message:\n",
      "“glm.fit: fitted rates numerically 0 occurred”Warning message:\n",
      "“glm.fit: fitted rates numerically 0 occurred”Warning message:\n",
      "“glm.fit: fitted rates numerically 0 occurred”Warning message:\n",
      "“glm.fit: fitted rates numerically 0 occurred”Warning message:\n",
      "“glm.fit: fitted rates numerically 0 occurred”"
     ]
    },
    {
     "name": "stdout",
     "output_type": "stream",
     "text": [
      ".."
     ]
    },
    {
     "name": "stderr",
     "output_type": "stream",
     "text": [
      "Warning message:\n",
      "“glm.fit: fitted rates numerically 0 occurred”Warning message:\n",
      "“glm.fit: fitted rates numerically 0 occurred”Warning message:\n",
      "“glm.fit: fitted rates numerically 0 occurred”Warning message:\n",
      "“glm.fit: fitted rates numerically 0 occurred”Warning message:\n",
      "“glm.fit: fitted rates numerically 0 occurred”Warning message:\n",
      "“glm.fit: fitted rates numerically 0 occurred”Warning message:\n",
      "“glm.fit: fitted rates numerically 0 occurred”"
     ]
    },
    {
     "name": "stdout",
     "output_type": "stream",
     "text": [
      "."
     ]
    },
    {
     "name": "stderr",
     "output_type": "stream",
     "text": [
      "Warning message:\n",
      "“glm.fit: fitted rates numerically 0 occurred”"
     ]
    },
    {
     "name": "stdout",
     "output_type": "stream",
     "text": [
      "."
     ]
    },
    {
     "name": "stderr",
     "output_type": "stream",
     "text": [
      "Warning message:\n",
      "“glm.fit: fitted rates numerically 0 occurred”Warning message:\n",
      "“glm.fit: fitted rates numerically 0 occurred”Warning message:\n",
      "“glm.fit: fitted rates numerically 0 occurred”Warning message:\n",
      "“glm.fit: fitted rates numerically 0 occurred”Warning message:\n",
      "“glm.fit: fitted rates numerically 0 occurred”Warning message:\n",
      "“glm.fit: fitted rates numerically 0 occurred”Warning message:\n",
      "“glm.fit: fitted rates numerically 0 occurred”Warning message:\n",
      "“glm.fit: fitted rates numerically 0 occurred”Warning message:\n",
      "“glm.fit: fitted rates numerically 0 occurred”Warning message:\n",
      "“glm.fit: fitted rates numerically 0 occurred”Warning message:\n",
      "“glm.fit: fitted rates numerically 0 occurred”Warning message:\n",
      "“glm.fit: fitted rates numerically 0 occurred”Warning message:\n",
      "“glm.fit: fitted rates numerically 0 occurred”"
     ]
    },
    {
     "name": "stdout",
     "output_type": "stream",
     "text": [
      "..."
     ]
    },
    {
     "name": "stderr",
     "output_type": "stream",
     "text": [
      "Warning message:\n",
      "“glm.fit: fitted rates numerically 0 occurred”Warning message:\n",
      "“glm.fit: fitted rates numerically 0 occurred”"
     ]
    },
    {
     "name": "stdout",
     "output_type": "stream",
     "text": [
      ".."
     ]
    },
    {
     "name": "stderr",
     "output_type": "stream",
     "text": [
      "Warning message:\n",
      "“glm.fit: fitted rates numerically 0 occurred”Warning message:\n",
      "“glm.fit: fitted rates numerically 0 occurred”"
     ]
    },
    {
     "name": "stdout",
     "output_type": "stream",
     "text": [
      "...."
     ]
    },
    {
     "name": "stderr",
     "output_type": "stream",
     "text": [
      "Warning message:\n",
      "“glm.fit: fitted rates numerically 0 occurred”"
     ]
    },
    {
     "name": "stdout",
     "output_type": "stream",
     "text": [
      ".."
     ]
    },
    {
     "name": "stderr",
     "output_type": "stream",
     "text": [
      "Warning message:\n",
      "“glm.fit: fitted rates numerically 0 occurred”Warning message:\n",
      "“glm.fit: fitted rates numerically 0 occurred”Warning message:\n",
      "“glm.fit: fitted rates numerically 0 occurred”"
     ]
    },
    {
     "name": "stdout",
     "output_type": "stream",
     "text": [
      ".."
     ]
    },
    {
     "name": "stderr",
     "output_type": "stream",
     "text": [
      "Warning message:\n",
      "“glm.fit: fitted rates numerically 0 occurred”Warning message:\n",
      "“glm.fit: fitted rates numerically 0 occurred”Warning message:\n",
      "“glm.fit: fitted rates numerically 0 occurred”Warning message:\n",
      "“glm.fit: fitted rates numerically 0 occurred”Warning message:\n",
      "“glm.fit: fitted rates numerically 0 occurred”Warning message:\n",
      "“glm.fit: fitted rates numerically 0 occurred”Warning message:\n",
      "“glm.fit: fitted rates numerically 0 occurred”Warning message:\n",
      "“glm.fit: fitted rates numerically 0 occurred”Warning message:\n",
      "“glm.fit: fitted rates numerically 0 occurred”Warning message:\n",
      "“glm.fit: fitted rates numerically 0 occurred”Warning message:\n",
      "“glm.fit: fitted rates numerically 0 occurred”Warning message:\n",
      "“glm.fit: fitted rates numerically 0 occurred”Warning message:\n",
      "“glm.fit: fitted rates numerically 0 occurred”Warning message:\n",
      "“glm.fit: fitted rates numerically 0 occurred”Warning message:\n",
      "“glm.fit: fitted rates numerically 0 occurred”Warning message:\n",
      "“glm.fit: fitted rates numerically 0 occurred”Warning message:\n",
      "“glm.fit: fitted rates numerically 0 occurred”Warning message:\n",
      "“glm.fit: fitted rates numerically 0 occurred”Warning message:\n",
      "“glm.fit: fitted rates numerically 0 occurred”"
     ]
    },
    {
     "name": "stdout",
     "output_type": "stream",
     "text": [
      "......."
     ]
    },
    {
     "name": "stderr",
     "output_type": "stream",
     "text": [
      "Warning message:\n",
      "“glm.fit: fitted rates numerically 0 occurred”"
     ]
    },
    {
     "name": "stdout",
     "output_type": "stream",
     "text": [
      "."
     ]
    },
    {
     "name": "stderr",
     "output_type": "stream",
     "text": [
      "Warning message:\n",
      "“glm.fit: fitted rates numerically 0 occurred”Warning message:\n",
      "“glm.fit: fitted rates numerically 0 occurred”Warning message:\n",
      "“glm.fit: fitted rates numerically 0 occurred”Warning message:\n",
      "“glm.fit: fitted rates numerically 0 occurred”Warning message:\n",
      "“glm.fit: fitted rates numerically 0 occurred”Warning message:\n",
      "“glm.fit: fitted rates numerically 0 occurred”Warning message:\n",
      "“glm.fit: fitted rates numerically 0 occurred”"
     ]
    },
    {
     "name": "stdout",
     "output_type": "stream",
     "text": [
      "."
     ]
    },
    {
     "name": "stderr",
     "output_type": "stream",
     "text": [
      "Warning message:\n",
      "“glm.fit: fitted rates numerically 0 occurred”Warning message:\n",
      "“glm.fit: fitted rates numerically 0 occurred”Warning message:\n",
      "“glm.fit: fitted rates numerically 0 occurred”"
     ]
    },
    {
     "name": "stdout",
     "output_type": "stream",
     "text": [
      "."
     ]
    },
    {
     "name": "stderr",
     "output_type": "stream",
     "text": [
      "Warning message:\n",
      "“glm.fit: fitted rates numerically 0 occurred”Warning message:\n",
      "“glm.fit: fitted rates numerically 0 occurred”Warning message:\n",
      "“glm.fit: fitted rates numerically 0 occurred”Warning message:\n",
      "“glm.fit: fitted rates numerically 0 occurred”Warning message:\n",
      "“glm.fit: fitted rates numerically 0 occurred”Warning message:\n",
      "“glm.fit: fitted rates numerically 0 occurred”Warning message:\n",
      "“glm.fit: fitted rates numerically 0 occurred”Warning message:\n",
      "“glm.fit: fitted rates numerically 0 occurred”Warning message:\n",
      "“glm.fit: fitted rates numerically 0 occurred”Warning message:\n",
      "“glm.fit: fitted rates numerically 0 occurred”Warning message:\n",
      "“glm.fit: fitted rates numerically 0 occurred”Warning message:\n",
      "“glm.fit: fitted rates numerically 0 occurred”Warning message:\n",
      "“glm.fit: fitted rates numerically 0 occurred”Warning message:\n",
      "“glm.fit: fitted rates numerically 0 occurred”"
     ]
    },
    {
     "name": "stdout",
     "output_type": "stream",
     "text": [
      "."
     ]
    },
    {
     "name": "stderr",
     "output_type": "stream",
     "text": [
      "Warning message:\n",
      "“glm.fit: fitted rates numerically 0 occurred”Warning message:\n",
      "“glm.fit: fitted rates numerically 0 occurred”Warning message:\n",
      "“glm.fit: fitted rates numerically 0 occurred”Warning message:\n",
      "“glm.fit: fitted rates numerically 0 occurred”Warning message:\n",
      "“glm.fit: fitted rates numerically 0 occurred”"
     ]
    },
    {
     "name": "stdout",
     "output_type": "stream",
     "text": [
      "."
     ]
    },
    {
     "name": "stderr",
     "output_type": "stream",
     "text": [
      "Warning message:\n",
      "“glm.fit: fitted rates numerically 0 occurred”Warning message:\n",
      "“glm.fit: fitted rates numerically 0 occurred”Warning message:\n",
      "“glm.fit: fitted rates numerically 0 occurred”"
     ]
    },
    {
     "name": "stdout",
     "output_type": "stream",
     "text": [
      "..."
     ]
    },
    {
     "name": "stderr",
     "output_type": "stream",
     "text": [
      "Warning message:\n",
      "“glm.fit: fitted rates numerically 0 occurred”Warning message:\n",
      "“glm.fit: fitted rates numerically 0 occurred”Warning message:\n",
      "“glm.fit: fitted rates numerically 0 occurred”Warning message:\n",
      "“glm.fit: fitted rates numerically 0 occurred”"
     ]
    },
    {
     "name": "stdout",
     "output_type": "stream",
     "text": [
      "."
     ]
    },
    {
     "name": "stderr",
     "output_type": "stream",
     "text": [
      "Warning message:\n",
      "“glm.fit: fitted rates numerically 0 occurred”Warning message:\n",
      "“glm.fit: fitted rates numerically 0 occurred”Warning message:\n",
      "“glm.fit: fitted rates numerically 0 occurred”"
     ]
    },
    {
     "name": "stdout",
     "output_type": "stream",
     "text": [
      ".."
     ]
    },
    {
     "name": "stderr",
     "output_type": "stream",
     "text": [
      "Warning message:\n",
      "“glm.fit: fitted rates numerically 0 occurred”Warning message:\n",
      "“glm.fit: fitted rates numerically 0 occurred”Warning message:\n",
      "“glm.fit: fitted rates numerically 0 occurred”"
     ]
    },
    {
     "name": "stdout",
     "output_type": "stream",
     "text": [
      "."
     ]
    },
    {
     "name": "stderr",
     "output_type": "stream",
     "text": [
      "Warning message:\n",
      "“glm.fit: fitted rates numerically 0 occurred”Warning message:\n",
      "“glm.fit: fitted rates numerically 0 occurred”Warning message:\n",
      "“glm.fit: fitted rates numerically 0 occurred”Warning message:\n",
      "“glm.fit: fitted rates numerically 0 occurred”Warning message:\n",
      "“glm.fit: fitted rates numerically 0 occurred”Warning message:\n",
      "“glm.fit: fitted rates numerically 0 occurred”Warning message:\n",
      "“glm.fit: fitted rates numerically 0 occurred”"
     ]
    },
    {
     "name": "stdout",
     "output_type": "stream",
     "text": [
      "."
     ]
    },
    {
     "name": "stderr",
     "output_type": "stream",
     "text": [
      "Warning message:\n",
      "“glm.fit: fitted rates numerically 0 occurred”Warning message:\n",
      "“glm.fit: fitted rates numerically 0 occurred”"
     ]
    },
    {
     "name": "stdout",
     "output_type": "stream",
     "text": [
      ".."
     ]
    },
    {
     "name": "stderr",
     "output_type": "stream",
     "text": [
      "Warning message:\n",
      "“glm.fit: fitted rates numerically 0 occurred”Warning message:\n",
      "“glm.fit: fitted rates numerically 0 occurred”Warning message:\n",
      "“glm.fit: fitted rates numerically 0 occurred”Warning message:\n",
      "“glm.fit: fitted rates numerically 0 occurred”"
     ]
    },
    {
     "name": "stdout",
     "output_type": "stream",
     "text": [
      "."
     ]
    },
    {
     "name": "stderr",
     "output_type": "stream",
     "text": [
      "Warning message:\n",
      "“glm.fit: fitted rates numerically 0 occurred”Warning message:\n",
      "“glm.fit: fitted rates numerically 0 occurred”Warning message:\n",
      "“glm.fit: fitted rates numerically 0 occurred”Warning message:\n",
      "“glm.fit: fitted rates numerically 0 occurred”Warning message:\n",
      "“glm.fit: fitted rates numerically 0 occurred”Warning message:\n",
      "“glm.fit: fitted rates numerically 0 occurred”Warning message:\n",
      "“glm.fit: fitted rates numerically 0 occurred”Warning message:\n",
      "“glm.fit: fitted rates numerically 0 occurred”Warning message:\n",
      "“glm.fit: fitted rates numerically 0 occurred”"
     ]
    },
    {
     "name": "stdout",
     "output_type": "stream",
     "text": [
      "."
     ]
    },
    {
     "name": "stderr",
     "output_type": "stream",
     "text": [
      "Warning message:\n",
      "“glm.fit: fitted rates numerically 0 occurred”Warning message:\n",
      "“glm.fit: fitted rates numerically 0 occurred”"
     ]
    },
    {
     "name": "stdout",
     "output_type": "stream",
     "text": [
      "."
     ]
    },
    {
     "name": "stderr",
     "output_type": "stream",
     "text": [
      "Warning message:\n",
      "“glm.fit: fitted rates numerically 0 occurred”Warning message:\n",
      "“glm.fit: fitted rates numerically 0 occurred”Warning message:\n",
      "“glm.fit: fitted rates numerically 0 occurred”Warning message:\n",
      "“glm.fit: fitted rates numerically 0 occurred”Warning message:\n",
      "“glm.fit: fitted rates numerically 0 occurred”Warning message:\n",
      "“glm.fit: fitted rates numerically 0 occurred”Warning message:\n",
      "“glm.fit: fitted rates numerically 0 occurred”Warning message:\n",
      "“glm.fit: fitted rates numerically 0 occurred”Warning message:\n",
      "“glm.fit: fitted rates numerically 0 occurred”Warning message:\n",
      "“glm.fit: fitted rates numerically 0 occurred”Warning message:\n",
      "“glm.fit: fitted rates numerically 0 occurred”Warning message:\n",
      "“glm.fit: fitted rates numerically 0 occurred”"
     ]
    },
    {
     "name": "stdout",
     "output_type": "stream",
     "text": [
      "."
     ]
    },
    {
     "name": "stderr",
     "output_type": "stream",
     "text": [
      "Warning message:\n",
      "“glm.fit: fitted rates numerically 0 occurred”Warning message:\n",
      "“glm.fit: fitted rates numerically 0 occurred”Warning message:\n",
      "“glm.fit: fitted rates numerically 0 occurred”Warning message:\n",
      "“glm.fit: fitted rates numerically 0 occurred”Warning message:\n",
      "“glm.fit: fitted rates numerically 0 occurred”Warning message:\n",
      "“glm.fit: fitted rates numerically 0 occurred”Warning message:\n",
      "“glm.fit: fitted rates numerically 0 occurred”Warning message:\n",
      "“glm.fit: fitted rates numerically 0 occurred”Warning message:\n",
      "“glm.fit: fitted rates numerically 0 occurred”Warning message:\n",
      "“glm.fit: fitted rates numerically 0 occurred”Warning message:\n",
      "“glm.fit: fitted rates numerically 0 occurred”Warning message:\n",
      "“glm.fit: fitted rates numerically 0 occurred”"
     ]
    },
    {
     "name": "stdout",
     "output_type": "stream",
     "text": [
      "."
     ]
    },
    {
     "name": "stderr",
     "output_type": "stream",
     "text": [
      "Warning message:\n",
      "“glm.fit: fitted rates numerically 0 occurred”Warning message:\n",
      "“glm.fit: fitted rates numerically 0 occurred”Warning message:\n",
      "“glm.fit: fitted rates numerically 0 occurred”Warning message:\n",
      "“glm.fit: fitted rates numerically 0 occurred”Warning message:\n",
      "“glm.fit: fitted rates numerically 0 occurred”"
     ]
    },
    {
     "name": "stdout",
     "output_type": "stream",
     "text": [
      "..."
     ]
    },
    {
     "name": "stderr",
     "output_type": "stream",
     "text": [
      "Warning message:\n",
      "“glm.fit: fitted rates numerically 0 occurred”Warning message:\n",
      "“glm.fit: fitted rates numerically 0 occurred”Warning message:\n",
      "“glm.fit: fitted rates numerically 0 occurred”"
     ]
    },
    {
     "name": "stdout",
     "output_type": "stream",
     "text": [
      "."
     ]
    },
    {
     "name": "stderr",
     "output_type": "stream",
     "text": [
      "Warning message:\n",
      "“glm.fit: fitted rates numerically 0 occurred”Warning message:\n",
      "“glm.fit: fitted rates numerically 0 occurred”"
     ]
    },
    {
     "name": "stdout",
     "output_type": "stream",
     "text": [
      ".."
     ]
    },
    {
     "name": "stderr",
     "output_type": "stream",
     "text": [
      "Warning message:\n",
      "“glm.fit: fitted rates numerically 0 occurred”Warning message:\n",
      "“glm.fit: fitted rates numerically 0 occurred”Warning message:\n",
      "“glm.fit: fitted rates numerically 0 occurred”"
     ]
    },
    {
     "name": "stdout",
     "output_type": "stream",
     "text": [
      "."
     ]
    },
    {
     "name": "stderr",
     "output_type": "stream",
     "text": [
      "Warning message:\n",
      "“glm.fit: fitted rates numerically 0 occurred”Warning message:\n",
      "“glm.fit: fitted rates numerically 0 occurred”Warning message:\n",
      "“glm.fit: fitted rates numerically 0 occurred”Warning message:\n",
      "“glm.fit: fitted rates numerically 0 occurred”Warning message:\n",
      "“glm.fit: fitted rates numerically 0 occurred”Warning message:\n",
      "“glm.fit: fitted rates numerically 0 occurred”Warning message:\n",
      "“glm.fit: fitted rates numerically 0 occurred”Warning message:\n",
      "“glm.fit: fitted rates numerically 0 occurred”Warning message:\n",
      "“glm.fit: fitted rates numerically 0 occurred”Warning message:\n",
      "“glm.fit: fitted rates numerically 0 occurred”Warning message:\n",
      "“glm.fit: fitted rates numerically 0 occurred”Warning message:\n",
      "“glm.fit: fitted rates numerically 0 occurred”Warning message:\n",
      "“glm.fit: fitted rates numerically 0 occurred”"
     ]
    },
    {
     "name": "stdout",
     "output_type": "stream",
     "text": [
      "."
     ]
    },
    {
     "name": "stderr",
     "output_type": "stream",
     "text": [
      "Warning message:\n",
      "“glm.fit: fitted rates numerically 0 occurred”Warning message:\n",
      "“glm.fit: fitted rates numerically 0 occurred”"
     ]
    },
    {
     "name": "stdout",
     "output_type": "stream",
     "text": [
      "...."
     ]
    },
    {
     "name": "stderr",
     "output_type": "stream",
     "text": [
      "Warning message:\n",
      "“glm.fit: fitted rates numerically 0 occurred”Warning message:\n",
      "“glm.fit: fitted rates numerically 0 occurred”Warning message:\n",
      "“glm.fit: fitted rates numerically 0 occurred”Warning message:\n",
      "“glm.fit: fitted rates numerically 0 occurred”Warning message:\n",
      "“glm.fit: fitted rates numerically 0 occurred”Warning message:\n",
      "“glm.fit: fitted rates numerically 0 occurred”Warning message:\n",
      "“glm.fit: fitted rates numerically 0 occurred”"
     ]
    },
    {
     "name": "stdout",
     "output_type": "stream",
     "text": [
      "."
     ]
    },
    {
     "name": "stderr",
     "output_type": "stream",
     "text": [
      "Warning message:\n",
      "“glm.fit: fitted rates numerically 0 occurred”Warning message:\n",
      "“glm.fit: fitted rates numerically 0 occurred”"
     ]
    },
    {
     "name": "stdout",
     "output_type": "stream",
     "text": [
      "."
     ]
    },
    {
     "name": "stderr",
     "output_type": "stream",
     "text": [
      "Warning message:\n",
      "“glm.fit: fitted rates numerically 0 occurred”Warning message:\n",
      "“glm.fit: fitted rates numerically 0 occurred”Warning message:\n",
      "“glm.fit: fitted rates numerically 0 occurred”"
     ]
    },
    {
     "name": "stdout",
     "output_type": "stream",
     "text": [
      "."
     ]
    },
    {
     "name": "stderr",
     "output_type": "stream",
     "text": [
      "Warning message:\n",
      "“glm.fit: fitted rates numerically 0 occurred”Warning message:\n",
      "“glm.fit: fitted rates numerically 0 occurred”Warning message:\n",
      "“glm.fit: fitted rates numerically 0 occurred”Warning message:\n",
      "“glm.fit: fitted rates numerically 0 occurred”"
     ]
    },
    {
     "name": "stdout",
     "output_type": "stream",
     "text": [
      "."
     ]
    },
    {
     "name": "stderr",
     "output_type": "stream",
     "text": [
      "Warning message:\n",
      "“glm.fit: fitted rates numerically 0 occurred”Warning message:\n",
      "“glm.fit: fitted rates numerically 0 occurred”Warning message:\n",
      "“glm.fit: fitted rates numerically 0 occurred”Warning message:\n",
      "“glm.fit: fitted rates numerically 0 occurred”"
     ]
    },
    {
     "name": "stdout",
     "output_type": "stream",
     "text": [
      "."
     ]
    },
    {
     "name": "stderr",
     "output_type": "stream",
     "text": [
      "Warning message:\n",
      "“glm.fit: fitted rates numerically 0 occurred”Warning message:\n",
      "“glm.fit: fitted rates numerically 0 occurred”Warning message:\n",
      "“glm.fit: fitted rates numerically 0 occurred”Warning message:\n",
      "“glm.fit: fitted rates numerically 0 occurred”Warning message:\n",
      "“glm.fit: fitted rates numerically 0 occurred”Warning message:\n",
      "“glm.fit: fitted rates numerically 0 occurred”Warning message:\n",
      "“glm.fit: fitted rates numerically 0 occurred”Warning message:\n",
      "“glm.fit: fitted rates numerically 0 occurred”Warning message:\n",
      "“glm.fit: fitted rates numerically 0 occurred”Warning message:\n",
      "“glm.fit: fitted rates numerically 0 occurred”Warning message:\n",
      "“glm.fit: fitted rates numerically 0 occurred”Warning message:\n",
      "“glm.fit: fitted rates numerically 0 occurred”Warning message:\n",
      "“glm.fit: fitted rates numerically 0 occurred”Warning message:\n",
      "“glm.fit: fitted rates numerically 0 occurred”Warning message:\n",
      "“glm.fit: fitted rates numerically 0 occurred”Warning message:\n",
      "“glm.fit: fitted rates numerically 0 occurred”Warning message:\n",
      "“glm.fit: fitted rates numerically 0 occurred”Warning message:\n",
      "“glm.fit: fitted rates numerically 0 occurred”Warning message:\n",
      "“glm.fit: fitted rates numerically 0 occurred”Warning message:\n",
      "“glm.fit: fitted rates numerically 0 occurred”Warning message:\n",
      "“glm.fit: fitted rates numerically 0 occurred”"
     ]
    },
    {
     "name": "stdout",
     "output_type": "stream",
     "text": [
      "."
     ]
    },
    {
     "name": "stderr",
     "output_type": "stream",
     "text": [
      "Warning message:\n",
      "“glm.fit: fitted rates numerically 0 occurred”Warning message:\n",
      "“glm.fit: fitted rates numerically 0 occurred”Warning message:\n",
      "“glm.fit: fitted rates numerically 0 occurred”Warning message:\n",
      "“glm.fit: fitted rates numerically 0 occurred”Warning message:\n",
      "“glm.fit: fitted rates numerically 0 occurred”"
     ]
    },
    {
     "name": "stdout",
     "output_type": "stream",
     "text": [
      "."
     ]
    },
    {
     "name": "stderr",
     "output_type": "stream",
     "text": [
      "Warning message:\n",
      "“glm.fit: fitted rates numerically 0 occurred”Warning message:\n",
      "“glm.fit: fitted rates numerically 0 occurred”Warning message:\n",
      "“glm.fit: fitted rates numerically 0 occurred”Warning message:\n",
      "“glm.fit: fitted rates numerically 0 occurred”"
     ]
    },
    {
     "name": "stdout",
     "output_type": "stream",
     "text": [
      "."
     ]
    },
    {
     "name": "stderr",
     "output_type": "stream",
     "text": [
      "Warning message:\n",
      "“glm.fit: fitted rates numerically 0 occurred”"
     ]
    },
    {
     "name": "stdout",
     "output_type": "stream",
     "text": [
      "."
     ]
    },
    {
     "name": "stderr",
     "output_type": "stream",
     "text": [
      "Warning message:\n",
      "“glm.fit: fitted rates numerically 0 occurred”"
     ]
    },
    {
     "name": "stdout",
     "output_type": "stream",
     "text": [
      "."
     ]
    },
    {
     "name": "stderr",
     "output_type": "stream",
     "text": [
      "Warning message:\n",
      "“glm.fit: fitted rates numerically 0 occurred”"
     ]
    },
    {
     "name": "stdout",
     "output_type": "stream",
     "text": [
      "."
     ]
    },
    {
     "name": "stderr",
     "output_type": "stream",
     "text": [
      "Warning message:\n",
      "“glm.fit: fitted rates numerically 0 occurred”Warning message:\n",
      "“glm.fit: fitted rates numerically 0 occurred”Warning message:\n",
      "“glm.fit: fitted rates numerically 0 occurred”Warning message:\n",
      "“glm.fit: fitted rates numerically 0 occurred”Warning message:\n",
      "“glm.fit: fitted rates numerically 0 occurred”Warning message:\n",
      "“glm.fit: fitted rates numerically 0 occurred”Warning message:\n",
      "“glm.fit: fitted rates numerically 0 occurred”Warning message:\n",
      "“glm.fit: fitted rates numerically 0 occurred”Warning message:\n",
      "“glm.fit: fitted rates numerically 0 occurred”Warning message:\n",
      "“glm.fit: fitted rates numerically 0 occurred”Warning message:\n",
      "“glm.fit: fitted rates numerically 0 occurred”"
     ]
    },
    {
     "name": "stdout",
     "output_type": "stream",
     "text": [
      "."
     ]
    },
    {
     "name": "stderr",
     "output_type": "stream",
     "text": [
      "Warning message:\n",
      "“glm.fit: fitted rates numerically 0 occurred”Warning message:\n",
      "“glm.fit: fitted rates numerically 0 occurred”Warning message:\n",
      "“glm.fit: fitted rates numerically 0 occurred”Warning message:\n",
      "“glm.fit: fitted rates numerically 0 occurred”"
     ]
    },
    {
     "name": "stdout",
     "output_type": "stream",
     "text": [
      "."
     ]
    },
    {
     "name": "stderr",
     "output_type": "stream",
     "text": [
      "Warning message:\n",
      "“glm.fit: fitted rates numerically 0 occurred”Warning message:\n",
      "“glm.fit: fitted rates numerically 0 occurred”Warning message:\n",
      "“glm.fit: fitted rates numerically 0 occurred”"
     ]
    },
    {
     "name": "stdout",
     "output_type": "stream",
     "text": [
      ".."
     ]
    },
    {
     "name": "stderr",
     "output_type": "stream",
     "text": [
      "Warning message:\n",
      "“glm.fit: fitted rates numerically 0 occurred”Warning message:\n",
      "“glm.fit: fitted rates numerically 0 occurred”"
     ]
    },
    {
     "name": "stdout",
     "output_type": "stream",
     "text": [
      "."
     ]
    },
    {
     "name": "stderr",
     "output_type": "stream",
     "text": [
      "Warning message:\n",
      "“glm.fit: fitted rates numerically 0 occurred”Warning message:\n",
      "“glm.fit: fitted rates numerically 0 occurred”Warning message:\n",
      "“glm.fit: fitted rates numerically 0 occurred”Warning message:\n",
      "“glm.fit: fitted rates numerically 0 occurred”Warning message:\n",
      "“glm.fit: fitted rates numerically 0 occurred”Warning message:\n",
      "“glm.fit: fitted rates numerically 0 occurred”Warning message:\n",
      "“glm.fit: fitted rates numerically 0 occurred”Warning message:\n",
      "“glm.fit: fitted rates numerically 0 occurred”Warning message:\n",
      "“glm.fit: fitted rates numerically 0 occurred”Warning message:\n",
      "“glm.fit: fitted rates numerically 0 occurred”Warning message:\n",
      "“glm.fit: fitted rates numerically 0 occurred”"
     ]
    },
    {
     "name": "stdout",
     "output_type": "stream",
     "text": [
      "."
     ]
    },
    {
     "name": "stderr",
     "output_type": "stream",
     "text": [
      "Warning message:\n",
      "“glm.fit: fitted rates numerically 0 occurred”"
     ]
    },
    {
     "name": "stdout",
     "output_type": "stream",
     "text": [
      ".."
     ]
    },
    {
     "name": "stderr",
     "output_type": "stream",
     "text": [
      "Warning message:\n",
      "“glm.fit: fitted rates numerically 0 occurred”Warning message:\n",
      "“glm.fit: fitted rates numerically 0 occurred”Warning message:\n",
      "“glm.fit: fitted rates numerically 0 occurred”Warning message:\n",
      "“glm.fit: fitted rates numerically 0 occurred”Warning message:\n",
      "“glm.fit: fitted rates numerically 0 occurred”Warning message:\n",
      "“glm.fit: fitted rates numerically 0 occurred”Warning message:\n",
      "“glm.fit: fitted rates numerically 0 occurred”"
     ]
    },
    {
     "name": "stdout",
     "output_type": "stream",
     "text": [
      "."
     ]
    },
    {
     "name": "stderr",
     "output_type": "stream",
     "text": [
      "Warning message:\n",
      "“glm.fit: fitted rates numerically 0 occurred”Warning message:\n",
      "“glm.fit: fitted rates numerically 0 occurred”Warning message:\n",
      "“glm.fit: fitted rates numerically 0 occurred”"
     ]
    },
    {
     "name": "stdout",
     "output_type": "stream",
     "text": [
      "."
     ]
    },
    {
     "name": "stderr",
     "output_type": "stream",
     "text": [
      "Warning message:\n",
      "“glm.fit: fitted rates numerically 0 occurred”Warning message:\n",
      "“glm.fit: fitted rates numerically 0 occurred”"
     ]
    },
    {
     "name": "stdout",
     "output_type": "stream",
     "text": [
      "."
     ]
    },
    {
     "name": "stderr",
     "output_type": "stream",
     "text": [
      "Warning message:\n",
      "“glm.fit: fitted rates numerically 0 occurred”Warning message:\n",
      "“glm.fit: fitted rates numerically 0 occurred”Warning message:\n",
      "“glm.fit: fitted rates numerically 0 occurred”Warning message:\n",
      "“glm.fit: fitted rates numerically 0 occurred”Warning message:\n",
      "“glm.fit: fitted rates numerically 0 occurred”Warning message:\n",
      "“glm.fit: fitted rates numerically 0 occurred”Warning message:\n",
      "“glm.fit: fitted rates numerically 0 occurred”Warning message:\n",
      "“glm.fit: fitted rates numerically 0 occurred”Warning message:\n",
      "“glm.fit: fitted rates numerically 0 occurred”Warning message:\n",
      "“glm.fit: fitted rates numerically 0 occurred”Warning message:\n",
      "“glm.fit: fitted rates numerically 0 occurred”Warning message:\n",
      "“glm.fit: fitted rates numerically 0 occurred”"
     ]
    },
    {
     "name": "stdout",
     "output_type": "stream",
     "text": [
      "."
     ]
    },
    {
     "name": "stderr",
     "output_type": "stream",
     "text": [
      "Warning message:\n",
      "“glm.fit: fitted rates numerically 0 occurred”Warning message:\n",
      "“glm.fit: fitted rates numerically 0 occurred”Warning message:\n",
      "“glm.fit: fitted rates numerically 0 occurred”Warning message:\n",
      "“glm.fit: fitted rates numerically 0 occurred”Warning message:\n",
      "“glm.fit: fitted rates numerically 0 occurred”Warning message:\n",
      "“glm.fit: fitted rates numerically 0 occurred”Warning message:\n",
      "“glm.fit: fitted rates numerically 0 occurred”Warning message:\n",
      "“glm.fit: fitted rates numerically 0 occurred”Warning message:\n",
      "“glm.fit: fitted rates numerically 0 occurred”Warning message:\n",
      "“glm.fit: fitted rates numerically 0 occurred”Warning message:\n",
      "“glm.fit: fitted rates numerically 0 occurred”Warning message:\n",
      "“glm.fit: fitted rates numerically 0 occurred”"
     ]
    },
    {
     "name": "stdout",
     "output_type": "stream",
     "text": [
      "..."
     ]
    },
    {
     "name": "stderr",
     "output_type": "stream",
     "text": [
      "Warning message:\n",
      "“glm.fit: fitted rates numerically 0 occurred”Warning message:\n",
      "“glm.fit: fitted rates numerically 0 occurred”Warning message:\n",
      "“glm.fit: fitted rates numerically 0 occurred”"
     ]
    },
    {
     "name": "stdout",
     "output_type": "stream",
     "text": [
      "."
     ]
    },
    {
     "name": "stderr",
     "output_type": "stream",
     "text": [
      "Warning message:\n",
      "“glm.fit: fitted rates numerically 0 occurred”Warning message:\n",
      "“glm.fit: fitted rates numerically 0 occurred”"
     ]
    },
    {
     "name": "stdout",
     "output_type": "stream",
     "text": [
      "."
     ]
    },
    {
     "name": "stderr",
     "output_type": "stream",
     "text": [
      "Warning message:\n",
      "“glm.fit: fitted rates numerically 0 occurred”Warning message:\n",
      "“glm.fit: fitted rates numerically 0 occurred”Warning message:\n",
      "“glm.fit: fitted rates numerically 0 occurred”Warning message:\n",
      "“glm.fit: fitted rates numerically 0 occurred”"
     ]
    },
    {
     "name": "stdout",
     "output_type": "stream",
     "text": [
      "..."
     ]
    },
    {
     "name": "stderr",
     "output_type": "stream",
     "text": [
      "Warning message:\n",
      "“glm.fit: fitted rates numerically 0 occurred”Warning message:\n",
      "“glm.fit: fitted rates numerically 0 occurred”Warning message:\n",
      "“glm.fit: fitted rates numerically 0 occurred”Warning message:\n",
      "“glm.fit: fitted rates numerically 0 occurred”Warning message:\n",
      "“glm.fit: fitted rates numerically 0 occurred”Warning message:\n",
      "“glm.fit: fitted rates numerically 0 occurred”Warning message:\n",
      "“glm.fit: fitted rates numerically 0 occurred”Warning message:\n",
      "“glm.fit: fitted rates numerically 0 occurred”Warning message:\n",
      "“glm.fit: fitted rates numerically 0 occurred”Warning message:\n",
      "“glm.fit: fitted rates numerically 0 occurred”Warning message:\n",
      "“glm.fit: fitted rates numerically 0 occurred”Warning message:\n",
      "“glm.fit: fitted rates numerically 0 occurred”"
     ]
    },
    {
     "name": "stdout",
     "output_type": "stream",
     "text": [
      "."
     ]
    },
    {
     "name": "stderr",
     "output_type": "stream",
     "text": [
      "Warning message:\n",
      "“glm.fit: fitted rates numerically 0 occurred”Warning message:\n",
      "“glm.fit: fitted rates numerically 0 occurred”Warning message:\n",
      "“glm.fit: fitted rates numerically 0 occurred”Warning message:\n",
      "“glm.fit: fitted rates numerically 0 occurred”Warning message:\n",
      "“glm.fit: fitted rates numerically 0 occurred”Warning message:\n",
      "“glm.fit: fitted rates numerically 0 occurred”Warning message:\n",
      "“glm.fit: fitted rates numerically 0 occurred”Warning message:\n",
      "“glm.fit: fitted rates numerically 0 occurred”Warning message:\n",
      "“glm.fit: fitted rates numerically 0 occurred”Warning message:\n",
      "“glm.fit: fitted rates numerically 0 occurred”Warning message:\n",
      "“glm.fit: fitted rates numerically 0 occurred”Warning message:\n",
      "“glm.fit: fitted rates numerically 0 occurred”Warning message:\n",
      "“glm.fit: fitted rates numerically 0 occurred”Warning message:\n",
      "“glm.fit: fitted rates numerically 0 occurred”Warning message:\n",
      "“glm.fit: fitted rates numerically 0 occurred”Warning message:\n",
      "“glm.fit: fitted rates numerically 0 occurred”Warning message:\n",
      "“glm.fit: fitted rates numerically 0 occurred”Warning message:\n",
      "“glm.fit: fitted rates numerically 0 occurred”Warning message:\n",
      "“glm.fit: fitted rates numerically 0 occurred”Warning message:\n",
      "“glm.fit: fitted rates numerically 0 occurred”Warning message:\n",
      "“glm.fit: fitted rates numerically 0 occurred”Warning message:\n",
      "“glm.fit: fitted rates numerically 0 occurred”"
     ]
    },
    {
     "name": "stdout",
     "output_type": "stream",
     "text": [
      ".."
     ]
    },
    {
     "name": "stderr",
     "output_type": "stream",
     "text": [
      "Warning message:\n",
      "“glm.fit: fitted rates numerically 0 occurred”Warning message:\n",
      "“glm.fit: fitted rates numerically 0 occurred”Warning message:\n",
      "“glm.fit: fitted rates numerically 0 occurred”"
     ]
    },
    {
     "name": "stdout",
     "output_type": "stream",
     "text": [
      ".."
     ]
    },
    {
     "name": "stderr",
     "output_type": "stream",
     "text": [
      "Warning message:\n",
      "“glm.fit: fitted rates numerically 0 occurred”Warning message:\n",
      "“glm.fit: fitted rates numerically 0 occurred”Warning message:\n",
      "“glm.fit: fitted rates numerically 0 occurred”Warning message:\n",
      "“glm.fit: fitted rates numerically 0 occurred”"
     ]
    },
    {
     "name": "stdout",
     "output_type": "stream",
     "text": [
      ".."
     ]
    },
    {
     "name": "stderr",
     "output_type": "stream",
     "text": [
      "Warning message:\n",
      "“glm.fit: fitted rates numerically 0 occurred”Warning message:\n",
      "“glm.fit: fitted rates numerically 0 occurred”Warning message:\n",
      "“glm.fit: fitted rates numerically 0 occurred”Warning message:\n",
      "“glm.fit: fitted rates numerically 0 occurred”Warning message:\n",
      "“glm.fit: fitted rates numerically 0 occurred”Warning message:\n",
      "“glm.fit: fitted rates numerically 0 occurred”Warning message:\n",
      "“glm.fit: fitted rates numerically 0 occurred”Warning message:\n",
      "“glm.fit: fitted rates numerically 0 occurred”Warning message:\n",
      "“glm.fit: fitted rates numerically 0 occurred”Warning message:\n",
      "“glm.fit: fitted rates numerically 0 occurred”Warning message:\n",
      "“glm.fit: fitted rates numerically 0 occurred”"
     ]
    },
    {
     "name": "stdout",
     "output_type": "stream",
     "text": [
      "...."
     ]
    },
    {
     "name": "stderr",
     "output_type": "stream",
     "text": [
      "Warning message:\n",
      "“glm.fit: fitted rates numerically 0 occurred”Warning message:\n",
      "“glm.fit: fitted rates numerically 0 occurred”Warning message:\n",
      "“glm.fit: fitted rates numerically 0 occurred”"
     ]
    },
    {
     "name": "stdout",
     "output_type": "stream",
     "text": [
      "."
     ]
    },
    {
     "name": "stderr",
     "output_type": "stream",
     "text": [
      "Warning message:\n",
      "“glm.fit: fitted rates numerically 0 occurred”Warning message:\n",
      "“glm.fit: fitted rates numerically 0 occurred”Warning message:\n",
      "“glm.fit: fitted rates numerically 0 occurred”Warning message:\n",
      "“glm.fit: fitted rates numerically 0 occurred”"
     ]
    },
    {
     "name": "stdout",
     "output_type": "stream",
     "text": [
      "."
     ]
    },
    {
     "name": "stderr",
     "output_type": "stream",
     "text": [
      "Warning message:\n",
      "“glm.fit: fitted rates numerically 0 occurred”Warning message:\n",
      "“glm.fit: fitted rates numerically 0 occurred”Warning message:\n",
      "“glm.fit: fitted rates numerically 0 occurred”Warning message:\n",
      "“glm.fit: fitted rates numerically 0 occurred”"
     ]
    },
    {
     "name": "stdout",
     "output_type": "stream",
     "text": [
      "."
     ]
    },
    {
     "name": "stderr",
     "output_type": "stream",
     "text": [
      "Warning message:\n",
      "“glm.fit: fitted rates numerically 0 occurred”Warning message:\n",
      "“glm.fit: fitted rates numerically 0 occurred”"
     ]
    },
    {
     "name": "stdout",
     "output_type": "stream",
     "text": [
      "."
     ]
    },
    {
     "name": "stderr",
     "output_type": "stream",
     "text": [
      "Warning message:\n",
      "“glm.fit: fitted rates numerically 0 occurred”"
     ]
    },
    {
     "name": "stdout",
     "output_type": "stream",
     "text": [
      "...."
     ]
    },
    {
     "name": "stderr",
     "output_type": "stream",
     "text": [
      "Warning message:\n",
      "“glm.fit: fitted rates numerically 0 occurred”Warning message:\n",
      "“glm.fit: fitted rates numerically 0 occurred”"
     ]
    },
    {
     "name": "stdout",
     "output_type": "stream",
     "text": [
      "."
     ]
    },
    {
     "name": "stderr",
     "output_type": "stream",
     "text": [
      "Warning message:\n",
      "“glm.fit: fitted rates numerically 0 occurred”Warning message:\n",
      "“glm.fit: fitted rates numerically 0 occurred”Warning message:\n",
      "“glm.fit: fitted rates numerically 0 occurred”"
     ]
    },
    {
     "name": "stdout",
     "output_type": "stream",
     "text": [
      "..."
     ]
    },
    {
     "name": "stderr",
     "output_type": "stream",
     "text": [
      "Warning message:\n",
      "“glm.fit: fitted rates numerically 0 occurred”Warning message:\n",
      "“glm.fit: fitted rates numerically 0 occurred”Warning message:\n",
      "“glm.fit: fitted rates numerically 0 occurred”Warning message:\n",
      "“glm.fit: fitted rates numerically 0 occurred”Warning message:\n",
      "“glm.fit: fitted rates numerically 0 occurred”Warning message:\n",
      "“glm.fit: fitted rates numerically 0 occurred”Warning message:\n",
      "“glm.fit: fitted rates numerically 0 occurred”Warning message:\n",
      "“glm.fit: fitted rates numerically 0 occurred”Warning message:\n",
      "“glm.fit: fitted rates numerically 0 occurred”Warning message:\n",
      "“glm.fit: fitted rates numerically 0 occurred”Warning message:\n",
      "“glm.fit: fitted rates numerically 0 occurred”Warning message:\n",
      "“glm.fit: fitted rates numerically 0 occurred”Warning message:\n",
      "“glm.fit: fitted rates numerically 0 occurred”Warning message:\n",
      "“glm.fit: fitted rates numerically 0 occurred”Warning message:\n",
      "“glm.fit: fitted rates numerically 0 occurred”Warning message:\n",
      "“glm.fit: fitted rates numerically 0 occurred”Warning message:\n",
      "“glm.fit: fitted rates numerically 0 occurred”Warning message:\n",
      "“glm.fit: fitted rates numerically 0 occurred”Warning message:\n",
      "“glm.fit: fitted rates numerically 0 occurred”Warning message:\n",
      "“glm.fit: fitted rates numerically 0 occurred”Warning message:\n",
      "“glm.fit: fitted rates numerically 0 occurred”Warning message:\n",
      "“glm.fit: fitted rates numerically 0 occurred”Warning message:\n",
      "“glm.fit: fitted rates numerically 0 occurred”Warning message:\n",
      "“glm.fit: fitted rates numerically 0 occurred”Warning message:\n",
      "“glm.fit: fitted rates numerically 0 occurred”Warning message:\n",
      "“glm.fit: fitted rates numerically 0 occurred”Warning message:\n",
      "“glm.fit: fitted rates numerically 0 occurred”Warning message:\n",
      "“glm.fit: fitted rates numerically 0 occurred”Warning message:\n",
      "“glm.fit: fitted rates numerically 0 occurred”Warning message:\n",
      "“glm.fit: fitted rates numerically 0 occurred”Warning message:\n",
      "“glm.fit: fitted rates numerically 0 occurred”Warning message:\n",
      "“glm.fit: fitted rates numerically 0 occurred”Warning message:\n",
      "“glm.fit: fitted rates numerically 0 occurred”Warning message:\n",
      "“glm.fit: fitted rates numerically 0 occurred”"
     ]
    },
    {
     "name": "stdout",
     "output_type": "stream",
     "text": [
      "..."
     ]
    },
    {
     "name": "stderr",
     "output_type": "stream",
     "text": [
      "Warning message:\n",
      "“glm.fit: fitted rates numerically 0 occurred”Warning message:\n",
      "“glm.fit: fitted rates numerically 0 occurred”"
     ]
    },
    {
     "name": "stdout",
     "output_type": "stream",
     "text": [
      "."
     ]
    },
    {
     "name": "stderr",
     "output_type": "stream",
     "text": [
      "Warning message:\n",
      "“glm.fit: fitted rates numerically 0 occurred”Warning message:\n",
      "“glm.fit: fitted rates numerically 0 occurred”Warning message:\n",
      "“glm.fit: fitted rates numerically 0 occurred”Warning message:\n",
      "“glm.fit: fitted rates numerically 0 occurred”Warning message:\n",
      "“glm.fit: fitted rates numerically 0 occurred”Warning message:\n",
      "“glm.fit: fitted rates numerically 0 occurred”Warning message:\n",
      "“glm.fit: fitted rates numerically 0 occurred”Warning message:\n",
      "“glm.fit: fitted rates numerically 0 occurred”Warning message:\n",
      "“glm.fit: fitted rates numerically 0 occurred”Warning message:\n",
      "“glm.fit: fitted rates numerically 0 occurred”"
     ]
    },
    {
     "name": "stdout",
     "output_type": "stream",
     "text": [
      "."
     ]
    },
    {
     "name": "stderr",
     "output_type": "stream",
     "text": [
      "Warning message:\n",
      "“glm.fit: fitted rates numerically 0 occurred”"
     ]
    },
    {
     "name": "stdout",
     "output_type": "stream",
     "text": [
      "."
     ]
    },
    {
     "name": "stderr",
     "output_type": "stream",
     "text": [
      "Warning message:\n",
      "“glm.fit: fitted rates numerically 0 occurred”Warning message:\n",
      "“glm.fit: fitted rates numerically 0 occurred”Warning message:\n",
      "“glm.fit: fitted rates numerically 0 occurred”Warning message:\n",
      "“glm.fit: fitted rates numerically 0 occurred”"
     ]
    },
    {
     "name": "stdout",
     "output_type": "stream",
     "text": [
      "."
     ]
    },
    {
     "name": "stderr",
     "output_type": "stream",
     "text": [
      "Warning message:\n",
      "“glm.fit: fitted rates numerically 0 occurred”Warning message:\n",
      "“glm.fit: fitted rates numerically 0 occurred”Warning message:\n",
      "“glm.fit: fitted rates numerically 0 occurred”Warning message:\n",
      "“glm.fit: fitted rates numerically 0 occurred”Warning message:\n",
      "“glm.fit: fitted rates numerically 0 occurred”"
     ]
    },
    {
     "name": "stdout",
     "output_type": "stream",
     "text": [
      "."
     ]
    },
    {
     "name": "stderr",
     "output_type": "stream",
     "text": [
      "Warning message:\n",
      "“glm.fit: fitted rates numerically 0 occurred”Warning message:\n",
      "“glm.fit: fitted rates numerically 0 occurred”Warning message:\n",
      "“glm.fit: fitted rates numerically 0 occurred”Warning message:\n",
      "“glm.fit: fitted rates numerically 0 occurred”"
     ]
    },
    {
     "name": "stdout",
     "output_type": "stream",
     "text": [
      "..."
     ]
    },
    {
     "name": "stderr",
     "output_type": "stream",
     "text": [
      "Warning message:\n",
      "“glm.fit: fitted rates numerically 0 occurred”Warning message:\n",
      "“glm.fit: fitted rates numerically 0 occurred”Warning message:\n",
      "“glm.fit: fitted rates numerically 0 occurred”Warning message:\n",
      "“glm.fit: fitted rates numerically 0 occurred”Warning message:\n",
      "“glm.fit: fitted rates numerically 0 occurred”Warning message:\n",
      "“glm.fit: fitted rates numerically 0 occurred”Warning message:\n",
      "“glm.fit: fitted rates numerically 0 occurred”"
     ]
    },
    {
     "name": "stdout",
     "output_type": "stream",
     "text": [
      ".."
     ]
    },
    {
     "name": "stderr",
     "output_type": "stream",
     "text": [
      "Warning message:\n",
      "“glm.fit: fitted rates numerically 0 occurred”Warning message:\n",
      "“glm.fit: fitted rates numerically 0 occurred”Warning message:\n",
      "“glm.fit: fitted rates numerically 0 occurred”Warning message:\n",
      "“glm.fit: fitted rates numerically 0 occurred”Warning message:\n",
      "“glm.fit: fitted rates numerically 0 occurred”"
     ]
    },
    {
     "name": "stdout",
     "output_type": "stream",
     "text": [
      ".."
     ]
    },
    {
     "name": "stderr",
     "output_type": "stream",
     "text": [
      "Warning message:\n",
      "“glm.fit: fitted rates numerically 0 occurred”Warning message:\n",
      "“glm.fit: fitted rates numerically 0 occurred”Warning message:\n",
      "“glm.fit: fitted rates numerically 0 occurred”Warning message:\n",
      "“glm.fit: fitted rates numerically 0 occurred”"
     ]
    },
    {
     "name": "stdout",
     "output_type": "stream",
     "text": [
      "."
     ]
    },
    {
     "name": "stderr",
     "output_type": "stream",
     "text": [
      "Warning message:\n",
      "“glm.fit: fitted rates numerically 0 occurred”Warning message:\n",
      "“glm.fit: fitted rates numerically 0 occurred”Warning message:\n",
      "“glm.fit: fitted rates numerically 0 occurred”Warning message:\n",
      "“glm.fit: fitted rates numerically 0 occurred”Warning message:\n",
      "“glm.fit: fitted rates numerically 0 occurred”Warning message:\n",
      "“glm.fit: fitted rates numerically 0 occurred”"
     ]
    },
    {
     "name": "stdout",
     "output_type": "stream",
     "text": [
      ".."
     ]
    },
    {
     "name": "stderr",
     "output_type": "stream",
     "text": [
      "Warning message:\n",
      "“glm.fit: fitted rates numerically 0 occurred”"
     ]
    },
    {
     "name": "stdout",
     "output_type": "stream",
     "text": [
      ".."
     ]
    },
    {
     "name": "stderr",
     "output_type": "stream",
     "text": [
      "Warning message:\n",
      "“glm.fit: fitted rates numerically 0 occurred”Warning message:\n",
      "“glm.fit: fitted rates numerically 0 occurred”Warning message:\n",
      "“glm.fit: fitted rates numerically 0 occurred”Warning message:\n",
      "“glm.fit: fitted rates numerically 0 occurred”Warning message:\n",
      "“glm.fit: fitted rates numerically 0 occurred”Warning message:\n",
      "“glm.fit: fitted rates numerically 0 occurred”Warning message:\n",
      "“glm.fit: fitted rates numerically 0 occurred”"
     ]
    },
    {
     "name": "stdout",
     "output_type": "stream",
     "text": [
      "."
     ]
    },
    {
     "name": "stderr",
     "output_type": "stream",
     "text": [
      "Warning message:\n",
      "“glm.fit: fitted rates numerically 0 occurred”"
     ]
    },
    {
     "name": "stdout",
     "output_type": "stream",
     "text": [
      "."
     ]
    },
    {
     "name": "stderr",
     "output_type": "stream",
     "text": [
      "Warning message:\n",
      "“glm.fit: fitted rates numerically 0 occurred”Warning message:\n",
      "“glm.fit: fitted rates numerically 0 occurred”Warning message:\n",
      "“glm.fit: fitted rates numerically 0 occurred”Warning message:\n",
      "“glm.fit: fitted rates numerically 0 occurred”Warning message:\n",
      "“glm.fit: fitted rates numerically 0 occurred”Warning message:\n",
      "“glm.fit: fitted rates numerically 0 occurred”Warning message:\n",
      "“glm.fit: fitted rates numerically 0 occurred”Warning message:\n",
      "“glm.fit: fitted rates numerically 0 occurred”Warning message:\n",
      "“glm.fit: fitted rates numerically 0 occurred”Warning message:\n",
      "“glm.fit: fitted rates numerically 0 occurred”Warning message:\n",
      "“glm.fit: fitted rates numerically 0 occurred”Warning message:\n",
      "“glm.fit: fitted rates numerically 0 occurred”Warning message:\n",
      "“glm.fit: fitted rates numerically 0 occurred”Warning message:\n",
      "“glm.fit: fitted rates numerically 0 occurred”Warning message:\n",
      "“glm.fit: fitted rates numerically 0 occurred”Warning message:\n",
      "“glm.fit: fitted rates numerically 0 occurred”Warning message:\n",
      "“glm.fit: fitted rates numerically 0 occurred”Warning message:\n",
      "“glm.fit: fitted rates numerically 0 occurred”Warning message:\n",
      "“glm.fit: fitted rates numerically 0 occurred”Warning message:\n",
      "“glm.fit: fitted rates numerically 0 occurred”Warning message:\n",
      "“glm.fit: fitted rates numerically 0 occurred”Warning message:\n",
      "“glm.fit: fitted rates numerically 0 occurred”Warning message:\n",
      "“glm.fit: fitted rates numerically 0 occurred”Warning message:\n",
      "“glm.fit: fitted rates numerically 0 occurred”Warning message:\n",
      "“glm.fit: fitted rates numerically 0 occurred”Warning message:\n",
      "“glm.fit: fitted rates numerically 0 occurred”Warning message:\n",
      "“glm.fit: fitted rates numerically 0 occurred”Warning message:\n",
      "“glm.fit: fitted rates numerically 0 occurred”Warning message:\n",
      "“glm.fit: fitted rates numerically 0 occurred”Warning message:\n",
      "“glm.fit: fitted rates numerically 0 occurred”Warning message:\n",
      "“glm.fit: fitted rates numerically 0 occurred”Warning message:\n",
      "“glm.fit: fitted rates numerically 0 occurred”Warning message:\n",
      "“glm.fit: fitted rates numerically 0 occurred”Warning message:\n",
      "“glm.fit: fitted rates numerically 0 occurred”Warning message:\n",
      "“glm.fit: fitted rates numerically 0 occurred”Warning message:\n",
      "“glm.fit: fitted rates numerically 0 occurred”Warning message:\n",
      "“glm.fit: fitted rates numerically 0 occurred”Warning message:\n",
      "“glm.fit: fitted rates numerically 0 occurred”Warning message:\n",
      "“glm.fit: fitted rates numerically 0 occurred”Warning message:\n",
      "“glm.fit: fitted rates numerically 0 occurred”Warning message:\n",
      "“glm.fit: fitted rates numerically 0 occurred”"
     ]
    },
    {
     "name": "stdout",
     "output_type": "stream",
     "text": [
      "..."
     ]
    },
    {
     "name": "stderr",
     "output_type": "stream",
     "text": [
      "Warning message:\n",
      "“glm.fit: fitted rates numerically 0 occurred”Warning message:\n",
      "“glm.fit: fitted rates numerically 0 occurred”"
     ]
    },
    {
     "name": "stdout",
     "output_type": "stream",
     "text": [
      ".."
     ]
    },
    {
     "name": "stderr",
     "output_type": "stream",
     "text": [
      "Warning message:\n",
      "“glm.fit: fitted rates numerically 0 occurred”Warning message:\n",
      "“glm.fit: algorithm did not converge”Warning message:\n",
      "“glm.fit: fitted rates numerically 0 occurred”Warning message:\n",
      "“glm.fit: algorithm did not converge”Warning message:\n",
      "“glm.fit: fitted rates numerically 0 occurred”Warning message:\n",
      "“glm.fit: algorithm did not converge”Warning message:\n",
      "“glm.fit: fitted rates numerically 0 occurred”Warning message:\n",
      "“glm.fit: algorithm did not converge”Warning message:\n",
      "“glm.fit: fitted rates numerically 0 occurred”Warning message:\n",
      "“glm.fit: algorithm did not converge”Warning message:\n",
      "“glm.fit: fitted rates numerically 0 occurred”Warning message:\n",
      "“glm.fit: algorithm did not converge”Warning message:\n",
      "“glm.fit: fitted rates numerically 0 occurred”"
     ]
    },
    {
     "name": "stdout",
     "output_type": "stream",
     "text": [
      "..."
     ]
    },
    {
     "name": "stderr",
     "output_type": "stream",
     "text": [
      "Warning message:\n",
      "“glm.fit: fitted rates numerically 0 occurred”Warning message:\n",
      "“glm.fit: fitted rates numerically 0 occurred”Warning message:\n",
      "“glm.fit: fitted rates numerically 0 occurred”Warning message:\n",
      "“glm.fit: fitted rates numerically 0 occurred”"
     ]
    },
    {
     "name": "stdout",
     "output_type": "stream",
     "text": [
      "."
     ]
    },
    {
     "name": "stderr",
     "output_type": "stream",
     "text": [
      "Warning message:\n",
      "“glm.fit: fitted rates numerically 0 occurred”Warning message:\n",
      "“glm.fit: fitted rates numerically 0 occurred”Warning message:\n",
      "“glm.fit: fitted rates numerically 0 occurred”Warning message:\n",
      "“glm.fit: fitted rates numerically 0 occurred”Warning message:\n",
      "“glm.fit: fitted rates numerically 0 occurred”"
     ]
    },
    {
     "name": "stdout",
     "output_type": "stream",
     "text": [
      "."
     ]
    },
    {
     "name": "stderr",
     "output_type": "stream",
     "text": [
      "Warning message:\n",
      "“glm.fit: fitted rates numerically 0 occurred”Warning message:\n",
      "“glm.fit: fitted rates numerically 0 occurred”Warning message:\n",
      "“glm.fit: fitted rates numerically 0 occurred”Warning message:\n",
      "“glm.fit: fitted rates numerically 0 occurred”Warning message:\n",
      "“glm.fit: fitted rates numerically 0 occurred”Warning message:\n",
      "“glm.fit: fitted rates numerically 0 occurred”Warning message:\n",
      "“glm.fit: fitted rates numerically 0 occurred”Warning message:\n",
      "“glm.fit: fitted rates numerically 0 occurred”Warning message:\n",
      "“glm.fit: fitted rates numerically 0 occurred”Warning message:\n",
      "“glm.fit: fitted rates numerically 0 occurred”Warning message:\n",
      "“glm.fit: fitted rates numerically 0 occurred”Warning message:\n",
      "“glm.fit: fitted rates numerically 0 occurred”Warning message:\n",
      "“glm.fit: fitted rates numerically 0 occurred”Warning message:\n",
      "“glm.fit: fitted rates numerically 0 occurred”Warning message:\n",
      "“glm.fit: fitted rates numerically 0 occurred”"
     ]
    },
    {
     "name": "stdout",
     "output_type": "stream",
     "text": [
      "."
     ]
    },
    {
     "name": "stderr",
     "output_type": "stream",
     "text": [
      "Warning message:\n",
      "“glm.fit: fitted rates numerically 0 occurred”Warning message:\n",
      "“glm.fit: fitted rates numerically 0 occurred”"
     ]
    },
    {
     "name": "stdout",
     "output_type": "stream",
     "text": [
      "."
     ]
    },
    {
     "name": "stderr",
     "output_type": "stream",
     "text": [
      "Warning message:\n",
      "“glm.fit: fitted rates numerically 0 occurred”Warning message:\n",
      "“glm.fit: fitted rates numerically 0 occurred”Warning message:\n",
      "“glm.fit: fitted rates numerically 0 occurred”Warning message:\n",
      "“glm.fit: fitted rates numerically 0 occurred”Warning message:\n",
      "“glm.fit: fitted rates numerically 0 occurred”Warning message:\n",
      "“glm.fit: fitted rates numerically 0 occurred”Warning message:\n",
      "“glm.fit: fitted rates numerically 0 occurred”Warning message:\n",
      "“glm.fit: fitted rates numerically 0 occurred”Warning message:\n",
      "“glm.fit: fitted rates numerically 0 occurred”Warning message:\n",
      "“glm.fit: fitted rates numerically 0 occurred”"
     ]
    },
    {
     "name": "stdout",
     "output_type": "stream",
     "text": [
      "."
     ]
    },
    {
     "name": "stderr",
     "output_type": "stream",
     "text": [
      "Warning message:\n",
      "“glm.fit: fitted rates numerically 0 occurred”Warning message:\n",
      "“glm.fit: fitted rates numerically 0 occurred”Warning message:\n",
      "“glm.fit: fitted rates numerically 0 occurred”Warning message:\n",
      "“glm.fit: fitted rates numerically 0 occurred”Warning message:\n",
      "“glm.fit: fitted rates numerically 0 occurred”Warning message:\n",
      "“glm.fit: fitted rates numerically 0 occurred”Warning message:\n",
      "“glm.fit: fitted rates numerically 0 occurred”Warning message:\n",
      "“glm.fit: fitted rates numerically 0 occurred”Warning message:\n",
      "“glm.fit: fitted rates numerically 0 occurred”Warning message:\n",
      "“glm.fit: fitted rates numerically 0 occurred”Warning message:\n",
      "“glm.fit: fitted rates numerically 0 occurred”Warning message:\n",
      "“glm.fit: fitted rates numerically 0 occurred”Warning message:\n",
      "“glm.fit: fitted rates numerically 0 occurred”Warning message:\n",
      "“glm.fit: fitted rates numerically 0 occurred”Warning message:\n",
      "“glm.fit: fitted rates numerically 0 occurred”Warning message:\n",
      "“glm.fit: fitted rates numerically 0 occurred”"
     ]
    },
    {
     "name": "stdout",
     "output_type": "stream",
     "text": [
      "."
     ]
    },
    {
     "name": "stderr",
     "output_type": "stream",
     "text": [
      "Warning message:\n",
      "“glm.fit: fitted rates numerically 0 occurred”Warning message:\n",
      "“glm.fit: fitted rates numerically 0 occurred”"
     ]
    },
    {
     "name": "stdout",
     "output_type": "stream",
     "text": [
      "."
     ]
    },
    {
     "name": "stderr",
     "output_type": "stream",
     "text": [
      "Warning message:\n",
      "“glm.fit: fitted rates numerically 0 occurred”Warning message:\n",
      "“glm.fit: fitted rates numerically 0 occurred”Warning message:\n",
      "“glm.fit: fitted rates numerically 0 occurred”Warning message:\n",
      "“glm.fit: fitted rates numerically 0 occurred”Warning message:\n",
      "“glm.fit: fitted rates numerically 0 occurred”Warning message:\n",
      "“glm.fit: fitted rates numerically 0 occurred”Warning message:\n",
      "“glm.fit: fitted rates numerically 0 occurred”Warning message:\n",
      "“glm.fit: fitted rates numerically 0 occurred”Warning message:\n",
      "“glm.fit: fitted rates numerically 0 occurred”Warning message:\n",
      "“glm.fit: fitted rates numerically 0 occurred”Warning message:\n",
      "“glm.fit: fitted rates numerically 0 occurred”Warning message:\n",
      "“glm.fit: fitted rates numerically 0 occurred”Warning message:\n",
      "“glm.fit: fitted rates numerically 0 occurred”Warning message:\n",
      "“glm.fit: fitted rates numerically 0 occurred”Warning message:\n",
      "“glm.fit: fitted rates numerically 0 occurred”Warning message:\n",
      "“glm.fit: fitted rates numerically 0 occurred”Warning message:\n",
      "“glm.fit: fitted rates numerically 0 occurred”Warning message:\n",
      "“glm.fit: fitted rates numerically 0 occurred”Warning message:\n",
      "“glm.fit: fitted rates numerically 0 occurred”Warning message:\n",
      "“glm.fit: fitted rates numerically 0 occurred”Warning message:\n",
      "“glm.fit: fitted rates numerically 0 occurred”"
     ]
    },
    {
     "name": "stdout",
     "output_type": "stream",
     "text": [
      "."
     ]
    },
    {
     "name": "stderr",
     "output_type": "stream",
     "text": [
      "Warning message:\n",
      "“glm.fit: fitted rates numerically 0 occurred”Warning message:\n",
      "“glm.fit: fitted rates numerically 0 occurred”Warning message:\n",
      "“glm.fit: fitted rates numerically 0 occurred”Warning message:\n",
      "“glm.fit: fitted rates numerically 0 occurred”Warning message:\n",
      "“glm.fit: fitted rates numerically 0 occurred”Warning message:\n",
      "“glm.fit: fitted rates numerically 0 occurred”Warning message:\n",
      "“glm.fit: fitted rates numerically 0 occurred”Warning message:\n",
      "“glm.fit: fitted rates numerically 0 occurred”Warning message:\n",
      "“glm.fit: fitted rates numerically 0 occurred”Warning message:\n",
      "“glm.fit: fitted rates numerically 0 occurred”Warning message:\n",
      "“glm.fit: fitted rates numerically 0 occurred”"
     ]
    },
    {
     "name": "stdout",
     "output_type": "stream",
     "text": [
      "."
     ]
    },
    {
     "name": "stderr",
     "output_type": "stream",
     "text": [
      "Warning message:\n",
      "“glm.fit: fitted rates numerically 0 occurred”Warning message:\n",
      "“glm.fit: fitted rates numerically 0 occurred”Warning message:\n",
      "“glm.fit: fitted rates numerically 0 occurred”Warning message:\n",
      "“glm.fit: fitted rates numerically 0 occurred”Warning message:\n",
      "“glm.fit: fitted rates numerically 0 occurred”Warning message:\n",
      "“glm.fit: fitted rates numerically 0 occurred”Warning message:\n",
      "“glm.fit: fitted rates numerically 0 occurred”Warning message:\n",
      "“glm.fit: fitted rates numerically 0 occurred”Warning message:\n",
      "“glm.fit: fitted rates numerically 0 occurred”Warning message:\n",
      "“glm.fit: fitted rates numerically 0 occurred”"
     ]
    },
    {
     "name": "stdout",
     "output_type": "stream",
     "text": [
      ".."
     ]
    },
    {
     "name": "stderr",
     "output_type": "stream",
     "text": [
      "Warning message:\n",
      "“glm.fit: fitted rates numerically 0 occurred”Warning message:\n",
      "“glm.fit: fitted rates numerically 0 occurred”Warning message:\n",
      "“glm.fit: fitted rates numerically 0 occurred”"
     ]
    },
    {
     "name": "stdout",
     "output_type": "stream",
     "text": [
      "."
     ]
    },
    {
     "name": "stderr",
     "output_type": "stream",
     "text": [
      "Warning message:\n",
      "“glm.fit: fitted rates numerically 0 occurred”Warning message:\n",
      "“glm.fit: fitted rates numerically 0 occurred”Warning message:\n",
      "“glm.fit: fitted rates numerically 0 occurred”Warning message:\n",
      "“glm.fit: fitted rates numerically 0 occurred”Warning message:\n",
      "“glm.fit: fitted rates numerically 0 occurred”Warning message:\n",
      "“glm.fit: fitted rates numerically 0 occurred”Warning message:\n",
      "“glm.fit: fitted rates numerically 0 occurred”Warning message:\n",
      "“glm.fit: fitted rates numerically 0 occurred”Warning message:\n",
      "“glm.fit: fitted rates numerically 0 occurred”Warning message:\n",
      "“glm.fit: fitted rates numerically 0 occurred”Warning message:\n",
      "“glm.fit: fitted rates numerically 0 occurred”Warning message:\n",
      "“glm.fit: fitted rates numerically 0 occurred”Warning message:\n",
      "“glm.fit: fitted rates numerically 0 occurred”Warning message:\n",
      "“glm.fit: fitted rates numerically 0 occurred”Warning message:\n",
      "“glm.fit: fitted rates numerically 0 occurred”"
     ]
    },
    {
     "name": "stdout",
     "output_type": "stream",
     "text": [
      ".."
     ]
    },
    {
     "name": "stderr",
     "output_type": "stream",
     "text": [
      "Warning message:\n",
      "“glm.fit: fitted rates numerically 0 occurred”Warning message:\n",
      "“glm.fit: fitted rates numerically 0 occurred”Warning message:\n",
      "“glm.fit: fitted rates numerically 0 occurred”Warning message:\n",
      "“glm.fit: fitted rates numerically 0 occurred”Warning message:\n",
      "“glm.fit: fitted rates numerically 0 occurred”Warning message:\n",
      "“glm.fit: fitted rates numerically 0 occurred”Warning message:\n",
      "“glm.fit: fitted rates numerically 0 occurred”Warning message:\n",
      "“glm.fit: fitted rates numerically 0 occurred”Warning message:\n",
      "“glm.fit: fitted rates numerically 0 occurred”Warning message:\n",
      "“glm.fit: fitted rates numerically 0 occurred”"
     ]
    },
    {
     "name": "stdout",
     "output_type": "stream",
     "text": [
      "..."
     ]
    },
    {
     "name": "stderr",
     "output_type": "stream",
     "text": [
      "Warning message:\n",
      "“glm.fit: fitted rates numerically 0 occurred”Warning message:\n",
      "“glm.fit: fitted rates numerically 0 occurred”Warning message:\n",
      "“glm.fit: fitted rates numerically 0 occurred”Warning message:\n",
      "“glm.fit: fitted rates numerically 0 occurred”"
     ]
    },
    {
     "name": "stdout",
     "output_type": "stream",
     "text": [
      ".."
     ]
    },
    {
     "name": "stderr",
     "output_type": "stream",
     "text": [
      "Warning message:\n",
      "“glm.fit: fitted rates numerically 0 occurred”Warning message:\n",
      "“glm.fit: fitted rates numerically 0 occurred”Warning message:\n",
      "“glm.fit: fitted rates numerically 0 occurred”"
     ]
    },
    {
     "name": "stdout",
     "output_type": "stream",
     "text": [
      "."
     ]
    },
    {
     "name": "stderr",
     "output_type": "stream",
     "text": [
      "Warning message:\n",
      "“glm.fit: fitted rates numerically 0 occurred”"
     ]
    },
    {
     "name": "stdout",
     "output_type": "stream",
     "text": [
      "."
     ]
    },
    {
     "name": "stderr",
     "output_type": "stream",
     "text": [
      "Warning message:\n",
      "“glm.fit: fitted rates numerically 0 occurred”Warning message:\n",
      "“glm.fit: fitted rates numerically 0 occurred”Warning message:\n",
      "“glm.fit: fitted rates numerically 0 occurred”Warning message:\n",
      "“glm.fit: fitted rates numerically 0 occurred”"
     ]
    },
    {
     "name": "stdout",
     "output_type": "stream",
     "text": [
      ".."
     ]
    },
    {
     "name": "stderr",
     "output_type": "stream",
     "text": [
      "Warning message:\n",
      "“glm.fit: fitted rates numerically 0 occurred”Warning message:\n",
      "“glm.fit: fitted rates numerically 0 occurred”Warning message:\n",
      "“glm.fit: fitted rates numerically 0 occurred”"
     ]
    },
    {
     "name": "stdout",
     "output_type": "stream",
     "text": [
      ".."
     ]
    },
    {
     "name": "stderr",
     "output_type": "stream",
     "text": [
      "Warning message:\n",
      "“glm.fit: fitted rates numerically 0 occurred”Warning message:\n",
      "“glm.fit: fitted rates numerically 0 occurred”Warning message:\n",
      "“glm.fit: fitted rates numerically 0 occurred”Warning message:\n",
      "“glm.fit: fitted rates numerically 0 occurred”Warning message:\n",
      "“glm.fit: fitted rates numerically 0 occurred”Warning message:\n",
      "“glm.fit: fitted rates numerically 0 occurred”"
     ]
    },
    {
     "name": "stdout",
     "output_type": "stream",
     "text": [
      "..."
     ]
    },
    {
     "name": "stderr",
     "output_type": "stream",
     "text": [
      "Warning message:\n",
      "“glm.fit: fitted rates numerically 0 occurred”Warning message:\n",
      "“glm.fit: fitted rates numerically 0 occurred”Warning message:\n",
      "“glm.fit: fitted rates numerically 0 occurred”Warning message:\n",
      "“glm.fit: fitted rates numerically 0 occurred”Warning message:\n",
      "“glm.fit: fitted rates numerically 0 occurred”Warning message:\n",
      "“glm.fit: fitted rates numerically 0 occurred”Warning message:\n",
      "“glm.fit: fitted rates numerically 0 occurred”Warning message:\n",
      "“glm.fit: fitted rates numerically 0 occurred”Warning message:\n",
      "“glm.fit: fitted rates numerically 0 occurred”Warning message:\n",
      "“glm.fit: fitted rates numerically 0 occurred”"
     ]
    },
    {
     "name": "stdout",
     "output_type": "stream",
     "text": [
      "...."
     ]
    },
    {
     "name": "stderr",
     "output_type": "stream",
     "text": [
      "Warning message:\n",
      "“glm.fit: fitted rates numerically 0 occurred”Warning message:\n",
      "“glm.fit: fitted rates numerically 0 occurred”Warning message:\n",
      "“glm.fit: fitted rates numerically 0 occurred”Warning message:\n",
      "“glm.fit: fitted rates numerically 0 occurred”Warning message:\n",
      "“glm.fit: fitted rates numerically 0 occurred”Warning message:\n",
      "“glm.fit: fitted rates numerically 0 occurred”Warning message:\n",
      "“glm.fit: fitted rates numerically 0 occurred”Warning message:\n",
      "“glm.fit: fitted rates numerically 0 occurred”Warning message:\n",
      "“glm.fit: fitted rates numerically 0 occurred”"
     ]
    },
    {
     "name": "stdout",
     "output_type": "stream",
     "text": [
      "...."
     ]
    },
    {
     "name": "stderr",
     "output_type": "stream",
     "text": [
      "Warning message:\n",
      "“glm.fit: fitted rates numerically 0 occurred”Warning message:\n",
      "“glm.fit: fitted rates numerically 0 occurred”"
     ]
    },
    {
     "name": "stdout",
     "output_type": "stream",
     "text": [
      "."
     ]
    },
    {
     "name": "stderr",
     "output_type": "stream",
     "text": [
      "Warning message:\n",
      "“glm.fit: fitted rates numerically 0 occurred”"
     ]
    },
    {
     "name": "stdout",
     "output_type": "stream",
     "text": [
      "."
     ]
    },
    {
     "name": "stderr",
     "output_type": "stream",
     "text": [
      "Warning message:\n",
      "“glm.fit: fitted rates numerically 0 occurred”"
     ]
    },
    {
     "name": "stdout",
     "output_type": "stream",
     "text": [
      "."
     ]
    },
    {
     "name": "stderr",
     "output_type": "stream",
     "text": [
      "Warning message:\n",
      "“glm.fit: fitted rates numerically 0 occurred”Warning message:\n",
      "“glm.fit: fitted rates numerically 0 occurred”Warning message:\n",
      "“glm.fit: fitted rates numerically 0 occurred”"
     ]
    },
    {
     "name": "stdout",
     "output_type": "stream",
     "text": [
      ".."
     ]
    },
    {
     "name": "stderr",
     "output_type": "stream",
     "text": [
      "Warning message:\n",
      "“glm.fit: fitted rates numerically 0 occurred”Warning message:\n",
      "“glm.fit: fitted rates numerically 0 occurred”"
     ]
    },
    {
     "name": "stdout",
     "output_type": "stream",
     "text": [
      "."
     ]
    },
    {
     "name": "stderr",
     "output_type": "stream",
     "text": [
      "Warning message:\n",
      "“glm.fit: fitted rates numerically 0 occurred”Warning message:\n",
      "“glm.fit: fitted rates numerically 0 occurred”Warning message:\n",
      "“glm.fit: fitted rates numerically 0 occurred”Warning message:\n",
      "“glm.fit: fitted rates numerically 0 occurred”Warning message:\n",
      "“glm.fit: fitted rates numerically 0 occurred”Warning message:\n",
      "“glm.fit: fitted rates numerically 0 occurred”Warning message:\n",
      "“glm.fit: fitted rates numerically 0 occurred”"
     ]
    },
    {
     "name": "stdout",
     "output_type": "stream",
     "text": [
      "."
     ]
    },
    {
     "name": "stderr",
     "output_type": "stream",
     "text": [
      "Warning message:\n",
      "“glm.fit: fitted rates numerically 0 occurred”Warning message:\n",
      "“glm.fit: fitted rates numerically 0 occurred”"
     ]
    },
    {
     "name": "stdout",
     "output_type": "stream",
     "text": [
      "."
     ]
    },
    {
     "name": "stderr",
     "output_type": "stream",
     "text": [
      "Warning message:\n",
      "“glm.fit: fitted rates numerically 0 occurred”"
     ]
    },
    {
     "name": "stdout",
     "output_type": "stream",
     "text": [
      "."
     ]
    },
    {
     "name": "stderr",
     "output_type": "stream",
     "text": [
      "Warning message:\n",
      "“glm.fit: fitted rates numerically 0 occurred”"
     ]
    },
    {
     "name": "stdout",
     "output_type": "stream",
     "text": [
      "."
     ]
    },
    {
     "name": "stderr",
     "output_type": "stream",
     "text": [
      "Warning message:\n",
      "“glm.fit: fitted rates numerically 0 occurred”Warning message:\n",
      "“glm.fit: fitted rates numerically 0 occurred”Warning message:\n",
      "“glm.fit: fitted rates numerically 0 occurred”"
     ]
    },
    {
     "name": "stdout",
     "output_type": "stream",
     "text": [
      "."
     ]
    },
    {
     "name": "stderr",
     "output_type": "stream",
     "text": [
      "Warning message:\n",
      "“glm.fit: fitted rates numerically 0 occurred”Warning message:\n",
      "“glm.fit: fitted rates numerically 0 occurred”"
     ]
    },
    {
     "name": "stdout",
     "output_type": "stream",
     "text": [
      "."
     ]
    },
    {
     "name": "stderr",
     "output_type": "stream",
     "text": [
      "Warning message:\n",
      "“glm.fit: fitted rates numerically 0 occurred”Warning message:\n",
      "“glm.fit: fitted rates numerically 0 occurred”Warning message:\n",
      "“glm.fit: fitted rates numerically 0 occurred”Warning message:\n",
      "“glm.fit: fitted rates numerically 0 occurred”Warning message:\n",
      "“glm.fit: fitted rates numerically 0 occurred”Warning message:\n",
      "“glm.fit: fitted rates numerically 0 occurred”Warning message:\n",
      "“glm.fit: fitted rates numerically 0 occurred”"
     ]
    },
    {
     "name": "stdout",
     "output_type": "stream",
     "text": [
      ".."
     ]
    },
    {
     "name": "stderr",
     "output_type": "stream",
     "text": [
      "Warning message:\n",
      "“glm.fit: fitted rates numerically 0 occurred”Warning message:\n",
      "“glm.fit: fitted rates numerically 0 occurred”Warning message:\n",
      "“glm.fit: fitted rates numerically 0 occurred”Warning message:\n",
      "“glm.fit: fitted rates numerically 0 occurred”Warning message:\n",
      "“glm.fit: fitted rates numerically 0 occurred”Warning message:\n",
      "“glm.fit: fitted rates numerically 0 occurred”Warning message:\n",
      "“glm.fit: fitted rates numerically 0 occurred”Warning message:\n",
      "“glm.fit: fitted rates numerically 0 occurred”Warning message:\n",
      "“glm.fit: fitted rates numerically 0 occurred”Warning message:\n",
      "“glm.fit: fitted rates numerically 0 occurred”"
     ]
    },
    {
     "name": "stdout",
     "output_type": "stream",
     "text": [
      ".."
     ]
    },
    {
     "name": "stderr",
     "output_type": "stream",
     "text": [
      "Warning message:\n",
      "“glm.fit: fitted rates numerically 0 occurred”Warning message:\n",
      "“glm.fit: fitted rates numerically 0 occurred”Warning message:\n",
      "“glm.fit: fitted rates numerically 0 occurred”Warning message:\n",
      "“glm.fit: fitted rates numerically 0 occurred”Warning message:\n",
      "“glm.fit: fitted rates numerically 0 occurred”Warning message:\n",
      "“glm.fit: fitted rates numerically 0 occurred”Warning message:\n",
      "“glm.fit: fitted rates numerically 0 occurred”Warning message:\n",
      "“glm.fit: fitted rates numerically 0 occurred”"
     ]
    },
    {
     "name": "stdout",
     "output_type": "stream",
     "text": [
      "..."
     ]
    },
    {
     "name": "stderr",
     "output_type": "stream",
     "text": [
      "Warning message:\n",
      "“glm.fit: fitted rates numerically 0 occurred”Warning message:\n",
      "“glm.fit: fitted rates numerically 0 occurred”"
     ]
    },
    {
     "name": "stdout",
     "output_type": "stream",
     "text": [
      ".."
     ]
    },
    {
     "name": "stderr",
     "output_type": "stream",
     "text": [
      "Warning message:\n",
      "“glm.fit: fitted rates numerically 0 occurred”Warning message:\n",
      "“glm.fit: fitted rates numerically 0 occurred”Warning message:\n",
      "“glm.fit: fitted rates numerically 0 occurred”Warning message:\n",
      "“glm.fit: fitted rates numerically 0 occurred”Warning message:\n",
      "“glm.fit: fitted rates numerically 0 occurred”Warning message:\n",
      "“glm.fit: fitted rates numerically 0 occurred”Warning message:\n",
      "“glm.fit: fitted rates numerically 0 occurred”Warning message:\n",
      "“glm.fit: fitted rates numerically 0 occurred”Warning message:\n",
      "“glm.fit: fitted rates numerically 0 occurred”Warning message:\n",
      "“glm.fit: fitted rates numerically 0 occurred”Warning message:\n",
      "“glm.fit: fitted rates numerically 0 occurred”Warning message:\n",
      "“glm.fit: fitted rates numerically 0 occurred”"
     ]
    },
    {
     "name": "stdout",
     "output_type": "stream",
     "text": [
      "..."
     ]
    },
    {
     "name": "stderr",
     "output_type": "stream",
     "text": [
      "Warning message:\n",
      "“glm.fit: fitted rates numerically 0 occurred”Warning message:\n",
      "“glm.fit: fitted rates numerically 0 occurred”Warning message:\n",
      "“glm.fit: fitted rates numerically 0 occurred”Warning message:\n",
      "“glm.fit: fitted rates numerically 0 occurred”"
     ]
    },
    {
     "name": "stdout",
     "output_type": "stream",
     "text": [
      ".."
     ]
    },
    {
     "name": "stderr",
     "output_type": "stream",
     "text": [
      "Warning message:\n",
      "“glm.fit: fitted rates numerically 0 occurred”Warning message:\n",
      "“glm.fit: fitted rates numerically 0 occurred”Warning message:\n",
      "“glm.fit: fitted rates numerically 0 occurred”Warning message:\n",
      "“glm.fit: fitted rates numerically 0 occurred”Warning message:\n",
      "“glm.fit: fitted rates numerically 0 occurred”"
     ]
    },
    {
     "name": "stdout",
     "output_type": "stream",
     "text": [
      ".."
     ]
    },
    {
     "name": "stderr",
     "output_type": "stream",
     "text": [
      "Warning message:\n",
      "“glm.fit: fitted rates numerically 0 occurred”Warning message:\n",
      "“glm.fit: fitted rates numerically 0 occurred”"
     ]
    },
    {
     "name": "stdout",
     "output_type": "stream",
     "text": [
      "."
     ]
    },
    {
     "name": "stderr",
     "output_type": "stream",
     "text": [
      "Warning message:\n",
      "“glm.fit: fitted rates numerically 0 occurred”Warning message:\n",
      "“glm.fit: fitted rates numerically 0 occurred”Warning message:\n",
      "“glm.fit: fitted rates numerically 0 occurred”Warning message:\n",
      "“glm.fit: fitted rates numerically 0 occurred”Warning message:\n",
      "“glm.fit: fitted rates numerically 0 occurred”Warning message:\n",
      "“glm.fit: fitted rates numerically 0 occurred”Warning message:\n",
      "“glm.fit: fitted rates numerically 0 occurred”Warning message:\n",
      "“glm.fit: fitted rates numerically 0 occurred”Warning message:\n",
      "“glm.fit: fitted rates numerically 0 occurred”Warning message:\n",
      "“glm.fit: fitted rates numerically 0 occurred”Warning message:\n",
      "“glm.fit: fitted rates numerically 0 occurred”Warning message:\n",
      "“glm.fit: fitted rates numerically 0 occurred”Warning message:\n",
      "“glm.fit: fitted rates numerically 0 occurred”Warning message:\n",
      "“glm.fit: fitted rates numerically 0 occurred”Warning message:\n",
      "“glm.fit: fitted rates numerically 0 occurred”Warning message:\n",
      "“glm.fit: fitted rates numerically 0 occurred”"
     ]
    },
    {
     "name": "stdout",
     "output_type": "stream",
     "text": [
      "."
     ]
    },
    {
     "name": "stderr",
     "output_type": "stream",
     "text": [
      "Warning message:\n",
      "“glm.fit: fitted rates numerically 0 occurred”Warning message:\n",
      "“glm.fit: fitted rates numerically 0 occurred”"
     ]
    },
    {
     "name": "stdout",
     "output_type": "stream",
     "text": [
      "."
     ]
    },
    {
     "name": "stderr",
     "output_type": "stream",
     "text": [
      "Warning message:\n",
      "“glm.fit: fitted rates numerically 0 occurred”Warning message:\n",
      "“glm.fit: fitted rates numerically 0 occurred”Warning message:\n",
      "“glm.fit: fitted rates numerically 0 occurred”Warning message:\n",
      "“glm.fit: fitted rates numerically 0 occurred”"
     ]
    },
    {
     "name": "stdout",
     "output_type": "stream",
     "text": [
      "."
     ]
    },
    {
     "name": "stderr",
     "output_type": "stream",
     "text": [
      "Warning message:\n",
      "“glm.fit: fitted rates numerically 0 occurred”Warning message:\n",
      "“glm.fit: fitted rates numerically 0 occurred”"
     ]
    },
    {
     "name": "stdout",
     "output_type": "stream",
     "text": [
      "."
     ]
    },
    {
     "name": "stderr",
     "output_type": "stream",
     "text": [
      "Warning message:\n",
      "“glm.fit: fitted rates numerically 0 occurred”Warning message:\n",
      "“glm.fit: fitted rates numerically 0 occurred”Warning message:\n",
      "“glm.fit: fitted rates numerically 0 occurred”Warning message:\n",
      "“glm.fit: fitted rates numerically 0 occurred”Warning message:\n",
      "“glm.fit: fitted rates numerically 0 occurred”Warning message:\n",
      "“glm.fit: fitted rates numerically 0 occurred”Warning message:\n",
      "“glm.fit: fitted rates numerically 0 occurred”Warning message:\n",
      "“glm.fit: fitted rates numerically 0 occurred”Warning message:\n",
      "“glm.fit: fitted rates numerically 0 occurred”Warning message:\n",
      "“glm.fit: fitted rates numerically 0 occurred”Warning message:\n",
      "“glm.fit: fitted rates numerically 0 occurred”Warning message:\n",
      "“glm.fit: fitted rates numerically 0 occurred”Warning message:\n",
      "“glm.fit: fitted rates numerically 0 occurred”Warning message:\n",
      "“glm.fit: fitted rates numerically 0 occurred”"
     ]
    },
    {
     "name": "stdout",
     "output_type": "stream",
     "text": [
      "."
     ]
    },
    {
     "name": "stderr",
     "output_type": "stream",
     "text": [
      "Warning message:\n",
      "“glm.fit: fitted rates numerically 0 occurred”Warning message:\n",
      "“glm.fit: fitted rates numerically 0 occurred”Warning message:\n",
      "“glm.fit: fitted rates numerically 0 occurred”Warning message:\n",
      "“glm.fit: fitted rates numerically 0 occurred”Warning message:\n",
      "“glm.fit: fitted rates numerically 0 occurred”Warning message:\n",
      "“glm.fit: fitted rates numerically 0 occurred”"
     ]
    },
    {
     "name": "stdout",
     "output_type": "stream",
     "text": [
      "......"
     ]
    },
    {
     "name": "stderr",
     "output_type": "stream",
     "text": [
      "Warning message:\n",
      "“glm.fit: fitted rates numerically 0 occurred”"
     ]
    },
    {
     "name": "stdout",
     "output_type": "stream",
     "text": [
      "..."
     ]
    },
    {
     "name": "stderr",
     "output_type": "stream",
     "text": [
      "Warning message:\n",
      "“glm.fit: fitted rates numerically 0 occurred”Warning message:\n",
      "“glm.fit: fitted rates numerically 0 occurred”Warning message:\n",
      "“glm.fit: fitted rates numerically 0 occurred”"
     ]
    },
    {
     "name": "stdout",
     "output_type": "stream",
     "text": [
      "."
     ]
    },
    {
     "name": "stderr",
     "output_type": "stream",
     "text": [
      "Warning message:\n",
      "“glm.fit: fitted rates numerically 0 occurred”Warning message:\n",
      "“glm.fit: fitted rates numerically 0 occurred”Warning message:\n",
      "“glm.fit: fitted rates numerically 0 occurred”Warning message:\n",
      "“glm.fit: fitted rates numerically 0 occurred”Warning message:\n",
      "“glm.fit: fitted rates numerically 0 occurred”Warning message:\n",
      "“glm.fit: fitted rates numerically 0 occurred”Warning message:\n",
      "“glm.fit: fitted rates numerically 0 occurred”Warning message:\n",
      "“glm.fit: fitted rates numerically 0 occurred”"
     ]
    },
    {
     "name": "stdout",
     "output_type": "stream",
     "text": [
      "."
     ]
    },
    {
     "name": "stderr",
     "output_type": "stream",
     "text": [
      "Warning message:\n",
      "“glm.fit: fitted rates numerically 0 occurred”Warning message:\n",
      "“glm.fit: fitted rates numerically 0 occurred”"
     ]
    },
    {
     "name": "stdout",
     "output_type": "stream",
     "text": [
      "."
     ]
    },
    {
     "name": "stderr",
     "output_type": "stream",
     "text": [
      "Warning message:\n",
      "“glm.fit: fitted rates numerically 0 occurred”Warning message:\n",
      "“glm.fit: fitted rates numerically 0 occurred”Warning message:\n",
      "“glm.fit: fitted rates numerically 0 occurred”Warning message:\n",
      "“glm.fit: fitted rates numerically 0 occurred”Warning message:\n",
      "“glm.fit: fitted rates numerically 0 occurred”Warning message:\n",
      "“glm.fit: fitted rates numerically 0 occurred”Warning message:\n",
      "“glm.fit: fitted rates numerically 0 occurred”"
     ]
    },
    {
     "name": "stdout",
     "output_type": "stream",
     "text": [
      "."
     ]
    },
    {
     "name": "stderr",
     "output_type": "stream",
     "text": [
      "Warning message:\n",
      "“glm.fit: fitted rates numerically 0 occurred”Warning message:\n",
      "“glm.fit: fitted rates numerically 0 occurred”Warning message:\n",
      "“glm.fit: fitted rates numerically 0 occurred”Warning message:\n",
      "“glm.fit: fitted rates numerically 0 occurred”"
     ]
    },
    {
     "name": "stdout",
     "output_type": "stream",
     "text": [
      ".."
     ]
    },
    {
     "name": "stderr",
     "output_type": "stream",
     "text": [
      "Warning message:\n",
      "“glm.fit: fitted rates numerically 0 occurred”Warning message:\n",
      "“glm.fit: fitted rates numerically 0 occurred”"
     ]
    },
    {
     "name": "stdout",
     "output_type": "stream",
     "text": [
      "."
     ]
    },
    {
     "name": "stderr",
     "output_type": "stream",
     "text": [
      "Warning message:\n",
      "“glm.fit: fitted rates numerically 0 occurred”Warning message:\n",
      "“glm.fit: fitted rates numerically 0 occurred”Warning message:\n",
      "“glm.fit: fitted rates numerically 0 occurred”"
     ]
    },
    {
     "name": "stdout",
     "output_type": "stream",
     "text": [
      ".."
     ]
    },
    {
     "name": "stderr",
     "output_type": "stream",
     "text": [
      "Warning message:\n",
      "“glm.fit: fitted rates numerically 0 occurred”"
     ]
    },
    {
     "name": "stdout",
     "output_type": "stream",
     "text": [
      "."
     ]
    },
    {
     "name": "stderr",
     "output_type": "stream",
     "text": [
      "Warning message:\n",
      "“glm.fit: fitted rates numerically 0 occurred”Warning message:\n",
      "“glm.fit: fitted rates numerically 0 occurred”"
     ]
    },
    {
     "name": "stdout",
     "output_type": "stream",
     "text": [
      "."
     ]
    },
    {
     "name": "stderr",
     "output_type": "stream",
     "text": [
      "Warning message:\n",
      "“glm.fit: fitted rates numerically 0 occurred”Warning message:\n",
      "“glm.fit: fitted rates numerically 0 occurred”Warning message:\n",
      "“glm.fit: fitted rates numerically 0 occurred”Warning message:\n",
      "“glm.fit: fitted rates numerically 0 occurred”Warning message:\n",
      "“glm.fit: fitted rates numerically 0 occurred”Warning message:\n",
      "“glm.fit: fitted rates numerically 0 occurred”Warning message:\n",
      "“glm.fit: fitted rates numerically 0 occurred”Warning message:\n",
      "“glm.fit: fitted rates numerically 0 occurred”Warning message:\n",
      "“glm.fit: fitted rates numerically 0 occurred”"
     ]
    },
    {
     "name": "stdout",
     "output_type": "stream",
     "text": [
      ".."
     ]
    },
    {
     "name": "stderr",
     "output_type": "stream",
     "text": [
      "Warning message:\n",
      "“glm.fit: fitted rates numerically 0 occurred”Warning message:\n",
      "“glm.fit: fitted rates numerically 0 occurred”Warning message:\n",
      "“glm.fit: fitted rates numerically 0 occurred”"
     ]
    },
    {
     "name": "stdout",
     "output_type": "stream",
     "text": [
      "."
     ]
    },
    {
     "name": "stderr",
     "output_type": "stream",
     "text": [
      "Warning message:\n",
      "“glm.fit: fitted rates numerically 0 occurred”"
     ]
    },
    {
     "name": "stdout",
     "output_type": "stream",
     "text": [
      ".."
     ]
    },
    {
     "name": "stderr",
     "output_type": "stream",
     "text": [
      "Warning message:\n",
      "“glm.fit: fitted rates numerically 0 occurred”Warning message:\n",
      "“glm.fit: fitted rates numerically 0 occurred”Warning message:\n",
      "“glm.fit: fitted rates numerically 0 occurred”Warning message:\n",
      "“glm.fit: fitted rates numerically 0 occurred”"
     ]
    },
    {
     "name": "stdout",
     "output_type": "stream",
     "text": [
      "."
     ]
    },
    {
     "name": "stderr",
     "output_type": "stream",
     "text": [
      "Warning message:\n",
      "“glm.fit: fitted rates numerically 0 occurred”Warning message:\n",
      "“glm.fit: fitted rates numerically 0 occurred”Warning message:\n",
      "“glm.fit: fitted rates numerically 0 occurred”"
     ]
    },
    {
     "name": "stdout",
     "output_type": "stream",
     "text": [
      "."
     ]
    },
    {
     "name": "stderr",
     "output_type": "stream",
     "text": [
      "Warning message:\n",
      "“glm.fit: fitted rates numerically 0 occurred”Warning message:\n",
      "“glm.fit: fitted rates numerically 0 occurred”"
     ]
    },
    {
     "name": "stdout",
     "output_type": "stream",
     "text": [
      "."
     ]
    },
    {
     "name": "stderr",
     "output_type": "stream",
     "text": [
      "Warning message:\n",
      "“glm.fit: fitted rates numerically 0 occurred”Warning message:\n",
      "“glm.fit: fitted rates numerically 0 occurred”Warning message:\n",
      "“glm.fit: fitted rates numerically 0 occurred”Warning message:\n",
      "“glm.fit: fitted rates numerically 0 occurred”Warning message:\n",
      "“glm.fit: fitted rates numerically 0 occurred”Warning message:\n",
      "“glm.fit: fitted rates numerically 0 occurred”Warning message:\n",
      "“glm.fit: fitted rates numerically 0 occurred”Warning message:\n",
      "“glm.fit: fitted rates numerically 0 occurred”Warning message:\n",
      "“glm.fit: fitted rates numerically 0 occurred”Warning message:\n",
      "“glm.fit: fitted rates numerically 0 occurred”"
     ]
    },
    {
     "name": "stdout",
     "output_type": "stream",
     "text": [
      ".."
     ]
    },
    {
     "name": "stderr",
     "output_type": "stream",
     "text": [
      "Warning message:\n",
      "“glm.fit: fitted rates numerically 0 occurred”Warning message:\n",
      "“glm.fit: fitted rates numerically 0 occurred”Warning message:\n",
      "“glm.fit: fitted rates numerically 0 occurred”Warning message:\n",
      "“glm.fit: fitted rates numerically 0 occurred”"
     ]
    },
    {
     "name": "stdout",
     "output_type": "stream",
     "text": [
      "."
     ]
    },
    {
     "name": "stderr",
     "output_type": "stream",
     "text": [
      "Warning message:\n",
      "“glm.fit: fitted rates numerically 0 occurred”Warning message:\n",
      "“glm.fit: fitted rates numerically 0 occurred”Warning message:\n",
      "“glm.fit: fitted rates numerically 0 occurred”"
     ]
    },
    {
     "name": "stdout",
     "output_type": "stream",
     "text": [
      ".."
     ]
    },
    {
     "name": "stderr",
     "output_type": "stream",
     "text": [
      "Warning message:\n",
      "“glm.fit: fitted rates numerically 0 occurred”Warning message:\n",
      "“glm.fit: fitted rates numerically 0 occurred”Warning message:\n",
      "“glm.fit: fitted rates numerically 0 occurred”Warning message:\n",
      "“glm.fit: fitted rates numerically 0 occurred”"
     ]
    },
    {
     "name": "stdout",
     "output_type": "stream",
     "text": [
      "."
     ]
    },
    {
     "name": "stderr",
     "output_type": "stream",
     "text": [
      "Warning message:\n",
      "“glm.fit: fitted rates numerically 0 occurred”Warning message:\n",
      "“glm.fit: fitted rates numerically 0 occurred”"
     ]
    },
    {
     "name": "stdout",
     "output_type": "stream",
     "text": [
      "."
     ]
    },
    {
     "name": "stderr",
     "output_type": "stream",
     "text": [
      "Warning message:\n",
      "“glm.fit: fitted rates numerically 0 occurred”Warning message:\n",
      "“glm.fit: fitted rates numerically 0 occurred”Warning message:\n",
      "“glm.fit: fitted rates numerically 0 occurred”Warning message:\n",
      "“glm.fit: fitted rates numerically 0 occurred”Warning message:\n",
      "“glm.fit: fitted rates numerically 0 occurred”Warning message:\n",
      "“glm.fit: fitted rates numerically 0 occurred”Warning message:\n",
      "“glm.fit: fitted rates numerically 0 occurred”Warning message:\n",
      "“glm.fit: fitted rates numerically 0 occurred”Warning message:\n",
      "“glm.fit: fitted rates numerically 0 occurred”Warning message:\n",
      "“glm.fit: fitted rates numerically 0 occurred”"
     ]
    },
    {
     "name": "stdout",
     "output_type": "stream",
     "text": [
      "."
     ]
    },
    {
     "name": "stderr",
     "output_type": "stream",
     "text": [
      "Warning message:\n",
      "“glm.fit: fitted rates numerically 0 occurred”Warning message:\n",
      "“glm.fit: fitted rates numerically 0 occurred”"
     ]
    },
    {
     "name": "stdout",
     "output_type": "stream",
     "text": [
      "."
     ]
    },
    {
     "name": "stderr",
     "output_type": "stream",
     "text": [
      "Warning message:\n",
      "“glm.fit: fitted rates numerically 0 occurred”Warning message:\n",
      "“glm.fit: fitted rates numerically 0 occurred”Warning message:\n",
      "“glm.fit: fitted rates numerically 0 occurred”Warning message:\n",
      "“glm.fit: fitted rates numerically 0 occurred”Warning message:\n",
      "“glm.fit: fitted rates numerically 0 occurred”"
     ]
    },
    {
     "name": "stdout",
     "output_type": "stream",
     "text": [
      "."
     ]
    },
    {
     "name": "stderr",
     "output_type": "stream",
     "text": [
      "Warning message:\n",
      "“glm.fit: fitted rates numerically 0 occurred”Warning message:\n",
      "“glm.fit: fitted rates numerically 0 occurred”Warning message:\n",
      "“glm.fit: fitted rates numerically 0 occurred”Warning message:\n",
      "“glm.fit: fitted rates numerically 0 occurred”Warning message:\n",
      "“glm.fit: fitted rates numerically 0 occurred”"
     ]
    },
    {
     "name": "stdout",
     "output_type": "stream",
     "text": [
      "."
     ]
    },
    {
     "name": "stderr",
     "output_type": "stream",
     "text": [
      "Warning message:\n",
      "“glm.fit: fitted rates numerically 0 occurred”Warning message:\n",
      "“glm.fit: fitted rates numerically 0 occurred”"
     ]
    },
    {
     "name": "stdout",
     "output_type": "stream",
     "text": [
      "..."
     ]
    },
    {
     "name": "stderr",
     "output_type": "stream",
     "text": [
      "Warning message:\n",
      "“glm.fit: fitted rates numerically 0 occurred”Warning message:\n",
      "“glm.fit: fitted rates numerically 0 occurred”Warning message:\n",
      "“glm.fit: fitted rates numerically 0 occurred”Warning message:\n",
      "“glm.fit: fitted rates numerically 0 occurred”Warning message:\n",
      "“glm.fit: fitted rates numerically 0 occurred”Warning message:\n",
      "“glm.fit: fitted rates numerically 0 occurred”Warning message:\n",
      "“glm.fit: fitted rates numerically 0 occurred”Warning message:\n",
      "“glm.fit: fitted rates numerically 0 occurred”Warning message:\n",
      "“glm.fit: fitted rates numerically 0 occurred”"
     ]
    },
    {
     "name": "stdout",
     "output_type": "stream",
     "text": [
      "."
     ]
    },
    {
     "name": "stderr",
     "output_type": "stream",
     "text": [
      "Warning message:\n",
      "“glm.fit: fitted rates numerically 0 occurred”Warning message:\n",
      "“glm.fit: fitted rates numerically 0 occurred”Warning message:\n",
      "“glm.fit: fitted rates numerically 0 occurred”Warning message:\n",
      "“glm.fit: fitted rates numerically 0 occurred”Warning message:\n",
      "“glm.fit: fitted rates numerically 0 occurred”Warning message:\n",
      "“glm.fit: fitted rates numerically 0 occurred”Warning message:\n",
      "“glm.fit: fitted rates numerically 0 occurred”Warning message:\n",
      "“glm.fit: fitted rates numerically 0 occurred”Warning message:\n",
      "“glm.fit: fitted rates numerically 0 occurred”Warning message:\n",
      "“glm.fit: fitted rates numerically 0 occurred”Warning message:\n",
      "“glm.fit: fitted rates numerically 0 occurred”"
     ]
    },
    {
     "name": "stdout",
     "output_type": "stream",
     "text": [
      "."
     ]
    },
    {
     "name": "stderr",
     "output_type": "stream",
     "text": [
      "Warning message:\n",
      "“glm.fit: fitted rates numerically 0 occurred”Warning message:\n",
      "“glm.fit: fitted rates numerically 0 occurred”"
     ]
    },
    {
     "name": "stdout",
     "output_type": "stream",
     "text": [
      "."
     ]
    },
    {
     "name": "stderr",
     "output_type": "stream",
     "text": [
      "Warning message:\n",
      "“glm.fit: fitted rates numerically 0 occurred”Warning message:\n",
      "“glm.fit: fitted rates numerically 0 occurred”Warning message:\n",
      "“glm.fit: fitted rates numerically 0 occurred”Warning message:\n",
      "“glm.fit: fitted rates numerically 0 occurred”Warning message:\n",
      "“glm.fit: fitted rates numerically 0 occurred”Warning message:\n",
      "“glm.fit: fitted rates numerically 0 occurred”Warning message:\n",
      "“glm.fit: fitted rates numerically 0 occurred”Warning message:\n",
      "“glm.fit: fitted rates numerically 0 occurred”Warning message:\n",
      "“glm.fit: fitted rates numerically 0 occurred”"
     ]
    },
    {
     "name": "stdout",
     "output_type": "stream",
     "text": [
      "."
     ]
    },
    {
     "name": "stderr",
     "output_type": "stream",
     "text": [
      "Warning message:\n",
      "“glm.fit: fitted rates numerically 0 occurred”Warning message:\n",
      "“glm.fit: fitted rates numerically 0 occurred”Warning message:\n",
      "“glm.fit: fitted rates numerically 0 occurred”Warning message:\n",
      "“glm.fit: fitted rates numerically 0 occurred”Warning message:\n",
      "“glm.fit: fitted rates numerically 0 occurred”"
     ]
    },
    {
     "name": "stdout",
     "output_type": "stream",
     "text": [
      "...."
     ]
    },
    {
     "name": "stderr",
     "output_type": "stream",
     "text": [
      "Warning message:\n",
      "“glm.fit: fitted rates numerically 0 occurred”Warning message:\n",
      "“glm.fit: fitted rates numerically 0 occurred”Warning message:\n",
      "“glm.fit: fitted rates numerically 0 occurred”"
     ]
    },
    {
     "name": "stdout",
     "output_type": "stream",
     "text": [
      ".."
     ]
    },
    {
     "name": "stderr",
     "output_type": "stream",
     "text": [
      "Warning message:\n",
      "“glm.fit: fitted rates numerically 0 occurred”Warning message:\n",
      "“glm.fit: fitted rates numerically 0 occurred”Warning message:\n",
      "“glm.fit: fitted rates numerically 0 occurred”Warning message:\n",
      "“glm.fit: fitted rates numerically 0 occurred”"
     ]
    },
    {
     "name": "stdout",
     "output_type": "stream",
     "text": [
      "."
     ]
    },
    {
     "name": "stderr",
     "output_type": "stream",
     "text": [
      "Warning message:\n",
      "“glm.fit: fitted rates numerically 0 occurred”Warning message:\n",
      "“glm.fit: fitted rates numerically 0 occurred”"
     ]
    },
    {
     "name": "stdout",
     "output_type": "stream",
     "text": [
      "."
     ]
    },
    {
     "name": "stderr",
     "output_type": "stream",
     "text": [
      "Warning message:\n",
      "“glm.fit: fitted rates numerically 0 occurred”Warning message:\n",
      "“glm.fit: fitted rates numerically 0 occurred”Warning message:\n",
      "“glm.fit: fitted rates numerically 0 occurred”Warning message:\n",
      "“glm.fit: fitted rates numerically 0 occurred”Warning message:\n",
      "“glm.fit: fitted rates numerically 0 occurred”Warning message:\n",
      "“glm.fit: fitted rates numerically 0 occurred”Warning message:\n",
      "“glm.fit: fitted rates numerically 0 occurred”"
     ]
    },
    {
     "name": "stdout",
     "output_type": "stream",
     "text": [
      ".."
     ]
    },
    {
     "name": "stderr",
     "output_type": "stream",
     "text": [
      "Warning message:\n",
      "“glm.fit: fitted rates numerically 0 occurred”Warning message:\n",
      "“glm.fit: fitted rates numerically 0 occurred”Warning message:\n",
      "“glm.fit: fitted rates numerically 0 occurred”Warning message:\n",
      "“glm.fit: fitted rates numerically 0 occurred”Warning message:\n",
      "“glm.fit: fitted rates numerically 0 occurred”Warning message:\n",
      "“glm.fit: fitted rates numerically 0 occurred”Warning message:\n",
      "“glm.fit: fitted rates numerically 0 occurred”Warning message:\n",
      "“glm.fit: fitted rates numerically 0 occurred”Warning message:\n",
      "“glm.fit: fitted rates numerically 0 occurred”"
     ]
    },
    {
     "name": "stdout",
     "output_type": "stream",
     "text": [
      "."
     ]
    },
    {
     "name": "stderr",
     "output_type": "stream",
     "text": [
      "Warning message:\n",
      "“glm.fit: fitted rates numerically 0 occurred”Warning message:\n",
      "“glm.fit: fitted rates numerically 0 occurred”"
     ]
    },
    {
     "name": "stdout",
     "output_type": "stream",
     "text": [
      "."
     ]
    },
    {
     "name": "stderr",
     "output_type": "stream",
     "text": [
      "Warning message:\n",
      "“glm.fit: fitted rates numerically 0 occurred”Warning message:\n",
      "“glm.fit: fitted rates numerically 0 occurred”Warning message:\n",
      "“glm.fit: fitted rates numerically 0 occurred”Warning message:\n",
      "“glm.fit: fitted rates numerically 0 occurred”Warning message:\n",
      "“glm.fit: fitted rates numerically 0 occurred”Warning message:\n",
      "“glm.fit: fitted rates numerically 0 occurred”Warning message:\n",
      "“glm.fit: fitted rates numerically 0 occurred”Warning message:\n",
      "“glm.fit: fitted rates numerically 0 occurred”Warning message:\n",
      "“glm.fit: fitted rates numerically 0 occurred”Warning message:\n",
      "“glm.fit: fitted rates numerically 0 occurred”Warning message:\n",
      "“glm.fit: fitted rates numerically 0 occurred”Warning message:\n",
      "“glm.fit: fitted rates numerically 0 occurred”Warning message:\n",
      "“glm.fit: fitted rates numerically 0 occurred”"
     ]
    },
    {
     "name": "stdout",
     "output_type": "stream",
     "text": [
      "."
     ]
    },
    {
     "name": "stderr",
     "output_type": "stream",
     "text": [
      "Warning message:\n",
      "“glm.fit: fitted rates numerically 0 occurred”Warning message:\n",
      "“glm.fit: fitted rates numerically 0 occurred”Warning message:\n",
      "“glm.fit: fitted rates numerically 0 occurred”Warning message:\n",
      "“glm.fit: fitted rates numerically 0 occurred”Warning message:\n",
      "“glm.fit: fitted rates numerically 0 occurred”Warning message:\n",
      "“glm.fit: fitted rates numerically 0 occurred”Warning message:\n",
      "“glm.fit: fitted rates numerically 0 occurred”Warning message:\n",
      "“glm.fit: fitted rates numerically 0 occurred”Warning message:\n",
      "“glm.fit: fitted rates numerically 0 occurred”"
     ]
    },
    {
     "name": "stdout",
     "output_type": "stream",
     "text": [
      ".."
     ]
    },
    {
     "name": "stderr",
     "output_type": "stream",
     "text": [
      "Warning message:\n",
      "“glm.fit: fitted rates numerically 0 occurred”Warning message:\n",
      "“glm.fit: fitted rates numerically 0 occurred”"
     ]
    },
    {
     "name": "stdout",
     "output_type": "stream",
     "text": [
      ".."
     ]
    },
    {
     "name": "stderr",
     "output_type": "stream",
     "text": [
      "Warning message:\n",
      "“glm.fit: fitted rates numerically 0 occurred”Warning message:\n",
      "“glm.fit: fitted rates numerically 0 occurred”Warning message:\n",
      "“glm.fit: fitted rates numerically 0 occurred”Warning message:\n",
      "“glm.fit: fitted rates numerically 0 occurred”Warning message:\n",
      "“glm.fit: fitted rates numerically 0 occurred”Warning message:\n",
      "“glm.fit: fitted rates numerically 0 occurred”Warning message:\n",
      "“glm.fit: fitted rates numerically 0 occurred”Warning message:\n",
      "“glm.fit: fitted rates numerically 0 occurred”"
     ]
    },
    {
     "name": "stdout",
     "output_type": "stream",
     "text": [
      "."
     ]
    },
    {
     "name": "stderr",
     "output_type": "stream",
     "text": [
      "Warning message:\n",
      "“glm.fit: fitted rates numerically 0 occurred”Warning message:\n",
      "“glm.fit: fitted rates numerically 0 occurred”Warning message:\n",
      "“glm.fit: fitted rates numerically 0 occurred”Warning message:\n",
      "“glm.fit: fitted rates numerically 0 occurred”"
     ]
    },
    {
     "name": "stdout",
     "output_type": "stream",
     "text": [
      "."
     ]
    },
    {
     "name": "stderr",
     "output_type": "stream",
     "text": [
      "Warning message:\n",
      "“glm.fit: fitted rates numerically 0 occurred”Warning message:\n",
      "“glm.fit: fitted rates numerically 0 occurred”Warning message:\n",
      "“glm.fit: fitted rates numerically 0 occurred”Warning message:\n",
      "“glm.fit: fitted rates numerically 0 occurred”Warning message:\n",
      "“glm.fit: fitted rates numerically 0 occurred”Warning message:\n",
      "“glm.fit: fitted rates numerically 0 occurred”"
     ]
    },
    {
     "name": "stdout",
     "output_type": "stream",
     "text": [
      "."
     ]
    },
    {
     "name": "stderr",
     "output_type": "stream",
     "text": [
      "Warning message:\n",
      "“glm.fit: fitted rates numerically 0 occurred”Warning message:\n",
      "“glm.fit: fitted rates numerically 0 occurred”Warning message:\n",
      "“glm.fit: fitted rates numerically 0 occurred”Warning message:\n",
      "“glm.fit: fitted rates numerically 0 occurred”Warning message:\n",
      "“glm.fit: fitted rates numerically 0 occurred”Warning message:\n",
      "“glm.fit: fitted rates numerically 0 occurred”Warning message:\n",
      "“glm.fit: fitted rates numerically 0 occurred”"
     ]
    },
    {
     "name": "stdout",
     "output_type": "stream",
     "text": [
      "....."
     ]
    },
    {
     "name": "stderr",
     "output_type": "stream",
     "text": [
      "Warning message:\n",
      "“glm.fit: fitted rates numerically 0 occurred”Warning message:\n",
      "“glm.fit: fitted rates numerically 0 occurred”Warning message:\n",
      "“glm.fit: fitted rates numerically 0 occurred”Warning message:\n",
      "“glm.fit: fitted rates numerically 0 occurred”Warning message:\n",
      "“glm.fit: fitted rates numerically 0 occurred”"
     ]
    },
    {
     "name": "stdout",
     "output_type": "stream",
     "text": [
      "."
     ]
    },
    {
     "name": "stderr",
     "output_type": "stream",
     "text": [
      "Warning message:\n",
      "“glm.fit: fitted rates numerically 0 occurred”Warning message:\n",
      "“glm.fit: fitted rates numerically 0 occurred”Warning message:\n",
      "“glm.fit: fitted rates numerically 0 occurred”Warning message:\n",
      "“glm.fit: fitted rates numerically 0 occurred”"
     ]
    },
    {
     "name": "stdout",
     "output_type": "stream",
     "text": [
      ".."
     ]
    },
    {
     "name": "stderr",
     "output_type": "stream",
     "text": [
      "Warning message:\n",
      "“glm.fit: fitted rates numerically 0 occurred”Warning message:\n",
      "“glm.fit: fitted rates numerically 0 occurred”Warning message:\n",
      "“glm.fit: fitted rates numerically 0 occurred”"
     ]
    },
    {
     "name": "stdout",
     "output_type": "stream",
     "text": [
      "."
     ]
    },
    {
     "name": "stderr",
     "output_type": "stream",
     "text": [
      "Warning message:\n",
      "“glm.fit: fitted rates numerically 0 occurred”"
     ]
    },
    {
     "name": "stdout",
     "output_type": "stream",
     "text": [
      ".."
     ]
    },
    {
     "name": "stderr",
     "output_type": "stream",
     "text": [
      "Warning message:\n",
      "“glm.fit: fitted rates numerically 0 occurred”Warning message:\n",
      "“glm.fit: fitted rates numerically 0 occurred”"
     ]
    },
    {
     "name": "stdout",
     "output_type": "stream",
     "text": [
      ".."
     ]
    },
    {
     "name": "stderr",
     "output_type": "stream",
     "text": [
      "Warning message:\n",
      "“glm.fit: fitted rates numerically 0 occurred”"
     ]
    },
    {
     "name": "stdout",
     "output_type": "stream",
     "text": [
      "."
     ]
    },
    {
     "name": "stderr",
     "output_type": "stream",
     "text": [
      "Warning message:\n",
      "“glm.fit: fitted rates numerically 0 occurred”Warning message:\n",
      "“glm.fit: fitted rates numerically 0 occurred”Warning message:\n",
      "“glm.fit: fitted rates numerically 0 occurred”Warning message:\n",
      "“glm.fit: fitted rates numerically 0 occurred”Warning message:\n",
      "“glm.fit: fitted rates numerically 0 occurred”Warning message:\n",
      "“glm.fit: fitted rates numerically 0 occurred”Warning message:\n",
      "“glm.fit: fitted rates numerically 0 occurred”Warning message:\n",
      "“glm.fit: fitted rates numerically 0 occurred”"
     ]
    },
    {
     "name": "stdout",
     "output_type": "stream",
     "text": [
      "."
     ]
    },
    {
     "name": "stderr",
     "output_type": "stream",
     "text": [
      "Warning message:\n",
      "“glm.fit: fitted rates numerically 0 occurred”"
     ]
    },
    {
     "name": "stdout",
     "output_type": "stream",
     "text": [
      "."
     ]
    },
    {
     "name": "stderr",
     "output_type": "stream",
     "text": [
      "Warning message:\n",
      "“glm.fit: fitted rates numerically 0 occurred”Warning message:\n",
      "“glm.fit: fitted rates numerically 0 occurred”"
     ]
    },
    {
     "name": "stdout",
     "output_type": "stream",
     "text": [
      ".."
     ]
    },
    {
     "name": "stderr",
     "output_type": "stream",
     "text": [
      "Warning message:\n",
      "“glm.fit: fitted rates numerically 0 occurred”Warning message:\n",
      "“glm.fit: fitted rates numerically 0 occurred”Warning message:\n",
      "“glm.fit: fitted rates numerically 0 occurred”Warning message:\n",
      "“glm.fit: fitted rates numerically 0 occurred”"
     ]
    },
    {
     "name": "stdout",
     "output_type": "stream",
     "text": [
      "."
     ]
    },
    {
     "name": "stderr",
     "output_type": "stream",
     "text": [
      "Warning message:\n",
      "“glm.fit: fitted rates numerically 0 occurred”Warning message:\n",
      "“glm.fit: fitted rates numerically 0 occurred”Warning message:\n",
      "“glm.fit: fitted rates numerically 0 occurred”Warning message:\n",
      "“glm.fit: fitted rates numerically 0 occurred”Warning message:\n",
      "“glm.fit: fitted rates numerically 0 occurred”Warning message:\n",
      "“glm.fit: fitted rates numerically 0 occurred”Warning message:\n",
      "“glm.fit: fitted rates numerically 0 occurred”Warning message:\n",
      "“glm.fit: fitted rates numerically 0 occurred”Warning message:\n",
      "“glm.fit: fitted rates numerically 0 occurred”Warning message:\n",
      "“glm.fit: fitted rates numerically 0 occurred”Warning message:\n",
      "“glm.fit: fitted rates numerically 0 occurred”Warning message:\n",
      "“glm.fit: fitted rates numerically 0 occurred”Warning message:\n",
      "“glm.fit: fitted rates numerically 0 occurred”Warning message:\n",
      "“glm.fit: fitted rates numerically 0 occurred”Warning message:\n",
      "“glm.fit: fitted rates numerically 0 occurred”Warning message:\n",
      "“glm.fit: fitted rates numerically 0 occurred”Warning message:\n",
      "“glm.fit: fitted rates numerically 0 occurred”Warning message:\n",
      "“glm.fit: fitted rates numerically 0 occurred”Warning message:\n",
      "“glm.fit: fitted rates numerically 0 occurred”"
     ]
    },
    {
     "name": "stdout",
     "output_type": "stream",
     "text": [
      "."
     ]
    },
    {
     "name": "stderr",
     "output_type": "stream",
     "text": [
      "Warning message:\n",
      "“glm.fit: fitted rates numerically 0 occurred”Warning message:\n",
      "“glm.fit: fitted rates numerically 0 occurred”Warning message:\n",
      "“glm.fit: fitted rates numerically 0 occurred”Warning message:\n",
      "“glm.fit: fitted rates numerically 0 occurred”Warning message:\n",
      "“glm.fit: fitted rates numerically 0 occurred”Warning message:\n",
      "“glm.fit: fitted rates numerically 0 occurred”Warning message:\n",
      "“glm.fit: fitted rates numerically 0 occurred”Warning message:\n",
      "“glm.fit: fitted rates numerically 0 occurred”Warning message:\n",
      "“glm.fit: fitted rates numerically 0 occurred”Warning message:\n",
      "“glm.fit: fitted rates numerically 0 occurred”Warning message:\n",
      "“glm.fit: fitted rates numerically 0 occurred”Warning message:\n",
      "“glm.fit: fitted rates numerically 0 occurred”Warning message:\n",
      "“glm.fit: fitted rates numerically 0 occurred”Warning message:\n",
      "“glm.fit: fitted rates numerically 0 occurred”"
     ]
    },
    {
     "name": "stdout",
     "output_type": "stream",
     "text": [
      "."
     ]
    },
    {
     "name": "stderr",
     "output_type": "stream",
     "text": [
      "Warning message:\n",
      "“glm.fit: fitted rates numerically 0 occurred”Warning message:\n",
      "“glm.fit: fitted rates numerically 0 occurred”"
     ]
    },
    {
     "name": "stdout",
     "output_type": "stream",
     "text": [
      ".."
     ]
    },
    {
     "name": "stderr",
     "output_type": "stream",
     "text": [
      "Warning message:\n",
      "“glm.fit: fitted rates numerically 0 occurred”Warning message:\n",
      "“glm.fit: fitted rates numerically 0 occurred”"
     ]
    },
    {
     "name": "stdout",
     "output_type": "stream",
     "text": [
      "."
     ]
    },
    {
     "name": "stderr",
     "output_type": "stream",
     "text": [
      "Warning message:\n",
      "“glm.fit: fitted rates numerically 0 occurred”Warning message:\n",
      "“glm.fit: fitted rates numerically 0 occurred”Warning message:\n",
      "“glm.fit: fitted rates numerically 0 occurred”"
     ]
    },
    {
     "name": "stdout",
     "output_type": "stream",
     "text": [
      "."
     ]
    },
    {
     "name": "stderr",
     "output_type": "stream",
     "text": [
      "Warning message:\n",
      "“glm.fit: fitted rates numerically 0 occurred”Warning message:\n",
      "“glm.fit: fitted rates numerically 0 occurred”Warning message:\n",
      "“glm.fit: fitted rates numerically 0 occurred”Warning message:\n",
      "“glm.fit: fitted rates numerically 0 occurred”Warning message:\n",
      "“glm.fit: fitted rates numerically 0 occurred”Warning message:\n",
      "“glm.fit: fitted rates numerically 0 occurred”Warning message:\n",
      "“glm.fit: fitted rates numerically 0 occurred”Warning message:\n",
      "“glm.fit: fitted rates numerically 0 occurred”Warning message:\n",
      "“glm.fit: fitted rates numerically 0 occurred”"
     ]
    },
    {
     "name": "stdout",
     "output_type": "stream",
     "text": [
      "."
     ]
    },
    {
     "name": "stderr",
     "output_type": "stream",
     "text": [
      "Warning message:\n",
      "“glm.fit: fitted rates numerically 0 occurred”Warning message:\n",
      "“glm.fit: fitted rates numerically 0 occurred”Warning message:\n",
      "“glm.fit: fitted rates numerically 0 occurred”Warning message:\n",
      "“glm.fit: fitted rates numerically 0 occurred”Warning message:\n",
      "“glm.fit: fitted rates numerically 0 occurred”Warning message:\n",
      "“glm.fit: fitted rates numerically 0 occurred”Warning message:\n",
      "“glm.fit: fitted rates numerically 0 occurred”Warning message:\n",
      "“glm.fit: fitted rates numerically 0 occurred”Warning message:\n",
      "“glm.fit: fitted rates numerically 0 occurred”Warning message:\n",
      "“glm.fit: fitted rates numerically 0 occurred”Warning message:\n",
      "“glm.fit: fitted rates numerically 0 occurred”Warning message:\n",
      "“glm.fit: fitted rates numerically 0 occurred”Warning message:\n",
      "“glm.fit: fitted rates numerically 0 occurred”Warning message:\n",
      "“glm.fit: fitted rates numerically 0 occurred”Warning message:\n",
      "“glm.fit: fitted rates numerically 0 occurred”Warning message:\n",
      "“glm.fit: fitted rates numerically 0 occurred”Warning message:\n",
      "“glm.fit: fitted rates numerically 0 occurred”Warning message:\n",
      "“glm.fit: fitted rates numerically 0 occurred”Warning message:\n",
      "“glm.fit: fitted rates numerically 0 occurred”Warning message:\n",
      "“glm.fit: fitted rates numerically 0 occurred”Warning message:\n",
      "“glm.fit: fitted rates numerically 0 occurred”Warning message:\n",
      "“glm.fit: fitted rates numerically 0 occurred”Warning message:\n",
      "“glm.fit: fitted rates numerically 0 occurred”Warning message:\n",
      "“glm.fit: fitted rates numerically 0 occurred”Warning message:\n",
      "“glm.fit: fitted rates numerically 0 occurred”Warning message:\n",
      "“glm.fit: fitted rates numerically 0 occurred”Warning message:\n",
      "“glm.fit: fitted rates numerically 0 occurred”Warning message:\n",
      "“glm.fit: fitted rates numerically 0 occurred”Warning message:\n",
      "“glm.fit: fitted rates numerically 0 occurred”Warning message:\n",
      "“glm.fit: fitted rates numerically 0 occurred”Warning message:\n",
      "“glm.fit: fitted rates numerically 0 occurred”Warning message:\n",
      "“glm.fit: fitted rates numerically 0 occurred”Warning message:\n",
      "“glm.fit: fitted rates numerically 0 occurred”"
     ]
    },
    {
     "name": "stdout",
     "output_type": "stream",
     "text": [
      "."
     ]
    },
    {
     "name": "stderr",
     "output_type": "stream",
     "text": [
      "Warning message:\n",
      "“glm.fit: fitted rates numerically 0 occurred”Warning message:\n",
      "“glm.fit: fitted rates numerically 0 occurred”"
     ]
    },
    {
     "name": "stdout",
     "output_type": "stream",
     "text": [
      "."
     ]
    },
    {
     "name": "stderr",
     "output_type": "stream",
     "text": [
      "Warning message:\n",
      "“glm.fit: fitted rates numerically 0 occurred”Warning message:\n",
      "“glm.fit: fitted rates numerically 0 occurred”Warning message:\n",
      "“glm.fit: fitted rates numerically 0 occurred”Warning message:\n",
      "“glm.fit: fitted rates numerically 0 occurred”"
     ]
    },
    {
     "name": "stdout",
     "output_type": "stream",
     "text": [
      "."
     ]
    },
    {
     "name": "stderr",
     "output_type": "stream",
     "text": [
      "Warning message:\n",
      "“glm.fit: fitted rates numerically 0 occurred”Warning message:\n",
      "“glm.fit: fitted rates numerically 0 occurred”Warning message:\n",
      "“glm.fit: fitted rates numerically 0 occurred”Warning message:\n",
      "“glm.fit: fitted rates numerically 0 occurred”Warning message:\n",
      "“glm.fit: fitted rates numerically 0 occurred”Warning message:\n",
      "“glm.fit: fitted rates numerically 0 occurred”"
     ]
    },
    {
     "name": "stdout",
     "output_type": "stream",
     "text": [
      "."
     ]
    },
    {
     "name": "stderr",
     "output_type": "stream",
     "text": [
      "Warning message:\n",
      "“glm.fit: fitted rates numerically 0 occurred”Warning message:\n",
      "“glm.fit: fitted rates numerically 0 occurred”Warning message:\n",
      "“glm.fit: fitted rates numerically 0 occurred”"
     ]
    },
    {
     "name": "stdout",
     "output_type": "stream",
     "text": [
      "."
     ]
    },
    {
     "name": "stderr",
     "output_type": "stream",
     "text": [
      "Warning message:\n",
      "“glm.fit: fitted rates numerically 0 occurred”Warning message:\n",
      "“glm.fit: fitted rates numerically 0 occurred”Warning message:\n",
      "“glm.fit: fitted rates numerically 0 occurred”Warning message:\n",
      "“glm.fit: fitted rates numerically 0 occurred”Warning message:\n",
      "“glm.fit: fitted rates numerically 0 occurred”Warning message:\n",
      "“glm.fit: fitted rates numerically 0 occurred”Warning message:\n",
      "“glm.fit: fitted rates numerically 0 occurred”"
     ]
    },
    {
     "name": "stdout",
     "output_type": "stream",
     "text": [
      ".."
     ]
    },
    {
     "name": "stderr",
     "output_type": "stream",
     "text": [
      "Warning message:\n",
      "“glm.fit: fitted rates numerically 0 occurred”Warning message:\n",
      "“glm.fit: fitted rates numerically 0 occurred”Warning message:\n",
      "“glm.fit: fitted rates numerically 0 occurred”Warning message:\n",
      "“glm.fit: fitted rates numerically 0 occurred”Warning message:\n",
      "“glm.fit: fitted rates numerically 0 occurred”Warning message:\n",
      "“glm.fit: fitted rates numerically 0 occurred”Warning message:\n",
      "“glm.fit: fitted rates numerically 0 occurred”Warning message:\n",
      "“glm.fit: fitted rates numerically 0 occurred”Warning message:\n",
      "“glm.fit: fitted rates numerically 0 occurred”Warning message:\n",
      "“glm.fit: fitted rates numerically 0 occurred”Warning message:\n",
      "“glm.fit: fitted rates numerically 0 occurred”Warning message:\n",
      "“glm.fit: fitted rates numerically 0 occurred”"
     ]
    },
    {
     "name": "stdout",
     "output_type": "stream",
     "text": [
      ".."
     ]
    },
    {
     "name": "stderr",
     "output_type": "stream",
     "text": [
      "Warning message:\n",
      "“glm.fit: fitted rates numerically 0 occurred”Warning message:\n",
      "“glm.fit: fitted rates numerically 0 occurred”"
     ]
    },
    {
     "name": "stdout",
     "output_type": "stream",
     "text": [
      "."
     ]
    },
    {
     "name": "stderr",
     "output_type": "stream",
     "text": [
      "Warning message:\n",
      "“glm.fit: fitted rates numerically 0 occurred”Warning message:\n",
      "“glm.fit: fitted rates numerically 0 occurred”Warning message:\n",
      "“glm.fit: fitted rates numerically 0 occurred”Warning message:\n",
      "“glm.fit: fitted rates numerically 0 occurred”Warning message:\n",
      "“glm.fit: fitted rates numerically 0 occurred”Warning message:\n",
      "“glm.fit: fitted rates numerically 0 occurred”Warning message:\n",
      "“glm.fit: fitted rates numerically 0 occurred”Warning message:\n",
      "“glm.fit: fitted rates numerically 0 occurred”Warning message:\n",
      "“glm.fit: fitted rates numerically 0 occurred”Warning message:\n",
      "“glm.fit: fitted rates numerically 0 occurred”Warning message:\n",
      "“glm.fit: fitted rates numerically 0 occurred”"
     ]
    },
    {
     "name": "stdout",
     "output_type": "stream",
     "text": [
      "."
     ]
    },
    {
     "name": "stderr",
     "output_type": "stream",
     "text": [
      "Warning message:\n",
      "“glm.fit: fitted rates numerically 0 occurred”Warning message:\n",
      "“glm.fit: fitted rates numerically 0 occurred”"
     ]
    },
    {
     "name": "stdout",
     "output_type": "stream",
     "text": [
      "."
     ]
    },
    {
     "name": "stderr",
     "output_type": "stream",
     "text": [
      "Warning message:\n",
      "“glm.fit: fitted rates numerically 0 occurred”Warning message:\n",
      "“glm.fit: fitted rates numerically 0 occurred”Warning message:\n",
      "“glm.fit: fitted rates numerically 0 occurred”Warning message:\n",
      "“glm.fit: fitted rates numerically 0 occurred”"
     ]
    },
    {
     "name": "stdout",
     "output_type": "stream",
     "text": [
      "."
     ]
    },
    {
     "name": "stderr",
     "output_type": "stream",
     "text": [
      "Warning message:\n",
      "“glm.fit: fitted rates numerically 0 occurred”Warning message:\n",
      "“glm.fit: fitted rates numerically 0 occurred”Warning message:\n",
      "“glm.fit: fitted rates numerically 0 occurred”Warning message:\n",
      "“glm.fit: fitted rates numerically 0 occurred”Warning message:\n",
      "“glm.fit: fitted rates numerically 0 occurred”Warning message:\n",
      "“glm.fit: fitted rates numerically 0 occurred”Warning message:\n",
      "“glm.fit: fitted rates numerically 0 occurred”Warning message:\n",
      "“glm.fit: fitted rates numerically 0 occurred”Warning message:\n",
      "“glm.fit: fitted rates numerically 0 occurred”Warning message:\n",
      "“glm.fit: fitted rates numerically 0 occurred”Warning message:\n",
      "“glm.fit: fitted rates numerically 0 occurred”Warning message:\n",
      "“glm.fit: fitted rates numerically 0 occurred”Warning message:\n",
      "“glm.fit: fitted rates numerically 0 occurred”"
     ]
    },
    {
     "name": "stdout",
     "output_type": "stream",
     "text": [
      ".."
     ]
    },
    {
     "name": "stderr",
     "output_type": "stream",
     "text": [
      "Warning message:\n",
      "“glm.fit: fitted rates numerically 0 occurred”Warning message:\n",
      "“glm.fit: fitted rates numerically 0 occurred”Warning message:\n",
      "“glm.fit: fitted rates numerically 0 occurred”Warning message:\n",
      "“glm.fit: fitted rates numerically 0 occurred”Warning message:\n",
      "“glm.fit: fitted rates numerically 0 occurred”Warning message:\n",
      "“glm.fit: fitted rates numerically 0 occurred”Warning message:\n",
      "“glm.fit: fitted rates numerically 0 occurred”Warning message:\n",
      "“glm.fit: fitted rates numerically 0 occurred”Warning message:\n",
      "“glm.fit: fitted rates numerically 0 occurred”Warning message:\n",
      "“glm.fit: fitted rates numerically 0 occurred”Warning message:\n",
      "“glm.fit: fitted rates numerically 0 occurred”Warning message:\n",
      "“glm.fit: fitted rates numerically 0 occurred”Warning message:\n",
      "“glm.fit: fitted rates numerically 0 occurred”Warning message:\n",
      "“glm.fit: fitted rates numerically 0 occurred”Warning message:\n",
      "“glm.fit: fitted rates numerically 0 occurred”Warning message:\n",
      "“glm.fit: fitted rates numerically 0 occurred”Warning message:\n",
      "“glm.fit: fitted rates numerically 0 occurred”Warning message:\n",
      "“glm.fit: fitted rates numerically 0 occurred”"
     ]
    },
    {
     "name": "stdout",
     "output_type": "stream",
     "text": [
      ".."
     ]
    },
    {
     "name": "stderr",
     "output_type": "stream",
     "text": [
      "Warning message:\n",
      "“glm.fit: fitted rates numerically 0 occurred”Warning message:\n",
      "“glm.fit: fitted rates numerically 0 occurred”Warning message:\n",
      "“glm.fit: fitted rates numerically 0 occurred”"
     ]
    },
    {
     "name": "stdout",
     "output_type": "stream",
     "text": [
      "."
     ]
    },
    {
     "name": "stderr",
     "output_type": "stream",
     "text": [
      "Warning message:\n",
      "“glm.fit: fitted rates numerically 0 occurred”Warning message:\n",
      "“glm.fit: fitted rates numerically 0 occurred”"
     ]
    },
    {
     "name": "stdout",
     "output_type": "stream",
     "text": [
      ".."
     ]
    },
    {
     "name": "stderr",
     "output_type": "stream",
     "text": [
      "Warning message:\n",
      "“glm.fit: fitted rates numerically 0 occurred”Warning message:\n",
      "“glm.fit: fitted rates numerically 0 occurred”"
     ]
    },
    {
     "name": "stdout",
     "output_type": "stream",
     "text": [
      "."
     ]
    },
    {
     "name": "stderr",
     "output_type": "stream",
     "text": [
      "Warning message:\n",
      "“glm.fit: fitted rates numerically 0 occurred”"
     ]
    },
    {
     "name": "stdout",
     "output_type": "stream",
     "text": [
      ".."
     ]
    },
    {
     "name": "stderr",
     "output_type": "stream",
     "text": [
      "Warning message:\n",
      "“glm.fit: fitted rates numerically 0 occurred”"
     ]
    },
    {
     "name": "stdout",
     "output_type": "stream",
     "text": [
      "."
     ]
    },
    {
     "name": "stderr",
     "output_type": "stream",
     "text": [
      "Warning message:\n",
      "“glm.fit: fitted rates numerically 0 occurred”Warning message:\n",
      "“glm.fit: fitted rates numerically 0 occurred”"
     ]
    },
    {
     "name": "stdout",
     "output_type": "stream",
     "text": [
      "."
     ]
    },
    {
     "name": "stderr",
     "output_type": "stream",
     "text": [
      "Warning message:\n",
      "“glm.fit: fitted rates numerically 0 occurred”Warning message:\n",
      "“glm.fit: fitted rates numerically 0 occurred”Warning message:\n",
      "“glm.fit: fitted rates numerically 0 occurred”Warning message:\n",
      "“glm.fit: fitted rates numerically 0 occurred”Warning message:\n",
      "“glm.fit: fitted rates numerically 0 occurred”Warning message:\n",
      "“glm.fit: fitted rates numerically 0 occurred”Warning message:\n",
      "“glm.fit: fitted rates numerically 0 occurred”"
     ]
    },
    {
     "name": "stdout",
     "output_type": "stream",
     "text": [
      ".."
     ]
    },
    {
     "name": "stderr",
     "output_type": "stream",
     "text": [
      "Warning message:\n",
      "“glm.fit: fitted rates numerically 0 occurred”Warning message:\n",
      "“glm.fit: fitted rates numerically 0 occurred”Warning message:\n",
      "“glm.fit: fitted rates numerically 0 occurred”Warning message:\n",
      "“glm.fit: fitted rates numerically 0 occurred”"
     ]
    },
    {
     "name": "stdout",
     "output_type": "stream",
     "text": [
      ".."
     ]
    },
    {
     "name": "stderr",
     "output_type": "stream",
     "text": [
      "Warning message:\n",
      "“glm.fit: fitted rates numerically 0 occurred”"
     ]
    },
    {
     "name": "stdout",
     "output_type": "stream",
     "text": [
      "...."
     ]
    },
    {
     "name": "stderr",
     "output_type": "stream",
     "text": [
      "Warning message:\n",
      "“glm.fit: fitted rates numerically 0 occurred”Warning message:\n",
      "“glm.fit: fitted rates numerically 0 occurred”Warning message:\n",
      "“glm.fit: fitted rates numerically 0 occurred”Warning message:\n",
      "“glm.fit: fitted rates numerically 0 occurred”Warning message:\n",
      "“glm.fit: fitted rates numerically 0 occurred”Warning message:\n",
      "“glm.fit: fitted rates numerically 0 occurred”Warning message:\n",
      "“glm.fit: fitted rates numerically 0 occurred”Warning message:\n",
      "“glm.fit: fitted rates numerically 0 occurred”Warning message:\n",
      "“glm.fit: fitted rates numerically 0 occurred”Warning message:\n",
      "“glm.fit: fitted rates numerically 0 occurred”Warning message:\n",
      "“glm.fit: fitted rates numerically 0 occurred”Warning message:\n",
      "“glm.fit: fitted rates numerically 0 occurred”Warning message:\n",
      "“glm.fit: fitted rates numerically 0 occurred”Warning message:\n",
      "“glm.fit: fitted rates numerically 0 occurred”"
     ]
    },
    {
     "name": "stdout",
     "output_type": "stream",
     "text": [
      ".."
     ]
    },
    {
     "name": "stderr",
     "output_type": "stream",
     "text": [
      "Warning message:\n",
      "“glm.fit: fitted rates numerically 0 occurred”Warning message:\n",
      "“glm.fit: fitted rates numerically 0 occurred”"
     ]
    },
    {
     "name": "stdout",
     "output_type": "stream",
     "text": [
      "."
     ]
    },
    {
     "name": "stderr",
     "output_type": "stream",
     "text": [
      "Warning message:\n",
      "“glm.fit: fitted rates numerically 0 occurred”Warning message:\n",
      "“glm.fit: fitted rates numerically 0 occurred”Warning message:\n",
      "“glm.fit: fitted rates numerically 0 occurred”Warning message:\n",
      "“glm.fit: fitted rates numerically 0 occurred”Warning message:\n",
      "“glm.fit: fitted rates numerically 0 occurred”Warning message:\n",
      "“glm.fit: fitted rates numerically 0 occurred”"
     ]
    },
    {
     "name": "stdout",
     "output_type": "stream",
     "text": [
      "."
     ]
    },
    {
     "name": "stderr",
     "output_type": "stream",
     "text": [
      "Warning message:\n",
      "“glm.fit: fitted rates numerically 0 occurred”Warning message:\n",
      "“glm.fit: fitted rates numerically 0 occurred”Warning message:\n",
      "“glm.fit: fitted rates numerically 0 occurred”"
     ]
    },
    {
     "name": "stdout",
     "output_type": "stream",
     "text": [
      "."
     ]
    },
    {
     "name": "stderr",
     "output_type": "stream",
     "text": [
      "Warning message:\n",
      "“glm.fit: fitted rates numerically 0 occurred”Warning message:\n",
      "“glm.fit: fitted rates numerically 0 occurred”Warning message:\n",
      "“glm.fit: fitted rates numerically 0 occurred”Warning message:\n",
      "“glm.fit: fitted rates numerically 0 occurred”Warning message:\n",
      "“glm.fit: fitted rates numerically 0 occurred”Warning message:\n",
      "“glm.fit: fitted rates numerically 0 occurred”Warning message:\n",
      "“glm.fit: fitted rates numerically 0 occurred”Warning message:\n",
      "“glm.fit: fitted rates numerically 0 occurred”Warning message:\n",
      "“glm.fit: fitted rates numerically 0 occurred”Warning message:\n",
      "“glm.fit: fitted rates numerically 0 occurred”Warning message:\n",
      "“glm.fit: fitted rates numerically 0 occurred”Warning message:\n",
      "“glm.fit: fitted rates numerically 0 occurred”"
     ]
    },
    {
     "name": "stdout",
     "output_type": "stream",
     "text": [
      ".."
     ]
    },
    {
     "name": "stderr",
     "output_type": "stream",
     "text": [
      "Warning message:\n",
      "“glm.fit: fitted rates numerically 0 occurred”Warning message:\n",
      "“glm.fit: fitted rates numerically 0 occurred”"
     ]
    },
    {
     "name": "stdout",
     "output_type": "stream",
     "text": [
      "."
     ]
    },
    {
     "name": "stderr",
     "output_type": "stream",
     "text": [
      "Warning message:\n",
      "“glm.fit: fitted rates numerically 0 occurred”Warning message:\n",
      "“glm.fit: fitted rates numerically 0 occurred”Warning message:\n",
      "“glm.fit: fitted rates numerically 0 occurred”Warning message:\n",
      "“glm.fit: fitted rates numerically 0 occurred”Warning message:\n",
      "“glm.fit: fitted rates numerically 0 occurred”Warning message:\n",
      "“glm.fit: fitted rates numerically 0 occurred”Warning message:\n",
      "“glm.fit: fitted rates numerically 0 occurred”"
     ]
    },
    {
     "name": "stdout",
     "output_type": "stream",
     "text": [
      ".."
     ]
    },
    {
     "name": "stderr",
     "output_type": "stream",
     "text": [
      "Warning message:\n",
      "“glm.fit: fitted rates numerically 0 occurred”Warning message:\n",
      "“glm.fit: fitted rates numerically 0 occurred”Warning message:\n",
      "“glm.fit: fitted rates numerically 0 occurred”"
     ]
    },
    {
     "name": "stdout",
     "output_type": "stream",
     "text": [
      "."
     ]
    },
    {
     "name": "stderr",
     "output_type": "stream",
     "text": [
      "Warning message:\n",
      "“glm.fit: fitted rates numerically 0 occurred”Warning message:\n",
      "“glm.fit: fitted rates numerically 0 occurred”Warning message:\n",
      "“glm.fit: fitted rates numerically 0 occurred”Warning message:\n",
      "“glm.fit: fitted rates numerically 0 occurred”Warning message:\n",
      "“glm.fit: fitted rates numerically 0 occurred”Warning message:\n",
      "“glm.fit: fitted rates numerically 0 occurred”"
     ]
    },
    {
     "name": "stdout",
     "output_type": "stream",
     "text": [
      "."
     ]
    },
    {
     "name": "stderr",
     "output_type": "stream",
     "text": [
      "Warning message:\n",
      "“glm.fit: fitted rates numerically 0 occurred”Warning message:\n",
      "“glm.fit: fitted rates numerically 0 occurred”Warning message:\n",
      "“glm.fit: fitted rates numerically 0 occurred”Warning message:\n",
      "“glm.fit: algorithm did not converge”Warning message:\n",
      "“glm.fit: fitted rates numerically 0 occurred”Warning message:\n",
      "“glm.fit: fitted rates numerically 0 occurred”Warning message:\n",
      "“glm.fit: fitted rates numerically 0 occurred”Warning message:\n",
      "“glm.fit: fitted rates numerically 0 occurred”Warning message:\n",
      "“glm.fit: fitted rates numerically 0 occurred”"
     ]
    },
    {
     "name": "stdout",
     "output_type": "stream",
     "text": [
      ".."
     ]
    },
    {
     "name": "stderr",
     "output_type": "stream",
     "text": [
      "Warning message:\n",
      "“glm.fit: fitted rates numerically 0 occurred”Warning message:\n",
      "“glm.fit: fitted rates numerically 0 occurred”Warning message:\n",
      "“glm.fit: fitted rates numerically 0 occurred”Warning message:\n",
      "“glm.fit: fitted rates numerically 0 occurred”Warning message:\n",
      "“glm.fit: fitted rates numerically 0 occurred”"
     ]
    },
    {
     "name": "stdout",
     "output_type": "stream",
     "text": [
      "..."
     ]
    },
    {
     "name": "stderr",
     "output_type": "stream",
     "text": [
      "Warning message:\n",
      "“glm.fit: fitted rates numerically 0 occurred”Warning message:\n",
      "“glm.fit: fitted rates numerically 0 occurred”"
     ]
    },
    {
     "name": "stdout",
     "output_type": "stream",
     "text": [
      "."
     ]
    },
    {
     "name": "stderr",
     "output_type": "stream",
     "text": [
      "Warning message:\n",
      "“glm.fit: fitted rates numerically 0 occurred”Warning message:\n",
      "“glm.fit: fitted rates numerically 0 occurred”Warning message:\n",
      "“glm.fit: fitted rates numerically 0 occurred”Warning message:\n",
      "“glm.fit: fitted rates numerically 0 occurred”"
     ]
    },
    {
     "name": "stdout",
     "output_type": "stream",
     "text": [
      "."
     ]
    },
    {
     "name": "stderr",
     "output_type": "stream",
     "text": [
      "Warning message:\n",
      "“glm.fit: fitted rates numerically 0 occurred”"
     ]
    },
    {
     "name": "stdout",
     "output_type": "stream",
     "text": [
      ".."
     ]
    },
    {
     "name": "stderr",
     "output_type": "stream",
     "text": [
      "Warning message:\n",
      "“glm.fit: fitted rates numerically 0 occurred”"
     ]
    },
    {
     "name": "stdout",
     "output_type": "stream",
     "text": [
      ".."
     ]
    },
    {
     "name": "stderr",
     "output_type": "stream",
     "text": [
      "Warning message:\n",
      "“glm.fit: fitted rates numerically 0 occurred”Warning message:\n",
      "“glm.fit: fitted rates numerically 0 occurred”Warning message:\n",
      "“glm.fit: fitted rates numerically 0 occurred”"
     ]
    },
    {
     "name": "stdout",
     "output_type": "stream",
     "text": [
      "."
     ]
    },
    {
     "name": "stderr",
     "output_type": "stream",
     "text": [
      "Warning message:\n",
      "“glm.fit: fitted rates numerically 0 occurred”Warning message:\n",
      "“glm.fit: fitted rates numerically 0 occurred”"
     ]
    },
    {
     "name": "stdout",
     "output_type": "stream",
     "text": [
      "."
     ]
    },
    {
     "name": "stderr",
     "output_type": "stream",
     "text": [
      "Warning message:\n",
      "“glm.fit: fitted rates numerically 0 occurred”Warning message:\n",
      "“glm.fit: fitted rates numerically 0 occurred”Warning message:\n",
      "“glm.fit: fitted rates numerically 0 occurred”Warning message:\n",
      "“glm.fit: fitted rates numerically 0 occurred”Warning message:\n",
      "“glm.fit: fitted rates numerically 0 occurred”Warning message:\n",
      "“glm.fit: fitted rates numerically 0 occurred”"
     ]
    },
    {
     "name": "stdout",
     "output_type": "stream",
     "text": [
      "."
     ]
    },
    {
     "name": "stderr",
     "output_type": "stream",
     "text": [
      "Warning message:\n",
      "“glm.fit: fitted rates numerically 0 occurred”Warning message:\n",
      "“glm.fit: fitted rates numerically 0 occurred”Warning message:\n",
      "“glm.fit: fitted rates numerically 0 occurred”Warning message:\n",
      "“glm.fit: fitted rates numerically 0 occurred”"
     ]
    },
    {
     "name": "stdout",
     "output_type": "stream",
     "text": [
      "."
     ]
    },
    {
     "name": "stderr",
     "output_type": "stream",
     "text": [
      "Warning message:\n",
      "“glm.fit: fitted rates numerically 0 occurred”"
     ]
    },
    {
     "name": "stdout",
     "output_type": "stream",
     "text": [
      "."
     ]
    },
    {
     "name": "stderr",
     "output_type": "stream",
     "text": [
      "Warning message:\n",
      "“glm.fit: fitted rates numerically 0 occurred”"
     ]
    },
    {
     "name": "stdout",
     "output_type": "stream",
     "text": [
      ".."
     ]
    },
    {
     "name": "stderr",
     "output_type": "stream",
     "text": [
      "Warning message:\n",
      "“glm.fit: fitted rates numerically 0 occurred”Warning message:\n",
      "“glm.fit: fitted rates numerically 0 occurred”"
     ]
    },
    {
     "name": "stdout",
     "output_type": "stream",
     "text": [
      "."
     ]
    },
    {
     "name": "stderr",
     "output_type": "stream",
     "text": [
      "Warning message:\n",
      "“glm.fit: fitted rates numerically 0 occurred”Warning message:\n",
      "“glm.fit: fitted rates numerically 0 occurred”"
     ]
    },
    {
     "name": "stdout",
     "output_type": "stream",
     "text": [
      "."
     ]
    },
    {
     "name": "stderr",
     "output_type": "stream",
     "text": [
      "Warning message:\n",
      "“glm.fit: fitted rates numerically 0 occurred”Warning message:\n",
      "“glm.fit: fitted rates numerically 0 occurred”Warning message:\n",
      "“glm.fit: fitted rates numerically 0 occurred”Warning message:\n",
      "“glm.fit: fitted rates numerically 0 occurred”Warning message:\n",
      "“glm.fit: fitted rates numerically 0 occurred”"
     ]
    },
    {
     "name": "stdout",
     "output_type": "stream",
     "text": [
      ".."
     ]
    },
    {
     "name": "stderr",
     "output_type": "stream",
     "text": [
      "Warning message:\n",
      "“glm.fit: fitted rates numerically 0 occurred”Warning message:\n",
      "“glm.fit: fitted rates numerically 0 occurred”"
     ]
    },
    {
     "name": "stdout",
     "output_type": "stream",
     "text": [
      ".."
     ]
    },
    {
     "name": "stderr",
     "output_type": "stream",
     "text": [
      "Warning message:\n",
      "“glm.fit: fitted rates numerically 0 occurred”Warning message:\n",
      "“glm.fit: fitted rates numerically 0 occurred”Warning message:\n",
      "“glm.fit: fitted rates numerically 0 occurred”Warning message:\n",
      "“glm.fit: fitted rates numerically 0 occurred”Warning message:\n",
      "“glm.fit: fitted rates numerically 0 occurred”Warning message:\n",
      "“glm.fit: fitted rates numerically 0 occurred”Warning message:\n",
      "“glm.fit: fitted rates numerically 0 occurred”Warning message:\n",
      "“glm.fit: fitted rates numerically 0 occurred”Warning message:\n",
      "“glm.fit: fitted rates numerically 0 occurred”Warning message:\n",
      "“glm.fit: fitted rates numerically 0 occurred”Warning message:\n",
      "“glm.fit: fitted rates numerically 0 occurred”Warning message:\n",
      "“glm.fit: fitted rates numerically 0 occurred”Warning message:\n",
      "“glm.fit: fitted rates numerically 0 occurred”Warning message:\n",
      "“glm.fit: fitted rates numerically 0 occurred”Warning message:\n",
      "“glm.fit: fitted rates numerically 0 occurred”Warning message:\n",
      "“glm.fit: fitted rates numerically 0 occurred”Warning message:\n",
      "“glm.fit: fitted rates numerically 0 occurred”Warning message:\n",
      "“glm.fit: fitted rates numerically 0 occurred”Warning message:\n",
      "“glm.fit: fitted rates numerically 0 occurred”Warning message:\n",
      "“glm.fit: fitted rates numerically 0 occurred”Warning message:\n",
      "“glm.fit: fitted rates numerically 0 occurred”Warning message:\n",
      "“glm.fit: fitted rates numerically 0 occurred”Warning message:\n",
      "“glm.fit: fitted rates numerically 0 occurred”Warning message:\n",
      "“glm.fit: fitted rates numerically 0 occurred”"
     ]
    },
    {
     "name": "stdout",
     "output_type": "stream",
     "text": [
      ".."
     ]
    },
    {
     "name": "stderr",
     "output_type": "stream",
     "text": [
      "Warning message:\n",
      "“glm.fit: fitted rates numerically 0 occurred”Warning message:\n",
      "“glm.fit: fitted rates numerically 0 occurred”Warning message:\n",
      "“glm.fit: fitted rates numerically 0 occurred”Warning message:\n",
      "“glm.fit: fitted rates numerically 0 occurred”"
     ]
    },
    {
     "name": "stdout",
     "output_type": "stream",
     "text": [
      "."
     ]
    },
    {
     "name": "stderr",
     "output_type": "stream",
     "text": [
      "Warning message:\n",
      "“glm.fit: fitted rates numerically 0 occurred”Warning message:\n",
      "“glm.fit: fitted rates numerically 0 occurred”Warning message:\n",
      "“glm.fit: fitted rates numerically 0 occurred”Warning message:\n",
      "“glm.fit: fitted rates numerically 0 occurred”"
     ]
    },
    {
     "name": "stdout",
     "output_type": "stream",
     "text": [
      "."
     ]
    },
    {
     "name": "stderr",
     "output_type": "stream",
     "text": [
      "Warning message:\n",
      "“glm.fit: fitted rates numerically 0 occurred”"
     ]
    },
    {
     "name": "stdout",
     "output_type": "stream",
     "text": [
      "."
     ]
    },
    {
     "name": "stderr",
     "output_type": "stream",
     "text": [
      "Warning message:\n",
      "“glm.fit: fitted rates numerically 0 occurred”Warning message:\n",
      "“glm.fit: fitted rates numerically 0 occurred”Warning message:\n",
      "“glm.fit: fitted rates numerically 0 occurred”"
     ]
    },
    {
     "name": "stdout",
     "output_type": "stream",
     "text": [
      ".."
     ]
    },
    {
     "name": "stderr",
     "output_type": "stream",
     "text": [
      "Warning message:\n",
      "“glm.fit: fitted rates numerically 0 occurred”Warning message:\n",
      "“glm.fit: fitted rates numerically 0 occurred”"
     ]
    },
    {
     "name": "stdout",
     "output_type": "stream",
     "text": [
      ".."
     ]
    },
    {
     "name": "stderr",
     "output_type": "stream",
     "text": [
      "Warning message:\n",
      "“glm.fit: fitted rates numerically 0 occurred”Warning message:\n",
      "“glm.fit: fitted rates numerically 0 occurred”Warning message:\n",
      "“glm.fit: fitted rates numerically 0 occurred”Warning message:\n",
      "“glm.fit: fitted rates numerically 0 occurred”"
     ]
    },
    {
     "name": "stdout",
     "output_type": "stream",
     "text": [
      ".."
     ]
    },
    {
     "name": "stderr",
     "output_type": "stream",
     "text": [
      "Warning message:\n",
      "“glm.fit: fitted rates numerically 0 occurred”Warning message:\n",
      "“glm.fit: fitted rates numerically 0 occurred”"
     ]
    },
    {
     "name": "stdout",
     "output_type": "stream",
     "text": [
      "."
     ]
    },
    {
     "name": "stderr",
     "output_type": "stream",
     "text": [
      "Warning message:\n",
      "“glm.fit: fitted rates numerically 0 occurred”Warning message:\n",
      "“glm.fit: fitted rates numerically 0 occurred”"
     ]
    },
    {
     "name": "stdout",
     "output_type": "stream",
     "text": [
      ".."
     ]
    },
    {
     "name": "stderr",
     "output_type": "stream",
     "text": [
      "Warning message:\n",
      "“glm.fit: fitted rates numerically 0 occurred”Warning message:\n",
      "“glm.fit: fitted rates numerically 0 occurred”Warning message:\n",
      "“glm.fit: fitted rates numerically 0 occurred”Warning message:\n",
      "“glm.fit: fitted rates numerically 0 occurred”Warning message:\n",
      "“glm.fit: fitted rates numerically 0 occurred”Warning message:\n",
      "“glm.fit: fitted rates numerically 0 occurred”Warning message:\n",
      "“glm.fit: fitted rates numerically 0 occurred”"
     ]
    },
    {
     "name": "stdout",
     "output_type": "stream",
     "text": [
      "."
     ]
    },
    {
     "name": "stderr",
     "output_type": "stream",
     "text": [
      "Warning message:\n",
      "“glm.fit: fitted rates numerically 0 occurred”Warning message:\n",
      "“glm.fit: fitted rates numerically 0 occurred”"
     ]
    },
    {
     "name": "stdout",
     "output_type": "stream",
     "text": [
      "."
     ]
    },
    {
     "name": "stderr",
     "output_type": "stream",
     "text": [
      "Warning message:\n",
      "“glm.fit: fitted rates numerically 0 occurred”Warning message:\n",
      "“glm.fit: fitted rates numerically 0 occurred”Warning message:\n",
      "“glm.fit: fitted rates numerically 0 occurred”Warning message:\n",
      "“glm.fit: fitted rates numerically 0 occurred”Warning message:\n",
      "“glm.fit: fitted rates numerically 0 occurred”"
     ]
    },
    {
     "name": "stdout",
     "output_type": "stream",
     "text": [
      "."
     ]
    },
    {
     "name": "stderr",
     "output_type": "stream",
     "text": [
      "Warning message:\n",
      "“glm.fit: fitted rates numerically 0 occurred”Warning message:\n",
      "“glm.fit: fitted rates numerically 0 occurred”"
     ]
    },
    {
     "name": "stdout",
     "output_type": "stream",
     "text": [
      "."
     ]
    },
    {
     "name": "stderr",
     "output_type": "stream",
     "text": [
      "Warning message:\n",
      "“glm.fit: fitted rates numerically 0 occurred”Warning message:\n",
      "“glm.fit: fitted rates numerically 0 occurred”"
     ]
    },
    {
     "name": "stdout",
     "output_type": "stream",
     "text": [
      ".."
     ]
    },
    {
     "name": "stderr",
     "output_type": "stream",
     "text": [
      "Warning message:\n",
      "“glm.fit: fitted rates numerically 0 occurred”Warning message:\n",
      "“glm.fit: fitted rates numerically 0 occurred”Warning message:\n",
      "“glm.fit: fitted rates numerically 0 occurred”Warning message:\n",
      "“glm.fit: fitted rates numerically 0 occurred”Warning message:\n",
      "“glm.fit: fitted rates numerically 0 occurred”Warning message:\n",
      "“glm.fit: fitted rates numerically 0 occurred”"
     ]
    },
    {
     "name": "stdout",
     "output_type": "stream",
     "text": [
      ".."
     ]
    },
    {
     "name": "stderr",
     "output_type": "stream",
     "text": [
      "Warning message:\n",
      "“glm.fit: fitted rates numerically 0 occurred”"
     ]
    },
    {
     "name": "stdout",
     "output_type": "stream",
     "text": [
      "."
     ]
    },
    {
     "name": "stderr",
     "output_type": "stream",
     "text": [
      "Warning message:\n",
      "“glm.fit: fitted rates numerically 0 occurred”Warning message:\n",
      "“glm.fit: fitted rates numerically 0 occurred”Warning message:\n",
      "“glm.fit: fitted rates numerically 0 occurred”Warning message:\n",
      "“glm.fit: fitted rates numerically 0 occurred”Warning message:\n",
      "“glm.fit: fitted rates numerically 0 occurred”Warning message:\n",
      "“glm.fit: fitted rates numerically 0 occurred”Warning message:\n",
      "“glm.fit: fitted rates numerically 0 occurred”Warning message:\n",
      "“glm.fit: fitted rates numerically 0 occurred”"
     ]
    },
    {
     "name": "stdout",
     "output_type": "stream",
     "text": [
      "..."
     ]
    },
    {
     "name": "stderr",
     "output_type": "stream",
     "text": [
      "Warning message:\n",
      "“glm.fit: fitted rates numerically 0 occurred”Warning message:\n",
      "“glm.fit: fitted rates numerically 0 occurred”Warning message:\n",
      "“glm.fit: fitted rates numerically 0 occurred”Warning message:\n",
      "“glm.fit: fitted rates numerically 0 occurred”Warning message:\n",
      "“glm.fit: fitted rates numerically 0 occurred”Warning message:\n",
      "“glm.fit: fitted rates numerically 0 occurred”"
     ]
    },
    {
     "name": "stdout",
     "output_type": "stream",
     "text": [
      "."
     ]
    },
    {
     "name": "stderr",
     "output_type": "stream",
     "text": [
      "Warning message:\n",
      "“glm.fit: fitted rates numerically 0 occurred”Warning message:\n",
      "“glm.fit: fitted rates numerically 0 occurred”Warning message:\n",
      "“glm.fit: fitted rates numerically 0 occurred”Warning message:\n",
      "“glm.fit: fitted rates numerically 0 occurred”Warning message:\n",
      "“glm.fit: fitted rates numerically 0 occurred”Warning message:\n",
      "“glm.fit: fitted rates numerically 0 occurred”Warning message:\n",
      "“glm.fit: fitted rates numerically 0 occurred”Warning message:\n",
      "“glm.fit: fitted rates numerically 0 occurred”Warning message:\n",
      "“glm.fit: fitted rates numerically 0 occurred”Warning message:\n",
      "“glm.fit: fitted rates numerically 0 occurred”"
     ]
    },
    {
     "name": "stdout",
     "output_type": "stream",
     "text": [
      ".."
     ]
    },
    {
     "name": "stderr",
     "output_type": "stream",
     "text": [
      "Warning message:\n",
      "“glm.fit: fitted rates numerically 0 occurred”"
     ]
    },
    {
     "name": "stdout",
     "output_type": "stream",
     "text": [
      "."
     ]
    },
    {
     "name": "stderr",
     "output_type": "stream",
     "text": [
      "Warning message:\n",
      "“glm.fit: fitted rates numerically 0 occurred”Warning message:\n",
      "“glm.fit: fitted rates numerically 0 occurred”Warning message:\n",
      "“glm.fit: fitted rates numerically 0 occurred”Warning message:\n",
      "“glm.fit: fitted rates numerically 0 occurred”Warning message:\n",
      "“glm.fit: fitted rates numerically 0 occurred”Warning message:\n",
      "“glm.fit: fitted rates numerically 0 occurred”Warning message:\n",
      "“glm.fit: fitted rates numerically 0 occurred”Warning message:\n",
      "“glm.fit: fitted rates numerically 0 occurred”Warning message:\n",
      "“glm.fit: fitted rates numerically 0 occurred”Warning message:\n",
      "“glm.fit: fitted rates numerically 0 occurred”Warning message:\n",
      "“glm.fit: fitted rates numerically 0 occurred”Warning message:\n",
      "“glm.fit: fitted rates numerically 0 occurred”Warning message:\n",
      "“glm.fit: fitted rates numerically 0 occurred”Warning message:\n",
      "“glm.fit: fitted rates numerically 0 occurred”"
     ]
    },
    {
     "name": "stdout",
     "output_type": "stream",
     "text": [
      "."
     ]
    },
    {
     "name": "stderr",
     "output_type": "stream",
     "text": [
      "Warning message:\n",
      "“glm.fit: fitted rates numerically 0 occurred”Warning message:\n",
      "“glm.fit: fitted rates numerically 0 occurred”"
     ]
    },
    {
     "name": "stdout",
     "output_type": "stream",
     "text": [
      "."
     ]
    },
    {
     "name": "stderr",
     "output_type": "stream",
     "text": [
      "Warning message:\n",
      "“glm.fit: fitted rates numerically 0 occurred”Warning message:\n",
      "“glm.fit: fitted rates numerically 0 occurred”Warning message:\n",
      "“glm.fit: fitted rates numerically 0 occurred”Warning message:\n",
      "“glm.fit: fitted rates numerically 0 occurred”"
     ]
    },
    {
     "name": "stdout",
     "output_type": "stream",
     "text": [
      "."
     ]
    },
    {
     "name": "stderr",
     "output_type": "stream",
     "text": [
      "Warning message:\n",
      "“glm.fit: fitted rates numerically 0 occurred”Warning message:\n",
      "“glm.fit: fitted rates numerically 0 occurred”Warning message:\n",
      "“glm.fit: fitted rates numerically 0 occurred”"
     ]
    },
    {
     "name": "stdout",
     "output_type": "stream",
     "text": [
      "."
     ]
    },
    {
     "name": "stderr",
     "output_type": "stream",
     "text": [
      "Warning message:\n",
      "“glm.fit: fitted rates numerically 0 occurred”Warning message:\n",
      "“glm.fit: fitted rates numerically 0 occurred”Warning message:\n",
      "“glm.fit: fitted rates numerically 0 occurred”Warning message:\n",
      "“glm.fit: fitted rates numerically 0 occurred”Warning message:\n",
      "“glm.fit: fitted rates numerically 0 occurred”Warning message:\n",
      "“glm.fit: fitted rates numerically 0 occurred”Warning message:\n",
      "“glm.fit: fitted rates numerically 0 occurred”Warning message:\n",
      "“glm.fit: fitted rates numerically 0 occurred”Warning message:\n",
      "“glm.fit: fitted rates numerically 0 occurred”"
     ]
    },
    {
     "name": "stdout",
     "output_type": "stream",
     "text": [
      "."
     ]
    },
    {
     "name": "stderr",
     "output_type": "stream",
     "text": [
      "Warning message:\n",
      "“glm.fit: fitted rates numerically 0 occurred”Warning message:\n",
      "“glm.fit: fitted rates numerically 0 occurred”Warning message:\n",
      "“glm.fit: fitted rates numerically 0 occurred”Warning message:\n",
      "“glm.fit: fitted rates numerically 0 occurred”Warning message:\n",
      "“glm.fit: fitted rates numerically 0 occurred”Warning message:\n",
      "“glm.fit: fitted rates numerically 0 occurred”Warning message:\n",
      "“glm.fit: fitted rates numerically 0 occurred”Warning message:\n",
      "“glm.fit: fitted rates numerically 0 occurred”Warning message:\n",
      "“glm.fit: fitted rates numerically 0 occurred”Warning message:\n",
      "“glm.fit: fitted rates numerically 0 occurred”Warning message:\n",
      "“glm.fit: fitted rates numerically 0 occurred”Warning message:\n",
      "“glm.fit: fitted rates numerically 0 occurred”"
     ]
    },
    {
     "name": "stdout",
     "output_type": "stream",
     "text": [
      "."
     ]
    },
    {
     "name": "stderr",
     "output_type": "stream",
     "text": [
      "Warning message:\n",
      "“glm.fit: fitted rates numerically 0 occurred”Warning message:\n",
      "“glm.fit: fitted rates numerically 0 occurred”Warning message:\n",
      "“glm.fit: fitted rates numerically 0 occurred”Warning message:\n",
      "“glm.fit: fitted rates numerically 0 occurred”Warning message:\n",
      "“glm.fit: fitted rates numerically 0 occurred”"
     ]
    },
    {
     "name": "stdout",
     "output_type": "stream",
     "text": [
      "..."
     ]
    },
    {
     "name": "stderr",
     "output_type": "stream",
     "text": [
      "Warning message:\n",
      "“glm.fit: fitted rates numerically 0 occurred”Warning message:\n",
      "“glm.fit: fitted rates numerically 0 occurred”Warning message:\n",
      "“glm.fit: fitted rates numerically 0 occurred”Warning message:\n",
      "“glm.fit: fitted rates numerically 0 occurred”Warning message:\n",
      "“glm.fit: fitted rates numerically 0 occurred”Warning message:\n",
      "“glm.fit: fitted rates numerically 0 occurred”Warning message:\n",
      "“glm.fit: fitted rates numerically 0 occurred”"
     ]
    },
    {
     "name": "stdout",
     "output_type": "stream",
     "text": [
      "......"
     ]
    },
    {
     "name": "stderr",
     "output_type": "stream",
     "text": [
      "Warning message:\n",
      "“glm.fit: fitted rates numerically 0 occurred”Warning message:\n",
      "“glm.fit: fitted rates numerically 0 occurred”Warning message:\n",
      "“glm.fit: fitted rates numerically 0 occurred”Warning message:\n",
      "“glm.fit: fitted rates numerically 0 occurred”Warning message:\n",
      "“glm.fit: fitted rates numerically 0 occurred”Warning message:\n",
      "“glm.fit: fitted rates numerically 0 occurred”Warning message:\n",
      "“glm.fit: fitted rates numerically 0 occurred”Warning message:\n",
      "“glm.fit: fitted rates numerically 0 occurred”Warning message:\n",
      "“glm.fit: fitted rates numerically 0 occurred”Warning message:\n",
      "“glm.fit: fitted rates numerically 0 occurred”Warning message:\n",
      "“glm.fit: fitted rates numerically 0 occurred”Warning message:\n",
      "“glm.fit: fitted rates numerically 0 occurred”Warning message:\n",
      "“glm.fit: fitted rates numerically 0 occurred”Warning message:\n",
      "“glm.fit: fitted rates numerically 0 occurred”"
     ]
    },
    {
     "name": "stdout",
     "output_type": "stream",
     "text": [
      "..."
     ]
    },
    {
     "name": "stderr",
     "output_type": "stream",
     "text": [
      "Warning message:\n",
      "“glm.fit: fitted rates numerically 0 occurred”Warning message:\n",
      "“glm.fit: fitted rates numerically 0 occurred”"
     ]
    },
    {
     "name": "stdout",
     "output_type": "stream",
     "text": [
      "."
     ]
    },
    {
     "name": "stderr",
     "output_type": "stream",
     "text": [
      "Warning message:\n",
      "“glm.fit: fitted rates numerically 0 occurred”Warning message:\n",
      "“glm.fit: fitted rates numerically 0 occurred”Warning message:\n",
      "“glm.fit: fitted rates numerically 0 occurred”Warning message:\n",
      "“glm.fit: fitted rates numerically 0 occurred”Warning message:\n",
      "“glm.fit: fitted rates numerically 0 occurred”Warning message:\n",
      "“glm.fit: fitted rates numerically 0 occurred”Warning message:\n",
      "“glm.fit: fitted rates numerically 0 occurred”Warning message:\n",
      "“glm.fit: fitted rates numerically 0 occurred”"
     ]
    },
    {
     "name": "stdout",
     "output_type": "stream",
     "text": [
      "."
     ]
    },
    {
     "name": "stderr",
     "output_type": "stream",
     "text": [
      "Warning message:\n",
      "“glm.fit: fitted rates numerically 0 occurred”Warning message:\n",
      "“glm.fit: fitted rates numerically 0 occurred”Warning message:\n",
      "“glm.fit: fitted rates numerically 0 occurred”Warning message:\n",
      "“glm.fit: fitted rates numerically 0 occurred”Warning message:\n",
      "“glm.fit: fitted rates numerically 0 occurred”Warning message:\n",
      "“glm.fit: fitted rates numerically 0 occurred”Warning message:\n",
      "“glm.fit: fitted rates numerically 0 occurred”Warning message:\n",
      "“glm.fit: fitted rates numerically 0 occurred”"
     ]
    },
    {
     "name": "stdout",
     "output_type": "stream",
     "text": [
      "."
     ]
    },
    {
     "name": "stderr",
     "output_type": "stream",
     "text": [
      "Warning message:\n",
      "“glm.fit: fitted rates numerically 0 occurred”Warning message:\n",
      "“glm.fit: fitted rates numerically 0 occurred”Warning message:\n",
      "“glm.fit: fitted rates numerically 0 occurred”Warning message:\n",
      "“glm.fit: fitted rates numerically 0 occurred”"
     ]
    },
    {
     "name": "stdout",
     "output_type": "stream",
     "text": [
      ".."
     ]
    },
    {
     "name": "stderr",
     "output_type": "stream",
     "text": [
      "Warning message:\n",
      "“glm.fit: fitted rates numerically 0 occurred”Warning message:\n",
      "“glm.fit: fitted rates numerically 0 occurred”"
     ]
    },
    {
     "name": "stdout",
     "output_type": "stream",
     "text": [
      "..."
     ]
    },
    {
     "name": "stderr",
     "output_type": "stream",
     "text": [
      "Warning message:\n",
      "“glm.fit: fitted rates numerically 0 occurred”Warning message:\n",
      "“glm.fit: fitted rates numerically 0 occurred”"
     ]
    },
    {
     "name": "stdout",
     "output_type": "stream",
     "text": [
      "."
     ]
    },
    {
     "name": "stderr",
     "output_type": "stream",
     "text": [
      "Warning message:\n",
      "“glm.fit: fitted rates numerically 0 occurred”Warning message:\n",
      "“glm.fit: fitted rates numerically 0 occurred”Warning message:\n",
      "“glm.fit: fitted rates numerically 0 occurred”Warning message:\n",
      "“glm.fit: fitted rates numerically 0 occurred”Warning message:\n",
      "“glm.fit: fitted rates numerically 0 occurred”"
     ]
    },
    {
     "name": "stdout",
     "output_type": "stream",
     "text": [
      ".."
     ]
    },
    {
     "name": "stderr",
     "output_type": "stream",
     "text": [
      "Warning message:\n",
      "“glm.fit: fitted rates numerically 0 occurred”Warning message:\n",
      "“glm.fit: fitted rates numerically 0 occurred”Warning message:\n",
      "“glm.fit: fitted rates numerically 0 occurred”Warning message:\n",
      "“glm.fit: fitted rates numerically 0 occurred”"
     ]
    },
    {
     "name": "stdout",
     "output_type": "stream",
     "text": [
      ".."
     ]
    },
    {
     "name": "stderr",
     "output_type": "stream",
     "text": [
      "Warning message:\n",
      "“glm.fit: fitted rates numerically 0 occurred”Warning message:\n",
      "“glm.fit: fitted rates numerically 0 occurred”Warning message:\n",
      "“glm.fit: fitted rates numerically 0 occurred”Warning message:\n",
      "“glm.fit: fitted rates numerically 0 occurred”Warning message:\n",
      "“glm.fit: fitted rates numerically 0 occurred”Warning message:\n",
      "“glm.fit: fitted rates numerically 0 occurred”Warning message:\n",
      "“glm.fit: fitted rates numerically 0 occurred”Warning message:\n",
      "“glm.fit: fitted rates numerically 0 occurred”Warning message:\n",
      "“glm.fit: fitted rates numerically 0 occurred”Warning message:\n",
      "“glm.fit: fitted rates numerically 0 occurred”Warning message:\n",
      "“glm.fit: fitted rates numerically 0 occurred”Warning message:\n",
      "“glm.fit: fitted rates numerically 0 occurred”Warning message:\n",
      "“glm.fit: fitted rates numerically 0 occurred”"
     ]
    },
    {
     "name": "stdout",
     "output_type": "stream",
     "text": [
      "."
     ]
    },
    {
     "name": "stderr",
     "output_type": "stream",
     "text": [
      "Warning message:\n",
      "“glm.fit: fitted rates numerically 0 occurred”Warning message:\n",
      "“glm.fit: fitted rates numerically 0 occurred”"
     ]
    },
    {
     "name": "stdout",
     "output_type": "stream",
     "text": [
      "."
     ]
    },
    {
     "name": "stderr",
     "output_type": "stream",
     "text": [
      "Warning message:\n",
      "“glm.fit: fitted rates numerically 0 occurred”"
     ]
    },
    {
     "name": "stdout",
     "output_type": "stream",
     "text": [
      "."
     ]
    },
    {
     "name": "stderr",
     "output_type": "stream",
     "text": [
      "Warning message:\n",
      "“glm.fit: fitted rates numerically 0 occurred”Warning message:\n",
      "“glm.fit: fitted rates numerically 0 occurred”Warning message:\n",
      "“glm.fit: fitted rates numerically 0 occurred”"
     ]
    },
    {
     "name": "stdout",
     "output_type": "stream",
     "text": [
      "."
     ]
    },
    {
     "name": "stderr",
     "output_type": "stream",
     "text": [
      "Warning message:\n",
      "“glm.fit: fitted rates numerically 0 occurred”Warning message:\n",
      "“glm.fit: fitted rates numerically 0 occurred”"
     ]
    },
    {
     "name": "stdout",
     "output_type": "stream",
     "text": [
      "."
     ]
    },
    {
     "name": "stderr",
     "output_type": "stream",
     "text": [
      "Warning message:\n",
      "“glm.fit: fitted rates numerically 0 occurred”Warning message:\n",
      "“glm.fit: fitted rates numerically 0 occurred”"
     ]
    },
    {
     "name": "stdout",
     "output_type": "stream",
     "text": [
      ".."
     ]
    },
    {
     "name": "stderr",
     "output_type": "stream",
     "text": [
      "Warning message:\n",
      "“glm.fit: fitted rates numerically 0 occurred”Warning message:\n",
      "“glm.fit: fitted rates numerically 0 occurred”"
     ]
    },
    {
     "name": "stdout",
     "output_type": "stream",
     "text": [
      "."
     ]
    },
    {
     "name": "stderr",
     "output_type": "stream",
     "text": [
      "Warning message:\n",
      "“glm.fit: fitted rates numerically 0 occurred”Warning message:\n",
      "“glm.fit: fitted rates numerically 0 occurred”Warning message:\n",
      "“glm.fit: fitted rates numerically 0 occurred”Warning message:\n",
      "“glm.fit: fitted rates numerically 0 occurred”"
     ]
    },
    {
     "name": "stdout",
     "output_type": "stream",
     "text": [
      ".."
     ]
    },
    {
     "name": "stderr",
     "output_type": "stream",
     "text": [
      "Warning message:\n",
      "“glm.fit: fitted rates numerically 0 occurred”Warning message:\n",
      "“glm.fit: fitted rates numerically 0 occurred”Warning message:\n",
      "“glm.fit: fitted rates numerically 0 occurred”Warning message:\n",
      "“glm.fit: fitted rates numerically 0 occurred”"
     ]
    },
    {
     "name": "stdout",
     "output_type": "stream",
     "text": [
      "."
     ]
    },
    {
     "name": "stderr",
     "output_type": "stream",
     "text": [
      "Warning message:\n",
      "“glm.fit: fitted rates numerically 0 occurred”Warning message:\n",
      "“glm.fit: fitted rates numerically 0 occurred”Warning message:\n",
      "“glm.fit: fitted rates numerically 0 occurred”"
     ]
    },
    {
     "name": "stdout",
     "output_type": "stream",
     "text": [
      "."
     ]
    },
    {
     "name": "stderr",
     "output_type": "stream",
     "text": [
      "Warning message:\n",
      "“glm.fit: fitted rates numerically 0 occurred”Warning message:\n",
      "“glm.fit: fitted rates numerically 0 occurred”"
     ]
    },
    {
     "name": "stdout",
     "output_type": "stream",
     "text": [
      "."
     ]
    },
    {
     "name": "stderr",
     "output_type": "stream",
     "text": [
      "Warning message:\n",
      "“glm.fit: fitted rates numerically 0 occurred”Warning message:\n",
      "“glm.fit: fitted rates numerically 0 occurred”Warning message:\n",
      "“glm.fit: fitted rates numerically 0 occurred”Warning message:\n",
      "“glm.fit: fitted rates numerically 0 occurred”Warning message:\n",
      "“glm.fit: fitted rates numerically 0 occurred”Warning message:\n",
      "“glm.fit: fitted rates numerically 0 occurred”Warning message:\n",
      "“glm.fit: fitted rates numerically 0 occurred”Warning message:\n",
      "“glm.fit: fitted rates numerically 0 occurred”Warning message:\n",
      "“glm.fit: fitted rates numerically 0 occurred”Warning message:\n",
      "“glm.fit: fitted rates numerically 0 occurred”Warning message:\n",
      "“glm.fit: fitted rates numerically 0 occurred”Warning message:\n",
      "“glm.fit: fitted rates numerically 0 occurred”Warning message:\n",
      "“glm.fit: fitted rates numerically 0 occurred”Warning message:\n",
      "“glm.fit: fitted rates numerically 0 occurred”"
     ]
    },
    {
     "name": "stdout",
     "output_type": "stream",
     "text": [
      "."
     ]
    },
    {
     "name": "stderr",
     "output_type": "stream",
     "text": [
      "Warning message:\n",
      "“glm.fit: fitted rates numerically 0 occurred”Warning message:\n",
      "“glm.fit: fitted rates numerically 0 occurred”"
     ]
    },
    {
     "name": "stdout",
     "output_type": "stream",
     "text": [
      "."
     ]
    },
    {
     "name": "stderr",
     "output_type": "stream",
     "text": [
      "Warning message:\n",
      "“glm.fit: fitted rates numerically 0 occurred”Warning message:\n",
      "“glm.fit: fitted rates numerically 0 occurred”Warning message:\n",
      "“glm.fit: fitted rates numerically 0 occurred”Warning message:\n",
      "“glm.fit: fitted rates numerically 0 occurred”"
     ]
    },
    {
     "name": "stdout",
     "output_type": "stream",
     "text": [
      "."
     ]
    },
    {
     "name": "stderr",
     "output_type": "stream",
     "text": [
      "Warning message:\n",
      "“glm.fit: fitted rates numerically 0 occurred”Warning message:\n",
      "“glm.fit: fitted rates numerically 0 occurred”Warning message:\n",
      "“glm.fit: fitted rates numerically 0 occurred”Warning message:\n",
      "“glm.fit: fitted rates numerically 0 occurred”Warning message:\n",
      "“glm.fit: fitted rates numerically 0 occurred”Warning message:\n",
      "“glm.fit: fitted rates numerically 0 occurred”"
     ]
    },
    {
     "name": "stdout",
     "output_type": "stream",
     "text": [
      "."
     ]
    },
    {
     "name": "stderr",
     "output_type": "stream",
     "text": [
      "Warning message:\n",
      "“glm.fit: fitted rates numerically 0 occurred”Warning message:\n",
      "“glm.fit: fitted rates numerically 0 occurred”Warning message:\n",
      "“glm.fit: fitted rates numerically 0 occurred”"
     ]
    },
    {
     "name": "stdout",
     "output_type": "stream",
     "text": [
      "."
     ]
    },
    {
     "name": "stderr",
     "output_type": "stream",
     "text": [
      "Warning message:\n",
      "“glm.fit: fitted rates numerically 0 occurred”Warning message:\n",
      "“glm.fit: fitted rates numerically 0 occurred”"
     ]
    },
    {
     "name": "stdout",
     "output_type": "stream",
     "text": [
      ".."
     ]
    },
    {
     "name": "stderr",
     "output_type": "stream",
     "text": [
      "Warning message:\n",
      "“glm.fit: fitted rates numerically 0 occurred”"
     ]
    },
    {
     "name": "stdout",
     "output_type": "stream",
     "text": [
      "."
     ]
    },
    {
     "name": "stderr",
     "output_type": "stream",
     "text": [
      "Warning message:\n",
      "“glm.fit: fitted rates numerically 0 occurred”Warning message:\n",
      "“glm.fit: fitted rates numerically 0 occurred”"
     ]
    },
    {
     "name": "stdout",
     "output_type": "stream",
     "text": [
      "."
     ]
    },
    {
     "name": "stderr",
     "output_type": "stream",
     "text": [
      "Warning message:\n",
      "“glm.fit: fitted rates numerically 0 occurred”Warning message:\n",
      "“glm.fit: fitted rates numerically 0 occurred”Warning message:\n",
      "“glm.fit: fitted rates numerically 0 occurred”"
     ]
    },
    {
     "name": "stdout",
     "output_type": "stream",
     "text": [
      "."
     ]
    },
    {
     "name": "stderr",
     "output_type": "stream",
     "text": [
      "Warning message:\n",
      "“glm.fit: fitted rates numerically 0 occurred”Warning message:\n",
      "“glm.fit: fitted rates numerically 0 occurred”Warning message:\n",
      "“glm.fit: fitted rates numerically 0 occurred”Warning message:\n",
      "“glm.fit: fitted rates numerically 0 occurred”Warning message:\n",
      "“glm.fit: fitted rates numerically 0 occurred”Warning message:\n",
      "“glm.fit: fitted rates numerically 0 occurred”Warning message:\n",
      "“glm.fit: fitted rates numerically 0 occurred”Warning message:\n",
      "“glm.fit: fitted rates numerically 0 occurred”Warning message:\n",
      "“glm.fit: fitted rates numerically 0 occurred”Warning message:\n",
      "“glm.fit: fitted rates numerically 0 occurred”Warning message:\n",
      "“glm.fit: fitted rates numerically 0 occurred”"
     ]
    },
    {
     "name": "stdout",
     "output_type": "stream",
     "text": [
      "."
     ]
    },
    {
     "name": "stderr",
     "output_type": "stream",
     "text": [
      "Warning message:\n",
      "“glm.fit: fitted rates numerically 0 occurred”Warning message:\n",
      "“glm.fit: fitted rates numerically 0 occurred”Warning message:\n",
      "“glm.fit: fitted rates numerically 0 occurred”Warning message:\n",
      "“glm.fit: fitted rates numerically 0 occurred”Warning message:\n",
      "“glm.fit: fitted rates numerically 0 occurred”Warning message:\n",
      "“glm.fit: fitted rates numerically 0 occurred”Warning message:\n",
      "“glm.fit: fitted rates numerically 0 occurred”Warning message:\n",
      "“glm.fit: fitted rates numerically 0 occurred”Warning message:\n",
      "“glm.fit: fitted rates numerically 0 occurred”Warning message:\n",
      "“glm.fit: fitted rates numerically 0 occurred”Warning message:\n",
      "“glm.fit: fitted rates numerically 0 occurred”Warning message:\n",
      "“glm.fit: fitted rates numerically 0 occurred”"
     ]
    },
    {
     "name": "stdout",
     "output_type": "stream",
     "text": [
      "."
     ]
    },
    {
     "name": "stderr",
     "output_type": "stream",
     "text": [
      "Warning message:\n",
      "“glm.fit: fitted rates numerically 0 occurred”Warning message:\n",
      "“glm.fit: fitted rates numerically 0 occurred”"
     ]
    },
    {
     "name": "stdout",
     "output_type": "stream",
     "text": [
      "."
     ]
    },
    {
     "name": "stderr",
     "output_type": "stream",
     "text": [
      "Warning message:\n",
      "“glm.fit: fitted rates numerically 0 occurred”Warning message:\n",
      "“glm.fit: fitted rates numerically 0 occurred”"
     ]
    },
    {
     "name": "stdout",
     "output_type": "stream",
     "text": [
      ".."
     ]
    },
    {
     "name": "stderr",
     "output_type": "stream",
     "text": [
      "Warning message:\n",
      "“glm.fit: fitted rates numerically 0 occurred”Warning message:\n",
      "“glm.fit: fitted rates numerically 0 occurred”Warning message:\n",
      "“glm.fit: fitted rates numerically 0 occurred”Warning message:\n",
      "“glm.fit: fitted rates numerically 0 occurred”Warning message:\n",
      "“glm.fit: fitted rates numerically 0 occurred”Warning message:\n",
      "“glm.fit: fitted rates numerically 0 occurred”Warning message:\n",
      "“glm.fit: fitted rates numerically 0 occurred”Warning message:\n",
      "“glm.fit: fitted rates numerically 0 occurred”"
     ]
    },
    {
     "name": "stdout",
     "output_type": "stream",
     "text": [
      "."
     ]
    },
    {
     "name": "stderr",
     "output_type": "stream",
     "text": [
      "Warning message:\n",
      "“glm.fit: fitted rates numerically 0 occurred”Warning message:\n",
      "“glm.fit: fitted rates numerically 0 occurred”"
     ]
    },
    {
     "name": "stdout",
     "output_type": "stream",
     "text": [
      ".."
     ]
    },
    {
     "name": "stderr",
     "output_type": "stream",
     "text": [
      "Warning message:\n",
      "“glm.fit: fitted rates numerically 0 occurred”Warning message:\n",
      "“glm.fit: fitted rates numerically 0 occurred”"
     ]
    },
    {
     "name": "stdout",
     "output_type": "stream",
     "text": [
      "."
     ]
    },
    {
     "name": "stderr",
     "output_type": "stream",
     "text": [
      "Warning message:\n",
      "“glm.fit: fitted rates numerically 0 occurred”Warning message:\n",
      "“glm.fit: fitted rates numerically 0 occurred”Warning message:\n",
      "“glm.fit: fitted rates numerically 0 occurred”Warning message:\n",
      "“glm.fit: fitted rates numerically 0 occurred”Warning message:\n",
      "“glm.fit: fitted rates numerically 0 occurred”Warning message:\n",
      "“glm.fit: fitted rates numerically 0 occurred”Warning message:\n",
      "“glm.fit: fitted rates numerically 0 occurred”Warning message:\n",
      "“glm.fit: fitted rates numerically 0 occurred”Warning message:\n",
      "“glm.fit: fitted rates numerically 0 occurred”Warning message:\n",
      "“glm.fit: fitted rates numerically 0 occurred”Warning message:\n",
      "“glm.fit: fitted rates numerically 0 occurred”Warning message:\n",
      "“glm.fit: fitted rates numerically 0 occurred”Warning message:\n",
      "“glm.fit: fitted rates numerically 0 occurred”Warning message:\n",
      "“glm.fit: fitted rates numerically 0 occurred”"
     ]
    },
    {
     "name": "stdout",
     "output_type": "stream",
     "text": [
      "."
     ]
    },
    {
     "name": "stderr",
     "output_type": "stream",
     "text": [
      "Warning message:\n",
      "“glm.fit: fitted rates numerically 0 occurred”"
     ]
    },
    {
     "name": "stdout",
     "output_type": "stream",
     "text": [
      "."
     ]
    },
    {
     "name": "stderr",
     "output_type": "stream",
     "text": [
      "Warning message:\n",
      "“glm.fit: fitted rates numerically 0 occurred”Warning message:\n",
      "“glm.fit: fitted rates numerically 0 occurred”Warning message:\n",
      "“glm.fit: fitted rates numerically 0 occurred”Warning message:\n",
      "“glm.fit: fitted rates numerically 0 occurred”Warning message:\n",
      "“glm.fit: fitted rates numerically 0 occurred”Warning message:\n",
      "“glm.fit: fitted rates numerically 0 occurred”Warning message:\n",
      "“glm.fit: fitted rates numerically 0 occurred”"
     ]
    },
    {
     "name": "stdout",
     "output_type": "stream",
     "text": [
      "."
     ]
    },
    {
     "name": "stderr",
     "output_type": "stream",
     "text": [
      "Warning message:\n",
      "“glm.fit: fitted rates numerically 0 occurred”Warning message:\n",
      "“glm.fit: fitted rates numerically 0 occurred”Warning message:\n",
      "“glm.fit: fitted rates numerically 0 occurred”Warning message:\n",
      "“glm.fit: fitted rates numerically 0 occurred”"
     ]
    },
    {
     "name": "stdout",
     "output_type": "stream",
     "text": [
      "..."
     ]
    },
    {
     "name": "stderr",
     "output_type": "stream",
     "text": [
      "Warning message:\n",
      "“glm.fit: fitted rates numerically 0 occurred”Warning message:\n",
      "“glm.fit: fitted rates numerically 0 occurred”"
     ]
    },
    {
     "name": "stdout",
     "output_type": "stream",
     "text": [
      "."
     ]
    },
    {
     "name": "stderr",
     "output_type": "stream",
     "text": [
      "Warning message:\n",
      "“glm.fit: fitted rates numerically 0 occurred”Warning message:\n",
      "“glm.fit: fitted rates numerically 0 occurred”"
     ]
    },
    {
     "name": "stdout",
     "output_type": "stream",
     "text": [
      ".."
     ]
    },
    {
     "name": "stderr",
     "output_type": "stream",
     "text": [
      "Warning message:\n",
      "“glm.fit: fitted rates numerically 0 occurred”Warning message:\n",
      "“glm.fit: fitted rates numerically 0 occurred”"
     ]
    },
    {
     "name": "stdout",
     "output_type": "stream",
     "text": [
      "."
     ]
    },
    {
     "name": "stderr",
     "output_type": "stream",
     "text": [
      "Warning message:\n",
      "“glm.fit: fitted rates numerically 0 occurred”Warning message:\n",
      "“glm.fit: fitted rates numerically 0 occurred”Warning message:\n",
      "“glm.fit: fitted rates numerically 0 occurred”Warning message:\n",
      "“glm.fit: fitted rates numerically 0 occurred”Warning message:\n",
      "“glm.fit: fitted rates numerically 0 occurred”Warning message:\n",
      "“glm.fit: fitted rates numerically 0 occurred”Warning message:\n",
      "“glm.fit: fitted rates numerically 0 occurred”Warning message:\n",
      "“glm.fit: fitted rates numerically 0 occurred”Warning message:\n",
      "“glm.fit: fitted rates numerically 0 occurred”Warning message:\n",
      "“glm.fit: fitted rates numerically 0 occurred”Warning message:\n",
      "“glm.fit: fitted rates numerically 0 occurred”Warning message:\n",
      "“glm.fit: fitted rates numerically 0 occurred”Warning message:\n",
      "“glm.fit: fitted rates numerically 0 occurred”Warning message:\n",
      "“glm.fit: fitted rates numerically 0 occurred”"
     ]
    },
    {
     "name": "stdout",
     "output_type": "stream",
     "text": [
      ".."
     ]
    },
    {
     "name": "stderr",
     "output_type": "stream",
     "text": [
      "Warning message:\n",
      "“glm.fit: fitted rates numerically 0 occurred”Warning message:\n",
      "“glm.fit: fitted rates numerically 0 occurred”Warning message:\n",
      "“glm.fit: fitted rates numerically 0 occurred”Warning message:\n",
      "“glm.fit: fitted rates numerically 0 occurred”Warning message:\n",
      "“glm.fit: fitted rates numerically 0 occurred”Warning message:\n",
      "“glm.fit: fitted rates numerically 0 occurred”Warning message:\n",
      "“glm.fit: fitted rates numerically 0 occurred”Warning message:\n",
      "“glm.fit: fitted rates numerically 0 occurred”"
     ]
    },
    {
     "name": "stdout",
     "output_type": "stream",
     "text": [
      ".."
     ]
    },
    {
     "name": "stderr",
     "output_type": "stream",
     "text": [
      "Warning message:\n",
      "“glm.fit: fitted rates numerically 0 occurred”"
     ]
    },
    {
     "name": "stdout",
     "output_type": "stream",
     "text": [
      "...."
     ]
    },
    {
     "name": "stderr",
     "output_type": "stream",
     "text": [
      "Warning message:\n",
      "“glm.fit: fitted rates numerically 0 occurred”Warning message:\n",
      "“glm.fit: fitted rates numerically 0 occurred”Warning message:\n",
      "“glm.fit: fitted rates numerically 0 occurred”Warning message:\n",
      "“glm.fit: fitted rates numerically 0 occurred”Warning message:\n",
      "“glm.fit: fitted rates numerically 0 occurred”Warning message:\n",
      "“glm.fit: fitted rates numerically 0 occurred”"
     ]
    },
    {
     "name": "stdout",
     "output_type": "stream",
     "text": [
      "."
     ]
    },
    {
     "name": "stderr",
     "output_type": "stream",
     "text": [
      "Warning message:\n",
      "“glm.fit: fitted rates numerically 0 occurred”Warning message:\n",
      "“glm.fit: fitted rates numerically 0 occurred”"
     ]
    },
    {
     "name": "stdout",
     "output_type": "stream",
     "text": [
      "."
     ]
    },
    {
     "name": "stderr",
     "output_type": "stream",
     "text": [
      "Warning message:\n",
      "“glm.fit: fitted rates numerically 0 occurred”Warning message:\n",
      "“glm.fit: fitted rates numerically 0 occurred”Warning message:\n",
      "“glm.fit: fitted rates numerically 0 occurred”Warning message:\n",
      "“glm.fit: fitted rates numerically 0 occurred”"
     ]
    },
    {
     "name": "stdout",
     "output_type": "stream",
     "text": [
      ".."
     ]
    },
    {
     "name": "stderr",
     "output_type": "stream",
     "text": [
      "Warning message:\n",
      "“glm.fit: fitted rates numerically 0 occurred”Warning message:\n",
      "“glm.fit: fitted rates numerically 0 occurred”Warning message:\n",
      "“glm.fit: fitted rates numerically 0 occurred”"
     ]
    },
    {
     "name": "stdout",
     "output_type": "stream",
     "text": [
      "."
     ]
    },
    {
     "name": "stderr",
     "output_type": "stream",
     "text": [
      "Warning message:\n",
      "“glm.fit: fitted rates numerically 0 occurred”Warning message:\n",
      "“glm.fit: fitted rates numerically 0 occurred”Warning message:\n",
      "“glm.fit: fitted rates numerically 0 occurred”Warning message:\n",
      "“glm.fit: fitted rates numerically 0 occurred”Warning message:\n",
      "“glm.fit: fitted rates numerically 0 occurred”Warning message:\n",
      "“glm.fit: fitted rates numerically 0 occurred”Warning message:\n",
      "“glm.fit: fitted rates numerically 0 occurred”Warning message:\n",
      "“glm.fit: fitted rates numerically 0 occurred”"
     ]
    },
    {
     "name": "stdout",
     "output_type": "stream",
     "text": [
      "."
     ]
    },
    {
     "name": "stderr",
     "output_type": "stream",
     "text": [
      "Warning message:\n",
      "“glm.fit: fitted rates numerically 0 occurred”Warning message:\n",
      "“glm.fit: fitted rates numerically 0 occurred”Warning message:\n",
      "“glm.fit: fitted rates numerically 0 occurred”"
     ]
    },
    {
     "name": "stdout",
     "output_type": "stream",
     "text": [
      ".."
     ]
    },
    {
     "name": "stderr",
     "output_type": "stream",
     "text": [
      "Warning message:\n",
      "“glm.fit: fitted rates numerically 0 occurred”Warning message:\n",
      "“glm.fit: fitted rates numerically 0 occurred”"
     ]
    },
    {
     "name": "stdout",
     "output_type": "stream",
     "text": [
      ".."
     ]
    },
    {
     "name": "stderr",
     "output_type": "stream",
     "text": [
      "Warning message:\n",
      "“glm.fit: fitted rates numerically 0 occurred”Warning message:\n",
      "“glm.fit: fitted rates numerically 0 occurred”Warning message:\n",
      "“glm.fit: fitted rates numerically 0 occurred”Warning message:\n",
      "“glm.fit: fitted rates numerically 0 occurred”Warning message:\n",
      "“glm.fit: fitted rates numerically 0 occurred”Warning message:\n",
      "“glm.fit: fitted rates numerically 0 occurred”Warning message:\n",
      "“glm.fit: fitted rates numerically 0 occurred”Warning message:\n",
      "“glm.fit: fitted rates numerically 0 occurred”Warning message:\n",
      "“glm.fit: fitted rates numerically 0 occurred”Warning message:\n",
      "“glm.fit: fitted rates numerically 0 occurred”"
     ]
    },
    {
     "name": "stdout",
     "output_type": "stream",
     "text": [
      "........."
     ]
    },
    {
     "name": "stderr",
     "output_type": "stream",
     "text": [
      "Warning message:\n",
      "“glm.fit: fitted rates numerically 0 occurred”Warning message:\n",
      "“glm.fit: fitted rates numerically 0 occurred”Warning message:\n",
      "“glm.fit: fitted rates numerically 0 occurred”"
     ]
    },
    {
     "name": "stdout",
     "output_type": "stream",
     "text": [
      "...."
     ]
    },
    {
     "name": "stderr",
     "output_type": "stream",
     "text": [
      "Warning message:\n",
      "“glm.fit: fitted rates numerically 0 occurred”Warning message:\n",
      "“glm.fit: fitted rates numerically 0 occurred”"
     ]
    },
    {
     "name": "stdout",
     "output_type": "stream",
     "text": [
      "."
     ]
    },
    {
     "name": "stderr",
     "output_type": "stream",
     "text": [
      "Warning message:\n",
      "“glm.fit: fitted rates numerically 0 occurred”Warning message:\n",
      "“glm.fit: fitted rates numerically 0 occurred”Warning message:\n",
      "“glm.fit: fitted rates numerically 0 occurred”"
     ]
    },
    {
     "name": "stdout",
     "output_type": "stream",
     "text": [
      ".."
     ]
    },
    {
     "name": "stderr",
     "output_type": "stream",
     "text": [
      "Warning message:\n",
      "“glm.fit: fitted rates numerically 0 occurred”Warning message:\n",
      "“glm.fit: fitted rates numerically 0 occurred”Warning message:\n",
      "“glm.fit: fitted rates numerically 0 occurred”"
     ]
    },
    {
     "name": "stdout",
     "output_type": "stream",
     "text": [
      "."
     ]
    },
    {
     "name": "stderr",
     "output_type": "stream",
     "text": [
      "Warning message:\n",
      "“glm.fit: fitted rates numerically 0 occurred”Warning message:\n",
      "“glm.fit: fitted rates numerically 0 occurred”"
     ]
    },
    {
     "name": "stdout",
     "output_type": "stream",
     "text": [
      ".."
     ]
    },
    {
     "name": "stderr",
     "output_type": "stream",
     "text": [
      "Warning message:\n",
      "“glm.fit: fitted rates numerically 0 occurred”Warning message:\n",
      "“glm.fit: fitted rates numerically 0 occurred”Warning message:\n",
      "“glm.fit: fitted rates numerically 0 occurred”Warning message:\n",
      "“glm.fit: fitted rates numerically 0 occurred”Warning message:\n",
      "“glm.fit: fitted rates numerically 0 occurred”"
     ]
    },
    {
     "name": "stdout",
     "output_type": "stream",
     "text": [
      "."
     ]
    },
    {
     "name": "stderr",
     "output_type": "stream",
     "text": [
      "Warning message:\n",
      "“glm.fit: fitted rates numerically 0 occurred”Warning message:\n",
      "“glm.fit: fitted rates numerically 0 occurred”Warning message:\n",
      "“glm.fit: fitted rates numerically 0 occurred”Warning message:\n",
      "“glm.fit: fitted rates numerically 0 occurred”"
     ]
    },
    {
     "name": "stdout",
     "output_type": "stream",
     "text": [
      "."
     ]
    },
    {
     "name": "stderr",
     "output_type": "stream",
     "text": [
      "Warning message:\n",
      "“glm.fit: fitted rates numerically 0 occurred”"
     ]
    },
    {
     "name": "stdout",
     "output_type": "stream",
     "text": [
      "......."
     ]
    },
    {
     "name": "stderr",
     "output_type": "stream",
     "text": [
      "Warning message:\n",
      "“glm.fit: fitted rates numerically 0 occurred”Warning message:\n",
      "“glm.fit: fitted rates numerically 0 occurred”Warning message:\n",
      "“glm.fit: fitted rates numerically 0 occurred”Warning message:\n",
      "“glm.fit: fitted rates numerically 0 occurred”Warning message:\n",
      "“glm.fit: fitted rates numerically 0 occurred”Warning message:\n",
      "“glm.fit: fitted rates numerically 0 occurred”"
     ]
    },
    {
     "name": "stdout",
     "output_type": "stream",
     "text": [
      ".."
     ]
    },
    {
     "name": "stderr",
     "output_type": "stream",
     "text": [
      "Warning message:\n",
      "“glm.fit: fitted rates numerically 0 occurred”Warning message:\n",
      "“glm.fit: fitted rates numerically 0 occurred”Warning message:\n",
      "“glm.fit: fitted rates numerically 0 occurred”Warning message:\n",
      "“glm.fit: fitted rates numerically 0 occurred”"
     ]
    },
    {
     "name": "stdout",
     "output_type": "stream",
     "text": [
      "..."
     ]
    },
    {
     "name": "stderr",
     "output_type": "stream",
     "text": [
      "Warning message:\n",
      "“glm.fit: fitted rates numerically 0 occurred”Warning message:\n",
      "“glm.fit: fitted rates numerically 0 occurred”Warning message:\n",
      "“glm.fit: fitted rates numerically 0 occurred”Warning message:\n",
      "“glm.fit: fitted rates numerically 0 occurred”Warning message:\n",
      "“glm.fit: fitted rates numerically 0 occurred”Warning message:\n",
      "“glm.fit: fitted rates numerically 0 occurred”Warning message:\n",
      "“glm.fit: fitted rates numerically 0 occurred”Warning message:\n",
      "“glm.fit: fitted rates numerically 0 occurred”Warning message:\n",
      "“glm.fit: fitted rates numerically 0 occurred”Warning message:\n",
      "“glm.fit: fitted rates numerically 0 occurred”"
     ]
    },
    {
     "name": "stdout",
     "output_type": "stream",
     "text": [
      "."
     ]
    },
    {
     "name": "stderr",
     "output_type": "stream",
     "text": [
      "Warning message:\n",
      "“glm.fit: fitted rates numerically 0 occurred”Warning message:\n",
      "“glm.fit: fitted rates numerically 0 occurred”"
     ]
    },
    {
     "name": "stdout",
     "output_type": "stream",
     "text": [
      "."
     ]
    },
    {
     "name": "stderr",
     "output_type": "stream",
     "text": [
      "Warning message:\n",
      "“glm.fit: fitted rates numerically 0 occurred”"
     ]
    },
    {
     "name": "stdout",
     "output_type": "stream",
     "text": [
      ".."
     ]
    },
    {
     "name": "stderr",
     "output_type": "stream",
     "text": [
      "Warning message:\n",
      "“glm.fit: fitted rates numerically 0 occurred”Warning message:\n",
      "“glm.fit: fitted rates numerically 0 occurred”Warning message:\n",
      "“glm.fit: fitted rates numerically 0 occurred”Warning message:\n",
      "“glm.fit: fitted rates numerically 0 occurred”Warning message:\n",
      "“glm.fit: fitted rates numerically 0 occurred”Warning message:\n",
      "“glm.fit: fitted rates numerically 0 occurred”Warning message:\n",
      "“glm.fit: fitted rates numerically 0 occurred”Warning message:\n",
      "“glm.fit: fitted rates numerically 0 occurred”Warning message:\n",
      "“glm.fit: fitted rates numerically 0 occurred”Warning message:\n",
      "“glm.fit: fitted rates numerically 0 occurred”Warning message:\n",
      "“glm.fit: fitted rates numerically 0 occurred”"
     ]
    },
    {
     "name": "stdout",
     "output_type": "stream",
     "text": [
      "."
     ]
    },
    {
     "name": "stderr",
     "output_type": "stream",
     "text": [
      "Warning message:\n",
      "“glm.fit: fitted rates numerically 0 occurred”Warning message:\n",
      "“glm.fit: fitted rates numerically 0 occurred”Warning message:\n",
      "“glm.fit: fitted rates numerically 0 occurred”Warning message:\n",
      "“glm.fit: fitted rates numerically 0 occurred”Warning message:\n",
      "“glm.fit: fitted rates numerically 0 occurred”"
     ]
    },
    {
     "name": "stdout",
     "output_type": "stream",
     "text": [
      "."
     ]
    },
    {
     "name": "stderr",
     "output_type": "stream",
     "text": [
      "Warning message:\n",
      "“glm.fit: fitted rates numerically 0 occurred”"
     ]
    },
    {
     "name": "stdout",
     "output_type": "stream",
     "text": [
      "..."
     ]
    },
    {
     "name": "stderr",
     "output_type": "stream",
     "text": [
      "Warning message:\n",
      "“glm.fit: fitted rates numerically 0 occurred”Warning message:\n",
      "“glm.fit: fitted rates numerically 0 occurred”"
     ]
    },
    {
     "name": "stdout",
     "output_type": "stream",
     "text": [
      ".."
     ]
    },
    {
     "name": "stderr",
     "output_type": "stream",
     "text": [
      "Warning message:\n",
      "“glm.fit: fitted rates numerically 0 occurred”Warning message:\n",
      "“glm.fit: fitted rates numerically 0 occurred”Warning message:\n",
      "“glm.fit: fitted rates numerically 0 occurred”"
     ]
    },
    {
     "name": "stdout",
     "output_type": "stream",
     "text": [
      "."
     ]
    },
    {
     "name": "stderr",
     "output_type": "stream",
     "text": [
      "Warning message:\n",
      "“glm.fit: fitted rates numerically 0 occurred”Warning message:\n",
      "“glm.fit: fitted rates numerically 0 occurred”"
     ]
    },
    {
     "name": "stdout",
     "output_type": "stream",
     "text": [
      "."
     ]
    },
    {
     "name": "stderr",
     "output_type": "stream",
     "text": [
      "Warning message:\n",
      "“glm.fit: fitted rates numerically 0 occurred”Warning message:\n",
      "“glm.fit: fitted rates numerically 0 occurred”Warning message:\n",
      "“glm.fit: fitted rates numerically 0 occurred”Warning message:\n",
      "“glm.fit: fitted rates numerically 0 occurred”Warning message:\n",
      "“glm.fit: fitted rates numerically 0 occurred”Warning message:\n",
      "“glm.fit: fitted rates numerically 0 occurred”Warning message:\n",
      "“glm.fit: fitted rates numerically 0 occurred”Warning message:\n",
      "“glm.fit: fitted rates numerically 0 occurred”Warning message:\n",
      "“glm.fit: fitted rates numerically 0 occurred”Warning message:\n",
      "“glm.fit: fitted rates numerically 0 occurred”Warning message:\n",
      "“glm.fit: fitted rates numerically 0 occurred”Warning message:\n",
      "“glm.fit: fitted rates numerically 0 occurred”"
     ]
    },
    {
     "name": "stdout",
     "output_type": "stream",
     "text": [
      ".."
     ]
    },
    {
     "name": "stderr",
     "output_type": "stream",
     "text": [
      "Warning message:\n",
      "“glm.fit: fitted rates numerically 0 occurred”Warning message:\n",
      "“glm.fit: fitted rates numerically 0 occurred”Warning message:\n",
      "“glm.fit: fitted rates numerically 0 occurred”"
     ]
    },
    {
     "name": "stdout",
     "output_type": "stream",
     "text": [
      ".."
     ]
    },
    {
     "name": "stderr",
     "output_type": "stream",
     "text": [
      "Warning message:\n",
      "“glm.fit: fitted rates numerically 0 occurred”Warning message:\n",
      "“glm.fit: fitted rates numerically 0 occurred”"
     ]
    },
    {
     "name": "stdout",
     "output_type": "stream",
     "text": [
      "."
     ]
    },
    {
     "name": "stderr",
     "output_type": "stream",
     "text": [
      "Warning message:\n",
      "“glm.fit: fitted rates numerically 0 occurred”"
     ]
    },
    {
     "name": "stdout",
     "output_type": "stream",
     "text": [
      "."
     ]
    },
    {
     "name": "stderr",
     "output_type": "stream",
     "text": [
      "Warning message:\n",
      "“glm.fit: fitted rates numerically 0 occurred”Warning message:\n",
      "“glm.fit: fitted rates numerically 0 occurred”Warning message:\n",
      "“glm.fit: fitted rates numerically 0 occurred”Warning message:\n",
      "“glm.fit: fitted rates numerically 0 occurred”Warning message:\n",
      "“glm.fit: fitted rates numerically 0 occurred”Warning message:\n",
      "“glm.fit: fitted rates numerically 0 occurred”Warning message:\n",
      "“glm.fit: fitted rates numerically 0 occurred”Warning message:\n",
      "“glm.fit: fitted rates numerically 0 occurred”Warning message:\n",
      "“glm.fit: fitted rates numerically 0 occurred”Warning message:\n",
      "“glm.fit: fitted rates numerically 0 occurred”Warning message:\n",
      "“glm.fit: fitted rates numerically 0 occurred”Warning message:\n",
      "“glm.fit: fitted rates numerically 0 occurred”Warning message:\n",
      "“glm.fit: fitted rates numerically 0 occurred”Warning message:\n",
      "“glm.fit: fitted rates numerically 0 occurred”Warning message:\n",
      "“glm.fit: fitted rates numerically 0 occurred”Warning message:\n",
      "“glm.fit: fitted rates numerically 0 occurred”Warning message:\n",
      "“glm.fit: fitted rates numerically 0 occurred”Warning message:\n",
      "“glm.fit: fitted rates numerically 0 occurred”Warning message:\n",
      "“glm.fit: fitted rates numerically 0 occurred”Warning message:\n",
      "“glm.fit: fitted rates numerically 0 occurred”Warning message:\n",
      "“glm.fit: fitted rates numerically 0 occurred”Warning message:\n",
      "“glm.fit: fitted rates numerically 0 occurred”Warning message:\n",
      "“glm.fit: fitted rates numerically 0 occurred”Warning message:\n",
      "“glm.fit: fitted rates numerically 0 occurred”Warning message:\n",
      "“glm.fit: fitted rates numerically 0 occurred”Warning message:\n",
      "“glm.fit: fitted rates numerically 0 occurred”Warning message:\n",
      "“glm.fit: fitted rates numerically 0 occurred”Warning message:\n",
      "“glm.fit: fitted rates numerically 0 occurred”Warning message:\n",
      "“glm.fit: fitted rates numerically 0 occurred”Warning message:\n",
      "“glm.fit: fitted rates numerically 0 occurred”Warning message:\n",
      "“glm.fit: fitted rates numerically 0 occurred”"
     ]
    },
    {
     "name": "stdout",
     "output_type": "stream",
     "text": [
      ".."
     ]
    },
    {
     "name": "stderr",
     "output_type": "stream",
     "text": [
      "Warning message:\n",
      "“glm.fit: fitted rates numerically 0 occurred”Warning message:\n",
      "“glm.fit: fitted rates numerically 0 occurred”"
     ]
    },
    {
     "name": "stdout",
     "output_type": "stream",
     "text": [
      ".."
     ]
    },
    {
     "name": "stderr",
     "output_type": "stream",
     "text": [
      "Warning message:\n",
      "“glm.fit: fitted rates numerically 0 occurred”Warning message:\n",
      "“glm.fit: fitted rates numerically 0 occurred”Warning message:\n",
      "“glm.fit: fitted rates numerically 0 occurred”Warning message:\n",
      "“glm.fit: fitted rates numerically 0 occurred”"
     ]
    },
    {
     "name": "stdout",
     "output_type": "stream",
     "text": [
      "."
     ]
    },
    {
     "name": "stderr",
     "output_type": "stream",
     "text": [
      "Warning message:\n",
      "“glm.fit: fitted rates numerically 0 occurred”Warning message:\n",
      "“glm.fit: fitted rates numerically 0 occurred”Warning message:\n",
      "“glm.fit: fitted rates numerically 0 occurred”Warning message:\n",
      "“glm.fit: fitted rates numerically 0 occurred”Warning message:\n",
      "“glm.fit: fitted rates numerically 0 occurred”Warning message:\n",
      "“glm.fit: fitted rates numerically 0 occurred”Warning message:\n",
      "“glm.fit: fitted rates numerically 0 occurred”Warning message:\n",
      "“glm.fit: fitted rates numerically 0 occurred”Warning message:\n",
      "“glm.fit: fitted rates numerically 0 occurred”Warning message:\n",
      "“glm.fit: fitted rates numerically 0 occurred”Warning message:\n",
      "“glm.fit: fitted rates numerically 0 occurred”Warning message:\n",
      "“glm.fit: fitted rates numerically 0 occurred”Warning message:\n",
      "“glm.fit: fitted rates numerically 0 occurred”Warning message:\n",
      "“glm.fit: fitted rates numerically 0 occurred”Warning message:\n",
      "“glm.fit: fitted rates numerically 0 occurred”Warning message:\n",
      "“glm.fit: fitted rates numerically 0 occurred”Warning message:\n",
      "“glm.fit: fitted rates numerically 0 occurred”Warning message:\n",
      "“glm.fit: fitted rates numerically 0 occurred”Warning message:\n",
      "“glm.fit: fitted rates numerically 0 occurred”Warning message:\n",
      "“glm.fit: fitted rates numerically 0 occurred”Warning message:\n",
      "“glm.fit: fitted rates numerically 0 occurred”Warning message:\n",
      "“glm.fit: fitted rates numerically 0 occurred”Warning message:\n",
      "“glm.fit: fitted rates numerically 0 occurred”Warning message:\n",
      "“glm.fit: fitted rates numerically 0 occurred”Warning message:\n",
      "“glm.fit: fitted rates numerically 0 occurred”Warning message:\n",
      "“glm.fit: fitted rates numerically 0 occurred”Warning message:\n",
      "“glm.fit: fitted rates numerically 0 occurred”Warning message:\n",
      "“glm.fit: fitted rates numerically 0 occurred”Warning message:\n",
      "“glm.fit: fitted rates numerically 0 occurred”Warning message:\n",
      "“glm.fit: fitted rates numerically 0 occurred”Warning message:\n",
      "“glm.fit: fitted rates numerically 0 occurred”Warning message:\n",
      "“glm.fit: fitted rates numerically 0 occurred”Warning message:\n",
      "“glm.fit: fitted rates numerically 0 occurred”Warning message:\n",
      "“glm.fit: fitted rates numerically 0 occurred”Warning message:\n",
      "“glm.fit: fitted rates numerically 0 occurred”Warning message:\n",
      "“glm.fit: fitted rates numerically 0 occurred”Warning message:\n",
      "“glm.fit: fitted rates numerically 0 occurred”Warning message:\n",
      "“glm.fit: fitted rates numerically 0 occurred”Warning message:\n",
      "“glm.fit: fitted rates numerically 0 occurred”Warning message:\n",
      "“glm.fit: fitted rates numerically 0 occurred”Warning message:\n",
      "“glm.fit: fitted rates numerically 0 occurred”Warning message:\n",
      "“glm.fit: fitted rates numerically 0 occurred”Warning message:\n",
      "“glm.fit: fitted rates numerically 0 occurred”Warning message:\n",
      "“glm.fit: fitted rates numerically 0 occurred”Warning message:\n",
      "“glm.fit: fitted rates numerically 0 occurred”Warning message:\n",
      "“glm.fit: fitted rates numerically 0 occurred”Warning message:\n",
      "“glm.fit: fitted rates numerically 0 occurred”"
     ]
    },
    {
     "name": "stdout",
     "output_type": "stream",
     "text": [
      "."
     ]
    },
    {
     "name": "stderr",
     "output_type": "stream",
     "text": [
      "Warning message:\n",
      "“glm.fit: fitted rates numerically 0 occurred”Warning message:\n",
      "“glm.fit: fitted rates numerically 0 occurred”"
     ]
    },
    {
     "name": "stdout",
     "output_type": "stream",
     "text": [
      "."
     ]
    },
    {
     "name": "stderr",
     "output_type": "stream",
     "text": [
      "Warning message:\n",
      "“glm.fit: fitted rates numerically 0 occurred”Warning message:\n",
      "“glm.fit: fitted rates numerically 0 occurred”Warning message:\n",
      "“glm.fit: fitted rates numerically 0 occurred”"
     ]
    },
    {
     "name": "stdout",
     "output_type": "stream",
     "text": [
      ".."
     ]
    },
    {
     "name": "stderr",
     "output_type": "stream",
     "text": [
      "Warning message:\n",
      "“glm.fit: fitted rates numerically 0 occurred”Warning message:\n",
      "“glm.fit: fitted rates numerically 0 occurred”Warning message:\n",
      "“glm.fit: fitted rates numerically 0 occurred”"
     ]
    },
    {
     "name": "stdout",
     "output_type": "stream",
     "text": [
      ".."
     ]
    },
    {
     "name": "stderr",
     "output_type": "stream",
     "text": [
      "Warning message:\n",
      "“glm.fit: fitted rates numerically 0 occurred”Warning message:\n",
      "“glm.fit: fitted rates numerically 0 occurred”"
     ]
    },
    {
     "name": "stdout",
     "output_type": "stream",
     "text": [
      "."
     ]
    },
    {
     "name": "stderr",
     "output_type": "stream",
     "text": [
      "Warning message:\n",
      "“glm.fit: fitted rates numerically 0 occurred”Warning message:\n",
      "“glm.fit: fitted rates numerically 0 occurred”"
     ]
    },
    {
     "name": "stdout",
     "output_type": "stream",
     "text": [
      "....."
     ]
    },
    {
     "name": "stderr",
     "output_type": "stream",
     "text": [
      "Warning message:\n",
      "“glm.fit: fitted rates numerically 0 occurred”Warning message:\n",
      "“glm.fit: fitted rates numerically 0 occurred”Warning message:\n",
      "“glm.fit: fitted rates numerically 0 occurred”Warning message:\n",
      "“glm.fit: fitted rates numerically 0 occurred”Warning message:\n",
      "“glm.fit: fitted rates numerically 0 occurred”Warning message:\n",
      "“glm.fit: fitted rates numerically 0 occurred”Warning message:\n",
      "“glm.fit: fitted rates numerically 0 occurred”Warning message:\n",
      "“glm.fit: fitted rates numerically 0 occurred”Warning message:\n",
      "“glm.fit: fitted rates numerically 0 occurred”Warning message:\n",
      "“glm.fit: fitted rates numerically 0 occurred”"
     ]
    },
    {
     "name": "stdout",
     "output_type": "stream",
     "text": [
      "."
     ]
    },
    {
     "name": "stderr",
     "output_type": "stream",
     "text": [
      "Warning message:\n",
      "“glm.fit: fitted rates numerically 0 occurred”Warning message:\n",
      "“glm.fit: fitted rates numerically 0 occurred”"
     ]
    },
    {
     "name": "stdout",
     "output_type": "stream",
     "text": [
      "."
     ]
    },
    {
     "name": "stderr",
     "output_type": "stream",
     "text": [
      "Warning message:\n",
      "“glm.fit: fitted rates numerically 0 occurred”Warning message:\n",
      "“glm.fit: fitted rates numerically 0 occurred”"
     ]
    },
    {
     "name": "stdout",
     "output_type": "stream",
     "text": [
      "."
     ]
    },
    {
     "name": "stderr",
     "output_type": "stream",
     "text": [
      "Warning message:\n",
      "“glm.fit: fitted rates numerically 0 occurred”Warning message:\n",
      "“glm.fit: fitted rates numerically 0 occurred”Warning message:\n",
      "“glm.fit: fitted rates numerically 0 occurred”Warning message:\n",
      "“glm.fit: fitted rates numerically 0 occurred”Warning message:\n",
      "“glm.fit: fitted rates numerically 0 occurred”Warning message:\n",
      "“glm.fit: fitted rates numerically 0 occurred”"
     ]
    },
    {
     "name": "stdout",
     "output_type": "stream",
     "text": [
      ".."
     ]
    },
    {
     "name": "stderr",
     "output_type": "stream",
     "text": [
      "Warning message:\n",
      "“glm.fit: fitted rates numerically 0 occurred”Warning message:\n",
      "“glm.fit: fitted rates numerically 0 occurred”Warning message:\n",
      "“glm.fit: fitted rates numerically 0 occurred”Warning message:\n",
      "“glm.fit: fitted rates numerically 0 occurred”Warning message:\n",
      "“glm.fit: fitted rates numerically 0 occurred”Warning message:\n",
      "“glm.fit: fitted rates numerically 0 occurred”Warning message:\n",
      "“glm.fit: fitted rates numerically 0 occurred”Warning message:\n",
      "“glm.fit: fitted rates numerically 0 occurred”Warning message:\n",
      "“glm.fit: fitted rates numerically 0 occurred”Warning message:\n",
      "“glm.fit: fitted rates numerically 0 occurred”"
     ]
    },
    {
     "name": "stdout",
     "output_type": "stream",
     "text": [
      "."
     ]
    },
    {
     "name": "stderr",
     "output_type": "stream",
     "text": [
      "Warning message:\n",
      "“glm.fit: fitted rates numerically 0 occurred”"
     ]
    },
    {
     "name": "stdout",
     "output_type": "stream",
     "text": [
      "."
     ]
    },
    {
     "name": "stderr",
     "output_type": "stream",
     "text": [
      "Warning message:\n",
      "“glm.fit: fitted rates numerically 0 occurred”Warning message:\n",
      "“glm.fit: fitted rates numerically 0 occurred”Warning message:\n",
      "“glm.fit: fitted rates numerically 0 occurred”Warning message:\n",
      "“glm.fit: fitted rates numerically 0 occurred”"
     ]
    },
    {
     "name": "stdout",
     "output_type": "stream",
     "text": [
      "."
     ]
    },
    {
     "name": "stderr",
     "output_type": "stream",
     "text": [
      "Warning message:\n",
      "“glm.fit: fitted rates numerically 0 occurred”Warning message:\n",
      "“glm.fit: fitted rates numerically 0 occurred”Warning message:\n",
      "“glm.fit: fitted rates numerically 0 occurred”Warning message:\n",
      "“glm.fit: fitted rates numerically 0 occurred”Warning message:\n",
      "“glm.fit: fitted rates numerically 0 occurred”Warning message:\n",
      "“glm.fit: fitted rates numerically 0 occurred”"
     ]
    },
    {
     "name": "stdout",
     "output_type": "stream",
     "text": [
      "."
     ]
    },
    {
     "name": "stderr",
     "output_type": "stream",
     "text": [
      "Warning message:\n",
      "“glm.fit: fitted rates numerically 0 occurred”Warning message:\n",
      "“glm.fit: fitted rates numerically 0 occurred”"
     ]
    },
    {
     "name": "stdout",
     "output_type": "stream",
     "text": [
      "."
     ]
    },
    {
     "name": "stderr",
     "output_type": "stream",
     "text": [
      "Warning message:\n",
      "“glm.fit: fitted rates numerically 0 occurred”Warning message:\n",
      "“glm.fit: fitted rates numerically 0 occurred”Warning message:\n",
      "“glm.fit: fitted rates numerically 0 occurred”Warning message:\n",
      "“glm.fit: fitted rates numerically 0 occurred”Warning message:\n",
      "“glm.fit: fitted rates numerically 0 occurred”Warning message:\n",
      "“glm.fit: fitted rates numerically 0 occurred”Warning message:\n",
      "“glm.fit: fitted rates numerically 0 occurred”Warning message:\n",
      "“glm.fit: fitted rates numerically 0 occurred”Warning message:\n",
      "“glm.fit: fitted rates numerically 0 occurred”Warning message:\n",
      "“glm.fit: fitted rates numerically 0 occurred”Warning message:\n",
      "“glm.fit: fitted rates numerically 0 occurred”"
     ]
    },
    {
     "name": "stdout",
     "output_type": "stream",
     "text": [
      "."
     ]
    },
    {
     "name": "stderr",
     "output_type": "stream",
     "text": [
      "Warning message:\n",
      "“glm.fit: fitted rates numerically 0 occurred”Warning message:\n",
      "“glm.fit: fitted rates numerically 0 occurred”Warning message:\n",
      "“glm.fit: fitted rates numerically 0 occurred”"
     ]
    },
    {
     "name": "stdout",
     "output_type": "stream",
     "text": [
      "."
     ]
    },
    {
     "name": "stderr",
     "output_type": "stream",
     "text": [
      "Warning message:\n",
      "“glm.fit: fitted rates numerically 0 occurred”Warning message:\n",
      "“glm.fit: fitted rates numerically 0 occurred”Warning message:\n",
      "“glm.fit: fitted rates numerically 0 occurred”Warning message:\n",
      "“glm.fit: fitted rates numerically 0 occurred”Warning message:\n",
      "“glm.fit: fitted rates numerically 0 occurred”"
     ]
    },
    {
     "name": "stdout",
     "output_type": "stream",
     "text": [
      ".."
     ]
    },
    {
     "name": "stderr",
     "output_type": "stream",
     "text": [
      "Warning message:\n",
      "“glm.fit: fitted rates numerically 0 occurred”Warning message:\n",
      "“glm.fit: fitted rates numerically 0 occurred”"
     ]
    },
    {
     "name": "stdout",
     "output_type": "stream",
     "text": [
      "."
     ]
    },
    {
     "name": "stderr",
     "output_type": "stream",
     "text": [
      "Warning message:\n",
      "“glm.fit: fitted rates numerically 0 occurred”Warning message:\n",
      "“glm.fit: fitted rates numerically 0 occurred”Warning message:\n",
      "“glm.fit: fitted rates numerically 0 occurred”Warning message:\n",
      "“glm.fit: fitted rates numerically 0 occurred”Warning message:\n",
      "“glm.fit: fitted rates numerically 0 occurred”"
     ]
    },
    {
     "name": "stdout",
     "output_type": "stream",
     "text": [
      "."
     ]
    },
    {
     "name": "stderr",
     "output_type": "stream",
     "text": [
      "Warning message:\n",
      "“glm.fit: fitted rates numerically 0 occurred”Warning message:\n",
      "“glm.fit: fitted rates numerically 0 occurred”Warning message:\n",
      "“glm.fit: fitted rates numerically 0 occurred”Warning message:\n",
      "“glm.fit: fitted rates numerically 0 occurred”Warning message:\n",
      "“glm.fit: fitted rates numerically 0 occurred”Warning message:\n",
      "“glm.fit: fitted rates numerically 0 occurred”Warning message:\n",
      "“glm.fit: fitted rates numerically 0 occurred”Warning message:\n",
      "“glm.fit: fitted rates numerically 0 occurred”Warning message:\n",
      "“glm.fit: fitted rates numerically 0 occurred”Warning message:\n",
      "“glm.fit: fitted rates numerically 0 occurred”Warning message:\n",
      "“glm.fit: fitted rates numerically 0 occurred”Warning message:\n",
      "“glm.fit: fitted rates numerically 0 occurred”Warning message:\n",
      "“glm.fit: fitted rates numerically 0 occurred”Warning message:\n",
      "“glm.fit: fitted rates numerically 0 occurred”Warning message:\n",
      "“glm.fit: fitted rates numerically 0 occurred”"
     ]
    },
    {
     "name": "stdout",
     "output_type": "stream",
     "text": [
      ".."
     ]
    },
    {
     "name": "stderr",
     "output_type": "stream",
     "text": [
      "Warning message:\n",
      "“glm.fit: fitted rates numerically 0 occurred”Warning message:\n",
      "“glm.fit: fitted rates numerically 0 occurred”Warning message:\n",
      "“glm.fit: fitted rates numerically 0 occurred”Warning message:\n",
      "“glm.fit: fitted rates numerically 0 occurred”Warning message:\n",
      "“glm.fit: fitted rates numerically 0 occurred”Warning message:\n",
      "“glm.fit: fitted rates numerically 0 occurred”Warning message:\n",
      "“glm.fit: fitted rates numerically 0 occurred”Warning message:\n",
      "“glm.fit: fitted rates numerically 0 occurred”Warning message:\n",
      "“glm.fit: fitted rates numerically 0 occurred”Warning message:\n",
      "“glm.fit: fitted rates numerically 0 occurred”"
     ]
    },
    {
     "name": "stdout",
     "output_type": "stream",
     "text": [
      ".."
     ]
    },
    {
     "name": "stderr",
     "output_type": "stream",
     "text": [
      "Warning message:\n",
      "“glm.fit: fitted rates numerically 0 occurred”Warning message:\n",
      "“glm.fit: fitted rates numerically 0 occurred”"
     ]
    },
    {
     "name": "stdout",
     "output_type": "stream",
     "text": [
      "."
     ]
    },
    {
     "name": "stderr",
     "output_type": "stream",
     "text": [
      "Warning message:\n",
      "“glm.fit: fitted rates numerically 0 occurred”Warning message:\n",
      "“glm.fit: fitted rates numerically 0 occurred”Warning message:\n",
      "“glm.fit: fitted rates numerically 0 occurred”Warning message:\n",
      "“glm.fit: fitted rates numerically 0 occurred”Warning message:\n",
      "“glm.fit: fitted rates numerically 0 occurred”Warning message:\n",
      "“glm.fit: fitted rates numerically 0 occurred”"
     ]
    },
    {
     "name": "stdout",
     "output_type": "stream",
     "text": [
      "..."
     ]
    },
    {
     "name": "stderr",
     "output_type": "stream",
     "text": [
      "Warning message:\n",
      "“glm.fit: fitted rates numerically 0 occurred”Warning message:\n",
      "“glm.fit: fitted rates numerically 0 occurred”Warning message:\n",
      "“glm.fit: fitted rates numerically 0 occurred”Warning message:\n",
      "“glm.fit: fitted rates numerically 0 occurred”Warning message:\n",
      "“glm.fit: fitted rates numerically 0 occurred”Warning message:\n",
      "“glm.fit: fitted rates numerically 0 occurred”Warning message:\n",
      "“glm.fit: fitted rates numerically 0 occurred”Warning message:\n",
      "“glm.fit: fitted rates numerically 0 occurred”"
     ]
    },
    {
     "name": "stdout",
     "output_type": "stream",
     "text": [
      "."
     ]
    },
    {
     "name": "stderr",
     "output_type": "stream",
     "text": [
      "Warning message:\n",
      "“glm.fit: fitted rates numerically 0 occurred”Warning message:\n",
      "“glm.fit: fitted rates numerically 0 occurred”Warning message:\n",
      "“glm.fit: fitted rates numerically 0 occurred”"
     ]
    },
    {
     "name": "stdout",
     "output_type": "stream",
     "text": [
      "."
     ]
    },
    {
     "name": "stderr",
     "output_type": "stream",
     "text": [
      "Warning message:\n",
      "“glm.fit: fitted rates numerically 0 occurred”"
     ]
    },
    {
     "name": "stdout",
     "output_type": "stream",
     "text": [
      ".."
     ]
    },
    {
     "name": "stderr",
     "output_type": "stream",
     "text": [
      "Warning message:\n",
      "“glm.fit: fitted rates numerically 0 occurred”Warning message:\n",
      "“glm.fit: fitted rates numerically 0 occurred”Warning message:\n",
      "“glm.fit: fitted rates numerically 0 occurred”Warning message:\n",
      "“glm.fit: fitted rates numerically 0 occurred”Warning message:\n",
      "“glm.fit: fitted rates numerically 0 occurred”Warning message:\n",
      "“glm.fit: fitted rates numerically 0 occurred”Warning message:\n",
      "“glm.fit: fitted rates numerically 0 occurred”Warning message:\n",
      "“glm.fit: fitted rates numerically 0 occurred”Warning message:\n",
      "“glm.fit: fitted rates numerically 0 occurred”Warning message:\n",
      "“glm.fit: fitted rates numerically 0 occurred”Warning message:\n",
      "“glm.fit: fitted rates numerically 0 occurred”Warning message:\n",
      "“glm.fit: fitted rates numerically 0 occurred”Warning message:\n",
      "“glm.fit: fitted rates numerically 0 occurred”Warning message:\n",
      "“glm.fit: fitted rates numerically 0 occurred”Warning message:\n",
      "“glm.fit: fitted rates numerically 0 occurred”Warning message:\n",
      "“glm.fit: fitted rates numerically 0 occurred”Warning message:\n",
      "“glm.fit: fitted rates numerically 0 occurred”Warning message:\n",
      "“glm.fit: fitted rates numerically 0 occurred”Warning message:\n",
      "“glm.fit: fitted rates numerically 0 occurred”Warning message:\n",
      "“glm.fit: fitted rates numerically 0 occurred”Warning message:\n",
      "“glm.fit: fitted rates numerically 0 occurred”Warning message:\n",
      "“glm.fit: fitted rates numerically 0 occurred”"
     ]
    },
    {
     "name": "stdout",
     "output_type": "stream",
     "text": [
      "."
     ]
    },
    {
     "name": "stderr",
     "output_type": "stream",
     "text": [
      "Warning message:\n",
      "“glm.fit: fitted rates numerically 0 occurred”Warning message:\n",
      "“glm.fit: fitted rates numerically 0 occurred”Warning message:\n",
      "“glm.fit: fitted rates numerically 0 occurred”"
     ]
    },
    {
     "name": "stdout",
     "output_type": "stream",
     "text": [
      "."
     ]
    },
    {
     "name": "stderr",
     "output_type": "stream",
     "text": [
      "Warning message:\n",
      "“glm.fit: fitted rates numerically 0 occurred”Warning message:\n",
      "“glm.fit: fitted rates numerically 0 occurred”Warning message:\n",
      "“glm.fit: fitted rates numerically 0 occurred”"
     ]
    },
    {
     "name": "stdout",
     "output_type": "stream",
     "text": [
      "."
     ]
    },
    {
     "name": "stderr",
     "output_type": "stream",
     "text": [
      "Warning message:\n",
      "“glm.fit: fitted rates numerically 0 occurred”Warning message:\n",
      "“glm.fit: fitted rates numerically 0 occurred”"
     ]
    },
    {
     "name": "stdout",
     "output_type": "stream",
     "text": [
      "."
     ]
    },
    {
     "name": "stderr",
     "output_type": "stream",
     "text": [
      "Warning message:\n",
      "“glm.fit: fitted rates numerically 0 occurred”Warning message:\n",
      "“glm.fit: fitted rates numerically 0 occurred”"
     ]
    },
    {
     "name": "stdout",
     "output_type": "stream",
     "text": [
      "..."
     ]
    },
    {
     "name": "stderr",
     "output_type": "stream",
     "text": [
      "Warning message:\n",
      "“glm.fit: algorithm did not converge”Warning message:\n",
      "“glm.fit: algorithm did not converge”Warning message:\n",
      "“glm.fit: algorithm did not converge”Warning message:\n",
      "“glm.fit: algorithm did not converge”Warning message:\n",
      "“glm.fit: algorithm did not converge”Warning message:\n",
      "“glm.fit: algorithm did not converge”"
     ]
    },
    {
     "name": "stdout",
     "output_type": "stream",
     "text": [
      "."
     ]
    },
    {
     "name": "stderr",
     "output_type": "stream",
     "text": [
      "Warning message:\n",
      "“glm.fit: fitted rates numerically 0 occurred”"
     ]
    },
    {
     "name": "stdout",
     "output_type": "stream",
     "text": [
      "."
     ]
    },
    {
     "name": "stderr",
     "output_type": "stream",
     "text": [
      "Warning message:\n",
      "“glm.fit: fitted rates numerically 0 occurred”Warning message:\n",
      "“glm.fit: fitted rates numerically 0 occurred”Warning message:\n",
      "“glm.fit: fitted rates numerically 0 occurred”"
     ]
    },
    {
     "name": "stdout",
     "output_type": "stream",
     "text": [
      "..."
     ]
    },
    {
     "name": "stderr",
     "output_type": "stream",
     "text": [
      "Warning message:\n",
      "“glm.fit: fitted rates numerically 0 occurred”Warning message:\n",
      "“glm.fit: fitted rates numerically 0 occurred”"
     ]
    },
    {
     "name": "stdout",
     "output_type": "stream",
     "text": [
      "."
     ]
    },
    {
     "name": "stderr",
     "output_type": "stream",
     "text": [
      "Warning message:\n",
      "“glm.fit: fitted rates numerically 0 occurred”Warning message:\n",
      "“glm.fit: fitted rates numerically 0 occurred”Warning message:\n",
      "“glm.fit: fitted rates numerically 0 occurred”Warning message:\n",
      "“glm.fit: fitted rates numerically 0 occurred”Warning message:\n",
      "“glm.fit: fitted rates numerically 0 occurred”Warning message:\n",
      "“glm.fit: fitted rates numerically 0 occurred”Warning message:\n",
      "“glm.fit: fitted rates numerically 0 occurred”Warning message:\n",
      "“glm.fit: fitted rates numerically 0 occurred”Warning message:\n",
      "“glm.fit: fitted rates numerically 0 occurred”Warning message:\n",
      "“glm.fit: fitted rates numerically 0 occurred”"
     ]
    },
    {
     "name": "stdout",
     "output_type": "stream",
     "text": [
      "."
     ]
    },
    {
     "name": "stderr",
     "output_type": "stream",
     "text": [
      "Warning message:\n",
      "“glm.fit: fitted rates numerically 0 occurred”Warning message:\n",
      "“glm.fit: fitted rates numerically 0 occurred”Warning message:\n",
      "“glm.fit: fitted rates numerically 0 occurred”"
     ]
    },
    {
     "name": "stdout",
     "output_type": "stream",
     "text": [
      ".."
     ]
    },
    {
     "name": "stderr",
     "output_type": "stream",
     "text": [
      "Warning message:\n",
      "“glm.fit: fitted rates numerically 0 occurred”Warning message:\n",
      "“glm.fit: fitted rates numerically 0 occurred”Warning message:\n",
      "“glm.fit: fitted rates numerically 0 occurred”"
     ]
    },
    {
     "name": "stdout",
     "output_type": "stream",
     "text": [
      "."
     ]
    },
    {
     "name": "stderr",
     "output_type": "stream",
     "text": [
      "Warning message:\n",
      "“glm.fit: fitted rates numerically 0 occurred”Warning message:\n",
      "“glm.fit: fitted rates numerically 0 occurred”Warning message:\n",
      "“glm.fit: fitted rates numerically 0 occurred”Warning message:\n",
      "“glm.fit: fitted rates numerically 0 occurred”Warning message:\n",
      "“glm.fit: fitted rates numerically 0 occurred”Warning message:\n",
      "“glm.fit: fitted rates numerically 0 occurred”Warning message:\n",
      "“glm.fit: fitted rates numerically 0 occurred”Warning message:\n",
      "“glm.fit: fitted rates numerically 0 occurred”Warning message:\n",
      "“glm.fit: fitted rates numerically 0 occurred”Warning message:\n",
      "“glm.fit: fitted rates numerically 0 occurred”"
     ]
    },
    {
     "name": "stdout",
     "output_type": "stream",
     "text": [
      "..."
     ]
    },
    {
     "name": "stderr",
     "output_type": "stream",
     "text": [
      "Warning message:\n",
      "“glm.fit: fitted rates numerically 0 occurred”Warning message:\n",
      "“glm.fit: fitted rates numerically 0 occurred”"
     ]
    },
    {
     "name": "stdout",
     "output_type": "stream",
     "text": [
      ".."
     ]
    },
    {
     "name": "stderr",
     "output_type": "stream",
     "text": [
      "Warning message:\n",
      "“glm.fit: fitted rates numerically 0 occurred”Warning message:\n",
      "“glm.fit: fitted rates numerically 0 occurred”Warning message:\n",
      "“glm.fit: fitted rates numerically 0 occurred”Warning message:\n",
      "“glm.fit: fitted rates numerically 0 occurred”Warning message:\n",
      "“glm.fit: fitted rates numerically 0 occurred”Warning message:\n",
      "“glm.fit: fitted rates numerically 0 occurred”Warning message:\n",
      "“glm.fit: fitted rates numerically 0 occurred”Warning message:\n",
      "“glm.fit: fitted rates numerically 0 occurred”Warning message:\n",
      "“glm.fit: fitted rates numerically 0 occurred”Warning message:\n",
      "“glm.fit: fitted rates numerically 0 occurred”Warning message:\n",
      "“glm.fit: fitted rates numerically 0 occurred”"
     ]
    },
    {
     "name": "stdout",
     "output_type": "stream",
     "text": [
      "."
     ]
    },
    {
     "name": "stderr",
     "output_type": "stream",
     "text": [
      "Warning message:\n",
      "“glm.fit: fitted rates numerically 0 occurred”"
     ]
    },
    {
     "name": "stdout",
     "output_type": "stream",
     "text": [
      "."
     ]
    },
    {
     "name": "stderr",
     "output_type": "stream",
     "text": [
      "Warning message:\n",
      "“glm.fit: fitted rates numerically 0 occurred”Warning message:\n",
      "“glm.fit: fitted rates numerically 0 occurred”Warning message:\n",
      "“glm.fit: fitted rates numerically 0 occurred”Warning message:\n",
      "“glm.fit: fitted rates numerically 0 occurred”Warning message:\n",
      "“glm.fit: fitted rates numerically 0 occurred”Warning message:\n",
      "“glm.fit: fitted rates numerically 0 occurred”Warning message:\n",
      "“glm.fit: fitted rates numerically 0 occurred”Warning message:\n",
      "“glm.fit: fitted rates numerically 0 occurred”Warning message:\n",
      "“glm.fit: fitted rates numerically 0 occurred”Warning message:\n",
      "“glm.fit: fitted rates numerically 0 occurred”Warning message:\n",
      "“glm.fit: fitted rates numerically 0 occurred”Warning message:\n",
      "“glm.fit: fitted rates numerically 0 occurred”Warning message:\n",
      "“glm.fit: fitted rates numerically 0 occurred”Warning message:\n",
      "“glm.fit: fitted rates numerically 0 occurred”Warning message:\n",
      "“glm.fit: fitted rates numerically 0 occurred”Warning message:\n",
      "“glm.fit: fitted rates numerically 0 occurred”Warning message:\n",
      "“glm.fit: fitted rates numerically 0 occurred”Warning message:\n",
      "“glm.fit: fitted rates numerically 0 occurred”Warning message:\n",
      "“glm.fit: fitted rates numerically 0 occurred”Warning message:\n",
      "“glm.fit: fitted rates numerically 0 occurred”Warning message:\n",
      "“glm.fit: fitted rates numerically 0 occurred”Warning message:\n",
      "“glm.fit: fitted rates numerically 0 occurred”Warning message:\n",
      "“glm.fit: fitted rates numerically 0 occurred”Warning message:\n",
      "“glm.fit: fitted rates numerically 0 occurred”Warning message:\n",
      "“glm.fit: fitted rates numerically 0 occurred”Warning message:\n",
      "“glm.fit: fitted rates numerically 0 occurred”Warning message:\n",
      "“glm.fit: fitted rates numerically 0 occurred”Warning message:\n",
      "“glm.fit: fitted rates numerically 0 occurred”Warning message:\n",
      "“glm.fit: fitted rates numerically 0 occurred”Warning message:\n",
      "“glm.fit: fitted rates numerically 0 occurred”Warning message:\n",
      "“glm.fit: fitted rates numerically 0 occurred”Warning message:\n",
      "“glm.fit: fitted rates numerically 0 occurred”Warning message:\n",
      "“glm.fit: fitted rates numerically 0 occurred”Warning message:\n",
      "“glm.fit: fitted rates numerically 0 occurred”"
     ]
    },
    {
     "name": "stdout",
     "output_type": "stream",
     "text": [
      "."
     ]
    },
    {
     "name": "stderr",
     "output_type": "stream",
     "text": [
      "Warning message:\n",
      "“glm.fit: fitted rates numerically 0 occurred”Warning message:\n",
      "“glm.fit: fitted rates numerically 0 occurred”Warning message:\n",
      "“glm.fit: fitted rates numerically 0 occurred”Warning message:\n",
      "“glm.fit: fitted rates numerically 0 occurred”Warning message:\n",
      "“glm.fit: fitted rates numerically 0 occurred”"
     ]
    },
    {
     "name": "stdout",
     "output_type": "stream",
     "text": [
      "..."
     ]
    },
    {
     "name": "stderr",
     "output_type": "stream",
     "text": [
      "Warning message:\n",
      "“glm.fit: fitted rates numerically 0 occurred”Warning message:\n",
      "“glm.fit: fitted rates numerically 0 occurred”Warning message:\n",
      "“glm.fit: fitted rates numerically 0 occurred”Warning message:\n",
      "“glm.fit: fitted rates numerically 0 occurred”"
     ]
    },
    {
     "name": "stdout",
     "output_type": "stream",
     "text": [
      ".."
     ]
    },
    {
     "name": "stderr",
     "output_type": "stream",
     "text": [
      "Warning message:\n",
      "“glm.fit: fitted rates numerically 0 occurred”Warning message:\n",
      "“glm.fit: fitted rates numerically 0 occurred”Warning message:\n",
      "“glm.fit: fitted rates numerically 0 occurred”Warning message:\n",
      "“glm.fit: fitted rates numerically 0 occurred”Warning message:\n",
      "“glm.fit: fitted rates numerically 0 occurred”Warning message:\n",
      "“glm.fit: fitted rates numerically 0 occurred”Warning message:\n",
      "“glm.fit: fitted rates numerically 0 occurred”Warning message:\n",
      "“glm.fit: fitted rates numerically 0 occurred”Warning message:\n",
      "“glm.fit: fitted rates numerically 0 occurred”Warning message:\n",
      "“glm.fit: fitted rates numerically 0 occurred”Warning message:\n",
      "“glm.fit: fitted rates numerically 0 occurred”Warning message:\n",
      "“glm.fit: fitted rates numerically 0 occurred”Warning message:\n",
      "“glm.fit: fitted rates numerically 0 occurred”"
     ]
    },
    {
     "name": "stdout",
     "output_type": "stream",
     "text": [
      "."
     ]
    },
    {
     "name": "stderr",
     "output_type": "stream",
     "text": [
      "Warning message:\n",
      "“glm.fit: fitted rates numerically 0 occurred”Warning message:\n",
      "“glm.fit: fitted rates numerically 0 occurred”Warning message:\n",
      "“glm.fit: fitted rates numerically 0 occurred”Warning message:\n",
      "“glm.fit: fitted rates numerically 0 occurred”Warning message:\n",
      "“glm.fit: fitted rates numerically 0 occurred”"
     ]
    },
    {
     "name": "stdout",
     "output_type": "stream",
     "text": [
      "..."
     ]
    },
    {
     "name": "stderr",
     "output_type": "stream",
     "text": [
      "Warning message:\n",
      "“glm.fit: fitted rates numerically 0 occurred”Warning message:\n",
      "“glm.fit: fitted rates numerically 0 occurred”"
     ]
    },
    {
     "name": "stdout",
     "output_type": "stream",
     "text": [
      "."
     ]
    },
    {
     "name": "stderr",
     "output_type": "stream",
     "text": [
      "Warning message:\n",
      "“glm.fit: fitted rates numerically 0 occurred”Warning message:\n",
      "“glm.fit: fitted rates numerically 0 occurred”"
     ]
    },
    {
     "name": "stdout",
     "output_type": "stream",
     "text": [
      ".."
     ]
    },
    {
     "name": "stderr",
     "output_type": "stream",
     "text": [
      "Warning message:\n",
      "“glm.fit: fitted rates numerically 0 occurred”Warning message:\n",
      "“glm.fit: fitted rates numerically 0 occurred”"
     ]
    },
    {
     "name": "stdout",
     "output_type": "stream",
     "text": [
      "..."
     ]
    },
    {
     "name": "stderr",
     "output_type": "stream",
     "text": [
      "Warning message:\n",
      "“glm.fit: fitted rates numerically 0 occurred”Warning message:\n",
      "“glm.fit: fitted rates numerically 0 occurred”"
     ]
    },
    {
     "name": "stdout",
     "output_type": "stream",
     "text": [
      "."
     ]
    },
    {
     "name": "stderr",
     "output_type": "stream",
     "text": [
      "Warning message:\n",
      "“glm.fit: fitted rates numerically 0 occurred”Warning message:\n",
      "“glm.fit: fitted rates numerically 0 occurred”Warning message:\n",
      "“glm.fit: fitted rates numerically 0 occurred”Warning message:\n",
      "“glm.fit: fitted rates numerically 0 occurred”"
     ]
    },
    {
     "name": "stdout",
     "output_type": "stream",
     "text": [
      "."
     ]
    },
    {
     "name": "stderr",
     "output_type": "stream",
     "text": [
      "Warning message:\n",
      "“glm.fit: fitted rates numerically 0 occurred”Warning message:\n",
      "“glm.fit: fitted rates numerically 0 occurred”Warning message:\n",
      "“glm.fit: fitted rates numerically 0 occurred”Warning message:\n",
      "“glm.fit: fitted rates numerically 0 occurred”Warning message:\n",
      "“glm.fit: fitted rates numerically 0 occurred”Warning message:\n",
      "“glm.fit: fitted rates numerically 0 occurred”Warning message:\n",
      "“glm.fit: fitted rates numerically 0 occurred”"
     ]
    },
    {
     "name": "stdout",
     "output_type": "stream",
     "text": [
      "."
     ]
    },
    {
     "name": "stderr",
     "output_type": "stream",
     "text": [
      "Warning message:\n",
      "“glm.fit: fitted rates numerically 0 occurred”Warning message:\n",
      "“glm.fit: fitted rates numerically 0 occurred”"
     ]
    },
    {
     "name": "stdout",
     "output_type": "stream",
     "text": [
      ".."
     ]
    },
    {
     "name": "stderr",
     "output_type": "stream",
     "text": [
      "Warning message:\n",
      "“glm.fit: fitted rates numerically 0 occurred”Warning message:\n",
      "“glm.fit: fitted rates numerically 0 occurred”Warning message:\n",
      "“glm.fit: fitted rates numerically 0 occurred”Warning message:\n",
      "“glm.fit: fitted rates numerically 0 occurred”Warning message:\n",
      "“glm.fit: fitted rates numerically 0 occurred”Warning message:\n",
      "“glm.fit: fitted rates numerically 0 occurred”Warning message:\n",
      "“glm.fit: fitted rates numerically 0 occurred”Warning message:\n",
      "“glm.fit: fitted rates numerically 0 occurred”Warning message:\n",
      "“glm.fit: fitted rates numerically 0 occurred”"
     ]
    },
    {
     "name": "stdout",
     "output_type": "stream",
     "text": [
      "..."
     ]
    },
    {
     "name": "stderr",
     "output_type": "stream",
     "text": [
      "Warning message:\n",
      "“glm.fit: fitted rates numerically 0 occurred”Warning message:\n",
      "“glm.fit: fitted rates numerically 0 occurred”Warning message:\n",
      "“glm.fit: fitted rates numerically 0 occurred”Warning message:\n",
      "“glm.fit: fitted rates numerically 0 occurred”Warning message:\n",
      "“glm.fit: fitted rates numerically 0 occurred”Warning message:\n",
      "“glm.fit: fitted rates numerically 0 occurred”Warning message:\n",
      "“glm.fit: fitted rates numerically 0 occurred”Warning message:\n",
      "“glm.fit: fitted rates numerically 0 occurred”Warning message:\n",
      "“glm.fit: fitted rates numerically 0 occurred”"
     ]
    },
    {
     "name": "stdout",
     "output_type": "stream",
     "text": [
      "."
     ]
    },
    {
     "name": "stderr",
     "output_type": "stream",
     "text": [
      "Warning message:\n",
      "“glm.fit: fitted rates numerically 0 occurred”Warning message:\n",
      "“glm.fit: fitted rates numerically 0 occurred”Warning message:\n",
      "“glm.fit: fitted rates numerically 0 occurred”Warning message:\n",
      "“glm.fit: fitted rates numerically 0 occurred”Warning message:\n",
      "“glm.fit: fitted rates numerically 0 occurred”Warning message:\n",
      "“glm.fit: fitted rates numerically 0 occurred”Warning message:\n",
      "“glm.fit: fitted rates numerically 0 occurred”Warning message:\n",
      "“glm.fit: fitted rates numerically 0 occurred”Warning message:\n",
      "“glm.fit: fitted rates numerically 0 occurred”Warning message:\n",
      "“glm.fit: fitted rates numerically 0 occurred”"
     ]
    },
    {
     "name": "stdout",
     "output_type": "stream",
     "text": [
      "."
     ]
    },
    {
     "name": "stderr",
     "output_type": "stream",
     "text": [
      "Warning message:\n",
      "“glm.fit: fitted rates numerically 0 occurred”Warning message:\n",
      "“glm.fit: fitted rates numerically 0 occurred”Warning message:\n",
      "“glm.fit: fitted rates numerically 0 occurred”Warning message:\n",
      "“glm.fit: fitted rates numerically 0 occurred”Warning message:\n",
      "“glm.fit: fitted rates numerically 0 occurred”Warning message:\n",
      "“glm.fit: fitted rates numerically 0 occurred”Warning message:\n",
      "“glm.fit: fitted rates numerically 0 occurred”Warning message:\n",
      "“glm.fit: fitted rates numerically 0 occurred”Warning message:\n",
      "“glm.fit: fitted rates numerically 0 occurred”Warning message:\n",
      "“glm.fit: fitted rates numerically 0 occurred”Warning message:\n",
      "“glm.fit: fitted rates numerically 0 occurred”Warning message:\n",
      "“glm.fit: fitted rates numerically 0 occurred”Warning message:\n",
      "“glm.fit: fitted rates numerically 0 occurred”Warning message:\n",
      "“glm.fit: fitted rates numerically 0 occurred”"
     ]
    },
    {
     "name": "stdout",
     "output_type": "stream",
     "text": [
      "."
     ]
    },
    {
     "name": "stderr",
     "output_type": "stream",
     "text": [
      "Warning message:\n",
      "“glm.fit: fitted rates numerically 0 occurred”Warning message:\n",
      "“glm.fit: fitted rates numerically 0 occurred”Warning message:\n",
      "“glm.fit: fitted rates numerically 0 occurred”Warning message:\n",
      "“glm.fit: fitted rates numerically 0 occurred”Warning message:\n",
      "“glm.fit: fitted rates numerically 0 occurred”Warning message:\n",
      "“glm.fit: fitted rates numerically 0 occurred”Warning message:\n",
      "“glm.fit: fitted rates numerically 0 occurred”Warning message:\n",
      "“glm.fit: fitted rates numerically 0 occurred”Warning message:\n",
      "“glm.fit: fitted rates numerically 0 occurred”"
     ]
    },
    {
     "name": "stdout",
     "output_type": "stream",
     "text": [
      "."
     ]
    },
    {
     "name": "stderr",
     "output_type": "stream",
     "text": [
      "Warning message:\n",
      "“glm.fit: fitted rates numerically 0 occurred”Warning message:\n",
      "“glm.fit: fitted rates numerically 0 occurred”Warning message:\n",
      "“glm.fit: fitted rates numerically 0 occurred”Warning message:\n",
      "“glm.fit: fitted rates numerically 0 occurred”"
     ]
    },
    {
     "name": "stdout",
     "output_type": "stream",
     "text": [
      "...."
     ]
    },
    {
     "name": "stderr",
     "output_type": "stream",
     "text": [
      "Warning message:\n",
      "“glm.fit: fitted rates numerically 0 occurred”"
     ]
    },
    {
     "name": "stdout",
     "output_type": "stream",
     "text": [
      ".."
     ]
    },
    {
     "name": "stderr",
     "output_type": "stream",
     "text": [
      "Warning message:\n",
      "“glm.fit: fitted rates numerically 0 occurred”Warning message:\n",
      "“glm.fit: fitted rates numerically 0 occurred”"
     ]
    },
    {
     "name": "stdout",
     "output_type": "stream",
     "text": [
      "."
     ]
    },
    {
     "name": "stderr",
     "output_type": "stream",
     "text": [
      "Warning message:\n",
      "“glm.fit: fitted rates numerically 0 occurred”Warning message:\n",
      "“glm.fit: fitted rates numerically 0 occurred”Warning message:\n",
      "“glm.fit: fitted rates numerically 0 occurred”Warning message:\n",
      "“glm.fit: fitted rates numerically 0 occurred”Warning message:\n",
      "“glm.fit: fitted rates numerically 0 occurred”Warning message:\n",
      "“glm.fit: fitted rates numerically 0 occurred”Warning message:\n",
      "“glm.fit: fitted rates numerically 0 occurred”Warning message:\n",
      "“glm.fit: fitted rates numerically 0 occurred”Warning message:\n",
      "“glm.fit: fitted rates numerically 0 occurred”Warning message:\n",
      "“glm.fit: fitted rates numerically 0 occurred”"
     ]
    },
    {
     "name": "stdout",
     "output_type": "stream",
     "text": [
      "."
     ]
    },
    {
     "name": "stderr",
     "output_type": "stream",
     "text": [
      "Warning message:\n",
      "“glm.fit: fitted rates numerically 0 occurred”Warning message:\n",
      "“glm.fit: fitted rates numerically 0 occurred”"
     ]
    },
    {
     "name": "stdout",
     "output_type": "stream",
     "text": [
      "."
     ]
    },
    {
     "name": "stderr",
     "output_type": "stream",
     "text": [
      "Warning message:\n",
      "“glm.fit: fitted rates numerically 0 occurred”Warning message:\n",
      "“glm.fit: fitted rates numerically 0 occurred”"
     ]
    },
    {
     "name": "stdout",
     "output_type": "stream",
     "text": [
      ".."
     ]
    },
    {
     "name": "stderr",
     "output_type": "stream",
     "text": [
      "Warning message:\n",
      "“glm.fit: fitted rates numerically 0 occurred”Warning message:\n",
      "“glm.fit: fitted rates numerically 0 occurred”"
     ]
    },
    {
     "name": "stdout",
     "output_type": "stream",
     "text": [
      "."
     ]
    },
    {
     "name": "stderr",
     "output_type": "stream",
     "text": [
      "Warning message:\n",
      "“glm.fit: fitted rates numerically 0 occurred”Warning message:\n",
      "“glm.fit: fitted rates numerically 0 occurred”Warning message:\n",
      "“glm.fit: fitted rates numerically 0 occurred”Warning message:\n",
      "“glm.fit: fitted rates numerically 0 occurred”Warning message:\n",
      "“glm.fit: fitted rates numerically 0 occurred”Warning message:\n",
      "“glm.fit: fitted rates numerically 0 occurred”Warning message:\n",
      "“glm.fit: fitted rates numerically 0 occurred”Warning message:\n",
      "“glm.fit: fitted rates numerically 0 occurred”Warning message:\n",
      "“glm.fit: fitted rates numerically 0 occurred”Warning message:\n",
      "“glm.fit: fitted rates numerically 0 occurred”Warning message:\n",
      "“glm.fit: fitted rates numerically 0 occurred”Warning message:\n",
      "“glm.fit: fitted rates numerically 0 occurred”Warning message:\n",
      "“glm.fit: fitted rates numerically 0 occurred”Warning message:\n",
      "“glm.fit: fitted rates numerically 0 occurred”Warning message:\n",
      "“glm.fit: fitted rates numerically 0 occurred”Warning message:\n",
      "“glm.fit: fitted rates numerically 0 occurred”Warning message:\n",
      "“glm.fit: fitted rates numerically 0 occurred”Warning message:\n",
      "“glm.fit: fitted rates numerically 0 occurred”Warning message:\n",
      "“glm.fit: fitted rates numerically 0 occurred”Warning message:\n",
      "“glm.fit: fitted rates numerically 0 occurred”Warning message:\n",
      "“glm.fit: fitted rates numerically 0 occurred”"
     ]
    },
    {
     "name": "stdout",
     "output_type": "stream",
     "text": [
      "."
     ]
    },
    {
     "name": "stderr",
     "output_type": "stream",
     "text": [
      "Warning message:\n",
      "“glm.fit: fitted rates numerically 0 occurred”Warning message:\n",
      "“glm.fit: fitted rates numerically 0 occurred”Warning message:\n",
      "“glm.fit: fitted rates numerically 0 occurred”Warning message:\n",
      "“glm.fit: fitted rates numerically 0 occurred”Warning message:\n",
      "“glm.fit: fitted rates numerically 0 occurred”Warning message:\n",
      "“glm.fit: fitted rates numerically 0 occurred”Warning message:\n",
      "“glm.fit: fitted rates numerically 0 occurred”Warning message:\n",
      "“glm.fit: fitted rates numerically 0 occurred”Warning message:\n",
      "“glm.fit: fitted rates numerically 0 occurred”Warning message:\n",
      "“glm.fit: fitted rates numerically 0 occurred”"
     ]
    },
    {
     "name": "stdout",
     "output_type": "stream",
     "text": [
      ".."
     ]
    },
    {
     "name": "stderr",
     "output_type": "stream",
     "text": [
      "Warning message:\n",
      "“glm.fit: fitted rates numerically 0 occurred”Warning message:\n",
      "“glm.fit: fitted rates numerically 0 occurred”Warning message:\n",
      "“glm.fit: fitted rates numerically 0 occurred”"
     ]
    },
    {
     "name": "stdout",
     "output_type": "stream",
     "text": [
      "."
     ]
    },
    {
     "name": "stderr",
     "output_type": "stream",
     "text": [
      "Warning message:\n",
      "“glm.fit: fitted rates numerically 0 occurred”Warning message:\n",
      "“glm.fit: fitted rates numerically 0 occurred”Warning message:\n",
      "“glm.fit: fitted rates numerically 0 occurred”Warning message:\n",
      "“glm.fit: fitted rates numerically 0 occurred”Warning message:\n",
      "“glm.fit: fitted rates numerically 0 occurred”Warning message:\n",
      "“glm.fit: fitted rates numerically 0 occurred”Warning message:\n",
      "“glm.fit: fitted rates numerically 0 occurred”Warning message:\n",
      "“glm.fit: fitted rates numerically 0 occurred”Warning message:\n",
      "“glm.fit: fitted rates numerically 0 occurred”Warning message:\n",
      "“glm.fit: fitted rates numerically 0 occurred”Warning message:\n",
      "“glm.fit: fitted rates numerically 0 occurred”Warning message:\n",
      "“glm.fit: fitted rates numerically 0 occurred”Warning message:\n",
      "“glm.fit: fitted rates numerically 0 occurred”Warning message:\n",
      "“glm.fit: fitted rates numerically 0 occurred”Warning message:\n",
      "“glm.fit: fitted rates numerically 0 occurred”Warning message:\n",
      "“glm.fit: fitted rates numerically 0 occurred”Warning message:\n",
      "“glm.fit: fitted rates numerically 0 occurred”Warning message:\n",
      "“glm.fit: fitted rates numerically 0 occurred”Warning message:\n",
      "“glm.fit: fitted rates numerically 0 occurred”Warning message:\n",
      "“glm.fit: fitted rates numerically 0 occurred”Warning message:\n",
      "“glm.fit: fitted rates numerically 0 occurred”Warning message:\n",
      "“glm.fit: fitted rates numerically 0 occurred”Warning message:\n",
      "“glm.fit: fitted rates numerically 0 occurred”Warning message:\n",
      "“glm.fit: fitted rates numerically 0 occurred”Warning message:\n",
      "“glm.fit: fitted rates numerically 0 occurred”Warning message:\n",
      "“glm.fit: fitted rates numerically 0 occurred”Warning message:\n",
      "“glm.fit: fitted rates numerically 0 occurred”Warning message:\n",
      "“glm.fit: fitted rates numerically 0 occurred”Warning message:\n",
      "“glm.fit: fitted rates numerically 0 occurred”"
     ]
    },
    {
     "name": "stdout",
     "output_type": "stream",
     "text": [
      "."
     ]
    },
    {
     "name": "stderr",
     "output_type": "stream",
     "text": [
      "Warning message:\n",
      "“glm.fit: fitted rates numerically 0 occurred”Warning message:\n",
      "“glm.fit: fitted rates numerically 0 occurred”Warning message:\n",
      "“glm.fit: fitted rates numerically 0 occurred”Warning message:\n",
      "“glm.fit: fitted rates numerically 0 occurred”"
     ]
    },
    {
     "name": "stdout",
     "output_type": "stream",
     "text": [
      "."
     ]
    },
    {
     "name": "stderr",
     "output_type": "stream",
     "text": [
      "Warning message:\n",
      "“glm.fit: fitted rates numerically 0 occurred”Warning message:\n",
      "“glm.fit: fitted rates numerically 0 occurred”Warning message:\n",
      "“glm.fit: fitted rates numerically 0 occurred”"
     ]
    },
    {
     "name": "stdout",
     "output_type": "stream",
     "text": [
      "..."
     ]
    },
    {
     "name": "stderr",
     "output_type": "stream",
     "text": [
      "Warning message:\n",
      "“glm.fit: fitted rates numerically 0 occurred”Warning message:\n",
      "“glm.fit: fitted rates numerically 0 occurred”"
     ]
    },
    {
     "name": "stdout",
     "output_type": "stream",
     "text": [
      ".."
     ]
    },
    {
     "name": "stderr",
     "output_type": "stream",
     "text": [
      "Warning message:\n",
      "“glm.fit: fitted rates numerically 0 occurred”Warning message:\n",
      "“glm.fit: fitted rates numerically 0 occurred”Warning message:\n",
      "“glm.fit: fitted rates numerically 0 occurred”Warning message:\n",
      "“glm.fit: fitted rates numerically 0 occurred”"
     ]
    },
    {
     "name": "stdout",
     "output_type": "stream",
     "text": [
      "."
     ]
    },
    {
     "name": "stderr",
     "output_type": "stream",
     "text": [
      "Warning message:\n",
      "“glm.fit: fitted rates numerically 0 occurred”Warning message:\n",
      "“glm.fit: fitted rates numerically 0 occurred”"
     ]
    },
    {
     "name": "stdout",
     "output_type": "stream",
     "text": [
      "."
     ]
    },
    {
     "name": "stderr",
     "output_type": "stream",
     "text": [
      "Warning message:\n",
      "“glm.fit: fitted rates numerically 0 occurred”Warning message:\n",
      "“glm.fit: fitted rates numerically 0 occurred”Warning message:\n",
      "“glm.fit: fitted rates numerically 0 occurred”Warning message:\n",
      "“glm.fit: fitted rates numerically 0 occurred”Warning message:\n",
      "“glm.fit: fitted rates numerically 0 occurred”Warning message:\n",
      "“glm.fit: fitted rates numerically 0 occurred”Warning message:\n",
      "“glm.fit: fitted rates numerically 0 occurred”Warning message:\n",
      "“glm.fit: fitted rates numerically 0 occurred”Warning message:\n",
      "“glm.fit: fitted rates numerically 0 occurred”"
     ]
    },
    {
     "name": "stdout",
     "output_type": "stream",
     "text": [
      "."
     ]
    },
    {
     "name": "stderr",
     "output_type": "stream",
     "text": [
      "Warning message:\n",
      "“glm.fit: fitted rates numerically 0 occurred”Warning message:\n",
      "“glm.fit: fitted rates numerically 0 occurred”Warning message:\n",
      "“glm.fit: fitted rates numerically 0 occurred”Warning message:\n",
      "“glm.fit: fitted rates numerically 0 occurred”Warning message:\n",
      "“glm.fit: fitted rates numerically 0 occurred”Warning message:\n",
      "“glm.fit: fitted rates numerically 0 occurred”Warning message:\n",
      "“glm.fit: fitted rates numerically 0 occurred”Warning message:\n",
      "“glm.fit: fitted rates numerically 0 occurred”"
     ]
    },
    {
     "name": "stdout",
     "output_type": "stream",
     "text": [
      "."
     ]
    },
    {
     "name": "stderr",
     "output_type": "stream",
     "text": [
      "Warning message:\n",
      "“glm.fit: fitted rates numerically 0 occurred”Warning message:\n",
      "“glm.fit: fitted rates numerically 0 occurred”Warning message:\n",
      "“glm.fit: fitted rates numerically 0 occurred”Warning message:\n",
      "“glm.fit: fitted rates numerically 0 occurred”"
     ]
    },
    {
     "name": "stdout",
     "output_type": "stream",
     "text": [
      "."
     ]
    },
    {
     "name": "stderr",
     "output_type": "stream",
     "text": [
      "Warning message:\n",
      "“glm.fit: fitted rates numerically 0 occurred”Warning message:\n",
      "“glm.fit: fitted rates numerically 0 occurred”"
     ]
    },
    {
     "name": "stdout",
     "output_type": "stream",
     "text": [
      "."
     ]
    },
    {
     "name": "stderr",
     "output_type": "stream",
     "text": [
      "Warning message:\n",
      "“glm.fit: fitted rates numerically 0 occurred”Warning message:\n",
      "“glm.fit: fitted rates numerically 0 occurred”Warning message:\n",
      "“glm.fit: fitted rates numerically 0 occurred”Warning message:\n",
      "“glm.fit: fitted rates numerically 0 occurred”Warning message:\n",
      "“glm.fit: fitted rates numerically 0 occurred”Warning message:\n",
      "“glm.fit: fitted rates numerically 0 occurred”"
     ]
    },
    {
     "name": "stdout",
     "output_type": "stream",
     "text": [
      "."
     ]
    },
    {
     "name": "stderr",
     "output_type": "stream",
     "text": [
      "Warning message:\n",
      "“glm.fit: fitted rates numerically 0 occurred”Warning message:\n",
      "“glm.fit: fitted rates numerically 0 occurred”Warning message:\n",
      "“glm.fit: fitted rates numerically 0 occurred”Warning message:\n",
      "“glm.fit: fitted rates numerically 0 occurred”Warning message:\n",
      "“glm.fit: fitted rates numerically 0 occurred”Warning message:\n",
      "“glm.fit: fitted rates numerically 0 occurred”Warning message:\n",
      "“glm.fit: fitted rates numerically 0 occurred”"
     ]
    },
    {
     "name": "stdout",
     "output_type": "stream",
     "text": [
      "....."
     ]
    },
    {
     "name": "stderr",
     "output_type": "stream",
     "text": [
      "Warning message:\n",
      "“glm.fit: fitted rates numerically 0 occurred”Warning message:\n",
      "“glm.fit: fitted rates numerically 0 occurred”Warning message:\n",
      "“glm.fit: fitted rates numerically 0 occurred”Warning message:\n",
      "“glm.fit: fitted rates numerically 0 occurred”Warning message:\n",
      "“glm.fit: fitted rates numerically 0 occurred”"
     ]
    },
    {
     "name": "stdout",
     "output_type": "stream",
     "text": [
      "."
     ]
    },
    {
     "name": "stderr",
     "output_type": "stream",
     "text": [
      "Warning message:\n",
      "“glm.fit: fitted rates numerically 0 occurred”Warning message:\n",
      "“glm.fit: fitted rates numerically 0 occurred”Warning message:\n",
      "“glm.fit: fitted rates numerically 0 occurred”Warning message:\n",
      "“glm.fit: fitted rates numerically 0 occurred”Warning message:\n",
      "“glm.fit: fitted rates numerically 0 occurred”Warning message:\n",
      "“glm.fit: fitted rates numerically 0 occurred”Warning message:\n",
      "“glm.fit: fitted rates numerically 0 occurred”Warning message:\n",
      "“glm.fit: fitted rates numerically 0 occurred”Warning message:\n",
      "“glm.fit: fitted rates numerically 0 occurred”Warning message:\n",
      "“glm.fit: fitted rates numerically 0 occurred”Warning message:\n",
      "“glm.fit: fitted rates numerically 0 occurred”"
     ]
    },
    {
     "name": "stdout",
     "output_type": "stream",
     "text": [
      "."
     ]
    },
    {
     "name": "stderr",
     "output_type": "stream",
     "text": [
      "Warning message:\n",
      "“glm.fit: fitted rates numerically 0 occurred”"
     ]
    },
    {
     "name": "stdout",
     "output_type": "stream",
     "text": [
      "."
     ]
    },
    {
     "name": "stderr",
     "output_type": "stream",
     "text": [
      "Warning message:\n",
      "“glm.fit: fitted rates numerically 0 occurred”Warning message:\n",
      "“glm.fit: fitted rates numerically 0 occurred”Warning message:\n",
      "“glm.fit: fitted rates numerically 0 occurred”Warning message:\n",
      "“glm.fit: fitted rates numerically 0 occurred”Warning message:\n",
      "“glm.fit: fitted rates numerically 0 occurred”Warning message:\n",
      "“glm.fit: fitted rates numerically 0 occurred”Warning message:\n",
      "“glm.fit: fitted rates numerically 0 occurred”"
     ]
    },
    {
     "name": "stdout",
     "output_type": "stream",
     "text": [
      "."
     ]
    },
    {
     "name": "stderr",
     "output_type": "stream",
     "text": [
      "Warning message:\n",
      "“glm.fit: fitted rates numerically 0 occurred”"
     ]
    },
    {
     "name": "stdout",
     "output_type": "stream",
     "text": [
      "....."
     ]
    },
    {
     "name": "stderr",
     "output_type": "stream",
     "text": [
      "Warning message:\n",
      "“glm.fit: fitted rates numerically 0 occurred”Warning message:\n",
      "“glm.fit: fitted rates numerically 0 occurred”Warning message:\n",
      "“glm.fit: fitted rates numerically 0 occurred”Warning message:\n",
      "“glm.fit: fitted rates numerically 0 occurred”Warning message:\n",
      "“glm.fit: fitted rates numerically 0 occurred”Warning message:\n",
      "“glm.fit: fitted rates numerically 0 occurred”Warning message:\n",
      "“glm.fit: fitted rates numerically 0 occurred”Warning message:\n",
      "“glm.fit: fitted rates numerically 0 occurred”Warning message:\n",
      "“glm.fit: fitted rates numerically 0 occurred”Warning message:\n",
      "“glm.fit: fitted rates numerically 0 occurred”"
     ]
    },
    {
     "name": "stdout",
     "output_type": "stream",
     "text": [
      ".."
     ]
    },
    {
     "name": "stderr",
     "output_type": "stream",
     "text": [
      "Warning message:\n",
      "“glm.fit: fitted rates numerically 0 occurred”Warning message:\n",
      "“glm.fit: fitted rates numerically 0 occurred”Warning message:\n",
      "“glm.fit: fitted rates numerically 0 occurred”Warning message:\n",
      "“glm.fit: fitted rates numerically 0 occurred”Warning message:\n",
      "“glm.fit: fitted rates numerically 0 occurred”Warning message:\n",
      "“glm.fit: fitted rates numerically 0 occurred”Warning message:\n",
      "“glm.fit: fitted rates numerically 0 occurred”Warning message:\n",
      "“glm.fit: fitted rates numerically 0 occurred”Warning message:\n",
      "“glm.fit: fitted rates numerically 0 occurred”Warning message:\n",
      "“glm.fit: fitted rates numerically 0 occurred”Warning message:\n",
      "“glm.fit: fitted rates numerically 0 occurred”"
     ]
    },
    {
     "name": "stdout",
     "output_type": "stream",
     "text": [
      ".."
     ]
    },
    {
     "name": "stderr",
     "output_type": "stream",
     "text": [
      "Warning message:\n",
      "“glm.fit: fitted rates numerically 0 occurred”"
     ]
    },
    {
     "name": "stdout",
     "output_type": "stream",
     "text": [
      "."
     ]
    },
    {
     "name": "stderr",
     "output_type": "stream",
     "text": [
      "Warning message:\n",
      "“glm.fit: fitted rates numerically 0 occurred”Warning message:\n",
      "“glm.fit: fitted rates numerically 0 occurred”"
     ]
    },
    {
     "name": "stdout",
     "output_type": "stream",
     "text": [
      "."
     ]
    },
    {
     "name": "stderr",
     "output_type": "stream",
     "text": [
      "Warning message:\n",
      "“glm.fit: fitted rates numerically 0 occurred”Warning message:\n",
      "“glm.fit: fitted rates numerically 0 occurred”Warning message:\n",
      "“glm.fit: fitted rates numerically 0 occurred”"
     ]
    },
    {
     "name": "stdout",
     "output_type": "stream",
     "text": [
      "."
     ]
    },
    {
     "name": "stderr",
     "output_type": "stream",
     "text": [
      "Warning message:\n",
      "“glm.fit: fitted rates numerically 0 occurred”Warning message:\n",
      "“glm.fit: fitted rates numerically 0 occurred”Warning message:\n",
      "“glm.fit: fitted rates numerically 0 occurred”Warning message:\n",
      "“glm.fit: fitted rates numerically 0 occurred”Warning message:\n",
      "“glm.fit: fitted rates numerically 0 occurred”Warning message:\n",
      "“glm.fit: fitted rates numerically 0 occurred”Warning message:\n",
      "“glm.fit: fitted rates numerically 0 occurred”Warning message:\n",
      "“glm.fit: fitted rates numerically 0 occurred”Warning message:\n",
      "“glm.fit: fitted rates numerically 0 occurred”Warning message:\n",
      "“glm.fit: fitted rates numerically 0 occurred”Warning message:\n",
      "“glm.fit: fitted rates numerically 0 occurred”Warning message:\n",
      "“glm.fit: fitted rates numerically 0 occurred”Warning message:\n",
      "“glm.fit: fitted rates numerically 0 occurred”Warning message:\n",
      "“glm.fit: algorithm did not converge”Warning message:\n",
      "“glm.fit: fitted rates numerically 0 occurred”Warning message:\n",
      "“glm.fit: fitted rates numerically 0 occurred”Warning message:\n",
      "“glm.fit: algorithm did not converge”Warning message:\n",
      "“glm.fit: fitted rates numerically 0 occurred”Warning message:\n",
      "“glm.fit: algorithm did not converge”Warning message:\n",
      "“glm.fit: fitted rates numerically 0 occurred”Warning message:\n",
      "“glm.fit: algorithm did not converge”Warning message:\n",
      "“glm.fit: fitted rates numerically 0 occurred”Warning message:\n",
      "“glm.fit: algorithm did not converge”Warning message:\n",
      "“glm.fit: fitted rates numerically 0 occurred”"
     ]
    },
    {
     "name": "stdout",
     "output_type": "stream",
     "text": [
      "."
     ]
    },
    {
     "name": "stderr",
     "output_type": "stream",
     "text": [
      "Warning message:\n",
      "“glm.fit: fitted rates numerically 0 occurred”Warning message:\n",
      "“glm.fit: fitted rates numerically 0 occurred”"
     ]
    },
    {
     "name": "stdout",
     "output_type": "stream",
     "text": [
      ".."
     ]
    },
    {
     "name": "stderr",
     "output_type": "stream",
     "text": [
      "Warning message:\n",
      "“glm.fit: fitted rates numerically 0 occurred”Warning message:\n",
      "“glm.fit: fitted rates numerically 0 occurred”Warning message:\n",
      "“glm.fit: fitted rates numerically 0 occurred”Warning message:\n",
      "“glm.fit: fitted rates numerically 0 occurred”Warning message:\n",
      "“glm.fit: fitted rates numerically 0 occurred”Warning message:\n",
      "“glm.fit: fitted rates numerically 0 occurred”Warning message:\n",
      "“glm.fit: fitted rates numerically 0 occurred”Warning message:\n",
      "“glm.fit: fitted rates numerically 0 occurred”Warning message:\n",
      "“glm.fit: fitted rates numerically 0 occurred”Warning message:\n",
      "“glm.fit: fitted rates numerically 0 occurred”Warning message:\n",
      "“glm.fit: fitted rates numerically 0 occurred”Warning message:\n",
      "“glm.fit: fitted rates numerically 0 occurred”Warning message:\n",
      "“glm.fit: fitted rates numerically 0 occurred”Warning message:\n",
      "“glm.fit: fitted rates numerically 0 occurred”Warning message:\n",
      "“glm.fit: fitted rates numerically 0 occurred”Warning message:\n",
      "“glm.fit: fitted rates numerically 0 occurred”"
     ]
    },
    {
     "name": "stdout",
     "output_type": "stream",
     "text": [
      "."
     ]
    },
    {
     "name": "stderr",
     "output_type": "stream",
     "text": [
      "Warning message:\n",
      "“glm.fit: fitted rates numerically 0 occurred”"
     ]
    },
    {
     "name": "stdout",
     "output_type": "stream",
     "text": [
      "."
     ]
    },
    {
     "name": "stderr",
     "output_type": "stream",
     "text": [
      "Warning message:\n",
      "“glm.fit: fitted rates numerically 0 occurred”Warning message:\n",
      "“glm.fit: fitted rates numerically 0 occurred”"
     ]
    },
    {
     "name": "stdout",
     "output_type": "stream",
     "text": [
      "."
     ]
    },
    {
     "name": "stderr",
     "output_type": "stream",
     "text": [
      "Warning message:\n",
      "“glm.fit: fitted rates numerically 0 occurred”Warning message:\n",
      "“glm.fit: fitted rates numerically 0 occurred”Warning message:\n",
      "“glm.fit: fitted rates numerically 0 occurred”"
     ]
    },
    {
     "name": "stdout",
     "output_type": "stream",
     "text": [
      "."
     ]
    },
    {
     "name": "stderr",
     "output_type": "stream",
     "text": [
      "Warning message:\n",
      "“glm.fit: fitted rates numerically 0 occurred”Warning message:\n",
      "“glm.fit: fitted rates numerically 0 occurred”"
     ]
    },
    {
     "name": "stdout",
     "output_type": "stream",
     "text": [
      "."
     ]
    },
    {
     "name": "stderr",
     "output_type": "stream",
     "text": [
      "Warning message:\n",
      "“glm.fit: fitted rates numerically 0 occurred”Warning message:\n",
      "“glm.fit: fitted rates numerically 0 occurred”Warning message:\n",
      "“glm.fit: fitted rates numerically 0 occurred”Warning message:\n",
      "“glm.fit: fitted rates numerically 0 occurred”Warning message:\n",
      "“glm.fit: fitted rates numerically 0 occurred”Warning message:\n",
      "“glm.fit: fitted rates numerically 0 occurred”Warning message:\n",
      "“glm.fit: fitted rates numerically 0 occurred”Warning message:\n",
      "“glm.fit: fitted rates numerically 0 occurred”Warning message:\n",
      "“glm.fit: fitted rates numerically 0 occurred”Warning message:\n",
      "“glm.fit: fitted rates numerically 0 occurred”Warning message:\n",
      "“glm.fit: fitted rates numerically 0 occurred”Warning message:\n",
      "“glm.fit: fitted rates numerically 0 occurred”"
     ]
    },
    {
     "name": "stdout",
     "output_type": "stream",
     "text": [
      "..."
     ]
    },
    {
     "name": "stderr",
     "output_type": "stream",
     "text": [
      "Warning message:\n",
      "“glm.fit: fitted rates numerically 0 occurred”Warning message:\n",
      "“glm.fit: fitted rates numerically 0 occurred”Warning message:\n",
      "“glm.fit: fitted rates numerically 0 occurred”Warning message:\n",
      "“glm.fit: fitted rates numerically 0 occurred”Warning message:\n",
      "“glm.fit: fitted rates numerically 0 occurred”Warning message:\n",
      "“glm.fit: fitted rates numerically 0 occurred”Warning message:\n",
      "“glm.fit: fitted rates numerically 0 occurred”Warning message:\n",
      "“glm.fit: fitted rates numerically 0 occurred”Warning message:\n",
      "“glm.fit: fitted rates numerically 0 occurred”Warning message:\n",
      "“glm.fit: fitted rates numerically 0 occurred”Warning message:\n",
      "“glm.fit: fitted rates numerically 0 occurred”Warning message:\n",
      "“glm.fit: fitted rates numerically 0 occurred”Warning message:\n",
      "“glm.fit: fitted rates numerically 0 occurred”Warning message:\n",
      "“glm.fit: fitted rates numerically 0 occurred”Warning message:\n",
      "“glm.fit: fitted rates numerically 0 occurred”"
     ]
    },
    {
     "name": "stdout",
     "output_type": "stream",
     "text": [
      "."
     ]
    },
    {
     "name": "stderr",
     "output_type": "stream",
     "text": [
      "Warning message:\n",
      "“glm.fit: fitted rates numerically 0 occurred”"
     ]
    },
    {
     "name": "stdout",
     "output_type": "stream",
     "text": [
      "."
     ]
    },
    {
     "name": "stderr",
     "output_type": "stream",
     "text": [
      "Warning message:\n",
      "“glm.fit: fitted rates numerically 0 occurred”Warning message:\n",
      "“glm.fit: fitted rates numerically 0 occurred”Warning message:\n",
      "“glm.fit: fitted rates numerically 0 occurred”Warning message:\n",
      "“glm.fit: fitted rates numerically 0 occurred”Warning message:\n",
      "“glm.fit: fitted rates numerically 0 occurred”"
     ]
    },
    {
     "name": "stdout",
     "output_type": "stream",
     "text": [
      "..."
     ]
    },
    {
     "name": "stderr",
     "output_type": "stream",
     "text": [
      "Warning message:\n",
      "“glm.fit: fitted rates numerically 0 occurred”Warning message:\n",
      "“glm.fit: fitted rates numerically 0 occurred”"
     ]
    },
    {
     "name": "stdout",
     "output_type": "stream",
     "text": [
      "."
     ]
    },
    {
     "name": "stderr",
     "output_type": "stream",
     "text": [
      "Warning message:\n",
      "“glm.fit: fitted rates numerically 0 occurred”Warning message:\n",
      "“glm.fit: fitted rates numerically 0 occurred”Warning message:\n",
      "“glm.fit: fitted rates numerically 0 occurred”Warning message:\n",
      "“glm.fit: fitted rates numerically 0 occurred”Warning message:\n",
      "“glm.fit: fitted rates numerically 0 occurred”Warning message:\n",
      "“glm.fit: fitted rates numerically 0 occurred”Warning message:\n",
      "“glm.fit: fitted rates numerically 0 occurred”Warning message:\n",
      "“glm.fit: fitted rates numerically 0 occurred”Warning message:\n",
      "“glm.fit: fitted rates numerically 0 occurred”"
     ]
    },
    {
     "name": "stdout",
     "output_type": "stream",
     "text": [
      "."
     ]
    },
    {
     "name": "stderr",
     "output_type": "stream",
     "text": [
      "Warning message:\n",
      "“glm.fit: fitted rates numerically 0 occurred”Warning message:\n",
      "“glm.fit: fitted rates numerically 0 occurred”"
     ]
    },
    {
     "name": "stdout",
     "output_type": "stream",
     "text": [
      "."
     ]
    },
    {
     "name": "stderr",
     "output_type": "stream",
     "text": [
      "Warning message:\n",
      "“glm.fit: fitted rates numerically 0 occurred”Warning message:\n",
      "“glm.fit: fitted rates numerically 0 occurred”Warning message:\n",
      "“glm.fit: fitted rates numerically 0 occurred”Warning message:\n",
      "“glm.fit: fitted rates numerically 0 occurred”Warning message:\n",
      "“glm.fit: fitted rates numerically 0 occurred”Warning message:\n",
      "“glm.fit: fitted rates numerically 0 occurred”Warning message:\n",
      "“glm.fit: fitted rates numerically 0 occurred”Warning message:\n",
      "“glm.fit: fitted rates numerically 0 occurred”"
     ]
    },
    {
     "name": "stdout",
     "output_type": "stream",
     "text": [
      "."
     ]
    },
    {
     "name": "stderr",
     "output_type": "stream",
     "text": [
      "Warning message:\n",
      "“glm.fit: fitted rates numerically 0 occurred”Warning message:\n",
      "“glm.fit: fitted rates numerically 0 occurred”"
     ]
    },
    {
     "name": "stdout",
     "output_type": "stream",
     "text": [
      "."
     ]
    },
    {
     "name": "stderr",
     "output_type": "stream",
     "text": [
      "Warning message:\n",
      "“glm.fit: fitted rates numerically 0 occurred”Warning message:\n",
      "“glm.fit: fitted rates numerically 0 occurred”Warning message:\n",
      "“glm.fit: fitted rates numerically 0 occurred”"
     ]
    },
    {
     "name": "stdout",
     "output_type": "stream",
     "text": [
      "."
     ]
    },
    {
     "name": "stderr",
     "output_type": "stream",
     "text": [
      "Warning message:\n",
      "“glm.fit: fitted rates numerically 0 occurred”Warning message:\n",
      "“glm.fit: fitted rates numerically 0 occurred”Warning message:\n",
      "“glm.fit: fitted rates numerically 0 occurred”Warning message:\n",
      "“glm.fit: fitted rates numerically 0 occurred”"
     ]
    },
    {
     "name": "stdout",
     "output_type": "stream",
     "text": [
      ".."
     ]
    },
    {
     "name": "stderr",
     "output_type": "stream",
     "text": [
      "Warning message:\n",
      "“glm.fit: fitted rates numerically 0 occurred”Warning message:\n",
      "“glm.fit: fitted rates numerically 0 occurred”"
     ]
    },
    {
     "name": "stdout",
     "output_type": "stream",
     "text": [
      ".."
     ]
    },
    {
     "name": "stderr",
     "output_type": "stream",
     "text": [
      "Warning message:\n",
      "“glm.fit: fitted rates numerically 0 occurred”Warning message:\n",
      "“glm.fit: fitted rates numerically 0 occurred”Warning message:\n",
      "“glm.fit: fitted rates numerically 0 occurred”Warning message:\n",
      "“glm.fit: fitted rates numerically 0 occurred”Warning message:\n",
      "“glm.fit: fitted rates numerically 0 occurred”Warning message:\n",
      "“glm.fit: fitted rates numerically 0 occurred”Warning message:\n",
      "“glm.fit: fitted rates numerically 0 occurred”Warning message:\n",
      "“glm.fit: fitted rates numerically 0 occurred”Warning message:\n",
      "“glm.fit: fitted rates numerically 0 occurred”"
     ]
    },
    {
     "name": "stdout",
     "output_type": "stream",
     "text": [
      ".."
     ]
    },
    {
     "name": "stderr",
     "output_type": "stream",
     "text": [
      "Warning message:\n",
      "“glm.fit: fitted rates numerically 0 occurred”"
     ]
    },
    {
     "name": "stdout",
     "output_type": "stream",
     "text": [
      "."
     ]
    },
    {
     "name": "stderr",
     "output_type": "stream",
     "text": [
      "Warning message:\n",
      "“glm.fit: fitted rates numerically 0 occurred”Warning message:\n",
      "“glm.fit: fitted rates numerically 0 occurred”Warning message:\n",
      "“glm.fit: fitted rates numerically 0 occurred”Warning message:\n",
      "“glm.fit: fitted rates numerically 0 occurred”"
     ]
    },
    {
     "name": "stdout",
     "output_type": "stream",
     "text": [
      "."
     ]
    },
    {
     "name": "stderr",
     "output_type": "stream",
     "text": [
      "Warning message:\n",
      "“glm.fit: fitted rates numerically 0 occurred”Warning message:\n",
      "“glm.fit: fitted rates numerically 0 occurred”Warning message:\n",
      "“glm.fit: fitted rates numerically 0 occurred”Warning message:\n",
      "“glm.fit: fitted rates numerically 0 occurred”Warning message:\n",
      "“glm.fit: fitted rates numerically 0 occurred”Warning message:\n",
      "“glm.fit: fitted rates numerically 0 occurred”Warning message:\n",
      "“glm.fit: fitted rates numerically 0 occurred”Warning message:\n",
      "“glm.fit: fitted rates numerically 0 occurred”Warning message:\n",
      "“glm.fit: fitted rates numerically 0 occurred”"
     ]
    },
    {
     "name": "stdout",
     "output_type": "stream",
     "text": [
      "."
     ]
    },
    {
     "name": "stderr",
     "output_type": "stream",
     "text": [
      "Warning message:\n",
      "“glm.fit: fitted rates numerically 0 occurred”Warning message:\n",
      "“glm.fit: fitted rates numerically 0 occurred”Warning message:\n",
      "“glm.fit: fitted rates numerically 0 occurred”Warning message:\n",
      "“glm.fit: fitted rates numerically 0 occurred”"
     ]
    },
    {
     "name": "stdout",
     "output_type": "stream",
     "text": [
      "."
     ]
    },
    {
     "name": "stderr",
     "output_type": "stream",
     "text": [
      "Warning message:\n",
      "“glm.fit: fitted rates numerically 0 occurred”Warning message:\n",
      "“glm.fit: fitted rates numerically 0 occurred”Warning message:\n",
      "“glm.fit: fitted rates numerically 0 occurred”Warning message:\n",
      "“glm.fit: fitted rates numerically 0 occurred”Warning message:\n",
      "“glm.fit: fitted rates numerically 0 occurred”Warning message:\n",
      "“glm.fit: fitted rates numerically 0 occurred”Warning message:\n",
      "“glm.fit: fitted rates numerically 0 occurred”Warning message:\n",
      "“glm.fit: fitted rates numerically 0 occurred”Warning message:\n",
      "“glm.fit: fitted rates numerically 0 occurred”"
     ]
    },
    {
     "name": "stdout",
     "output_type": "stream",
     "text": [
      "."
     ]
    },
    {
     "name": "stderr",
     "output_type": "stream",
     "text": [
      "Warning message:\n",
      "“glm.fit: fitted rates numerically 0 occurred”Warning message:\n",
      "“glm.fit: fitted rates numerically 0 occurred”"
     ]
    },
    {
     "name": "stdout",
     "output_type": "stream",
     "text": [
      "."
     ]
    },
    {
     "name": "stderr",
     "output_type": "stream",
     "text": [
      "Warning message:\n",
      "“glm.fit: fitted rates numerically 0 occurred”Warning message:\n",
      "“glm.fit: fitted rates numerically 0 occurred”Warning message:\n",
      "“glm.fit: fitted rates numerically 0 occurred”Warning message:\n",
      "“glm.fit: fitted rates numerically 0 occurred”Warning message:\n",
      "“glm.fit: fitted rates numerically 0 occurred”Warning message:\n",
      "“glm.fit: fitted rates numerically 0 occurred”Warning message:\n",
      "“glm.fit: fitted rates numerically 0 occurred”Warning message:\n",
      "“glm.fit: fitted rates numerically 0 occurred”Warning message:\n",
      "“glm.fit: fitted rates numerically 0 occurred”Warning message:\n",
      "“glm.fit: fitted rates numerically 0 occurred”Warning message:\n",
      "“glm.fit: fitted rates numerically 0 occurred”Warning message:\n",
      "“glm.fit: fitted rates numerically 0 occurred”Warning message:\n",
      "“glm.fit: fitted rates numerically 0 occurred”Warning message:\n",
      "“glm.fit: fitted rates numerically 0 occurred”Warning message:\n",
      "“glm.fit: fitted rates numerically 0 occurred”Warning message:\n",
      "“glm.fit: fitted rates numerically 0 occurred”Warning message:\n",
      "“glm.fit: fitted rates numerically 0 occurred”Warning message:\n",
      "“glm.fit: fitted rates numerically 0 occurred”Warning message:\n",
      "“glm.fit: fitted rates numerically 0 occurred”Warning message:\n",
      "“glm.fit: fitted rates numerically 0 occurred”Warning message:\n",
      "“glm.fit: fitted rates numerically 0 occurred”Warning message:\n",
      "“glm.fit: fitted rates numerically 0 occurred”Warning message:\n",
      "“glm.fit: fitted rates numerically 0 occurred”Warning message:\n",
      "“glm.fit: fitted rates numerically 0 occurred”Warning message:\n",
      "“glm.fit: fitted rates numerically 0 occurred”Warning message:\n",
      "“glm.fit: fitted rates numerically 0 occurred”Warning message:\n",
      "“glm.fit: fitted rates numerically 0 occurred”Warning message:\n",
      "“glm.fit: fitted rates numerically 0 occurred”Warning message:\n",
      "“glm.fit: fitted rates numerically 0 occurred”Warning message:\n",
      "“glm.fit: fitted rates numerically 0 occurred”"
     ]
    },
    {
     "name": "stdout",
     "output_type": "stream",
     "text": [
      "."
     ]
    },
    {
     "name": "stderr",
     "output_type": "stream",
     "text": [
      "Warning message:\n",
      "“glm.fit: fitted rates numerically 0 occurred”Warning message:\n",
      "“glm.fit: fitted rates numerically 0 occurred”Warning message:\n",
      "“glm.fit: fitted rates numerically 0 occurred”"
     ]
    },
    {
     "name": "stdout",
     "output_type": "stream",
     "text": [
      "."
     ]
    },
    {
     "name": "stderr",
     "output_type": "stream",
     "text": [
      "Warning message:\n",
      "“glm.fit: fitted rates numerically 0 occurred”Warning message:\n",
      "“glm.fit: fitted rates numerically 0 occurred”"
     ]
    },
    {
     "name": "stdout",
     "output_type": "stream",
     "text": [
      ".."
     ]
    },
    {
     "name": "stderr",
     "output_type": "stream",
     "text": [
      "Warning message:\n",
      "“glm.fit: fitted rates numerically 0 occurred”Warning message:\n",
      "“glm.fit: fitted rates numerically 0 occurred”Warning message:\n",
      "“glm.fit: fitted rates numerically 0 occurred”Warning message:\n",
      "“glm.fit: fitted rates numerically 0 occurred”Warning message:\n",
      "“glm.fit: fitted rates numerically 0 occurred”Warning message:\n",
      "“glm.fit: fitted rates numerically 0 occurred”Warning message:\n",
      "“glm.fit: fitted rates numerically 0 occurred”Warning message:\n",
      "“glm.fit: fitted rates numerically 0 occurred”Warning message:\n",
      "“glm.fit: fitted rates numerically 0 occurred”Warning message:\n",
      "“glm.fit: fitted rates numerically 0 occurred”Warning message:\n",
      "“glm.fit: fitted rates numerically 0 occurred”Warning message:\n",
      "“glm.fit: fitted rates numerically 0 occurred”Warning message:\n",
      "“glm.fit: fitted rates numerically 0 occurred”Warning message:\n",
      "“glm.fit: fitted rates numerically 0 occurred”Warning message:\n",
      "“glm.fit: fitted rates numerically 0 occurred”Warning message:\n",
      "“glm.fit: fitted rates numerically 0 occurred”Warning message:\n",
      "“glm.fit: fitted rates numerically 0 occurred”Warning message:\n",
      "“glm.fit: fitted rates numerically 0 occurred”Warning message:\n",
      "“glm.fit: fitted rates numerically 0 occurred”Warning message:\n",
      "“glm.fit: fitted rates numerically 0 occurred”"
     ]
    },
    {
     "name": "stdout",
     "output_type": "stream",
     "text": [
      "."
     ]
    },
    {
     "name": "stderr",
     "output_type": "stream",
     "text": [
      "Warning message:\n",
      "“glm.fit: fitted rates numerically 0 occurred”Warning message:\n",
      "“glm.fit: fitted rates numerically 0 occurred”Warning message:\n",
      "“glm.fit: fitted rates numerically 0 occurred”"
     ]
    },
    {
     "name": "stdout",
     "output_type": "stream",
     "text": [
      "."
     ]
    },
    {
     "name": "stderr",
     "output_type": "stream",
     "text": [
      "Warning message:\n",
      "“glm.fit: fitted rates numerically 0 occurred”Warning message:\n",
      "“glm.fit: fitted rates numerically 0 occurred”Warning message:\n",
      "“glm.fit: fitted rates numerically 0 occurred”"
     ]
    },
    {
     "name": "stdout",
     "output_type": "stream",
     "text": [
      "..."
     ]
    },
    {
     "name": "stderr",
     "output_type": "stream",
     "text": [
      "Warning message:\n",
      "“glm.fit: fitted rates numerically 0 occurred”Warning message:\n",
      "“glm.fit: fitted rates numerically 0 occurred”Warning message:\n",
      "“glm.fit: fitted rates numerically 0 occurred”Warning message:\n",
      "“glm.fit: fitted rates numerically 0 occurred”Warning message:\n",
      "“glm.fit: fitted rates numerically 0 occurred”Warning message:\n",
      "“glm.fit: fitted rates numerically 0 occurred”Warning message:\n",
      "“glm.fit: fitted rates numerically 0 occurred”Warning message:\n",
      "“glm.fit: fitted rates numerically 0 occurred”Warning message:\n",
      "“glm.fit: fitted rates numerically 0 occurred”Warning message:\n",
      "“glm.fit: fitted rates numerically 0 occurred”Warning message:\n",
      "“glm.fit: fitted rates numerically 0 occurred”Warning message:\n",
      "“glm.fit: fitted rates numerically 0 occurred”Warning message:\n",
      "“glm.fit: fitted rates numerically 0 occurred”"
     ]
    },
    {
     "name": "stdout",
     "output_type": "stream",
     "text": [
      "."
     ]
    },
    {
     "name": "stderr",
     "output_type": "stream",
     "text": [
      "Warning message:\n",
      "“glm.fit: fitted rates numerically 0 occurred”Warning message:\n",
      "“glm.fit: fitted rates numerically 0 occurred”"
     ]
    },
    {
     "name": "stdout",
     "output_type": "stream",
     "text": [
      ".."
     ]
    },
    {
     "name": "stderr",
     "output_type": "stream",
     "text": [
      "Warning message:\n",
      "“glm.fit: fitted rates numerically 0 occurred”Warning message:\n",
      "“glm.fit: fitted rates numerically 0 occurred”Warning message:\n",
      "“glm.fit: fitted rates numerically 0 occurred”Warning message:\n",
      "“glm.fit: fitted rates numerically 0 occurred”Warning message:\n",
      "“glm.fit: fitted rates numerically 0 occurred”Warning message:\n",
      "“glm.fit: fitted rates numerically 0 occurred”Warning message:\n",
      "“glm.fit: fitted rates numerically 0 occurred”Warning message:\n",
      "“glm.fit: fitted rates numerically 0 occurred”"
     ]
    },
    {
     "name": "stdout",
     "output_type": "stream",
     "text": [
      ".."
     ]
    },
    {
     "name": "stderr",
     "output_type": "stream",
     "text": [
      "Warning message:\n",
      "“glm.fit: fitted rates numerically 0 occurred”Warning message:\n",
      "“glm.fit: fitted rates numerically 0 occurred”"
     ]
    },
    {
     "name": "stdout",
     "output_type": "stream",
     "text": [
      "."
     ]
    },
    {
     "name": "stderr",
     "output_type": "stream",
     "text": [
      "Warning message:\n",
      "“glm.fit: fitted rates numerically 0 occurred”"
     ]
    },
    {
     "name": "stdout",
     "output_type": "stream",
     "text": [
      "."
     ]
    },
    {
     "name": "stderr",
     "output_type": "stream",
     "text": [
      "Warning message:\n",
      "“glm.fit: fitted rates numerically 0 occurred”Warning message:\n",
      "“glm.fit: algorithm did not converge”Warning message:\n",
      "“glm.fit: fitted rates numerically 0 occurred”Warning message:\n",
      "“glm.fit: algorithm did not converge”Warning message:\n",
      "“glm.fit: fitted rates numerically 0 occurred”Warning message:\n",
      "“glm.fit: algorithm did not converge”Warning message:\n",
      "“glm.fit: fitted rates numerically 0 occurred”Warning message:\n",
      "“glm.fit: algorithm did not converge”Warning message:\n",
      "“glm.fit: fitted rates numerically 0 occurred”Warning message:\n",
      "“glm.fit: algorithm did not converge”Warning message:\n",
      "“glm.fit: fitted rates numerically 0 occurred”Warning message:\n",
      "“glm.fit: algorithm did not converge”Warning message:\n",
      "“glm.fit: fitted rates numerically 0 occurred”Warning message:\n",
      "“glm.fit: fitted rates numerically 0 occurred”Warning message:\n",
      "“glm.fit: fitted rates numerically 0 occurred”Warning message:\n",
      "“glm.fit: fitted rates numerically 0 occurred”Warning message:\n",
      "“glm.fit: fitted rates numerically 0 occurred”Warning message:\n",
      "“glm.fit: fitted rates numerically 0 occurred”Warning message:\n",
      "“glm.fit: fitted rates numerically 0 occurred”Warning message:\n",
      "“glm.fit: fitted rates numerically 0 occurred”Warning message:\n",
      "“glm.fit: fitted rates numerically 0 occurred”Warning message:\n",
      "“glm.fit: fitted rates numerically 0 occurred”Warning message:\n",
      "“glm.fit: fitted rates numerically 0 occurred”Warning message:\n",
      "“glm.fit: fitted rates numerically 0 occurred”Warning message:\n",
      "“glm.fit: fitted rates numerically 0 occurred”Warning message:\n",
      "“glm.fit: fitted rates numerically 0 occurred”Warning message:\n",
      "“glm.fit: fitted rates numerically 0 occurred”"
     ]
    },
    {
     "name": "stdout",
     "output_type": "stream",
     "text": [
      ".."
     ]
    },
    {
     "name": "stderr",
     "output_type": "stream",
     "text": [
      "Warning message:\n",
      "“glm.fit: fitted rates numerically 0 occurred”Warning message:\n",
      "“glm.fit: fitted rates numerically 0 occurred”"
     ]
    },
    {
     "name": "stdout",
     "output_type": "stream",
     "text": [
      ".."
     ]
    },
    {
     "name": "stderr",
     "output_type": "stream",
     "text": [
      "Warning message:\n",
      "“glm.fit: fitted rates numerically 0 occurred”"
     ]
    },
    {
     "name": "stdout",
     "output_type": "stream",
     "text": [
      "."
     ]
    },
    {
     "name": "stderr",
     "output_type": "stream",
     "text": [
      "Warning message:\n",
      "“glm.fit: fitted rates numerically 0 occurred”Warning message:\n",
      "“glm.fit: fitted rates numerically 0 occurred”"
     ]
    },
    {
     "name": "stdout",
     "output_type": "stream",
     "text": [
      "."
     ]
    },
    {
     "name": "stderr",
     "output_type": "stream",
     "text": [
      "Warning message:\n",
      "“glm.fit: fitted rates numerically 0 occurred”Warning message:\n",
      "“glm.fit: fitted rates numerically 0 occurred”Warning message:\n",
      "“glm.fit: fitted rates numerically 0 occurred”Warning message:\n",
      "“glm.fit: fitted rates numerically 0 occurred”Warning message:\n",
      "“glm.fit: fitted rates numerically 0 occurred”Warning message:\n",
      "“glm.fit: fitted rates numerically 0 occurred”"
     ]
    },
    {
     "name": "stdout",
     "output_type": "stream",
     "text": [
      "."
     ]
    },
    {
     "name": "stderr",
     "output_type": "stream",
     "text": [
      "Warning message:\n",
      "“glm.fit: fitted rates numerically 0 occurred”Warning message:\n",
      "“glm.fit: fitted rates numerically 0 occurred”Warning message:\n",
      "“glm.fit: fitted rates numerically 0 occurred”Warning message:\n",
      "“glm.fit: fitted rates numerically 0 occurred”Warning message:\n",
      "“glm.fit: fitted rates numerically 0 occurred”Warning message:\n",
      "“glm.fit: fitted rates numerically 0 occurred”Warning message:\n",
      "“glm.fit: fitted rates numerically 0 occurred”Warning message:\n",
      "“glm.fit: fitted rates numerically 0 occurred”Warning message:\n",
      "“glm.fit: fitted rates numerically 0 occurred”Warning message:\n",
      "“glm.fit: fitted rates numerically 0 occurred”Warning message:\n",
      "“glm.fit: fitted rates numerically 0 occurred”Warning message:\n",
      "“glm.fit: fitted rates numerically 0 occurred”"
     ]
    },
    {
     "name": "stdout",
     "output_type": "stream",
     "text": [
      "."
     ]
    },
    {
     "name": "stderr",
     "output_type": "stream",
     "text": [
      "Warning message:\n",
      "“glm.fit: fitted rates numerically 0 occurred”Warning message:\n",
      "“glm.fit: fitted rates numerically 0 occurred”Warning message:\n",
      "“glm.fit: fitted rates numerically 0 occurred”Warning message:\n",
      "“glm.fit: fitted rates numerically 0 occurred”Warning message:\n",
      "“glm.fit: fitted rates numerically 0 occurred”Warning message:\n",
      "“glm.fit: fitted rates numerically 0 occurred”Warning message:\n",
      "“glm.fit: fitted rates numerically 0 occurred”Warning message:\n",
      "“glm.fit: fitted rates numerically 0 occurred”Warning message:\n",
      "“glm.fit: fitted rates numerically 0 occurred”Warning message:\n",
      "“glm.fit: fitted rates numerically 0 occurred”Warning message:\n",
      "“glm.fit: fitted rates numerically 0 occurred”Warning message:\n",
      "“glm.fit: fitted rates numerically 0 occurred”Warning message:\n",
      "“glm.fit: fitted rates numerically 0 occurred”Warning message:\n",
      "“glm.fit: fitted rates numerically 0 occurred”"
     ]
    },
    {
     "name": "stdout",
     "output_type": "stream",
     "text": [
      "."
     ]
    },
    {
     "name": "stderr",
     "output_type": "stream",
     "text": [
      "Warning message:\n",
      "“glm.fit: fitted rates numerically 0 occurred”Warning message:\n",
      "“glm.fit: fitted rates numerically 0 occurred”Warning message:\n",
      "“glm.fit: fitted rates numerically 0 occurred”Warning message:\n",
      "“glm.fit: fitted rates numerically 0 occurred”Warning message:\n",
      "“glm.fit: fitted rates numerically 0 occurred”Warning message:\n",
      "“glm.fit: fitted rates numerically 0 occurred”Warning message:\n",
      "“glm.fit: fitted rates numerically 0 occurred”"
     ]
    },
    {
     "name": "stdout",
     "output_type": "stream",
     "text": [
      ".."
     ]
    },
    {
     "name": "stderr",
     "output_type": "stream",
     "text": [
      "Warning message:\n",
      "“glm.fit: fitted rates numerically 0 occurred”Warning message:\n",
      "“glm.fit: fitted rates numerically 0 occurred”Warning message:\n",
      "“glm.fit: fitted rates numerically 0 occurred”Warning message:\n",
      "“glm.fit: fitted rates numerically 0 occurred”Warning message:\n",
      "“glm.fit: fitted rates numerically 0 occurred”"
     ]
    },
    {
     "name": "stdout",
     "output_type": "stream",
     "text": [
      "...."
     ]
    },
    {
     "name": "stderr",
     "output_type": "stream",
     "text": [
      "Warning message:\n",
      "“glm.fit: fitted rates numerically 0 occurred”Warning message:\n",
      "“glm.fit: fitted rates numerically 0 occurred”Warning message:\n",
      "“glm.fit: fitted rates numerically 0 occurred”Warning message:\n",
      "“glm.fit: fitted rates numerically 0 occurred”Warning message:\n",
      "“glm.fit: fitted rates numerically 0 occurred”Warning message:\n",
      "“glm.fit: fitted rates numerically 0 occurred”"
     ]
    },
    {
     "name": "stdout",
     "output_type": "stream",
     "text": [
      ".."
     ]
    },
    {
     "name": "stderr",
     "output_type": "stream",
     "text": [
      "Warning message:\n",
      "“glm.fit: fitted rates numerically 0 occurred”Warning message:\n",
      "“glm.fit: fitted rates numerically 0 occurred”Warning message:\n",
      "“glm.fit: fitted rates numerically 0 occurred”Warning message:\n",
      "“glm.fit: fitted rates numerically 0 occurred”Warning message:\n",
      "“glm.fit: fitted rates numerically 0 occurred”Warning message:\n",
      "“glm.fit: fitted rates numerically 0 occurred”Warning message:\n",
      "“glm.fit: fitted rates numerically 0 occurred”"
     ]
    },
    {
     "name": "stdout",
     "output_type": "stream",
     "text": [
      "."
     ]
    },
    {
     "name": "stderr",
     "output_type": "stream",
     "text": [
      "Warning message:\n",
      "“glm.fit: fitted rates numerically 0 occurred”Warning message:\n",
      "“glm.fit: fitted rates numerically 0 occurred”Warning message:\n",
      "“glm.fit: fitted rates numerically 0 occurred”"
     ]
    },
    {
     "name": "stdout",
     "output_type": "stream",
     "text": [
      ".."
     ]
    },
    {
     "name": "stderr",
     "output_type": "stream",
     "text": [
      "Warning message:\n",
      "“glm.fit: fitted rates numerically 0 occurred”Warning message:\n",
      "“glm.fit: fitted rates numerically 0 occurred”Warning message:\n",
      "“glm.fit: fitted rates numerically 0 occurred”Warning message:\n",
      "“glm.fit: fitted rates numerically 0 occurred”Warning message:\n",
      "“glm.fit: fitted rates numerically 0 occurred”Warning message:\n",
      "“glm.fit: fitted rates numerically 0 occurred”Warning message:\n",
      "“glm.fit: fitted rates numerically 0 occurred”Warning message:\n",
      "“glm.fit: fitted rates numerically 0 occurred”"
     ]
    },
    {
     "name": "stdout",
     "output_type": "stream",
     "text": [
      "."
     ]
    },
    {
     "name": "stderr",
     "output_type": "stream",
     "text": [
      "Warning message:\n",
      "“glm.fit: fitted rates numerically 0 occurred”Warning message:\n",
      "“glm.fit: fitted rates numerically 0 occurred”Warning message:\n",
      "“glm.fit: fitted rates numerically 0 occurred”"
     ]
    },
    {
     "name": "stdout",
     "output_type": "stream",
     "text": [
      "."
     ]
    },
    {
     "name": "stderr",
     "output_type": "stream",
     "text": [
      "Warning message:\n",
      "“glm.fit: fitted rates numerically 0 occurred”Warning message:\n",
      "“glm.fit: fitted rates numerically 0 occurred”Warning message:\n",
      "“glm.fit: fitted rates numerically 0 occurred”Warning message:\n",
      "“glm.fit: fitted rates numerically 0 occurred”Warning message:\n",
      "“glm.fit: fitted rates numerically 0 occurred”Warning message:\n",
      "“glm.fit: fitted rates numerically 0 occurred”Warning message:\n",
      "“glm.fit: fitted rates numerically 0 occurred”Warning message:\n",
      "“glm.fit: fitted rates numerically 0 occurred”Warning message:\n",
      "“glm.fit: fitted rates numerically 0 occurred”Warning message:\n",
      "“glm.fit: fitted rates numerically 0 occurred”Warning message:\n",
      "“glm.fit: fitted rates numerically 0 occurred”Warning message:\n",
      "“glm.fit: fitted rates numerically 0 occurred”Warning message:\n",
      "“glm.fit: fitted rates numerically 0 occurred”Warning message:\n",
      "“glm.fit: fitted rates numerically 0 occurred”Warning message:\n",
      "“glm.fit: fitted rates numerically 0 occurred”Warning message:\n",
      "“glm.fit: fitted rates numerically 0 occurred”"
     ]
    },
    {
     "name": "stdout",
     "output_type": "stream",
     "text": [
      ".."
     ]
    },
    {
     "name": "stderr",
     "output_type": "stream",
     "text": [
      "Warning message:\n",
      "“glm.fit: fitted rates numerically 0 occurred”Warning message:\n",
      "“glm.fit: fitted rates numerically 0 occurred”Warning message:\n",
      "“glm.fit: fitted rates numerically 0 occurred”Warning message:\n",
      "“glm.fit: fitted rates numerically 0 occurred”Warning message:\n",
      "“glm.fit: fitted rates numerically 0 occurred”"
     ]
    },
    {
     "name": "stdout",
     "output_type": "stream",
     "text": [
      ".."
     ]
    },
    {
     "name": "stderr",
     "output_type": "stream",
     "text": [
      "Warning message:\n",
      "“glm.fit: fitted rates numerically 0 occurred”Warning message:\n",
      "“glm.fit: fitted rates numerically 0 occurred”"
     ]
    },
    {
     "name": "stdout",
     "output_type": "stream",
     "text": [
      "."
     ]
    },
    {
     "name": "stderr",
     "output_type": "stream",
     "text": [
      "Warning message:\n",
      "“glm.fit: fitted rates numerically 0 occurred”Warning message:\n",
      "“glm.fit: fitted rates numerically 0 occurred”Warning message:\n",
      "“glm.fit: fitted rates numerically 0 occurred”Warning message:\n",
      "“glm.fit: fitted rates numerically 0 occurred”Warning message:\n",
      "“glm.fit: fitted rates numerically 0 occurred”Warning message:\n",
      "“glm.fit: fitted rates numerically 0 occurred”Warning message:\n",
      "“glm.fit: fitted rates numerically 0 occurred”Warning message:\n",
      "“glm.fit: fitted rates numerically 0 occurred”Warning message:\n",
      "“glm.fit: fitted rates numerically 0 occurred”Warning message:\n",
      "“glm.fit: fitted rates numerically 0 occurred”Warning message:\n",
      "“glm.fit: fitted rates numerically 0 occurred”Warning message:\n",
      "“glm.fit: fitted rates numerically 0 occurred”"
     ]
    },
    {
     "name": "stdout",
     "output_type": "stream",
     "text": [
      "."
     ]
    },
    {
     "name": "stderr",
     "output_type": "stream",
     "text": [
      "Warning message:\n",
      "“glm.fit: fitted rates numerically 0 occurred”"
     ]
    },
    {
     "name": "stdout",
     "output_type": "stream",
     "text": [
      "."
     ]
    },
    {
     "name": "stderr",
     "output_type": "stream",
     "text": [
      "Warning message:\n",
      "“glm.fit: fitted rates numerically 0 occurred”"
     ]
    },
    {
     "name": "stdout",
     "output_type": "stream",
     "text": [
      "."
     ]
    },
    {
     "name": "stderr",
     "output_type": "stream",
     "text": [
      "Warning message:\n",
      "“glm.fit: fitted rates numerically 0 occurred”Warning message:\n",
      "“glm.fit: fitted rates numerically 0 occurred”Warning message:\n",
      "“glm.fit: fitted rates numerically 0 occurred”Warning message:\n",
      "“glm.fit: fitted rates numerically 0 occurred”Warning message:\n",
      "“glm.fit: fitted rates numerically 0 occurred”Warning message:\n",
      "“glm.fit: fitted rates numerically 0 occurred”"
     ]
    },
    {
     "name": "stdout",
     "output_type": "stream",
     "text": [
      "..."
     ]
    },
    {
     "name": "stderr",
     "output_type": "stream",
     "text": [
      "Warning message:\n",
      "“glm.fit: fitted rates numerically 0 occurred”Warning message:\n",
      "“glm.fit: fitted rates numerically 0 occurred”Warning message:\n",
      "“glm.fit: fitted rates numerically 0 occurred”Warning message:\n",
      "“glm.fit: fitted rates numerically 0 occurred”Warning message:\n",
      "“glm.fit: fitted rates numerically 0 occurred”Warning message:\n",
      "“glm.fit: fitted rates numerically 0 occurred”"
     ]
    },
    {
     "name": "stdout",
     "output_type": "stream",
     "text": [
      "."
     ]
    },
    {
     "name": "stderr",
     "output_type": "stream",
     "text": [
      "Warning message:\n",
      "“glm.fit: fitted rates numerically 0 occurred”"
     ]
    },
    {
     "name": "stdout",
     "output_type": "stream",
     "text": [
      ".."
     ]
    },
    {
     "name": "stderr",
     "output_type": "stream",
     "text": [
      "Warning message:\n",
      "“glm.fit: fitted rates numerically 0 occurred”Warning message:\n",
      "“glm.fit: fitted rates numerically 0 occurred”Warning message:\n",
      "“glm.fit: fitted rates numerically 0 occurred”Warning message:\n",
      "“glm.fit: fitted rates numerically 0 occurred”Warning message:\n",
      "“glm.fit: fitted rates numerically 0 occurred”Warning message:\n",
      "“glm.fit: fitted rates numerically 0 occurred”Warning message:\n",
      "“glm.fit: fitted rates numerically 0 occurred”Warning message:\n",
      "“glm.fit: fitted rates numerically 0 occurred”Warning message:\n",
      "“glm.fit: fitted rates numerically 0 occurred”Warning message:\n",
      "“glm.fit: fitted rates numerically 0 occurred”Warning message:\n",
      "“glm.fit: fitted rates numerically 0 occurred”Warning message:\n",
      "“glm.fit: fitted rates numerically 0 occurred”"
     ]
    },
    {
     "name": "stdout",
     "output_type": "stream",
     "text": [
      "."
     ]
    },
    {
     "name": "stderr",
     "output_type": "stream",
     "text": [
      "Warning message:\n",
      "“glm.fit: fitted rates numerically 0 occurred”Warning message:\n",
      "“glm.fit: fitted rates numerically 0 occurred”"
     ]
    },
    {
     "name": "stdout",
     "output_type": "stream",
     "text": [
      "...."
     ]
    },
    {
     "name": "stderr",
     "output_type": "stream",
     "text": [
      "Warning message:\n",
      "“glm.fit: fitted rates numerically 0 occurred”"
     ]
    },
    {
     "name": "stdout",
     "output_type": "stream",
     "text": [
      ".."
     ]
    },
    {
     "name": "stderr",
     "output_type": "stream",
     "text": [
      "Warning message:\n",
      "“glm.fit: fitted rates numerically 0 occurred”Warning message:\n",
      "“glm.fit: fitted rates numerically 0 occurred”Warning message:\n",
      "“glm.fit: fitted rates numerically 0 occurred”Warning message:\n",
      "“glm.fit: fitted rates numerically 0 occurred”Warning message:\n",
      "“glm.fit: fitted rates numerically 0 occurred”Warning message:\n",
      "“glm.fit: fitted rates numerically 0 occurred”Warning message:\n",
      "“glm.fit: fitted rates numerically 0 occurred”Warning message:\n",
      "“glm.fit: fitted rates numerically 0 occurred”Warning message:\n",
      "“glm.fit: fitted rates numerically 0 occurred”Warning message:\n",
      "“glm.fit: fitted rates numerically 0 occurred”Warning message:\n",
      "“glm.fit: fitted rates numerically 0 occurred”Warning message:\n",
      "“glm.fit: fitted rates numerically 0 occurred”Warning message:\n",
      "“glm.fit: fitted rates numerically 0 occurred”Warning message:\n",
      "“glm.fit: fitted rates numerically 0 occurred”Warning message:\n",
      "“glm.fit: fitted rates numerically 0 occurred”Warning message:\n",
      "“glm.fit: fitted rates numerically 0 occurred”Warning message:\n",
      "“glm.fit: fitted rates numerically 0 occurred”Warning message:\n",
      "“glm.fit: fitted rates numerically 0 occurred”Warning message:\n",
      "“glm.fit: fitted rates numerically 0 occurred”Warning message:\n",
      "“glm.fit: fitted rates numerically 0 occurred”Warning message:\n",
      "“glm.fit: fitted rates numerically 0 occurred”Warning message:\n",
      "“glm.fit: fitted rates numerically 0 occurred”Warning message:\n",
      "“glm.fit: fitted rates numerically 0 occurred”Warning message:\n",
      "“glm.fit: fitted rates numerically 0 occurred”Warning message:\n",
      "“glm.fit: fitted rates numerically 0 occurred”Warning message:\n",
      "“glm.fit: fitted rates numerically 0 occurred”Warning message:\n",
      "“glm.fit: fitted rates numerically 0 occurred”Warning message:\n",
      "“glm.fit: fitted rates numerically 0 occurred”Warning message:\n",
      "“glm.fit: fitted rates numerically 0 occurred”Warning message:\n",
      "“glm.fit: fitted rates numerically 0 occurred”"
     ]
    },
    {
     "name": "stdout",
     "output_type": "stream",
     "text": [
      "."
     ]
    },
    {
     "name": "stderr",
     "output_type": "stream",
     "text": [
      "Warning message:\n",
      "“glm.fit: fitted rates numerically 0 occurred”Warning message:\n",
      "“glm.fit: fitted rates numerically 0 occurred”Warning message:\n",
      "“glm.fit: fitted rates numerically 0 occurred”Warning message:\n",
      "“glm.fit: fitted rates numerically 0 occurred”Warning message:\n",
      "“glm.fit: fitted rates numerically 0 occurred”Warning message:\n",
      "“glm.fit: fitted rates numerically 0 occurred”Warning message:\n",
      "“glm.fit: fitted rates numerically 0 occurred”Warning message:\n",
      "“glm.fit: fitted rates numerically 0 occurred”Warning message:\n",
      "“glm.fit: fitted rates numerically 0 occurred”Warning message:\n",
      "“glm.fit: fitted rates numerically 0 occurred”Warning message:\n",
      "“glm.fit: fitted rates numerically 0 occurred”"
     ]
    },
    {
     "name": "stdout",
     "output_type": "stream",
     "text": [
      "."
     ]
    },
    {
     "name": "stderr",
     "output_type": "stream",
     "text": [
      "Warning message:\n",
      "“glm.fit: fitted rates numerically 0 occurred”Warning message:\n",
      "“glm.fit: fitted rates numerically 0 occurred”Warning message:\n",
      "“glm.fit: fitted rates numerically 0 occurred”Warning message:\n",
      "“glm.fit: fitted rates numerically 0 occurred”Warning message:\n",
      "“glm.fit: fitted rates numerically 0 occurred”Warning message:\n",
      "“glm.fit: fitted rates numerically 0 occurred”Warning message:\n",
      "“glm.fit: fitted rates numerically 0 occurred”Warning message:\n",
      "“glm.fit: fitted rates numerically 0 occurred”Warning message:\n",
      "“glm.fit: fitted rates numerically 0 occurred”"
     ]
    },
    {
     "name": "stdout",
     "output_type": "stream",
     "text": [
      "...."
     ]
    },
    {
     "name": "stderr",
     "output_type": "stream",
     "text": [
      "Warning message:\n",
      "“glm.fit: fitted rates numerically 0 occurred”Warning message:\n",
      "“glm.fit: fitted rates numerically 0 occurred”"
     ]
    },
    {
     "name": "stdout",
     "output_type": "stream",
     "text": [
      ".."
     ]
    },
    {
     "name": "stderr",
     "output_type": "stream",
     "text": [
      "Warning message:\n",
      "“glm.fit: fitted rates numerically 0 occurred”"
     ]
    },
    {
     "name": "stdout",
     "output_type": "stream",
     "text": [
      "."
     ]
    },
    {
     "name": "stderr",
     "output_type": "stream",
     "text": [
      "Warning message:\n",
      "“glm.fit: fitted rates numerically 0 occurred”Warning message:\n",
      "“glm.fit: fitted rates numerically 0 occurred”Warning message:\n",
      "“glm.fit: fitted rates numerically 0 occurred”"
     ]
    },
    {
     "name": "stdout",
     "output_type": "stream",
     "text": [
      "."
     ]
    },
    {
     "name": "stderr",
     "output_type": "stream",
     "text": [
      "Warning message:\n",
      "“glm.fit: fitted rates numerically 0 occurred”Warning message:\n",
      "“glm.fit: fitted rates numerically 0 occurred”Warning message:\n",
      "“glm.fit: fitted rates numerically 0 occurred”Warning message:\n",
      "“glm.fit: fitted rates numerically 0 occurred”Warning message:\n",
      "“glm.fit: fitted rates numerically 0 occurred”Warning message:\n",
      "“glm.fit: fitted rates numerically 0 occurred”Warning message:\n",
      "“glm.fit: fitted rates numerically 0 occurred”Warning message:\n",
      "“glm.fit: fitted rates numerically 0 occurred”"
     ]
    },
    {
     "name": "stdout",
     "output_type": "stream",
     "text": [
      "."
     ]
    },
    {
     "name": "stderr",
     "output_type": "stream",
     "text": [
      "Warning message:\n",
      "“glm.fit: fitted rates numerically 0 occurred”Warning message:\n",
      "“glm.fit: fitted rates numerically 0 occurred”Warning message:\n",
      "“glm.fit: fitted rates numerically 0 occurred”Warning message:\n",
      "“glm.fit: fitted rates numerically 0 occurred”Warning message:\n",
      "“glm.fit: fitted rates numerically 0 occurred”Warning message:\n",
      "“glm.fit: fitted rates numerically 0 occurred”Warning message:\n",
      "“glm.fit: fitted rates numerically 0 occurred”Warning message:\n",
      "“glm.fit: fitted rates numerically 0 occurred”Warning message:\n",
      "“glm.fit: fitted rates numerically 0 occurred”"
     ]
    },
    {
     "name": "stdout",
     "output_type": "stream",
     "text": [
      "."
     ]
    },
    {
     "name": "stderr",
     "output_type": "stream",
     "text": [
      "Warning message:\n",
      "“glm.fit: fitted rates numerically 0 occurred”Warning message:\n",
      "“glm.fit: fitted rates numerically 0 occurred”Warning message:\n",
      "“glm.fit: fitted rates numerically 0 occurred”Warning message:\n",
      "“glm.fit: fitted rates numerically 0 occurred”Warning message:\n",
      "“glm.fit: fitted rates numerically 0 occurred”Warning message:\n",
      "“glm.fit: fitted rates numerically 0 occurred”Warning message:\n",
      "“glm.fit: fitted rates numerically 0 occurred”Warning message:\n",
      "“glm.fit: fitted rates numerically 0 occurred”Warning message:\n",
      "“glm.fit: fitted rates numerically 0 occurred”Warning message:\n",
      "“glm.fit: fitted rates numerically 0 occurred”Warning message:\n",
      "“glm.fit: fitted rates numerically 0 occurred”Warning message:\n",
      "“glm.fit: fitted rates numerically 0 occurred”Warning message:\n",
      "“glm.fit: fitted rates numerically 0 occurred”Warning message:\n",
      "“glm.fit: fitted rates numerically 0 occurred”Warning message:\n",
      "“glm.fit: fitted rates numerically 0 occurred”Warning message:\n",
      "“glm.fit: fitted rates numerically 0 occurred”Warning message:\n",
      "“glm.fit: fitted rates numerically 0 occurred”Warning message:\n",
      "“glm.fit: fitted rates numerically 0 occurred”Warning message:\n",
      "“glm.fit: fitted rates numerically 0 occurred”Warning message:\n",
      "“glm.fit: fitted rates numerically 0 occurred”Warning message:\n",
      "“glm.fit: fitted rates numerically 0 occurred”Warning message:\n",
      "“glm.fit: fitted rates numerically 0 occurred”Warning message:\n",
      "“glm.fit: fitted rates numerically 0 occurred”Warning message:\n",
      "“glm.fit: fitted rates numerically 0 occurred”"
     ]
    },
    {
     "name": "stdout",
     "output_type": "stream",
     "text": [
      "."
     ]
    },
    {
     "name": "stderr",
     "output_type": "stream",
     "text": [
      "Warning message:\n",
      "“glm.fit: fitted rates numerically 0 occurred”Warning message:\n",
      "“glm.fit: fitted rates numerically 0 occurred”"
     ]
    },
    {
     "name": "stdout",
     "output_type": "stream",
     "text": [
      ".."
     ]
    },
    {
     "name": "stderr",
     "output_type": "stream",
     "text": [
      "Warning message:\n",
      "“glm.fit: fitted rates numerically 0 occurred”Warning message:\n",
      "“glm.fit: fitted rates numerically 0 occurred”"
     ]
    },
    {
     "name": "stdout",
     "output_type": "stream",
     "text": [
      "."
     ]
    },
    {
     "name": "stderr",
     "output_type": "stream",
     "text": [
      "Warning message:\n",
      "“glm.fit: fitted rates numerically 0 occurred”Warning message:\n",
      "“glm.fit: fitted rates numerically 0 occurred”"
     ]
    },
    {
     "name": "stdout",
     "output_type": "stream",
     "text": [
      "...."
     ]
    },
    {
     "name": "stderr",
     "output_type": "stream",
     "text": [
      "Warning message:\n",
      "“glm.fit: fitted rates numerically 0 occurred”Warning message:\n",
      "“glm.fit: fitted rates numerically 0 occurred”Warning message:\n",
      "“glm.fit: fitted rates numerically 0 occurred”"
     ]
    },
    {
     "name": "stdout",
     "output_type": "stream",
     "text": [
      "."
     ]
    },
    {
     "name": "stderr",
     "output_type": "stream",
     "text": [
      "Warning message:\n",
      "“glm.fit: fitted rates numerically 0 occurred”Warning message:\n",
      "“glm.fit: fitted rates numerically 0 occurred”Warning message:\n",
      "“glm.fit: fitted rates numerically 0 occurred”Warning message:\n",
      "“glm.fit: fitted rates numerically 0 occurred”Warning message:\n",
      "“glm.fit: fitted rates numerically 0 occurred”Warning message:\n",
      "“glm.fit: fitted rates numerically 0 occurred”Warning message:\n",
      "“glm.fit: fitted rates numerically 0 occurred”Warning message:\n",
      "“glm.fit: fitted rates numerically 0 occurred”Warning message:\n",
      "“glm.fit: fitted rates numerically 0 occurred”Warning message:\n",
      "“glm.fit: fitted rates numerically 0 occurred”Warning message:\n",
      "“glm.fit: fitted rates numerically 0 occurred”Warning message:\n",
      "“glm.fit: fitted rates numerically 0 occurred”Warning message:\n",
      "“glm.fit: fitted rates numerically 0 occurred”Warning message:\n",
      "“glm.fit: fitted rates numerically 0 occurred”Warning message:\n",
      "“glm.fit: fitted rates numerically 0 occurred”Warning message:\n",
      "“glm.fit: fitted rates numerically 0 occurred”Warning message:\n",
      "“glm.fit: fitted rates numerically 0 occurred”Warning message:\n",
      "“glm.fit: fitted rates numerically 0 occurred”Warning message:\n",
      "“glm.fit: fitted rates numerically 0 occurred”"
     ]
    },
    {
     "name": "stdout",
     "output_type": "stream",
     "text": [
      ".."
     ]
    },
    {
     "name": "stderr",
     "output_type": "stream",
     "text": [
      "Warning message:\n",
      "“glm.fit: fitted rates numerically 0 occurred”Warning message:\n",
      "“glm.fit: fitted rates numerically 0 occurred”"
     ]
    },
    {
     "name": "stdout",
     "output_type": "stream",
     "text": [
      "."
     ]
    },
    {
     "name": "stderr",
     "output_type": "stream",
     "text": [
      "Warning message:\n",
      "“glm.fit: fitted rates numerically 0 occurred”Warning message:\n",
      "“glm.fit: fitted rates numerically 0 occurred”Warning message:\n",
      "“glm.fit: fitted rates numerically 0 occurred”Warning message:\n",
      "“glm.fit: fitted rates numerically 0 occurred”Warning message:\n",
      "“glm.fit: fitted rates numerically 0 occurred”"
     ]
    },
    {
     "name": "stdout",
     "output_type": "stream",
     "text": [
      "........."
     ]
    },
    {
     "name": "stderr",
     "output_type": "stream",
     "text": [
      "Warning message:\n",
      "“glm.fit: fitted rates numerically 0 occurred”Warning message:\n",
      "“glm.fit: fitted rates numerically 0 occurred”Warning message:\n",
      "“glm.fit: fitted rates numerically 0 occurred”"
     ]
    },
    {
     "name": "stdout",
     "output_type": "stream",
     "text": [
      ".."
     ]
    },
    {
     "name": "stderr",
     "output_type": "stream",
     "text": [
      "Warning message:\n",
      "“glm.fit: fitted rates numerically 0 occurred”Warning message:\n",
      "“glm.fit: fitted rates numerically 0 occurred”Warning message:\n",
      "“glm.fit: fitted rates numerically 0 occurred”Warning message:\n",
      "“glm.fit: fitted rates numerically 0 occurred”"
     ]
    },
    {
     "name": "stdout",
     "output_type": "stream",
     "text": [
      "."
     ]
    },
    {
     "name": "stderr",
     "output_type": "stream",
     "text": [
      "Warning message:\n",
      "“glm.fit: fitted rates numerically 0 occurred”Warning message:\n",
      "“glm.fit: fitted rates numerically 0 occurred”Warning message:\n",
      "“glm.fit: fitted rates numerically 0 occurred”Warning message:\n",
      "“glm.fit: fitted rates numerically 0 occurred”Warning message:\n",
      "“glm.fit: fitted rates numerically 0 occurred”Warning message:\n",
      "“glm.fit: fitted rates numerically 0 occurred”Warning message:\n",
      "“glm.fit: fitted rates numerically 0 occurred”Warning message:\n",
      "“glm.fit: fitted rates numerically 0 occurred”Warning message:\n",
      "“glm.fit: fitted rates numerically 0 occurred”Warning message:\n",
      "“glm.fit: fitted rates numerically 0 occurred”Warning message:\n",
      "“glm.fit: fitted rates numerically 0 occurred”"
     ]
    },
    {
     "name": "stdout",
     "output_type": "stream",
     "text": [
      "."
     ]
    },
    {
     "name": "stderr",
     "output_type": "stream",
     "text": [
      "Warning message:\n",
      "“glm.fit: fitted rates numerically 0 occurred”Warning message:\n",
      "“glm.fit: fitted rates numerically 0 occurred”Warning message:\n",
      "“glm.fit: fitted rates numerically 0 occurred”Warning message:\n",
      "“glm.fit: fitted rates numerically 0 occurred”Warning message:\n",
      "“glm.fit: fitted rates numerically 0 occurred”Warning message:\n",
      "“glm.fit: fitted rates numerically 0 occurred”"
     ]
    },
    {
     "name": "stdout",
     "output_type": "stream",
     "text": [
      ".."
     ]
    },
    {
     "name": "stderr",
     "output_type": "stream",
     "text": [
      "Warning message:\n",
      "“glm.fit: fitted rates numerically 0 occurred”Warning message:\n",
      "“glm.fit: fitted rates numerically 0 occurred”"
     ]
    },
    {
     "name": "stdout",
     "output_type": "stream",
     "text": [
      "."
     ]
    },
    {
     "name": "stderr",
     "output_type": "stream",
     "text": [
      "Warning message:\n",
      "“glm.fit: fitted rates numerically 0 occurred”Warning message:\n",
      "“glm.fit: fitted rates numerically 0 occurred”Warning message:\n",
      "“glm.fit: fitted rates numerically 0 occurred”Warning message:\n",
      "“glm.fit: fitted rates numerically 0 occurred”Warning message:\n",
      "“glm.fit: fitted rates numerically 0 occurred”Warning message:\n",
      "“glm.fit: fitted rates numerically 0 occurred”Warning message:\n",
      "“glm.fit: fitted rates numerically 0 occurred”Warning message:\n",
      "“glm.fit: fitted rates numerically 0 occurred”Warning message:\n",
      "“glm.fit: fitted rates numerically 0 occurred”"
     ]
    },
    {
     "name": "stdout",
     "output_type": "stream",
     "text": [
      ".."
     ]
    },
    {
     "name": "stderr",
     "output_type": "stream",
     "text": [
      "Warning message:\n",
      "“glm.fit: fitted rates numerically 0 occurred”Warning message:\n",
      "“glm.fit: fitted rates numerically 0 occurred”Warning message:\n",
      "“glm.fit: fitted rates numerically 0 occurred”Warning message:\n",
      "“glm.fit: fitted rates numerically 0 occurred”Warning message:\n",
      "“glm.fit: fitted rates numerically 0 occurred”"
     ]
    },
    {
     "name": "stdout",
     "output_type": "stream",
     "text": [
      "..."
     ]
    },
    {
     "name": "stderr",
     "output_type": "stream",
     "text": [
      "Warning message:\n",
      "“glm.fit: fitted rates numerically 0 occurred”Warning message:\n",
      "“glm.fit: fitted rates numerically 0 occurred”"
     ]
    },
    {
     "name": "stdout",
     "output_type": "stream",
     "text": [
      "."
     ]
    },
    {
     "name": "stderr",
     "output_type": "stream",
     "text": [
      "Warning message:\n",
      "“glm.fit: fitted rates numerically 0 occurred”Warning message:\n",
      "“glm.fit: fitted rates numerically 0 occurred”Warning message:\n",
      "“glm.fit: fitted rates numerically 0 occurred”Warning message:\n",
      "“glm.fit: fitted rates numerically 0 occurred”Warning message:\n",
      "“glm.fit: fitted rates numerically 0 occurred”"
     ]
    },
    {
     "name": "stdout",
     "output_type": "stream",
     "text": [
      "."
     ]
    },
    {
     "name": "stderr",
     "output_type": "stream",
     "text": [
      "Warning message:\n",
      "“glm.fit: fitted rates numerically 0 occurred”Warning message:\n",
      "“glm.fit: fitted rates numerically 0 occurred”Warning message:\n",
      "“glm.fit: fitted rates numerically 0 occurred”"
     ]
    },
    {
     "name": "stdout",
     "output_type": "stream",
     "text": [
      "."
     ]
    },
    {
     "name": "stderr",
     "output_type": "stream",
     "text": [
      "Warning message:\n",
      "“glm.fit: fitted rates numerically 0 occurred”Warning message:\n",
      "“glm.fit: fitted rates numerically 0 occurred”Warning message:\n",
      "“glm.fit: fitted rates numerically 0 occurred”Warning message:\n",
      "“glm.fit: fitted rates numerically 0 occurred”"
     ]
    },
    {
     "name": "stdout",
     "output_type": "stream",
     "text": [
      "."
     ]
    },
    {
     "name": "stderr",
     "output_type": "stream",
     "text": [
      "Warning message:\n",
      "“glm.fit: fitted rates numerically 0 occurred”Warning message:\n",
      "“glm.fit: fitted rates numerically 0 occurred”Warning message:\n",
      "“glm.fit: fitted rates numerically 0 occurred”Warning message:\n",
      "“glm.fit: fitted rates numerically 0 occurred”"
     ]
    },
    {
     "name": "stdout",
     "output_type": "stream",
     "text": [
      "."
     ]
    },
    {
     "name": "stderr",
     "output_type": "stream",
     "text": [
      "Warning message:\n",
      "“glm.fit: fitted rates numerically 0 occurred”Warning message:\n",
      "“glm.fit: fitted rates numerically 0 occurred”Warning message:\n",
      "“glm.fit: fitted rates numerically 0 occurred”Warning message:\n",
      "“glm.fit: fitted rates numerically 0 occurred”Warning message:\n",
      "“glm.fit: fitted rates numerically 0 occurred”Warning message:\n",
      "“glm.fit: fitted rates numerically 0 occurred”Warning message:\n",
      "“glm.fit: fitted rates numerically 0 occurred”Warning message:\n",
      "“glm.fit: fitted rates numerically 0 occurred”Warning message:\n",
      "“glm.fit: fitted rates numerically 0 occurred”Warning message:\n",
      "“glm.fit: fitted rates numerically 0 occurred”Warning message:\n",
      "“glm.fit: fitted rates numerically 0 occurred”Warning message:\n",
      "“glm.fit: fitted rates numerically 0 occurred”Warning message:\n",
      "“glm.fit: fitted rates numerically 0 occurred”Warning message:\n",
      "“glm.fit: fitted rates numerically 0 occurred”Warning message:\n",
      "“glm.fit: fitted rates numerically 0 occurred”Warning message:\n",
      "“glm.fit: fitted rates numerically 0 occurred”Warning message:\n",
      "“glm.fit: fitted rates numerically 0 occurred”"
     ]
    },
    {
     "name": "stdout",
     "output_type": "stream",
     "text": [
      "."
     ]
    },
    {
     "name": "stderr",
     "output_type": "stream",
     "text": [
      "Warning message:\n",
      "“glm.fit: fitted rates numerically 0 occurred”Warning message:\n",
      "“glm.fit: fitted rates numerically 0 occurred”Warning message:\n",
      "“glm.fit: fitted rates numerically 0 occurred”Warning message:\n",
      "“glm.fit: fitted rates numerically 0 occurred”"
     ]
    },
    {
     "name": "stdout",
     "output_type": "stream",
     "text": [
      ".."
     ]
    },
    {
     "name": "stderr",
     "output_type": "stream",
     "text": [
      "Warning message:\n",
      "“glm.fit: fitted rates numerically 0 occurred”Warning message:\n",
      "“glm.fit: fitted rates numerically 0 occurred”Warning message:\n",
      "“glm.fit: fitted rates numerically 0 occurred”Warning message:\n",
      "“glm.fit: fitted rates numerically 0 occurred”Warning message:\n",
      "“glm.fit: fitted rates numerically 0 occurred”Warning message:\n",
      "“glm.fit: fitted rates numerically 0 occurred”"
     ]
    },
    {
     "name": "stdout",
     "output_type": "stream",
     "text": [
      "."
     ]
    },
    {
     "name": "stderr",
     "output_type": "stream",
     "text": [
      "Warning message:\n",
      "“glm.fit: fitted rates numerically 0 occurred”Warning message:\n",
      "“glm.fit: fitted rates numerically 0 occurred”"
     ]
    },
    {
     "name": "stdout",
     "output_type": "stream",
     "text": [
      ".."
     ]
    },
    {
     "name": "stderr",
     "output_type": "stream",
     "text": [
      "Warning message:\n",
      "“glm.fit: fitted rates numerically 0 occurred”Warning message:\n",
      "“glm.fit: fitted rates numerically 0 occurred”Warning message:\n",
      "“glm.fit: fitted rates numerically 0 occurred”Warning message:\n",
      "“glm.fit: fitted rates numerically 0 occurred”Warning message:\n",
      "“glm.fit: fitted rates numerically 0 occurred”Warning message:\n",
      "“glm.fit: fitted rates numerically 0 occurred”Warning message:\n",
      "“glm.fit: fitted rates numerically 0 occurred”Warning message:\n",
      "“glm.fit: fitted rates numerically 0 occurred”Warning message:\n",
      "“glm.fit: fitted rates numerically 0 occurred”Warning message:\n",
      "“glm.fit: fitted rates numerically 0 occurred”Warning message:\n",
      "“glm.fit: fitted rates numerically 0 occurred”Warning message:\n",
      "“glm.fit: fitted rates numerically 0 occurred”"
     ]
    },
    {
     "name": "stdout",
     "output_type": "stream",
     "text": [
      "."
     ]
    },
    {
     "name": "stderr",
     "output_type": "stream",
     "text": [
      "Warning message:\n",
      "“glm.fit: fitted rates numerically 0 occurred”Warning message:\n",
      "“glm.fit: fitted rates numerically 0 occurred”"
     ]
    },
    {
     "name": "stdout",
     "output_type": "stream",
     "text": [
      "."
     ]
    },
    {
     "name": "stderr",
     "output_type": "stream",
     "text": [
      "Warning message:\n",
      "“glm.fit: fitted rates numerically 0 occurred”Warning message:\n",
      "“glm.fit: fitted rates numerically 0 occurred”Warning message:\n",
      "“glm.fit: fitted rates numerically 0 occurred”Warning message:\n",
      "“glm.fit: fitted rates numerically 0 occurred”Warning message:\n",
      "“glm.fit: fitted rates numerically 0 occurred”Warning message:\n",
      "“glm.fit: fitted rates numerically 0 occurred”Warning message:\n",
      "“glm.fit: fitted rates numerically 0 occurred”Warning message:\n",
      "“glm.fit: fitted rates numerically 0 occurred”"
     ]
    },
    {
     "name": "stdout",
     "output_type": "stream",
     "text": [
      ".."
     ]
    },
    {
     "name": "stderr",
     "output_type": "stream",
     "text": [
      "Warning message:\n",
      "“glm.fit: fitted rates numerically 0 occurred”Warning message:\n",
      "“glm.fit: fitted rates numerically 0 occurred”Warning message:\n",
      "“glm.fit: fitted rates numerically 0 occurred”Warning message:\n",
      "“glm.fit: fitted rates numerically 0 occurred”Warning message:\n",
      "“glm.fit: fitted rates numerically 0 occurred”Warning message:\n",
      "“glm.fit: fitted rates numerically 0 occurred”"
     ]
    },
    {
     "name": "stdout",
     "output_type": "stream",
     "text": [
      "."
     ]
    },
    {
     "name": "stderr",
     "output_type": "stream",
     "text": [
      "Warning message:\n",
      "“glm.fit: fitted rates numerically 0 occurred”Warning message:\n",
      "“glm.fit: fitted rates numerically 0 occurred”"
     ]
    },
    {
     "name": "stdout",
     "output_type": "stream",
     "text": [
      ".."
     ]
    },
    {
     "name": "stderr",
     "output_type": "stream",
     "text": [
      "Warning message:\n",
      "“glm.fit: fitted rates numerically 0 occurred”Warning message:\n",
      "“glm.fit: fitted rates numerically 0 occurred”Warning message:\n",
      "“glm.fit: fitted rates numerically 0 occurred”Warning message:\n",
      "“glm.fit: fitted rates numerically 0 occurred”Warning message:\n",
      "“glm.fit: fitted rates numerically 0 occurred”Warning message:\n",
      "“glm.fit: fitted rates numerically 0 occurred”Warning message:\n",
      "“glm.fit: fitted rates numerically 0 occurred”Warning message:\n",
      "“glm.fit: fitted rates numerically 0 occurred”"
     ]
    },
    {
     "name": "stdout",
     "output_type": "stream",
     "text": [
      "."
     ]
    },
    {
     "name": "stderr",
     "output_type": "stream",
     "text": [
      "Warning message:\n",
      "“glm.fit: fitted rates numerically 0 occurred”Warning message:\n",
      "“glm.fit: fitted rates numerically 0 occurred”Warning message:\n",
      "“glm.fit: fitted rates numerically 0 occurred”Warning message:\n",
      "“glm.fit: fitted rates numerically 0 occurred”Warning message:\n",
      "“glm.fit: fitted rates numerically 0 occurred”Warning message:\n",
      "“glm.fit: fitted rates numerically 0 occurred”Warning message:\n",
      "“glm.fit: fitted rates numerically 0 occurred”Warning message:\n",
      "“glm.fit: fitted rates numerically 0 occurred”Warning message:\n",
      "“glm.fit: fitted rates numerically 0 occurred”Warning message:\n",
      "“glm.fit: fitted rates numerically 0 occurred”Warning message:\n",
      "“glm.fit: fitted rates numerically 0 occurred”Warning message:\n",
      "“glm.fit: fitted rates numerically 0 occurred”Warning message:\n",
      "“glm.fit: fitted rates numerically 0 occurred”Warning message:\n",
      "“glm.fit: fitted rates numerically 0 occurred”"
     ]
    },
    {
     "name": "stdout",
     "output_type": "stream",
     "text": [
      "."
     ]
    },
    {
     "name": "stderr",
     "output_type": "stream",
     "text": [
      "Warning message:\n",
      "“glm.fit: fitted rates numerically 0 occurred”"
     ]
    },
    {
     "name": "stdout",
     "output_type": "stream",
     "text": [
      "."
     ]
    },
    {
     "name": "stderr",
     "output_type": "stream",
     "text": [
      "Warning message:\n",
      "“glm.fit: fitted rates numerically 0 occurred”Warning message:\n",
      "“glm.fit: fitted rates numerically 0 occurred”"
     ]
    },
    {
     "name": "stdout",
     "output_type": "stream",
     "text": [
      "."
     ]
    },
    {
     "name": "stderr",
     "output_type": "stream",
     "text": [
      "Warning message:\n",
      "“glm.fit: fitted rates numerically 0 occurred”Warning message:\n",
      "“glm.fit: fitted rates numerically 0 occurred”"
     ]
    },
    {
     "name": "stdout",
     "output_type": "stream",
     "text": [
      "."
     ]
    },
    {
     "name": "stderr",
     "output_type": "stream",
     "text": [
      "Warning message:\n",
      "“glm.fit: fitted rates numerically 0 occurred”Warning message:\n",
      "“glm.fit: fitted rates numerically 0 occurred”Warning message:\n",
      "“glm.fit: fitted rates numerically 0 occurred”Warning message:\n",
      "“glm.fit: fitted rates numerically 0 occurred”Warning message:\n",
      "“glm.fit: fitted rates numerically 0 occurred”Warning message:\n",
      "“glm.fit: fitted rates numerically 0 occurred”Warning message:\n",
      "“glm.fit: fitted rates numerically 0 occurred”"
     ]
    },
    {
     "name": "stdout",
     "output_type": "stream",
     "text": [
      "."
     ]
    },
    {
     "name": "stderr",
     "output_type": "stream",
     "text": [
      "Warning message:\n",
      "“glm.fit: fitted rates numerically 0 occurred”Warning message:\n",
      "“glm.fit: fitted rates numerically 0 occurred”"
     ]
    },
    {
     "name": "stdout",
     "output_type": "stream",
     "text": [
      "."
     ]
    },
    {
     "name": "stderr",
     "output_type": "stream",
     "text": [
      "Warning message:\n",
      "“glm.fit: fitted rates numerically 0 occurred”Warning message:\n",
      "“glm.fit: fitted rates numerically 0 occurred”"
     ]
    },
    {
     "name": "stdout",
     "output_type": "stream",
     "text": [
      "."
     ]
    },
    {
     "name": "stderr",
     "output_type": "stream",
     "text": [
      "Warning message:\n",
      "“glm.fit: fitted rates numerically 0 occurred”Warning message:\n",
      "“glm.fit: fitted rates numerically 0 occurred”Warning message:\n",
      "“glm.fit: fitted rates numerically 0 occurred”Warning message:\n",
      "“glm.fit: fitted rates numerically 0 occurred”Warning message:\n",
      "“glm.fit: fitted rates numerically 0 occurred”Warning message:\n",
      "“glm.fit: fitted rates numerically 0 occurred”Warning message:\n",
      "“glm.fit: fitted rates numerically 0 occurred”Warning message:\n",
      "“glm.fit: fitted rates numerically 0 occurred”Warning message:\n",
      "“glm.fit: fitted rates numerically 0 occurred”Warning message:\n",
      "“glm.fit: fitted rates numerically 0 occurred”Warning message:\n",
      "“glm.fit: fitted rates numerically 0 occurred”"
     ]
    },
    {
     "name": "stdout",
     "output_type": "stream",
     "text": [
      "."
     ]
    },
    {
     "name": "stderr",
     "output_type": "stream",
     "text": [
      "Warning message:\n",
      "“glm.fit: fitted rates numerically 0 occurred”Warning message:\n",
      "“glm.fit: fitted rates numerically 0 occurred”Warning message:\n",
      "“glm.fit: fitted rates numerically 0 occurred”Warning message:\n",
      "“glm.fit: fitted rates numerically 0 occurred”"
     ]
    },
    {
     "name": "stdout",
     "output_type": "stream",
     "text": [
      "."
     ]
    },
    {
     "name": "stderr",
     "output_type": "stream",
     "text": [
      "Warning message:\n",
      "“glm.fit: fitted rates numerically 0 occurred”Warning message:\n",
      "“glm.fit: fitted rates numerically 0 occurred”"
     ]
    },
    {
     "name": "stdout",
     "output_type": "stream",
     "text": [
      ".."
     ]
    },
    {
     "name": "stderr",
     "output_type": "stream",
     "text": [
      "Warning message:\n",
      "“glm.fit: fitted rates numerically 0 occurred”Warning message:\n",
      "“glm.fit: fitted rates numerically 0 occurred”"
     ]
    },
    {
     "name": "stdout",
     "output_type": "stream",
     "text": [
      "."
     ]
    },
    {
     "name": "stderr",
     "output_type": "stream",
     "text": [
      "Warning message:\n",
      "“glm.fit: fitted rates numerically 0 occurred”Warning message:\n",
      "“glm.fit: fitted rates numerically 0 occurred”Warning message:\n",
      "“glm.fit: fitted rates numerically 0 occurred”"
     ]
    },
    {
     "name": "stdout",
     "output_type": "stream",
     "text": [
      "."
     ]
    },
    {
     "name": "stderr",
     "output_type": "stream",
     "text": [
      "Warning message:\n",
      "“glm.fit: fitted rates numerically 0 occurred”Warning message:\n",
      "“glm.fit: fitted rates numerically 0 occurred”"
     ]
    },
    {
     "name": "stdout",
     "output_type": "stream",
     "text": [
      ".."
     ]
    },
    {
     "name": "stderr",
     "output_type": "stream",
     "text": [
      "Warning message:\n",
      "“glm.fit: fitted rates numerically 0 occurred”Warning message:\n",
      "“glm.fit: fitted rates numerically 0 occurred”"
     ]
    },
    {
     "name": "stdout",
     "output_type": "stream",
     "text": [
      ".."
     ]
    },
    {
     "name": "stderr",
     "output_type": "stream",
     "text": [
      "Warning message:\n",
      "“glm.fit: fitted rates numerically 0 occurred”Warning message:\n",
      "“glm.fit: fitted rates numerically 0 occurred”Warning message:\n",
      "“glm.fit: fitted rates numerically 0 occurred”Warning message:\n",
      "“glm.fit: fitted rates numerically 0 occurred”Warning message:\n",
      "“glm.fit: fitted rates numerically 0 occurred”Warning message:\n",
      "“glm.fit: fitted rates numerically 0 occurred”"
     ]
    },
    {
     "name": "stdout",
     "output_type": "stream",
     "text": [
      "."
     ]
    },
    {
     "name": "stderr",
     "output_type": "stream",
     "text": [
      "Warning message:\n",
      "“glm.fit: fitted rates numerically 0 occurred”Warning message:\n",
      "“glm.fit: fitted rates numerically 0 occurred”Warning message:\n",
      "“glm.fit: fitted rates numerically 0 occurred”"
     ]
    },
    {
     "name": "stdout",
     "output_type": "stream",
     "text": [
      "."
     ]
    },
    {
     "name": "stderr",
     "output_type": "stream",
     "text": [
      "Warning message:\n",
      "“glm.fit: fitted rates numerically 0 occurred”Warning message:\n",
      "“glm.fit: fitted rates numerically 0 occurred”"
     ]
    },
    {
     "name": "stdout",
     "output_type": "stream",
     "text": [
      "...."
     ]
    },
    {
     "name": "stderr",
     "output_type": "stream",
     "text": [
      "Warning message:\n",
      "“glm.fit: fitted rates numerically 0 occurred”Warning message:\n",
      "“glm.fit: fitted rates numerically 0 occurred”"
     ]
    },
    {
     "name": "stdout",
     "output_type": "stream",
     "text": [
      ".."
     ]
    },
    {
     "name": "stderr",
     "output_type": "stream",
     "text": [
      "Warning message:\n",
      "“glm.fit: fitted rates numerically 0 occurred”Warning message:\n",
      "“glm.fit: fitted rates numerically 0 occurred”"
     ]
    },
    {
     "name": "stdout",
     "output_type": "stream",
     "text": [
      "..."
     ]
    },
    {
     "name": "stderr",
     "output_type": "stream",
     "text": [
      "Warning message:\n",
      "“glm.fit: fitted rates numerically 0 occurred”Warning message:\n",
      "“glm.fit: fitted rates numerically 0 occurred”Warning message:\n",
      "“glm.fit: fitted rates numerically 0 occurred”Warning message:\n",
      "“glm.fit: fitted rates numerically 0 occurred”Warning message:\n",
      "“glm.fit: fitted rates numerically 0 occurred”"
     ]
    },
    {
     "name": "stdout",
     "output_type": "stream",
     "text": [
      ".."
     ]
    },
    {
     "name": "stderr",
     "output_type": "stream",
     "text": [
      "Warning message:\n",
      "“glm.fit: fitted rates numerically 0 occurred”Warning message:\n",
      "“glm.fit: fitted rates numerically 0 occurred”Warning message:\n",
      "“glm.fit: fitted rates numerically 0 occurred”"
     ]
    },
    {
     "name": "stdout",
     "output_type": "stream",
     "text": [
      "."
     ]
    },
    {
     "name": "stderr",
     "output_type": "stream",
     "text": [
      "Warning message:\n",
      "“glm.fit: fitted rates numerically 0 occurred”Warning message:\n",
      "“glm.fit: fitted rates numerically 0 occurred”Warning message:\n",
      "“glm.fit: fitted rates numerically 0 occurred”Warning message:\n",
      "“glm.fit: fitted rates numerically 0 occurred”Warning message:\n",
      "“glm.fit: fitted rates numerically 0 occurred”"
     ]
    },
    {
     "name": "stdout",
     "output_type": "stream",
     "text": [
      "...."
     ]
    },
    {
     "name": "stderr",
     "output_type": "stream",
     "text": [
      "Warning message:\n",
      "“glm.fit: fitted rates numerically 0 occurred”Warning message:\n",
      "“glm.fit: fitted rates numerically 0 occurred”Warning message:\n",
      "“glm.fit: fitted rates numerically 0 occurred”Warning message:\n",
      "“glm.fit: fitted rates numerically 0 occurred”"
     ]
    },
    {
     "name": "stdout",
     "output_type": "stream",
     "text": [
      "."
     ]
    },
    {
     "name": "stderr",
     "output_type": "stream",
     "text": [
      "Warning message:\n",
      "“glm.fit: fitted rates numerically 0 occurred”Warning message:\n",
      "“glm.fit: fitted rates numerically 0 occurred”Warning message:\n",
      "“glm.fit: fitted rates numerically 0 occurred”"
     ]
    },
    {
     "name": "stdout",
     "output_type": "stream",
     "text": [
      ".."
     ]
    },
    {
     "name": "stderr",
     "output_type": "stream",
     "text": [
      "Warning message:\n",
      "“glm.fit: fitted rates numerically 0 occurred”Warning message:\n",
      "“glm.fit: fitted rates numerically 0 occurred”"
     ]
    },
    {
     "name": "stdout",
     "output_type": "stream",
     "text": [
      ".."
     ]
    },
    {
     "name": "stderr",
     "output_type": "stream",
     "text": [
      "Warning message:\n",
      "“glm.fit: fitted rates numerically 0 occurred”Warning message:\n",
      "“glm.fit: fitted rates numerically 0 occurred”Warning message:\n",
      "“glm.fit: fitted rates numerically 0 occurred”Warning message:\n",
      "“glm.fit: fitted rates numerically 0 occurred”Warning message:\n",
      "“glm.fit: fitted rates numerically 0 occurred”Warning message:\n",
      "“glm.fit: fitted rates numerically 0 occurred”Warning message:\n",
      "“glm.fit: fitted rates numerically 0 occurred”Warning message:\n",
      "“glm.fit: fitted rates numerically 0 occurred”Warning message:\n",
      "“glm.fit: fitted rates numerically 0 occurred”"
     ]
    },
    {
     "name": "stdout",
     "output_type": "stream",
     "text": [
      "..."
     ]
    },
    {
     "name": "stderr",
     "output_type": "stream",
     "text": [
      "Warning message:\n",
      "“glm.fit: fitted rates numerically 0 occurred”Warning message:\n",
      "“glm.fit: fitted rates numerically 0 occurred”"
     ]
    },
    {
     "name": "stdout",
     "output_type": "stream",
     "text": [
      "..."
     ]
    },
    {
     "name": "stderr",
     "output_type": "stream",
     "text": [
      "Warning message:\n",
      "“glm.fit: fitted rates numerically 0 occurred”Warning message:\n",
      "“glm.fit: fitted rates numerically 0 occurred”"
     ]
    },
    {
     "name": "stdout",
     "output_type": "stream",
     "text": [
      ".."
     ]
    },
    {
     "name": "stderr",
     "output_type": "stream",
     "text": [
      "Warning message:\n",
      "“glm.fit: fitted rates numerically 0 occurred”Warning message:\n",
      "“glm.fit: fitted rates numerically 0 occurred”"
     ]
    },
    {
     "name": "stdout",
     "output_type": "stream",
     "text": [
      "..."
     ]
    },
    {
     "name": "stderr",
     "output_type": "stream",
     "text": [
      "Warning message:\n",
      "“glm.fit: fitted rates numerically 0 occurred”Warning message:\n",
      "“glm.fit: fitted rates numerically 0 occurred”"
     ]
    },
    {
     "name": "stdout",
     "output_type": "stream",
     "text": [
      "."
     ]
    },
    {
     "name": "stderr",
     "output_type": "stream",
     "text": [
      "Warning message:\n",
      "“glm.fit: fitted rates numerically 0 occurred”Warning message:\n",
      "“glm.fit: fitted rates numerically 0 occurred”Warning message:\n",
      "“glm.fit: fitted rates numerically 0 occurred”Warning message:\n",
      "“glm.fit: fitted rates numerically 0 occurred”Warning message:\n",
      "“glm.fit: fitted rates numerically 0 occurred”Warning message:\n",
      "“glm.fit: fitted rates numerically 0 occurred”Warning message:\n",
      "“glm.fit: fitted rates numerically 0 occurred”Warning message:\n",
      "“glm.fit: fitted rates numerically 0 occurred”Warning message:\n",
      "“glm.fit: fitted rates numerically 0 occurred”Warning message:\n",
      "“glm.fit: fitted rates numerically 0 occurred”Warning message:\n",
      "“glm.fit: fitted rates numerically 0 occurred”Warning message:\n",
      "“glm.fit: fitted rates numerically 0 occurred”"
     ]
    },
    {
     "name": "stdout",
     "output_type": "stream",
     "text": [
      "."
     ]
    },
    {
     "name": "stderr",
     "output_type": "stream",
     "text": [
      "Warning message:\n",
      "“glm.fit: fitted rates numerically 0 occurred”Warning message:\n",
      "“glm.fit: fitted rates numerically 0 occurred”Warning message:\n",
      "“glm.fit: fitted rates numerically 0 occurred”Warning message:\n",
      "“glm.fit: fitted rates numerically 0 occurred”Warning message:\n",
      "“glm.fit: fitted rates numerically 0 occurred”"
     ]
    },
    {
     "name": "stdout",
     "output_type": "stream",
     "text": [
      "..."
     ]
    },
    {
     "name": "stderr",
     "output_type": "stream",
     "text": [
      "Warning message:\n",
      "“glm.fit: fitted rates numerically 0 occurred”Warning message:\n",
      "“glm.fit: fitted rates numerically 0 occurred”"
     ]
    },
    {
     "name": "stdout",
     "output_type": "stream",
     "text": [
      ".."
     ]
    },
    {
     "name": "stderr",
     "output_type": "stream",
     "text": [
      "Warning message:\n",
      "“glm.fit: fitted rates numerically 0 occurred”Warning message:\n",
      "“glm.fit: fitted rates numerically 0 occurred”Warning message:\n",
      "“glm.fit: fitted rates numerically 0 occurred”Warning message:\n",
      "“glm.fit: fitted rates numerically 0 occurred”Warning message:\n",
      "“glm.fit: fitted rates numerically 0 occurred”Warning message:\n",
      "“glm.fit: fitted rates numerically 0 occurred”Warning message:\n",
      "“glm.fit: fitted rates numerically 0 occurred”Warning message:\n",
      "“glm.fit: fitted rates numerically 0 occurred”Warning message:\n",
      "“glm.fit: fitted rates numerically 0 occurred”Warning message:\n",
      "“glm.fit: fitted rates numerically 0 occurred”Warning message:\n",
      "“glm.fit: fitted rates numerically 0 occurred”Warning message:\n",
      "“glm.fit: fitted rates numerically 0 occurred”Warning message:\n",
      "“glm.fit: fitted rates numerically 0 occurred”Warning message:\n",
      "“glm.fit: fitted rates numerically 0 occurred”Warning message:\n",
      "“glm.fit: fitted rates numerically 0 occurred”Warning message:\n",
      "“glm.fit: fitted rates numerically 0 occurred”Warning message:\n",
      "“glm.fit: fitted rates numerically 0 occurred”Warning message:\n",
      "“glm.fit: fitted rates numerically 0 occurred”"
     ]
    },
    {
     "name": "stdout",
     "output_type": "stream",
     "text": [
      ".."
     ]
    },
    {
     "name": "stderr",
     "output_type": "stream",
     "text": [
      "Warning message:\n",
      "“glm.fit: fitted rates numerically 0 occurred”Warning message:\n",
      "“glm.fit: fitted rates numerically 0 occurred”"
     ]
    },
    {
     "name": "stdout",
     "output_type": "stream",
     "text": [
      "."
     ]
    },
    {
     "name": "stderr",
     "output_type": "stream",
     "text": [
      "Warning message:\n",
      "“glm.fit: fitted rates numerically 0 occurred”Warning message:\n",
      "“glm.fit: fitted rates numerically 0 occurred”"
     ]
    },
    {
     "name": "stdout",
     "output_type": "stream",
     "text": [
      "..."
     ]
    },
    {
     "name": "stderr",
     "output_type": "stream",
     "text": [
      "Warning message:\n",
      "“glm.fit: fitted rates numerically 0 occurred”Warning message:\n",
      "“glm.fit: fitted rates numerically 0 occurred”Warning message:\n",
      "“glm.fit: fitted rates numerically 0 occurred”"
     ]
    },
    {
     "name": "stdout",
     "output_type": "stream",
     "text": [
      "."
     ]
    },
    {
     "name": "stderr",
     "output_type": "stream",
     "text": [
      "Warning message:\n",
      "“glm.fit: fitted rates numerically 0 occurred”"
     ]
    },
    {
     "name": "stdout",
     "output_type": "stream",
     "text": [
      "."
     ]
    },
    {
     "name": "stderr",
     "output_type": "stream",
     "text": [
      "Warning message:\n",
      "“glm.fit: fitted rates numerically 0 occurred”Warning message:\n",
      "“glm.fit: fitted rates numerically 0 occurred”"
     ]
    },
    {
     "name": "stdout",
     "output_type": "stream",
     "text": [
      "."
     ]
    },
    {
     "name": "stderr",
     "output_type": "stream",
     "text": [
      "Warning message:\n",
      "“glm.fit: fitted rates numerically 0 occurred”Warning message:\n",
      "“glm.fit: fitted rates numerically 0 occurred”Warning message:\n",
      "“glm.fit: fitted rates numerically 0 occurred”Warning message:\n",
      "“glm.fit: fitted rates numerically 0 occurred”"
     ]
    },
    {
     "name": "stdout",
     "output_type": "stream",
     "text": [
      "."
     ]
    },
    {
     "name": "stderr",
     "output_type": "stream",
     "text": [
      "Warning message:\n",
      "“glm.fit: fitted rates numerically 0 occurred”Warning message:\n",
      "“glm.fit: fitted rates numerically 0 occurred”Warning message:\n",
      "“glm.fit: fitted rates numerically 0 occurred”Warning message:\n",
      "“glm.fit: fitted rates numerically 0 occurred”"
     ]
    },
    {
     "name": "stdout",
     "output_type": "stream",
     "text": [
      "."
     ]
    },
    {
     "name": "stderr",
     "output_type": "stream",
     "text": [
      "Warning message:\n",
      "“glm.fit: fitted rates numerically 0 occurred”Warning message:\n",
      "“glm.fit: fitted rates numerically 0 occurred”"
     ]
    },
    {
     "name": "stdout",
     "output_type": "stream",
     "text": [
      "."
     ]
    },
    {
     "name": "stderr",
     "output_type": "stream",
     "text": [
      "Warning message:\n",
      "“glm.fit: fitted rates numerically 0 occurred”Warning message:\n",
      "“glm.fit: fitted rates numerically 0 occurred”Warning message:\n",
      "“glm.fit: fitted rates numerically 0 occurred”Warning message:\n",
      "“glm.fit: fitted rates numerically 0 occurred”"
     ]
    },
    {
     "name": "stdout",
     "output_type": "stream",
     "text": [
      "."
     ]
    },
    {
     "name": "stderr",
     "output_type": "stream",
     "text": [
      "Warning message:\n",
      "“glm.fit: fitted rates numerically 0 occurred”Warning message:\n",
      "“glm.fit: fitted rates numerically 0 occurred”Warning message:\n",
      "“glm.fit: fitted rates numerically 0 occurred”Warning message:\n",
      "“glm.fit: fitted rates numerically 0 occurred”"
     ]
    },
    {
     "name": "stdout",
     "output_type": "stream",
     "text": [
      "..."
     ]
    },
    {
     "name": "stderr",
     "output_type": "stream",
     "text": [
      "Warning message:\n",
      "“glm.fit: fitted rates numerically 0 occurred”"
     ]
    },
    {
     "name": "stdout",
     "output_type": "stream",
     "text": [
      "."
     ]
    },
    {
     "name": "stderr",
     "output_type": "stream",
     "text": [
      "Warning message:\n",
      "“glm.fit: fitted rates numerically 0 occurred”Warning message:\n",
      "“glm.fit: fitted rates numerically 0 occurred”Warning message:\n",
      "“glm.fit: fitted rates numerically 0 occurred”Warning message:\n",
      "“glm.fit: fitted rates numerically 0 occurred”"
     ]
    },
    {
     "name": "stdout",
     "output_type": "stream",
     "text": [
      "."
     ]
    },
    {
     "name": "stderr",
     "output_type": "stream",
     "text": [
      "Warning message:\n",
      "“glm.fit: fitted rates numerically 0 occurred”"
     ]
    },
    {
     "name": "stdout",
     "output_type": "stream",
     "text": [
      "."
     ]
    },
    {
     "name": "stderr",
     "output_type": "stream",
     "text": [
      "Warning message:\n",
      "“glm.fit: fitted rates numerically 0 occurred”"
     ]
    },
    {
     "name": "stdout",
     "output_type": "stream",
     "text": [
      "."
     ]
    },
    {
     "name": "stderr",
     "output_type": "stream",
     "text": [
      "Warning message:\n",
      "“glm.fit: fitted rates numerically 0 occurred”"
     ]
    },
    {
     "name": "stdout",
     "output_type": "stream",
     "text": [
      ".."
     ]
    },
    {
     "name": "stderr",
     "output_type": "stream",
     "text": [
      "Warning message:\n",
      "“glm.fit: fitted rates numerically 0 occurred”"
     ]
    },
    {
     "name": "stdout",
     "output_type": "stream",
     "text": [
      "."
     ]
    },
    {
     "name": "stderr",
     "output_type": "stream",
     "text": [
      "Warning message:\n",
      "“glm.fit: fitted rates numerically 0 occurred”Warning message:\n",
      "“glm.fit: fitted rates numerically 0 occurred”Warning message:\n",
      "“glm.fit: fitted rates numerically 0 occurred”"
     ]
    },
    {
     "name": "stdout",
     "output_type": "stream",
     "text": [
      ".."
     ]
    },
    {
     "name": "stderr",
     "output_type": "stream",
     "text": [
      "Warning message:\n",
      "“glm.fit: fitted rates numerically 0 occurred”Warning message:\n",
      "“glm.fit: fitted rates numerically 0 occurred”"
     ]
    },
    {
     "name": "stdout",
     "output_type": "stream",
     "text": [
      "."
     ]
    },
    {
     "name": "stderr",
     "output_type": "stream",
     "text": [
      "Warning message:\n",
      "“glm.fit: fitted rates numerically 0 occurred”Warning message:\n",
      "“glm.fit: fitted rates numerically 0 occurred”"
     ]
    },
    {
     "name": "stdout",
     "output_type": "stream",
     "text": [
      "."
     ]
    },
    {
     "name": "stderr",
     "output_type": "stream",
     "text": [
      "Warning message:\n",
      "“glm.fit: fitted rates numerically 0 occurred”"
     ]
    },
    {
     "name": "stdout",
     "output_type": "stream",
     "text": [
      ".."
     ]
    },
    {
     "name": "stderr",
     "output_type": "stream",
     "text": [
      "Warning message:\n",
      "“glm.fit: fitted rates numerically 0 occurred”Warning message:\n",
      "“glm.fit: fitted rates numerically 0 occurred”"
     ]
    },
    {
     "name": "stdout",
     "output_type": "stream",
     "text": [
      "."
     ]
    },
    {
     "name": "stderr",
     "output_type": "stream",
     "text": [
      "Warning message:\n",
      "“glm.fit: fitted rates numerically 0 occurred”Warning message:\n",
      "“glm.fit: fitted rates numerically 0 occurred”Warning message:\n",
      "“glm.fit: fitted rates numerically 0 occurred”Warning message:\n",
      "“glm.fit: fitted rates numerically 0 occurred”"
     ]
    },
    {
     "name": "stdout",
     "output_type": "stream",
     "text": [
      ".."
     ]
    },
    {
     "name": "stderr",
     "output_type": "stream",
     "text": [
      "Warning message:\n",
      "“glm.fit: fitted rates numerically 0 occurred”"
     ]
    },
    {
     "name": "stdout",
     "output_type": "stream",
     "text": [
      "."
     ]
    },
    {
     "name": "stderr",
     "output_type": "stream",
     "text": [
      "Warning message:\n",
      "“glm.fit: fitted rates numerically 0 occurred”Warning message:\n",
      "“glm.fit: fitted rates numerically 0 occurred”"
     ]
    },
    {
     "name": "stdout",
     "output_type": "stream",
     "text": [
      ".."
     ]
    },
    {
     "name": "stderr",
     "output_type": "stream",
     "text": [
      "Warning message:\n",
      "“glm.fit: fitted rates numerically 0 occurred”Warning message:\n",
      "“glm.fit: fitted rates numerically 0 occurred”Warning message:\n",
      "“glm.fit: fitted rates numerically 0 occurred”"
     ]
    },
    {
     "name": "stdout",
     "output_type": "stream",
     "text": [
      "."
     ]
    },
    {
     "name": "stderr",
     "output_type": "stream",
     "text": [
      "Warning message:\n",
      "“glm.fit: fitted rates numerically 0 occurred”Warning message:\n",
      "“glm.fit: fitted rates numerically 0 occurred”Warning message:\n",
      "“glm.fit: fitted rates numerically 0 occurred”Warning message:\n",
      "“glm.fit: fitted rates numerically 0 occurred”"
     ]
    },
    {
     "name": "stdout",
     "output_type": "stream",
     "text": [
      "."
     ]
    },
    {
     "name": "stderr",
     "output_type": "stream",
     "text": [
      "Warning message:\n",
      "“glm.fit: fitted rates numerically 0 occurred”Warning message:\n",
      "“glm.fit: fitted rates numerically 0 occurred”"
     ]
    },
    {
     "name": "stdout",
     "output_type": "stream",
     "text": [
      "."
     ]
    },
    {
     "name": "stderr",
     "output_type": "stream",
     "text": [
      "Warning message:\n",
      "“glm.fit: fitted rates numerically 0 occurred”Warning message:\n",
      "“glm.fit: fitted rates numerically 0 occurred”Warning message:\n",
      "“glm.fit: fitted rates numerically 0 occurred”Warning message:\n",
      "“glm.fit: fitted rates numerically 0 occurred”Warning message:\n",
      "“glm.fit: fitted rates numerically 0 occurred”Warning message:\n",
      "“glm.fit: fitted rates numerically 0 occurred”"
     ]
    },
    {
     "name": "stdout",
     "output_type": "stream",
     "text": [
      "."
     ]
    },
    {
     "name": "stderr",
     "output_type": "stream",
     "text": [
      "Warning message:\n",
      "“glm.fit: fitted rates numerically 0 occurred”Warning message:\n",
      "“glm.fit: fitted rates numerically 0 occurred”"
     ]
    },
    {
     "name": "stdout",
     "output_type": "stream",
     "text": [
      ".."
     ]
    },
    {
     "name": "stderr",
     "output_type": "stream",
     "text": [
      "Warning message:\n",
      "“glm.fit: fitted rates numerically 0 occurred”Warning message:\n",
      "“glm.fit: fitted rates numerically 0 occurred”"
     ]
    },
    {
     "name": "stdout",
     "output_type": "stream",
     "text": [
      "...."
     ]
    },
    {
     "name": "stderr",
     "output_type": "stream",
     "text": [
      "Warning message:\n",
      "“glm.fit: fitted rates numerically 0 occurred”Warning message:\n",
      "“glm.fit: fitted rates numerically 0 occurred”Warning message:\n",
      "“glm.fit: fitted rates numerically 0 occurred”Warning message:\n",
      "“glm.fit: fitted rates numerically 0 occurred”"
     ]
    },
    {
     "name": "stdout",
     "output_type": "stream",
     "text": [
      "."
     ]
    },
    {
     "name": "stderr",
     "output_type": "stream",
     "text": [
      "Warning message:\n",
      "“glm.fit: fitted rates numerically 0 occurred”"
     ]
    },
    {
     "name": "stdout",
     "output_type": "stream",
     "text": [
      "."
     ]
    },
    {
     "name": "stderr",
     "output_type": "stream",
     "text": [
      "Warning message:\n",
      "“glm.fit: fitted rates numerically 0 occurred”"
     ]
    },
    {
     "name": "stdout",
     "output_type": "stream",
     "text": [
      "."
     ]
    },
    {
     "name": "stderr",
     "output_type": "stream",
     "text": [
      "Warning message:\n",
      "“glm.fit: fitted rates numerically 0 occurred”Warning message:\n",
      "“glm.fit: fitted rates numerically 0 occurred”Warning message:\n",
      "“glm.fit: fitted rates numerically 0 occurred”Warning message:\n",
      "“glm.fit: fitted rates numerically 0 occurred”Warning message:\n",
      "“glm.fit: fitted rates numerically 0 occurred”Warning message:\n",
      "“glm.fit: fitted rates numerically 0 occurred”"
     ]
    },
    {
     "name": "stdout",
     "output_type": "stream",
     "text": [
      "."
     ]
    },
    {
     "name": "stderr",
     "output_type": "stream",
     "text": [
      "Warning message:\n",
      "“glm.fit: fitted rates numerically 0 occurred”Warning message:\n",
      "“glm.fit: fitted rates numerically 0 occurred”Warning message:\n",
      "“glm.fit: fitted rates numerically 0 occurred”Warning message:\n",
      "“glm.fit: fitted rates numerically 0 occurred”"
     ]
    },
    {
     "name": "stdout",
     "output_type": "stream",
     "text": [
      "...."
     ]
    },
    {
     "name": "stderr",
     "output_type": "stream",
     "text": [
      "Warning message:\n",
      "“glm.fit: fitted rates numerically 0 occurred”Warning message:\n",
      "“glm.fit: fitted rates numerically 0 occurred”"
     ]
    },
    {
     "name": "stdout",
     "output_type": "stream",
     "text": [
      "."
     ]
    },
    {
     "name": "stderr",
     "output_type": "stream",
     "text": [
      "Warning message:\n",
      "“glm.fit: fitted rates numerically 0 occurred”Warning message:\n",
      "“glm.fit: fitted rates numerically 0 occurred”Warning message:\n",
      "“glm.fit: fitted rates numerically 0 occurred”"
     ]
    },
    {
     "name": "stdout",
     "output_type": "stream",
     "text": [
      "."
     ]
    },
    {
     "name": "stderr",
     "output_type": "stream",
     "text": [
      "Warning message:\n",
      "“glm.fit: fitted rates numerically 0 occurred”Warning message:\n",
      "“glm.fit: fitted rates numerically 0 occurred”Warning message:\n",
      "“glm.fit: fitted rates numerically 0 occurred”Warning message:\n",
      "“glm.fit: fitted rates numerically 0 occurred”Warning message:\n",
      "“glm.fit: fitted rates numerically 0 occurred”Warning message:\n",
      "“glm.fit: fitted rates numerically 0 occurred”Warning message:\n",
      "“glm.fit: fitted rates numerically 0 occurred”Warning message:\n",
      "“glm.fit: fitted rates numerically 0 occurred”Warning message:\n",
      "“glm.fit: fitted rates numerically 0 occurred”"
     ]
    },
    {
     "name": "stdout",
     "output_type": "stream",
     "text": [
      ".."
     ]
    },
    {
     "name": "stderr",
     "output_type": "stream",
     "text": [
      "Warning message:\n",
      "“glm.fit: fitted rates numerically 0 occurred”Warning message:\n",
      "“glm.fit: fitted rates numerically 0 occurred”Warning message:\n",
      "“glm.fit: fitted rates numerically 0 occurred”"
     ]
    },
    {
     "name": "stdout",
     "output_type": "stream",
     "text": [
      "."
     ]
    },
    {
     "name": "stderr",
     "output_type": "stream",
     "text": [
      "Warning message:\n",
      "“glm.fit: fitted rates numerically 0 occurred”Warning message:\n",
      "“glm.fit: fitted rates numerically 0 occurred”Warning message:\n",
      "“glm.fit: fitted rates numerically 0 occurred”Warning message:\n",
      "“glm.fit: fitted rates numerically 0 occurred”Warning message:\n",
      "“glm.fit: fitted rates numerically 0 occurred”Warning message:\n",
      "“glm.fit: fitted rates numerically 0 occurred”Warning message:\n",
      "“glm.fit: fitted rates numerically 0 occurred”"
     ]
    },
    {
     "name": "stdout",
     "output_type": "stream",
     "text": [
      "."
     ]
    },
    {
     "name": "stderr",
     "output_type": "stream",
     "text": [
      "Warning message:\n",
      "“glm.fit: fitted rates numerically 0 occurred”Warning message:\n",
      "“glm.fit: fitted rates numerically 0 occurred”Warning message:\n",
      "“glm.fit: fitted rates numerically 0 occurred”Warning message:\n",
      "“glm.fit: fitted rates numerically 0 occurred”Warning message:\n",
      "“glm.fit: fitted rates numerically 0 occurred”"
     ]
    },
    {
     "name": "stdout",
     "output_type": "stream",
     "text": [
      "."
     ]
    },
    {
     "name": "stderr",
     "output_type": "stream",
     "text": [
      "Warning message:\n",
      "“glm.fit: fitted rates numerically 0 occurred”Warning message:\n",
      "“glm.fit: fitted rates numerically 0 occurred”"
     ]
    },
    {
     "name": "stdout",
     "output_type": "stream",
     "text": [
      "."
     ]
    },
    {
     "name": "stderr",
     "output_type": "stream",
     "text": [
      "Warning message:\n",
      "“glm.fit: fitted rates numerically 0 occurred”Warning message:\n",
      "“glm.fit: fitted rates numerically 0 occurred”Warning message:\n",
      "“glm.fit: fitted rates numerically 0 occurred”Warning message:\n",
      "“glm.fit: fitted rates numerically 0 occurred”Warning message:\n",
      "“glm.fit: fitted rates numerically 0 occurred”Warning message:\n",
      "“glm.fit: fitted rates numerically 0 occurred”Warning message:\n",
      "“glm.fit: fitted rates numerically 0 occurred”"
     ]
    },
    {
     "name": "stdout",
     "output_type": "stream",
     "text": [
      "."
     ]
    },
    {
     "name": "stderr",
     "output_type": "stream",
     "text": [
      "Warning message:\n",
      "“glm.fit: fitted rates numerically 0 occurred”Warning message:\n",
      "“glm.fit: fitted rates numerically 0 occurred”"
     ]
    },
    {
     "name": "stdout",
     "output_type": "stream",
     "text": [
      "."
     ]
    },
    {
     "name": "stderr",
     "output_type": "stream",
     "text": [
      "Warning message:\n",
      "“glm.fit: fitted rates numerically 0 occurred”Warning message:\n",
      "“glm.fit: fitted rates numerically 0 occurred”Warning message:\n",
      "“glm.fit: fitted rates numerically 0 occurred”Warning message:\n",
      "“glm.fit: fitted rates numerically 0 occurred”Warning message:\n",
      "“glm.fit: fitted rates numerically 0 occurred”"
     ]
    },
    {
     "name": "stdout",
     "output_type": "stream",
     "text": [
      "."
     ]
    },
    {
     "name": "stderr",
     "output_type": "stream",
     "text": [
      "Warning message:\n",
      "“glm.fit: fitted rates numerically 0 occurred”"
     ]
    },
    {
     "name": "stdout",
     "output_type": "stream",
     "text": [
      "."
     ]
    },
    {
     "name": "stderr",
     "output_type": "stream",
     "text": [
      "Warning message:\n",
      "“glm.fit: fitted rates numerically 0 occurred”Warning message:\n",
      "“glm.fit: fitted rates numerically 0 occurred”Warning message:\n",
      "“glm.fit: fitted rates numerically 0 occurred”"
     ]
    },
    {
     "name": "stdout",
     "output_type": "stream",
     "text": [
      "."
     ]
    },
    {
     "name": "stderr",
     "output_type": "stream",
     "text": [
      "Warning message:\n",
      "“glm.fit: fitted rates numerically 0 occurred”Warning message:\n",
      "“glm.fit: fitted rates numerically 0 occurred”Warning message:\n",
      "“glm.fit: fitted rates numerically 0 occurred”Warning message:\n",
      "“glm.fit: fitted rates numerically 0 occurred”Warning message:\n",
      "“glm.fit: fitted rates numerically 0 occurred”Warning message:\n",
      "“glm.fit: fitted rates numerically 0 occurred”"
     ]
    },
    {
     "name": "stdout",
     "output_type": "stream",
     "text": [
      "."
     ]
    },
    {
     "name": "stderr",
     "output_type": "stream",
     "text": [
      "Warning message:\n",
      "“glm.fit: fitted rates numerically 0 occurred”Warning message:\n",
      "“glm.fit: fitted rates numerically 0 occurred”"
     ]
    },
    {
     "name": "stdout",
     "output_type": "stream",
     "text": [
      ".."
     ]
    },
    {
     "name": "stderr",
     "output_type": "stream",
     "text": [
      "Warning message:\n",
      "“glm.fit: fitted rates numerically 0 occurred”Warning message:\n",
      "“glm.fit: fitted rates numerically 0 occurred”Warning message:\n",
      "“glm.fit: fitted rates numerically 0 occurred”Warning message:\n",
      "“glm.fit: fitted rates numerically 0 occurred”Warning message:\n",
      "“glm.fit: fitted rates numerically 0 occurred”Warning message:\n",
      "“glm.fit: fitted rates numerically 0 occurred”Warning message:\n",
      "“glm.fit: fitted rates numerically 0 occurred”"
     ]
    },
    {
     "name": "stdout",
     "output_type": "stream",
     "text": [
      "."
     ]
    },
    {
     "name": "stderr",
     "output_type": "stream",
     "text": [
      "Warning message:\n",
      "“glm.fit: fitted rates numerically 0 occurred”Warning message:\n",
      "“glm.fit: fitted rates numerically 0 occurred”Warning message:\n",
      "“glm.fit: fitted rates numerically 0 occurred”Warning message:\n",
      "“glm.fit: fitted rates numerically 0 occurred”Warning message:\n",
      "“glm.fit: fitted rates numerically 0 occurred”Warning message:\n",
      "“glm.fit: fitted rates numerically 0 occurred”Warning message:\n",
      "“glm.fit: fitted rates numerically 0 occurred”Warning message:\n",
      "“glm.fit: fitted rates numerically 0 occurred”Warning message:\n",
      "“glm.fit: fitted rates numerically 0 occurred”"
     ]
    },
    {
     "name": "stdout",
     "output_type": "stream",
     "text": [
      "."
     ]
    },
    {
     "name": "stderr",
     "output_type": "stream",
     "text": [
      "Warning message:\n",
      "“glm.fit: fitted rates numerically 0 occurred”"
     ]
    },
    {
     "name": "stdout",
     "output_type": "stream",
     "text": [
      "."
     ]
    },
    {
     "name": "stderr",
     "output_type": "stream",
     "text": [
      "Warning message:\n",
      "“glm.fit: fitted rates numerically 0 occurred”Warning message:\n",
      "“glm.fit: fitted rates numerically 0 occurred”"
     ]
    },
    {
     "name": "stdout",
     "output_type": "stream",
     "text": [
      "."
     ]
    },
    {
     "name": "stderr",
     "output_type": "stream",
     "text": [
      "Warning message:\n",
      "“glm.fit: fitted rates numerically 0 occurred”Warning message:\n",
      "“glm.fit: fitted rates numerically 0 occurred”"
     ]
    },
    {
     "name": "stdout",
     "output_type": "stream",
     "text": [
      "."
     ]
    },
    {
     "name": "stderr",
     "output_type": "stream",
     "text": [
      "Warning message:\n",
      "“glm.fit: fitted rates numerically 0 occurred”Warning message:\n",
      "“glm.fit: fitted rates numerically 0 occurred”Warning message:\n",
      "“glm.fit: fitted rates numerically 0 occurred”Warning message:\n",
      "“glm.fit: fitted rates numerically 0 occurred”"
     ]
    },
    {
     "name": "stdout",
     "output_type": "stream",
     "text": [
      "."
     ]
    },
    {
     "name": "stderr",
     "output_type": "stream",
     "text": [
      "Warning message:\n",
      "“glm.fit: fitted rates numerically 0 occurred”Warning message:\n",
      "“glm.fit: fitted rates numerically 0 occurred”"
     ]
    },
    {
     "name": "stdout",
     "output_type": "stream",
     "text": [
      ".."
     ]
    },
    {
     "name": "stderr",
     "output_type": "stream",
     "text": [
      "Warning message:\n",
      "“glm.fit: fitted rates numerically 0 occurred”Warning message:\n",
      "“glm.fit: fitted rates numerically 0 occurred”Warning message:\n",
      "“glm.fit: fitted rates numerically 0 occurred”Warning message:\n",
      "“glm.fit: fitted rates numerically 0 occurred”"
     ]
    },
    {
     "name": "stdout",
     "output_type": "stream",
     "text": [
      ".."
     ]
    },
    {
     "name": "stderr",
     "output_type": "stream",
     "text": [
      "Warning message:\n",
      "“glm.fit: fitted rates numerically 0 occurred”Warning message:\n",
      "“glm.fit: fitted rates numerically 0 occurred”Warning message:\n",
      "“glm.fit: fitted rates numerically 0 occurred”"
     ]
    },
    {
     "name": "stdout",
     "output_type": "stream",
     "text": [
      "."
     ]
    },
    {
     "name": "stderr",
     "output_type": "stream",
     "text": [
      "Warning message:\n",
      "“glm.fit: fitted rates numerically 0 occurred”Warning message:\n",
      "“glm.fit: fitted rates numerically 0 occurred”Warning message:\n",
      "“glm.fit: fitted rates numerically 0 occurred”Warning message:\n",
      "“glm.fit: fitted rates numerically 0 occurred”"
     ]
    },
    {
     "name": "stdout",
     "output_type": "stream",
     "text": [
      "."
     ]
    },
    {
     "name": "stderr",
     "output_type": "stream",
     "text": [
      "Warning message:\n",
      "“glm.fit: fitted rates numerically 0 occurred”Warning message:\n",
      "“glm.fit: fitted rates numerically 0 occurred”Warning message:\n",
      "“glm.fit: fitted rates numerically 0 occurred”"
     ]
    },
    {
     "name": "stdout",
     "output_type": "stream",
     "text": [
      ".."
     ]
    },
    {
     "name": "stderr",
     "output_type": "stream",
     "text": [
      "Warning message:\n",
      "“glm.fit: fitted rates numerically 0 occurred”Warning message:\n",
      "“glm.fit: fitted rates numerically 0 occurred”"
     ]
    },
    {
     "name": "stdout",
     "output_type": "stream",
     "text": [
      "."
     ]
    },
    {
     "name": "stderr",
     "output_type": "stream",
     "text": [
      "Warning message:\n",
      "“glm.fit: fitted rates numerically 0 occurred”"
     ]
    },
    {
     "name": "stdout",
     "output_type": "stream",
     "text": [
      ".."
     ]
    },
    {
     "name": "stderr",
     "output_type": "stream",
     "text": [
      "Warning message:\n",
      "“glm.fit: fitted rates numerically 0 occurred”Warning message:\n",
      "“glm.fit: fitted rates numerically 0 occurred”"
     ]
    },
    {
     "name": "stdout",
     "output_type": "stream",
     "text": [
      "."
     ]
    },
    {
     "name": "stderr",
     "output_type": "stream",
     "text": [
      "Warning message:\n",
      "“glm.fit: fitted rates numerically 0 occurred”Warning message:\n",
      "“glm.fit: fitted rates numerically 0 occurred”"
     ]
    },
    {
     "name": "stdout",
     "output_type": "stream",
     "text": [
      ".."
     ]
    },
    {
     "name": "stderr",
     "output_type": "stream",
     "text": [
      "Warning message:\n",
      "“glm.fit: fitted rates numerically 0 occurred”Warning message:\n",
      "“glm.fit: fitted rates numerically 0 occurred”"
     ]
    },
    {
     "name": "stdout",
     "output_type": "stream",
     "text": [
      "."
     ]
    },
    {
     "name": "stderr",
     "output_type": "stream",
     "text": [
      "Warning message:\n",
      "“glm.fit: fitted rates numerically 0 occurred”Warning message:\n",
      "“glm.fit: fitted rates numerically 0 occurred”Warning message:\n",
      "“glm.fit: fitted rates numerically 0 occurred”Warning message:\n",
      "“glm.fit: fitted rates numerically 0 occurred”"
     ]
    },
    {
     "name": "stdout",
     "output_type": "stream",
     "text": [
      "...."
     ]
    },
    {
     "name": "stderr",
     "output_type": "stream",
     "text": [
      "Warning message:\n",
      "“glm.fit: fitted rates numerically 0 occurred”Warning message:\n",
      "“glm.fit: fitted rates numerically 0 occurred”Warning message:\n",
      "“glm.fit: fitted rates numerically 0 occurred”Warning message:\n",
      "“glm.fit: fitted rates numerically 0 occurred”Warning message:\n",
      "“glm.fit: fitted rates numerically 0 occurred”Warning message:\n",
      "“glm.fit: fitted rates numerically 0 occurred”Warning message:\n",
      "“glm.fit: fitted rates numerically 0 occurred”Warning message:\n",
      "“glm.fit: fitted rates numerically 0 occurred”Warning message:\n",
      "“glm.fit: fitted rates numerically 0 occurred”Warning message:\n",
      "“glm.fit: fitted rates numerically 0 occurred”Warning message:\n",
      "“glm.fit: fitted rates numerically 0 occurred”"
     ]
    },
    {
     "name": "stdout",
     "output_type": "stream",
     "text": [
      "."
     ]
    },
    {
     "name": "stderr",
     "output_type": "stream",
     "text": [
      "Warning message:\n",
      "“glm.fit: fitted rates numerically 0 occurred”Warning message:\n",
      "“glm.fit: fitted rates numerically 0 occurred”"
     ]
    },
    {
     "name": "stdout",
     "output_type": "stream",
     "text": [
      "."
     ]
    },
    {
     "name": "stderr",
     "output_type": "stream",
     "text": [
      "Warning message:\n",
      "“glm.fit: fitted rates numerically 0 occurred”Warning message:\n",
      "“glm.fit: fitted rates numerically 0 occurred”"
     ]
    },
    {
     "name": "stdout",
     "output_type": "stream",
     "text": [
      "."
     ]
    },
    {
     "name": "stderr",
     "output_type": "stream",
     "text": [
      "Warning message:\n",
      "“glm.fit: fitted rates numerically 0 occurred”Warning message:\n",
      "“glm.fit: fitted rates numerically 0 occurred”"
     ]
    },
    {
     "name": "stdout",
     "output_type": "stream",
     "text": [
      "."
     ]
    },
    {
     "name": "stderr",
     "output_type": "stream",
     "text": [
      "Warning message:\n",
      "“glm.fit: fitted rates numerically 0 occurred”Warning message:\n",
      "“glm.fit: fitted rates numerically 0 occurred”Warning message:\n",
      "“glm.fit: fitted rates numerically 0 occurred”Warning message:\n",
      "“glm.fit: fitted rates numerically 0 occurred”Warning message:\n",
      "“glm.fit: fitted rates numerically 0 occurred”Warning message:\n",
      "“glm.fit: fitted rates numerically 0 occurred”Warning message:\n",
      "“glm.fit: fitted rates numerically 0 occurred”"
     ]
    },
    {
     "name": "stdout",
     "output_type": "stream",
     "text": [
      "."
     ]
    },
    {
     "name": "stderr",
     "output_type": "stream",
     "text": [
      "Warning message:\n",
      "“glm.fit: fitted rates numerically 0 occurred”Warning message:\n",
      "“glm.fit: fitted rates numerically 0 occurred”Warning message:\n",
      "“glm.fit: fitted rates numerically 0 occurred”Warning message:\n",
      "“glm.fit: fitted rates numerically 0 occurred”Warning message:\n",
      "“glm.fit: fitted rates numerically 0 occurred”Warning message:\n",
      "“glm.fit: fitted rates numerically 0 occurred”Warning message:\n",
      "“glm.fit: fitted rates numerically 0 occurred”Warning message:\n",
      "“glm.fit: fitted rates numerically 0 occurred”Warning message:\n",
      "“glm.fit: fitted rates numerically 0 occurred”Warning message:\n",
      "“glm.fit: fitted rates numerically 0 occurred”Warning message:\n",
      "“glm.fit: fitted rates numerically 0 occurred”Warning message:\n",
      "“glm.fit: fitted rates numerically 0 occurred”"
     ]
    },
    {
     "name": "stdout",
     "output_type": "stream",
     "text": [
      "."
     ]
    },
    {
     "name": "stderr",
     "output_type": "stream",
     "text": [
      "Warning message:\n",
      "“glm.fit: fitted rates numerically 0 occurred”Warning message:\n",
      "“glm.fit: fitted rates numerically 0 occurred”Warning message:\n",
      "“glm.fit: fitted rates numerically 0 occurred”Warning message:\n",
      "“glm.fit: fitted rates numerically 0 occurred”Warning message:\n",
      "“glm.fit: fitted rates numerically 0 occurred”Warning message:\n",
      "“glm.fit: fitted rates numerically 0 occurred”Warning message:\n",
      "“glm.fit: fitted rates numerically 0 occurred”Warning message:\n",
      "“glm.fit: fitted rates numerically 0 occurred”"
     ]
    },
    {
     "name": "stdout",
     "output_type": "stream",
     "text": [
      "."
     ]
    },
    {
     "name": "stderr",
     "output_type": "stream",
     "text": [
      "Warning message:\n",
      "“glm.fit: fitted rates numerically 0 occurred”Warning message:\n",
      "“glm.fit: fitted rates numerically 0 occurred”Warning message:\n",
      "“glm.fit: fitted rates numerically 0 occurred”Warning message:\n",
      "“glm.fit: fitted rates numerically 0 occurred”Warning message:\n",
      "“glm.fit: fitted rates numerically 0 occurred”Warning message:\n",
      "“glm.fit: fitted rates numerically 0 occurred”Warning message:\n",
      "“glm.fit: fitted rates numerically 0 occurred”Warning message:\n",
      "“glm.fit: fitted rates numerically 0 occurred”Warning message:\n",
      "“glm.fit: fitted rates numerically 0 occurred”Warning message:\n",
      "“glm.fit: fitted rates numerically 0 occurred”Warning message:\n",
      "“glm.fit: fitted rates numerically 0 occurred”Warning message:\n",
      "“glm.fit: fitted rates numerically 0 occurred”Warning message:\n",
      "“glm.fit: fitted rates numerically 0 occurred”"
     ]
    },
    {
     "name": "stdout",
     "output_type": "stream",
     "text": [
      "."
     ]
    },
    {
     "name": "stderr",
     "output_type": "stream",
     "text": [
      "Warning message:\n",
      "“glm.fit: fitted rates numerically 0 occurred”Warning message:\n",
      "“glm.fit: fitted rates numerically 0 occurred”"
     ]
    },
    {
     "name": "stdout",
     "output_type": "stream",
     "text": [
      ".."
     ]
    },
    {
     "name": "stderr",
     "output_type": "stream",
     "text": [
      "Warning message:\n",
      "“glm.fit: fitted rates numerically 0 occurred”Warning message:\n",
      "“glm.fit: fitted rates numerically 0 occurred”Warning message:\n",
      "“glm.fit: fitted rates numerically 0 occurred”"
     ]
    },
    {
     "name": "stdout",
     "output_type": "stream",
     "text": [
      ".."
     ]
    },
    {
     "name": "stderr",
     "output_type": "stream",
     "text": [
      "Warning message:\n",
      "“glm.fit: fitted rates numerically 0 occurred”Warning message:\n",
      "“glm.fit: fitted rates numerically 0 occurred”Warning message:\n",
      "“glm.fit: fitted rates numerically 0 occurred”Warning message:\n",
      "“glm.fit: fitted rates numerically 0 occurred”Warning message:\n",
      "“glm.fit: fitted rates numerically 0 occurred”"
     ]
    },
    {
     "name": "stdout",
     "output_type": "stream",
     "text": [
      "."
     ]
    },
    {
     "name": "stderr",
     "output_type": "stream",
     "text": [
      "Warning message:\n",
      "“glm.fit: fitted rates numerically 0 occurred”Warning message:\n",
      "“glm.fit: fitted rates numerically 0 occurred”Warning message:\n",
      "“glm.fit: fitted rates numerically 0 occurred”Warning message:\n",
      "“glm.fit: fitted rates numerically 0 occurred”Warning message:\n",
      "“glm.fit: fitted rates numerically 0 occurred”Warning message:\n",
      "“glm.fit: fitted rates numerically 0 occurred”Warning message:\n",
      "“glm.fit: fitted rates numerically 0 occurred”Warning message:\n",
      "“glm.fit: fitted rates numerically 0 occurred”Warning message:\n",
      "“glm.fit: fitted rates numerically 0 occurred”Warning message:\n",
      "“glm.fit: fitted rates numerically 0 occurred”Warning message:\n",
      "“glm.fit: fitted rates numerically 0 occurred”Warning message:\n",
      "“glm.fit: fitted rates numerically 0 occurred”Warning message:\n",
      "“glm.fit: fitted rates numerically 0 occurred”"
     ]
    },
    {
     "name": "stdout",
     "output_type": "stream",
     "text": [
      "."
     ]
    },
    {
     "name": "stderr",
     "output_type": "stream",
     "text": [
      "Warning message:\n",
      "“glm.fit: fitted rates numerically 0 occurred”Warning message:\n",
      "“glm.fit: fitted rates numerically 0 occurred”Warning message:\n",
      "“glm.fit: fitted rates numerically 0 occurred”"
     ]
    },
    {
     "name": "stdout",
     "output_type": "stream",
     "text": [
      ".."
     ]
    },
    {
     "name": "stderr",
     "output_type": "stream",
     "text": [
      "Warning message:\n",
      "“glm.fit: fitted rates numerically 0 occurred”Warning message:\n",
      "“glm.fit: fitted rates numerically 0 occurred”Warning message:\n",
      "“glm.fit: fitted rates numerically 0 occurred”Warning message:\n",
      "“glm.fit: fitted rates numerically 0 occurred”Warning message:\n",
      "“glm.fit: fitted rates numerically 0 occurred”Warning message:\n",
      "“glm.fit: fitted rates numerically 0 occurred”Warning message:\n",
      "“glm.fit: fitted rates numerically 0 occurred”Warning message:\n",
      "“glm.fit: fitted rates numerically 0 occurred”"
     ]
    },
    {
     "name": "stdout",
     "output_type": "stream",
     "text": [
      "."
     ]
    },
    {
     "name": "stderr",
     "output_type": "stream",
     "text": [
      "Warning message:\n",
      "“glm.fit: fitted rates numerically 0 occurred”Warning message:\n",
      "“glm.fit: fitted rates numerically 0 occurred”Warning message:\n",
      "“glm.fit: fitted rates numerically 0 occurred”Warning message:\n",
      "“glm.fit: fitted rates numerically 0 occurred”Warning message:\n",
      "“glm.fit: fitted rates numerically 0 occurred”Warning message:\n",
      "“glm.fit: fitted rates numerically 0 occurred”Warning message:\n",
      "“glm.fit: fitted rates numerically 0 occurred”Warning message:\n",
      "“glm.fit: fitted rates numerically 0 occurred”Warning message:\n",
      "“glm.fit: fitted rates numerically 0 occurred”Warning message:\n",
      "“glm.fit: fitted rates numerically 0 occurred”Warning message:\n",
      "“glm.fit: fitted rates numerically 0 occurred”Warning message:\n",
      "“glm.fit: fitted rates numerically 0 occurred”Warning message:\n",
      "“glm.fit: fitted rates numerically 0 occurred”Warning message:\n",
      "“glm.fit: fitted rates numerically 0 occurred”Warning message:\n",
      "“glm.fit: fitted rates numerically 0 occurred”"
     ]
    },
    {
     "name": "stdout",
     "output_type": "stream",
     "text": [
      "."
     ]
    },
    {
     "name": "stderr",
     "output_type": "stream",
     "text": [
      "Warning message:\n",
      "“glm.fit: fitted rates numerically 0 occurred”Warning message:\n",
      "“glm.fit: fitted rates numerically 0 occurred”Warning message:\n",
      "“glm.fit: fitted rates numerically 0 occurred”Warning message:\n",
      "“glm.fit: fitted rates numerically 0 occurred”Warning message:\n",
      "“glm.fit: fitted rates numerically 0 occurred”Warning message:\n",
      "“glm.fit: fitted rates numerically 0 occurred”"
     ]
    },
    {
     "name": "stdout",
     "output_type": "stream",
     "text": [
      "...."
     ]
    },
    {
     "name": "stderr",
     "output_type": "stream",
     "text": [
      "Warning message:\n",
      "“glm.fit: fitted rates numerically 0 occurred”Warning message:\n",
      "“glm.fit: fitted rates numerically 0 occurred”Warning message:\n",
      "“glm.fit: fitted rates numerically 0 occurred”Warning message:\n",
      "“glm.fit: fitted rates numerically 0 occurred”Warning message:\n",
      "“glm.fit: fitted rates numerically 0 occurred”Warning message:\n",
      "“glm.fit: fitted rates numerically 0 occurred”Warning message:\n",
      "“glm.fit: algorithm did not converge”Warning message:\n",
      "“glm.fit: fitted rates numerically 0 occurred”Warning message:\n",
      "“glm.fit: algorithm did not converge”Warning message:\n",
      "“glm.fit: fitted rates numerically 0 occurred”Warning message:\n",
      "“glm.fit: algorithm did not converge”Warning message:\n",
      "“glm.fit: fitted rates numerically 0 occurred”Warning message:\n",
      "“glm.fit: algorithm did not converge”Warning message:\n",
      "“glm.fit: fitted rates numerically 0 occurred”Warning message:\n",
      "“glm.fit: algorithm did not converge”Warning message:\n",
      "“glm.fit: fitted rates numerically 0 occurred”Warning message:\n",
      "“glm.fit: algorithm did not converge”Warning message:\n",
      "“glm.fit: fitted rates numerically 0 occurred”Warning message:\n",
      "“glm.fit: fitted rates numerically 0 occurred”Warning message:\n",
      "“glm.fit: fitted rates numerically 0 occurred”Warning message:\n",
      "“glm.fit: fitted rates numerically 0 occurred”Warning message:\n",
      "“glm.fit: fitted rates numerically 0 occurred”"
     ]
    },
    {
     "name": "stdout",
     "output_type": "stream",
     "text": [
      ".."
     ]
    },
    {
     "name": "stderr",
     "output_type": "stream",
     "text": [
      "Warning message:\n",
      "“glm.fit: fitted rates numerically 0 occurred”Warning message:\n",
      "“glm.fit: fitted rates numerically 0 occurred”Warning message:\n",
      "“glm.fit: fitted rates numerically 0 occurred”"
     ]
    },
    {
     "name": "stdout",
     "output_type": "stream",
     "text": [
      "."
     ]
    },
    {
     "name": "stderr",
     "output_type": "stream",
     "text": [
      "Warning message:\n",
      "“glm.fit: fitted rates numerically 0 occurred”Warning message:\n",
      "“glm.fit: fitted rates numerically 0 occurred”"
     ]
    },
    {
     "name": "stdout",
     "output_type": "stream",
     "text": [
      "."
     ]
    },
    {
     "name": "stderr",
     "output_type": "stream",
     "text": [
      "Warning message:\n",
      "“glm.fit: fitted rates numerically 0 occurred”"
     ]
    },
    {
     "name": "stdout",
     "output_type": "stream",
     "text": [
      "."
     ]
    },
    {
     "name": "stderr",
     "output_type": "stream",
     "text": [
      "Warning message:\n",
      "“glm.fit: fitted rates numerically 0 occurred”Warning message:\n",
      "“glm.fit: fitted rates numerically 0 occurred”"
     ]
    },
    {
     "name": "stdout",
     "output_type": "stream",
     "text": [
      "."
     ]
    },
    {
     "name": "stderr",
     "output_type": "stream",
     "text": [
      "Warning message:\n",
      "“glm.fit: fitted rates numerically 0 occurred”Warning message:\n",
      "“glm.fit: fitted rates numerically 0 occurred”Warning message:\n",
      "“glm.fit: fitted rates numerically 0 occurred”"
     ]
    },
    {
     "name": "stdout",
     "output_type": "stream",
     "text": [
      "."
     ]
    },
    {
     "name": "stderr",
     "output_type": "stream",
     "text": [
      "Warning message:\n",
      "“glm.fit: fitted rates numerically 0 occurred”Warning message:\n",
      "“glm.fit: fitted rates numerically 0 occurred”Warning message:\n",
      "“glm.fit: fitted rates numerically 0 occurred”Warning message:\n",
      "“glm.fit: fitted rates numerically 0 occurred”Warning message:\n",
      "“glm.fit: fitted rates numerically 0 occurred”Warning message:\n",
      "“glm.fit: fitted rates numerically 0 occurred”Warning message:\n",
      "“glm.fit: fitted rates numerically 0 occurred”Warning message:\n",
      "“glm.fit: fitted rates numerically 0 occurred”Warning message:\n",
      "“glm.fit: fitted rates numerically 0 occurred”Warning message:\n",
      "“glm.fit: fitted rates numerically 0 occurred”Warning message:\n",
      "“glm.fit: fitted rates numerically 0 occurred”"
     ]
    },
    {
     "name": "stdout",
     "output_type": "stream",
     "text": [
      "."
     ]
    },
    {
     "name": "stderr",
     "output_type": "stream",
     "text": [
      "Warning message:\n",
      "“glm.fit: fitted rates numerically 0 occurred”Warning message:\n",
      "“glm.fit: fitted rates numerically 0 occurred”Warning message:\n",
      "“glm.fit: fitted rates numerically 0 occurred”Warning message:\n",
      "“glm.fit: fitted rates numerically 0 occurred”Warning message:\n",
      "“glm.fit: fitted rates numerically 0 occurred”Warning message:\n",
      "“glm.fit: fitted rates numerically 0 occurred”Warning message:\n",
      "“glm.fit: fitted rates numerically 0 occurred”Warning message:\n",
      "“glm.fit: fitted rates numerically 0 occurred”Warning message:\n",
      "“glm.fit: fitted rates numerically 0 occurred”Warning message:\n",
      "“glm.fit: fitted rates numerically 0 occurred”Warning message:\n",
      "“glm.fit: fitted rates numerically 0 occurred”Warning message:\n",
      "“glm.fit: fitted rates numerically 0 occurred”"
     ]
    },
    {
     "name": "stdout",
     "output_type": "stream",
     "text": [
      "."
     ]
    },
    {
     "name": "stderr",
     "output_type": "stream",
     "text": [
      "Warning message:\n",
      "“glm.fit: fitted rates numerically 0 occurred”Warning message:\n",
      "“glm.fit: fitted rates numerically 0 occurred”Warning message:\n",
      "“glm.fit: fitted rates numerically 0 occurred”Warning message:\n",
      "“glm.fit: fitted rates numerically 0 occurred”Warning message:\n",
      "“glm.fit: fitted rates numerically 0 occurred”Warning message:\n",
      "“glm.fit: fitted rates numerically 0 occurred”Warning message:\n",
      "“glm.fit: fitted rates numerically 0 occurred”Warning message:\n",
      "“glm.fit: fitted rates numerically 0 occurred”Warning message:\n",
      "“glm.fit: fitted rates numerically 0 occurred”Warning message:\n",
      "“glm.fit: fitted rates numerically 0 occurred”Warning message:\n",
      "“glm.fit: fitted rates numerically 0 occurred”Warning message:\n",
      "“glm.fit: fitted rates numerically 0 occurred”Warning message:\n",
      "“glm.fit: fitted rates numerically 0 occurred”Warning message:\n",
      "“glm.fit: fitted rates numerically 0 occurred”Warning message:\n",
      "“glm.fit: fitted rates numerically 0 occurred”Warning message:\n",
      "“glm.fit: fitted rates numerically 0 occurred”Warning message:\n",
      "“glm.fit: fitted rates numerically 0 occurred”Warning message:\n",
      "“glm.fit: fitted rates numerically 0 occurred”Warning message:\n",
      "“glm.fit: fitted rates numerically 0 occurred”Warning message:\n",
      "“glm.fit: fitted rates numerically 0 occurred”Warning message:\n",
      "“glm.fit: fitted rates numerically 0 occurred”Warning message:\n",
      "“glm.fit: fitted rates numerically 0 occurred”Warning message:\n",
      "“glm.fit: fitted rates numerically 0 occurred”Warning message:\n",
      "“glm.fit: fitted rates numerically 0 occurred”Warning message:\n",
      "“glm.fit: fitted rates numerically 0 occurred”Warning message:\n",
      "“glm.fit: fitted rates numerically 0 occurred”Warning message:\n",
      "“glm.fit: fitted rates numerically 0 occurred”Warning message:\n",
      "“glm.fit: fitted rates numerically 0 occurred”Warning message:\n",
      "“glm.fit: fitted rates numerically 0 occurred”Warning message:\n",
      "“glm.fit: fitted rates numerically 0 occurred”Warning message:\n",
      "“glm.fit: fitted rates numerically 0 occurred”Warning message:\n",
      "“glm.fit: fitted rates numerically 0 occurred”"
     ]
    },
    {
     "name": "stdout",
     "output_type": "stream",
     "text": [
      "."
     ]
    },
    {
     "name": "stderr",
     "output_type": "stream",
     "text": [
      "Warning message:\n",
      "“glm.fit: fitted rates numerically 0 occurred”"
     ]
    },
    {
     "name": "stdout",
     "output_type": "stream",
     "text": [
      ".."
     ]
    },
    {
     "name": "stderr",
     "output_type": "stream",
     "text": [
      "Warning message:\n",
      "“glm.fit: fitted rates numerically 0 occurred”Warning message:\n",
      "“glm.fit: fitted rates numerically 0 occurred”"
     ]
    },
    {
     "name": "stdout",
     "output_type": "stream",
     "text": [
      ".."
     ]
    },
    {
     "name": "stderr",
     "output_type": "stream",
     "text": [
      "Warning message:\n",
      "“glm.fit: fitted rates numerically 0 occurred”"
     ]
    },
    {
     "name": "stdout",
     "output_type": "stream",
     "text": [
      ".."
     ]
    },
    {
     "name": "stderr",
     "output_type": "stream",
     "text": [
      "Warning message:\n",
      "“glm.fit: fitted rates numerically 0 occurred”Warning message:\n",
      "“glm.fit: fitted rates numerically 0 occurred”Warning message:\n",
      "“glm.fit: fitted rates numerically 0 occurred”Warning message:\n",
      "“glm.fit: fitted rates numerically 0 occurred”Warning message:\n",
      "“glm.fit: fitted rates numerically 0 occurred”Warning message:\n",
      "“glm.fit: fitted rates numerically 0 occurred”"
     ]
    },
    {
     "name": "stdout",
     "output_type": "stream",
     "text": [
      "..."
     ]
    },
    {
     "name": "stderr",
     "output_type": "stream",
     "text": [
      "Warning message:\n",
      "“glm.fit: fitted rates numerically 0 occurred”Warning message:\n",
      "“glm.fit: fitted rates numerically 0 occurred”"
     ]
    },
    {
     "name": "stdout",
     "output_type": "stream",
     "text": [
      ".."
     ]
    },
    {
     "name": "stderr",
     "output_type": "stream",
     "text": [
      "Warning message:\n",
      "“glm.fit: fitted rates numerically 0 occurred”Warning message:\n",
      "“glm.fit: fitted rates numerically 0 occurred”"
     ]
    },
    {
     "name": "stdout",
     "output_type": "stream",
     "text": [
      "......"
     ]
    },
    {
     "name": "stderr",
     "output_type": "stream",
     "text": [
      "Warning message:\n",
      "“glm.fit: fitted rates numerically 0 occurred”Warning message:\n",
      "“glm.fit: fitted rates numerically 0 occurred”Warning message:\n",
      "“glm.fit: fitted rates numerically 0 occurred”Warning message:\n",
      "“glm.fit: fitted rates numerically 0 occurred”Warning message:\n",
      "“glm.fit: fitted rates numerically 0 occurred”Warning message:\n",
      "“glm.fit: fitted rates numerically 0 occurred”Warning message:\n",
      "“glm.fit: fitted rates numerically 0 occurred”Warning message:\n",
      "“glm.fit: fitted rates numerically 0 occurred”Warning message:\n",
      "“glm.fit: fitted rates numerically 0 occurred”Warning message:\n",
      "“glm.fit: fitted rates numerically 0 occurred”Warning message:\n",
      "“glm.fit: fitted rates numerically 0 occurred”Warning message:\n",
      "“glm.fit: fitted rates numerically 0 occurred”Warning message:\n",
      "“glm.fit: fitted rates numerically 0 occurred”Warning message:\n",
      "“glm.fit: fitted rates numerically 0 occurred”"
     ]
    },
    {
     "name": "stdout",
     "output_type": "stream",
     "text": [
      ".."
     ]
    },
    {
     "name": "stderr",
     "output_type": "stream",
     "text": [
      "Warning message:\n",
      "“glm.fit: fitted rates numerically 0 occurred”Warning message:\n",
      "“glm.fit: fitted rates numerically 0 occurred”"
     ]
    },
    {
     "name": "stdout",
     "output_type": "stream",
     "text": [
      "."
     ]
    },
    {
     "name": "stderr",
     "output_type": "stream",
     "text": [
      "Warning message:\n",
      "“glm.fit: fitted rates numerically 0 occurred”Warning message:\n",
      "“glm.fit: fitted rates numerically 0 occurred”Warning message:\n",
      "“glm.fit: fitted rates numerically 0 occurred”"
     ]
    },
    {
     "name": "stdout",
     "output_type": "stream",
     "text": [
      "."
     ]
    },
    {
     "name": "stderr",
     "output_type": "stream",
     "text": [
      "Warning message:\n",
      "“glm.fit: fitted rates numerically 0 occurred”Warning message:\n",
      "“glm.fit: fitted rates numerically 0 occurred”Warning message:\n",
      "“glm.fit: fitted rates numerically 0 occurred”"
     ]
    },
    {
     "name": "stdout",
     "output_type": "stream",
     "text": [
      ".."
     ]
    },
    {
     "name": "stderr",
     "output_type": "stream",
     "text": [
      "Warning message:\n",
      "“glm.fit: fitted rates numerically 0 occurred”"
     ]
    },
    {
     "name": "stdout",
     "output_type": "stream",
     "text": [
      "."
     ]
    },
    {
     "name": "stderr",
     "output_type": "stream",
     "text": [
      "Warning message:\n",
      "“glm.fit: fitted rates numerically 0 occurred”Warning message:\n",
      "“glm.fit: fitted rates numerically 0 occurred”Warning message:\n",
      "“glm.fit: fitted rates numerically 0 occurred”Warning message:\n",
      "“glm.fit: fitted rates numerically 0 occurred”Warning message:\n",
      "“glm.fit: fitted rates numerically 0 occurred”Warning message:\n",
      "“glm.fit: fitted rates numerically 0 occurred”Warning message:\n",
      "“glm.fit: fitted rates numerically 0 occurred”Warning message:\n",
      "“glm.fit: fitted rates numerically 0 occurred”"
     ]
    },
    {
     "name": "stdout",
     "output_type": "stream",
     "text": [
      "."
     ]
    },
    {
     "name": "stderr",
     "output_type": "stream",
     "text": [
      "Warning message:\n",
      "“glm.fit: fitted rates numerically 0 occurred”Warning message:\n",
      "“glm.fit: fitted rates numerically 0 occurred”Warning message:\n",
      "“glm.fit: fitted rates numerically 0 occurred”Warning message:\n",
      "“glm.fit: fitted rates numerically 0 occurred”"
     ]
    },
    {
     "name": "stdout",
     "output_type": "stream",
     "text": [
      "."
     ]
    },
    {
     "name": "stderr",
     "output_type": "stream",
     "text": [
      "Warning message:\n",
      "“glm.fit: fitted rates numerically 0 occurred”Warning message:\n",
      "“glm.fit: fitted rates numerically 0 occurred”Warning message:\n",
      "“glm.fit: fitted rates numerically 0 occurred”"
     ]
    },
    {
     "name": "stdout",
     "output_type": "stream",
     "text": [
      "."
     ]
    },
    {
     "name": "stderr",
     "output_type": "stream",
     "text": [
      "Warning message:\n",
      "“glm.fit: fitted rates numerically 0 occurred”"
     ]
    },
    {
     "name": "stdout",
     "output_type": "stream",
     "text": [
      "."
     ]
    },
    {
     "name": "stderr",
     "output_type": "stream",
     "text": [
      "Warning message:\n",
      "“glm.fit: fitted rates numerically 0 occurred”Warning message:\n",
      "“glm.fit: fitted rates numerically 0 occurred”Warning message:\n",
      "“glm.fit: fitted rates numerically 0 occurred”Warning message:\n",
      "“glm.fit: fitted rates numerically 0 occurred”Warning message:\n",
      "“glm.fit: fitted rates numerically 0 occurred”"
     ]
    },
    {
     "name": "stdout",
     "output_type": "stream",
     "text": [
      "."
     ]
    },
    {
     "name": "stderr",
     "output_type": "stream",
     "text": [
      "Warning message:\n",
      "“glm.fit: fitted rates numerically 0 occurred”Warning message:\n",
      "“glm.fit: fitted rates numerically 0 occurred”Warning message:\n",
      "“glm.fit: fitted rates numerically 0 occurred”Warning message:\n",
      "“glm.fit: fitted rates numerically 0 occurred”Warning message:\n",
      "“glm.fit: fitted rates numerically 0 occurred”Warning message:\n",
      "“glm.fit: fitted rates numerically 0 occurred”Warning message:\n",
      "“glm.fit: fitted rates numerically 0 occurred”Warning message:\n",
      "“glm.fit: fitted rates numerically 0 occurred”Warning message:\n",
      "“glm.fit: fitted rates numerically 0 occurred”Warning message:\n",
      "“glm.fit: fitted rates numerically 0 occurred”"
     ]
    },
    {
     "name": "stdout",
     "output_type": "stream",
     "text": [
      ".."
     ]
    },
    {
     "name": "stderr",
     "output_type": "stream",
     "text": [
      "Warning message:\n",
      "“glm.fit: fitted rates numerically 0 occurred”Warning message:\n",
      "“glm.fit: fitted rates numerically 0 occurred”Warning message:\n",
      "“glm.fit: fitted rates numerically 0 occurred”Warning message:\n",
      "“glm.fit: fitted rates numerically 0 occurred”Warning message:\n",
      "“glm.fit: fitted rates numerically 0 occurred”Warning message:\n",
      "“glm.fit: fitted rates numerically 0 occurred”"
     ]
    },
    {
     "name": "stdout",
     "output_type": "stream",
     "text": [
      "."
     ]
    },
    {
     "name": "stderr",
     "output_type": "stream",
     "text": [
      "Warning message:\n",
      "“glm.fit: fitted rates numerically 0 occurred”Warning message:\n",
      "“glm.fit: fitted rates numerically 0 occurred”Warning message:\n",
      "“glm.fit: fitted rates numerically 0 occurred”Warning message:\n",
      "“glm.fit: fitted rates numerically 0 occurred”Warning message:\n",
      "“glm.fit: fitted rates numerically 0 occurred”Warning message:\n",
      "“glm.fit: fitted rates numerically 0 occurred”Warning message:\n",
      "“glm.fit: fitted rates numerically 0 occurred”Warning message:\n",
      "“glm.fit: fitted rates numerically 0 occurred”"
     ]
    },
    {
     "name": "stdout",
     "output_type": "stream",
     "text": [
      "."
     ]
    },
    {
     "name": "stderr",
     "output_type": "stream",
     "text": [
      "Warning message:\n",
      "“glm.fit: fitted rates numerically 0 occurred”Warning message:\n",
      "“glm.fit: fitted rates numerically 0 occurred”Warning message:\n",
      "“glm.fit: fitted rates numerically 0 occurred”Warning message:\n",
      "“glm.fit: fitted rates numerically 0 occurred”Warning message:\n",
      "“glm.fit: fitted rates numerically 0 occurred”Warning message:\n",
      "“glm.fit: fitted rates numerically 0 occurred”Warning message:\n",
      "“glm.fit: fitted rates numerically 0 occurred”Warning message:\n",
      "“glm.fit: fitted rates numerically 0 occurred”Warning message:\n",
      "“glm.fit: fitted rates numerically 0 occurred”Warning message:\n",
      "“glm.fit: fitted rates numerically 0 occurred”Warning message:\n",
      "“glm.fit: fitted rates numerically 0 occurred”Warning message:\n",
      "“glm.fit: fitted rates numerically 0 occurred”Warning message:\n",
      "“glm.fit: fitted rates numerically 0 occurred”Warning message:\n",
      "“glm.fit: fitted rates numerically 0 occurred”Warning message:\n",
      "“glm.fit: fitted rates numerically 0 occurred”Warning message:\n",
      "“glm.fit: fitted rates numerically 0 occurred”Warning message:\n",
      "“glm.fit: fitted rates numerically 0 occurred”Warning message:\n",
      "“glm.fit: fitted rates numerically 0 occurred”Warning message:\n",
      "“glm.fit: fitted rates numerically 0 occurred”Warning message:\n",
      "“glm.fit: fitted rates numerically 0 occurred”Warning message:\n",
      "“glm.fit: fitted rates numerically 0 occurred”Warning message:\n",
      "“glm.fit: fitted rates numerically 0 occurred”Warning message:\n",
      "“glm.fit: fitted rates numerically 0 occurred”Warning message:\n",
      "“glm.fit: fitted rates numerically 0 occurred”Warning message:\n",
      "“glm.fit: fitted rates numerically 0 occurred”Warning message:\n",
      "“glm.fit: fitted rates numerically 0 occurred”"
     ]
    },
    {
     "name": "stdout",
     "output_type": "stream",
     "text": [
      "."
     ]
    },
    {
     "name": "stderr",
     "output_type": "stream",
     "text": [
      "Warning message:\n",
      "“glm.fit: fitted rates numerically 0 occurred”Warning message:\n",
      "“glm.fit: fitted rates numerically 0 occurred”Warning message:\n",
      "“glm.fit: fitted rates numerically 0 occurred”Warning message:\n",
      "“glm.fit: fitted rates numerically 0 occurred”Warning message:\n",
      "“glm.fit: fitted rates numerically 0 occurred”Warning message:\n",
      "“glm.fit: fitted rates numerically 0 occurred”Warning message:\n",
      "“glm.fit: fitted rates numerically 0 occurred”Warning message:\n",
      "“glm.fit: fitted rates numerically 0 occurred”Warning message:\n",
      "“glm.fit: fitted rates numerically 0 occurred”Warning message:\n",
      "“glm.fit: fitted rates numerically 0 occurred”Warning message:\n",
      "“glm.fit: fitted rates numerically 0 occurred”Warning message:\n",
      "“glm.fit: fitted rates numerically 0 occurred”Warning message:\n",
      "“glm.fit: fitted rates numerically 0 occurred”Warning message:\n",
      "“glm.fit: fitted rates numerically 0 occurred”Warning message:\n",
      "“glm.fit: fitted rates numerically 0 occurred”Warning message:\n",
      "“glm.fit: fitted rates numerically 0 occurred”Warning message:\n",
      "“glm.fit: fitted rates numerically 0 occurred”Warning message:\n",
      "“glm.fit: fitted rates numerically 0 occurred”Warning message:\n",
      "“glm.fit: fitted rates numerically 0 occurred”Warning message:\n",
      "“glm.fit: fitted rates numerically 0 occurred”Warning message:\n",
      "“glm.fit: fitted rates numerically 0 occurred”Warning message:\n",
      "“glm.fit: fitted rates numerically 0 occurred”Warning message:\n",
      "“glm.fit: fitted rates numerically 0 occurred”Warning message:\n",
      "“glm.fit: fitted rates numerically 0 occurred”Warning message:\n",
      "“glm.fit: fitted rates numerically 0 occurred”Warning message:\n",
      "“glm.fit: fitted rates numerically 0 occurred”"
     ]
    },
    {
     "name": "stdout",
     "output_type": "stream",
     "text": [
      "."
     ]
    },
    {
     "name": "stderr",
     "output_type": "stream",
     "text": [
      "Warning message:\n",
      "“glm.fit: fitted rates numerically 0 occurred”Warning message:\n",
      "“glm.fit: fitted rates numerically 0 occurred”Warning message:\n",
      "“glm.fit: fitted rates numerically 0 occurred”Warning message:\n",
      "“glm.fit: fitted rates numerically 0 occurred”Warning message:\n",
      "“glm.fit: fitted rates numerically 0 occurred”Warning message:\n",
      "“glm.fit: fitted rates numerically 0 occurred”"
     ]
    },
    {
     "name": "stdout",
     "output_type": "stream",
     "text": [
      ".."
     ]
    },
    {
     "name": "stderr",
     "output_type": "stream",
     "text": [
      "Warning message:\n",
      "“glm.fit: fitted rates numerically 0 occurred”"
     ]
    },
    {
     "name": "stdout",
     "output_type": "stream",
     "text": [
      ".."
     ]
    },
    {
     "name": "stderr",
     "output_type": "stream",
     "text": [
      "Warning message:\n",
      "“glm.fit: fitted rates numerically 0 occurred”Warning message:\n",
      "“glm.fit: fitted rates numerically 0 occurred”Warning message:\n",
      "“glm.fit: fitted rates numerically 0 occurred”"
     ]
    },
    {
     "name": "stdout",
     "output_type": "stream",
     "text": [
      "."
     ]
    },
    {
     "name": "stderr",
     "output_type": "stream",
     "text": [
      "Warning message:\n",
      "“glm.fit: fitted rates numerically 0 occurred”Warning message:\n",
      "“glm.fit: fitted rates numerically 0 occurred”Warning message:\n",
      "“glm.fit: fitted rates numerically 0 occurred”Warning message:\n",
      "“glm.fit: fitted rates numerically 0 occurred”Warning message:\n",
      "“glm.fit: fitted rates numerically 0 occurred”Warning message:\n",
      "“glm.fit: fitted rates numerically 0 occurred”Warning message:\n",
      "“glm.fit: fitted rates numerically 0 occurred”Warning message:\n",
      "“glm.fit: fitted rates numerically 0 occurred”Warning message:\n",
      "“glm.fit: fitted rates numerically 0 occurred”Warning message:\n",
      "“glm.fit: fitted rates numerically 0 occurred”Warning message:\n",
      "“glm.fit: fitted rates numerically 0 occurred”Warning message:\n",
      "“glm.fit: fitted rates numerically 0 occurred”Warning message:\n",
      "“glm.fit: fitted rates numerically 0 occurred”"
     ]
    },
    {
     "name": "stdout",
     "output_type": "stream",
     "text": [
      "."
     ]
    },
    {
     "name": "stderr",
     "output_type": "stream",
     "text": [
      "Warning message:\n",
      "“glm.fit: fitted rates numerically 0 occurred”Warning message:\n",
      "“glm.fit: fitted rates numerically 0 occurred”Warning message:\n",
      "“glm.fit: fitted rates numerically 0 occurred”Warning message:\n",
      "“glm.fit: fitted rates numerically 0 occurred”Warning message:\n",
      "“glm.fit: fitted rates numerically 0 occurred”Warning message:\n",
      "“glm.fit: fitted rates numerically 0 occurred”Warning message:\n",
      "“glm.fit: fitted rates numerically 0 occurred”"
     ]
    },
    {
     "name": "stdout",
     "output_type": "stream",
     "text": [
      "..."
     ]
    },
    {
     "name": "stderr",
     "output_type": "stream",
     "text": [
      "Warning message:\n",
      "“glm.fit: fitted rates numerically 0 occurred”Warning message:\n",
      "“glm.fit: fitted rates numerically 0 occurred”"
     ]
    },
    {
     "name": "stdout",
     "output_type": "stream",
     "text": [
      "."
     ]
    },
    {
     "name": "stderr",
     "output_type": "stream",
     "text": [
      "Warning message:\n",
      "“glm.fit: fitted rates numerically 0 occurred”Warning message:\n",
      "“glm.fit: fitted rates numerically 0 occurred”Warning message:\n",
      "“glm.fit: fitted rates numerically 0 occurred”Warning message:\n",
      "“glm.fit: fitted rates numerically 0 occurred”"
     ]
    },
    {
     "name": "stdout",
     "output_type": "stream",
     "text": [
      "."
     ]
    },
    {
     "name": "stderr",
     "output_type": "stream",
     "text": [
      "Warning message:\n",
      "“glm.fit: fitted rates numerically 0 occurred”Warning message:\n",
      "“glm.fit: fitted rates numerically 0 occurred”"
     ]
    },
    {
     "name": "stdout",
     "output_type": "stream",
     "text": [
      "."
     ]
    },
    {
     "name": "stderr",
     "output_type": "stream",
     "text": [
      "Warning message:\n",
      "“glm.fit: fitted rates numerically 0 occurred”Warning message:\n",
      "“glm.fit: fitted rates numerically 0 occurred”Warning message:\n",
      "“glm.fit: fitted rates numerically 0 occurred”Warning message:\n",
      "“glm.fit: fitted rates numerically 0 occurred”Warning message:\n",
      "“glm.fit: fitted rates numerically 0 occurred”Warning message:\n",
      "“glm.fit: fitted rates numerically 0 occurred”Warning message:\n",
      "“glm.fit: fitted rates numerically 0 occurred”"
     ]
    },
    {
     "name": "stdout",
     "output_type": "stream",
     "text": [
      "."
     ]
    },
    {
     "name": "stderr",
     "output_type": "stream",
     "text": [
      "Warning message:\n",
      "“glm.fit: fitted rates numerically 0 occurred”Warning message:\n",
      "“glm.fit: fitted rates numerically 0 occurred”Warning message:\n",
      "“glm.fit: fitted rates numerically 0 occurred”Warning message:\n",
      "“glm.fit: fitted rates numerically 0 occurred”Warning message:\n",
      "“glm.fit: fitted rates numerically 0 occurred”Warning message:\n",
      "“glm.fit: fitted rates numerically 0 occurred”Warning message:\n",
      "“glm.fit: fitted rates numerically 0 occurred”Warning message:\n",
      "“glm.fit: fitted rates numerically 0 occurred”Warning message:\n",
      "“glm.fit: fitted rates numerically 0 occurred”Warning message:\n",
      "“glm.fit: fitted rates numerically 0 occurred”"
     ]
    },
    {
     "name": "stdout",
     "output_type": "stream",
     "text": [
      ".."
     ]
    },
    {
     "name": "stderr",
     "output_type": "stream",
     "text": [
      "Warning message:\n",
      "“glm.fit: fitted rates numerically 0 occurred”Warning message:\n",
      "“glm.fit: fitted rates numerically 0 occurred”Warning message:\n",
      "“glm.fit: fitted rates numerically 0 occurred”Warning message:\n",
      "“glm.fit: fitted rates numerically 0 occurred”Warning message:\n",
      "“glm.fit: fitted rates numerically 0 occurred”"
     ]
    },
    {
     "name": "stdout",
     "output_type": "stream",
     "text": [
      ".."
     ]
    },
    {
     "name": "stderr",
     "output_type": "stream",
     "text": [
      "Warning message:\n",
      "“glm.fit: fitted rates numerically 0 occurred”Warning message:\n",
      "“glm.fit: fitted rates numerically 0 occurred”"
     ]
    },
    {
     "name": "stdout",
     "output_type": "stream",
     "text": [
      "...."
     ]
    },
    {
     "name": "stderr",
     "output_type": "stream",
     "text": [
      "Warning message:\n",
      "“glm.fit: fitted rates numerically 0 occurred”Warning message:\n",
      "“glm.fit: fitted rates numerically 0 occurred”"
     ]
    },
    {
     "name": "stdout",
     "output_type": "stream",
     "text": [
      "."
     ]
    },
    {
     "name": "stderr",
     "output_type": "stream",
     "text": [
      "Warning message:\n",
      "“glm.fit: fitted rates numerically 0 occurred”Warning message:\n",
      "“glm.fit: fitted rates numerically 0 occurred”Warning message:\n",
      "“glm.fit: fitted rates numerically 0 occurred”Warning message:\n",
      "“glm.fit: fitted rates numerically 0 occurred”Warning message:\n",
      "“glm.fit: fitted rates numerically 0 occurred”Warning message:\n",
      "“glm.fit: fitted rates numerically 0 occurred”Warning message:\n",
      "“glm.fit: fitted rates numerically 0 occurred”Warning message:\n",
      "“glm.fit: fitted rates numerically 0 occurred”Warning message:\n",
      "“glm.fit: fitted rates numerically 0 occurred”Warning message:\n",
      "“glm.fit: fitted rates numerically 0 occurred”Warning message:\n",
      "“glm.fit: fitted rates numerically 0 occurred”Warning message:\n",
      "“glm.fit: fitted rates numerically 0 occurred”"
     ]
    },
    {
     "name": "stdout",
     "output_type": "stream",
     "text": [
      ".."
     ]
    },
    {
     "name": "stderr",
     "output_type": "stream",
     "text": [
      "Warning message:\n",
      "“glm.fit: fitted rates numerically 0 occurred”Warning message:\n",
      "“glm.fit: fitted rates numerically 0 occurred”"
     ]
    },
    {
     "name": "stdout",
     "output_type": "stream",
     "text": [
      "."
     ]
    },
    {
     "name": "stderr",
     "output_type": "stream",
     "text": [
      "Warning message:\n",
      "“glm.fit: fitted rates numerically 0 occurred”Warning message:\n",
      "“glm.fit: fitted rates numerically 0 occurred”Warning message:\n",
      "“glm.fit: fitted rates numerically 0 occurred”Warning message:\n",
      "“glm.fit: fitted rates numerically 0 occurred”Warning message:\n",
      "“glm.fit: fitted rates numerically 0 occurred”"
     ]
    },
    {
     "name": "stdout",
     "output_type": "stream",
     "text": [
      "...."
     ]
    },
    {
     "name": "stderr",
     "output_type": "stream",
     "text": [
      "Warning message:\n",
      "“glm.fit: fitted rates numerically 0 occurred”Warning message:\n",
      "“glm.fit: fitted rates numerically 0 occurred”"
     ]
    },
    {
     "name": "stdout",
     "output_type": "stream",
     "text": [
      "."
     ]
    },
    {
     "name": "stderr",
     "output_type": "stream",
     "text": [
      "Warning message:\n",
      "“glm.fit: fitted rates numerically 0 occurred”Warning message:\n",
      "“glm.fit: fitted rates numerically 0 occurred”Warning message:\n",
      "“glm.fit: fitted rates numerically 0 occurred”Warning message:\n",
      "“glm.fit: fitted rates numerically 0 occurred”"
     ]
    },
    {
     "name": "stdout",
     "output_type": "stream",
     "text": [
      "."
     ]
    },
    {
     "name": "stderr",
     "output_type": "stream",
     "text": [
      "Warning message:\n",
      "“glm.fit: fitted rates numerically 0 occurred”"
     ]
    },
    {
     "name": "stdout",
     "output_type": "stream",
     "text": [
      "..."
     ]
    },
    {
     "name": "stderr",
     "output_type": "stream",
     "text": [
      "Warning message:\n",
      "“glm.fit: fitted rates numerically 0 occurred”Warning message:\n",
      "“glm.fit: fitted rates numerically 0 occurred”Warning message:\n",
      "“glm.fit: fitted rates numerically 0 occurred”"
     ]
    },
    {
     "name": "stdout",
     "output_type": "stream",
     "text": [
      "."
     ]
    },
    {
     "name": "stderr",
     "output_type": "stream",
     "text": [
      "Warning message:\n",
      "“glm.fit: fitted rates numerically 0 occurred”Warning message:\n",
      "“glm.fit: fitted rates numerically 0 occurred”Warning message:\n",
      "“glm.fit: fitted rates numerically 0 occurred”Warning message:\n",
      "“glm.fit: fitted rates numerically 0 occurred”Warning message:\n",
      "“glm.fit: fitted rates numerically 0 occurred”"
     ]
    },
    {
     "name": "stdout",
     "output_type": "stream",
     "text": [
      ".."
     ]
    },
    {
     "name": "stderr",
     "output_type": "stream",
     "text": [
      "Warning message:\n",
      "“glm.fit: fitted rates numerically 0 occurred”Warning message:\n",
      "“glm.fit: fitted rates numerically 0 occurred”Warning message:\n",
      "“glm.fit: fitted rates numerically 0 occurred”Warning message:\n",
      "“glm.fit: fitted rates numerically 0 occurred”"
     ]
    },
    {
     "name": "stdout",
     "output_type": "stream",
     "text": [
      "."
     ]
    },
    {
     "name": "stderr",
     "output_type": "stream",
     "text": [
      "Warning message:\n",
      "“glm.fit: fitted rates numerically 0 occurred”Warning message:\n",
      "“glm.fit: fitted rates numerically 0 occurred”"
     ]
    },
    {
     "name": "stdout",
     "output_type": "stream",
     "text": [
      ".."
     ]
    },
    {
     "name": "stderr",
     "output_type": "stream",
     "text": [
      "Warning message:\n",
      "“glm.fit: fitted rates numerically 0 occurred”Warning message:\n",
      "“glm.fit: fitted rates numerically 0 occurred”"
     ]
    },
    {
     "name": "stdout",
     "output_type": "stream",
     "text": [
      "."
     ]
    },
    {
     "name": "stderr",
     "output_type": "stream",
     "text": [
      "Warning message:\n",
      "“glm.fit: fitted rates numerically 0 occurred”Warning message:\n",
      "“glm.fit: fitted rates numerically 0 occurred”Warning message:\n",
      "“glm.fit: fitted rates numerically 0 occurred”Warning message:\n",
      "“glm.fit: fitted rates numerically 0 occurred”Warning message:\n",
      "“glm.fit: fitted rates numerically 0 occurred”Warning message:\n",
      "“glm.fit: fitted rates numerically 0 occurred”Warning message:\n",
      "“glm.fit: fitted rates numerically 0 occurred”Warning message:\n",
      "“glm.fit: fitted rates numerically 0 occurred”Warning message:\n",
      "“glm.fit: fitted rates numerically 0 occurred”Warning message:\n",
      "“glm.fit: fitted rates numerically 0 occurred”Warning message:\n",
      "“glm.fit: fitted rates numerically 0 occurred”"
     ]
    },
    {
     "name": "stdout",
     "output_type": "stream",
     "text": [
      "."
     ]
    },
    {
     "name": "stderr",
     "output_type": "stream",
     "text": [
      "Warning message:\n",
      "“glm.fit: fitted rates numerically 0 occurred”Warning message:\n",
      "“glm.fit: fitted rates numerically 0 occurred”Warning message:\n",
      "“glm.fit: fitted rates numerically 0 occurred”Warning message:\n",
      "“glm.fit: fitted rates numerically 0 occurred”Warning message:\n",
      "“glm.fit: fitted rates numerically 0 occurred”Warning message:\n",
      "“glm.fit: fitted rates numerically 0 occurred”"
     ]
    },
    {
     "name": "stdout",
     "output_type": "stream",
     "text": [
      "."
     ]
    },
    {
     "name": "stderr",
     "output_type": "stream",
     "text": [
      "Warning message:\n",
      "“glm.fit: fitted rates numerically 0 occurred”Warning message:\n",
      "“glm.fit: fitted rates numerically 0 occurred”"
     ]
    },
    {
     "name": "stdout",
     "output_type": "stream",
     "text": [
      "....."
     ]
    },
    {
     "name": "stderr",
     "output_type": "stream",
     "text": [
      "Warning message:\n",
      "“glm.fit: fitted rates numerically 0 occurred”Warning message:\n",
      "“glm.fit: fitted rates numerically 0 occurred”Warning message:\n",
      "“glm.fit: fitted rates numerically 0 occurred”Warning message:\n",
      "“glm.fit: fitted rates numerically 0 occurred”Warning message:\n",
      "“glm.fit: fitted rates numerically 0 occurred”Warning message:\n",
      "“glm.fit: fitted rates numerically 0 occurred”Warning message:\n",
      "“glm.fit: fitted rates numerically 0 occurred”"
     ]
    },
    {
     "name": "stdout",
     "output_type": "stream",
     "text": [
      "."
     ]
    },
    {
     "name": "stderr",
     "output_type": "stream",
     "text": [
      "Warning message:\n",
      "“glm.fit: fitted rates numerically 0 occurred”"
     ]
    },
    {
     "name": "stdout",
     "output_type": "stream",
     "text": [
      ".."
     ]
    },
    {
     "name": "stderr",
     "output_type": "stream",
     "text": [
      "Warning message:\n",
      "“glm.fit: fitted rates numerically 0 occurred”"
     ]
    },
    {
     "name": "stdout",
     "output_type": "stream",
     "text": [
      "."
     ]
    },
    {
     "name": "stderr",
     "output_type": "stream",
     "text": [
      "Warning message:\n",
      "“glm.fit: fitted rates numerically 0 occurred”Warning message:\n",
      "“glm.fit: fitted rates numerically 0 occurred”Warning message:\n",
      "“glm.fit: fitted rates numerically 0 occurred”Warning message:\n",
      "“glm.fit: fitted rates numerically 0 occurred”"
     ]
    },
    {
     "name": "stdout",
     "output_type": "stream",
     "text": [
      ".."
     ]
    },
    {
     "name": "stderr",
     "output_type": "stream",
     "text": [
      "Warning message:\n",
      "“glm.fit: fitted rates numerically 0 occurred”Warning message:\n",
      "“glm.fit: fitted rates numerically 0 occurred”"
     ]
    },
    {
     "name": "stdout",
     "output_type": "stream",
     "text": [
      "."
     ]
    },
    {
     "name": "stderr",
     "output_type": "stream",
     "text": [
      "Warning message:\n",
      "“glm.fit: fitted rates numerically 0 occurred”Warning message:\n",
      "“glm.fit: fitted rates numerically 0 occurred”Warning message:\n",
      "“glm.fit: fitted rates numerically 0 occurred”Warning message:\n",
      "“glm.fit: fitted rates numerically 0 occurred”Warning message:\n",
      "“glm.fit: fitted rates numerically 0 occurred”Warning message:\n",
      "“glm.fit: fitted rates numerically 0 occurred”Warning message:\n",
      "“glm.fit: fitted rates numerically 0 occurred”Warning message:\n",
      "“glm.fit: fitted rates numerically 0 occurred”Warning message:\n",
      "“glm.fit: fitted rates numerically 0 occurred”Warning message:\n",
      "“glm.fit: fitted rates numerically 0 occurred”Warning message:\n",
      "“glm.fit: fitted rates numerically 0 occurred”"
     ]
    },
    {
     "name": "stdout",
     "output_type": "stream",
     "text": [
      "."
     ]
    },
    {
     "name": "stderr",
     "output_type": "stream",
     "text": [
      "Warning message:\n",
      "“glm.fit: fitted rates numerically 0 occurred”Warning message:\n",
      "“glm.fit: fitted rates numerically 0 occurred”"
     ]
    },
    {
     "name": "stdout",
     "output_type": "stream",
     "text": [
      "."
     ]
    },
    {
     "name": "stderr",
     "output_type": "stream",
     "text": [
      "Warning message:\n",
      "“glm.fit: fitted rates numerically 0 occurred”Warning message:\n",
      "“glm.fit: fitted rates numerically 0 occurred”"
     ]
    },
    {
     "name": "stdout",
     "output_type": "stream",
     "text": [
      "."
     ]
    },
    {
     "name": "stderr",
     "output_type": "stream",
     "text": [
      "Warning message:\n",
      "“glm.fit: fitted rates numerically 0 occurred”Warning message:\n",
      "“glm.fit: fitted rates numerically 0 occurred”"
     ]
    },
    {
     "name": "stdout",
     "output_type": "stream",
     "text": [
      "."
     ]
    },
    {
     "name": "stderr",
     "output_type": "stream",
     "text": [
      "Warning message:\n",
      "“glm.fit: fitted rates numerically 0 occurred”Warning message:\n",
      "“glm.fit: fitted rates numerically 0 occurred”"
     ]
    },
    {
     "name": "stdout",
     "output_type": "stream",
     "text": [
      "."
     ]
    },
    {
     "name": "stderr",
     "output_type": "stream",
     "text": [
      "Warning message:\n",
      "“glm.fit: fitted rates numerically 0 occurred”Warning message:\n",
      "“glm.fit: fitted rates numerically 0 occurred”Warning message:\n",
      "“glm.fit: fitted rates numerically 0 occurred”"
     ]
    },
    {
     "name": "stdout",
     "output_type": "stream",
     "text": [
      "."
     ]
    },
    {
     "name": "stderr",
     "output_type": "stream",
     "text": [
      "Warning message:\n",
      "“glm.fit: fitted rates numerically 0 occurred”Warning message:\n",
      "“glm.fit: fitted rates numerically 0 occurred”Warning message:\n",
      "“glm.fit: fitted rates numerically 0 occurred”Warning message:\n",
      "“glm.fit: fitted rates numerically 0 occurred”Warning message:\n",
      "“glm.fit: fitted rates numerically 0 occurred”Warning message:\n",
      "“glm.fit: fitted rates numerically 0 occurred”Warning message:\n",
      "“glm.fit: fitted rates numerically 0 occurred”"
     ]
    },
    {
     "name": "stdout",
     "output_type": "stream",
     "text": [
      ".."
     ]
    },
    {
     "name": "stderr",
     "output_type": "stream",
     "text": [
      "Warning message:\n",
      "“glm.fit: fitted rates numerically 0 occurred”Warning message:\n",
      "“glm.fit: fitted rates numerically 0 occurred”Warning message:\n",
      "“glm.fit: fitted rates numerically 0 occurred”Warning message:\n",
      "“glm.fit: fitted rates numerically 0 occurred”"
     ]
    },
    {
     "name": "stdout",
     "output_type": "stream",
     "text": [
      "."
     ]
    },
    {
     "name": "stderr",
     "output_type": "stream",
     "text": [
      "Warning message:\n",
      "“glm.fit: fitted rates numerically 0 occurred”Warning message:\n",
      "“glm.fit: fitted rates numerically 0 occurred”Warning message:\n",
      "“glm.fit: fitted rates numerically 0 occurred”Warning message:\n",
      "“glm.fit: fitted rates numerically 0 occurred”Warning message:\n",
      "“glm.fit: fitted rates numerically 0 occurred”Warning message:\n",
      "“glm.fit: fitted rates numerically 0 occurred”Warning message:\n",
      "“glm.fit: fitted rates numerically 0 occurred”"
     ]
    },
    {
     "name": "stdout",
     "output_type": "stream",
     "text": [
      "."
     ]
    },
    {
     "name": "stderr",
     "output_type": "stream",
     "text": [
      "Warning message:\n",
      "“glm.fit: fitted rates numerically 0 occurred”Warning message:\n",
      "“glm.fit: fitted rates numerically 0 occurred”Warning message:\n",
      "“glm.fit: fitted rates numerically 0 occurred”Warning message:\n",
      "“glm.fit: fitted rates numerically 0 occurred”Warning message:\n",
      "“glm.fit: fitted rates numerically 0 occurred”Warning message:\n",
      "“glm.fit: fitted rates numerically 0 occurred”Warning message:\n",
      "“glm.fit: fitted rates numerically 0 occurred”Warning message:\n",
      "“glm.fit: fitted rates numerically 0 occurred”"
     ]
    },
    {
     "name": "stdout",
     "output_type": "stream",
     "text": [
      "."
     ]
    },
    {
     "name": "stderr",
     "output_type": "stream",
     "text": [
      "Warning message:\n",
      "“glm.fit: fitted rates numerically 0 occurred”Warning message:\n",
      "“glm.fit: fitted rates numerically 0 occurred”"
     ]
    },
    {
     "name": "stdout",
     "output_type": "stream",
     "text": [
      "."
     ]
    },
    {
     "name": "stderr",
     "output_type": "stream",
     "text": [
      "Warning message:\n",
      "“glm.fit: fitted rates numerically 0 occurred”"
     ]
    },
    {
     "name": "stdout",
     "output_type": "stream",
     "text": [
      "."
     ]
    },
    {
     "name": "stderr",
     "output_type": "stream",
     "text": [
      "Warning message:\n",
      "“glm.fit: fitted rates numerically 0 occurred”Warning message:\n",
      "“glm.fit: fitted rates numerically 0 occurred”"
     ]
    },
    {
     "name": "stdout",
     "output_type": "stream",
     "text": [
      "."
     ]
    },
    {
     "name": "stderr",
     "output_type": "stream",
     "text": [
      "Warning message:\n",
      "“glm.fit: fitted rates numerically 0 occurred”"
     ]
    },
    {
     "name": "stdout",
     "output_type": "stream",
     "text": [
      "."
     ]
    },
    {
     "name": "stderr",
     "output_type": "stream",
     "text": [
      "Warning message:\n",
      "“glm.fit: fitted rates numerically 0 occurred”Warning message:\n",
      "“glm.fit: fitted rates numerically 0 occurred”Warning message:\n",
      "“glm.fit: fitted rates numerically 0 occurred”Warning message:\n",
      "“glm.fit: fitted rates numerically 0 occurred”Warning message:\n",
      "“glm.fit: fitted rates numerically 0 occurred”Warning message:\n",
      "“glm.fit: fitted rates numerically 0 occurred”Warning message:\n",
      "“glm.fit: fitted rates numerically 0 occurred”Warning message:\n",
      "“glm.fit: fitted rates numerically 0 occurred”Warning message:\n",
      "“glm.fit: fitted rates numerically 0 occurred”Warning message:\n",
      "“glm.fit: fitted rates numerically 0 occurred”Warning message:\n",
      "“glm.fit: fitted rates numerically 0 occurred”Warning message:\n",
      "“glm.fit: fitted rates numerically 0 occurred”Warning message:\n",
      "“glm.fit: fitted rates numerically 0 occurred”Warning message:\n",
      "“glm.fit: fitted rates numerically 0 occurred”Warning message:\n",
      "“glm.fit: fitted rates numerically 0 occurred”Warning message:\n",
      "“glm.fit: fitted rates numerically 0 occurred”Warning message:\n",
      "“glm.fit: fitted rates numerically 0 occurred”Warning message:\n",
      "“glm.fit: fitted rates numerically 0 occurred”Warning message:\n",
      "“glm.fit: fitted rates numerically 0 occurred”Warning message:\n",
      "“glm.fit: fitted rates numerically 0 occurred”Warning message:\n",
      "“glm.fit: fitted rates numerically 0 occurred”Warning message:\n",
      "“glm.fit: fitted rates numerically 0 occurred”Warning message:\n",
      "“glm.fit: fitted rates numerically 0 occurred”Warning message:\n",
      "“glm.fit: fitted rates numerically 0 occurred”Warning message:\n",
      "“glm.fit: fitted rates numerically 0 occurred”Warning message:\n",
      "“glm.fit: fitted rates numerically 0 occurred”Warning message:\n",
      "“glm.fit: fitted rates numerically 0 occurred”Warning message:\n",
      "“glm.fit: fitted rates numerically 0 occurred”Warning message:\n",
      "“glm.fit: fitted rates numerically 0 occurred”Warning message:\n",
      "“glm.fit: fitted rates numerically 0 occurred”Warning message:\n",
      "“glm.fit: fitted rates numerically 0 occurred”"
     ]
    },
    {
     "name": "stdout",
     "output_type": "stream",
     "text": [
      "."
     ]
    },
    {
     "name": "stderr",
     "output_type": "stream",
     "text": [
      "Warning message:\n",
      "“glm.fit: fitted rates numerically 0 occurred”Warning message:\n",
      "“glm.fit: fitted rates numerically 0 occurred”Warning message:\n",
      "“glm.fit: fitted rates numerically 0 occurred”Warning message:\n",
      "“glm.fit: fitted rates numerically 0 occurred”Warning message:\n",
      "“glm.fit: fitted rates numerically 0 occurred”Warning message:\n",
      "“glm.fit: fitted rates numerically 0 occurred”"
     ]
    },
    {
     "name": "stdout",
     "output_type": "stream",
     "text": [
      "."
     ]
    },
    {
     "name": "stderr",
     "output_type": "stream",
     "text": [
      "Warning message:\n",
      "“glm.fit: fitted rates numerically 0 occurred”Warning message:\n",
      "“glm.fit: fitted rates numerically 0 occurred”"
     ]
    },
    {
     "name": "stdout",
     "output_type": "stream",
     "text": [
      "...."
     ]
    },
    {
     "name": "stderr",
     "output_type": "stream",
     "text": [
      "Warning message:\n",
      "“glm.fit: fitted rates numerically 0 occurred”Warning message:\n",
      "“glm.fit: fitted rates numerically 0 occurred”Warning message:\n",
      "“glm.fit: fitted rates numerically 0 occurred”Warning message:\n",
      "“glm.fit: fitted rates numerically 0 occurred”Warning message:\n",
      "“glm.fit: fitted rates numerically 0 occurred”Warning message:\n",
      "“glm.fit: fitted rates numerically 0 occurred”Warning message:\n",
      "“glm.fit: fitted rates numerically 0 occurred”Warning message:\n",
      "“glm.fit: fitted rates numerically 0 occurred”"
     ]
    },
    {
     "name": "stdout",
     "output_type": "stream",
     "text": [
      "."
     ]
    },
    {
     "name": "stderr",
     "output_type": "stream",
     "text": [
      "Warning message:\n",
      "“glm.fit: fitted rates numerically 0 occurred”Warning message:\n",
      "“glm.fit: fitted rates numerically 0 occurred”Warning message:\n",
      "“glm.fit: fitted rates numerically 0 occurred”Warning message:\n",
      "“glm.fit: fitted rates numerically 0 occurred”Warning message:\n",
      "“glm.fit: fitted rates numerically 0 occurred”Warning message:\n",
      "“glm.fit: fitted rates numerically 0 occurred”Warning message:\n",
      "“glm.fit: fitted rates numerically 0 occurred”Warning message:\n",
      "“glm.fit: fitted rates numerically 0 occurred”Warning message:\n",
      "“glm.fit: fitted rates numerically 0 occurred”Warning message:\n",
      "“glm.fit: fitted rates numerically 0 occurred”Warning message:\n",
      "“glm.fit: fitted rates numerically 0 occurred”Warning message:\n",
      "“glm.fit: fitted rates numerically 0 occurred”Warning message:\n",
      "“glm.fit: fitted rates numerically 0 occurred”Warning message:\n",
      "“glm.fit: fitted rates numerically 0 occurred”Warning message:\n",
      "“glm.fit: fitted rates numerically 0 occurred”Warning message:\n",
      "“glm.fit: fitted rates numerically 0 occurred”Warning message:\n",
      "“glm.fit: fitted rates numerically 0 occurred”Warning message:\n",
      "“glm.fit: fitted rates numerically 0 occurred”Warning message:\n",
      "“glm.fit: fitted rates numerically 0 occurred”Warning message:\n",
      "“glm.fit: fitted rates numerically 0 occurred”Warning message:\n",
      "“glm.fit: fitted rates numerically 0 occurred”Warning message:\n",
      "“glm.fit: fitted rates numerically 0 occurred”"
     ]
    },
    {
     "name": "stdout",
     "output_type": "stream",
     "text": [
      ".."
     ]
    },
    {
     "name": "stderr",
     "output_type": "stream",
     "text": [
      "Warning message:\n",
      "“glm.fit: fitted rates numerically 0 occurred”Warning message:\n",
      "“glm.fit: fitted rates numerically 0 occurred”"
     ]
    },
    {
     "name": "stdout",
     "output_type": "stream",
     "text": [
      "."
     ]
    },
    {
     "name": "stderr",
     "output_type": "stream",
     "text": [
      "Warning message:\n",
      "“glm.fit: fitted rates numerically 0 occurred”Warning message:\n",
      "“glm.fit: fitted rates numerically 0 occurred”Warning message:\n",
      "“glm.fit: fitted rates numerically 0 occurred”Warning message:\n",
      "“glm.fit: fitted rates numerically 0 occurred”Warning message:\n",
      "“glm.fit: fitted rates numerically 0 occurred”"
     ]
    },
    {
     "name": "stdout",
     "output_type": "stream",
     "text": [
      "."
     ]
    },
    {
     "name": "stderr",
     "output_type": "stream",
     "text": [
      "Warning message:\n",
      "“glm.fit: fitted rates numerically 0 occurred”"
     ]
    },
    {
     "name": "stdout",
     "output_type": "stream",
     "text": [
      "."
     ]
    },
    {
     "name": "stderr",
     "output_type": "stream",
     "text": [
      "Warning message:\n",
      "“glm.fit: fitted rates numerically 0 occurred”Warning message:\n",
      "“glm.fit: fitted rates numerically 0 occurred”"
     ]
    },
    {
     "name": "stdout",
     "output_type": "stream",
     "text": [
      ".."
     ]
    },
    {
     "name": "stderr",
     "output_type": "stream",
     "text": [
      "Warning message:\n",
      "“glm.fit: fitted rates numerically 0 occurred”Warning message:\n",
      "“glm.fit: fitted rates numerically 0 occurred”Warning message:\n",
      "“glm.fit: fitted rates numerically 0 occurred”Warning message:\n",
      "“glm.fit: fitted rates numerically 0 occurred”"
     ]
    },
    {
     "name": "stdout",
     "output_type": "stream",
     "text": [
      "..."
     ]
    },
    {
     "name": "stderr",
     "output_type": "stream",
     "text": [
      "Warning message:\n",
      "“glm.fit: fitted rates numerically 0 occurred”"
     ]
    },
    {
     "name": "stdout",
     "output_type": "stream",
     "text": [
      "."
     ]
    },
    {
     "name": "stderr",
     "output_type": "stream",
     "text": [
      "Warning message:\n",
      "“glm.fit: fitted rates numerically 0 occurred”Warning message:\n",
      "“glm.fit: fitted rates numerically 0 occurred”Warning message:\n",
      "“glm.fit: fitted rates numerically 0 occurred”"
     ]
    },
    {
     "name": "stdout",
     "output_type": "stream",
     "text": [
      "."
     ]
    },
    {
     "name": "stderr",
     "output_type": "stream",
     "text": [
      "Warning message:\n",
      "“glm.fit: fitted rates numerically 0 occurred”Warning message:\n",
      "“glm.fit: fitted rates numerically 0 occurred”Warning message:\n",
      "“glm.fit: fitted rates numerically 0 occurred”"
     ]
    },
    {
     "name": "stdout",
     "output_type": "stream",
     "text": [
      "."
     ]
    },
    {
     "name": "stderr",
     "output_type": "stream",
     "text": [
      "Warning message:\n",
      "“glm.fit: fitted rates numerically 0 occurred”Warning message:\n",
      "“glm.fit: fitted rates numerically 0 occurred”Warning message:\n",
      "“glm.fit: fitted rates numerically 0 occurred”Warning message:\n",
      "“glm.fit: fitted rates numerically 0 occurred”Warning message:\n",
      "“glm.fit: fitted rates numerically 0 occurred”Warning message:\n",
      "“glm.fit: fitted rates numerically 0 occurred”Warning message:\n",
      "“glm.fit: fitted rates numerically 0 occurred”Warning message:\n",
      "“glm.fit: fitted rates numerically 0 occurred”Warning message:\n",
      "“glm.fit: fitted rates numerically 0 occurred”"
     ]
    },
    {
     "name": "stdout",
     "output_type": "stream",
     "text": [
      "."
     ]
    },
    {
     "name": "stderr",
     "output_type": "stream",
     "text": [
      "Warning message:\n",
      "“glm.fit: fitted rates numerically 0 occurred”"
     ]
    },
    {
     "name": "stdout",
     "output_type": "stream",
     "text": [
      ".."
     ]
    },
    {
     "name": "stderr",
     "output_type": "stream",
     "text": [
      "Warning message:\n",
      "“glm.fit: fitted rates numerically 0 occurred”Warning message:\n",
      "“glm.fit: fitted rates numerically 0 occurred”"
     ]
    },
    {
     "name": "stdout",
     "output_type": "stream",
     "text": [
      "....."
     ]
    },
    {
     "name": "stderr",
     "output_type": "stream",
     "text": [
      "Warning message:\n",
      "“glm.fit: fitted rates numerically 0 occurred”"
     ]
    },
    {
     "name": "stdout",
     "output_type": "stream",
     "text": [
      ".."
     ]
    },
    {
     "name": "stderr",
     "output_type": "stream",
     "text": [
      "Warning message:\n",
      "“glm.fit: fitted rates numerically 0 occurred”Warning message:\n",
      "“glm.fit: fitted rates numerically 0 occurred”Warning message:\n",
      "“glm.fit: fitted rates numerically 0 occurred”Warning message:\n",
      "“glm.fit: fitted rates numerically 0 occurred”"
     ]
    },
    {
     "name": "stdout",
     "output_type": "stream",
     "text": [
      "."
     ]
    },
    {
     "name": "stderr",
     "output_type": "stream",
     "text": [
      "Warning message:\n",
      "“glm.fit: fitted rates numerically 0 occurred”"
     ]
    },
    {
     "name": "stdout",
     "output_type": "stream",
     "text": [
      ".."
     ]
    },
    {
     "name": "stderr",
     "output_type": "stream",
     "text": [
      "Warning message:\n",
      "“glm.fit: fitted rates numerically 0 occurred”Warning message:\n",
      "“glm.fit: fitted rates numerically 0 occurred”Warning message:\n",
      "“glm.fit: fitted rates numerically 0 occurred”Warning message:\n",
      "“glm.fit: fitted rates numerically 0 occurred”Warning message:\n",
      "“glm.fit: fitted rates numerically 0 occurred”"
     ]
    },
    {
     "name": "stdout",
     "output_type": "stream",
     "text": [
      ".."
     ]
    },
    {
     "name": "stderr",
     "output_type": "stream",
     "text": [
      "Warning message:\n",
      "“glm.fit: fitted rates numerically 0 occurred”Warning message:\n",
      "“glm.fit: fitted rates numerically 0 occurred”Warning message:\n",
      "“glm.fit: fitted rates numerically 0 occurred”Warning message:\n",
      "“glm.fit: fitted rates numerically 0 occurred”"
     ]
    },
    {
     "name": "stdout",
     "output_type": "stream",
     "text": [
      "."
     ]
    },
    {
     "name": "stderr",
     "output_type": "stream",
     "text": [
      "Warning message:\n",
      "“glm.fit: fitted rates numerically 0 occurred”Warning message:\n",
      "“glm.fit: fitted rates numerically 0 occurred”Warning message:\n",
      "“glm.fit: fitted rates numerically 0 occurred”Warning message:\n",
      "“glm.fit: fitted rates numerically 0 occurred”Warning message:\n",
      "“glm.fit: fitted rates numerically 0 occurred”"
     ]
    },
    {
     "name": "stdout",
     "output_type": "stream",
     "text": [
      "."
     ]
    },
    {
     "name": "stderr",
     "output_type": "stream",
     "text": [
      "Warning message:\n",
      "“glm.fit: fitted rates numerically 0 occurred”Warning message:\n",
      "“glm.fit: fitted rates numerically 0 occurred”Warning message:\n",
      "“glm.fit: fitted rates numerically 0 occurred”Warning message:\n",
      "“glm.fit: fitted rates numerically 0 occurred”Warning message:\n",
      "“glm.fit: fitted rates numerically 0 occurred”Warning message:\n",
      "“glm.fit: fitted rates numerically 0 occurred”"
     ]
    },
    {
     "name": "stdout",
     "output_type": "stream",
     "text": [
      "."
     ]
    },
    {
     "name": "stderr",
     "output_type": "stream",
     "text": [
      "Warning message:\n",
      "“glm.fit: fitted rates numerically 0 occurred”Warning message:\n",
      "“glm.fit: algorithm did not converge”Warning message:\n",
      "“glm.fit: fitted rates numerically 0 occurred”Warning message:\n",
      "“glm.fit: algorithm did not converge”Warning message:\n",
      "“glm.fit: fitted rates numerically 0 occurred”Warning message:\n",
      "“glm.fit: algorithm did not converge”Warning message:\n",
      "“glm.fit: fitted rates numerically 0 occurred”Warning message:\n",
      "“glm.fit: algorithm did not converge”Warning message:\n",
      "“glm.fit: fitted rates numerically 0 occurred”Warning message:\n",
      "“glm.fit: algorithm did not converge”Warning message:\n",
      "“glm.fit: fitted rates numerically 0 occurred”Warning message:\n",
      "“glm.fit: algorithm did not converge”Warning message:\n",
      "“glm.fit: fitted rates numerically 0 occurred”"
     ]
    },
    {
     "name": "stdout",
     "output_type": "stream",
     "text": [
      "."
     ]
    },
    {
     "name": "stderr",
     "output_type": "stream",
     "text": [
      "Warning message:\n",
      "“glm.fit: fitted rates numerically 0 occurred”Warning message:\n",
      "“glm.fit: fitted rates numerically 0 occurred”Warning message:\n",
      "“glm.fit: fitted rates numerically 0 occurred”Warning message:\n",
      "“glm.fit: fitted rates numerically 0 occurred”Warning message:\n",
      "“glm.fit: fitted rates numerically 0 occurred”Warning message:\n",
      "“glm.fit: fitted rates numerically 0 occurred”Warning message:\n",
      "“glm.fit: fitted rates numerically 0 occurred”"
     ]
    },
    {
     "name": "stdout",
     "output_type": "stream",
     "text": [
      "."
     ]
    },
    {
     "name": "stderr",
     "output_type": "stream",
     "text": [
      "Warning message:\n",
      "“glm.fit: fitted rates numerically 0 occurred”Warning message:\n",
      "“glm.fit: fitted rates numerically 0 occurred”"
     ]
    },
    {
     "name": "stdout",
     "output_type": "stream",
     "text": [
      "."
     ]
    },
    {
     "name": "stderr",
     "output_type": "stream",
     "text": [
      "Warning message:\n",
      "“glm.fit: fitted rates numerically 0 occurred”Warning message:\n",
      "“glm.fit: fitted rates numerically 0 occurred”Warning message:\n",
      "“glm.fit: fitted rates numerically 0 occurred”Warning message:\n",
      "“glm.fit: fitted rates numerically 0 occurred”Warning message:\n",
      "“glm.fit: fitted rates numerically 0 occurred”Warning message:\n",
      "“glm.fit: fitted rates numerically 0 occurred”Warning message:\n",
      "“glm.fit: fitted rates numerically 0 occurred”"
     ]
    },
    {
     "name": "stdout",
     "output_type": "stream",
     "text": [
      ".."
     ]
    },
    {
     "name": "stderr",
     "output_type": "stream",
     "text": [
      "Warning message:\n",
      "“glm.fit: fitted rates numerically 0 occurred”Warning message:\n",
      "“glm.fit: fitted rates numerically 0 occurred”Warning message:\n",
      "“glm.fit: fitted rates numerically 0 occurred”Warning message:\n",
      "“glm.fit: fitted rates numerically 0 occurred”Warning message:\n",
      "“glm.fit: fitted rates numerically 0 occurred”Warning message:\n",
      "“glm.fit: fitted rates numerically 0 occurred”Warning message:\n",
      "“glm.fit: fitted rates numerically 0 occurred”Warning message:\n",
      "“glm.fit: fitted rates numerically 0 occurred”Warning message:\n",
      "“glm.fit: fitted rates numerically 0 occurred”Warning message:\n",
      "“glm.fit: fitted rates numerically 0 occurred”Warning message:\n",
      "“glm.fit: fitted rates numerically 0 occurred”Warning message:\n",
      "“glm.fit: fitted rates numerically 0 occurred”Warning message:\n",
      "“glm.fit: fitted rates numerically 0 occurred”Warning message:\n",
      "“glm.fit: fitted rates numerically 0 occurred”Warning message:\n",
      "“glm.fit: fitted rates numerically 0 occurred”Warning message:\n",
      "“glm.fit: fitted rates numerically 0 occurred”Warning message:\n",
      "“glm.fit: fitted rates numerically 0 occurred”Warning message:\n",
      "“glm.fit: fitted rates numerically 0 occurred”Warning message:\n",
      "“glm.fit: fitted rates numerically 0 occurred”Warning message:\n",
      "“glm.fit: fitted rates numerically 0 occurred”Warning message:\n",
      "“glm.fit: fitted rates numerically 0 occurred”Warning message:\n",
      "“glm.fit: fitted rates numerically 0 occurred”"
     ]
    },
    {
     "name": "stdout",
     "output_type": "stream",
     "text": [
      "."
     ]
    },
    {
     "name": "stderr",
     "output_type": "stream",
     "text": [
      "Warning message:\n",
      "“glm.fit: fitted rates numerically 0 occurred”Warning message:\n",
      "“glm.fit: fitted rates numerically 0 occurred”"
     ]
    },
    {
     "name": "stdout",
     "output_type": "stream",
     "text": [
      "."
     ]
    },
    {
     "name": "stderr",
     "output_type": "stream",
     "text": [
      "Warning message:\n",
      "“glm.fit: fitted rates numerically 0 occurred”Warning message:\n",
      "“glm.fit: fitted rates numerically 0 occurred”Warning message:\n",
      "“glm.fit: fitted rates numerically 0 occurred”Warning message:\n",
      "“glm.fit: fitted rates numerically 0 occurred”Warning message:\n",
      "“glm.fit: fitted rates numerically 0 occurred”"
     ]
    },
    {
     "name": "stdout",
     "output_type": "stream",
     "text": [
      "..."
     ]
    },
    {
     "name": "stderr",
     "output_type": "stream",
     "text": [
      "Warning message:\n",
      "“glm.fit: fitted rates numerically 0 occurred”Warning message:\n",
      "“glm.fit: fitted rates numerically 0 occurred”"
     ]
    },
    {
     "name": "stdout",
     "output_type": "stream",
     "text": [
      ".."
     ]
    },
    {
     "name": "stderr",
     "output_type": "stream",
     "text": [
      "Warning message:\n",
      "“glm.fit: fitted rates numerically 0 occurred”Warning message:\n",
      "“glm.fit: fitted rates numerically 0 occurred”Warning message:\n",
      "“glm.fit: fitted rates numerically 0 occurred”Warning message:\n",
      "“glm.fit: fitted rates numerically 0 occurred”Warning message:\n",
      "“glm.fit: fitted rates numerically 0 occurred”Warning message:\n",
      "“glm.fit: fitted rates numerically 0 occurred”Warning message:\n",
      "“glm.fit: fitted rates numerically 0 occurred”Warning message:\n",
      "“glm.fit: fitted rates numerically 0 occurred”Warning message:\n",
      "“glm.fit: fitted rates numerically 0 occurred”Warning message:\n",
      "“glm.fit: fitted rates numerically 0 occurred”Warning message:\n",
      "“glm.fit: fitted rates numerically 0 occurred”Warning message:\n",
      "“glm.fit: fitted rates numerically 0 occurred”Warning message:\n",
      "“glm.fit: fitted rates numerically 0 occurred”Warning message:\n",
      "“glm.fit: fitted rates numerically 0 occurred”Warning message:\n",
      "“glm.fit: fitted rates numerically 0 occurred”Warning message:\n",
      "“glm.fit: fitted rates numerically 0 occurred”Warning message:\n",
      "“glm.fit: fitted rates numerically 0 occurred”Warning message:\n",
      "“glm.fit: fitted rates numerically 0 occurred”Warning message:\n",
      "“glm.fit: fitted rates numerically 0 occurred”Warning message:\n",
      "“glm.fit: fitted rates numerically 0 occurred”Warning message:\n",
      "“glm.fit: fitted rates numerically 0 occurred”Warning message:\n",
      "“glm.fit: fitted rates numerically 0 occurred”Warning message:\n",
      "“glm.fit: fitted rates numerically 0 occurred”Warning message:\n",
      "“glm.fit: fitted rates numerically 0 occurred”Warning message:\n",
      "“glm.fit: fitted rates numerically 0 occurred”Warning message:\n",
      "“glm.fit: fitted rates numerically 0 occurred”Warning message:\n",
      "“glm.fit: fitted rates numerically 0 occurred”Warning message:\n",
      "“glm.fit: fitted rates numerically 0 occurred”Warning message:\n",
      "“glm.fit: fitted rates numerically 0 occurred”"
     ]
    },
    {
     "name": "stdout",
     "output_type": "stream",
     "text": [
      "..."
     ]
    },
    {
     "name": "stderr",
     "output_type": "stream",
     "text": [
      "Warning message:\n",
      "“glm.fit: fitted rates numerically 0 occurred”Warning message:\n",
      "“glm.fit: fitted rates numerically 0 occurred”Warning message:\n",
      "“glm.fit: fitted rates numerically 0 occurred”Warning message:\n",
      "“glm.fit: fitted rates numerically 0 occurred”"
     ]
    },
    {
     "name": "stdout",
     "output_type": "stream",
     "text": [
      "."
     ]
    },
    {
     "name": "stderr",
     "output_type": "stream",
     "text": [
      "Warning message:\n",
      "“glm.fit: fitted rates numerically 0 occurred”Warning message:\n",
      "“glm.fit: fitted rates numerically 0 occurred”Warning message:\n",
      "“glm.fit: fitted rates numerically 0 occurred”Warning message:\n",
      "“glm.fit: fitted rates numerically 0 occurred”Warning message:\n",
      "“glm.fit: fitted rates numerically 0 occurred”Warning message:\n",
      "“glm.fit: fitted rates numerically 0 occurred”Warning message:\n",
      "“glm.fit: fitted rates numerically 0 occurred”Warning message:\n",
      "“glm.fit: fitted rates numerically 0 occurred”Warning message:\n",
      "“glm.fit: fitted rates numerically 0 occurred”Warning message:\n",
      "“glm.fit: fitted rates numerically 0 occurred”Warning message:\n",
      "“glm.fit: fitted rates numerically 0 occurred”"
     ]
    },
    {
     "name": "stdout",
     "output_type": "stream",
     "text": [
      "."
     ]
    },
    {
     "name": "stderr",
     "output_type": "stream",
     "text": [
      "Warning message:\n",
      "“glm.fit: fitted rates numerically 0 occurred”Warning message:\n",
      "“glm.fit: fitted rates numerically 0 occurred”Warning message:\n",
      "“glm.fit: fitted rates numerically 0 occurred”Warning message:\n",
      "“glm.fit: fitted rates numerically 0 occurred”"
     ]
    },
    {
     "name": "stdout",
     "output_type": "stream",
     "text": [
      "."
     ]
    },
    {
     "name": "stderr",
     "output_type": "stream",
     "text": [
      "Warning message:\n",
      "“glm.fit: fitted rates numerically 0 occurred”Warning message:\n",
      "“glm.fit: fitted rates numerically 0 occurred”Warning message:\n",
      "“glm.fit: fitted rates numerically 0 occurred”Warning message:\n",
      "“glm.fit: fitted rates numerically 0 occurred”Warning message:\n",
      "“glm.fit: fitted rates numerically 0 occurred”Warning message:\n",
      "“glm.fit: fitted rates numerically 0 occurred”Warning message:\n",
      "“glm.fit: fitted rates numerically 0 occurred”Warning message:\n",
      "“glm.fit: fitted rates numerically 0 occurred”"
     ]
    },
    {
     "name": "stdout",
     "output_type": "stream",
     "text": [
      "."
     ]
    },
    {
     "name": "stderr",
     "output_type": "stream",
     "text": [
      "Warning message:\n",
      "“glm.fit: fitted rates numerically 0 occurred”Warning message:\n",
      "“glm.fit: fitted rates numerically 0 occurred”Warning message:\n",
      "“glm.fit: fitted rates numerically 0 occurred”Warning message:\n",
      "“glm.fit: fitted rates numerically 0 occurred”Warning message:\n",
      "“glm.fit: fitted rates numerically 0 occurred”Warning message:\n",
      "“glm.fit: fitted rates numerically 0 occurred”Warning message:\n",
      "“glm.fit: fitted rates numerically 0 occurred”Warning message:\n",
      "“glm.fit: fitted rates numerically 0 occurred”Warning message:\n",
      "“glm.fit: fitted rates numerically 0 occurred”Warning message:\n",
      "“glm.fit: fitted rates numerically 0 occurred”Warning message:\n",
      "“glm.fit: fitted rates numerically 0 occurred”"
     ]
    },
    {
     "name": "stdout",
     "output_type": "stream",
     "text": [
      "."
     ]
    },
    {
     "name": "stderr",
     "output_type": "stream",
     "text": [
      "Warning message:\n",
      "“glm.fit: fitted rates numerically 0 occurred”Warning message:\n",
      "“glm.fit: fitted rates numerically 0 occurred”Warning message:\n",
      "“glm.fit: fitted rates numerically 0 occurred”Warning message:\n",
      "“glm.fit: fitted rates numerically 0 occurred”Warning message:\n",
      "“glm.fit: fitted rates numerically 0 occurred”Warning message:\n",
      "“glm.fit: fitted rates numerically 0 occurred”Warning message:\n",
      "“glm.fit: fitted rates numerically 0 occurred”Warning message:\n",
      "“glm.fit: fitted rates numerically 0 occurred”"
     ]
    },
    {
     "name": "stdout",
     "output_type": "stream",
     "text": [
      "."
     ]
    },
    {
     "name": "stderr",
     "output_type": "stream",
     "text": [
      "Warning message:\n",
      "“glm.fit: fitted rates numerically 0 occurred”Warning message:\n",
      "“glm.fit: fitted rates numerically 0 occurred”Warning message:\n",
      "“glm.fit: fitted rates numerically 0 occurred”Warning message:\n",
      "“glm.fit: fitted rates numerically 0 occurred”"
     ]
    },
    {
     "name": "stdout",
     "output_type": "stream",
     "text": [
      "."
     ]
    },
    {
     "name": "stderr",
     "output_type": "stream",
     "text": [
      "Warning message:\n",
      "“glm.fit: fitted rates numerically 0 occurred”Warning message:\n",
      "“glm.fit: fitted rates numerically 0 occurred”Warning message:\n",
      "“glm.fit: fitted rates numerically 0 occurred”Warning message:\n",
      "“glm.fit: fitted rates numerically 0 occurred”Warning message:\n",
      "“glm.fit: fitted rates numerically 0 occurred”Warning message:\n",
      "“glm.fit: fitted rates numerically 0 occurred”Warning message:\n",
      "“glm.fit: fitted rates numerically 0 occurred”Warning message:\n",
      "“glm.fit: fitted rates numerically 0 occurred”Warning message:\n",
      "“glm.fit: fitted rates numerically 0 occurred”Warning message:\n",
      "“glm.fit: fitted rates numerically 0 occurred”Warning message:\n",
      "“glm.fit: fitted rates numerically 0 occurred”"
     ]
    },
    {
     "name": "stdout",
     "output_type": "stream",
     "text": [
      "..."
     ]
    },
    {
     "name": "stderr",
     "output_type": "stream",
     "text": [
      "Warning message:\n",
      "“glm.fit: fitted rates numerically 0 occurred”Warning message:\n",
      "“glm.fit: fitted rates numerically 0 occurred”"
     ]
    },
    {
     "name": "stdout",
     "output_type": "stream",
     "text": [
      ".."
     ]
    },
    {
     "name": "stderr",
     "output_type": "stream",
     "text": [
      "Warning message:\n",
      "“glm.fit: fitted rates numerically 0 occurred”Warning message:\n",
      "“glm.fit: fitted rates numerically 0 occurred”"
     ]
    },
    {
     "name": "stdout",
     "output_type": "stream",
     "text": [
      ".."
     ]
    },
    {
     "name": "stderr",
     "output_type": "stream",
     "text": [
      "Warning message:\n",
      "“glm.fit: fitted rates numerically 0 occurred”Warning message:\n",
      "“glm.fit: fitted rates numerically 0 occurred”"
     ]
    },
    {
     "name": "stdout",
     "output_type": "stream",
     "text": [
      "."
     ]
    },
    {
     "name": "stderr",
     "output_type": "stream",
     "text": [
      "Warning message:\n",
      "“glm.fit: fitted rates numerically 0 occurred”Warning message:\n",
      "“glm.fit: fitted rates numerically 0 occurred”Warning message:\n",
      "“glm.fit: fitted rates numerically 0 occurred”Warning message:\n",
      "“glm.fit: fitted rates numerically 0 occurred”Warning message:\n",
      "“glm.fit: fitted rates numerically 0 occurred”Warning message:\n",
      "“glm.fit: fitted rates numerically 0 occurred”Warning message:\n",
      "“glm.fit: fitted rates numerically 0 occurred”Warning message:\n",
      "“glm.fit: fitted rates numerically 0 occurred”Warning message:\n",
      "“glm.fit: fitted rates numerically 0 occurred”Warning message:\n",
      "“glm.fit: fitted rates numerically 0 occurred”Warning message:\n",
      "“glm.fit: fitted rates numerically 0 occurred”Warning message:\n",
      "“glm.fit: fitted rates numerically 0 occurred”"
     ]
    },
    {
     "name": "stdout",
     "output_type": "stream",
     "text": [
      ".."
     ]
    },
    {
     "name": "stderr",
     "output_type": "stream",
     "text": [
      "Warning message:\n",
      "“glm.fit: fitted rates numerically 0 occurred”Warning message:\n",
      "“glm.fit: fitted rates numerically 0 occurred”Warning message:\n",
      "“glm.fit: fitted rates numerically 0 occurred”"
     ]
    },
    {
     "name": "stdout",
     "output_type": "stream",
     "text": [
      "."
     ]
    },
    {
     "name": "stderr",
     "output_type": "stream",
     "text": [
      "Warning message:\n",
      "“glm.fit: fitted rates numerically 0 occurred”Warning message:\n",
      "“glm.fit: fitted rates numerically 0 occurred”"
     ]
    },
    {
     "name": "stdout",
     "output_type": "stream",
     "text": [
      ".."
     ]
    },
    {
     "name": "stderr",
     "output_type": "stream",
     "text": [
      "Warning message:\n",
      "“glm.fit: fitted rates numerically 0 occurred”Warning message:\n",
      "“glm.fit: fitted rates numerically 0 occurred”Warning message:\n",
      "“glm.fit: fitted rates numerically 0 occurred”"
     ]
    },
    {
     "name": "stdout",
     "output_type": "stream",
     "text": [
      "..."
     ]
    },
    {
     "name": "stderr",
     "output_type": "stream",
     "text": [
      "Warning message:\n",
      "“glm.fit: fitted rates numerically 0 occurred”Warning message:\n",
      "“glm.fit: fitted rates numerically 0 occurred”Warning message:\n",
      "“glm.fit: fitted rates numerically 0 occurred”Warning message:\n",
      "“glm.fit: fitted rates numerically 0 occurred”Warning message:\n",
      "“glm.fit: fitted rates numerically 0 occurred”Warning message:\n",
      "“glm.fit: fitted rates numerically 0 occurred”"
     ]
    },
    {
     "name": "stdout",
     "output_type": "stream",
     "text": [
      ".."
     ]
    },
    {
     "name": "stderr",
     "output_type": "stream",
     "text": [
      "Warning message:\n",
      "“glm.fit: fitted rates numerically 0 occurred”Warning message:\n",
      "“glm.fit: fitted rates numerically 0 occurred”"
     ]
    },
    {
     "name": "stdout",
     "output_type": "stream",
     "text": [
      "."
     ]
    },
    {
     "name": "stderr",
     "output_type": "stream",
     "text": [
      "Warning message:\n",
      "“glm.fit: fitted rates numerically 0 occurred”Warning message:\n",
      "“glm.fit: fitted rates numerically 0 occurred”Warning message:\n",
      "“glm.fit: fitted rates numerically 0 occurred”"
     ]
    },
    {
     "name": "stdout",
     "output_type": "stream",
     "text": [
      "..."
     ]
    },
    {
     "name": "stderr",
     "output_type": "stream",
     "text": [
      "Warning message:\n",
      "“glm.fit: fitted rates numerically 0 occurred”Warning message:\n",
      "“glm.fit: fitted rates numerically 0 occurred”Warning message:\n",
      "“glm.fit: fitted rates numerically 0 occurred”Warning message:\n",
      "“glm.fit: fitted rates numerically 0 occurred”Warning message:\n",
      "“glm.fit: fitted rates numerically 0 occurred”Warning message:\n",
      "“glm.fit: fitted rates numerically 0 occurred”Warning message:\n",
      "“glm.fit: fitted rates numerically 0 occurred”Warning message:\n",
      "“glm.fit: fitted rates numerically 0 occurred”Warning message:\n",
      "“glm.fit: fitted rates numerically 0 occurred”Warning message:\n",
      "“glm.fit: fitted rates numerically 0 occurred”Warning message:\n",
      "“glm.fit: fitted rates numerically 0 occurred”Warning message:\n",
      "“glm.fit: fitted rates numerically 0 occurred”Warning message:\n",
      "“glm.fit: fitted rates numerically 0 occurred”Warning message:\n",
      "“glm.fit: fitted rates numerically 0 occurred”Warning message:\n",
      "“glm.fit: fitted rates numerically 0 occurred”Warning message:\n",
      "“glm.fit: fitted rates numerically 0 occurred”Warning message:\n",
      "“glm.fit: fitted rates numerically 0 occurred”Warning message:\n",
      "“glm.fit: fitted rates numerically 0 occurred”Warning message:\n",
      "“glm.fit: fitted rates numerically 0 occurred”Warning message:\n",
      "“glm.fit: fitted rates numerically 0 occurred”Warning message:\n",
      "“glm.fit: fitted rates numerically 0 occurred”Warning message:\n",
      "“glm.fit: fitted rates numerically 0 occurred”Warning message:\n",
      "“glm.fit: fitted rates numerically 0 occurred”Warning message:\n",
      "“glm.fit: fitted rates numerically 0 occurred”"
     ]
    },
    {
     "name": "stdout",
     "output_type": "stream",
     "text": [
      "."
     ]
    },
    {
     "name": "stderr",
     "output_type": "stream",
     "text": [
      "Warning message:\n",
      "“glm.fit: fitted rates numerically 0 occurred”Warning message:\n",
      "“glm.fit: fitted rates numerically 0 occurred”Warning message:\n",
      "“glm.fit: fitted rates numerically 0 occurred”Warning message:\n",
      "“glm.fit: fitted rates numerically 0 occurred”Warning message:\n",
      "“glm.fit: fitted rates numerically 0 occurred”Warning message:\n",
      "“glm.fit: fitted rates numerically 0 occurred”Warning message:\n",
      "“glm.fit: fitted rates numerically 0 occurred”Warning message:\n",
      "“glm.fit: fitted rates numerically 0 occurred”Warning message:\n",
      "“glm.fit: fitted rates numerically 0 occurred”Warning message:\n",
      "“glm.fit: fitted rates numerically 0 occurred”Warning message:\n",
      "“glm.fit: fitted rates numerically 0 occurred”Warning message:\n",
      "“glm.fit: fitted rates numerically 0 occurred”Warning message:\n",
      "“glm.fit: fitted rates numerically 0 occurred”"
     ]
    },
    {
     "name": "stdout",
     "output_type": "stream",
     "text": [
      ".."
     ]
    },
    {
     "name": "stderr",
     "output_type": "stream",
     "text": [
      "Warning message:\n",
      "“glm.fit: fitted rates numerically 0 occurred”Warning message:\n",
      "“glm.fit: fitted rates numerically 0 occurred”Warning message:\n",
      "“glm.fit: fitted rates numerically 0 occurred”Warning message:\n",
      "“glm.fit: fitted rates numerically 0 occurred”Warning message:\n",
      "“glm.fit: fitted rates numerically 0 occurred”Warning message:\n",
      "“glm.fit: fitted rates numerically 0 occurred”Warning message:\n",
      "“glm.fit: fitted rates numerically 0 occurred”"
     ]
    },
    {
     "name": "stdout",
     "output_type": "stream",
     "text": [
      ".."
     ]
    },
    {
     "name": "stderr",
     "output_type": "stream",
     "text": [
      "Warning message:\n",
      "“glm.fit: fitted rates numerically 0 occurred”Warning message:\n",
      "“glm.fit: fitted rates numerically 0 occurred”Warning message:\n",
      "“glm.fit: fitted rates numerically 0 occurred”"
     ]
    },
    {
     "name": "stdout",
     "output_type": "stream",
     "text": [
      "."
     ]
    },
    {
     "name": "stderr",
     "output_type": "stream",
     "text": [
      "Warning message:\n",
      "“glm.fit: fitted rates numerically 0 occurred”Warning message:\n",
      "“glm.fit: fitted rates numerically 0 occurred”"
     ]
    },
    {
     "name": "stdout",
     "output_type": "stream",
     "text": [
      "...."
     ]
    },
    {
     "name": "stderr",
     "output_type": "stream",
     "text": [
      "Warning message:\n",
      "“glm.fit: fitted rates numerically 0 occurred”Warning message:\n",
      "“glm.fit: fitted rates numerically 0 occurred”Warning message:\n",
      "“glm.fit: fitted rates numerically 0 occurred”Warning message:\n",
      "“glm.fit: fitted rates numerically 0 occurred”"
     ]
    },
    {
     "name": "stdout",
     "output_type": "stream",
     "text": [
      "."
     ]
    },
    {
     "name": "stderr",
     "output_type": "stream",
     "text": [
      "Warning message:\n",
      "“glm.fit: fitted rates numerically 0 occurred”Warning message:\n",
      "“glm.fit: fitted rates numerically 0 occurred”"
     ]
    },
    {
     "name": "stdout",
     "output_type": "stream",
     "text": [
      "."
     ]
    },
    {
     "name": "stderr",
     "output_type": "stream",
     "text": [
      "Warning message:\n",
      "“glm.fit: fitted rates numerically 0 occurred”Warning message:\n",
      "“glm.fit: fitted rates numerically 0 occurred”Warning message:\n",
      "“glm.fit: fitted rates numerically 0 occurred”Warning message:\n",
      "“glm.fit: fitted rates numerically 0 occurred”Warning message:\n",
      "“glm.fit: fitted rates numerically 0 occurred”Warning message:\n",
      "“glm.fit: fitted rates numerically 0 occurred”Warning message:\n",
      "“glm.fit: fitted rates numerically 0 occurred”Warning message:\n",
      "“glm.fit: fitted rates numerically 0 occurred”Warning message:\n",
      "“glm.fit: fitted rates numerically 0 occurred”Warning message:\n",
      "“glm.fit: fitted rates numerically 0 occurred”Warning message:\n",
      "“glm.fit: fitted rates numerically 0 occurred”Warning message:\n",
      "“glm.fit: fitted rates numerically 0 occurred”Warning message:\n",
      "“glm.fit: fitted rates numerically 0 occurred”Warning message:\n",
      "“glm.fit: fitted rates numerically 0 occurred”Warning message:\n",
      "“glm.fit: fitted rates numerically 0 occurred”Warning message:\n",
      "“glm.fit: fitted rates numerically 0 occurred”Warning message:\n",
      "“glm.fit: fitted rates numerically 0 occurred”Warning message:\n",
      "“glm.fit: fitted rates numerically 0 occurred”"
     ]
    },
    {
     "name": "stdout",
     "output_type": "stream",
     "text": [
      ".."
     ]
    },
    {
     "name": "stderr",
     "output_type": "stream",
     "text": [
      "Warning message:\n",
      "“glm.fit: fitted rates numerically 0 occurred”Warning message:\n",
      "“glm.fit: fitted rates numerically 0 occurred”Warning message:\n",
      "“glm.fit: fitted rates numerically 0 occurred”Warning message:\n",
      "“glm.fit: fitted rates numerically 0 occurred”Warning message:\n",
      "“glm.fit: fitted rates numerically 0 occurred”Warning message:\n",
      "“glm.fit: fitted rates numerically 0 occurred”"
     ]
    },
    {
     "name": "stdout",
     "output_type": "stream",
     "text": [
      "."
     ]
    },
    {
     "name": "stderr",
     "output_type": "stream",
     "text": [
      "Warning message:\n",
      "“glm.fit: fitted rates numerically 0 occurred”Warning message:\n",
      "“glm.fit: fitted rates numerically 0 occurred”Warning message:\n",
      "“glm.fit: fitted rates numerically 0 occurred”Warning message:\n",
      "“glm.fit: fitted rates numerically 0 occurred”Warning message:\n",
      "“glm.fit: fitted rates numerically 0 occurred”Warning message:\n",
      "“glm.fit: fitted rates numerically 0 occurred”Warning message:\n",
      "“glm.fit: fitted rates numerically 0 occurred”Warning message:\n",
      "“glm.fit: fitted rates numerically 0 occurred”"
     ]
    },
    {
     "name": "stdout",
     "output_type": "stream",
     "text": [
      "."
     ]
    },
    {
     "name": "stderr",
     "output_type": "stream",
     "text": [
      "Warning message:\n",
      "“glm.fit: fitted rates numerically 0 occurred”Warning message:\n",
      "“glm.fit: fitted rates numerically 0 occurred”Warning message:\n",
      "“glm.fit: fitted rates numerically 0 occurred”Warning message:\n",
      "“glm.fit: fitted rates numerically 0 occurred”"
     ]
    },
    {
     "name": "stdout",
     "output_type": "stream",
     "text": [
      ".."
     ]
    },
    {
     "name": "stderr",
     "output_type": "stream",
     "text": [
      "Warning message:\n",
      "“glm.fit: fitted rates numerically 0 occurred”Warning message:\n",
      "“glm.fit: fitted rates numerically 0 occurred”"
     ]
    },
    {
     "name": "stdout",
     "output_type": "stream",
     "text": [
      ".."
     ]
    },
    {
     "name": "stderr",
     "output_type": "stream",
     "text": [
      "Warning message:\n",
      "“glm.fit: fitted rates numerically 0 occurred”Warning message:\n",
      "“glm.fit: fitted rates numerically 0 occurred”Warning message:\n",
      "“glm.fit: fitted rates numerically 0 occurred”Warning message:\n",
      "“glm.fit: fitted rates numerically 0 occurred”"
     ]
    },
    {
     "name": "stdout",
     "output_type": "stream",
     "text": [
      ".."
     ]
    },
    {
     "name": "stderr",
     "output_type": "stream",
     "text": [
      "Warning message:\n",
      "“glm.fit: fitted rates numerically 0 occurred”Warning message:\n",
      "“glm.fit: fitted rates numerically 0 occurred”Warning message:\n",
      "“glm.fit: fitted rates numerically 0 occurred”Warning message:\n",
      "“glm.fit: fitted rates numerically 0 occurred”Warning message:\n",
      "“glm.fit: fitted rates numerically 0 occurred”"
     ]
    },
    {
     "name": "stdout",
     "output_type": "stream",
     "text": [
      "."
     ]
    },
    {
     "name": "stderr",
     "output_type": "stream",
     "text": [
      "Warning message:\n",
      "“glm.fit: fitted rates numerically 0 occurred”Warning message:\n",
      "“glm.fit: fitted rates numerically 0 occurred”"
     ]
    },
    {
     "name": "stdout",
     "output_type": "stream",
     "text": [
      "."
     ]
    },
    {
     "name": "stderr",
     "output_type": "stream",
     "text": [
      "Warning message:\n",
      "“glm.fit: fitted rates numerically 0 occurred”Warning message:\n",
      "“glm.fit: fitted rates numerically 0 occurred”Warning message:\n",
      "“glm.fit: fitted rates numerically 0 occurred”Warning message:\n",
      "“glm.fit: fitted rates numerically 0 occurred”"
     ]
    },
    {
     "name": "stdout",
     "output_type": "stream",
     "text": [
      "..."
     ]
    },
    {
     "name": "stderr",
     "output_type": "stream",
     "text": [
      "Warning message:\n",
      "“glm.fit: fitted rates numerically 0 occurred”Warning message:\n",
      "“glm.fit: fitted rates numerically 0 occurred”"
     ]
    },
    {
     "name": "stdout",
     "output_type": "stream",
     "text": [
      "...."
     ]
    },
    {
     "name": "stderr",
     "output_type": "stream",
     "text": [
      "Warning message:\n",
      "“glm.fit: fitted rates numerically 0 occurred”Warning message:\n",
      "“glm.fit: fitted rates numerically 0 occurred”Warning message:\n",
      "“glm.fit: fitted rates numerically 0 occurred”Warning message:\n",
      "“glm.fit: fitted rates numerically 0 occurred”Warning message:\n",
      "“glm.fit: fitted rates numerically 0 occurred”Warning message:\n",
      "“glm.fit: fitted rates numerically 0 occurred”Warning message:\n",
      "“glm.fit: fitted rates numerically 0 occurred”Warning message:\n",
      "“glm.fit: fitted rates numerically 0 occurred”Warning message:\n",
      "“glm.fit: fitted rates numerically 0 occurred”"
     ]
    },
    {
     "name": "stdout",
     "output_type": "stream",
     "text": [
      ".."
     ]
    },
    {
     "name": "stderr",
     "output_type": "stream",
     "text": [
      "Warning message:\n",
      "“glm.fit: fitted rates numerically 0 occurred”Warning message:\n",
      "“glm.fit: fitted rates numerically 0 occurred”"
     ]
    },
    {
     "name": "stdout",
     "output_type": "stream",
     "text": [
      "."
     ]
    },
    {
     "name": "stderr",
     "output_type": "stream",
     "text": [
      "Warning message:\n",
      "“glm.fit: fitted rates numerically 0 occurred”Warning message:\n",
      "“glm.fit: fitted rates numerically 0 occurred”Warning message:\n",
      "“glm.fit: fitted rates numerically 0 occurred”Warning message:\n",
      "“glm.fit: fitted rates numerically 0 occurred”Warning message:\n",
      "“glm.fit: fitted rates numerically 0 occurred”Warning message:\n",
      "“glm.fit: fitted rates numerically 0 occurred”Warning message:\n",
      "“glm.fit: fitted rates numerically 0 occurred”Warning message:\n",
      "“glm.fit: fitted rates numerically 0 occurred”Warning message:\n",
      "“glm.fit: fitted rates numerically 0 occurred”Warning message:\n",
      "“glm.fit: fitted rates numerically 0 occurred”"
     ]
    },
    {
     "name": "stdout",
     "output_type": "stream",
     "text": [
      "."
     ]
    },
    {
     "name": "stderr",
     "output_type": "stream",
     "text": [
      "Warning message:\n",
      "“glm.fit: fitted rates numerically 0 occurred”Warning message:\n",
      "“glm.fit: fitted rates numerically 0 occurred”Warning message:\n",
      "“glm.fit: fitted rates numerically 0 occurred”Warning message:\n",
      "“glm.fit: fitted rates numerically 0 occurred”Warning message:\n",
      "“glm.fit: fitted rates numerically 0 occurred”Warning message:\n",
      "“glm.fit: fitted rates numerically 0 occurred”Warning message:\n",
      "“glm.fit: fitted rates numerically 0 occurred”Warning message:\n",
      "“glm.fit: fitted rates numerically 0 occurred”Warning message:\n",
      "“glm.fit: fitted rates numerically 0 occurred”"
     ]
    },
    {
     "name": "stdout",
     "output_type": "stream",
     "text": [
      ".."
     ]
    },
    {
     "name": "stderr",
     "output_type": "stream",
     "text": [
      "Warning message:\n",
      "“glm.fit: fitted rates numerically 0 occurred”Warning message:\n",
      "“glm.fit: fitted rates numerically 0 occurred”"
     ]
    },
    {
     "name": "stdout",
     "output_type": "stream",
     "text": [
      "."
     ]
    },
    {
     "name": "stderr",
     "output_type": "stream",
     "text": [
      "Warning message:\n",
      "“glm.fit: fitted rates numerically 0 occurred”Warning message:\n",
      "“glm.fit: fitted rates numerically 0 occurred”Warning message:\n",
      "“glm.fit: fitted rates numerically 0 occurred”"
     ]
    },
    {
     "name": "stdout",
     "output_type": "stream",
     "text": [
      ".."
     ]
    },
    {
     "name": "stderr",
     "output_type": "stream",
     "text": [
      "Warning message:\n",
      "“glm.fit: fitted rates numerically 0 occurred”Warning message:\n",
      "“glm.fit: fitted rates numerically 0 occurred”"
     ]
    },
    {
     "name": "stdout",
     "output_type": "stream",
     "text": [
      "..."
     ]
    },
    {
     "name": "stderr",
     "output_type": "stream",
     "text": [
      "Warning message:\n",
      "“glm.fit: fitted rates numerically 0 occurred”Warning message:\n",
      "“glm.fit: fitted rates numerically 0 occurred”"
     ]
    },
    {
     "name": "stdout",
     "output_type": "stream",
     "text": [
      "..."
     ]
    },
    {
     "name": "stderr",
     "output_type": "stream",
     "text": [
      "Warning message:\n",
      "“glm.fit: fitted rates numerically 0 occurred”"
     ]
    },
    {
     "name": "stdout",
     "output_type": "stream",
     "text": [
      "."
     ]
    },
    {
     "name": "stderr",
     "output_type": "stream",
     "text": [
      "Warning message:\n",
      "“glm.fit: fitted rates numerically 0 occurred”Warning message:\n",
      "“glm.fit: fitted rates numerically 0 occurred”Warning message:\n",
      "“glm.fit: fitted rates numerically 0 occurred”Warning message:\n",
      "“glm.fit: fitted rates numerically 0 occurred”Warning message:\n",
      "“glm.fit: fitted rates numerically 0 occurred”Warning message:\n",
      "“glm.fit: fitted rates numerically 0 occurred”Warning message:\n",
      "“glm.fit: fitted rates numerically 0 occurred”Warning message:\n",
      "“glm.fit: fitted rates numerically 0 occurred”Warning message:\n",
      "“glm.fit: fitted rates numerically 0 occurred”Warning message:\n",
      "“glm.fit: fitted rates numerically 0 occurred”Warning message:\n",
      "“glm.fit: fitted rates numerically 0 occurred”Warning message:\n",
      "“glm.fit: fitted rates numerically 0 occurred”Warning message:\n",
      "“glm.fit: fitted rates numerically 0 occurred”Warning message:\n",
      "“glm.fit: fitted rates numerically 0 occurred”Warning message:\n",
      "“glm.fit: fitted rates numerically 0 occurred”Warning message:\n",
      "“glm.fit: fitted rates numerically 0 occurred”"
     ]
    },
    {
     "name": "stdout",
     "output_type": "stream",
     "text": [
      "."
     ]
    },
    {
     "name": "stderr",
     "output_type": "stream",
     "text": [
      "Warning message:\n",
      "“glm.fit: fitted rates numerically 0 occurred”Warning message:\n",
      "“glm.fit: fitted rates numerically 0 occurred”"
     ]
    },
    {
     "name": "stdout",
     "output_type": "stream",
     "text": [
      "."
     ]
    },
    {
     "name": "stderr",
     "output_type": "stream",
     "text": [
      "Warning message:\n",
      "“glm.fit: fitted rates numerically 0 occurred”Warning message:\n",
      "“glm.fit: fitted rates numerically 0 occurred”Warning message:\n",
      "“glm.fit: fitted rates numerically 0 occurred”Warning message:\n",
      "“glm.fit: fitted rates numerically 0 occurred”Warning message:\n",
      "“glm.fit: fitted rates numerically 0 occurred”Warning message:\n",
      "“glm.fit: fitted rates numerically 0 occurred”Warning message:\n",
      "“glm.fit: fitted rates numerically 0 occurred”Warning message:\n",
      "“glm.fit: fitted rates numerically 0 occurred”Warning message:\n",
      "“glm.fit: fitted rates numerically 0 occurred”Warning message:\n",
      "“glm.fit: fitted rates numerically 0 occurred”Warning message:\n",
      "“glm.fit: fitted rates numerically 0 occurred”Warning message:\n",
      "“glm.fit: fitted rates numerically 0 occurred”Warning message:\n",
      "“glm.fit: fitted rates numerically 0 occurred”Warning message:\n",
      "“glm.fit: fitted rates numerically 0 occurred”"
     ]
    },
    {
     "name": "stdout",
     "output_type": "stream",
     "text": [
      "."
     ]
    },
    {
     "name": "stderr",
     "output_type": "stream",
     "text": [
      "Warning message:\n",
      "“glm.fit: fitted rates numerically 0 occurred”Warning message:\n",
      "“glm.fit: fitted rates numerically 0 occurred”"
     ]
    },
    {
     "name": "stdout",
     "output_type": "stream",
     "text": [
      ".."
     ]
    },
    {
     "name": "stderr",
     "output_type": "stream",
     "text": [
      "Warning message:\n",
      "“glm.fit: fitted rates numerically 0 occurred”Warning message:\n",
      "“glm.fit: fitted rates numerically 0 occurred”Warning message:\n",
      "“glm.fit: fitted rates numerically 0 occurred”Warning message:\n",
      "“glm.fit: fitted rates numerically 0 occurred”Warning message:\n",
      "“glm.fit: fitted rates numerically 0 occurred”Warning message:\n",
      "“glm.fit: fitted rates numerically 0 occurred”Warning message:\n",
      "“glm.fit: fitted rates numerically 0 occurred”Warning message:\n",
      "“glm.fit: fitted rates numerically 0 occurred”Warning message:\n",
      "“glm.fit: fitted rates numerically 0 occurred”Warning message:\n",
      "“glm.fit: fitted rates numerically 0 occurred”Warning message:\n",
      "“glm.fit: fitted rates numerically 0 occurred”Warning message:\n",
      "“glm.fit: fitted rates numerically 0 occurred”Warning message:\n",
      "“glm.fit: fitted rates numerically 0 occurred”Warning message:\n",
      "“glm.fit: fitted rates numerically 0 occurred”Warning message:\n",
      "“glm.fit: fitted rates numerically 0 occurred”Warning message:\n",
      "“glm.fit: fitted rates numerically 0 occurred”"
     ]
    },
    {
     "name": "stdout",
     "output_type": "stream",
     "text": [
      "."
     ]
    },
    {
     "name": "stderr",
     "output_type": "stream",
     "text": [
      "Warning message:\n",
      "“glm.fit: fitted rates numerically 0 occurred”Warning message:\n",
      "“glm.fit: fitted rates numerically 0 occurred”Warning message:\n",
      "“glm.fit: fitted rates numerically 0 occurred”Warning message:\n",
      "“glm.fit: fitted rates numerically 0 occurred”Warning message:\n",
      "“glm.fit: fitted rates numerically 0 occurred”Warning message:\n",
      "“glm.fit: fitted rates numerically 0 occurred”"
     ]
    },
    {
     "name": "stdout",
     "output_type": "stream",
     "text": [
      ".."
     ]
    },
    {
     "name": "stderr",
     "output_type": "stream",
     "text": [
      "Warning message:\n",
      "“glm.fit: fitted rates numerically 0 occurred”Warning message:\n",
      "“glm.fit: fitted rates numerically 0 occurred”"
     ]
    },
    {
     "name": "stdout",
     "output_type": "stream",
     "text": [
      "."
     ]
    },
    {
     "name": "stderr",
     "output_type": "stream",
     "text": [
      "Warning message:\n",
      "“glm.fit: fitted rates numerically 0 occurred”Warning message:\n",
      "“glm.fit: fitted rates numerically 0 occurred”Warning message:\n",
      "“glm.fit: fitted rates numerically 0 occurred”Warning message:\n",
      "“glm.fit: fitted rates numerically 0 occurred”Warning message:\n",
      "“glm.fit: fitted rates numerically 0 occurred”Warning message:\n",
      "“glm.fit: fitted rates numerically 0 occurred”Warning message:\n",
      "“glm.fit: fitted rates numerically 0 occurred”Warning message:\n",
      "“glm.fit: fitted rates numerically 0 occurred”Warning message:\n",
      "“glm.fit: fitted rates numerically 0 occurred”Warning message:\n",
      "“glm.fit: fitted rates numerically 0 occurred”Warning message:\n",
      "“glm.fit: fitted rates numerically 0 occurred”Warning message:\n",
      "“glm.fit: fitted rates numerically 0 occurred”"
     ]
    },
    {
     "name": "stdout",
     "output_type": "stream",
     "text": [
      "."
     ]
    },
    {
     "name": "stderr",
     "output_type": "stream",
     "text": [
      "Warning message:\n",
      "“glm.fit: fitted rates numerically 0 occurred”Warning message:\n",
      "“glm.fit: fitted rates numerically 0 occurred”Warning message:\n",
      "“glm.fit: fitted rates numerically 0 occurred”Warning message:\n",
      "“glm.fit: fitted rates numerically 0 occurred”Warning message:\n",
      "“glm.fit: fitted rates numerically 0 occurred”Warning message:\n",
      "“glm.fit: fitted rates numerically 0 occurred”Warning message:\n",
      "“glm.fit: fitted rates numerically 0 occurred”Warning message:\n",
      "“glm.fit: fitted rates numerically 0 occurred”Warning message:\n",
      "“glm.fit: fitted rates numerically 0 occurred”Warning message:\n",
      "“glm.fit: fitted rates numerically 0 occurred”"
     ]
    },
    {
     "name": "stdout",
     "output_type": "stream",
     "text": [
      ".."
     ]
    },
    {
     "name": "stderr",
     "output_type": "stream",
     "text": [
      "Warning message:\n",
      "“glm.fit: fitted rates numerically 0 occurred”"
     ]
    },
    {
     "name": "stdout",
     "output_type": "stream",
     "text": [
      "."
     ]
    },
    {
     "name": "stderr",
     "output_type": "stream",
     "text": [
      "Warning message:\n",
      "“glm.fit: fitted rates numerically 0 occurred”Warning message:\n",
      "“glm.fit: fitted rates numerically 0 occurred”Warning message:\n",
      "“glm.fit: fitted rates numerically 0 occurred”Warning message:\n",
      "“glm.fit: fitted rates numerically 0 occurred”Warning message:\n",
      "“glm.fit: fitted rates numerically 0 occurred”Warning message:\n",
      "“glm.fit: fitted rates numerically 0 occurred”Warning message:\n",
      "“glm.fit: fitted rates numerically 0 occurred”"
     ]
    },
    {
     "name": "stdout",
     "output_type": "stream",
     "text": [
      "..."
     ]
    },
    {
     "name": "stderr",
     "output_type": "stream",
     "text": [
      "Warning message:\n",
      "“glm.fit: fitted rates numerically 0 occurred”Warning message:\n",
      "“glm.fit: fitted rates numerically 0 occurred”Warning message:\n",
      "“glm.fit: fitted rates numerically 0 occurred”"
     ]
    },
    {
     "name": "stdout",
     "output_type": "stream",
     "text": [
      "."
     ]
    },
    {
     "name": "stderr",
     "output_type": "stream",
     "text": [
      "Warning message:\n",
      "“glm.fit: fitted rates numerically 0 occurred”Warning message:\n",
      "“glm.fit: fitted rates numerically 0 occurred”Warning message:\n",
      "“glm.fit: fitted rates numerically 0 occurred”Warning message:\n",
      "“glm.fit: fitted rates numerically 0 occurred”Warning message:\n",
      "“glm.fit: fitted rates numerically 0 occurred”Warning message:\n",
      "“glm.fit: fitted rates numerically 0 occurred”"
     ]
    },
    {
     "name": "stdout",
     "output_type": "stream",
     "text": [
      "."
     ]
    },
    {
     "name": "stderr",
     "output_type": "stream",
     "text": [
      "Warning message:\n",
      "“glm.fit: fitted rates numerically 0 occurred”Warning message:\n",
      "“glm.fit: fitted rates numerically 0 occurred”Warning message:\n",
      "“glm.fit: fitted rates numerically 0 occurred”Warning message:\n",
      "“glm.fit: fitted rates numerically 0 occurred”Warning message:\n",
      "“glm.fit: fitted rates numerically 0 occurred”Warning message:\n",
      "“glm.fit: fitted rates numerically 0 occurred”Warning message:\n",
      "“glm.fit: fitted rates numerically 0 occurred”"
     ]
    },
    {
     "name": "stdout",
     "output_type": "stream",
     "text": [
      "."
     ]
    },
    {
     "name": "stderr",
     "output_type": "stream",
     "text": [
      "Warning message:\n",
      "“glm.fit: fitted rates numerically 0 occurred”Warning message:\n",
      "“glm.fit: fitted rates numerically 0 occurred”Warning message:\n",
      "“glm.fit: fitted rates numerically 0 occurred”Warning message:\n",
      "“glm.fit: fitted rates numerically 0 occurred”Warning message:\n",
      "“glm.fit: fitted rates numerically 0 occurred”Warning message:\n",
      "“glm.fit: fitted rates numerically 0 occurred”Warning message:\n",
      "“glm.fit: fitted rates numerically 0 occurred”"
     ]
    },
    {
     "name": "stdout",
     "output_type": "stream",
     "text": [
      "."
     ]
    },
    {
     "name": "stderr",
     "output_type": "stream",
     "text": [
      "Warning message:\n",
      "“glm.fit: fitted rates numerically 0 occurred”Warning message:\n",
      "“glm.fit: fitted rates numerically 0 occurred”Warning message:\n",
      "“glm.fit: fitted rates numerically 0 occurred”Warning message:\n",
      "“glm.fit: fitted rates numerically 0 occurred”Warning message:\n",
      "“glm.fit: fitted rates numerically 0 occurred”Warning message:\n",
      "“glm.fit: fitted rates numerically 0 occurred”Warning message:\n",
      "“glm.fit: fitted rates numerically 0 occurred”Warning message:\n",
      "“glm.fit: fitted rates numerically 0 occurred”Warning message:\n",
      "“glm.fit: fitted rates numerically 0 occurred”Warning message:\n",
      "“glm.fit: fitted rates numerically 0 occurred”"
     ]
    },
    {
     "name": "stdout",
     "output_type": "stream",
     "text": [
      "."
     ]
    },
    {
     "name": "stderr",
     "output_type": "stream",
     "text": [
      "Warning message:\n",
      "“glm.fit: fitted rates numerically 0 occurred”Warning message:\n",
      "“glm.fit: fitted rates numerically 0 occurred”Warning message:\n",
      "“glm.fit: fitted rates numerically 0 occurred”Warning message:\n",
      "“glm.fit: fitted rates numerically 0 occurred”"
     ]
    },
    {
     "name": "stdout",
     "output_type": "stream",
     "text": [
      "."
     ]
    },
    {
     "name": "stderr",
     "output_type": "stream",
     "text": [
      "Warning message:\n",
      "“glm.fit: fitted rates numerically 0 occurred”Warning message:\n",
      "“glm.fit: fitted rates numerically 0 occurred”"
     ]
    },
    {
     "name": "stdout",
     "output_type": "stream",
     "text": [
      "."
     ]
    },
    {
     "name": "stderr",
     "output_type": "stream",
     "text": [
      "Warning message:\n",
      "“glm.fit: fitted rates numerically 0 occurred”Warning message:\n",
      "“glm.fit: fitted rates numerically 0 occurred”Warning message:\n",
      "“glm.fit: fitted rates numerically 0 occurred”Warning message:\n",
      "“glm.fit: fitted rates numerically 0 occurred”Warning message:\n",
      "“glm.fit: fitted rates numerically 0 occurred”Warning message:\n",
      "“glm.fit: fitted rates numerically 0 occurred”"
     ]
    },
    {
     "name": "stdout",
     "output_type": "stream",
     "text": [
      "."
     ]
    },
    {
     "name": "stderr",
     "output_type": "stream",
     "text": [
      "Warning message:\n",
      "“glm.fit: fitted rates numerically 0 occurred”Warning message:\n",
      "“glm.fit: fitted rates numerically 0 occurred”Warning message:\n",
      "“glm.fit: fitted rates numerically 0 occurred”Warning message:\n",
      "“glm.fit: fitted rates numerically 0 occurred”"
     ]
    },
    {
     "name": "stdout",
     "output_type": "stream",
     "text": [
      "."
     ]
    },
    {
     "name": "stderr",
     "output_type": "stream",
     "text": [
      "Warning message:\n",
      "“glm.fit: fitted rates numerically 0 occurred”Warning message:\n",
      "“glm.fit: fitted rates numerically 0 occurred”Warning message:\n",
      "“glm.fit: fitted rates numerically 0 occurred”Warning message:\n",
      "“glm.fit: fitted rates numerically 0 occurred”Warning message:\n",
      "“glm.fit: fitted rates numerically 0 occurred”Warning message:\n",
      "“glm.fit: fitted rates numerically 0 occurred”Warning message:\n",
      "“glm.fit: fitted rates numerically 0 occurred”Warning message:\n",
      "“glm.fit: fitted rates numerically 0 occurred”Warning message:\n",
      "“glm.fit: fitted rates numerically 0 occurred”Warning message:\n",
      "“glm.fit: fitted rates numerically 0 occurred”Warning message:\n",
      "“glm.fit: fitted rates numerically 0 occurred”"
     ]
    },
    {
     "name": "stdout",
     "output_type": "stream",
     "text": [
      "."
     ]
    },
    {
     "name": "stderr",
     "output_type": "stream",
     "text": [
      "Warning message:\n",
      "“glm.fit: fitted rates numerically 0 occurred”Warning message:\n",
      "“glm.fit: fitted rates numerically 0 occurred”"
     ]
    },
    {
     "name": "stdout",
     "output_type": "stream",
     "text": [
      "."
     ]
    },
    {
     "name": "stderr",
     "output_type": "stream",
     "text": [
      "Warning message:\n",
      "“glm.fit: fitted rates numerically 0 occurred”Warning message:\n",
      "“glm.fit: fitted rates numerically 0 occurred”Warning message:\n",
      "“glm.fit: fitted rates numerically 0 occurred”"
     ]
    },
    {
     "name": "stdout",
     "output_type": "stream",
     "text": [
      "."
     ]
    },
    {
     "name": "stderr",
     "output_type": "stream",
     "text": [
      "Warning message:\n",
      "“glm.fit: fitted rates numerically 0 occurred”Warning message:\n",
      "“glm.fit: fitted rates numerically 0 occurred”Warning message:\n",
      "“glm.fit: fitted rates numerically 0 occurred”Warning message:\n",
      "“glm.fit: fitted rates numerically 0 occurred”Warning message:\n",
      "“glm.fit: fitted rates numerically 0 occurred”Warning message:\n",
      "“glm.fit: fitted rates numerically 0 occurred”"
     ]
    },
    {
     "name": "stdout",
     "output_type": "stream",
     "text": [
      ".."
     ]
    },
    {
     "name": "stderr",
     "output_type": "stream",
     "text": [
      "Warning message:\n",
      "“glm.fit: fitted rates numerically 0 occurred”Warning message:\n",
      "“glm.fit: fitted rates numerically 0 occurred”Warning message:\n",
      "“glm.fit: fitted rates numerically 0 occurred”Warning message:\n",
      "“glm.fit: fitted rates numerically 0 occurred”Warning message:\n",
      "“glm.fit: fitted rates numerically 0 occurred”Warning message:\n",
      "“glm.fit: fitted rates numerically 0 occurred”Warning message:\n",
      "“glm.fit: fitted rates numerically 0 occurred”Warning message:\n",
      "“glm.fit: fitted rates numerically 0 occurred”Warning message:\n",
      "“glm.fit: fitted rates numerically 0 occurred”Warning message:\n",
      "“glm.fit: fitted rates numerically 0 occurred”Warning message:\n",
      "“glm.fit: fitted rates numerically 0 occurred”Warning message:\n",
      "“glm.fit: fitted rates numerically 0 occurred”Warning message:\n",
      "“glm.fit: fitted rates numerically 0 occurred”Warning message:\n",
      "“glm.fit: fitted rates numerically 0 occurred”Warning message:\n",
      "“glm.fit: fitted rates numerically 0 occurred”Warning message:\n",
      "“glm.fit: fitted rates numerically 0 occurred”Warning message:\n",
      "“glm.fit: fitted rates numerically 0 occurred”Warning message:\n",
      "“glm.fit: fitted rates numerically 0 occurred”Warning message:\n",
      "“glm.fit: fitted rates numerically 0 occurred”Warning message:\n",
      "“glm.fit: fitted rates numerically 0 occurred”Warning message:\n",
      "“glm.fit: fitted rates numerically 0 occurred”Warning message:\n",
      "“glm.fit: fitted rates numerically 0 occurred”Warning message:\n",
      "“glm.fit: fitted rates numerically 0 occurred”Warning message:\n",
      "“glm.fit: fitted rates numerically 0 occurred”Warning message:\n",
      "“glm.fit: fitted rates numerically 0 occurred”Warning message:\n",
      "“glm.fit: fitted rates numerically 0 occurred”Warning message:\n",
      "“glm.fit: fitted rates numerically 0 occurred”Warning message:\n",
      "“glm.fit: fitted rates numerically 0 occurred”Warning message:\n",
      "“glm.fit: fitted rates numerically 0 occurred”Warning message:\n",
      "“glm.fit: fitted rates numerically 0 occurred”Warning message:\n",
      "“glm.fit: fitted rates numerically 0 occurred”Warning message:\n",
      "“glm.fit: fitted rates numerically 0 occurred”Warning message:\n",
      "“glm.fit: fitted rates numerically 0 occurred”Warning message:\n",
      "“glm.fit: fitted rates numerically 0 occurred”Warning message:\n",
      "“glm.fit: fitted rates numerically 0 occurred”Warning message:\n",
      "“glm.fit: fitted rates numerically 0 occurred”Warning message:\n",
      "“glm.fit: fitted rates numerically 0 occurred”Warning message:\n",
      "“glm.fit: fitted rates numerically 0 occurred”Warning message:\n",
      "“glm.fit: fitted rates numerically 0 occurred”Warning message:\n",
      "“glm.fit: fitted rates numerically 0 occurred”Warning message:\n",
      "“glm.fit: fitted rates numerically 0 occurred”Warning message:\n",
      "“glm.fit: fitted rates numerically 0 occurred”Warning message:\n",
      "“glm.fit: fitted rates numerically 0 occurred”Warning message:\n",
      "“glm.fit: fitted rates numerically 0 occurred”Warning message:\n",
      "“glm.fit: fitted rates numerically 0 occurred”Warning message:\n",
      "“glm.fit: fitted rates numerically 0 occurred”Warning message:\n",
      "“glm.fit: fitted rates numerically 0 occurred”Warning message:\n",
      "“glm.fit: fitted rates numerically 0 occurred”Warning message:\n",
      "“glm.fit: fitted rates numerically 0 occurred”Warning message:\n",
      "“glm.fit: fitted rates numerically 0 occurred”Warning message:\n",
      "“glm.fit: fitted rates numerically 0 occurred”Warning message:\n",
      "“glm.fit: fitted rates numerically 0 occurred”Warning message:\n",
      "“glm.fit: fitted rates numerically 0 occurred”Warning message:\n",
      "“glm.fit: fitted rates numerically 0 occurred”Warning message:\n",
      "“glm.fit: fitted rates numerically 0 occurred”Warning message:\n",
      "“glm.fit: fitted rates numerically 0 occurred”Warning message:\n",
      "“glm.fit: fitted rates numerically 0 occurred”Warning message:\n",
      "“glm.fit: fitted rates numerically 0 occurred”Warning message:\n",
      "“glm.fit: fitted rates numerically 0 occurred”Warning message:\n",
      "“glm.fit: fitted rates numerically 0 occurred”Warning message:\n",
      "“glm.fit: fitted rates numerically 0 occurred”Warning message:\n",
      "“glm.fit: fitted rates numerically 0 occurred”Warning message:\n",
      "“glm.fit: fitted rates numerically 0 occurred”Warning message:\n",
      "“glm.fit: fitted rates numerically 0 occurred”Warning message:\n",
      "“glm.fit: fitted rates numerically 0 occurred”Warning message:\n",
      "“glm.fit: fitted rates numerically 0 occurred”Warning message:\n",
      "“glm.fit: fitted rates numerically 0 occurred”Warning message:\n",
      "“glm.fit: fitted rates numerically 0 occurred”Warning message:\n",
      "“glm.fit: fitted rates numerically 0 occurred”Warning message:\n",
      "“glm.fit: fitted rates numerically 0 occurred”Warning message:\n",
      "“glm.fit: fitted rates numerically 0 occurred”Warning message:\n",
      "“glm.fit: fitted rates numerically 0 occurred”Warning message:\n",
      "“glm.fit: fitted rates numerically 0 occurred”Warning message:\n",
      "“glm.fit: fitted rates numerically 0 occurred”Warning message:\n",
      "“glm.fit: fitted rates numerically 0 occurred”Warning message:\n",
      "“glm.fit: fitted rates numerically 0 occurred”Warning message:\n",
      "“glm.fit: fitted rates numerically 0 occurred”Warning message:\n",
      "“glm.fit: fitted rates numerically 0 occurred”Warning message:\n",
      "“glm.fit: fitted rates numerically 0 occurred”Warning message:\n",
      "“glm.fit: fitted rates numerically 0 occurred”Warning message:\n",
      "“glm.fit: fitted rates numerically 0 occurred”Warning message:\n",
      "“glm.fit: fitted rates numerically 0 occurred”"
     ]
    },
    {
     "name": "stdout",
     "output_type": "stream",
     "text": [
      "."
     ]
    },
    {
     "name": "stderr",
     "output_type": "stream",
     "text": [
      "Warning message:\n",
      "“glm.fit: fitted rates numerically 0 occurred”Warning message:\n",
      "“glm.fit: fitted rates numerically 0 occurred”Warning message:\n",
      "“glm.fit: fitted rates numerically 0 occurred”"
     ]
    },
    {
     "name": "stdout",
     "output_type": "stream",
     "text": [
      "."
     ]
    },
    {
     "name": "stderr",
     "output_type": "stream",
     "text": [
      "Warning message:\n",
      "“glm.fit: fitted rates numerically 0 occurred”"
     ]
    },
    {
     "name": "stdout",
     "output_type": "stream",
     "text": [
      "..."
     ]
    },
    {
     "name": "stderr",
     "output_type": "stream",
     "text": [
      "Warning message:\n",
      "“glm.fit: fitted rates numerically 0 occurred”"
     ]
    },
    {
     "name": "stdout",
     "output_type": "stream",
     "text": [
      "."
     ]
    },
    {
     "name": "stderr",
     "output_type": "stream",
     "text": [
      "Warning message:\n",
      "“glm.fit: fitted rates numerically 0 occurred”Warning message:\n",
      "“glm.fit: fitted rates numerically 0 occurred”Warning message:\n",
      "“glm.fit: fitted rates numerically 0 occurred”"
     ]
    },
    {
     "name": "stdout",
     "output_type": "stream",
     "text": [
      "."
     ]
    },
    {
     "name": "stderr",
     "output_type": "stream",
     "text": [
      "Warning message:\n",
      "“glm.fit: fitted rates numerically 0 occurred”Warning message:\n",
      "“glm.fit: fitted rates numerically 0 occurred”"
     ]
    },
    {
     "name": "stdout",
     "output_type": "stream",
     "text": [
      "."
     ]
    },
    {
     "name": "stderr",
     "output_type": "stream",
     "text": [
      "Warning message:\n",
      "“glm.fit: fitted rates numerically 0 occurred”Warning message:\n",
      "“glm.fit: fitted rates numerically 0 occurred”Warning message:\n",
      "“glm.fit: fitted rates numerically 0 occurred”Warning message:\n",
      "“glm.fit: fitted rates numerically 0 occurred”Warning message:\n",
      "“glm.fit: fitted rates numerically 0 occurred”Warning message:\n",
      "“glm.fit: fitted rates numerically 0 occurred”"
     ]
    },
    {
     "name": "stdout",
     "output_type": "stream",
     "text": [
      "."
     ]
    },
    {
     "name": "stderr",
     "output_type": "stream",
     "text": [
      "Warning message:\n",
      "“glm.fit: fitted rates numerically 0 occurred”Warning message:\n",
      "“glm.fit: fitted rates numerically 0 occurred”Warning message:\n",
      "“glm.fit: fitted rates numerically 0 occurred”Warning message:\n",
      "“glm.fit: fitted rates numerically 0 occurred”Warning message:\n",
      "“glm.fit: fitted rates numerically 0 occurred”Warning message:\n",
      "“glm.fit: fitted rates numerically 0 occurred”Warning message:\n",
      "“glm.fit: fitted rates numerically 0 occurred”"
     ]
    },
    {
     "name": "stdout",
     "output_type": "stream",
     "text": [
      "."
     ]
    },
    {
     "name": "stderr",
     "output_type": "stream",
     "text": [
      "Warning message:\n",
      "“glm.fit: fitted rates numerically 0 occurred”Warning message:\n",
      "“glm.fit: fitted rates numerically 0 occurred”"
     ]
    },
    {
     "name": "stdout",
     "output_type": "stream",
     "text": [
      "."
     ]
    },
    {
     "name": "stderr",
     "output_type": "stream",
     "text": [
      "Warning message:\n",
      "“glm.fit: fitted rates numerically 0 occurred”Warning message:\n",
      "“glm.fit: fitted rates numerically 0 occurred”Warning message:\n",
      "“glm.fit: fitted rates numerically 0 occurred”Warning message:\n",
      "“glm.fit: fitted rates numerically 0 occurred”Warning message:\n",
      "“glm.fit: fitted rates numerically 0 occurred”Warning message:\n",
      "“glm.fit: fitted rates numerically 0 occurred”Warning message:\n",
      "“glm.fit: fitted rates numerically 0 occurred”"
     ]
    },
    {
     "name": "stdout",
     "output_type": "stream",
     "text": [
      "."
     ]
    },
    {
     "name": "stderr",
     "output_type": "stream",
     "text": [
      "Warning message:\n",
      "“glm.fit: fitted rates numerically 0 occurred”Warning message:\n",
      "“glm.fit: fitted rates numerically 0 occurred”Warning message:\n",
      "“glm.fit: fitted rates numerically 0 occurred”Warning message:\n",
      "“glm.fit: fitted rates numerically 0 occurred”Warning message:\n",
      "“glm.fit: fitted rates numerically 0 occurred”Warning message:\n",
      "“glm.fit: fitted rates numerically 0 occurred”"
     ]
    },
    {
     "name": "stdout",
     "output_type": "stream",
     "text": [
      ".."
     ]
    },
    {
     "name": "stderr",
     "output_type": "stream",
     "text": [
      "Warning message:\n",
      "“glm.fit: fitted rates numerically 0 occurred”Warning message:\n",
      "“glm.fit: fitted rates numerically 0 occurred”"
     ]
    },
    {
     "name": "stdout",
     "output_type": "stream",
     "text": [
      "."
     ]
    },
    {
     "name": "stderr",
     "output_type": "stream",
     "text": [
      "Warning message:\n",
      "“glm.fit: fitted rates numerically 0 occurred”Warning message:\n",
      "“glm.fit: fitted rates numerically 0 occurred”"
     ]
    },
    {
     "name": "stdout",
     "output_type": "stream",
     "text": [
      "."
     ]
    },
    {
     "name": "stderr",
     "output_type": "stream",
     "text": [
      "Warning message:\n",
      "“glm.fit: fitted rates numerically 0 occurred”Warning message:\n",
      "“glm.fit: fitted rates numerically 0 occurred”Warning message:\n",
      "“glm.fit: fitted rates numerically 0 occurred”"
     ]
    },
    {
     "name": "stdout",
     "output_type": "stream",
     "text": [
      "...."
     ]
    },
    {
     "name": "stderr",
     "output_type": "stream",
     "text": [
      "Warning message:\n",
      "“glm.fit: fitted rates numerically 0 occurred”Warning message:\n",
      "“glm.fit: fitted rates numerically 0 occurred”Warning message:\n",
      "“glm.fit: fitted rates numerically 0 occurred”Warning message:\n",
      "“glm.fit: fitted rates numerically 0 occurred”Warning message:\n",
      "“glm.fit: fitted rates numerically 0 occurred”Warning message:\n",
      "“glm.fit: fitted rates numerically 0 occurred”Warning message:\n",
      "“glm.fit: fitted rates numerically 0 occurred”Warning message:\n",
      "“glm.fit: fitted rates numerically 0 occurred”Warning message:\n",
      "“glm.fit: fitted rates numerically 0 occurred”"
     ]
    },
    {
     "name": "stdout",
     "output_type": "stream",
     "text": [
      ".."
     ]
    },
    {
     "name": "stderr",
     "output_type": "stream",
     "text": [
      "Warning message:\n",
      "“glm.fit: fitted rates numerically 0 occurred”Warning message:\n",
      "“glm.fit: fitted rates numerically 0 occurred”"
     ]
    },
    {
     "name": "stdout",
     "output_type": "stream",
     "text": [
      ".."
     ]
    },
    {
     "name": "stderr",
     "output_type": "stream",
     "text": [
      "Warning message:\n",
      "“glm.fit: fitted rates numerically 0 occurred”Warning message:\n",
      "“glm.fit: fitted rates numerically 0 occurred”Warning message:\n",
      "“glm.fit: fitted rates numerically 0 occurred”Warning message:\n",
      "“glm.fit: fitted rates numerically 0 occurred”Warning message:\n",
      "“glm.fit: fitted rates numerically 0 occurred”Warning message:\n",
      "“glm.fit: fitted rates numerically 0 occurred”Warning message:\n",
      "“glm.fit: fitted rates numerically 0 occurred”Warning message:\n",
      "“glm.fit: fitted rates numerically 0 occurred”"
     ]
    },
    {
     "name": "stdout",
     "output_type": "stream",
     "text": [
      ".."
     ]
    },
    {
     "name": "stderr",
     "output_type": "stream",
     "text": [
      "Warning message:\n",
      "“glm.fit: fitted rates numerically 0 occurred”Warning message:\n",
      "“glm.fit: fitted rates numerically 0 occurred”Warning message:\n",
      "“glm.fit: fitted rates numerically 0 occurred”Warning message:\n",
      "“glm.fit: fitted rates numerically 0 occurred”Warning message:\n",
      "“glm.fit: fitted rates numerically 0 occurred”Warning message:\n",
      "“glm.fit: fitted rates numerically 0 occurred”Warning message:\n",
      "“glm.fit: fitted rates numerically 0 occurred”"
     ]
    },
    {
     "name": "stdout",
     "output_type": "stream",
     "text": [
      "."
     ]
    },
    {
     "name": "stderr",
     "output_type": "stream",
     "text": [
      "Warning message:\n",
      "“glm.fit: fitted rates numerically 0 occurred”Warning message:\n",
      "“glm.fit: fitted rates numerically 0 occurred”Warning message:\n",
      "“glm.fit: fitted rates numerically 0 occurred”Warning message:\n",
      "“glm.fit: fitted rates numerically 0 occurred”Warning message:\n",
      "“glm.fit: fitted rates numerically 0 occurred”Warning message:\n",
      "“glm.fit: fitted rates numerically 0 occurred”Warning message:\n",
      "“glm.fit: fitted rates numerically 0 occurred”Warning message:\n",
      "“glm.fit: fitted rates numerically 0 occurred”Warning message:\n",
      "“glm.fit: fitted rates numerically 0 occurred”Warning message:\n",
      "“glm.fit: fitted rates numerically 0 occurred”"
     ]
    },
    {
     "name": "stdout",
     "output_type": "stream",
     "text": [
      ".."
     ]
    },
    {
     "name": "stderr",
     "output_type": "stream",
     "text": [
      "Warning message:\n",
      "“glm.fit: fitted rates numerically 0 occurred”Warning message:\n",
      "“glm.fit: fitted rates numerically 0 occurred”Warning message:\n",
      "“glm.fit: fitted rates numerically 0 occurred”Warning message:\n",
      "“glm.fit: fitted rates numerically 0 occurred”Warning message:\n",
      "“glm.fit: fitted rates numerically 0 occurred”"
     ]
    },
    {
     "name": "stdout",
     "output_type": "stream",
     "text": [
      "."
     ]
    },
    {
     "name": "stderr",
     "output_type": "stream",
     "text": [
      "Warning message:\n",
      "“glm.fit: fitted rates numerically 0 occurred”Warning message:\n",
      "“glm.fit: fitted rates numerically 0 occurred”"
     ]
    },
    {
     "name": "stdout",
     "output_type": "stream",
     "text": [
      ".."
     ]
    },
    {
     "name": "stderr",
     "output_type": "stream",
     "text": [
      "Warning message:\n",
      "“glm.fit: fitted rates numerically 0 occurred”Warning message:\n",
      "“glm.fit: fitted rates numerically 0 occurred”Warning message:\n",
      "“glm.fit: fitted rates numerically 0 occurred”Warning message:\n",
      "“glm.fit: fitted rates numerically 0 occurred”Warning message:\n",
      "“glm.fit: fitted rates numerically 0 occurred”Warning message:\n",
      "“glm.fit: fitted rates numerically 0 occurred”"
     ]
    },
    {
     "name": "stdout",
     "output_type": "stream",
     "text": [
      ".."
     ]
    },
    {
     "name": "stderr",
     "output_type": "stream",
     "text": [
      "Warning message:\n",
      "“glm.fit: fitted rates numerically 0 occurred”Warning message:\n",
      "“glm.fit: fitted rates numerically 0 occurred”Warning message:\n",
      "“glm.fit: fitted rates numerically 0 occurred”Warning message:\n",
      "“glm.fit: fitted rates numerically 0 occurred”"
     ]
    },
    {
     "name": "stdout",
     "output_type": "stream",
     "text": [
      ".."
     ]
    },
    {
     "name": "stderr",
     "output_type": "stream",
     "text": [
      "Warning message:\n",
      "“glm.fit: fitted rates numerically 0 occurred”Warning message:\n",
      "“glm.fit: fitted rates numerically 0 occurred”Warning message:\n",
      "“glm.fit: fitted rates numerically 0 occurred”"
     ]
    },
    {
     "name": "stdout",
     "output_type": "stream",
     "text": [
      "."
     ]
    },
    {
     "name": "stderr",
     "output_type": "stream",
     "text": [
      "Warning message:\n",
      "“glm.fit: fitted rates numerically 0 occurred”Warning message:\n",
      "“glm.fit: fitted rates numerically 0 occurred”Warning message:\n",
      "“glm.fit: fitted rates numerically 0 occurred”Warning message:\n",
      "“glm.fit: fitted rates numerically 0 occurred”Warning message:\n",
      "“glm.fit: fitted rates numerically 0 occurred”Warning message:\n",
      "“glm.fit: fitted rates numerically 0 occurred”Warning message:\n",
      "“glm.fit: fitted rates numerically 0 occurred”Warning message:\n",
      "“glm.fit: fitted rates numerically 0 occurred”"
     ]
    },
    {
     "name": "stdout",
     "output_type": "stream",
     "text": [
      "."
     ]
    },
    {
     "name": "stderr",
     "output_type": "stream",
     "text": [
      "Warning message:\n",
      "“glm.fit: fitted rates numerically 0 occurred”Warning message:\n",
      "“glm.fit: fitted rates numerically 0 occurred”Warning message:\n",
      "“glm.fit: fitted rates numerically 0 occurred”"
     ]
    },
    {
     "name": "stdout",
     "output_type": "stream",
     "text": [
      ".."
     ]
    },
    {
     "name": "stderr",
     "output_type": "stream",
     "text": [
      "Warning message:\n",
      "“glm.fit: fitted rates numerically 0 occurred”Warning message:\n",
      "“glm.fit: fitted rates numerically 0 occurred”"
     ]
    },
    {
     "name": "stdout",
     "output_type": "stream",
     "text": [
      "."
     ]
    },
    {
     "name": "stderr",
     "output_type": "stream",
     "text": [
      "Warning message:\n",
      "“glm.fit: fitted rates numerically 0 occurred”Warning message:\n",
      "“glm.fit: fitted rates numerically 0 occurred”Warning message:\n",
      "“glm.fit: fitted rates numerically 0 occurred”Warning message:\n",
      "“glm.fit: fitted rates numerically 0 occurred”Warning message:\n",
      "“glm.fit: fitted rates numerically 0 occurred”"
     ]
    },
    {
     "name": "stdout",
     "output_type": "stream",
     "text": [
      ".."
     ]
    },
    {
     "name": "stderr",
     "output_type": "stream",
     "text": [
      "Warning message:\n",
      "“glm.fit: fitted rates numerically 0 occurred”Warning message:\n",
      "“glm.fit: fitted rates numerically 0 occurred”"
     ]
    },
    {
     "name": "stdout",
     "output_type": "stream",
     "text": [
      ".."
     ]
    },
    {
     "name": "stderr",
     "output_type": "stream",
     "text": [
      "Warning message:\n",
      "“glm.fit: fitted rates numerically 0 occurred”Warning message:\n",
      "“glm.fit: fitted rates numerically 0 occurred”"
     ]
    },
    {
     "name": "stdout",
     "output_type": "stream",
     "text": [
      ".."
     ]
    },
    {
     "name": "stderr",
     "output_type": "stream",
     "text": [
      "Warning message:\n",
      "“glm.fit: fitted rates numerically 0 occurred”"
     ]
    },
    {
     "name": "stdout",
     "output_type": "stream",
     "text": [
      "..."
     ]
    },
    {
     "name": "stderr",
     "output_type": "stream",
     "text": [
      "Warning message:\n",
      "“glm.fit: fitted rates numerically 0 occurred”Warning message:\n",
      "“glm.fit: fitted rates numerically 0 occurred”Warning message:\n",
      "“glm.fit: fitted rates numerically 0 occurred”Warning message:\n",
      "“glm.fit: fitted rates numerically 0 occurred”Warning message:\n",
      "“glm.fit: fitted rates numerically 0 occurred”Warning message:\n",
      "“glm.fit: fitted rates numerically 0 occurred”Warning message:\n",
      "“glm.fit: fitted rates numerically 0 occurred”Warning message:\n",
      "“glm.fit: fitted rates numerically 0 occurred”Warning message:\n",
      "“glm.fit: fitted rates numerically 0 occurred”Warning message:\n",
      "“glm.fit: fitted rates numerically 0 occurred”Warning message:\n",
      "“glm.fit: fitted rates numerically 0 occurred”Warning message:\n",
      "“glm.fit: fitted rates numerically 0 occurred”Warning message:\n",
      "“glm.fit: fitted rates numerically 0 occurred”Warning message:\n",
      "“glm.fit: fitted rates numerically 0 occurred”Warning message:\n",
      "“glm.fit: fitted rates numerically 0 occurred”Warning message:\n",
      "“glm.fit: fitted rates numerically 0 occurred”Warning message:\n",
      "“glm.fit: fitted rates numerically 0 occurred”Warning message:\n",
      "“glm.fit: fitted rates numerically 0 occurred”Warning message:\n",
      "“glm.fit: fitted rates numerically 0 occurred”Warning message:\n",
      "“glm.fit: fitted rates numerically 0 occurred”Warning message:\n",
      "“glm.fit: fitted rates numerically 0 occurred”Warning message:\n",
      "“glm.fit: fitted rates numerically 0 occurred”Warning message:\n",
      "“glm.fit: fitted rates numerically 0 occurred”Warning message:\n",
      "“glm.fit: fitted rates numerically 0 occurred”Warning message:\n",
      "“glm.fit: fitted rates numerically 0 occurred”Warning message:\n",
      "“glm.fit: fitted rates numerically 0 occurred”Warning message:\n",
      "“glm.fit: fitted rates numerically 0 occurred”Warning message:\n",
      "“glm.fit: fitted rates numerically 0 occurred”Warning message:\n",
      "“glm.fit: fitted rates numerically 0 occurred”Warning message:\n",
      "“glm.fit: fitted rates numerically 0 occurred”Warning message:\n",
      "“glm.fit: fitted rates numerically 0 occurred”Warning message:\n",
      "“glm.fit: fitted rates numerically 0 occurred”Warning message:\n",
      "“glm.fit: fitted rates numerically 0 occurred”Warning message:\n",
      "“glm.fit: fitted rates numerically 0 occurred”Warning message:\n",
      "“glm.fit: fitted rates numerically 0 occurred”Warning message:\n",
      "“glm.fit: fitted rates numerically 0 occurred”Warning message:\n",
      "“glm.fit: fitted rates numerically 0 occurred”Warning message:\n",
      "“glm.fit: fitted rates numerically 0 occurred”Warning message:\n",
      "“glm.fit: fitted rates numerically 0 occurred”Warning message:\n",
      "“glm.fit: fitted rates numerically 0 occurred”Warning message:\n",
      "“glm.fit: fitted rates numerically 0 occurred”Warning message:\n",
      "“glm.fit: fitted rates numerically 0 occurred”Warning message:\n",
      "“glm.fit: fitted rates numerically 0 occurred”Warning message:\n",
      "“glm.fit: fitted rates numerically 0 occurred”Warning message:\n",
      "“glm.fit: fitted rates numerically 0 occurred”Warning message:\n",
      "“glm.fit: fitted rates numerically 0 occurred”Warning message:\n",
      "“glm.fit: fitted rates numerically 0 occurred”Warning message:\n",
      "“glm.fit: fitted rates numerically 0 occurred”Warning message:\n",
      "“glm.fit: fitted rates numerically 0 occurred”Warning message:\n",
      "“glm.fit: fitted rates numerically 0 occurred”Warning message:\n",
      "“glm.fit: fitted rates numerically 0 occurred”Warning message:\n",
      "“glm.fit: fitted rates numerically 0 occurred”Warning message:\n",
      "“glm.fit: fitted rates numerically 0 occurred”Warning message:\n",
      "“glm.fit: fitted rates numerically 0 occurred”Warning message:\n",
      "“glm.fit: fitted rates numerically 0 occurred”Warning message:\n",
      "“glm.fit: fitted rates numerically 0 occurred”Warning message:\n",
      "“glm.fit: fitted rates numerically 0 occurred”Warning message:\n",
      "“glm.fit: fitted rates numerically 0 occurred”Warning message:\n",
      "“glm.fit: fitted rates numerically 0 occurred”Warning message:\n",
      "“glm.fit: fitted rates numerically 0 occurred”Warning message:\n",
      "“glm.fit: fitted rates numerically 0 occurred”Warning message:\n",
      "“glm.fit: fitted rates numerically 0 occurred”Warning message:\n",
      "“glm.fit: fitted rates numerically 0 occurred”Warning message:\n",
      "“glm.fit: fitted rates numerically 0 occurred”Warning message:\n",
      "“glm.fit: fitted rates numerically 0 occurred”Warning message:\n",
      "“glm.fit: fitted rates numerically 0 occurred”Warning message:\n",
      "“glm.fit: fitted rates numerically 0 occurred”Warning message:\n",
      "“glm.fit: fitted rates numerically 0 occurred”Warning message:\n",
      "“glm.fit: fitted rates numerically 0 occurred”Warning message:\n",
      "“glm.fit: fitted rates numerically 0 occurred”Warning message:\n",
      "“glm.fit: fitted rates numerically 0 occurred”Warning message:\n",
      "“glm.fit: fitted rates numerically 0 occurred”Warning message:\n",
      "“glm.fit: fitted rates numerically 0 occurred”Warning message:\n",
      "“glm.fit: fitted rates numerically 0 occurred”Warning message:\n",
      "“glm.fit: fitted rates numerically 0 occurred”Warning message:\n",
      "“glm.fit: fitted rates numerically 0 occurred”Warning message:\n",
      "“glm.fit: fitted rates numerically 0 occurred”"
     ]
    },
    {
     "name": "stdout",
     "output_type": "stream",
     "text": [
      "."
     ]
    },
    {
     "name": "stderr",
     "output_type": "stream",
     "text": [
      "Warning message:\n",
      "“glm.fit: fitted rates numerically 0 occurred”Warning message:\n",
      "“glm.fit: fitted rates numerically 0 occurred”Warning message:\n",
      "“glm.fit: fitted rates numerically 0 occurred”Warning message:\n",
      "“glm.fit: fitted rates numerically 0 occurred”Warning message:\n",
      "“glm.fit: fitted rates numerically 0 occurred”Warning message:\n",
      "“glm.fit: fitted rates numerically 0 occurred”Warning message:\n",
      "“glm.fit: fitted rates numerically 0 occurred”Warning message:\n",
      "“glm.fit: fitted rates numerically 0 occurred”Warning message:\n",
      "“glm.fit: fitted rates numerically 0 occurred”Warning message:\n",
      "“glm.fit: fitted rates numerically 0 occurred”Warning message:\n",
      "“glm.fit: fitted rates numerically 0 occurred”Warning message:\n",
      "“glm.fit: fitted rates numerically 0 occurred”Warning message:\n",
      "“glm.fit: fitted rates numerically 0 occurred”Warning message:\n",
      "“glm.fit: fitted rates numerically 0 occurred”"
     ]
    },
    {
     "name": "stdout",
     "output_type": "stream",
     "text": [
      "..."
     ]
    },
    {
     "name": "stderr",
     "output_type": "stream",
     "text": [
      "Warning message:\n",
      "“glm.fit: fitted rates numerically 0 occurred”Warning message:\n",
      "“glm.fit: fitted rates numerically 0 occurred”"
     ]
    },
    {
     "name": "stdout",
     "output_type": "stream",
     "text": [
      ".."
     ]
    },
    {
     "name": "stderr",
     "output_type": "stream",
     "text": [
      "Warning message:\n",
      "“glm.fit: fitted rates numerically 0 occurred”Warning message:\n",
      "“glm.fit: fitted rates numerically 0 occurred”"
     ]
    },
    {
     "name": "stdout",
     "output_type": "stream",
     "text": [
      "."
     ]
    },
    {
     "name": "stderr",
     "output_type": "stream",
     "text": [
      "Warning message:\n",
      "“glm.fit: fitted rates numerically 0 occurred”Warning message:\n",
      "“glm.fit: fitted rates numerically 0 occurred”Warning message:\n",
      "“glm.fit: fitted rates numerically 0 occurred”Warning message:\n",
      "“glm.fit: algorithm did not converge”Warning message:\n",
      "“glm.fit: fitted rates numerically 0 occurred”Warning message:\n",
      "“glm.fit: algorithm did not converge”Warning message:\n",
      "“glm.fit: fitted rates numerically 0 occurred”Warning message:\n",
      "“glm.fit: algorithm did not converge”Warning message:\n",
      "“glm.fit: fitted rates numerically 0 occurred”Warning message:\n",
      "“glm.fit: algorithm did not converge”Warning message:\n",
      "“glm.fit: fitted rates numerically 0 occurred”Warning message:\n",
      "“glm.fit: algorithm did not converge”Warning message:\n",
      "“glm.fit: fitted rates numerically 0 occurred”Warning message:\n",
      "“glm.fit: algorithm did not converge”Warning message:\n",
      "“glm.fit: fitted rates numerically 0 occurred”Warning message:\n",
      "“glm.fit: fitted rates numerically 0 occurred”Warning message:\n",
      "“glm.fit: fitted rates numerically 0 occurred”Warning message:\n",
      "“glm.fit: fitted rates numerically 0 occurred”"
     ]
    },
    {
     "name": "stdout",
     "output_type": "stream",
     "text": [
      "."
     ]
    },
    {
     "name": "stderr",
     "output_type": "stream",
     "text": [
      "Warning message:\n",
      "“glm.fit: fitted rates numerically 0 occurred”Warning message:\n",
      "“glm.fit: fitted rates numerically 0 occurred”Warning message:\n",
      "“glm.fit: fitted rates numerically 0 occurred”Warning message:\n",
      "“glm.fit: fitted rates numerically 0 occurred”"
     ]
    },
    {
     "name": "stdout",
     "output_type": "stream",
     "text": [
      "."
     ]
    },
    {
     "name": "stderr",
     "output_type": "stream",
     "text": [
      "Warning message:\n",
      "“glm.fit: fitted rates numerically 0 occurred”Warning message:\n",
      "“glm.fit: fitted rates numerically 0 occurred”"
     ]
    },
    {
     "name": "stdout",
     "output_type": "stream",
     "text": [
      ".."
     ]
    },
    {
     "name": "stderr",
     "output_type": "stream",
     "text": [
      "Warning message:\n",
      "“glm.fit: fitted rates numerically 0 occurred”Warning message:\n",
      "“glm.fit: fitted rates numerically 0 occurred”"
     ]
    },
    {
     "name": "stdout",
     "output_type": "stream",
     "text": [
      "."
     ]
    },
    {
     "name": "stderr",
     "output_type": "stream",
     "text": [
      "Warning message:\n",
      "“glm.fit: fitted rates numerically 0 occurred”Warning message:\n",
      "“glm.fit: fitted rates numerically 0 occurred”"
     ]
    },
    {
     "name": "stdout",
     "output_type": "stream",
     "text": [
      ".."
     ]
    },
    {
     "name": "stderr",
     "output_type": "stream",
     "text": [
      "Warning message:\n",
      "“glm.fit: fitted rates numerically 0 occurred”Warning message:\n",
      "“glm.fit: fitted rates numerically 0 occurred”Warning message:\n",
      "“glm.fit: fitted rates numerically 0 occurred”Warning message:\n",
      "“glm.fit: fitted rates numerically 0 occurred”Warning message:\n",
      "“glm.fit: fitted rates numerically 0 occurred”Warning message:\n",
      "“glm.fit: fitted rates numerically 0 occurred”Warning message:\n",
      "“glm.fit: fitted rates numerically 0 occurred”Warning message:\n",
      "“glm.fit: fitted rates numerically 0 occurred”"
     ]
    },
    {
     "name": "stdout",
     "output_type": "stream",
     "text": [
      "."
     ]
    },
    {
     "name": "stderr",
     "output_type": "stream",
     "text": [
      "Warning message:\n",
      "“glm.fit: fitted rates numerically 0 occurred”Warning message:\n",
      "“glm.fit: fitted rates numerically 0 occurred”Warning message:\n",
      "“glm.fit: fitted rates numerically 0 occurred”Warning message:\n",
      "“glm.fit: fitted rates numerically 0 occurred”Warning message:\n",
      "“glm.fit: fitted rates numerically 0 occurred”Warning message:\n",
      "“glm.fit: fitted rates numerically 0 occurred”Warning message:\n",
      "“glm.fit: algorithm did not converge”Warning message:\n",
      "“glm.fit: fitted rates numerically 0 occurred”Warning message:\n",
      "“glm.fit: algorithm did not converge”Warning message:\n",
      "“glm.fit: fitted rates numerically 0 occurred”Warning message:\n",
      "“glm.fit: algorithm did not converge”Warning message:\n",
      "“glm.fit: fitted rates numerically 0 occurred”Warning message:\n",
      "“glm.fit: algorithm did not converge”Warning message:\n",
      "“glm.fit: fitted rates numerically 0 occurred”Warning message:\n",
      "“glm.fit: algorithm did not converge”Warning message:\n",
      "“glm.fit: fitted rates numerically 0 occurred”Warning message:\n",
      "“glm.fit: fitted rates numerically 0 occurred”Warning message:\n",
      "“glm.fit: fitted rates numerically 0 occurred”Warning message:\n",
      "“glm.fit: fitted rates numerically 0 occurred”Warning message:\n",
      "“glm.fit: fitted rates numerically 0 occurred”Warning message:\n",
      "“glm.fit: fitted rates numerically 0 occurred”Warning message:\n",
      "“glm.fit: fitted rates numerically 0 occurred”Warning message:\n",
      "“glm.fit: fitted rates numerically 0 occurred”"
     ]
    },
    {
     "name": "stdout",
     "output_type": "stream",
     "text": [
      "."
     ]
    },
    {
     "name": "stderr",
     "output_type": "stream",
     "text": [
      "Warning message:\n",
      "“glm.fit: fitted rates numerically 0 occurred”"
     ]
    },
    {
     "name": "stdout",
     "output_type": "stream",
     "text": [
      "."
     ]
    },
    {
     "name": "stderr",
     "output_type": "stream",
     "text": [
      "Warning message:\n",
      "“glm.fit: fitted rates numerically 0 occurred”Warning message:\n",
      "“glm.fit: fitted rates numerically 0 occurred”Warning message:\n",
      "“glm.fit: fitted rates numerically 0 occurred”Warning message:\n",
      "“glm.fit: fitted rates numerically 0 occurred”Warning message:\n",
      "“glm.fit: fitted rates numerically 0 occurred”Warning message:\n",
      "“glm.fit: fitted rates numerically 0 occurred”"
     ]
    },
    {
     "name": "stdout",
     "output_type": "stream",
     "text": [
      "."
     ]
    },
    {
     "name": "stderr",
     "output_type": "stream",
     "text": [
      "Warning message:\n",
      "“glm.fit: fitted rates numerically 0 occurred”Warning message:\n",
      "“glm.fit: fitted rates numerically 0 occurred”"
     ]
    },
    {
     "name": "stdout",
     "output_type": "stream",
     "text": [
      "."
     ]
    },
    {
     "name": "stderr",
     "output_type": "stream",
     "text": [
      "Warning message:\n",
      "“glm.fit: fitted rates numerically 0 occurred”Warning message:\n",
      "“glm.fit: fitted rates numerically 0 occurred”Warning message:\n",
      "“glm.fit: fitted rates numerically 0 occurred”Warning message:\n",
      "“glm.fit: fitted rates numerically 0 occurred”Warning message:\n",
      "“glm.fit: fitted rates numerically 0 occurred”Warning message:\n",
      "“glm.fit: fitted rates numerically 0 occurred”Warning message:\n",
      "“glm.fit: fitted rates numerically 0 occurred”Warning message:\n",
      "“glm.fit: fitted rates numerically 0 occurred”Warning message:\n",
      "“glm.fit: fitted rates numerically 0 occurred”Warning message:\n",
      "“glm.fit: fitted rates numerically 0 occurred”Warning message:\n",
      "“glm.fit: fitted rates numerically 0 occurred”Warning message:\n",
      "“glm.fit: fitted rates numerically 0 occurred”Warning message:\n",
      "“glm.fit: fitted rates numerically 0 occurred”"
     ]
    },
    {
     "name": "stdout",
     "output_type": "stream",
     "text": [
      ".."
     ]
    },
    {
     "name": "stderr",
     "output_type": "stream",
     "text": [
      "Warning message:\n",
      "“glm.fit: fitted rates numerically 0 occurred”Warning message:\n",
      "“glm.fit: fitted rates numerically 0 occurred”Warning message:\n",
      "“glm.fit: fitted rates numerically 0 occurred”Warning message:\n",
      "“glm.fit: fitted rates numerically 0 occurred”"
     ]
    },
    {
     "name": "stdout",
     "output_type": "stream",
     "text": [
      "."
     ]
    },
    {
     "name": "stderr",
     "output_type": "stream",
     "text": [
      "Warning message:\n",
      "“glm.fit: fitted rates numerically 0 occurred”Warning message:\n",
      "“glm.fit: fitted rates numerically 0 occurred”Warning message:\n",
      "“glm.fit: fitted rates numerically 0 occurred”Warning message:\n",
      "“glm.fit: fitted rates numerically 0 occurred”Warning message:\n",
      "“glm.fit: fitted rates numerically 0 occurred”Warning message:\n",
      "“glm.fit: fitted rates numerically 0 occurred”Warning message:\n",
      "“glm.fit: fitted rates numerically 0 occurred”Warning message:\n",
      "“glm.fit: fitted rates numerically 0 occurred”Warning message:\n",
      "“glm.fit: fitted rates numerically 0 occurred”Warning message:\n",
      "“glm.fit: fitted rates numerically 0 occurred”"
     ]
    },
    {
     "name": "stdout",
     "output_type": "stream",
     "text": [
      "..."
     ]
    },
    {
     "name": "stderr",
     "output_type": "stream",
     "text": [
      "Warning message:\n",
      "“glm.fit: fitted rates numerically 0 occurred”Warning message:\n",
      "“glm.fit: fitted rates numerically 0 occurred”"
     ]
    },
    {
     "name": "stdout",
     "output_type": "stream",
     "text": [
      "."
     ]
    },
    {
     "name": "stderr",
     "output_type": "stream",
     "text": [
      "Warning message:\n",
      "“glm.fit: fitted rates numerically 0 occurred”"
     ]
    },
    {
     "name": "stdout",
     "output_type": "stream",
     "text": [
      "."
     ]
    },
    {
     "name": "stderr",
     "output_type": "stream",
     "text": [
      "Warning message:\n",
      "“glm.fit: fitted rates numerically 0 occurred”Warning message:\n",
      "“glm.fit: fitted rates numerically 0 occurred”"
     ]
    },
    {
     "name": "stdout",
     "output_type": "stream",
     "text": [
      "."
     ]
    },
    {
     "name": "stderr",
     "output_type": "stream",
     "text": [
      "Warning message:\n",
      "“glm.fit: fitted rates numerically 0 occurred”Warning message:\n",
      "“glm.fit: fitted rates numerically 0 occurred”Warning message:\n",
      "“glm.fit: fitted rates numerically 0 occurred”Warning message:\n",
      "“glm.fit: fitted rates numerically 0 occurred”Warning message:\n",
      "“glm.fit: fitted rates numerically 0 occurred”Warning message:\n",
      "“glm.fit: fitted rates numerically 0 occurred”Warning message:\n",
      "“glm.fit: fitted rates numerically 0 occurred”Warning message:\n",
      "“glm.fit: fitted rates numerically 0 occurred”Warning message:\n",
      "“glm.fit: fitted rates numerically 0 occurred”Warning message:\n",
      "“glm.fit: fitted rates numerically 0 occurred”Warning message:\n",
      "“glm.fit: fitted rates numerically 0 occurred”Warning message:\n",
      "“glm.fit: fitted rates numerically 0 occurred”"
     ]
    },
    {
     "name": "stdout",
     "output_type": "stream",
     "text": [
      "."
     ]
    },
    {
     "name": "stderr",
     "output_type": "stream",
     "text": [
      "Warning message:\n",
      "“glm.fit: fitted rates numerically 0 occurred”Warning message:\n",
      "“glm.fit: fitted rates numerically 0 occurred”Warning message:\n",
      "“glm.fit: fitted rates numerically 0 occurred”Warning message:\n",
      "“glm.fit: fitted rates numerically 0 occurred”Warning message:\n",
      "“glm.fit: fitted rates numerically 0 occurred”Warning message:\n",
      "“glm.fit: fitted rates numerically 0 occurred”Warning message:\n",
      "“glm.fit: fitted rates numerically 0 occurred”Warning message:\n",
      "“glm.fit: fitted rates numerically 0 occurred”"
     ]
    },
    {
     "name": "stdout",
     "output_type": "stream",
     "text": [
      ".."
     ]
    },
    {
     "name": "stderr",
     "output_type": "stream",
     "text": [
      "Warning message:\n",
      "“glm.fit: fitted rates numerically 0 occurred”Warning message:\n",
      "“glm.fit: fitted rates numerically 0 occurred”Warning message:\n",
      "“glm.fit: fitted rates numerically 0 occurred”Warning message:\n",
      "“glm.fit: fitted rates numerically 0 occurred”"
     ]
    },
    {
     "name": "stdout",
     "output_type": "stream",
     "text": [
      "."
     ]
    },
    {
     "name": "stderr",
     "output_type": "stream",
     "text": [
      "Warning message:\n",
      "“glm.fit: fitted rates numerically 0 occurred”Warning message:\n",
      "“glm.fit: fitted rates numerically 0 occurred”"
     ]
    },
    {
     "name": "stdout",
     "output_type": "stream",
     "text": [
      "..."
     ]
    },
    {
     "name": "stderr",
     "output_type": "stream",
     "text": [
      "Warning message:\n",
      "“glm.fit: fitted rates numerically 0 occurred”Warning message:\n",
      "“glm.fit: fitted rates numerically 0 occurred”Warning message:\n",
      "“glm.fit: fitted rates numerically 0 occurred”"
     ]
    },
    {
     "name": "stdout",
     "output_type": "stream",
     "text": [
      "."
     ]
    },
    {
     "name": "stderr",
     "output_type": "stream",
     "text": [
      "Warning message:\n",
      "“glm.fit: fitted rates numerically 0 occurred”Warning message:\n",
      "“glm.fit: fitted rates numerically 0 occurred”Warning message:\n",
      "“glm.fit: fitted rates numerically 0 occurred”"
     ]
    },
    {
     "name": "stdout",
     "output_type": "stream",
     "text": [
      ".."
     ]
    },
    {
     "name": "stderr",
     "output_type": "stream",
     "text": [
      "Warning message:\n",
      "“glm.fit: fitted rates numerically 0 occurred”Warning message:\n",
      "“glm.fit: fitted rates numerically 0 occurred”Warning message:\n",
      "“glm.fit: fitted rates numerically 0 occurred”Warning message:\n",
      "“glm.fit: fitted rates numerically 0 occurred”Warning message:\n",
      "“glm.fit: fitted rates numerically 0 occurred”"
     ]
    },
    {
     "name": "stdout",
     "output_type": "stream",
     "text": [
      ".."
     ]
    },
    {
     "name": "stderr",
     "output_type": "stream",
     "text": [
      "Warning message:\n",
      "“glm.fit: fitted rates numerically 0 occurred”Warning message:\n",
      "“glm.fit: fitted rates numerically 0 occurred”Warning message:\n",
      "“glm.fit: fitted rates numerically 0 occurred”Warning message:\n",
      "“glm.fit: fitted rates numerically 0 occurred”Warning message:\n",
      "“glm.fit: fitted rates numerically 0 occurred”Warning message:\n",
      "“glm.fit: fitted rates numerically 0 occurred”Warning message:\n",
      "“glm.fit: fitted rates numerically 0 occurred”Warning message:\n",
      "“glm.fit: fitted rates numerically 0 occurred”Warning message:\n",
      "“glm.fit: fitted rates numerically 0 occurred”Warning message:\n",
      "“glm.fit: fitted rates numerically 0 occurred”Warning message:\n",
      "“glm.fit: fitted rates numerically 0 occurred”Warning message:\n",
      "“glm.fit: fitted rates numerically 0 occurred”Warning message:\n",
      "“glm.fit: fitted rates numerically 0 occurred”Warning message:\n",
      "“glm.fit: fitted rates numerically 0 occurred”Warning message:\n",
      "“glm.fit: fitted rates numerically 0 occurred”Warning message:\n",
      "“glm.fit: fitted rates numerically 0 occurred”Warning message:\n",
      "“glm.fit: fitted rates numerically 0 occurred”Warning message:\n",
      "“glm.fit: fitted rates numerically 0 occurred”Warning message:\n",
      "“glm.fit: fitted rates numerically 0 occurred”Warning message:\n",
      "“glm.fit: fitted rates numerically 0 occurred”Warning message:\n",
      "“glm.fit: fitted rates numerically 0 occurred”Warning message:\n",
      "“glm.fit: fitted rates numerically 0 occurred”Warning message:\n",
      "“glm.fit: fitted rates numerically 0 occurred”Warning message:\n",
      "“glm.fit: fitted rates numerically 0 occurred”Warning message:\n",
      "“glm.fit: fitted rates numerically 0 occurred”"
     ]
    },
    {
     "name": "stdout",
     "output_type": "stream",
     "text": [
      ".."
     ]
    },
    {
     "name": "stderr",
     "output_type": "stream",
     "text": [
      "Warning message:\n",
      "“glm.fit: fitted rates numerically 0 occurred”Warning message:\n",
      "“glm.fit: fitted rates numerically 0 occurred”Warning message:\n",
      "“glm.fit: fitted rates numerically 0 occurred”"
     ]
    },
    {
     "name": "stdout",
     "output_type": "stream",
     "text": [
      "."
     ]
    },
    {
     "name": "stderr",
     "output_type": "stream",
     "text": [
      "Warning message:\n",
      "“glm.fit: fitted rates numerically 0 occurred”Warning message:\n",
      "“glm.fit: fitted rates numerically 0 occurred”Warning message:\n",
      "“glm.fit: fitted rates numerically 0 occurred”Warning message:\n",
      "“glm.fit: fitted rates numerically 0 occurred”Warning message:\n",
      "“glm.fit: fitted rates numerically 0 occurred”Warning message:\n",
      "“glm.fit: fitted rates numerically 0 occurred”Warning message:\n",
      "“glm.fit: fitted rates numerically 0 occurred”Warning message:\n",
      "“glm.fit: fitted rates numerically 0 occurred”Warning message:\n",
      "“glm.fit: fitted rates numerically 0 occurred”Warning message:\n",
      "“glm.fit: fitted rates numerically 0 occurred”Warning message:\n",
      "“glm.fit: fitted rates numerically 0 occurred”Warning message:\n",
      "“glm.fit: fitted rates numerically 0 occurred”"
     ]
    },
    {
     "name": "stdout",
     "output_type": "stream",
     "text": [
      "."
     ]
    },
    {
     "name": "stderr",
     "output_type": "stream",
     "text": [
      "Warning message:\n",
      "“glm.fit: fitted rates numerically 0 occurred”Warning message:\n",
      "“glm.fit: fitted rates numerically 0 occurred”Warning message:\n",
      "“glm.fit: fitted rates numerically 0 occurred”"
     ]
    },
    {
     "name": "stdout",
     "output_type": "stream",
     "text": [
      "."
     ]
    },
    {
     "name": "stderr",
     "output_type": "stream",
     "text": [
      "Warning message:\n",
      "“glm.fit: fitted rates numerically 0 occurred”Warning message:\n",
      "“glm.fit: fitted rates numerically 0 occurred”Warning message:\n",
      "“glm.fit: fitted rates numerically 0 occurred”Warning message:\n",
      "“glm.fit: fitted rates numerically 0 occurred”Warning message:\n",
      "“glm.fit: fitted rates numerically 0 occurred”Warning message:\n",
      "“glm.fit: fitted rates numerically 0 occurred”Warning message:\n",
      "“glm.fit: fitted rates numerically 0 occurred”Warning message:\n",
      "“glm.fit: fitted rates numerically 0 occurred”Warning message:\n",
      "“glm.fit: fitted rates numerically 0 occurred”Warning message:\n",
      "“glm.fit: fitted rates numerically 0 occurred”Warning message:\n",
      "“glm.fit: fitted rates numerically 0 occurred”Warning message:\n",
      "“glm.fit: fitted rates numerically 0 occurred”Warning message:\n",
      "“glm.fit: fitted rates numerically 0 occurred”Warning message:\n",
      "“glm.fit: fitted rates numerically 0 occurred”Warning message:\n",
      "“glm.fit: fitted rates numerically 0 occurred”Warning message:\n",
      "“glm.fit: fitted rates numerically 0 occurred”Warning message:\n",
      "“glm.fit: fitted rates numerically 0 occurred”Warning message:\n",
      "“glm.fit: fitted rates numerically 0 occurred”"
     ]
    },
    {
     "name": "stdout",
     "output_type": "stream",
     "text": [
      "."
     ]
    },
    {
     "name": "stderr",
     "output_type": "stream",
     "text": [
      "Warning message:\n",
      "“glm.fit: fitted rates numerically 0 occurred”Warning message:\n",
      "“glm.fit: fitted rates numerically 0 occurred”Warning message:\n",
      "“glm.fit: fitted rates numerically 0 occurred”Warning message:\n",
      "“glm.fit: fitted rates numerically 0 occurred”Warning message:\n",
      "“glm.fit: fitted rates numerically 0 occurred”"
     ]
    },
    {
     "name": "stdout",
     "output_type": "stream",
     "text": [
      "."
     ]
    },
    {
     "name": "stderr",
     "output_type": "stream",
     "text": [
      "Warning message:\n",
      "“glm.fit: fitted rates numerically 0 occurred”Warning message:\n",
      "“glm.fit: fitted rates numerically 0 occurred”Warning message:\n",
      "“glm.fit: fitted rates numerically 0 occurred”Warning message:\n",
      "“glm.fit: fitted rates numerically 0 occurred”Warning message:\n",
      "“glm.fit: fitted rates numerically 0 occurred”Warning message:\n",
      "“glm.fit: fitted rates numerically 0 occurred”Warning message:\n",
      "“glm.fit: fitted rates numerically 0 occurred”Warning message:\n",
      "“glm.fit: fitted rates numerically 0 occurred”Warning message:\n",
      "“glm.fit: fitted rates numerically 0 occurred”"
     ]
    },
    {
     "name": "stdout",
     "output_type": "stream",
     "text": [
      "."
     ]
    },
    {
     "name": "stderr",
     "output_type": "stream",
     "text": [
      "Warning message:\n",
      "“glm.fit: fitted rates numerically 0 occurred”Warning message:\n",
      "“glm.fit: fitted rates numerically 0 occurred”"
     ]
    },
    {
     "name": "stdout",
     "output_type": "stream",
     "text": [
      "."
     ]
    },
    {
     "name": "stderr",
     "output_type": "stream",
     "text": [
      "Warning message:\n",
      "“glm.fit: fitted rates numerically 0 occurred”Warning message:\n",
      "“glm.fit: fitted rates numerically 0 occurred”Warning message:\n",
      "“glm.fit: fitted rates numerically 0 occurred”Warning message:\n",
      "“glm.fit: fitted rates numerically 0 occurred”Warning message:\n",
      "“glm.fit: fitted rates numerically 0 occurred”"
     ]
    },
    {
     "name": "stdout",
     "output_type": "stream",
     "text": [
      "."
     ]
    },
    {
     "name": "stderr",
     "output_type": "stream",
     "text": [
      "Warning message:\n",
      "“glm.fit: fitted rates numerically 0 occurred”"
     ]
    },
    {
     "name": "stdout",
     "output_type": "stream",
     "text": [
      "."
     ]
    },
    {
     "name": "stderr",
     "output_type": "stream",
     "text": [
      "Warning message:\n",
      "“glm.fit: fitted rates numerically 0 occurred”Warning message:\n",
      "“glm.fit: fitted rates numerically 0 occurred”Warning message:\n",
      "“glm.fit: fitted rates numerically 0 occurred”Warning message:\n",
      "“glm.fit: fitted rates numerically 0 occurred”Warning message:\n",
      "“glm.fit: fitted rates numerically 0 occurred”Warning message:\n",
      "“glm.fit: fitted rates numerically 0 occurred”"
     ]
    },
    {
     "name": "stdout",
     "output_type": "stream",
     "text": [
      "."
     ]
    },
    {
     "name": "stderr",
     "output_type": "stream",
     "text": [
      "Warning message:\n",
      "“glm.fit: fitted rates numerically 0 occurred”Warning message:\n",
      "“glm.fit: fitted rates numerically 0 occurred”Warning message:\n",
      "“glm.fit: fitted rates numerically 0 occurred”"
     ]
    },
    {
     "name": "stdout",
     "output_type": "stream",
     "text": [
      "."
     ]
    },
    {
     "name": "stderr",
     "output_type": "stream",
     "text": [
      "Warning message:\n",
      "“glm.fit: fitted rates numerically 0 occurred”Warning message:\n",
      "“glm.fit: fitted rates numerically 0 occurred”Warning message:\n",
      "“glm.fit: fitted rates numerically 0 occurred”"
     ]
    },
    {
     "name": "stdout",
     "output_type": "stream",
     "text": [
      "."
     ]
    },
    {
     "name": "stderr",
     "output_type": "stream",
     "text": [
      "Warning message:\n",
      "“glm.fit: fitted rates numerically 0 occurred”"
     ]
    },
    {
     "name": "stdout",
     "output_type": "stream",
     "text": [
      "."
     ]
    },
    {
     "name": "stderr",
     "output_type": "stream",
     "text": [
      "Warning message:\n",
      "“glm.fit: fitted rates numerically 0 occurred”Warning message:\n",
      "“glm.fit: fitted rates numerically 0 occurred”"
     ]
    },
    {
     "name": "stdout",
     "output_type": "stream",
     "text": [
      ".."
     ]
    },
    {
     "name": "stderr",
     "output_type": "stream",
     "text": [
      "Warning message:\n",
      "“glm.fit: fitted rates numerically 0 occurred”Warning message:\n",
      "“glm.fit: fitted rates numerically 0 occurred”Warning message:\n",
      "“glm.fit: fitted rates numerically 0 occurred”Warning message:\n",
      "“glm.fit: fitted rates numerically 0 occurred”"
     ]
    },
    {
     "name": "stdout",
     "output_type": "stream",
     "text": [
      "."
     ]
    },
    {
     "name": "stderr",
     "output_type": "stream",
     "text": [
      "Warning message:\n",
      "“glm.fit: fitted rates numerically 0 occurred”Warning message:\n",
      "“glm.fit: fitted rates numerically 0 occurred”"
     ]
    },
    {
     "name": "stdout",
     "output_type": "stream",
     "text": [
      "."
     ]
    },
    {
     "name": "stderr",
     "output_type": "stream",
     "text": [
      "Warning message:\n",
      "“glm.fit: fitted rates numerically 0 occurred”Warning message:\n",
      "“glm.fit: fitted rates numerically 0 occurred”Warning message:\n",
      "“glm.fit: fitted rates numerically 0 occurred”Warning message:\n",
      "“glm.fit: fitted rates numerically 0 occurred”Warning message:\n",
      "“glm.fit: fitted rates numerically 0 occurred”Warning message:\n",
      "“glm.fit: fitted rates numerically 0 occurred”"
     ]
    },
    {
     "name": "stdout",
     "output_type": "stream",
     "text": [
      "."
     ]
    },
    {
     "name": "stderr",
     "output_type": "stream",
     "text": [
      "Warning message:\n",
      "“glm.fit: fitted rates numerically 0 occurred”Warning message:\n",
      "“glm.fit: fitted rates numerically 0 occurred”Warning message:\n",
      "“glm.fit: fitted rates numerically 0 occurred”Warning message:\n",
      "“glm.fit: fitted rates numerically 0 occurred”Warning message:\n",
      "“glm.fit: fitted rates numerically 0 occurred”Warning message:\n",
      "“glm.fit: fitted rates numerically 0 occurred”"
     ]
    },
    {
     "name": "stdout",
     "output_type": "stream",
     "text": [
      "."
     ]
    },
    {
     "name": "stderr",
     "output_type": "stream",
     "text": [
      "Warning message:\n",
      "“glm.fit: fitted rates numerically 0 occurred”"
     ]
    },
    {
     "name": "stdout",
     "output_type": "stream",
     "text": [
      "."
     ]
    },
    {
     "name": "stderr",
     "output_type": "stream",
     "text": [
      "Warning message:\n",
      "“glm.fit: fitted rates numerically 0 occurred”Warning message:\n",
      "“glm.fit: fitted rates numerically 0 occurred”Warning message:\n",
      "“glm.fit: fitted rates numerically 0 occurred”"
     ]
    },
    {
     "name": "stdout",
     "output_type": "stream",
     "text": [
      ".."
     ]
    },
    {
     "name": "stderr",
     "output_type": "stream",
     "text": [
      "Warning message:\n",
      "“glm.fit: fitted rates numerically 0 occurred”Warning message:\n",
      "“glm.fit: fitted rates numerically 0 occurred”Warning message:\n",
      "“glm.fit: fitted rates numerically 0 occurred”Warning message:\n",
      "“glm.fit: fitted rates numerically 0 occurred”Warning message:\n",
      "“glm.fit: fitted rates numerically 0 occurred”Warning message:\n",
      "“glm.fit: fitted rates numerically 0 occurred”Warning message:\n",
      "“glm.fit: fitted rates numerically 0 occurred”"
     ]
    },
    {
     "name": "stdout",
     "output_type": "stream",
     "text": [
      "."
     ]
    },
    {
     "name": "stderr",
     "output_type": "stream",
     "text": [
      "Warning message:\n",
      "“glm.fit: fitted rates numerically 0 occurred”Warning message:\n",
      "“glm.fit: fitted rates numerically 0 occurred”Warning message:\n",
      "“glm.fit: fitted rates numerically 0 occurred”Warning message:\n",
      "“glm.fit: fitted rates numerically 0 occurred”Warning message:\n",
      "“glm.fit: fitted rates numerically 0 occurred”Warning message:\n",
      "“glm.fit: fitted rates numerically 0 occurred”Warning message:\n",
      "“glm.fit: fitted rates numerically 0 occurred”Warning message:\n",
      "“glm.fit: fitted rates numerically 0 occurred”Warning message:\n",
      "“glm.fit: fitted rates numerically 0 occurred”"
     ]
    },
    {
     "name": "stdout",
     "output_type": "stream",
     "text": [
      "."
     ]
    },
    {
     "name": "stderr",
     "output_type": "stream",
     "text": [
      "Warning message:\n",
      "“glm.fit: fitted rates numerically 0 occurred”Warning message:\n",
      "“glm.fit: fitted rates numerically 0 occurred”Warning message:\n",
      "“glm.fit: fitted rates numerically 0 occurred”"
     ]
    },
    {
     "name": "stdout",
     "output_type": "stream",
     "text": [
      "."
     ]
    },
    {
     "name": "stderr",
     "output_type": "stream",
     "text": [
      "Warning message:\n",
      "“glm.fit: fitted rates numerically 0 occurred”Warning message:\n",
      "“glm.fit: fitted rates numerically 0 occurred”Warning message:\n",
      "“glm.fit: fitted rates numerically 0 occurred”Warning message:\n",
      "“glm.fit: fitted rates numerically 0 occurred”"
     ]
    },
    {
     "name": "stdout",
     "output_type": "stream",
     "text": [
      ".."
     ]
    },
    {
     "name": "stderr",
     "output_type": "stream",
     "text": [
      "Warning message:\n",
      "“glm.fit: fitted rates numerically 0 occurred”Warning message:\n",
      "“glm.fit: fitted rates numerically 0 occurred”Warning message:\n",
      "“glm.fit: fitted rates numerically 0 occurred”Warning message:\n",
      "“glm.fit: fitted rates numerically 0 occurred”Warning message:\n",
      "“glm.fit: fitted rates numerically 0 occurred”"
     ]
    },
    {
     "name": "stdout",
     "output_type": "stream",
     "text": [
      "."
     ]
    },
    {
     "name": "stderr",
     "output_type": "stream",
     "text": [
      "Warning message:\n",
      "“glm.fit: fitted rates numerically 0 occurred”Warning message:\n",
      "“glm.fit: fitted rates numerically 0 occurred”Warning message:\n",
      "“glm.fit: fitted rates numerically 0 occurred”Warning message:\n",
      "“glm.fit: fitted rates numerically 0 occurred”Warning message:\n",
      "“glm.fit: fitted rates numerically 0 occurred”Warning message:\n",
      "“glm.fit: fitted rates numerically 0 occurred”Warning message:\n",
      "“glm.fit: fitted rates numerically 0 occurred”Warning message:\n",
      "“glm.fit: fitted rates numerically 0 occurred”Warning message:\n",
      "“glm.fit: fitted rates numerically 0 occurred”Warning message:\n",
      "“glm.fit: fitted rates numerically 0 occurred”Warning message:\n",
      "“glm.fit: fitted rates numerically 0 occurred”Warning message:\n",
      "“glm.fit: fitted rates numerically 0 occurred”Warning message:\n",
      "“glm.fit: fitted rates numerically 0 occurred”Warning message:\n",
      "“glm.fit: fitted rates numerically 0 occurred”Warning message:\n",
      "“glm.fit: fitted rates numerically 0 occurred”Warning message:\n",
      "“glm.fit: fitted rates numerically 0 occurred”Warning message:\n",
      "“glm.fit: fitted rates numerically 0 occurred”Warning message:\n",
      "“glm.fit: fitted rates numerically 0 occurred”Warning message:\n",
      "“glm.fit: fitted rates numerically 0 occurred”Warning message:\n",
      "“glm.fit: fitted rates numerically 0 occurred”Warning message:\n",
      "“glm.fit: fitted rates numerically 0 occurred”Warning message:\n",
      "“glm.fit: fitted rates numerically 0 occurred”Warning message:\n",
      "“glm.fit: fitted rates numerically 0 occurred”"
     ]
    },
    {
     "name": "stdout",
     "output_type": "stream",
     "text": [
      "."
     ]
    },
    {
     "name": "stderr",
     "output_type": "stream",
     "text": [
      "Warning message:\n",
      "“glm.fit: fitted rates numerically 0 occurred”Warning message:\n",
      "“glm.fit: fitted rates numerically 0 occurred”Warning message:\n",
      "“glm.fit: fitted rates numerically 0 occurred”Warning message:\n",
      "“glm.fit: fitted rates numerically 0 occurred”"
     ]
    },
    {
     "name": "stdout",
     "output_type": "stream",
     "text": [
      "."
     ]
    },
    {
     "name": "stderr",
     "output_type": "stream",
     "text": [
      "Warning message:\n",
      "“glm.fit: fitted rates numerically 0 occurred”Warning message:\n",
      "“glm.fit: fitted rates numerically 0 occurred”Warning message:\n",
      "“glm.fit: fitted rates numerically 0 occurred”"
     ]
    },
    {
     "name": "stdout",
     "output_type": "stream",
     "text": [
      "."
     ]
    },
    {
     "name": "stderr",
     "output_type": "stream",
     "text": [
      "Warning message:\n",
      "“glm.fit: fitted rates numerically 0 occurred”Warning message:\n",
      "“glm.fit: fitted rates numerically 0 occurred”Warning message:\n",
      "“glm.fit: fitted rates numerically 0 occurred”Warning message:\n",
      "“glm.fit: fitted rates numerically 0 occurred”Warning message:\n",
      "“glm.fit: fitted rates numerically 0 occurred”Warning message:\n",
      "“glm.fit: fitted rates numerically 0 occurred”Warning message:\n",
      "“glm.fit: fitted rates numerically 0 occurred”Warning message:\n",
      "“glm.fit: fitted rates numerically 0 occurred”Warning message:\n",
      "“glm.fit: fitted rates numerically 0 occurred”Warning message:\n",
      "“glm.fit: fitted rates numerically 0 occurred”"
     ]
    },
    {
     "name": "stdout",
     "output_type": "stream",
     "text": [
      "."
     ]
    },
    {
     "name": "stderr",
     "output_type": "stream",
     "text": [
      "Warning message:\n",
      "“glm.fit: fitted rates numerically 0 occurred”Warning message:\n",
      "“glm.fit: fitted rates numerically 0 occurred”Warning message:\n",
      "“glm.fit: fitted rates numerically 0 occurred”Warning message:\n",
      "“glm.fit: fitted rates numerically 0 occurred”Warning message:\n",
      "“glm.fit: fitted rates numerically 0 occurred”Warning message:\n",
      "“glm.fit: fitted rates numerically 0 occurred”Warning message:\n",
      "“glm.fit: fitted rates numerically 0 occurred”Warning message:\n",
      "“glm.fit: fitted rates numerically 0 occurred”Warning message:\n",
      "“glm.fit: fitted rates numerically 0 occurred”Warning message:\n",
      "“glm.fit: fitted rates numerically 0 occurred”Warning message:\n",
      "“glm.fit: fitted rates numerically 0 occurred”Warning message:\n",
      "“glm.fit: fitted rates numerically 0 occurred”Warning message:\n",
      "“glm.fit: fitted rates numerically 0 occurred”"
     ]
    },
    {
     "name": "stdout",
     "output_type": "stream",
     "text": [
      "."
     ]
    },
    {
     "name": "stderr",
     "output_type": "stream",
     "text": [
      "Warning message:\n",
      "“glm.fit: fitted rates numerically 0 occurred”Warning message:\n",
      "“glm.fit: fitted rates numerically 0 occurred”"
     ]
    },
    {
     "name": "stdout",
     "output_type": "stream",
     "text": [
      "."
     ]
    },
    {
     "name": "stderr",
     "output_type": "stream",
     "text": [
      "Warning message:\n",
      "“glm.fit: fitted rates numerically 0 occurred”"
     ]
    },
    {
     "name": "stdout",
     "output_type": "stream",
     "text": [
      "."
     ]
    },
    {
     "name": "stderr",
     "output_type": "stream",
     "text": [
      "Warning message:\n",
      "“glm.fit: fitted rates numerically 0 occurred”Warning message:\n",
      "“glm.fit: fitted rates numerically 0 occurred”Warning message:\n",
      "“glm.fit: fitted rates numerically 0 occurred”Warning message:\n",
      "“glm.fit: fitted rates numerically 0 occurred”Warning message:\n",
      "“glm.fit: fitted rates numerically 0 occurred”"
     ]
    },
    {
     "name": "stdout",
     "output_type": "stream",
     "text": [
      "."
     ]
    },
    {
     "name": "stderr",
     "output_type": "stream",
     "text": [
      "Warning message:\n",
      "“glm.fit: fitted rates numerically 0 occurred”Warning message:\n",
      "“glm.fit: fitted rates numerically 0 occurred”Warning message:\n",
      "“glm.fit: fitted rates numerically 0 occurred”Warning message:\n",
      "“glm.fit: fitted rates numerically 0 occurred”Warning message:\n",
      "“glm.fit: fitted rates numerically 0 occurred”"
     ]
    },
    {
     "name": "stdout",
     "output_type": "stream",
     "text": [
      "."
     ]
    },
    {
     "name": "stderr",
     "output_type": "stream",
     "text": [
      "Warning message:\n",
      "“glm.fit: fitted rates numerically 0 occurred”Warning message:\n",
      "“glm.fit: fitted rates numerically 0 occurred”Warning message:\n",
      "“glm.fit: fitted rates numerically 0 occurred”"
     ]
    },
    {
     "name": "stdout",
     "output_type": "stream",
     "text": [
      "."
     ]
    },
    {
     "name": "stderr",
     "output_type": "stream",
     "text": [
      "Warning message:\n",
      "“glm.fit: fitted rates numerically 0 occurred”Warning message:\n",
      "“glm.fit: fitted rates numerically 0 occurred”Warning message:\n",
      "“glm.fit: fitted rates numerically 0 occurred”Warning message:\n",
      "“glm.fit: fitted rates numerically 0 occurred”Warning message:\n",
      "“glm.fit: fitted rates numerically 0 occurred”"
     ]
    },
    {
     "name": "stdout",
     "output_type": "stream",
     "text": [
      "."
     ]
    },
    {
     "name": "stderr",
     "output_type": "stream",
     "text": [
      "Warning message:\n",
      "“glm.fit: fitted rates numerically 0 occurred”Warning message:\n",
      "“glm.fit: fitted rates numerically 0 occurred”"
     ]
    },
    {
     "name": "stdout",
     "output_type": "stream",
     "text": [
      ".."
     ]
    },
    {
     "name": "stderr",
     "output_type": "stream",
     "text": [
      "Warning message:\n",
      "“glm.fit: fitted rates numerically 0 occurred”Warning message:\n",
      "“glm.fit: fitted rates numerically 0 occurred”"
     ]
    },
    {
     "name": "stdout",
     "output_type": "stream",
     "text": [
      "."
     ]
    },
    {
     "name": "stderr",
     "output_type": "stream",
     "text": [
      "Warning message:\n",
      "“glm.fit: fitted rates numerically 0 occurred”Warning message:\n",
      "“glm.fit: fitted rates numerically 0 occurred”Warning message:\n",
      "“glm.fit: fitted rates numerically 0 occurred”"
     ]
    },
    {
     "name": "stdout",
     "output_type": "stream",
     "text": [
      "."
     ]
    },
    {
     "name": "stderr",
     "output_type": "stream",
     "text": [
      "Warning message:\n",
      "“glm.fit: fitted rates numerically 0 occurred”Warning message:\n",
      "“glm.fit: fitted rates numerically 0 occurred”Warning message:\n",
      "“glm.fit: fitted rates numerically 0 occurred”Warning message:\n",
      "“glm.fit: fitted rates numerically 0 occurred”"
     ]
    },
    {
     "name": "stdout",
     "output_type": "stream",
     "text": [
      "."
     ]
    },
    {
     "name": "stderr",
     "output_type": "stream",
     "text": [
      "Warning message:\n",
      "“glm.fit: fitted rates numerically 0 occurred”Warning message:\n",
      "“glm.fit: fitted rates numerically 0 occurred”Warning message:\n",
      "“glm.fit: fitted rates numerically 0 occurred”Warning message:\n",
      "“glm.fit: fitted rates numerically 0 occurred”Warning message:\n",
      "“glm.fit: fitted rates numerically 0 occurred”Warning message:\n",
      "“glm.fit: fitted rates numerically 0 occurred”Warning message:\n",
      "“glm.fit: fitted rates numerically 0 occurred”Warning message:\n",
      "“glm.fit: fitted rates numerically 0 occurred”Warning message:\n",
      "“glm.fit: fitted rates numerically 0 occurred”"
     ]
    },
    {
     "name": "stdout",
     "output_type": "stream",
     "text": [
      "."
     ]
    },
    {
     "name": "stderr",
     "output_type": "stream",
     "text": [
      "Warning message:\n",
      "“glm.fit: fitted rates numerically 0 occurred”"
     ]
    },
    {
     "name": "stdout",
     "output_type": "stream",
     "text": [
      "."
     ]
    },
    {
     "name": "stderr",
     "output_type": "stream",
     "text": [
      "Warning message:\n",
      "“glm.fit: fitted rates numerically 0 occurred”Warning message:\n",
      "“glm.fit: fitted rates numerically 0 occurred”Warning message:\n",
      "“glm.fit: algorithm did not converge”Warning message:\n",
      "“glm.fit: fitted rates numerically 0 occurred”Warning message:\n",
      "“glm.fit: algorithm did not converge”Warning message:\n",
      "“glm.fit: fitted rates numerically 0 occurred”Warning message:\n",
      "“glm.fit: algorithm did not converge”Warning message:\n",
      "“glm.fit: fitted rates numerically 0 occurred”Warning message:\n",
      "“glm.fit: algorithm did not converge”Warning message:\n",
      "“glm.fit: fitted rates numerically 0 occurred”Warning message:\n",
      "“glm.fit: algorithm did not converge”Warning message:\n",
      "“glm.fit: fitted rates numerically 0 occurred”Warning message:\n",
      "“glm.fit: algorithm did not converge”Warning message:\n",
      "“glm.fit: fitted rates numerically 0 occurred”"
     ]
    },
    {
     "name": "stdout",
     "output_type": "stream",
     "text": [
      "."
     ]
    },
    {
     "name": "stderr",
     "output_type": "stream",
     "text": [
      "Warning message:\n",
      "“glm.fit: fitted rates numerically 0 occurred”Warning message:\n",
      "“glm.fit: fitted rates numerically 0 occurred”Warning message:\n",
      "“glm.fit: fitted rates numerically 0 occurred”Warning message:\n",
      "“glm.fit: fitted rates numerically 0 occurred”Warning message:\n",
      "“glm.fit: fitted rates numerically 0 occurred”Warning message:\n",
      "“glm.fit: fitted rates numerically 0 occurred”Warning message:\n",
      "“glm.fit: fitted rates numerically 0 occurred”Warning message:\n",
      "“glm.fit: fitted rates numerically 0 occurred”Warning message:\n",
      "“glm.fit: fitted rates numerically 0 occurred”"
     ]
    },
    {
     "name": "stdout",
     "output_type": "stream",
     "text": [
      "."
     ]
    },
    {
     "name": "stderr",
     "output_type": "stream",
     "text": [
      "Warning message:\n",
      "“glm.fit: fitted rates numerically 0 occurred”Warning message:\n",
      "“glm.fit: fitted rates numerically 0 occurred”Warning message:\n",
      "“glm.fit: fitted rates numerically 0 occurred”"
     ]
    },
    {
     "name": "stdout",
     "output_type": "stream",
     "text": [
      ".."
     ]
    },
    {
     "name": "stderr",
     "output_type": "stream",
     "text": [
      "Warning message:\n",
      "“glm.fit: fitted rates numerically 0 occurred”Warning message:\n",
      "“glm.fit: fitted rates numerically 0 occurred”Warning message:\n",
      "“glm.fit: fitted rates numerically 0 occurred”Warning message:\n",
      "“glm.fit: fitted rates numerically 0 occurred”Warning message:\n",
      "“glm.fit: fitted rates numerically 0 occurred”Warning message:\n",
      "“glm.fit: fitted rates numerically 0 occurred”Warning message:\n",
      "“glm.fit: fitted rates numerically 0 occurred”Warning message:\n",
      "“glm.fit: fitted rates numerically 0 occurred”"
     ]
    },
    {
     "name": "stdout",
     "output_type": "stream",
     "text": [
      "."
     ]
    },
    {
     "name": "stderr",
     "output_type": "stream",
     "text": [
      "Warning message:\n",
      "“glm.fit: fitted rates numerically 0 occurred”Warning message:\n",
      "“glm.fit: fitted rates numerically 0 occurred”Warning message:\n",
      "“glm.fit: fitted rates numerically 0 occurred”Warning message:\n",
      "“glm.fit: fitted rates numerically 0 occurred”Warning message:\n",
      "“glm.fit: fitted rates numerically 0 occurred”Warning message:\n",
      "“glm.fit: fitted rates numerically 0 occurred”Warning message:\n",
      "“glm.fit: fitted rates numerically 0 occurred”Warning message:\n",
      "“glm.fit: fitted rates numerically 0 occurred”Warning message:\n",
      "“glm.fit: fitted rates numerically 0 occurred”Warning message:\n",
      "“glm.fit: fitted rates numerically 0 occurred”Warning message:\n",
      "“glm.fit: fitted rates numerically 0 occurred”Warning message:\n",
      "“glm.fit: fitted rates numerically 0 occurred”Warning message:\n",
      "“glm.fit: fitted rates numerically 0 occurred”Warning message:\n",
      "“glm.fit: fitted rates numerically 0 occurred”Warning message:\n",
      "“glm.fit: fitted rates numerically 0 occurred”Warning message:\n",
      "“glm.fit: fitted rates numerically 0 occurred”Warning message:\n",
      "“glm.fit: fitted rates numerically 0 occurred”Warning message:\n",
      "“glm.fit: fitted rates numerically 0 occurred”Warning message:\n",
      "“glm.fit: fitted rates numerically 0 occurred”"
     ]
    },
    {
     "name": "stdout",
     "output_type": "stream",
     "text": [
      "."
     ]
    },
    {
     "name": "stderr",
     "output_type": "stream",
     "text": [
      "Warning message:\n",
      "“glm.fit: fitted rates numerically 0 occurred”Warning message:\n",
      "“glm.fit: fitted rates numerically 0 occurred”"
     ]
    },
    {
     "name": "stdout",
     "output_type": "stream",
     "text": [
      "."
     ]
    },
    {
     "name": "stderr",
     "output_type": "stream",
     "text": [
      "Warning message:\n",
      "“glm.fit: fitted rates numerically 0 occurred”Warning message:\n",
      "“glm.fit: fitted rates numerically 0 occurred”Warning message:\n",
      "“glm.fit: fitted rates numerically 0 occurred”Warning message:\n",
      "“glm.fit: fitted rates numerically 0 occurred”Warning message:\n",
      "“glm.fit: fitted rates numerically 0 occurred”Warning message:\n",
      "“glm.fit: fitted rates numerically 0 occurred”Warning message:\n",
      "“glm.fit: fitted rates numerically 0 occurred”Warning message:\n",
      "“glm.fit: fitted rates numerically 0 occurred”Warning message:\n",
      "“glm.fit: fitted rates numerically 0 occurred”Warning message:\n",
      "“glm.fit: fitted rates numerically 0 occurred”"
     ]
    },
    {
     "name": "stdout",
     "output_type": "stream",
     "text": [
      "...."
     ]
    },
    {
     "name": "stderr",
     "output_type": "stream",
     "text": [
      "Warning message:\n",
      "“glm.fit: fitted rates numerically 0 occurred”Warning message:\n",
      "“glm.fit: fitted rates numerically 0 occurred”Warning message:\n",
      "“glm.fit: fitted rates numerically 0 occurred”Warning message:\n",
      "“glm.fit: fitted rates numerically 0 occurred”"
     ]
    },
    {
     "name": "stdout",
     "output_type": "stream",
     "text": [
      "."
     ]
    },
    {
     "name": "stderr",
     "output_type": "stream",
     "text": [
      "Warning message:\n",
      "“glm.fit: fitted rates numerically 0 occurred”Warning message:\n",
      "“glm.fit: fitted rates numerically 0 occurred”"
     ]
    },
    {
     "name": "stdout",
     "output_type": "stream",
     "text": [
      ".."
     ]
    },
    {
     "name": "stderr",
     "output_type": "stream",
     "text": [
      "Warning message:\n",
      "“glm.fit: fitted rates numerically 0 occurred”Warning message:\n",
      "“glm.fit: fitted rates numerically 0 occurred”Warning message:\n",
      "“glm.fit: fitted rates numerically 0 occurred”Warning message:\n",
      "“glm.fit: fitted rates numerically 0 occurred”Warning message:\n",
      "“glm.fit: fitted rates numerically 0 occurred”Warning message:\n",
      "“glm.fit: fitted rates numerically 0 occurred”Warning message:\n",
      "“glm.fit: fitted rates numerically 0 occurred”Warning message:\n",
      "“glm.fit: fitted rates numerically 0 occurred”Warning message:\n",
      "“glm.fit: fitted rates numerically 0 occurred”Warning message:\n",
      "“glm.fit: fitted rates numerically 0 occurred”"
     ]
    },
    {
     "name": "stdout",
     "output_type": "stream",
     "text": [
      "."
     ]
    },
    {
     "name": "stderr",
     "output_type": "stream",
     "text": [
      "Warning message:\n",
      "“glm.fit: fitted rates numerically 0 occurred”Warning message:\n",
      "“glm.fit: fitted rates numerically 0 occurred”Warning message:\n",
      "“glm.fit: fitted rates numerically 0 occurred”Warning message:\n",
      "“glm.fit: fitted rates numerically 0 occurred”"
     ]
    },
    {
     "name": "stdout",
     "output_type": "stream",
     "text": [
      "."
     ]
    },
    {
     "name": "stderr",
     "output_type": "stream",
     "text": [
      "Warning message:\n",
      "“glm.fit: fitted rates numerically 0 occurred”Warning message:\n",
      "“glm.fit: fitted rates numerically 0 occurred”Warning message:\n",
      "“glm.fit: fitted rates numerically 0 occurred”"
     ]
    },
    {
     "name": "stdout",
     "output_type": "stream",
     "text": [
      ".."
     ]
    },
    {
     "name": "stderr",
     "output_type": "stream",
     "text": [
      "Warning message:\n",
      "“glm.fit: fitted rates numerically 0 occurred”Warning message:\n",
      "“glm.fit: fitted rates numerically 0 occurred”"
     ]
    },
    {
     "name": "stdout",
     "output_type": "stream",
     "text": [
      "."
     ]
    },
    {
     "name": "stderr",
     "output_type": "stream",
     "text": [
      "Warning message:\n",
      "“glm.fit: fitted rates numerically 0 occurred”Warning message:\n",
      "“glm.fit: fitted rates numerically 0 occurred”Warning message:\n",
      "“glm.fit: fitted rates numerically 0 occurred”Warning message:\n",
      "“glm.fit: fitted rates numerically 0 occurred”Warning message:\n",
      "“glm.fit: fitted rates numerically 0 occurred”Warning message:\n",
      "“glm.fit: fitted rates numerically 0 occurred”Warning message:\n",
      "“glm.fit: fitted rates numerically 0 occurred”Warning message:\n",
      "“glm.fit: fitted rates numerically 0 occurred”Warning message:\n",
      "“glm.fit: fitted rates numerically 0 occurred”Warning message:\n",
      "“glm.fit: fitted rates numerically 0 occurred”Warning message:\n",
      "“glm.fit: fitted rates numerically 0 occurred”Warning message:\n",
      "“glm.fit: fitted rates numerically 0 occurred”Warning message:\n",
      "“glm.fit: fitted rates numerically 0 occurred”Warning message:\n",
      "“glm.fit: fitted rates numerically 0 occurred”Warning message:\n",
      "“glm.fit: fitted rates numerically 0 occurred”Warning message:\n",
      "“glm.fit: fitted rates numerically 0 occurred”Warning message:\n",
      "“glm.fit: fitted rates numerically 0 occurred”Warning message:\n",
      "“glm.fit: fitted rates numerically 0 occurred”Warning message:\n",
      "“glm.fit: fitted rates numerically 0 occurred”Warning message:\n",
      "“glm.fit: fitted rates numerically 0 occurred”Warning message:\n",
      "“glm.fit: fitted rates numerically 0 occurred”"
     ]
    },
    {
     "name": "stdout",
     "output_type": "stream",
     "text": [
      "."
     ]
    },
    {
     "name": "stderr",
     "output_type": "stream",
     "text": [
      "Warning message:\n",
      "“glm.fit: fitted rates numerically 0 occurred”"
     ]
    },
    {
     "name": "stdout",
     "output_type": "stream",
     "text": [
      ".."
     ]
    },
    {
     "name": "stderr",
     "output_type": "stream",
     "text": [
      "Warning message:\n",
      "“glm.fit: fitted rates numerically 0 occurred”Warning message:\n",
      "“glm.fit: fitted rates numerically 0 occurred”Warning message:\n",
      "“glm.fit: fitted rates numerically 0 occurred”Warning message:\n",
      "“glm.fit: fitted rates numerically 0 occurred”"
     ]
    },
    {
     "name": "stdout",
     "output_type": "stream",
     "text": [
      "."
     ]
    },
    {
     "name": "stderr",
     "output_type": "stream",
     "text": [
      "Warning message:\n",
      "“glm.fit: fitted rates numerically 0 occurred”Warning message:\n",
      "“glm.fit: fitted rates numerically 0 occurred”Warning message:\n",
      "“glm.fit: fitted rates numerically 0 occurred”Warning message:\n",
      "“glm.fit: fitted rates numerically 0 occurred”Warning message:\n",
      "“glm.fit: fitted rates numerically 0 occurred”Warning message:\n",
      "“glm.fit: fitted rates numerically 0 occurred”Warning message:\n",
      "“glm.fit: fitted rates numerically 0 occurred”Warning message:\n",
      "“glm.fit: fitted rates numerically 0 occurred”Warning message:\n",
      "“glm.fit: fitted rates numerically 0 occurred”Warning message:\n",
      "“glm.fit: fitted rates numerically 0 occurred”Warning message:\n",
      "“glm.fit: fitted rates numerically 0 occurred”Warning message:\n",
      "“glm.fit: fitted rates numerically 0 occurred”Warning message:\n",
      "“glm.fit: fitted rates numerically 0 occurred”"
     ]
    },
    {
     "name": "stdout",
     "output_type": "stream",
     "text": [
      "."
     ]
    },
    {
     "name": "stderr",
     "output_type": "stream",
     "text": [
      "Warning message:\n",
      "“glm.fit: fitted rates numerically 0 occurred”Warning message:\n",
      "“glm.fit: fitted rates numerically 0 occurred”"
     ]
    },
    {
     "name": "stdout",
     "output_type": "stream",
     "text": [
      "."
     ]
    },
    {
     "name": "stderr",
     "output_type": "stream",
     "text": [
      "Warning message:\n",
      "“glm.fit: fitted rates numerically 0 occurred”Warning message:\n",
      "“glm.fit: fitted rates numerically 0 occurred”Warning message:\n",
      "“glm.fit: fitted rates numerically 0 occurred”Warning message:\n",
      "“glm.fit: fitted rates numerically 0 occurred”Warning message:\n",
      "“glm.fit: fitted rates numerically 0 occurred”Warning message:\n",
      "“glm.fit: fitted rates numerically 0 occurred”Warning message:\n",
      "“glm.fit: fitted rates numerically 0 occurred”Warning message:\n",
      "“glm.fit: fitted rates numerically 0 occurred”Warning message:\n",
      "“glm.fit: fitted rates numerically 0 occurred”Warning message:\n",
      "“glm.fit: fitted rates numerically 0 occurred”Warning message:\n",
      "“glm.fit: fitted rates numerically 0 occurred”Warning message:\n",
      "“glm.fit: fitted rates numerically 0 occurred”Warning message:\n",
      "“glm.fit: fitted rates numerically 0 occurred”Warning message:\n",
      "“glm.fit: fitted rates numerically 0 occurred”Warning message:\n",
      "“glm.fit: fitted rates numerically 0 occurred”Warning message:\n",
      "“glm.fit: fitted rates numerically 0 occurred”"
     ]
    },
    {
     "name": "stdout",
     "output_type": "stream",
     "text": [
      "..."
     ]
    },
    {
     "name": "stderr",
     "output_type": "stream",
     "text": [
      "Warning message:\n",
      "“glm.fit: fitted rates numerically 0 occurred”Warning message:\n",
      "“glm.fit: fitted rates numerically 0 occurred”Warning message:\n",
      "“glm.fit: fitted rates numerically 0 occurred”"
     ]
    },
    {
     "name": "stdout",
     "output_type": "stream",
     "text": [
      ".."
     ]
    },
    {
     "name": "stderr",
     "output_type": "stream",
     "text": [
      "Warning message:\n",
      "“glm.fit: fitted rates numerically 0 occurred”Warning message:\n",
      "“glm.fit: fitted rates numerically 0 occurred”"
     ]
    },
    {
     "name": "stdout",
     "output_type": "stream",
     "text": [
      "..."
     ]
    },
    {
     "name": "stderr",
     "output_type": "stream",
     "text": [
      "Warning message:\n",
      "“glm.fit: fitted rates numerically 0 occurred”Warning message:\n",
      "“glm.fit: fitted rates numerically 0 occurred”Warning message:\n",
      "“glm.fit: fitted rates numerically 0 occurred”"
     ]
    },
    {
     "name": "stdout",
     "output_type": "stream",
     "text": [
      "."
     ]
    },
    {
     "name": "stderr",
     "output_type": "stream",
     "text": [
      "Warning message:\n",
      "“glm.fit: fitted rates numerically 0 occurred”"
     ]
    },
    {
     "name": "stdout",
     "output_type": "stream",
     "text": [
      "."
     ]
    },
    {
     "name": "stderr",
     "output_type": "stream",
     "text": [
      "Warning message:\n",
      "“glm.fit: fitted rates numerically 0 occurred”Warning message:\n",
      "“glm.fit: fitted rates numerically 0 occurred”Warning message:\n",
      "“glm.fit: fitted rates numerically 0 occurred”"
     ]
    },
    {
     "name": "stdout",
     "output_type": "stream",
     "text": [
      ".."
     ]
    },
    {
     "name": "stderr",
     "output_type": "stream",
     "text": [
      "Warning message:\n",
      "“glm.fit: fitted rates numerically 0 occurred”Warning message:\n",
      "“glm.fit: fitted rates numerically 0 occurred”Warning message:\n",
      "“glm.fit: fitted rates numerically 0 occurred”Warning message:\n",
      "“glm.fit: fitted rates numerically 0 occurred”Warning message:\n",
      "“glm.fit: fitted rates numerically 0 occurred”"
     ]
    },
    {
     "name": "stdout",
     "output_type": "stream",
     "text": [
      "."
     ]
    },
    {
     "name": "stderr",
     "output_type": "stream",
     "text": [
      "Warning message:\n",
      "“glm.fit: fitted rates numerically 0 occurred”Warning message:\n",
      "“glm.fit: fitted rates numerically 0 occurred”"
     ]
    },
    {
     "name": "stdout",
     "output_type": "stream",
     "text": [
      ".."
     ]
    },
    {
     "name": "stderr",
     "output_type": "stream",
     "text": [
      "Warning message:\n",
      "“glm.fit: fitted rates numerically 0 occurred”Warning message:\n",
      "“glm.fit: fitted rates numerically 0 occurred”Warning message:\n",
      "“glm.fit: fitted rates numerically 0 occurred”Warning message:\n",
      "“glm.fit: fitted rates numerically 0 occurred”Warning message:\n",
      "“glm.fit: fitted rates numerically 0 occurred”Warning message:\n",
      "“glm.fit: fitted rates numerically 0 occurred”Warning message:\n",
      "“glm.fit: fitted rates numerically 0 occurred”Warning message:\n",
      "“glm.fit: fitted rates numerically 0 occurred”Warning message:\n",
      "“glm.fit: fitted rates numerically 0 occurred”Warning message:\n",
      "“glm.fit: fitted rates numerically 0 occurred”Warning message:\n",
      "“glm.fit: fitted rates numerically 0 occurred”Warning message:\n",
      "“glm.fit: fitted rates numerically 0 occurred”Warning message:\n",
      "“glm.fit: fitted rates numerically 0 occurred”Warning message:\n",
      "“glm.fit: fitted rates numerically 0 occurred”"
     ]
    },
    {
     "name": "stdout",
     "output_type": "stream",
     "text": [
      "."
     ]
    },
    {
     "name": "stderr",
     "output_type": "stream",
     "text": [
      "Warning message:\n",
      "“glm.fit: fitted rates numerically 0 occurred”Warning message:\n",
      "“glm.fit: fitted rates numerically 0 occurred”Warning message:\n",
      "“glm.fit: fitted rates numerically 0 occurred”Warning message:\n",
      "“glm.fit: fitted rates numerically 0 occurred”Warning message:\n",
      "“glm.fit: fitted rates numerically 0 occurred”Warning message:\n",
      "“glm.fit: fitted rates numerically 0 occurred”Warning message:\n",
      "“glm.fit: fitted rates numerically 0 occurred”Warning message:\n",
      "“glm.fit: fitted rates numerically 0 occurred”Warning message:\n",
      "“glm.fit: fitted rates numerically 0 occurred”"
     ]
    },
    {
     "name": "stdout",
     "output_type": "stream",
     "text": [
      "."
     ]
    },
    {
     "name": "stderr",
     "output_type": "stream",
     "text": [
      "Warning message:\n",
      "“glm.fit: fitted rates numerically 0 occurred”Warning message:\n",
      "“glm.fit: fitted rates numerically 0 occurred”"
     ]
    },
    {
     "name": "stdout",
     "output_type": "stream",
     "text": [
      ".."
     ]
    },
    {
     "name": "stderr",
     "output_type": "stream",
     "text": [
      "Warning message:\n",
      "“glm.fit: fitted rates numerically 0 occurred”"
     ]
    },
    {
     "name": "stdout",
     "output_type": "stream",
     "text": [
      "."
     ]
    },
    {
     "name": "stderr",
     "output_type": "stream",
     "text": [
      "Warning message:\n",
      "“glm.fit: fitted rates numerically 0 occurred”Warning message:\n",
      "“glm.fit: fitted rates numerically 0 occurred”Warning message:\n",
      "“glm.fit: fitted rates numerically 0 occurred”Warning message:\n",
      "“glm.fit: fitted rates numerically 0 occurred”Warning message:\n",
      "“glm.fit: fitted rates numerically 0 occurred”Warning message:\n",
      "“glm.fit: fitted rates numerically 0 occurred”Warning message:\n",
      "“glm.fit: fitted rates numerically 0 occurred”Warning message:\n",
      "“glm.fit: fitted rates numerically 0 occurred”Warning message:\n",
      "“glm.fit: fitted rates numerically 0 occurred”Warning message:\n",
      "“glm.fit: fitted rates numerically 0 occurred”Warning message:\n",
      "“glm.fit: fitted rates numerically 0 occurred”Warning message:\n",
      "“glm.fit: fitted rates numerically 0 occurred”Warning message:\n",
      "“glm.fit: fitted rates numerically 0 occurred”Warning message:\n",
      "“glm.fit: fitted rates numerically 0 occurred”Warning message:\n",
      "“glm.fit: fitted rates numerically 0 occurred”Warning message:\n",
      "“glm.fit: fitted rates numerically 0 occurred”Warning message:\n",
      "“glm.fit: fitted rates numerically 0 occurred”"
     ]
    },
    {
     "name": "stdout",
     "output_type": "stream",
     "text": [
      "."
     ]
    },
    {
     "name": "stderr",
     "output_type": "stream",
     "text": [
      "Warning message:\n",
      "“glm.fit: fitted rates numerically 0 occurred”Warning message:\n",
      "“glm.fit: fitted rates numerically 0 occurred”Warning message:\n",
      "“glm.fit: fitted rates numerically 0 occurred”"
     ]
    },
    {
     "name": "stdout",
     "output_type": "stream",
     "text": [
      "."
     ]
    },
    {
     "name": "stderr",
     "output_type": "stream",
     "text": [
      "Warning message:\n",
      "“glm.fit: fitted rates numerically 0 occurred”Warning message:\n",
      "“glm.fit: fitted rates numerically 0 occurred”"
     ]
    },
    {
     "name": "stdout",
     "output_type": "stream",
     "text": [
      "."
     ]
    },
    {
     "name": "stderr",
     "output_type": "stream",
     "text": [
      "Warning message:\n",
      "“glm.fit: fitted rates numerically 0 occurred”Warning message:\n",
      "“glm.fit: fitted rates numerically 0 occurred”"
     ]
    },
    {
     "name": "stdout",
     "output_type": "stream",
     "text": [
      "."
     ]
    },
    {
     "name": "stderr",
     "output_type": "stream",
     "text": [
      "Warning message:\n",
      "“glm.fit: fitted rates numerically 0 occurred”Warning message:\n",
      "“glm.fit: fitted rates numerically 0 occurred”Warning message:\n",
      "“glm.fit: fitted rates numerically 0 occurred”Warning message:\n",
      "“glm.fit: fitted rates numerically 0 occurred”Warning message:\n",
      "“glm.fit: fitted rates numerically 0 occurred”Warning message:\n",
      "“glm.fit: fitted rates numerically 0 occurred”Warning message:\n",
      "“glm.fit: fitted rates numerically 0 occurred”Warning message:\n",
      "“glm.fit: fitted rates numerically 0 occurred”Warning message:\n",
      "“glm.fit: fitted rates numerically 0 occurred”Warning message:\n",
      "“glm.fit: fitted rates numerically 0 occurred”Warning message:\n",
      "“glm.fit: fitted rates numerically 0 occurred”Warning message:\n",
      "“glm.fit: fitted rates numerically 0 occurred”Warning message:\n",
      "“glm.fit: fitted rates numerically 0 occurred”Warning message:\n",
      "“glm.fit: fitted rates numerically 0 occurred”Warning message:\n",
      "“glm.fit: fitted rates numerically 0 occurred”Warning message:\n",
      "“glm.fit: fitted rates numerically 0 occurred”Warning message:\n",
      "“glm.fit: fitted rates numerically 0 occurred”Warning message:\n",
      "“glm.fit: fitted rates numerically 0 occurred”Warning message:\n",
      "“glm.fit: fitted rates numerically 0 occurred”Warning message:\n",
      "“glm.fit: fitted rates numerically 0 occurred”Warning message:\n",
      "“glm.fit: fitted rates numerically 0 occurred”Warning message:\n",
      "“glm.fit: fitted rates numerically 0 occurred”Warning message:\n",
      "“glm.fit: fitted rates numerically 0 occurred”"
     ]
    },
    {
     "name": "stdout",
     "output_type": "stream",
     "text": [
      "."
     ]
    },
    {
     "name": "stderr",
     "output_type": "stream",
     "text": [
      "Warning message:\n",
      "“glm.fit: fitted rates numerically 0 occurred”Warning message:\n",
      "“glm.fit: fitted rates numerically 0 occurred”Warning message:\n",
      "“glm.fit: fitted rates numerically 0 occurred”Warning message:\n",
      "“glm.fit: fitted rates numerically 0 occurred”"
     ]
    },
    {
     "name": "stdout",
     "output_type": "stream",
     "text": [
      "..."
     ]
    },
    {
     "name": "stderr",
     "output_type": "stream",
     "text": [
      "Warning message:\n",
      "“glm.fit: fitted rates numerically 0 occurred”Warning message:\n",
      "“glm.fit: fitted rates numerically 0 occurred”Warning message:\n",
      "“glm.fit: fitted rates numerically 0 occurred”Warning message:\n",
      "“glm.fit: fitted rates numerically 0 occurred”Warning message:\n",
      "“glm.fit: fitted rates numerically 0 occurred”Warning message:\n",
      "“glm.fit: fitted rates numerically 0 occurred”"
     ]
    },
    {
     "name": "stdout",
     "output_type": "stream",
     "text": [
      "."
     ]
    },
    {
     "name": "stderr",
     "output_type": "stream",
     "text": [
      "Warning message:\n",
      "“glm.fit: fitted rates numerically 0 occurred”Warning message:\n",
      "“glm.fit: fitted rates numerically 0 occurred”"
     ]
    },
    {
     "name": "stdout",
     "output_type": "stream",
     "text": [
      "."
     ]
    },
    {
     "name": "stderr",
     "output_type": "stream",
     "text": [
      "Warning message:\n",
      "“glm.fit: fitted rates numerically 0 occurred”Warning message:\n",
      "“glm.fit: fitted rates numerically 0 occurred”Warning message:\n",
      "“glm.fit: fitted rates numerically 0 occurred”Warning message:\n",
      "“glm.fit: fitted rates numerically 0 occurred”Warning message:\n",
      "“glm.fit: fitted rates numerically 0 occurred”Warning message:\n",
      "“glm.fit: fitted rates numerically 0 occurred”Warning message:\n",
      "“glm.fit: fitted rates numerically 0 occurred”Warning message:\n",
      "“glm.fit: fitted rates numerically 0 occurred”Warning message:\n",
      "“glm.fit: fitted rates numerically 0 occurred”Warning message:\n",
      "“glm.fit: fitted rates numerically 0 occurred”Warning message:\n",
      "“glm.fit: fitted rates numerically 0 occurred”Warning message:\n",
      "“glm.fit: fitted rates numerically 0 occurred”Warning message:\n",
      "“glm.fit: fitted rates numerically 0 occurred”"
     ]
    },
    {
     "name": "stdout",
     "output_type": "stream",
     "text": [
      "."
     ]
    },
    {
     "name": "stderr",
     "output_type": "stream",
     "text": [
      "Warning message:\n",
      "“glm.fit: fitted rates numerically 0 occurred”Warning message:\n",
      "“glm.fit: fitted rates numerically 0 occurred”Warning message:\n",
      "“glm.fit: fitted rates numerically 0 occurred”Warning message:\n",
      "“glm.fit: fitted rates numerically 0 occurred”Warning message:\n",
      "“glm.fit: fitted rates numerically 0 occurred”Warning message:\n",
      "“glm.fit: fitted rates numerically 0 occurred”Warning message:\n",
      "“glm.fit: fitted rates numerically 0 occurred”Warning message:\n",
      "“glm.fit: fitted rates numerically 0 occurred”Warning message:\n",
      "“glm.fit: fitted rates numerically 0 occurred”"
     ]
    },
    {
     "name": "stdout",
     "output_type": "stream",
     "text": [
      "."
     ]
    },
    {
     "name": "stderr",
     "output_type": "stream",
     "text": [
      "Warning message:\n",
      "“glm.fit: fitted rates numerically 0 occurred”Warning message:\n",
      "“glm.fit: fitted rates numerically 0 occurred”Warning message:\n",
      "“glm.fit: fitted rates numerically 0 occurred”Warning message:\n",
      "“glm.fit: fitted rates numerically 0 occurred”Warning message:\n",
      "“glm.fit: fitted rates numerically 0 occurred”Warning message:\n",
      "“glm.fit: fitted rates numerically 0 occurred”Warning message:\n",
      "“glm.fit: fitted rates numerically 0 occurred”Warning message:\n",
      "“glm.fit: fitted rates numerically 0 occurred”Warning message:\n",
      "“glm.fit: fitted rates numerically 0 occurred”Warning message:\n",
      "“glm.fit: fitted rates numerically 0 occurred”Warning message:\n",
      "“glm.fit: fitted rates numerically 0 occurred”Warning message:\n",
      "“glm.fit: fitted rates numerically 0 occurred”Warning message:\n",
      "“glm.fit: fitted rates numerically 0 occurred”Warning message:\n",
      "“glm.fit: fitted rates numerically 0 occurred”Warning message:\n",
      "“glm.fit: fitted rates numerically 0 occurred”"
     ]
    },
    {
     "name": "stdout",
     "output_type": "stream",
     "text": [
      "."
     ]
    },
    {
     "name": "stderr",
     "output_type": "stream",
     "text": [
      "Warning message:\n",
      "“glm.fit: fitted rates numerically 0 occurred”Warning message:\n",
      "“glm.fit: fitted rates numerically 0 occurred”"
     ]
    },
    {
     "name": "stdout",
     "output_type": "stream",
     "text": [
      "."
     ]
    },
    {
     "name": "stderr",
     "output_type": "stream",
     "text": [
      "Warning message:\n",
      "“glm.fit: fitted rates numerically 0 occurred”Warning message:\n",
      "“glm.fit: fitted rates numerically 0 occurred”"
     ]
    },
    {
     "name": "stdout",
     "output_type": "stream",
     "text": [
      "."
     ]
    },
    {
     "name": "stderr",
     "output_type": "stream",
     "text": [
      "Warning message:\n",
      "“glm.fit: fitted rates numerically 0 occurred”Warning message:\n",
      "“glm.fit: fitted rates numerically 0 occurred”Warning message:\n",
      "“glm.fit: fitted rates numerically 0 occurred”Warning message:\n",
      "“glm.fit: fitted rates numerically 0 occurred”Warning message:\n",
      "“glm.fit: fitted rates numerically 0 occurred”Warning message:\n",
      "“glm.fit: fitted rates numerically 0 occurred”"
     ]
    },
    {
     "name": "stdout",
     "output_type": "stream",
     "text": [
      "."
     ]
    },
    {
     "name": "stderr",
     "output_type": "stream",
     "text": [
      "Warning message:\n",
      "“glm.fit: fitted rates numerically 0 occurred”Warning message:\n",
      "“glm.fit: fitted rates numerically 0 occurred”Warning message:\n",
      "“glm.fit: fitted rates numerically 0 occurred”Warning message:\n",
      "“glm.fit: fitted rates numerically 0 occurred”Warning message:\n",
      "“glm.fit: fitted rates numerically 0 occurred”Warning message:\n",
      "“glm.fit: fitted rates numerically 0 occurred”"
     ]
    },
    {
     "name": "stdout",
     "output_type": "stream",
     "text": [
      "."
     ]
    },
    {
     "name": "stderr",
     "output_type": "stream",
     "text": [
      "Warning message:\n",
      "“glm.fit: fitted rates numerically 0 occurred”Warning message:\n",
      "“glm.fit: fitted rates numerically 0 occurred”"
     ]
    },
    {
     "name": "stdout",
     "output_type": "stream",
     "text": [
      "."
     ]
    },
    {
     "name": "stderr",
     "output_type": "stream",
     "text": [
      "Warning message:\n",
      "“glm.fit: fitted rates numerically 0 occurred”Warning message:\n",
      "“glm.fit: fitted rates numerically 0 occurred”Warning message:\n",
      "“glm.fit: fitted rates numerically 0 occurred”Warning message:\n",
      "“glm.fit: fitted rates numerically 0 occurred”Warning message:\n",
      "“glm.fit: fitted rates numerically 0 occurred”Warning message:\n",
      "“glm.fit: fitted rates numerically 0 occurred”Warning message:\n",
      "“glm.fit: fitted rates numerically 0 occurred”Warning message:\n",
      "“glm.fit: fitted rates numerically 0 occurred”Warning message:\n",
      "“glm.fit: fitted rates numerically 0 occurred”Warning message:\n",
      "“glm.fit: fitted rates numerically 0 occurred”Warning message:\n",
      "“glm.fit: fitted rates numerically 0 occurred”Warning message:\n",
      "“glm.fit: fitted rates numerically 0 occurred”Warning message:\n",
      "“glm.fit: fitted rates numerically 0 occurred”Warning message:\n",
      "“glm.fit: fitted rates numerically 0 occurred”Warning message:\n",
      "“glm.fit: fitted rates numerically 0 occurred”Warning message:\n",
      "“glm.fit: fitted rates numerically 0 occurred”Warning message:\n",
      "“glm.fit: fitted rates numerically 0 occurred”"
     ]
    },
    {
     "name": "stdout",
     "output_type": "stream",
     "text": [
      ".."
     ]
    },
    {
     "name": "stderr",
     "output_type": "stream",
     "text": [
      "Warning message:\n",
      "“glm.fit: fitted rates numerically 0 occurred”Warning message:\n",
      "“glm.fit: fitted rates numerically 0 occurred”"
     ]
    },
    {
     "name": "stdout",
     "output_type": "stream",
     "text": [
      "."
     ]
    },
    {
     "name": "stderr",
     "output_type": "stream",
     "text": [
      "Warning message:\n",
      "“glm.fit: fitted rates numerically 0 occurred”Warning message:\n",
      "“glm.fit: fitted rates numerically 0 occurred”Warning message:\n",
      "“glm.fit: fitted rates numerically 0 occurred”Warning message:\n",
      "“glm.fit: fitted rates numerically 0 occurred”Warning message:\n",
      "“glm.fit: fitted rates numerically 0 occurred”"
     ]
    },
    {
     "name": "stdout",
     "output_type": "stream",
     "text": [
      "."
     ]
    },
    {
     "name": "stderr",
     "output_type": "stream",
     "text": [
      "Warning message:\n",
      "“glm.fit: fitted rates numerically 0 occurred”Warning message:\n",
      "“glm.fit: fitted rates numerically 0 occurred”Warning message:\n",
      "“glm.fit: fitted rates numerically 0 occurred”"
     ]
    },
    {
     "name": "stdout",
     "output_type": "stream",
     "text": [
      "."
     ]
    },
    {
     "name": "stderr",
     "output_type": "stream",
     "text": [
      "Warning message:\n",
      "“glm.fit: fitted rates numerically 0 occurred”Warning message:\n",
      "“glm.fit: fitted rates numerically 0 occurred”Warning message:\n",
      "“glm.fit: fitted rates numerically 0 occurred”"
     ]
    },
    {
     "name": "stdout",
     "output_type": "stream",
     "text": [
      ".."
     ]
    },
    {
     "name": "stderr",
     "output_type": "stream",
     "text": [
      "Warning message:\n",
      "“glm.fit: fitted rates numerically 0 occurred”Warning message:\n",
      "“glm.fit: fitted rates numerically 0 occurred”Warning message:\n",
      "“glm.fit: fitted rates numerically 0 occurred”Warning message:\n",
      "“glm.fit: fitted rates numerically 0 occurred”Warning message:\n",
      "“glm.fit: fitted rates numerically 0 occurred”Warning message:\n",
      "“glm.fit: fitted rates numerically 0 occurred”Warning message:\n",
      "“glm.fit: fitted rates numerically 0 occurred”Warning message:\n",
      "“glm.fit: fitted rates numerically 0 occurred”Warning message:\n",
      "“glm.fit: fitted rates numerically 0 occurred”Warning message:\n",
      "“glm.fit: fitted rates numerically 0 occurred”"
     ]
    },
    {
     "name": "stdout",
     "output_type": "stream",
     "text": [
      "."
     ]
    },
    {
     "name": "stderr",
     "output_type": "stream",
     "text": [
      "Warning message:\n",
      "“glm.fit: fitted rates numerically 0 occurred”Warning message:\n",
      "“glm.fit: fitted rates numerically 0 occurred”Warning message:\n",
      "“glm.fit: fitted rates numerically 0 occurred”Warning message:\n",
      "“glm.fit: fitted rates numerically 0 occurred”Warning message:\n",
      "“glm.fit: fitted rates numerically 0 occurred”Warning message:\n",
      "“glm.fit: fitted rates numerically 0 occurred”Warning message:\n",
      "“glm.fit: fitted rates numerically 0 occurred”Warning message:\n",
      "“glm.fit: fitted rates numerically 0 occurred”Warning message:\n",
      "“glm.fit: fitted rates numerically 0 occurred”Warning message:\n",
      "“glm.fit: fitted rates numerically 0 occurred”"
     ]
    },
    {
     "name": "stdout",
     "output_type": "stream",
     "text": [
      "."
     ]
    },
    {
     "name": "stderr",
     "output_type": "stream",
     "text": [
      "Warning message:\n",
      "“glm.fit: fitted rates numerically 0 occurred”Warning message:\n",
      "“glm.fit: fitted rates numerically 0 occurred”"
     ]
    },
    {
     "name": "stdout",
     "output_type": "stream",
     "text": [
      ".."
     ]
    },
    {
     "name": "stderr",
     "output_type": "stream",
     "text": [
      "Warning message:\n",
      "“glm.fit: fitted rates numerically 0 occurred”Warning message:\n",
      "“glm.fit: fitted rates numerically 0 occurred”Warning message:\n",
      "“glm.fit: fitted rates numerically 0 occurred”Warning message:\n",
      "“glm.fit: fitted rates numerically 0 occurred”"
     ]
    },
    {
     "name": "stdout",
     "output_type": "stream",
     "text": [
      "."
     ]
    },
    {
     "name": "stderr",
     "output_type": "stream",
     "text": [
      "Warning message:\n",
      "“glm.fit: fitted rates numerically 0 occurred”Warning message:\n",
      "“glm.fit: fitted rates numerically 0 occurred”Warning message:\n",
      "“glm.fit: fitted rates numerically 0 occurred”Warning message:\n",
      "“glm.fit: fitted rates numerically 0 occurred”"
     ]
    },
    {
     "name": "stdout",
     "output_type": "stream",
     "text": [
      "."
     ]
    },
    {
     "name": "stderr",
     "output_type": "stream",
     "text": [
      "Warning message:\n",
      "“glm.fit: fitted rates numerically 0 occurred”Warning message:\n",
      "“glm.fit: fitted rates numerically 0 occurred”Warning message:\n",
      "“glm.fit: fitted rates numerically 0 occurred”Warning message:\n",
      "“glm.fit: fitted rates numerically 0 occurred”Warning message:\n",
      "“glm.fit: fitted rates numerically 0 occurred”Warning message:\n",
      "“glm.fit: fitted rates numerically 0 occurred”Warning message:\n",
      "“glm.fit: fitted rates numerically 0 occurred”Warning message:\n",
      "“glm.fit: fitted rates numerically 0 occurred”Warning message:\n",
      "“glm.fit: fitted rates numerically 0 occurred”"
     ]
    },
    {
     "name": "stdout",
     "output_type": "stream",
     "text": [
      "."
     ]
    },
    {
     "name": "stderr",
     "output_type": "stream",
     "text": [
      "Warning message:\n",
      "“glm.fit: fitted rates numerically 0 occurred”Warning message:\n",
      "“glm.fit: fitted rates numerically 0 occurred”Warning message:\n",
      "“glm.fit: fitted rates numerically 0 occurred”Warning message:\n",
      "“glm.fit: fitted rates numerically 0 occurred”Warning message:\n",
      "“glm.fit: fitted rates numerically 0 occurred”Warning message:\n",
      "“glm.fit: fitted rates numerically 0 occurred”Warning message:\n",
      "“glm.fit: fitted rates numerically 0 occurred”Warning message:\n",
      "“glm.fit: fitted rates numerically 0 occurred”Warning message:\n",
      "“glm.fit: fitted rates numerically 0 occurred”Warning message:\n",
      "“glm.fit: fitted rates numerically 0 occurred”Warning message:\n",
      "“glm.fit: fitted rates numerically 0 occurred”Warning message:\n",
      "“glm.fit: fitted rates numerically 0 occurred”"
     ]
    },
    {
     "name": "stdout",
     "output_type": "stream",
     "text": [
      "."
     ]
    },
    {
     "name": "stderr",
     "output_type": "stream",
     "text": [
      "Warning message:\n",
      "“glm.fit: fitted rates numerically 0 occurred”Warning message:\n",
      "“glm.fit: fitted rates numerically 0 occurred”Warning message:\n",
      "“glm.fit: fitted rates numerically 0 occurred”Warning message:\n",
      "“glm.fit: fitted rates numerically 0 occurred”Warning message:\n",
      "“glm.fit: fitted rates numerically 0 occurred”Warning message:\n",
      "“glm.fit: fitted rates numerically 0 occurred”Warning message:\n",
      "“glm.fit: fitted rates numerically 0 occurred”"
     ]
    },
    {
     "name": "stdout",
     "output_type": "stream",
     "text": [
      "..."
     ]
    },
    {
     "name": "stderr",
     "output_type": "stream",
     "text": [
      "Warning message:\n",
      "“glm.fit: fitted rates numerically 0 occurred”Warning message:\n",
      "“glm.fit: fitted rates numerically 0 occurred”Warning message:\n",
      "“glm.fit: fitted rates numerically 0 occurred”Warning message:\n",
      "“glm.fit: fitted rates numerically 0 occurred”Warning message:\n",
      "“glm.fit: fitted rates numerically 0 occurred”Warning message:\n",
      "“glm.fit: fitted rates numerically 0 occurred”Warning message:\n",
      "“glm.fit: fitted rates numerically 0 occurred”Warning message:\n",
      "“glm.fit: fitted rates numerically 0 occurred”"
     ]
    },
    {
     "name": "stdout",
     "output_type": "stream",
     "text": [
      "."
     ]
    },
    {
     "name": "stderr",
     "output_type": "stream",
     "text": [
      "Warning message:\n",
      "“glm.fit: fitted rates numerically 0 occurred”Warning message:\n",
      "“glm.fit: fitted rates numerically 0 occurred”"
     ]
    },
    {
     "name": "stdout",
     "output_type": "stream",
     "text": [
      ".."
     ]
    },
    {
     "name": "stderr",
     "output_type": "stream",
     "text": [
      "Warning message:\n",
      "“glm.fit: fitted rates numerically 0 occurred”"
     ]
    },
    {
     "name": "stdout",
     "output_type": "stream",
     "text": [
      "."
     ]
    },
    {
     "name": "stderr",
     "output_type": "stream",
     "text": [
      "Warning message:\n",
      "“glm.fit: fitted rates numerically 0 occurred”Warning message:\n",
      "“glm.fit: fitted rates numerically 0 occurred”Warning message:\n",
      "“glm.fit: fitted rates numerically 0 occurred”Warning message:\n",
      "“glm.fit: fitted rates numerically 0 occurred”Warning message:\n",
      "“glm.fit: fitted rates numerically 0 occurred”Warning message:\n",
      "“glm.fit: fitted rates numerically 0 occurred”"
     ]
    },
    {
     "name": "stdout",
     "output_type": "stream",
     "text": [
      "."
     ]
    },
    {
     "name": "stderr",
     "output_type": "stream",
     "text": [
      "Warning message:\n",
      "“glm.fit: fitted rates numerically 0 occurred”Warning message:\n",
      "“glm.fit: fitted rates numerically 0 occurred”Warning message:\n",
      "“glm.fit: fitted rates numerically 0 occurred”"
     ]
    },
    {
     "name": "stdout",
     "output_type": "stream",
     "text": [
      "."
     ]
    },
    {
     "name": "stderr",
     "output_type": "stream",
     "text": [
      "Warning message:\n",
      "“glm.fit: fitted rates numerically 0 occurred”Warning message:\n",
      "“glm.fit: fitted rates numerically 0 occurred”"
     ]
    },
    {
     "name": "stdout",
     "output_type": "stream",
     "text": [
      "."
     ]
    },
    {
     "name": "stderr",
     "output_type": "stream",
     "text": [
      "Warning message:\n",
      "“glm.fit: fitted rates numerically 0 occurred”Warning message:\n",
      "“glm.fit: fitted rates numerically 0 occurred”Warning message:\n",
      "“glm.fit: fitted rates numerically 0 occurred”Warning message:\n",
      "“glm.fit: fitted rates numerically 0 occurred”Warning message:\n",
      "“glm.fit: fitted rates numerically 0 occurred”Warning message:\n",
      "“glm.fit: fitted rates numerically 0 occurred”Warning message:\n",
      "“glm.fit: fitted rates numerically 0 occurred”"
     ]
    },
    {
     "name": "stdout",
     "output_type": "stream",
     "text": [
      ".."
     ]
    },
    {
     "name": "stderr",
     "output_type": "stream",
     "text": [
      "Warning message:\n",
      "“glm.fit: fitted rates numerically 0 occurred”Warning message:\n",
      "“glm.fit: fitted rates numerically 0 occurred”Warning message:\n",
      "“glm.fit: fitted rates numerically 0 occurred”Warning message:\n",
      "“glm.fit: fitted rates numerically 0 occurred”Warning message:\n",
      "“glm.fit: fitted rates numerically 0 occurred”"
     ]
    },
    {
     "name": "stdout",
     "output_type": "stream",
     "text": [
      "."
     ]
    },
    {
     "name": "stderr",
     "output_type": "stream",
     "text": [
      "Warning message:\n",
      "“glm.fit: fitted rates numerically 0 occurred”"
     ]
    },
    {
     "name": "stdout",
     "output_type": "stream",
     "text": [
      "."
     ]
    },
    {
     "name": "stderr",
     "output_type": "stream",
     "text": [
      "Warning message:\n",
      "“glm.fit: fitted rates numerically 0 occurred”Warning message:\n",
      "“glm.fit: fitted rates numerically 0 occurred”Warning message:\n",
      "“glm.fit: fitted rates numerically 0 occurred”"
     ]
    },
    {
     "name": "stdout",
     "output_type": "stream",
     "text": [
      "."
     ]
    },
    {
     "name": "stderr",
     "output_type": "stream",
     "text": [
      "Warning message:\n",
      "“glm.fit: fitted rates numerically 0 occurred”Warning message:\n",
      "“glm.fit: fitted rates numerically 0 occurred”Warning message:\n",
      "“glm.fit: fitted rates numerically 0 occurred”Warning message:\n",
      "“glm.fit: fitted rates numerically 0 occurred”Warning message:\n",
      "“glm.fit: fitted rates numerically 0 occurred”Warning message:\n",
      "“glm.fit: fitted rates numerically 0 occurred”Warning message:\n",
      "“glm.fit: fitted rates numerically 0 occurred”Warning message:\n",
      "“glm.fit: fitted rates numerically 0 occurred”Warning message:\n",
      "“glm.fit: fitted rates numerically 0 occurred”Warning message:\n",
      "“glm.fit: fitted rates numerically 0 occurred”Warning message:\n",
      "“glm.fit: fitted rates numerically 0 occurred”Warning message:\n",
      "“glm.fit: fitted rates numerically 0 occurred”Warning message:\n",
      "“glm.fit: fitted rates numerically 0 occurred”"
     ]
    },
    {
     "name": "stdout",
     "output_type": "stream",
     "text": [
      "."
     ]
    },
    {
     "name": "stderr",
     "output_type": "stream",
     "text": [
      "Warning message:\n",
      "“glm.fit: fitted rates numerically 0 occurred”Warning message:\n",
      "“glm.fit: fitted rates numerically 0 occurred”Warning message:\n",
      "“glm.fit: fitted rates numerically 0 occurred”Warning message:\n",
      "“glm.fit: fitted rates numerically 0 occurred”Warning message:\n",
      "“glm.fit: fitted rates numerically 0 occurred”"
     ]
    },
    {
     "name": "stdout",
     "output_type": "stream",
     "text": [
      "."
     ]
    },
    {
     "name": "stderr",
     "output_type": "stream",
     "text": [
      "Warning message:\n",
      "“glm.fit: fitted rates numerically 0 occurred”Warning message:\n",
      "“glm.fit: fitted rates numerically 0 occurred”Warning message:\n",
      "“glm.fit: fitted rates numerically 0 occurred”Warning message:\n",
      "“glm.fit: fitted rates numerically 0 occurred”Warning message:\n",
      "“glm.fit: fitted rates numerically 0 occurred”Warning message:\n",
      "“glm.fit: fitted rates numerically 0 occurred”Warning message:\n",
      "“glm.fit: fitted rates numerically 0 occurred”Warning message:\n",
      "“glm.fit: fitted rates numerically 0 occurred”Warning message:\n",
      "“glm.fit: fitted rates numerically 0 occurred”"
     ]
    },
    {
     "name": "stdout",
     "output_type": "stream",
     "text": [
      "."
     ]
    },
    {
     "name": "stderr",
     "output_type": "stream",
     "text": [
      "Warning message:\n",
      "“glm.fit: fitted rates numerically 0 occurred”Warning message:\n",
      "“glm.fit: fitted rates numerically 0 occurred”Warning message:\n",
      "“glm.fit: fitted rates numerically 0 occurred”Warning message:\n",
      "“glm.fit: fitted rates numerically 0 occurred”Warning message:\n",
      "“glm.fit: fitted rates numerically 0 occurred”Warning message:\n",
      "“glm.fit: fitted rates numerically 0 occurred”"
     ]
    },
    {
     "name": "stdout",
     "output_type": "stream",
     "text": [
      "."
     ]
    },
    {
     "name": "stderr",
     "output_type": "stream",
     "text": [
      "Warning message:\n",
      "“glm.fit: fitted rates numerically 0 occurred”Warning message:\n",
      "“glm.fit: fitted rates numerically 0 occurred”Warning message:\n",
      "“glm.fit: fitted rates numerically 0 occurred”Warning message:\n",
      "“glm.fit: fitted rates numerically 0 occurred”Warning message:\n",
      "“glm.fit: fitted rates numerically 0 occurred”Warning message:\n",
      "“glm.fit: fitted rates numerically 0 occurred”"
     ]
    },
    {
     "name": "stdout",
     "output_type": "stream",
     "text": [
      ".."
     ]
    },
    {
     "name": "stderr",
     "output_type": "stream",
     "text": [
      "Warning message:\n",
      "“glm.fit: fitted rates numerically 0 occurred”Warning message:\n",
      "“glm.fit: fitted rates numerically 0 occurred”Warning message:\n",
      "“glm.fit: fitted rates numerically 0 occurred”"
     ]
    },
    {
     "name": "stdout",
     "output_type": "stream",
     "text": [
      "."
     ]
    },
    {
     "name": "stderr",
     "output_type": "stream",
     "text": [
      "Warning message:\n",
      "“glm.fit: fitted rates numerically 0 occurred”Warning message:\n",
      "“glm.fit: fitted rates numerically 0 occurred”Warning message:\n",
      "“glm.fit: fitted rates numerically 0 occurred”Warning message:\n",
      "“glm.fit: fitted rates numerically 0 occurred”"
     ]
    },
    {
     "name": "stdout",
     "output_type": "stream",
     "text": [
      "."
     ]
    },
    {
     "name": "stderr",
     "output_type": "stream",
     "text": [
      "Warning message:\n",
      "“glm.fit: fitted rates numerically 0 occurred”Warning message:\n",
      "“glm.fit: fitted rates numerically 0 occurred”Warning message:\n",
      "“glm.fit: fitted rates numerically 0 occurred”Warning message:\n",
      "“glm.fit: fitted rates numerically 0 occurred”Warning message:\n",
      "“glm.fit: fitted rates numerically 0 occurred”Warning message:\n",
      "“glm.fit: fitted rates numerically 0 occurred”"
     ]
    },
    {
     "name": "stdout",
     "output_type": "stream",
     "text": [
      "...."
     ]
    },
    {
     "name": "stderr",
     "output_type": "stream",
     "text": [
      "Warning message:\n",
      "“glm.fit: fitted rates numerically 0 occurred”"
     ]
    },
    {
     "name": "stdout",
     "output_type": "stream",
     "text": [
      "."
     ]
    },
    {
     "name": "stderr",
     "output_type": "stream",
     "text": [
      "Warning message:\n",
      "“glm.fit: fitted rates numerically 0 occurred”Warning message:\n",
      "“glm.fit: fitted rates numerically 0 occurred”"
     ]
    },
    {
     "name": "stdout",
     "output_type": "stream",
     "text": [
      "."
     ]
    },
    {
     "name": "stderr",
     "output_type": "stream",
     "text": [
      "Warning message:\n",
      "“glm.fit: fitted rates numerically 0 occurred”Warning message:\n",
      "“glm.fit: fitted rates numerically 0 occurred”"
     ]
    },
    {
     "name": "stdout",
     "output_type": "stream",
     "text": [
      "."
     ]
    },
    {
     "name": "stderr",
     "output_type": "stream",
     "text": [
      "Warning message:\n",
      "“glm.fit: fitted rates numerically 0 occurred”Warning message:\n",
      "“glm.fit: fitted rates numerically 0 occurred”Warning message:\n",
      "“glm.fit: fitted rates numerically 0 occurred”Warning message:\n",
      "“glm.fit: fitted rates numerically 0 occurred”Warning message:\n",
      "“glm.fit: fitted rates numerically 0 occurred”"
     ]
    },
    {
     "name": "stdout",
     "output_type": "stream",
     "text": [
      "."
     ]
    },
    {
     "name": "stderr",
     "output_type": "stream",
     "text": [
      "Warning message:\n",
      "“glm.fit: fitted rates numerically 0 occurred”Warning message:\n",
      "“glm.fit: fitted rates numerically 0 occurred”"
     ]
    },
    {
     "name": "stdout",
     "output_type": "stream",
     "text": [
      "."
     ]
    },
    {
     "name": "stderr",
     "output_type": "stream",
     "text": [
      "Warning message:\n",
      "“glm.fit: fitted rates numerically 0 occurred”Warning message:\n",
      "“glm.fit: fitted rates numerically 0 occurred”Warning message:\n",
      "“glm.fit: fitted rates numerically 0 occurred”Warning message:\n",
      "“glm.fit: fitted rates numerically 0 occurred”Warning message:\n",
      "“glm.fit: fitted rates numerically 0 occurred”Warning message:\n",
      "“glm.fit: fitted rates numerically 0 occurred”Warning message:\n",
      "“glm.fit: fitted rates numerically 0 occurred”Warning message:\n",
      "“glm.fit: fitted rates numerically 0 occurred”"
     ]
    },
    {
     "name": "stdout",
     "output_type": "stream",
     "text": [
      ".."
     ]
    },
    {
     "name": "stderr",
     "output_type": "stream",
     "text": [
      "Warning message:\n",
      "“glm.fit: fitted rates numerically 0 occurred”"
     ]
    },
    {
     "name": "stdout",
     "output_type": "stream",
     "text": [
      "."
     ]
    },
    {
     "name": "stderr",
     "output_type": "stream",
     "text": [
      "Warning message:\n",
      "“glm.fit: fitted rates numerically 0 occurred”Warning message:\n",
      "“glm.fit: fitted rates numerically 0 occurred”Warning message:\n",
      "“glm.fit: fitted rates numerically 0 occurred”Warning message:\n",
      "“glm.fit: fitted rates numerically 0 occurred”"
     ]
    },
    {
     "name": "stdout",
     "output_type": "stream",
     "text": [
      "."
     ]
    },
    {
     "name": "stderr",
     "output_type": "stream",
     "text": [
      "Warning message:\n",
      "“glm.fit: fitted rates numerically 0 occurred”Warning message:\n",
      "“glm.fit: fitted rates numerically 0 occurred”Warning message:\n",
      "“glm.fit: fitted rates numerically 0 occurred”Warning message:\n",
      "“glm.fit: fitted rates numerically 0 occurred”Warning message:\n",
      "“glm.fit: fitted rates numerically 0 occurred”Warning message:\n",
      "“glm.fit: fitted rates numerically 0 occurred”Warning message:\n",
      "“glm.fit: fitted rates numerically 0 occurred”Warning message:\n",
      "“glm.fit: fitted rates numerically 0 occurred”Warning message:\n",
      "“glm.fit: fitted rates numerically 0 occurred”Warning message:\n",
      "“glm.fit: fitted rates numerically 0 occurred”Warning message:\n",
      "“glm.fit: fitted rates numerically 0 occurred”"
     ]
    },
    {
     "name": "stdout",
     "output_type": "stream",
     "text": [
      "."
     ]
    },
    {
     "name": "stderr",
     "output_type": "stream",
     "text": [
      "Warning message:\n",
      "“glm.fit: fitted rates numerically 0 occurred”Warning message:\n",
      "“glm.fit: fitted rates numerically 0 occurred”Warning message:\n",
      "“glm.fit: fitted rates numerically 0 occurred”"
     ]
    },
    {
     "name": "stdout",
     "output_type": "stream",
     "text": [
      "."
     ]
    },
    {
     "name": "stderr",
     "output_type": "stream",
     "text": [
      "Warning message:\n",
      "“glm.fit: fitted rates numerically 0 occurred”Warning message:\n",
      "“glm.fit: fitted rates numerically 0 occurred”Warning message:\n",
      "“glm.fit: fitted rates numerically 0 occurred”Warning message:\n",
      "“glm.fit: fitted rates numerically 0 occurred”Warning message:\n",
      "“glm.fit: fitted rates numerically 0 occurred”Warning message:\n",
      "“glm.fit: fitted rates numerically 0 occurred”Warning message:\n",
      "“glm.fit: fitted rates numerically 0 occurred”Warning message:\n",
      "“glm.fit: fitted rates numerically 0 occurred”Warning message:\n",
      "“glm.fit: fitted rates numerically 0 occurred”Warning message:\n",
      "“glm.fit: fitted rates numerically 0 occurred”Warning message:\n",
      "“glm.fit: fitted rates numerically 0 occurred”"
     ]
    },
    {
     "name": "stdout",
     "output_type": "stream",
     "text": [
      ".."
     ]
    },
    {
     "name": "stderr",
     "output_type": "stream",
     "text": [
      "Warning message:\n",
      "“glm.fit: fitted rates numerically 0 occurred”Warning message:\n",
      "“glm.fit: fitted rates numerically 0 occurred”Warning message:\n",
      "“glm.fit: fitted rates numerically 0 occurred”Warning message:\n",
      "“glm.fit: fitted rates numerically 0 occurred”Warning message:\n",
      "“glm.fit: fitted rates numerically 0 occurred”Warning message:\n",
      "“glm.fit: fitted rates numerically 0 occurred”Warning message:\n",
      "“glm.fit: fitted rates numerically 0 occurred”Warning message:\n",
      "“glm.fit: fitted rates numerically 0 occurred”Warning message:\n",
      "“glm.fit: fitted rates numerically 0 occurred”"
     ]
    },
    {
     "name": "stdout",
     "output_type": "stream",
     "text": [
      "..."
     ]
    },
    {
     "name": "stderr",
     "output_type": "stream",
     "text": [
      "Warning message:\n",
      "“glm.fit: fitted rates numerically 0 occurred”Warning message:\n",
      "“glm.fit: fitted rates numerically 0 occurred”Warning message:\n",
      "“glm.fit: fitted rates numerically 0 occurred”Warning message:\n",
      "“glm.fit: fitted rates numerically 0 occurred”Warning message:\n",
      "“glm.fit: fitted rates numerically 0 occurred”Warning message:\n",
      "“glm.fit: fitted rates numerically 0 occurred”Warning message:\n",
      "“glm.fit: fitted rates numerically 0 occurred”Warning message:\n",
      "“glm.fit: fitted rates numerically 0 occurred”Warning message:\n",
      "“glm.fit: fitted rates numerically 0 occurred”Warning message:\n",
      "“glm.fit: fitted rates numerically 0 occurred”Warning message:\n",
      "“glm.fit: fitted rates numerically 0 occurred”Warning message:\n",
      "“glm.fit: fitted rates numerically 0 occurred”"
     ]
    },
    {
     "name": "stdout",
     "output_type": "stream",
     "text": [
      ".."
     ]
    },
    {
     "name": "stderr",
     "output_type": "stream",
     "text": [
      "Warning message:\n",
      "“glm.fit: fitted rates numerically 0 occurred”Warning message:\n",
      "“glm.fit: fitted rates numerically 0 occurred”"
     ]
    },
    {
     "name": "stdout",
     "output_type": "stream",
     "text": [
      ".."
     ]
    },
    {
     "name": "stderr",
     "output_type": "stream",
     "text": [
      "Warning message:\n",
      "“glm.fit: fitted rates numerically 0 occurred”Warning message:\n",
      "“glm.fit: fitted rates numerically 0 occurred”"
     ]
    },
    {
     "name": "stdout",
     "output_type": "stream",
     "text": [
      ".."
     ]
    },
    {
     "name": "stderr",
     "output_type": "stream",
     "text": [
      "Warning message:\n",
      "“glm.fit: fitted rates numerically 0 occurred”Warning message:\n",
      "“glm.fit: fitted rates numerically 0 occurred”Warning message:\n",
      "“glm.fit: fitted rates numerically 0 occurred”Warning message:\n",
      "“glm.fit: fitted rates numerically 0 occurred”Warning message:\n",
      "“glm.fit: fitted rates numerically 0 occurred”Warning message:\n",
      "“glm.fit: fitted rates numerically 0 occurred”Warning message:\n",
      "“glm.fit: fitted rates numerically 0 occurred”Warning message:\n",
      "“glm.fit: fitted rates numerically 0 occurred”Warning message:\n",
      "“glm.fit: fitted rates numerically 0 occurred”Warning message:\n",
      "“glm.fit: fitted rates numerically 0 occurred”Warning message:\n",
      "“glm.fit: fitted rates numerically 0 occurred”Warning message:\n",
      "“glm.fit: fitted rates numerically 0 occurred”"
     ]
    },
    {
     "name": "stdout",
     "output_type": "stream",
     "text": [
      "."
     ]
    },
    {
     "name": "stderr",
     "output_type": "stream",
     "text": [
      "Warning message:\n",
      "“glm.fit: fitted rates numerically 0 occurred”Warning message:\n",
      "“glm.fit: fitted rates numerically 0 occurred”Warning message:\n",
      "“glm.fit: fitted rates numerically 0 occurred”Warning message:\n",
      "“glm.fit: fitted rates numerically 0 occurred”Warning message:\n",
      "“glm.fit: fitted rates numerically 0 occurred”Warning message:\n",
      "“glm.fit: fitted rates numerically 0 occurred”Warning message:\n",
      "“glm.fit: fitted rates numerically 0 occurred”Warning message:\n",
      "“glm.fit: fitted rates numerically 0 occurred”Warning message:\n",
      "“glm.fit: fitted rates numerically 0 occurred”Warning message:\n",
      "“glm.fit: fitted rates numerically 0 occurred”Warning message:\n",
      "“glm.fit: fitted rates numerically 0 occurred”Warning message:\n",
      "“glm.fit: fitted rates numerically 0 occurred”"
     ]
    },
    {
     "name": "stdout",
     "output_type": "stream",
     "text": [
      ".."
     ]
    },
    {
     "name": "stderr",
     "output_type": "stream",
     "text": [
      "Warning message:\n",
      "“glm.fit: fitted rates numerically 0 occurred”Warning message:\n",
      "“glm.fit: fitted rates numerically 0 occurred”Warning message:\n",
      "“glm.fit: fitted rates numerically 0 occurred”Warning message:\n",
      "“glm.fit: fitted rates numerically 0 occurred”Warning message:\n",
      "“glm.fit: fitted rates numerically 0 occurred”"
     ]
    },
    {
     "name": "stdout",
     "output_type": "stream",
     "text": [
      ".."
     ]
    },
    {
     "name": "stderr",
     "output_type": "stream",
     "text": [
      "Warning message:\n",
      "“glm.fit: fitted rates numerically 0 occurred”Warning message:\n",
      "“glm.fit: fitted rates numerically 0 occurred”Warning message:\n",
      "“glm.fit: fitted rates numerically 0 occurred”Warning message:\n",
      "“glm.fit: fitted rates numerically 0 occurred”Warning message:\n",
      "“glm.fit: fitted rates numerically 0 occurred”Warning message:\n",
      "“glm.fit: fitted rates numerically 0 occurred”Warning message:\n",
      "“glm.fit: fitted rates numerically 0 occurred”Warning message:\n",
      "“glm.fit: fitted rates numerically 0 occurred”"
     ]
    },
    {
     "name": "stdout",
     "output_type": "stream",
     "text": [
      "."
     ]
    },
    {
     "name": "stderr",
     "output_type": "stream",
     "text": [
      "Warning message:\n",
      "“glm.fit: fitted rates numerically 0 occurred”Warning message:\n",
      "“glm.fit: fitted rates numerically 0 occurred”Warning message:\n",
      "“glm.fit: fitted rates numerically 0 occurred”"
     ]
    },
    {
     "name": "stdout",
     "output_type": "stream",
     "text": [
      "..."
     ]
    },
    {
     "name": "stderr",
     "output_type": "stream",
     "text": [
      "Warning message:\n",
      "“glm.fit: fitted rates numerically 0 occurred”"
     ]
    },
    {
     "name": "stdout",
     "output_type": "stream",
     "text": [
      "."
     ]
    },
    {
     "name": "stderr",
     "output_type": "stream",
     "text": [
      "Warning message:\n",
      "“glm.fit: fitted rates numerically 0 occurred”Warning message:\n",
      "“glm.fit: fitted rates numerically 0 occurred”Warning message:\n",
      "“glm.fit: fitted rates numerically 0 occurred”"
     ]
    },
    {
     "name": "stdout",
     "output_type": "stream",
     "text": [
      "."
     ]
    },
    {
     "name": "stderr",
     "output_type": "stream",
     "text": [
      "Warning message:\n",
      "“glm.fit: fitted rates numerically 0 occurred”Warning message:\n",
      "“glm.fit: fitted rates numerically 0 occurred”Warning message:\n",
      "“glm.fit: fitted rates numerically 0 occurred”Warning message:\n",
      "“glm.fit: fitted rates numerically 0 occurred”Warning message:\n",
      "“glm.fit: fitted rates numerically 0 occurred”Warning message:\n",
      "“glm.fit: fitted rates numerically 0 occurred”"
     ]
    },
    {
     "name": "stdout",
     "output_type": "stream",
     "text": [
      "."
     ]
    },
    {
     "name": "stderr",
     "output_type": "stream",
     "text": [
      "Warning message:\n",
      "“glm.fit: fitted rates numerically 0 occurred”Warning message:\n",
      "“glm.fit: fitted rates numerically 0 occurred”Warning message:\n",
      "“glm.fit: fitted rates numerically 0 occurred”Warning message:\n",
      "“glm.fit: fitted rates numerically 0 occurred”"
     ]
    },
    {
     "name": "stdout",
     "output_type": "stream",
     "text": [
      "."
     ]
    },
    {
     "name": "stderr",
     "output_type": "stream",
     "text": [
      "Warning message:\n",
      "“glm.fit: fitted rates numerically 0 occurred”Warning message:\n",
      "“glm.fit: fitted rates numerically 0 occurred”Warning message:\n",
      "“glm.fit: fitted rates numerically 0 occurred”Warning message:\n",
      "“glm.fit: fitted rates numerically 0 occurred”Warning message:\n",
      "“glm.fit: fitted rates numerically 0 occurred”Warning message:\n",
      "“glm.fit: fitted rates numerically 0 occurred”Warning message:\n",
      "“glm.fit: fitted rates numerically 0 occurred”Warning message:\n",
      "“glm.fit: fitted rates numerically 0 occurred”Warning message:\n",
      "“glm.fit: fitted rates numerically 0 occurred”"
     ]
    },
    {
     "name": "stdout",
     "output_type": "stream",
     "text": [
      ".."
     ]
    },
    {
     "name": "stderr",
     "output_type": "stream",
     "text": [
      "Warning message:\n",
      "“glm.fit: fitted rates numerically 0 occurred”"
     ]
    },
    {
     "name": "stdout",
     "output_type": "stream",
     "text": [
      ".."
     ]
    },
    {
     "name": "stderr",
     "output_type": "stream",
     "text": [
      "Warning message:\n",
      "“glm.fit: fitted rates numerically 0 occurred”Warning message:\n",
      "“glm.fit: fitted rates numerically 0 occurred”Warning message:\n",
      "“glm.fit: fitted rates numerically 0 occurred”Warning message:\n",
      "“glm.fit: fitted rates numerically 0 occurred”Warning message:\n",
      "“glm.fit: fitted rates numerically 0 occurred”Warning message:\n",
      "“glm.fit: fitted rates numerically 0 occurred”Warning message:\n",
      "“glm.fit: fitted rates numerically 0 occurred”Warning message:\n",
      "“glm.fit: fitted rates numerically 0 occurred”Warning message:\n",
      "“glm.fit: fitted rates numerically 0 occurred”Warning message:\n",
      "“glm.fit: fitted rates numerically 0 occurred”Warning message:\n",
      "“glm.fit: fitted rates numerically 0 occurred”Warning message:\n",
      "“glm.fit: fitted rates numerically 0 occurred”Warning message:\n",
      "“glm.fit: fitted rates numerically 0 occurred”"
     ]
    },
    {
     "name": "stdout",
     "output_type": "stream",
     "text": [
      "...."
     ]
    },
    {
     "name": "stderr",
     "output_type": "stream",
     "text": [
      "Warning message:\n",
      "“glm.fit: fitted rates numerically 0 occurred”Warning message:\n",
      "“glm.fit: fitted rates numerically 0 occurred”Warning message:\n",
      "“glm.fit: fitted rates numerically 0 occurred”Warning message:\n",
      "“glm.fit: fitted rates numerically 0 occurred”Warning message:\n",
      "“glm.fit: fitted rates numerically 0 occurred”Warning message:\n",
      "“glm.fit: fitted rates numerically 0 occurred”Warning message:\n",
      "“glm.fit: fitted rates numerically 0 occurred”Warning message:\n",
      "“glm.fit: fitted rates numerically 0 occurred”Warning message:\n",
      "“glm.fit: fitted rates numerically 0 occurred”"
     ]
    },
    {
     "name": "stdout",
     "output_type": "stream",
     "text": [
      ".."
     ]
    },
    {
     "name": "stderr",
     "output_type": "stream",
     "text": [
      "Warning message:\n",
      "“glm.fit: fitted rates numerically 0 occurred”Warning message:\n",
      "“glm.fit: fitted rates numerically 0 occurred”Warning message:\n",
      "“glm.fit: fitted rates numerically 0 occurred”Warning message:\n",
      "“glm.fit: fitted rates numerically 0 occurred”Warning message:\n",
      "“glm.fit: fitted rates numerically 0 occurred”Warning message:\n",
      "“glm.fit: fitted rates numerically 0 occurred”Warning message:\n",
      "“glm.fit: fitted rates numerically 0 occurred”Warning message:\n",
      "“glm.fit: fitted rates numerically 0 occurred”Warning message:\n",
      "“glm.fit: fitted rates numerically 0 occurred”Warning message:\n",
      "“glm.fit: fitted rates numerically 0 occurred”Warning message:\n",
      "“glm.fit: fitted rates numerically 0 occurred”Warning message:\n",
      "“glm.fit: fitted rates numerically 0 occurred”"
     ]
    },
    {
     "name": "stdout",
     "output_type": "stream",
     "text": [
      "..."
     ]
    },
    {
     "name": "stderr",
     "output_type": "stream",
     "text": [
      "Warning message:\n",
      "“glm.fit: fitted rates numerically 0 occurred”Warning message:\n",
      "“glm.fit: fitted rates numerically 0 occurred”Warning message:\n",
      "“glm.fit: fitted rates numerically 0 occurred”Warning message:\n",
      "“glm.fit: fitted rates numerically 0 occurred”Warning message:\n",
      "“glm.fit: fitted rates numerically 0 occurred”Warning message:\n",
      "“glm.fit: fitted rates numerically 0 occurred”"
     ]
    },
    {
     "name": "stdout",
     "output_type": "stream",
     "text": [
      "."
     ]
    },
    {
     "name": "stderr",
     "output_type": "stream",
     "text": [
      "Warning message:\n",
      "“glm.fit: fitted rates numerically 0 occurred”Warning message:\n",
      "“glm.fit: fitted rates numerically 0 occurred”Warning message:\n",
      "“glm.fit: fitted rates numerically 0 occurred”Warning message:\n",
      "“glm.fit: fitted rates numerically 0 occurred”Warning message:\n",
      "“glm.fit: fitted rates numerically 0 occurred”Warning message:\n",
      "“glm.fit: fitted rates numerically 0 occurred”"
     ]
    },
    {
     "name": "stdout",
     "output_type": "stream",
     "text": [
      ".."
     ]
    },
    {
     "name": "stderr",
     "output_type": "stream",
     "text": [
      "Warning message:\n",
      "“glm.fit: fitted rates numerically 0 occurred”Warning message:\n",
      "“glm.fit: fitted rates numerically 0 occurred”Warning message:\n",
      "“glm.fit: fitted rates numerically 0 occurred”Warning message:\n",
      "“glm.fit: fitted rates numerically 0 occurred”Warning message:\n",
      "“glm.fit: fitted rates numerically 0 occurred”Warning message:\n",
      "“glm.fit: fitted rates numerically 0 occurred”Warning message:\n",
      "“glm.fit: fitted rates numerically 0 occurred”Warning message:\n",
      "“glm.fit: fitted rates numerically 0 occurred”Warning message:\n",
      "“glm.fit: fitted rates numerically 0 occurred”Warning message:\n",
      "“glm.fit: fitted rates numerically 0 occurred”Warning message:\n",
      "“glm.fit: fitted rates numerically 0 occurred”Warning message:\n",
      "“glm.fit: fitted rates numerically 0 occurred”Warning message:\n",
      "“glm.fit: fitted rates numerically 0 occurred”Warning message:\n",
      "“glm.fit: fitted rates numerically 0 occurred”"
     ]
    },
    {
     "name": "stdout",
     "output_type": "stream",
     "text": [
      "."
     ]
    },
    {
     "name": "stderr",
     "output_type": "stream",
     "text": [
      "Warning message:\n",
      "“glm.fit: fitted rates numerically 0 occurred”Warning message:\n",
      "“glm.fit: fitted rates numerically 0 occurred”"
     ]
    },
    {
     "name": "stdout",
     "output_type": "stream",
     "text": [
      "..."
     ]
    },
    {
     "name": "stderr",
     "output_type": "stream",
     "text": [
      "Warning message:\n",
      "“glm.fit: fitted rates numerically 0 occurred”Warning message:\n",
      "“glm.fit: fitted rates numerically 0 occurred”"
     ]
    },
    {
     "name": "stdout",
     "output_type": "stream",
     "text": [
      "."
     ]
    },
    {
     "name": "stderr",
     "output_type": "stream",
     "text": [
      "Warning message:\n",
      "“glm.fit: fitted rates numerically 0 occurred”Warning message:\n",
      "“glm.fit: fitted rates numerically 0 occurred”"
     ]
    },
    {
     "name": "stdout",
     "output_type": "stream",
     "text": [
      "."
     ]
    },
    {
     "name": "stderr",
     "output_type": "stream",
     "text": [
      "Warning message:\n",
      "“glm.fit: fitted rates numerically 0 occurred”Warning message:\n",
      "“glm.fit: fitted rates numerically 0 occurred”"
     ]
    },
    {
     "name": "stdout",
     "output_type": "stream",
     "text": [
      "."
     ]
    },
    {
     "name": "stderr",
     "output_type": "stream",
     "text": [
      "Warning message:\n",
      "“glm.fit: fitted rates numerically 0 occurred”Warning message:\n",
      "“glm.fit: fitted rates numerically 0 occurred”Warning message:\n",
      "“glm.fit: fitted rates numerically 0 occurred”Warning message:\n",
      "“glm.fit: fitted rates numerically 0 occurred”Warning message:\n",
      "“glm.fit: fitted rates numerically 0 occurred”Warning message:\n",
      "“glm.fit: fitted rates numerically 0 occurred”Warning message:\n",
      "“glm.fit: fitted rates numerically 0 occurred”Warning message:\n",
      "“glm.fit: fitted rates numerically 0 occurred”Warning message:\n",
      "“glm.fit: fitted rates numerically 0 occurred”Warning message:\n",
      "“glm.fit: fitted rates numerically 0 occurred”Warning message:\n",
      "“glm.fit: fitted rates numerically 0 occurred”Warning message:\n",
      "“glm.fit: fitted rates numerically 0 occurred”Warning message:\n",
      "“glm.fit: fitted rates numerically 0 occurred”Warning message:\n",
      "“glm.fit: fitted rates numerically 0 occurred”Warning message:\n",
      "“glm.fit: fitted rates numerically 0 occurred”"
     ]
    },
    {
     "name": "stdout",
     "output_type": "stream",
     "text": [
      "..."
     ]
    },
    {
     "name": "stderr",
     "output_type": "stream",
     "text": [
      "Warning message:\n",
      "“glm.fit: fitted rates numerically 0 occurred”"
     ]
    },
    {
     "name": "stdout",
     "output_type": "stream",
     "text": [
      "."
     ]
    },
    {
     "name": "stderr",
     "output_type": "stream",
     "text": [
      "Warning message:\n",
      "“glm.fit: fitted rates numerically 0 occurred”"
     ]
    },
    {
     "name": "stdout",
     "output_type": "stream",
     "text": [
      "."
     ]
    },
    {
     "name": "stderr",
     "output_type": "stream",
     "text": [
      "Warning message:\n",
      "“glm.fit: fitted rates numerically 0 occurred”Warning message:\n",
      "“glm.fit: fitted rates numerically 0 occurred”Warning message:\n",
      "“glm.fit: fitted rates numerically 0 occurred”Warning message:\n",
      "“glm.fit: fitted rates numerically 0 occurred”Warning message:\n",
      "“glm.fit: fitted rates numerically 0 occurred”"
     ]
    },
    {
     "name": "stdout",
     "output_type": "stream",
     "text": [
      "."
     ]
    },
    {
     "name": "stderr",
     "output_type": "stream",
     "text": [
      "Warning message:\n",
      "“glm.fit: fitted rates numerically 0 occurred”Warning message:\n",
      "“glm.fit: fitted rates numerically 0 occurred”Warning message:\n",
      "“glm.fit: fitted rates numerically 0 occurred”Warning message:\n",
      "“glm.fit: fitted rates numerically 0 occurred”Warning message:\n",
      "“glm.fit: fitted rates numerically 0 occurred”Warning message:\n",
      "“glm.fit: fitted rates numerically 0 occurred”"
     ]
    },
    {
     "name": "stdout",
     "output_type": "stream",
     "text": [
      "."
     ]
    },
    {
     "name": "stderr",
     "output_type": "stream",
     "text": [
      "Warning message:\n",
      "“glm.fit: fitted rates numerically 0 occurred”Warning message:\n",
      "“glm.fit: fitted rates numerically 0 occurred”Warning message:\n",
      "“glm.fit: fitted rates numerically 0 occurred”Warning message:\n",
      "“glm.fit: fitted rates numerically 0 occurred”Warning message:\n",
      "“glm.fit: fitted rates numerically 0 occurred”Warning message:\n",
      "“glm.fit: fitted rates numerically 0 occurred”Warning message:\n",
      "“glm.fit: fitted rates numerically 0 occurred”Warning message:\n",
      "“glm.fit: fitted rates numerically 0 occurred”Warning message:\n",
      "“glm.fit: fitted rates numerically 0 occurred”Warning message:\n",
      "“glm.fit: fitted rates numerically 0 occurred”"
     ]
    },
    {
     "name": "stdout",
     "output_type": "stream",
     "text": [
      "."
     ]
    },
    {
     "name": "stderr",
     "output_type": "stream",
     "text": [
      "Warning message:\n",
      "“glm.fit: fitted rates numerically 0 occurred”Warning message:\n",
      "“glm.fit: fitted rates numerically 0 occurred”Warning message:\n",
      "“glm.fit: fitted rates numerically 0 occurred”Warning message:\n",
      "“glm.fit: fitted rates numerically 0 occurred”"
     ]
    },
    {
     "name": "stdout",
     "output_type": "stream",
     "text": [
      "."
     ]
    },
    {
     "name": "stderr",
     "output_type": "stream",
     "text": [
      "Warning message:\n",
      "“glm.fit: fitted rates numerically 0 occurred”Warning message:\n",
      "“glm.fit: fitted rates numerically 0 occurred”Warning message:\n",
      "“glm.fit: fitted rates numerically 0 occurred”Warning message:\n",
      "“glm.fit: fitted rates numerically 0 occurred”Warning message:\n",
      "“glm.fit: fitted rates numerically 0 occurred”"
     ]
    },
    {
     "name": "stdout",
     "output_type": "stream",
     "text": [
      "...."
     ]
    },
    {
     "name": "stderr",
     "output_type": "stream",
     "text": [
      "Warning message:\n",
      "“glm.fit: fitted rates numerically 0 occurred”Warning message:\n",
      "“glm.fit: fitted rates numerically 0 occurred”"
     ]
    },
    {
     "name": "stdout",
     "output_type": "stream",
     "text": [
      "...."
     ]
    },
    {
     "name": "stderr",
     "output_type": "stream",
     "text": [
      "Warning message:\n",
      "“glm.fit: fitted rates numerically 0 occurred”Warning message:\n",
      "“glm.fit: fitted rates numerically 0 occurred”Warning message:\n",
      "“glm.fit: fitted rates numerically 0 occurred”"
     ]
    },
    {
     "name": "stdout",
     "output_type": "stream",
     "text": [
      "."
     ]
    },
    {
     "name": "stderr",
     "output_type": "stream",
     "text": [
      "Warning message:\n",
      "“glm.fit: fitted rates numerically 0 occurred”Warning message:\n",
      "“glm.fit: fitted rates numerically 0 occurred”"
     ]
    },
    {
     "name": "stdout",
     "output_type": "stream",
     "text": [
      "."
     ]
    },
    {
     "name": "stderr",
     "output_type": "stream",
     "text": [
      "Warning message:\n",
      "“glm.fit: fitted rates numerically 0 occurred”Warning message:\n",
      "“glm.fit: fitted rates numerically 0 occurred”"
     ]
    },
    {
     "name": "stdout",
     "output_type": "stream",
     "text": [
      "."
     ]
    },
    {
     "name": "stderr",
     "output_type": "stream",
     "text": [
      "Warning message:\n",
      "“glm.fit: fitted rates numerically 0 occurred”"
     ]
    },
    {
     "name": "stdout",
     "output_type": "stream",
     "text": [
      "."
     ]
    },
    {
     "name": "stderr",
     "output_type": "stream",
     "text": [
      "Warning message:\n",
      "“glm.fit: fitted rates numerically 0 occurred”Warning message:\n",
      "“glm.fit: fitted rates numerically 0 occurred”"
     ]
    },
    {
     "name": "stdout",
     "output_type": "stream",
     "text": [
      "."
     ]
    },
    {
     "name": "stderr",
     "output_type": "stream",
     "text": [
      "Warning message:\n",
      "“glm.fit: fitted rates numerically 0 occurred”Warning message:\n",
      "“glm.fit: fitted rates numerically 0 occurred”"
     ]
    },
    {
     "name": "stdout",
     "output_type": "stream",
     "text": [
      "."
     ]
    },
    {
     "name": "stderr",
     "output_type": "stream",
     "text": [
      "Warning message:\n",
      "“glm.fit: fitted rates numerically 0 occurred”Warning message:\n",
      "“glm.fit: fitted rates numerically 0 occurred”Warning message:\n",
      "“glm.fit: fitted rates numerically 0 occurred”Warning message:\n",
      "“glm.fit: fitted rates numerically 0 occurred”Warning message:\n",
      "“glm.fit: fitted rates numerically 0 occurred”Warning message:\n",
      "“glm.fit: fitted rates numerically 0 occurred”Warning message:\n",
      "“glm.fit: fitted rates numerically 0 occurred”Warning message:\n",
      "“glm.fit: fitted rates numerically 0 occurred”Warning message:\n",
      "“glm.fit: fitted rates numerically 0 occurred”Warning message:\n",
      "“glm.fit: fitted rates numerically 0 occurred”Warning message:\n",
      "“glm.fit: fitted rates numerically 0 occurred”Warning message:\n",
      "“glm.fit: fitted rates numerically 0 occurred”Warning message:\n",
      "“glm.fit: fitted rates numerically 0 occurred”Warning message:\n",
      "“glm.fit: fitted rates numerically 0 occurred”Warning message:\n",
      "“glm.fit: fitted rates numerically 0 occurred”Warning message:\n",
      "“glm.fit: fitted rates numerically 0 occurred”Warning message:\n",
      "“glm.fit: fitted rates numerically 0 occurred”Warning message:\n",
      "“glm.fit: fitted rates numerically 0 occurred”Warning message:\n",
      "“glm.fit: fitted rates numerically 0 occurred”Warning message:\n",
      "“glm.fit: fitted rates numerically 0 occurred”Warning message:\n",
      "“glm.fit: fitted rates numerically 0 occurred”Warning message:\n",
      "“glm.fit: fitted rates numerically 0 occurred”Warning message:\n",
      "“glm.fit: fitted rates numerically 0 occurred”"
     ]
    },
    {
     "name": "stdout",
     "output_type": "stream",
     "text": [
      "."
     ]
    },
    {
     "name": "stderr",
     "output_type": "stream",
     "text": [
      "Warning message:\n",
      "“glm.fit: fitted rates numerically 0 occurred”Warning message:\n",
      "“glm.fit: fitted rates numerically 0 occurred”"
     ]
    },
    {
     "name": "stdout",
     "output_type": "stream",
     "text": [
      ".."
     ]
    },
    {
     "name": "stderr",
     "output_type": "stream",
     "text": [
      "Warning message:\n",
      "“glm.fit: fitted rates numerically 0 occurred”Warning message:\n",
      "“glm.fit: fitted rates numerically 0 occurred”"
     ]
    },
    {
     "name": "stdout",
     "output_type": "stream",
     "text": [
      "."
     ]
    },
    {
     "name": "stderr",
     "output_type": "stream",
     "text": [
      "Warning message:\n",
      "“glm.fit: fitted rates numerically 0 occurred”Warning message:\n",
      "“glm.fit: fitted rates numerically 0 occurred”Warning message:\n",
      "“glm.fit: fitted rates numerically 0 occurred”Warning message:\n",
      "“glm.fit: fitted rates numerically 0 occurred”Warning message:\n",
      "“glm.fit: fitted rates numerically 0 occurred”"
     ]
    },
    {
     "name": "stdout",
     "output_type": "stream",
     "text": [
      "."
     ]
    },
    {
     "name": "stderr",
     "output_type": "stream",
     "text": [
      "Warning message:\n",
      "“glm.fit: fitted rates numerically 0 occurred”Warning message:\n",
      "“glm.fit: fitted rates numerically 0 occurred”"
     ]
    },
    {
     "name": "stdout",
     "output_type": "stream",
     "text": [
      "."
     ]
    },
    {
     "name": "stderr",
     "output_type": "stream",
     "text": [
      "Warning message:\n",
      "“glm.fit: fitted rates numerically 0 occurred”Warning message:\n",
      "“glm.fit: fitted rates numerically 0 occurred”Warning message:\n",
      "“glm.fit: fitted rates numerically 0 occurred”Warning message:\n",
      "“glm.fit: fitted rates numerically 0 occurred”Warning message:\n",
      "“glm.fit: fitted rates numerically 0 occurred”Warning message:\n",
      "“glm.fit: fitted rates numerically 0 occurred”Warning message:\n",
      "“glm.fit: fitted rates numerically 0 occurred”Warning message:\n",
      "“glm.fit: fitted rates numerically 0 occurred”Warning message:\n",
      "“glm.fit: fitted rates numerically 0 occurred”"
     ]
    },
    {
     "name": "stdout",
     "output_type": "stream",
     "text": [
      ".."
     ]
    },
    {
     "name": "stderr",
     "output_type": "stream",
     "text": [
      "Warning message:\n",
      "“glm.fit: fitted rates numerically 0 occurred”Warning message:\n",
      "“glm.fit: fitted rates numerically 0 occurred”Warning message:\n",
      "“glm.fit: fitted rates numerically 0 occurred”Warning message:\n",
      "“glm.fit: fitted rates numerically 0 occurred”Warning message:\n",
      "“glm.fit: fitted rates numerically 0 occurred”Warning message:\n",
      "“glm.fit: fitted rates numerically 0 occurred”Warning message:\n",
      "“glm.fit: fitted rates numerically 0 occurred”Warning message:\n",
      "“glm.fit: fitted rates numerically 0 occurred”Warning message:\n",
      "“glm.fit: fitted rates numerically 0 occurred”Warning message:\n",
      "“glm.fit: fitted rates numerically 0 occurred”Warning message:\n",
      "“glm.fit: fitted rates numerically 0 occurred”Warning message:\n",
      "“glm.fit: fitted rates numerically 0 occurred”Warning message:\n",
      "“glm.fit: fitted rates numerically 0 occurred”Warning message:\n",
      "“glm.fit: fitted rates numerically 0 occurred”Warning message:\n",
      "“glm.fit: fitted rates numerically 0 occurred”Warning message:\n",
      "“glm.fit: fitted rates numerically 0 occurred”Warning message:\n",
      "“glm.fit: fitted rates numerically 0 occurred”Warning message:\n",
      "“glm.fit: fitted rates numerically 0 occurred”Warning message:\n",
      "“glm.fit: fitted rates numerically 0 occurred”Warning message:\n",
      "“glm.fit: fitted rates numerically 0 occurred”"
     ]
    },
    {
     "name": "stdout",
     "output_type": "stream",
     "text": [
      "."
     ]
    },
    {
     "name": "stderr",
     "output_type": "stream",
     "text": [
      "Warning message:\n",
      "“glm.fit: fitted rates numerically 0 occurred”"
     ]
    },
    {
     "name": "stdout",
     "output_type": "stream",
     "text": [
      "..."
     ]
    },
    {
     "name": "stderr",
     "output_type": "stream",
     "text": [
      "Warning message:\n",
      "“glm.fit: fitted rates numerically 0 occurred”Warning message:\n",
      "“glm.fit: fitted rates numerically 0 occurred”Warning message:\n",
      "“glm.fit: fitted rates numerically 0 occurred”Warning message:\n",
      "“glm.fit: fitted rates numerically 0 occurred”Warning message:\n",
      "“glm.fit: fitted rates numerically 0 occurred”Warning message:\n",
      "“glm.fit: fitted rates numerically 0 occurred”Warning message:\n",
      "“glm.fit: fitted rates numerically 0 occurred”Warning message:\n",
      "“glm.fit: fitted rates numerically 0 occurred”Warning message:\n",
      "“glm.fit: fitted rates numerically 0 occurred”Warning message:\n",
      "“glm.fit: fitted rates numerically 0 occurred”Warning message:\n",
      "“glm.fit: fitted rates numerically 0 occurred”Warning message:\n",
      "“glm.fit: fitted rates numerically 0 occurred”Warning message:\n",
      "“glm.fit: fitted rates numerically 0 occurred”Warning message:\n",
      "“glm.fit: fitted rates numerically 0 occurred”Warning message:\n",
      "“glm.fit: fitted rates numerically 0 occurred”Warning message:\n",
      "“glm.fit: fitted rates numerically 0 occurred”Warning message:\n",
      "“glm.fit: fitted rates numerically 0 occurred”Warning message:\n",
      "“glm.fit: fitted rates numerically 0 occurred”Warning message:\n",
      "“glm.fit: fitted rates numerically 0 occurred”Warning message:\n",
      "“glm.fit: fitted rates numerically 0 occurred”Warning message:\n",
      "“glm.fit: fitted rates numerically 0 occurred”Warning message:\n",
      "“glm.fit: fitted rates numerically 0 occurred”Warning message:\n",
      "“glm.fit: fitted rates numerically 0 occurred”Warning message:\n",
      "“glm.fit: fitted rates numerically 0 occurred”Warning message:\n",
      "“glm.fit: fitted rates numerically 0 occurred”Warning message:\n",
      "“glm.fit: fitted rates numerically 0 occurred”Warning message:\n",
      "“glm.fit: fitted rates numerically 0 occurred”Warning message:\n",
      "“glm.fit: fitted rates numerically 0 occurred”Warning message:\n",
      "“glm.fit: fitted rates numerically 0 occurred”Warning message:\n",
      "“glm.fit: fitted rates numerically 0 occurred”Warning message:\n",
      "“glm.fit: fitted rates numerically 0 occurred”Warning message:\n",
      "“glm.fit: fitted rates numerically 0 occurred”Warning message:\n",
      "“glm.fit: fitted rates numerically 0 occurred”Warning message:\n",
      "“glm.fit: fitted rates numerically 0 occurred”Warning message:\n",
      "“glm.fit: fitted rates numerically 0 occurred”Warning message:\n",
      "“glm.fit: fitted rates numerically 0 occurred”Warning message:\n",
      "“glm.fit: fitted rates numerically 0 occurred”"
     ]
    },
    {
     "name": "stdout",
     "output_type": "stream",
     "text": [
      "."
     ]
    },
    {
     "name": "stderr",
     "output_type": "stream",
     "text": [
      "Warning message:\n",
      "“glm.fit: fitted rates numerically 0 occurred”Warning message:\n",
      "“glm.fit: fitted rates numerically 0 occurred”Warning message:\n",
      "“glm.fit: fitted rates numerically 0 occurred”Warning message:\n",
      "“glm.fit: fitted rates numerically 0 occurred”Warning message:\n",
      "“glm.fit: fitted rates numerically 0 occurred”Warning message:\n",
      "“glm.fit: fitted rates numerically 0 occurred”Warning message:\n",
      "“glm.fit: fitted rates numerically 0 occurred”"
     ]
    },
    {
     "name": "stdout",
     "output_type": "stream",
     "text": [
      "."
     ]
    },
    {
     "name": "stderr",
     "output_type": "stream",
     "text": [
      "Warning message:\n",
      "“glm.fit: fitted rates numerically 0 occurred”Warning message:\n",
      "“glm.fit: fitted rates numerically 0 occurred”Warning message:\n",
      "“glm.fit: fitted rates numerically 0 occurred”Warning message:\n",
      "“glm.fit: fitted rates numerically 0 occurred”Warning message:\n",
      "“glm.fit: fitted rates numerically 0 occurred”Warning message:\n",
      "“glm.fit: fitted rates numerically 0 occurred”Warning message:\n",
      "“glm.fit: fitted rates numerically 0 occurred”Warning message:\n",
      "“glm.fit: fitted rates numerically 0 occurred”Warning message:\n",
      "“glm.fit: fitted rates numerically 0 occurred”Warning message:\n",
      "“glm.fit: fitted rates numerically 0 occurred”Warning message:\n",
      "“glm.fit: fitted rates numerically 0 occurred”Warning message:\n",
      "“glm.fit: fitted rates numerically 0 occurred”Warning message:\n",
      "“glm.fit: fitted rates numerically 0 occurred”Warning message:\n",
      "“glm.fit: fitted rates numerically 0 occurred”Warning message:\n",
      "“glm.fit: fitted rates numerically 0 occurred”Warning message:\n",
      "“glm.fit: fitted rates numerically 0 occurred”Warning message:\n",
      "“glm.fit: fitted rates numerically 0 occurred”Warning message:\n",
      "“glm.fit: fitted rates numerically 0 occurred”Warning message:\n",
      "“glm.fit: fitted rates numerically 0 occurred”"
     ]
    },
    {
     "name": "stdout",
     "output_type": "stream",
     "text": [
      "."
     ]
    },
    {
     "name": "stderr",
     "output_type": "stream",
     "text": [
      "Warning message:\n",
      "“glm.fit: fitted rates numerically 0 occurred”Warning message:\n",
      "“glm.fit: fitted rates numerically 0 occurred”"
     ]
    },
    {
     "name": "stdout",
     "output_type": "stream",
     "text": [
      "....."
     ]
    },
    {
     "name": "stderr",
     "output_type": "stream",
     "text": [
      "Warning message:\n",
      "“glm.fit: fitted rates numerically 0 occurred”Warning message:\n",
      "“glm.fit: fitted rates numerically 0 occurred”Warning message:\n",
      "“glm.fit: fitted rates numerically 0 occurred”Warning message:\n",
      "“glm.fit: fitted rates numerically 0 occurred”Warning message:\n",
      "“glm.fit: fitted rates numerically 0 occurred”Warning message:\n",
      "“glm.fit: fitted rates numerically 0 occurred”"
     ]
    },
    {
     "name": "stdout",
     "output_type": "stream",
     "text": [
      "."
     ]
    },
    {
     "name": "stderr",
     "output_type": "stream",
     "text": [
      "Warning message:\n",
      "“glm.fit: fitted rates numerically 0 occurred”Warning message:\n",
      "“glm.fit: fitted rates numerically 0 occurred”"
     ]
    },
    {
     "name": "stdout",
     "output_type": "stream",
     "text": [
      ".."
     ]
    },
    {
     "name": "stderr",
     "output_type": "stream",
     "text": [
      "Warning message:\n",
      "“glm.fit: fitted rates numerically 0 occurred”"
     ]
    },
    {
     "name": "stdout",
     "output_type": "stream",
     "text": [
      ".."
     ]
    },
    {
     "name": "stderr",
     "output_type": "stream",
     "text": [
      "Warning message:\n",
      "“glm.fit: fitted rates numerically 0 occurred”"
     ]
    },
    {
     "name": "stdout",
     "output_type": "stream",
     "text": [
      "..."
     ]
    },
    {
     "name": "stderr",
     "output_type": "stream",
     "text": [
      "Warning message:\n",
      "“glm.fit: fitted rates numerically 0 occurred”Warning message:\n",
      "“glm.fit: fitted rates numerically 0 occurred”"
     ]
    },
    {
     "name": "stdout",
     "output_type": "stream",
     "text": [
      "."
     ]
    },
    {
     "name": "stderr",
     "output_type": "stream",
     "text": [
      "Warning message:\n",
      "“glm.fit: fitted rates numerically 0 occurred”Warning message:\n",
      "“glm.fit: fitted rates numerically 0 occurred”Warning message:\n",
      "“glm.fit: fitted rates numerically 0 occurred”Warning message:\n",
      "“glm.fit: fitted rates numerically 0 occurred”Warning message:\n",
      "“glm.fit: fitted rates numerically 0 occurred”Warning message:\n",
      "“glm.fit: fitted rates numerically 0 occurred”Warning message:\n",
      "“glm.fit: fitted rates numerically 0 occurred”Warning message:\n",
      "“glm.fit: fitted rates numerically 0 occurred”Warning message:\n",
      "“glm.fit: fitted rates numerically 0 occurred”"
     ]
    },
    {
     "name": "stdout",
     "output_type": "stream",
     "text": [
      ".."
     ]
    },
    {
     "name": "stderr",
     "output_type": "stream",
     "text": [
      "Warning message:\n",
      "“glm.fit: fitted rates numerically 0 occurred”Warning message:\n",
      "“glm.fit: fitted rates numerically 0 occurred”Warning message:\n",
      "“glm.fit: fitted rates numerically 0 occurred”Warning message:\n",
      "“glm.fit: fitted rates numerically 0 occurred”Warning message:\n",
      "“glm.fit: fitted rates numerically 0 occurred”Warning message:\n",
      "“glm.fit: fitted rates numerically 0 occurred”Warning message:\n",
      "“glm.fit: fitted rates numerically 0 occurred”Warning message:\n",
      "“glm.fit: fitted rates numerically 0 occurred”Warning message:\n",
      "“glm.fit: fitted rates numerically 0 occurred”Warning message:\n",
      "“glm.fit: fitted rates numerically 0 occurred”Warning message:\n",
      "“glm.fit: fitted rates numerically 0 occurred”Warning message:\n",
      "“glm.fit: fitted rates numerically 0 occurred”Warning message:\n",
      "“glm.fit: fitted rates numerically 0 occurred”Warning message:\n",
      "“glm.fit: fitted rates numerically 0 occurred”"
     ]
    },
    {
     "name": "stdout",
     "output_type": "stream",
     "text": [
      "."
     ]
    },
    {
     "name": "stderr",
     "output_type": "stream",
     "text": [
      "Warning message:\n",
      "“glm.fit: fitted rates numerically 0 occurred”Warning message:\n",
      "“glm.fit: fitted rates numerically 0 occurred”Warning message:\n",
      "“glm.fit: fitted rates numerically 0 occurred”Warning message:\n",
      "“glm.fit: fitted rates numerically 0 occurred”Warning message:\n",
      "“glm.fit: fitted rates numerically 0 occurred”"
     ]
    },
    {
     "name": "stdout",
     "output_type": "stream",
     "text": [
      "."
     ]
    },
    {
     "name": "stderr",
     "output_type": "stream",
     "text": [
      "Warning message:\n",
      "“glm.fit: fitted rates numerically 0 occurred”Warning message:\n",
      "“glm.fit: fitted rates numerically 0 occurred”"
     ]
    },
    {
     "name": "stdout",
     "output_type": "stream",
     "text": [
      ".."
     ]
    },
    {
     "name": "stderr",
     "output_type": "stream",
     "text": [
      "Warning message:\n",
      "“glm.fit: fitted rates numerically 0 occurred”"
     ]
    },
    {
     "name": "stdout",
     "output_type": "stream",
     "text": [
      "."
     ]
    },
    {
     "name": "stderr",
     "output_type": "stream",
     "text": [
      "Warning message:\n",
      "“glm.fit: fitted rates numerically 0 occurred”Warning message:\n",
      "“glm.fit: fitted rates numerically 0 occurred”Warning message:\n",
      "“glm.fit: fitted rates numerically 0 occurred”Warning message:\n",
      "“glm.fit: fitted rates numerically 0 occurred”"
     ]
    },
    {
     "name": "stdout",
     "output_type": "stream",
     "text": [
      "..."
     ]
    },
    {
     "name": "stderr",
     "output_type": "stream",
     "text": [
      "Warning message:\n",
      "“glm.fit: fitted rates numerically 0 occurred”Warning message:\n",
      "“glm.fit: fitted rates numerically 0 occurred”Warning message:\n",
      "“glm.fit: fitted rates numerically 0 occurred”Warning message:\n",
      "“glm.fit: fitted rates numerically 0 occurred”Warning message:\n",
      "“glm.fit: fitted rates numerically 0 occurred”Warning message:\n",
      "“glm.fit: fitted rates numerically 0 occurred”Warning message:\n",
      "“glm.fit: fitted rates numerically 0 occurred”"
     ]
    },
    {
     "name": "stdout",
     "output_type": "stream",
     "text": [
      "."
     ]
    },
    {
     "name": "stderr",
     "output_type": "stream",
     "text": [
      "Warning message:\n",
      "“glm.fit: fitted rates numerically 0 occurred”Warning message:\n",
      "“glm.fit: fitted rates numerically 0 occurred”Warning message:\n",
      "“glm.fit: fitted rates numerically 0 occurred”"
     ]
    },
    {
     "name": "stdout",
     "output_type": "stream",
     "text": [
      ".."
     ]
    },
    {
     "name": "stderr",
     "output_type": "stream",
     "text": [
      "Warning message:\n",
      "“glm.fit: fitted rates numerically 0 occurred”Warning message:\n",
      "“glm.fit: fitted rates numerically 0 occurred”Warning message:\n",
      "“glm.fit: fitted rates numerically 0 occurred”Warning message:\n",
      "“glm.fit: fitted rates numerically 0 occurred”Warning message:\n",
      "“glm.fit: fitted rates numerically 0 occurred”Warning message:\n",
      "“glm.fit: fitted rates numerically 0 occurred”Warning message:\n",
      "“glm.fit: fitted rates numerically 0 occurred”Warning message:\n",
      "“glm.fit: fitted rates numerically 0 occurred”Warning message:\n",
      "“glm.fit: fitted rates numerically 0 occurred”Warning message:\n",
      "“glm.fit: fitted rates numerically 0 occurred”Warning message:\n",
      "“glm.fit: fitted rates numerically 0 occurred”Warning message:\n",
      "“glm.fit: fitted rates numerically 0 occurred”Warning message:\n",
      "“glm.fit: fitted rates numerically 0 occurred”Warning message:\n",
      "“glm.fit: fitted rates numerically 0 occurred”Warning message:\n",
      "“glm.fit: fitted rates numerically 0 occurred”Warning message:\n",
      "“glm.fit: fitted rates numerically 0 occurred”Warning message:\n",
      "“glm.fit: fitted rates numerically 0 occurred”Warning message:\n",
      "“glm.fit: fitted rates numerically 0 occurred”Warning message:\n",
      "“glm.fit: fitted rates numerically 0 occurred”Warning message:\n",
      "“glm.fit: fitted rates numerically 0 occurred”Warning message:\n",
      "“glm.fit: fitted rates numerically 0 occurred”Warning message:\n",
      "“glm.fit: fitted rates numerically 0 occurred”Warning message:\n",
      "“glm.fit: fitted rates numerically 0 occurred”Warning message:\n",
      "“glm.fit: fitted rates numerically 0 occurred”Warning message:\n",
      "“glm.fit: fitted rates numerically 0 occurred”Warning message:\n",
      "“glm.fit: fitted rates numerically 0 occurred”Warning message:\n",
      "“glm.fit: fitted rates numerically 0 occurred”Warning message:\n",
      "“glm.fit: fitted rates numerically 0 occurred”Warning message:\n",
      "“glm.fit: fitted rates numerically 0 occurred”Warning message:\n",
      "“glm.fit: fitted rates numerically 0 occurred”Warning message:\n",
      "“glm.fit: fitted rates numerically 0 occurred”Warning message:\n",
      "“glm.fit: fitted rates numerically 0 occurred”Warning message:\n",
      "“glm.fit: fitted rates numerically 0 occurred”"
     ]
    },
    {
     "name": "stdout",
     "output_type": "stream",
     "text": [
      ".."
     ]
    },
    {
     "name": "stderr",
     "output_type": "stream",
     "text": [
      "Warning message:\n",
      "“glm.fit: fitted rates numerically 0 occurred”Warning message:\n",
      "“glm.fit: fitted rates numerically 0 occurred”Warning message:\n",
      "“glm.fit: fitted rates numerically 0 occurred”Warning message:\n",
      "“glm.fit: fitted rates numerically 0 occurred”"
     ]
    },
    {
     "name": "stdout",
     "output_type": "stream",
     "text": [
      "."
     ]
    },
    {
     "name": "stderr",
     "output_type": "stream",
     "text": [
      "Warning message:\n",
      "“glm.fit: fitted rates numerically 0 occurred”"
     ]
    },
    {
     "name": "stdout",
     "output_type": "stream",
     "text": [
      "..."
     ]
    },
    {
     "name": "stderr",
     "output_type": "stream",
     "text": [
      "Warning message:\n",
      "“glm.fit: fitted rates numerically 0 occurred”"
     ]
    },
    {
     "name": "stdout",
     "output_type": "stream",
     "text": [
      ".."
     ]
    },
    {
     "name": "stderr",
     "output_type": "stream",
     "text": [
      "Warning message:\n",
      "“glm.fit: fitted rates numerically 0 occurred”"
     ]
    },
    {
     "name": "stdout",
     "output_type": "stream",
     "text": [
      ".."
     ]
    },
    {
     "name": "stderr",
     "output_type": "stream",
     "text": [
      "Warning message:\n",
      "“glm.fit: fitted rates numerically 0 occurred”Warning message:\n",
      "“glm.fit: fitted rates numerically 0 occurred”"
     ]
    },
    {
     "name": "stdout",
     "output_type": "stream",
     "text": [
      ".."
     ]
    },
    {
     "name": "stderr",
     "output_type": "stream",
     "text": [
      "Warning message:\n",
      "“glm.fit: fitted rates numerically 0 occurred”Warning message:\n",
      "“glm.fit: fitted rates numerically 0 occurred”"
     ]
    },
    {
     "name": "stdout",
     "output_type": "stream",
     "text": [
      "."
     ]
    },
    {
     "name": "stderr",
     "output_type": "stream",
     "text": [
      "Warning message:\n",
      "“glm.fit: fitted rates numerically 0 occurred”Warning message:\n",
      "“glm.fit: fitted rates numerically 0 occurred”Warning message:\n",
      "“glm.fit: fitted rates numerically 0 occurred”Warning message:\n",
      "“glm.fit: fitted rates numerically 0 occurred”Warning message:\n",
      "“glm.fit: fitted rates numerically 0 occurred”Warning message:\n",
      "“glm.fit: fitted rates numerically 0 occurred”Warning message:\n",
      "“glm.fit: fitted rates numerically 0 occurred”Warning message:\n",
      "“glm.fit: fitted rates numerically 0 occurred”Warning message:\n",
      "“glm.fit: fitted rates numerically 0 occurred”Warning message:\n",
      "“glm.fit: fitted rates numerically 0 occurred”"
     ]
    },
    {
     "name": "stdout",
     "output_type": "stream",
     "text": [
      ".."
     ]
    },
    {
     "name": "stderr",
     "output_type": "stream",
     "text": [
      "Warning message:\n",
      "“glm.fit: fitted rates numerically 0 occurred”Warning message:\n",
      "“glm.fit: fitted rates numerically 0 occurred”Warning message:\n",
      "“glm.fit: fitted rates numerically 0 occurred”Warning message:\n",
      "“glm.fit: fitted rates numerically 0 occurred”Warning message:\n",
      "“glm.fit: fitted rates numerically 0 occurred”"
     ]
    },
    {
     "name": "stdout",
     "output_type": "stream",
     "text": [
      "."
     ]
    },
    {
     "name": "stderr",
     "output_type": "stream",
     "text": [
      "Warning message:\n",
      "“glm.fit: fitted rates numerically 0 occurred”Warning message:\n",
      "“glm.fit: fitted rates numerically 0 occurred”Warning message:\n",
      "“glm.fit: fitted rates numerically 0 occurred”"
     ]
    },
    {
     "name": "stdout",
     "output_type": "stream",
     "text": [
      "."
     ]
    },
    {
     "name": "stderr",
     "output_type": "stream",
     "text": [
      "Warning message:\n",
      "“glm.fit: fitted rates numerically 0 occurred”"
     ]
    },
    {
     "name": "stdout",
     "output_type": "stream",
     "text": [
      "."
     ]
    },
    {
     "name": "stderr",
     "output_type": "stream",
     "text": [
      "Warning message:\n",
      "“glm.fit: fitted rates numerically 0 occurred”Warning message:\n",
      "“glm.fit: fitted rates numerically 0 occurred”"
     ]
    },
    {
     "name": "stdout",
     "output_type": "stream",
     "text": [
      "."
     ]
    },
    {
     "name": "stderr",
     "output_type": "stream",
     "text": [
      "Warning message:\n",
      "“glm.fit: fitted rates numerically 0 occurred”Warning message:\n",
      "“glm.fit: fitted rates numerically 0 occurred”Warning message:\n",
      "“glm.fit: fitted rates numerically 0 occurred”Warning message:\n",
      "“glm.fit: fitted rates numerically 0 occurred”Warning message:\n",
      "“glm.fit: fitted rates numerically 0 occurred”Warning message:\n",
      "“glm.fit: fitted rates numerically 0 occurred”Warning message:\n",
      "“glm.fit: fitted rates numerically 0 occurred”"
     ]
    },
    {
     "name": "stdout",
     "output_type": "stream",
     "text": [
      "."
     ]
    },
    {
     "name": "stderr",
     "output_type": "stream",
     "text": [
      "Warning message:\n",
      "“glm.fit: fitted rates numerically 0 occurred”Warning message:\n",
      "“glm.fit: fitted rates numerically 0 occurred”Warning message:\n",
      "“glm.fit: fitted rates numerically 0 occurred”Warning message:\n",
      "“glm.fit: fitted rates numerically 0 occurred”Warning message:\n",
      "“glm.fit: fitted rates numerically 0 occurred”Warning message:\n",
      "“glm.fit: fitted rates numerically 0 occurred”Warning message:\n",
      "“glm.fit: fitted rates numerically 0 occurred”Warning message:\n",
      "“glm.fit: fitted rates numerically 0 occurred”Warning message:\n",
      "“glm.fit: fitted rates numerically 0 occurred”Warning message:\n",
      "“glm.fit: fitted rates numerically 0 occurred”Warning message:\n",
      "“glm.fit: fitted rates numerically 0 occurred”Warning message:\n",
      "“glm.fit: fitted rates numerically 0 occurred”"
     ]
    },
    {
     "name": "stdout",
     "output_type": "stream",
     "text": [
      "."
     ]
    },
    {
     "name": "stderr",
     "output_type": "stream",
     "text": [
      "Warning message:\n",
      "“glm.fit: fitted rates numerically 0 occurred”"
     ]
    },
    {
     "name": "stdout",
     "output_type": "stream",
     "text": [
      "...."
     ]
    },
    {
     "name": "stderr",
     "output_type": "stream",
     "text": [
      "Warning message:\n",
      "“glm.fit: fitted rates numerically 0 occurred”Warning message:\n",
      "“glm.fit: fitted rates numerically 0 occurred”"
     ]
    },
    {
     "name": "stdout",
     "output_type": "stream",
     "text": [
      "."
     ]
    },
    {
     "name": "stderr",
     "output_type": "stream",
     "text": [
      "Warning message:\n",
      "“glm.fit: fitted rates numerically 0 occurred”Warning message:\n",
      "“glm.fit: fitted rates numerically 0 occurred”Warning message:\n",
      "“glm.fit: fitted rates numerically 0 occurred”Warning message:\n",
      "“glm.fit: fitted rates numerically 0 occurred”Warning message:\n",
      "“glm.fit: fitted rates numerically 0 occurred”Warning message:\n",
      "“glm.fit: fitted rates numerically 0 occurred”Warning message:\n",
      "“glm.fit: fitted rates numerically 0 occurred”Warning message:\n",
      "“glm.fit: fitted rates numerically 0 occurred”Warning message:\n",
      "“glm.fit: fitted rates numerically 0 occurred”Warning message:\n",
      "“glm.fit: fitted rates numerically 0 occurred”"
     ]
    },
    {
     "name": "stdout",
     "output_type": "stream",
     "text": [
      "."
     ]
    },
    {
     "name": "stderr",
     "output_type": "stream",
     "text": [
      "Warning message:\n",
      "“glm.fit: fitted rates numerically 0 occurred”Warning message:\n",
      "“glm.fit: fitted rates numerically 0 occurred”Warning message:\n",
      "“glm.fit: fitted rates numerically 0 occurred”Warning message:\n",
      "“glm.fit: fitted rates numerically 0 occurred”Warning message:\n",
      "“glm.fit: fitted rates numerically 0 occurred”Warning message:\n",
      "“glm.fit: fitted rates numerically 0 occurred”Warning message:\n",
      "“glm.fit: fitted rates numerically 0 occurred”Warning message:\n",
      "“glm.fit: fitted rates numerically 0 occurred”Warning message:\n",
      "“glm.fit: fitted rates numerically 0 occurred”Warning message:\n",
      "“glm.fit: fitted rates numerically 0 occurred”Warning message:\n",
      "“glm.fit: fitted rates numerically 0 occurred”Warning message:\n",
      "“glm.fit: fitted rates numerically 0 occurred”Warning message:\n",
      "“glm.fit: fitted rates numerically 0 occurred”Warning message:\n",
      "“glm.fit: fitted rates numerically 0 occurred”Warning message:\n",
      "“glm.fit: fitted rates numerically 0 occurred”Warning message:\n",
      "“glm.fit: fitted rates numerically 0 occurred”Warning message:\n",
      "“glm.fit: fitted rates numerically 0 occurred”Warning message:\n",
      "“glm.fit: fitted rates numerically 0 occurred”Warning message:\n",
      "“glm.fit: fitted rates numerically 0 occurred”Warning message:\n",
      "“glm.fit: fitted rates numerically 0 occurred”Warning message:\n",
      "“glm.fit: fitted rates numerically 0 occurred”Warning message:\n",
      "“glm.fit: fitted rates numerically 0 occurred”Warning message:\n",
      "“glm.fit: fitted rates numerically 0 occurred”Warning message:\n",
      "“glm.fit: fitted rates numerically 0 occurred”"
     ]
    },
    {
     "name": "stdout",
     "output_type": "stream",
     "text": [
      "."
     ]
    },
    {
     "name": "stderr",
     "output_type": "stream",
     "text": [
      "Warning message:\n",
      "“glm.fit: fitted rates numerically 0 occurred”Warning message:\n",
      "“glm.fit: fitted rates numerically 0 occurred”Warning message:\n",
      "“glm.fit: fitted rates numerically 0 occurred”Warning message:\n",
      "“glm.fit: fitted rates numerically 0 occurred”Warning message:\n",
      "“glm.fit: fitted rates numerically 0 occurred”"
     ]
    },
    {
     "name": "stdout",
     "output_type": "stream",
     "text": [
      "."
     ]
    },
    {
     "name": "stderr",
     "output_type": "stream",
     "text": [
      "Warning message:\n",
      "“glm.fit: fitted rates numerically 0 occurred”Warning message:\n",
      "“glm.fit: fitted rates numerically 0 occurred”Warning message:\n",
      "“glm.fit: fitted rates numerically 0 occurred”Warning message:\n",
      "“glm.fit: fitted rates numerically 0 occurred”Warning message:\n",
      "“glm.fit: fitted rates numerically 0 occurred”Warning message:\n",
      "“glm.fit: fitted rates numerically 0 occurred”Warning message:\n",
      "“glm.fit: fitted rates numerically 0 occurred”Warning message:\n",
      "“glm.fit: fitted rates numerically 0 occurred”"
     ]
    },
    {
     "name": "stdout",
     "output_type": "stream",
     "text": [
      ".."
     ]
    },
    {
     "name": "stderr",
     "output_type": "stream",
     "text": [
      "Warning message:\n",
      "“glm.fit: fitted rates numerically 0 occurred”Warning message:\n",
      "“glm.fit: fitted rates numerically 0 occurred”"
     ]
    },
    {
     "name": "stdout",
     "output_type": "stream",
     "text": [
      "."
     ]
    },
    {
     "name": "stderr",
     "output_type": "stream",
     "text": [
      "Warning message:\n",
      "“glm.fit: fitted rates numerically 0 occurred”Warning message:\n",
      "“glm.fit: fitted rates numerically 0 occurred”Warning message:\n",
      "“glm.fit: fitted rates numerically 0 occurred”Warning message:\n",
      "“glm.fit: fitted rates numerically 0 occurred”"
     ]
    },
    {
     "name": "stdout",
     "output_type": "stream",
     "text": [
      "."
     ]
    },
    {
     "name": "stderr",
     "output_type": "stream",
     "text": [
      "Warning message:\n",
      "“glm.fit: fitted rates numerically 0 occurred”Warning message:\n",
      "“glm.fit: fitted rates numerically 0 occurred”"
     ]
    },
    {
     "name": "stdout",
     "output_type": "stream",
     "text": [
      "..."
     ]
    },
    {
     "name": "stderr",
     "output_type": "stream",
     "text": [
      "Warning message:\n",
      "“glm.fit: fitted rates numerically 0 occurred”Warning message:\n",
      "“glm.fit: fitted rates numerically 0 occurred”Warning message:\n",
      "“glm.fit: fitted rates numerically 0 occurred”Warning message:\n",
      "“glm.fit: fitted rates numerically 0 occurred”Warning message:\n",
      "“glm.fit: fitted rates numerically 0 occurred”Warning message:\n",
      "“glm.fit: fitted rates numerically 0 occurred”Warning message:\n",
      "“glm.fit: fitted rates numerically 0 occurred”Warning message:\n",
      "“glm.fit: fitted rates numerically 0 occurred”"
     ]
    },
    {
     "name": "stdout",
     "output_type": "stream",
     "text": [
      "."
     ]
    },
    {
     "name": "stderr",
     "output_type": "stream",
     "text": [
      "Warning message:\n",
      "“glm.fit: fitted rates numerically 0 occurred”Warning message:\n",
      "“glm.fit: fitted rates numerically 0 occurred”Warning message:\n",
      "“glm.fit: fitted rates numerically 0 occurred”"
     ]
    },
    {
     "name": "stdout",
     "output_type": "stream",
     "text": [
      "."
     ]
    },
    {
     "name": "stderr",
     "output_type": "stream",
     "text": [
      "Warning message:\n",
      "“glm.fit: fitted rates numerically 0 occurred”Warning message:\n",
      "“glm.fit: fitted rates numerically 0 occurred”Warning message:\n",
      "“glm.fit: fitted rates numerically 0 occurred”Warning message:\n",
      "“glm.fit: fitted rates numerically 0 occurred”Warning message:\n",
      "“glm.fit: fitted rates numerically 0 occurred”Warning message:\n",
      "“glm.fit: fitted rates numerically 0 occurred”Warning message:\n",
      "“glm.fit: fitted rates numerically 0 occurred”Warning message:\n",
      "“glm.fit: fitted rates numerically 0 occurred”Warning message:\n",
      "“glm.fit: fitted rates numerically 0 occurred”Warning message:\n",
      "“glm.fit: fitted rates numerically 0 occurred”Warning message:\n",
      "“glm.fit: fitted rates numerically 0 occurred”Warning message:\n",
      "“glm.fit: fitted rates numerically 0 occurred”Warning message:\n",
      "“glm.fit: fitted rates numerically 0 occurred”"
     ]
    },
    {
     "name": "stdout",
     "output_type": "stream",
     "text": [
      "..."
     ]
    },
    {
     "name": "stderr",
     "output_type": "stream",
     "text": [
      "Warning message:\n",
      "“glm.fit: fitted rates numerically 0 occurred”Warning message:\n",
      "“glm.fit: fitted rates numerically 0 occurred”Warning message:\n",
      "“glm.fit: fitted rates numerically 0 occurred”"
     ]
    },
    {
     "name": "stdout",
     "output_type": "stream",
     "text": [
      "."
     ]
    },
    {
     "name": "stderr",
     "output_type": "stream",
     "text": [
      "Warning message:\n",
      "“glm.fit: fitted rates numerically 0 occurred”Warning message:\n",
      "“glm.fit: fitted rates numerically 0 occurred”Warning message:\n",
      "“glm.fit: fitted rates numerically 0 occurred”Warning message:\n",
      "“glm.fit: fitted rates numerically 0 occurred”Warning message:\n",
      "“glm.fit: fitted rates numerically 0 occurred”Warning message:\n",
      "“glm.fit: fitted rates numerically 0 occurred”Warning message:\n",
      "“glm.fit: fitted rates numerically 0 occurred”Warning message:\n",
      "“glm.fit: fitted rates numerically 0 occurred”"
     ]
    },
    {
     "name": "stdout",
     "output_type": "stream",
     "text": [
      "...."
     ]
    },
    {
     "name": "stderr",
     "output_type": "stream",
     "text": [
      "Warning message:\n",
      "“glm.fit: fitted rates numerically 0 occurred”Warning message:\n",
      "“glm.fit: fitted rates numerically 0 occurred”"
     ]
    },
    {
     "name": "stdout",
     "output_type": "stream",
     "text": [
      "."
     ]
    },
    {
     "name": "stderr",
     "output_type": "stream",
     "text": [
      "Warning message:\n",
      "“glm.fit: fitted rates numerically 0 occurred”Warning message:\n",
      "“glm.fit: fitted rates numerically 0 occurred”Warning message:\n",
      "“glm.fit: fitted rates numerically 0 occurred”Warning message:\n",
      "“glm.fit: fitted rates numerically 0 occurred”Warning message:\n",
      "“glm.fit: fitted rates numerically 0 occurred”Warning message:\n",
      "“glm.fit: fitted rates numerically 0 occurred”Warning message:\n",
      "“glm.fit: fitted rates numerically 0 occurred”Warning message:\n",
      "“glm.fit: fitted rates numerically 0 occurred”Warning message:\n",
      "“glm.fit: fitted rates numerically 0 occurred”"
     ]
    },
    {
     "name": "stdout",
     "output_type": "stream",
     "text": [
      "."
     ]
    },
    {
     "name": "stderr",
     "output_type": "stream",
     "text": [
      "Warning message:\n",
      "“glm.fit: fitted rates numerically 0 occurred”Warning message:\n",
      "“glm.fit: fitted rates numerically 0 occurred”Warning message:\n",
      "“glm.fit: fitted rates numerically 0 occurred”"
     ]
    },
    {
     "name": "stdout",
     "output_type": "stream",
     "text": [
      "."
     ]
    },
    {
     "name": "stderr",
     "output_type": "stream",
     "text": [
      "Warning message:\n",
      "“glm.fit: fitted rates numerically 0 occurred”Warning message:\n",
      "“glm.fit: fitted rates numerically 0 occurred”Warning message:\n",
      "“glm.fit: fitted rates numerically 0 occurred”Warning message:\n",
      "“glm.fit: fitted rates numerically 0 occurred”Warning message:\n",
      "“glm.fit: fitted rates numerically 0 occurred”"
     ]
    },
    {
     "name": "stdout",
     "output_type": "stream",
     "text": [
      "."
     ]
    },
    {
     "name": "stderr",
     "output_type": "stream",
     "text": [
      "Warning message:\n",
      "“glm.fit: fitted rates numerically 0 occurred”Warning message:\n",
      "“glm.fit: fitted rates numerically 0 occurred”Warning message:\n",
      "“glm.fit: fitted rates numerically 0 occurred”Warning message:\n",
      "“glm.fit: fitted rates numerically 0 occurred”Warning message:\n",
      "“glm.fit: fitted rates numerically 0 occurred”Warning message:\n",
      "“glm.fit: fitted rates numerically 0 occurred”"
     ]
    },
    {
     "name": "stdout",
     "output_type": "stream",
     "text": [
      "."
     ]
    },
    {
     "name": "stderr",
     "output_type": "stream",
     "text": [
      "Warning message:\n",
      "“glm.fit: fitted rates numerically 0 occurred”Warning message:\n",
      "“glm.fit: fitted rates numerically 0 occurred”Warning message:\n",
      "“glm.fit: fitted rates numerically 0 occurred”Warning message:\n",
      "“glm.fit: fitted rates numerically 0 occurred”Warning message:\n",
      "“glm.fit: fitted rates numerically 0 occurred”Warning message:\n",
      "“glm.fit: fitted rates numerically 0 occurred”Warning message:\n",
      "“glm.fit: fitted rates numerically 0 occurred”Warning message:\n",
      "“glm.fit: fitted rates numerically 0 occurred”"
     ]
    },
    {
     "name": "stdout",
     "output_type": "stream",
     "text": [
      ".."
     ]
    },
    {
     "name": "stderr",
     "output_type": "stream",
     "text": [
      "Warning message:\n",
      "“glm.fit: fitted rates numerically 0 occurred”Warning message:\n",
      "“glm.fit: fitted rates numerically 0 occurred”Warning message:\n",
      "“glm.fit: fitted rates numerically 0 occurred”Warning message:\n",
      "“glm.fit: fitted rates numerically 0 occurred”Warning message:\n",
      "“glm.fit: fitted rates numerically 0 occurred”Warning message:\n",
      "“glm.fit: fitted rates numerically 0 occurred”Warning message:\n",
      "“glm.fit: fitted rates numerically 0 occurred”Warning message:\n",
      "“glm.fit: fitted rates numerically 0 occurred”"
     ]
    },
    {
     "name": "stdout",
     "output_type": "stream",
     "text": [
      "..."
     ]
    },
    {
     "name": "stderr",
     "output_type": "stream",
     "text": [
      "Warning message:\n",
      "“glm.fit: fitted rates numerically 0 occurred”Warning message:\n",
      "“glm.fit: fitted rates numerically 0 occurred”Warning message:\n",
      "“glm.fit: fitted rates numerically 0 occurred”Warning message:\n",
      "“glm.fit: fitted rates numerically 0 occurred”Warning message:\n",
      "“glm.fit: fitted rates numerically 0 occurred”Warning message:\n",
      "“glm.fit: fitted rates numerically 0 occurred”Warning message:\n",
      "“glm.fit: fitted rates numerically 0 occurred”Warning message:\n",
      "“glm.fit: fitted rates numerically 0 occurred”Warning message:\n",
      "“glm.fit: fitted rates numerically 0 occurred”Warning message:\n",
      "“glm.fit: fitted rates numerically 0 occurred”Warning message:\n",
      "“glm.fit: fitted rates numerically 0 occurred”Warning message:\n",
      "“glm.fit: fitted rates numerically 0 occurred”Warning message:\n",
      "“glm.fit: fitted rates numerically 0 occurred”Warning message:\n",
      "“glm.fit: fitted rates numerically 0 occurred”Warning message:\n",
      "“glm.fit: fitted rates numerically 0 occurred”"
     ]
    },
    {
     "name": "stdout",
     "output_type": "stream",
     "text": [
      ".."
     ]
    },
    {
     "name": "stderr",
     "output_type": "stream",
     "text": [
      "Warning message:\n",
      "“glm.fit: fitted rates numerically 0 occurred”Warning message:\n",
      "“glm.fit: fitted rates numerically 0 occurred”"
     ]
    },
    {
     "name": "stdout",
     "output_type": "stream",
     "text": [
      "."
     ]
    },
    {
     "name": "stderr",
     "output_type": "stream",
     "text": [
      "Warning message:\n",
      "“glm.fit: fitted rates numerically 0 occurred”Warning message:\n",
      "“glm.fit: fitted rates numerically 0 occurred”Warning message:\n",
      "“glm.fit: fitted rates numerically 0 occurred”Warning message:\n",
      "“glm.fit: fitted rates numerically 0 occurred”Warning message:\n",
      "“glm.fit: fitted rates numerically 0 occurred”Warning message:\n",
      "“glm.fit: fitted rates numerically 0 occurred”Warning message:\n",
      "“glm.fit: fitted rates numerically 0 occurred”Warning message:\n",
      "“glm.fit: fitted rates numerically 0 occurred”Warning message:\n",
      "“glm.fit: fitted rates numerically 0 occurred”"
     ]
    },
    {
     "name": "stdout",
     "output_type": "stream",
     "text": [
      ".."
     ]
    },
    {
     "name": "stderr",
     "output_type": "stream",
     "text": [
      "Warning message:\n",
      "“glm.fit: fitted rates numerically 0 occurred”Warning message:\n",
      "“glm.fit: fitted rates numerically 0 occurred”Warning message:\n",
      "“glm.fit: fitted rates numerically 0 occurred”Warning message:\n",
      "“glm.fit: fitted rates numerically 0 occurred”Warning message:\n",
      "“glm.fit: fitted rates numerically 0 occurred”Warning message:\n",
      "“glm.fit: fitted rates numerically 0 occurred”Warning message:\n",
      "“glm.fit: fitted rates numerically 0 occurred”"
     ]
    },
    {
     "name": "stdout",
     "output_type": "stream",
     "text": [
      "."
     ]
    },
    {
     "name": "stderr",
     "output_type": "stream",
     "text": [
      "Warning message:\n",
      "“glm.fit: fitted rates numerically 0 occurred”Warning message:\n",
      "“glm.fit: fitted rates numerically 0 occurred”"
     ]
    },
    {
     "name": "stdout",
     "output_type": "stream",
     "text": [
      "."
     ]
    },
    {
     "name": "stderr",
     "output_type": "stream",
     "text": [
      "Warning message:\n",
      "“glm.fit: fitted rates numerically 0 occurred”Warning message:\n",
      "“glm.fit: fitted rates numerically 0 occurred”Warning message:\n",
      "“glm.fit: fitted rates numerically 0 occurred”Warning message:\n",
      "“glm.fit: fitted rates numerically 0 occurred”"
     ]
    },
    {
     "name": "stdout",
     "output_type": "stream",
     "text": [
      "..."
     ]
    },
    {
     "name": "stderr",
     "output_type": "stream",
     "text": [
      "Warning message:\n",
      "“glm.fit: fitted rates numerically 0 occurred”Warning message:\n",
      "“glm.fit: fitted rates numerically 0 occurred”Warning message:\n",
      "“glm.fit: fitted rates numerically 0 occurred”Warning message:\n",
      "“glm.fit: fitted rates numerically 0 occurred”Warning message:\n",
      "“glm.fit: fitted rates numerically 0 occurred”Warning message:\n",
      "“glm.fit: fitted rates numerically 0 occurred”Warning message:\n",
      "“glm.fit: fitted rates numerically 0 occurred”Warning message:\n",
      "“glm.fit: fitted rates numerically 0 occurred”Warning message:\n",
      "“glm.fit: fitted rates numerically 0 occurred”Warning message:\n",
      "“glm.fit: fitted rates numerically 0 occurred”Warning message:\n",
      "“glm.fit: fitted rates numerically 0 occurred”Warning message:\n",
      "“glm.fit: fitted rates numerically 0 occurred”"
     ]
    },
    {
     "name": "stdout",
     "output_type": "stream",
     "text": [
      ".."
     ]
    },
    {
     "name": "stderr",
     "output_type": "stream",
     "text": [
      "Warning message:\n",
      "“glm.fit: fitted rates numerically 0 occurred”Warning message:\n",
      "“glm.fit: fitted rates numerically 0 occurred”Warning message:\n",
      "“glm.fit: fitted rates numerically 0 occurred”Warning message:\n",
      "“glm.fit: fitted rates numerically 0 occurred”Warning message:\n",
      "“glm.fit: fitted rates numerically 0 occurred”Warning message:\n",
      "“glm.fit: fitted rates numerically 0 occurred”Warning message:\n",
      "“glm.fit: fitted rates numerically 0 occurred”Warning message:\n",
      "“glm.fit: fitted rates numerically 0 occurred”Warning message:\n",
      "“glm.fit: fitted rates numerically 0 occurred”"
     ]
    },
    {
     "name": "stdout",
     "output_type": "stream",
     "text": [
      ".."
     ]
    },
    {
     "name": "stderr",
     "output_type": "stream",
     "text": [
      "Warning message:\n",
      "“glm.fit: fitted rates numerically 0 occurred”Warning message:\n",
      "“glm.fit: fitted rates numerically 0 occurred”"
     ]
    },
    {
     "name": "stdout",
     "output_type": "stream",
     "text": [
      ".."
     ]
    },
    {
     "name": "stderr",
     "output_type": "stream",
     "text": [
      "Warning message:\n",
      "“glm.fit: fitted rates numerically 0 occurred”Warning message:\n",
      "“glm.fit: fitted rates numerically 0 occurred”Warning message:\n",
      "“glm.fit: fitted rates numerically 0 occurred”Warning message:\n",
      "“glm.fit: fitted rates numerically 0 occurred”Warning message:\n",
      "“glm.fit: fitted rates numerically 0 occurred”Warning message:\n",
      "“glm.fit: fitted rates numerically 0 occurred”Warning message:\n",
      "“glm.fit: fitted rates numerically 0 occurred”Warning message:\n",
      "“glm.fit: fitted rates numerically 0 occurred”Warning message:\n",
      "“glm.fit: fitted rates numerically 0 occurred”Warning message:\n",
      "“glm.fit: fitted rates numerically 0 occurred”Warning message:\n",
      "“glm.fit: fitted rates numerically 0 occurred”Warning message:\n",
      "“glm.fit: fitted rates numerically 0 occurred”Warning message:\n",
      "“glm.fit: fitted rates numerically 0 occurred”"
     ]
    },
    {
     "name": "stdout",
     "output_type": "stream",
     "text": [
      "."
     ]
    },
    {
     "name": "stderr",
     "output_type": "stream",
     "text": [
      "Warning message:\n",
      "“glm.fit: fitted rates numerically 0 occurred”Warning message:\n",
      "“glm.fit: fitted rates numerically 0 occurred”Warning message:\n",
      "“glm.fit: fitted rates numerically 0 occurred”"
     ]
    },
    {
     "name": "stdout",
     "output_type": "stream",
     "text": [
      "."
     ]
    },
    {
     "name": "stderr",
     "output_type": "stream",
     "text": [
      "Warning message:\n",
      "“glm.fit: fitted rates numerically 0 occurred”Warning message:\n",
      "“glm.fit: fitted rates numerically 0 occurred”Warning message:\n",
      "“glm.fit: fitted rates numerically 0 occurred”Warning message:\n",
      "“glm.fit: fitted rates numerically 0 occurred”Warning message:\n",
      "“glm.fit: fitted rates numerically 0 occurred”Warning message:\n",
      "“glm.fit: fitted rates numerically 0 occurred”Warning message:\n",
      "“glm.fit: fitted rates numerically 0 occurred”Warning message:\n",
      "“glm.fit: fitted rates numerically 0 occurred”Warning message:\n",
      "“glm.fit: fitted rates numerically 0 occurred”Warning message:\n",
      "“glm.fit: fitted rates numerically 0 occurred”Warning message:\n",
      "“glm.fit: fitted rates numerically 0 occurred”Warning message:\n",
      "“glm.fit: fitted rates numerically 0 occurred”Warning message:\n",
      "“glm.fit: fitted rates numerically 0 occurred”Warning message:\n",
      "“glm.fit: fitted rates numerically 0 occurred”Warning message:\n",
      "“glm.fit: algorithm did not converge”Warning message:\n",
      "“glm.fit: fitted rates numerically 0 occurred”Warning message:\n",
      "“glm.fit: fitted rates numerically 0 occurred”Warning message:\n",
      "“glm.fit: fitted rates numerically 0 occurred”Warning message:\n",
      "“glm.fit: fitted rates numerically 0 occurred”Warning message:\n",
      "“glm.fit: fitted rates numerically 0 occurred”Warning message:\n",
      "“glm.fit: fitted rates numerically 0 occurred”"
     ]
    },
    {
     "name": "stdout",
     "output_type": "stream",
     "text": [
      "."
     ]
    },
    {
     "name": "stderr",
     "output_type": "stream",
     "text": [
      "Warning message:\n",
      "“glm.fit: fitted rates numerically 0 occurred”Warning message:\n",
      "“glm.fit: fitted rates numerically 0 occurred”Warning message:\n",
      "“glm.fit: fitted rates numerically 0 occurred”"
     ]
    },
    {
     "name": "stdout",
     "output_type": "stream",
     "text": [
      "."
     ]
    },
    {
     "name": "stderr",
     "output_type": "stream",
     "text": [
      "Warning message:\n",
      "“glm.fit: fitted rates numerically 0 occurred”Warning message:\n",
      "“glm.fit: fitted rates numerically 0 occurred”Warning message:\n",
      "“glm.fit: fitted rates numerically 0 occurred”Warning message:\n",
      "“glm.fit: fitted rates numerically 0 occurred”Warning message:\n",
      "“glm.fit: fitted rates numerically 0 occurred”Warning message:\n",
      "“glm.fit: fitted rates numerically 0 occurred”"
     ]
    },
    {
     "name": "stdout",
     "output_type": "stream",
     "text": [
      "."
     ]
    },
    {
     "name": "stderr",
     "output_type": "stream",
     "text": [
      "Warning message:\n",
      "“glm.fit: fitted rates numerically 0 occurred”Warning message:\n",
      "“glm.fit: fitted rates numerically 0 occurred”"
     ]
    },
    {
     "name": "stdout",
     "output_type": "stream",
     "text": [
      "."
     ]
    },
    {
     "name": "stderr",
     "output_type": "stream",
     "text": [
      "Warning message:\n",
      "“glm.fit: fitted rates numerically 0 occurred”Warning message:\n",
      "“glm.fit: fitted rates numerically 0 occurred”Warning message:\n",
      "“glm.fit: fitted rates numerically 0 occurred”Warning message:\n",
      "“glm.fit: fitted rates numerically 0 occurred”Warning message:\n",
      "“glm.fit: fitted rates numerically 0 occurred”Warning message:\n",
      "“glm.fit: fitted rates numerically 0 occurred”Warning message:\n",
      "“glm.fit: fitted rates numerically 0 occurred”Warning message:\n",
      "“glm.fit: fitted rates numerically 0 occurred”Warning message:\n",
      "“glm.fit: fitted rates numerically 0 occurred”Warning message:\n",
      "“glm.fit: fitted rates numerically 0 occurred”Warning message:\n",
      "“glm.fit: fitted rates numerically 0 occurred”Warning message:\n",
      "“glm.fit: fitted rates numerically 0 occurred”Warning message:\n",
      "“glm.fit: fitted rates numerically 0 occurred”Warning message:\n",
      "“glm.fit: fitted rates numerically 0 occurred”Warning message:\n",
      "“glm.fit: fitted rates numerically 0 occurred”Warning message:\n",
      "“glm.fit: fitted rates numerically 0 occurred”Warning message:\n",
      "“glm.fit: fitted rates numerically 0 occurred”Warning message:\n",
      "“glm.fit: fitted rates numerically 0 occurred”Warning message:\n",
      "“glm.fit: fitted rates numerically 0 occurred”"
     ]
    },
    {
     "name": "stdout",
     "output_type": "stream",
     "text": [
      "."
     ]
    },
    {
     "name": "stderr",
     "output_type": "stream",
     "text": [
      "Warning message:\n",
      "“glm.fit: fitted rates numerically 0 occurred”Warning message:\n",
      "“glm.fit: fitted rates numerically 0 occurred”Warning message:\n",
      "“glm.fit: fitted rates numerically 0 occurred”Warning message:\n",
      "“glm.fit: fitted rates numerically 0 occurred”Warning message:\n",
      "“glm.fit: fitted rates numerically 0 occurred”Warning message:\n",
      "“glm.fit: fitted rates numerically 0 occurred”Warning message:\n",
      "“glm.fit: fitted rates numerically 0 occurred”Warning message:\n",
      "“glm.fit: fitted rates numerically 0 occurred”Warning message:\n",
      "“glm.fit: fitted rates numerically 0 occurred”Warning message:\n",
      "“glm.fit: fitted rates numerically 0 occurred”Warning message:\n",
      "“glm.fit: fitted rates numerically 0 occurred”Warning message:\n",
      "“glm.fit: fitted rates numerically 0 occurred”Warning message:\n",
      "“glm.fit: fitted rates numerically 0 occurred”Warning message:\n",
      "“glm.fit: fitted rates numerically 0 occurred”Warning message:\n",
      "“glm.fit: fitted rates numerically 0 occurred”Warning message:\n",
      "“glm.fit: fitted rates numerically 0 occurred”Warning message:\n",
      "“glm.fit: fitted rates numerically 0 occurred”Warning message:\n",
      "“glm.fit: fitted rates numerically 0 occurred”"
     ]
    },
    {
     "name": "stdout",
     "output_type": "stream",
     "text": [
      ".."
     ]
    },
    {
     "name": "stderr",
     "output_type": "stream",
     "text": [
      "Warning message:\n",
      "“glm.fit: fitted rates numerically 0 occurred”Warning message:\n",
      "“glm.fit: fitted rates numerically 0 occurred”"
     ]
    },
    {
     "name": "stdout",
     "output_type": "stream",
     "text": [
      "."
     ]
    },
    {
     "name": "stderr",
     "output_type": "stream",
     "text": [
      "Warning message:\n",
      "“glm.fit: fitted rates numerically 0 occurred”Warning message:\n",
      "“glm.fit: fitted rates numerically 0 occurred”Warning message:\n",
      "“glm.fit: fitted rates numerically 0 occurred”Warning message:\n",
      "“glm.fit: fitted rates numerically 0 occurred”Warning message:\n",
      "“glm.fit: fitted rates numerically 0 occurred”Warning message:\n",
      "“glm.fit: fitted rates numerically 0 occurred”Warning message:\n",
      "“glm.fit: fitted rates numerically 0 occurred”Warning message:\n",
      "“glm.fit: fitted rates numerically 0 occurred”Warning message:\n",
      "“glm.fit: fitted rates numerically 0 occurred”Warning message:\n",
      "“glm.fit: fitted rates numerically 0 occurred”"
     ]
    },
    {
     "name": "stdout",
     "output_type": "stream",
     "text": [
      ".."
     ]
    },
    {
     "name": "stderr",
     "output_type": "stream",
     "text": [
      "Warning message:\n",
      "“glm.fit: fitted rates numerically 0 occurred”Warning message:\n",
      "“glm.fit: fitted rates numerically 0 occurred”Warning message:\n",
      "“glm.fit: fitted rates numerically 0 occurred”Warning message:\n",
      "“glm.fit: fitted rates numerically 0 occurred”Warning message:\n",
      "“glm.fit: fitted rates numerically 0 occurred”Warning message:\n",
      "“glm.fit: fitted rates numerically 0 occurred”Warning message:\n",
      "“glm.fit: fitted rates numerically 0 occurred”Warning message:\n",
      "“glm.fit: fitted rates numerically 0 occurred”Warning message:\n",
      "“glm.fit: fitted rates numerically 0 occurred”Warning message:\n",
      "“glm.fit: fitted rates numerically 0 occurred”"
     ]
    },
    {
     "name": "stdout",
     "output_type": "stream",
     "text": [
      ".."
     ]
    },
    {
     "name": "stderr",
     "output_type": "stream",
     "text": [
      "Warning message:\n",
      "“glm.fit: fitted rates numerically 0 occurred”Warning message:\n",
      "“glm.fit: fitted rates numerically 0 occurred”"
     ]
    },
    {
     "name": "stdout",
     "output_type": "stream",
     "text": [
      "."
     ]
    },
    {
     "name": "stderr",
     "output_type": "stream",
     "text": [
      "Warning message:\n",
      "“glm.fit: fitted rates numerically 0 occurred”Warning message:\n",
      "“glm.fit: fitted rates numerically 0 occurred”Warning message:\n",
      "“glm.fit: fitted rates numerically 0 occurred”"
     ]
    },
    {
     "name": "stdout",
     "output_type": "stream",
     "text": [
      "."
     ]
    },
    {
     "name": "stderr",
     "output_type": "stream",
     "text": [
      "Warning message:\n",
      "“glm.fit: fitted rates numerically 0 occurred”Warning message:\n",
      "“glm.fit: fitted rates numerically 0 occurred”"
     ]
    },
    {
     "name": "stdout",
     "output_type": "stream",
     "text": [
      "..."
     ]
    },
    {
     "name": "stderr",
     "output_type": "stream",
     "text": [
      "Warning message:\n",
      "“glm.fit: fitted rates numerically 0 occurred”Warning message:\n",
      "“glm.fit: fitted rates numerically 0 occurred”"
     ]
    },
    {
     "name": "stdout",
     "output_type": "stream",
     "text": [
      "."
     ]
    },
    {
     "name": "stderr",
     "output_type": "stream",
     "text": [
      "Warning message:\n",
      "“glm.fit: fitted rates numerically 0 occurred”Warning message:\n",
      "“glm.fit: fitted rates numerically 0 occurred”"
     ]
    },
    {
     "name": "stdout",
     "output_type": "stream",
     "text": [
      "."
     ]
    },
    {
     "name": "stderr",
     "output_type": "stream",
     "text": [
      "Warning message:\n",
      "“glm.fit: fitted rates numerically 0 occurred”Warning message:\n",
      "“glm.fit: fitted rates numerically 0 occurred”Warning message:\n",
      "“glm.fit: fitted rates numerically 0 occurred”"
     ]
    },
    {
     "name": "stdout",
     "output_type": "stream",
     "text": [
      ".."
     ]
    },
    {
     "name": "stderr",
     "output_type": "stream",
     "text": [
      "Warning message:\n",
      "“glm.fit: fitted rates numerically 0 occurred”Warning message:\n",
      "“glm.fit: fitted rates numerically 0 occurred”"
     ]
    },
    {
     "name": "stdout",
     "output_type": "stream",
     "text": [
      "."
     ]
    },
    {
     "name": "stderr",
     "output_type": "stream",
     "text": [
      "Warning message:\n",
      "“glm.fit: fitted rates numerically 0 occurred”Warning message:\n",
      "“glm.fit: fitted rates numerically 0 occurred”Warning message:\n",
      "“glm.fit: fitted rates numerically 0 occurred”Warning message:\n",
      "“glm.fit: fitted rates numerically 0 occurred”Warning message:\n",
      "“glm.fit: fitted rates numerically 0 occurred”Warning message:\n",
      "“glm.fit: fitted rates numerically 0 occurred”Warning message:\n",
      "“glm.fit: fitted rates numerically 0 occurred”Warning message:\n",
      "“glm.fit: fitted rates numerically 0 occurred”Warning message:\n",
      "“glm.fit: fitted rates numerically 0 occurred”"
     ]
    },
    {
     "name": "stdout",
     "output_type": "stream",
     "text": [
      "."
     ]
    },
    {
     "name": "stderr",
     "output_type": "stream",
     "text": [
      "Warning message:\n",
      "“glm.fit: fitted rates numerically 0 occurred”Warning message:\n",
      "“glm.fit: fitted rates numerically 0 occurred”"
     ]
    },
    {
     "name": "stdout",
     "output_type": "stream",
     "text": [
      "."
     ]
    },
    {
     "name": "stderr",
     "output_type": "stream",
     "text": [
      "Warning message:\n",
      "“glm.fit: fitted rates numerically 0 occurred”Warning message:\n",
      "“glm.fit: fitted rates numerically 0 occurred”"
     ]
    },
    {
     "name": "stdout",
     "output_type": "stream",
     "text": [
      "..."
     ]
    },
    {
     "name": "stderr",
     "output_type": "stream",
     "text": [
      "Warning message:\n",
      "“glm.fit: fitted rates numerically 0 occurred”Warning message:\n",
      "“glm.fit: fitted rates numerically 0 occurred”Warning message:\n",
      "“glm.fit: fitted rates numerically 0 occurred”"
     ]
    },
    {
     "name": "stdout",
     "output_type": "stream",
     "text": [
      ".."
     ]
    },
    {
     "name": "stderr",
     "output_type": "stream",
     "text": [
      "Warning message:\n",
      "“glm.fit: fitted rates numerically 0 occurred”Warning message:\n",
      "“glm.fit: fitted rates numerically 0 occurred”Warning message:\n",
      "“glm.fit: fitted rates numerically 0 occurred”Warning message:\n",
      "“glm.fit: fitted rates numerically 0 occurred”Warning message:\n",
      "“glm.fit: fitted rates numerically 0 occurred”"
     ]
    },
    {
     "name": "stdout",
     "output_type": "stream",
     "text": [
      "."
     ]
    },
    {
     "name": "stderr",
     "output_type": "stream",
     "text": [
      "Warning message:\n",
      "“glm.fit: fitted rates numerically 0 occurred”"
     ]
    },
    {
     "name": "stdout",
     "output_type": "stream",
     "text": [
      "."
     ]
    },
    {
     "name": "stderr",
     "output_type": "stream",
     "text": [
      "Warning message:\n",
      "“glm.fit: fitted rates numerically 0 occurred”"
     ]
    },
    {
     "name": "stdout",
     "output_type": "stream",
     "text": [
      ".."
     ]
    },
    {
     "name": "stderr",
     "output_type": "stream",
     "text": [
      "Warning message:\n",
      "“glm.fit: fitted rates numerically 0 occurred”Warning message:\n",
      "“glm.fit: fitted rates numerically 0 occurred”"
     ]
    },
    {
     "name": "stdout",
     "output_type": "stream",
     "text": [
      ".."
     ]
    },
    {
     "name": "stderr",
     "output_type": "stream",
     "text": [
      "Warning message:\n",
      "“glm.fit: fitted rates numerically 0 occurred”Warning message:\n",
      "“glm.fit: fitted rates numerically 0 occurred”Warning message:\n",
      "“glm.fit: fitted rates numerically 0 occurred”Warning message:\n",
      "“glm.fit: fitted rates numerically 0 occurred”Warning message:\n",
      "“glm.fit: fitted rates numerically 0 occurred”Warning message:\n",
      "“glm.fit: fitted rates numerically 0 occurred”Warning message:\n",
      "“glm.fit: fitted rates numerically 0 occurred”Warning message:\n",
      "“glm.fit: fitted rates numerically 0 occurred”"
     ]
    },
    {
     "name": "stdout",
     "output_type": "stream",
     "text": [
      ".."
     ]
    },
    {
     "name": "stderr",
     "output_type": "stream",
     "text": [
      "Warning message:\n",
      "“glm.fit: fitted rates numerically 0 occurred”Warning message:\n",
      "“glm.fit: fitted rates numerically 0 occurred”Warning message:\n",
      "“glm.fit: fitted rates numerically 0 occurred”Warning message:\n",
      "“glm.fit: fitted rates numerically 0 occurred”Warning message:\n",
      "“glm.fit: fitted rates numerically 0 occurred”Warning message:\n",
      "“glm.fit: fitted rates numerically 0 occurred”Warning message:\n",
      "“glm.fit: fitted rates numerically 0 occurred”Warning message:\n",
      "“glm.fit: fitted rates numerically 0 occurred”Warning message:\n",
      "“glm.fit: fitted rates numerically 0 occurred”Warning message:\n",
      "“glm.fit: fitted rates numerically 0 occurred”Warning message:\n",
      "“glm.fit: fitted rates numerically 0 occurred”"
     ]
    },
    {
     "name": "stdout",
     "output_type": "stream",
     "text": [
      ".."
     ]
    },
    {
     "name": "stderr",
     "output_type": "stream",
     "text": [
      "Warning message:\n",
      "“glm.fit: fitted rates numerically 0 occurred”Warning message:\n",
      "“glm.fit: fitted rates numerically 0 occurred”Warning message:\n",
      "“glm.fit: fitted rates numerically 0 occurred”Warning message:\n",
      "“glm.fit: fitted rates numerically 0 occurred”Warning message:\n",
      "“glm.fit: fitted rates numerically 0 occurred”Warning message:\n",
      "“glm.fit: fitted rates numerically 0 occurred”Warning message:\n",
      "“glm.fit: fitted rates numerically 0 occurred”Warning message:\n",
      "“glm.fit: fitted rates numerically 0 occurred”Warning message:\n",
      "“glm.fit: fitted rates numerically 0 occurred”Warning message:\n",
      "“glm.fit: fitted rates numerically 0 occurred”Warning message:\n",
      "“glm.fit: fitted rates numerically 0 occurred”Warning message:\n",
      "“glm.fit: fitted rates numerically 0 occurred”Warning message:\n",
      "“glm.fit: fitted rates numerically 0 occurred”Warning message:\n",
      "“glm.fit: fitted rates numerically 0 occurred”Warning message:\n",
      "“glm.fit: fitted rates numerically 0 occurred”Warning message:\n",
      "“glm.fit: fitted rates numerically 0 occurred”Warning message:\n",
      "“glm.fit: fitted rates numerically 0 occurred”Warning message:\n",
      "“glm.fit: fitted rates numerically 0 occurred”Warning message:\n",
      "“glm.fit: fitted rates numerically 0 occurred”Warning message:\n",
      "“glm.fit: fitted rates numerically 0 occurred”Warning message:\n",
      "“glm.fit: fitted rates numerically 0 occurred”Warning message:\n",
      "“glm.fit: fitted rates numerically 0 occurred”Warning message:\n",
      "“glm.fit: fitted rates numerically 0 occurred”Warning message:\n",
      "“glm.fit: fitted rates numerically 0 occurred”Warning message:\n",
      "“glm.fit: fitted rates numerically 0 occurred”Warning message:\n",
      "“glm.fit: fitted rates numerically 0 occurred”Warning message:\n",
      "“glm.fit: fitted rates numerically 0 occurred”Warning message:\n",
      "“glm.fit: fitted rates numerically 0 occurred”Warning message:\n",
      "“glm.fit: fitted rates numerically 0 occurred”Warning message:\n",
      "“glm.fit: fitted rates numerically 0 occurred”Warning message:\n",
      "“glm.fit: fitted rates numerically 0 occurred”Warning message:\n",
      "“glm.fit: fitted rates numerically 0 occurred”Warning message:\n",
      "“glm.fit: fitted rates numerically 0 occurred”Warning message:\n",
      "“glm.fit: fitted rates numerically 0 occurred”Warning message:\n",
      "“glm.fit: fitted rates numerically 0 occurred”Warning message:\n",
      "“glm.fit: fitted rates numerically 0 occurred”Warning message:\n",
      "“glm.fit: fitted rates numerically 0 occurred”Warning message:\n",
      "“glm.fit: fitted rates numerically 0 occurred”Warning message:\n",
      "“glm.fit: fitted rates numerically 0 occurred”Warning message:\n",
      "“glm.fit: fitted rates numerically 0 occurred”Warning message:\n",
      "“glm.fit: fitted rates numerically 0 occurred”Warning message:\n",
      "“glm.fit: fitted rates numerically 0 occurred”Warning message:\n",
      "“glm.fit: fitted rates numerically 0 occurred”Warning message:\n",
      "“glm.fit: fitted rates numerically 0 occurred”Warning message:\n",
      "“glm.fit: fitted rates numerically 0 occurred”Warning message:\n",
      "“glm.fit: fitted rates numerically 0 occurred”Warning message:\n",
      "“glm.fit: fitted rates numerically 0 occurred”Warning message:\n",
      "“glm.fit: fitted rates numerically 0 occurred”Warning message:\n",
      "“glm.fit: fitted rates numerically 0 occurred”Warning message:\n",
      "“glm.fit: fitted rates numerically 0 occurred”Warning message:\n",
      "“glm.fit: fitted rates numerically 0 occurred”Warning message:\n",
      "“glm.fit: fitted rates numerically 0 occurred”Warning message:\n",
      "“glm.fit: fitted rates numerically 0 occurred”"
     ]
    },
    {
     "name": "stdout",
     "output_type": "stream",
     "text": [
      "."
     ]
    },
    {
     "name": "stderr",
     "output_type": "stream",
     "text": [
      "Warning message:\n",
      "“glm.fit: fitted rates numerically 0 occurred”Warning message:\n",
      "“glm.fit: fitted rates numerically 0 occurred”Warning message:\n",
      "“glm.fit: fitted rates numerically 0 occurred”Warning message:\n",
      "“glm.fit: fitted rates numerically 0 occurred”Warning message:\n",
      "“glm.fit: fitted rates numerically 0 occurred”Warning message:\n",
      "“glm.fit: fitted rates numerically 0 occurred”Warning message:\n",
      "“glm.fit: fitted rates numerically 0 occurred”"
     ]
    },
    {
     "name": "stdout",
     "output_type": "stream",
     "text": [
      "...."
     ]
    },
    {
     "name": "stderr",
     "output_type": "stream",
     "text": [
      "Warning message:\n",
      "“glm.fit: fitted rates numerically 0 occurred”Warning message:\n",
      "“glm.fit: fitted rates numerically 0 occurred”Warning message:\n",
      "“glm.fit: fitted rates numerically 0 occurred”Warning message:\n",
      "“glm.fit: fitted rates numerically 0 occurred”"
     ]
    },
    {
     "name": "stdout",
     "output_type": "stream",
     "text": [
      "."
     ]
    },
    {
     "name": "stderr",
     "output_type": "stream",
     "text": [
      "Warning message:\n",
      "“glm.fit: fitted rates numerically 0 occurred”Warning message:\n",
      "“glm.fit: fitted rates numerically 0 occurred”"
     ]
    },
    {
     "name": "stdout",
     "output_type": "stream",
     "text": [
      "."
     ]
    },
    {
     "name": "stderr",
     "output_type": "stream",
     "text": [
      "Warning message:\n",
      "“glm.fit: fitted rates numerically 0 occurred”"
     ]
    },
    {
     "name": "stdout",
     "output_type": "stream",
     "text": [
      "."
     ]
    },
    {
     "name": "stderr",
     "output_type": "stream",
     "text": [
      "Warning message:\n",
      "“glm.fit: fitted rates numerically 0 occurred”Warning message:\n",
      "“glm.fit: fitted rates numerically 0 occurred”"
     ]
    },
    {
     "name": "stdout",
     "output_type": "stream",
     "text": [
      "."
     ]
    },
    {
     "name": "stderr",
     "output_type": "stream",
     "text": [
      "Warning message:\n",
      "“glm.fit: fitted rates numerically 0 occurred”Warning message:\n",
      "“glm.fit: fitted rates numerically 0 occurred”Warning message:\n",
      "“glm.fit: fitted rates numerically 0 occurred”Warning message:\n",
      "“glm.fit: fitted rates numerically 0 occurred”Warning message:\n",
      "“glm.fit: fitted rates numerically 0 occurred”Warning message:\n",
      "“glm.fit: fitted rates numerically 0 occurred”"
     ]
    },
    {
     "name": "stdout",
     "output_type": "stream",
     "text": [
      ".."
     ]
    },
    {
     "name": "stderr",
     "output_type": "stream",
     "text": [
      "Warning message:\n",
      "“glm.fit: fitted rates numerically 0 occurred”Warning message:\n",
      "“glm.fit: fitted rates numerically 0 occurred”"
     ]
    },
    {
     "name": "stdout",
     "output_type": "stream",
     "text": [
      "."
     ]
    },
    {
     "name": "stderr",
     "output_type": "stream",
     "text": [
      "Warning message:\n",
      "“glm.fit: fitted rates numerically 0 occurred”Warning message:\n",
      "“glm.fit: fitted rates numerically 0 occurred”Warning message:\n",
      "“glm.fit: fitted rates numerically 0 occurred”Warning message:\n",
      "“glm.fit: fitted rates numerically 0 occurred”Warning message:\n",
      "“glm.fit: fitted rates numerically 0 occurred”Warning message:\n",
      "“glm.fit: fitted rates numerically 0 occurred”Warning message:\n",
      "“glm.fit: fitted rates numerically 0 occurred”Warning message:\n",
      "“glm.fit: fitted rates numerically 0 occurred”Warning message:\n",
      "“glm.fit: fitted rates numerically 0 occurred”Warning message:\n",
      "“glm.fit: fitted rates numerically 0 occurred”Warning message:\n",
      "“glm.fit: fitted rates numerically 0 occurred”Warning message:\n",
      "“glm.fit: fitted rates numerically 0 occurred”"
     ]
    },
    {
     "name": "stdout",
     "output_type": "stream",
     "text": [
      "."
     ]
    },
    {
     "name": "stderr",
     "output_type": "stream",
     "text": [
      "Warning message:\n",
      "“glm.fit: fitted rates numerically 0 occurred”Warning message:\n",
      "“glm.fit: fitted rates numerically 0 occurred”Warning message:\n",
      "“glm.fit: fitted rates numerically 0 occurred”Warning message:\n",
      "“glm.fit: fitted rates numerically 0 occurred”"
     ]
    },
    {
     "name": "stdout",
     "output_type": "stream",
     "text": [
      ".."
     ]
    },
    {
     "name": "stderr",
     "output_type": "stream",
     "text": [
      "Warning message:\n",
      "“glm.fit: fitted rates numerically 0 occurred”Warning message:\n",
      "“glm.fit: fitted rates numerically 0 occurred”Warning message:\n",
      "“glm.fit: fitted rates numerically 0 occurred”Warning message:\n",
      "“glm.fit: fitted rates numerically 0 occurred”Warning message:\n",
      "“glm.fit: fitted rates numerically 0 occurred”Warning message:\n",
      "“glm.fit: fitted rates numerically 0 occurred”Warning message:\n",
      "“glm.fit: fitted rates numerically 0 occurred”Warning message:\n",
      "“glm.fit: fitted rates numerically 0 occurred”Warning message:\n",
      "“glm.fit: fitted rates numerically 0 occurred”Warning message:\n",
      "“glm.fit: fitted rates numerically 0 occurred”Warning message:\n",
      "“glm.fit: fitted rates numerically 0 occurred”Warning message:\n",
      "“glm.fit: fitted rates numerically 0 occurred”Warning message:\n",
      "“glm.fit: fitted rates numerically 0 occurred”Warning message:\n",
      "“glm.fit: fitted rates numerically 0 occurred”Warning message:\n",
      "“glm.fit: fitted rates numerically 0 occurred”"
     ]
    },
    {
     "name": "stdout",
     "output_type": "stream",
     "text": [
      ".."
     ]
    },
    {
     "name": "stderr",
     "output_type": "stream",
     "text": [
      "Warning message:\n",
      "“glm.fit: fitted rates numerically 0 occurred”Warning message:\n",
      "“glm.fit: fitted rates numerically 0 occurred”Warning message:\n",
      "“glm.fit: fitted rates numerically 0 occurred”Warning message:\n",
      "“glm.fit: fitted rates numerically 0 occurred”Warning message:\n",
      "“glm.fit: fitted rates numerically 0 occurred”Warning message:\n",
      "“glm.fit: fitted rates numerically 0 occurred”Warning message:\n",
      "“glm.fit: fitted rates numerically 0 occurred”Warning message:\n",
      "“glm.fit: fitted rates numerically 0 occurred”Warning message:\n",
      "“glm.fit: fitted rates numerically 0 occurred”"
     ]
    },
    {
     "name": "stdout",
     "output_type": "stream",
     "text": [
      "."
     ]
    },
    {
     "name": "stderr",
     "output_type": "stream",
     "text": [
      "Warning message:\n",
      "“glm.fit: fitted rates numerically 0 occurred”Warning message:\n",
      "“glm.fit: fitted rates numerically 0 occurred”"
     ]
    },
    {
     "name": "stdout",
     "output_type": "stream",
     "text": [
      "."
     ]
    },
    {
     "name": "stderr",
     "output_type": "stream",
     "text": [
      "Warning message:\n",
      "“glm.fit: fitted rates numerically 0 occurred”"
     ]
    },
    {
     "name": "stdout",
     "output_type": "stream",
     "text": [
      "."
     ]
    },
    {
     "name": "stderr",
     "output_type": "stream",
     "text": [
      "Warning message:\n",
      "“glm.fit: fitted rates numerically 0 occurred”Warning message:\n",
      "“glm.fit: fitted rates numerically 0 occurred”"
     ]
    },
    {
     "name": "stdout",
     "output_type": "stream",
     "text": [
      "."
     ]
    },
    {
     "name": "stderr",
     "output_type": "stream",
     "text": [
      "Warning message:\n",
      "“glm.fit: fitted rates numerically 0 occurred”Warning message:\n",
      "“glm.fit: fitted rates numerically 0 occurred”"
     ]
    },
    {
     "name": "stdout",
     "output_type": "stream",
     "text": [
      "."
     ]
    },
    {
     "name": "stderr",
     "output_type": "stream",
     "text": [
      "Warning message:\n",
      "“glm.fit: fitted rates numerically 0 occurred”Warning message:\n",
      "“glm.fit: fitted rates numerically 0 occurred”Warning message:\n",
      "“glm.fit: fitted rates numerically 0 occurred”Warning message:\n",
      "“glm.fit: fitted rates numerically 0 occurred”Warning message:\n",
      "“glm.fit: fitted rates numerically 0 occurred”Warning message:\n",
      "“glm.fit: fitted rates numerically 0 occurred”"
     ]
    },
    {
     "name": "stdout",
     "output_type": "stream",
     "text": [
      "."
     ]
    },
    {
     "name": "stderr",
     "output_type": "stream",
     "text": [
      "Warning message:\n",
      "“glm.fit: fitted rates numerically 0 occurred”Warning message:\n",
      "“glm.fit: fitted rates numerically 0 occurred”Warning message:\n",
      "“glm.fit: fitted rates numerically 0 occurred”Warning message:\n",
      "“glm.fit: fitted rates numerically 0 occurred”"
     ]
    },
    {
     "name": "stdout",
     "output_type": "stream",
     "text": [
      "......"
     ]
    },
    {
     "name": "stderr",
     "output_type": "stream",
     "text": [
      "Warning message:\n",
      "“glm.fit: fitted rates numerically 0 occurred”Warning message:\n",
      "“glm.fit: fitted rates numerically 0 occurred”Warning message:\n",
      "“glm.fit: fitted rates numerically 0 occurred”"
     ]
    },
    {
     "name": "stdout",
     "output_type": "stream",
     "text": [
      "."
     ]
    },
    {
     "name": "stderr",
     "output_type": "stream",
     "text": [
      "Warning message:\n",
      "“glm.fit: fitted rates numerically 0 occurred”Warning message:\n",
      "“glm.fit: fitted rates numerically 0 occurred”"
     ]
    },
    {
     "name": "stdout",
     "output_type": "stream",
     "text": [
      "."
     ]
    },
    {
     "name": "stderr",
     "output_type": "stream",
     "text": [
      "Warning message:\n",
      "“glm.fit: fitted rates numerically 0 occurred”Warning message:\n",
      "“glm.fit: fitted rates numerically 0 occurred”Warning message:\n",
      "“glm.fit: fitted rates numerically 0 occurred”Warning message:\n",
      "“glm.fit: fitted rates numerically 0 occurred”Warning message:\n",
      "“glm.fit: fitted rates numerically 0 occurred”Warning message:\n",
      "“glm.fit: fitted rates numerically 0 occurred”Warning message:\n",
      "“glm.fit: fitted rates numerically 0 occurred”Warning message:\n",
      "“glm.fit: fitted rates numerically 0 occurred”"
     ]
    },
    {
     "name": "stdout",
     "output_type": "stream",
     "text": [
      "."
     ]
    },
    {
     "name": "stderr",
     "output_type": "stream",
     "text": [
      "Warning message:\n",
      "“glm.fit: fitted rates numerically 0 occurred”Warning message:\n",
      "“glm.fit: fitted rates numerically 0 occurred”Warning message:\n",
      "“glm.fit: fitted rates numerically 0 occurred”Warning message:\n",
      "“glm.fit: fitted rates numerically 0 occurred”Warning message:\n",
      "“glm.fit: fitted rates numerically 0 occurred”Warning message:\n",
      "“glm.fit: fitted rates numerically 0 occurred”"
     ]
    },
    {
     "name": "stdout",
     "output_type": "stream",
     "text": [
      "."
     ]
    },
    {
     "name": "stderr",
     "output_type": "stream",
     "text": [
      "Warning message:\n",
      "“glm.fit: fitted rates numerically 0 occurred”Warning message:\n",
      "“glm.fit: fitted rates numerically 0 occurred”"
     ]
    },
    {
     "name": "stdout",
     "output_type": "stream",
     "text": [
      "..."
     ]
    },
    {
     "name": "stderr",
     "output_type": "stream",
     "text": [
      "Warning message:\n",
      "“glm.fit: fitted rates numerically 0 occurred”Warning message:\n",
      "“glm.fit: fitted rates numerically 0 occurred”"
     ]
    },
    {
     "name": "stdout",
     "output_type": "stream",
     "text": [
      ".."
     ]
    },
    {
     "name": "stderr",
     "output_type": "stream",
     "text": [
      "Warning message:\n",
      "“glm.fit: fitted rates numerically 0 occurred”Warning message:\n",
      "“glm.fit: fitted rates numerically 0 occurred”Warning message:\n",
      "“glm.fit: fitted rates numerically 0 occurred”Warning message:\n",
      "“glm.fit: fitted rates numerically 0 occurred”Warning message:\n",
      "“glm.fit: fitted rates numerically 0 occurred”"
     ]
    },
    {
     "name": "stdout",
     "output_type": "stream",
     "text": [
      "..."
     ]
    },
    {
     "name": "stderr",
     "output_type": "stream",
     "text": [
      "Warning message:\n",
      "“glm.fit: fitted rates numerically 0 occurred”Warning message:\n",
      "“glm.fit: fitted rates numerically 0 occurred”"
     ]
    },
    {
     "name": "stdout",
     "output_type": "stream",
     "text": [
      "..."
     ]
    },
    {
     "name": "stderr",
     "output_type": "stream",
     "text": [
      "Warning message:\n",
      "“glm.fit: fitted rates numerically 0 occurred”Warning message:\n",
      "“glm.fit: fitted rates numerically 0 occurred”"
     ]
    },
    {
     "name": "stdout",
     "output_type": "stream",
     "text": [
      "."
     ]
    },
    {
     "name": "stderr",
     "output_type": "stream",
     "text": [
      "Warning message:\n",
      "“glm.fit: fitted rates numerically 0 occurred”Warning message:\n",
      "“glm.fit: fitted rates numerically 0 occurred”"
     ]
    },
    {
     "name": "stdout",
     "output_type": "stream",
     "text": [
      "."
     ]
    },
    {
     "name": "stderr",
     "output_type": "stream",
     "text": [
      "Warning message:\n",
      "“glm.fit: fitted rates numerically 0 occurred”Warning message:\n",
      "“glm.fit: fitted rates numerically 0 occurred”Warning message:\n",
      "“glm.fit: fitted rates numerically 0 occurred”Warning message:\n",
      "“glm.fit: fitted rates numerically 0 occurred”Warning message:\n",
      "“glm.fit: fitted rates numerically 0 occurred”"
     ]
    },
    {
     "name": "stdout",
     "output_type": "stream",
     "text": [
      "."
     ]
    },
    {
     "name": "stderr",
     "output_type": "stream",
     "text": [
      "Warning message:\n",
      "“glm.fit: fitted rates numerically 0 occurred”Warning message:\n",
      "“glm.fit: fitted rates numerically 0 occurred”"
     ]
    },
    {
     "name": "stdout",
     "output_type": "stream",
     "text": [
      "."
     ]
    },
    {
     "name": "stderr",
     "output_type": "stream",
     "text": [
      "Warning message:\n",
      "“glm.fit: fitted rates numerically 0 occurred”Warning message:\n",
      "“glm.fit: fitted rates numerically 0 occurred”Warning message:\n",
      "“glm.fit: fitted rates numerically 0 occurred”"
     ]
    },
    {
     "name": "stdout",
     "output_type": "stream",
     "text": [
      "."
     ]
    },
    {
     "name": "stderr",
     "output_type": "stream",
     "text": [
      "Warning message:\n",
      "“glm.fit: fitted rates numerically 0 occurred”Warning message:\n",
      "“glm.fit: fitted rates numerically 0 occurred”Warning message:\n",
      "“glm.fit: fitted rates numerically 0 occurred”Warning message:\n",
      "“glm.fit: fitted rates numerically 0 occurred”Warning message:\n",
      "“glm.fit: fitted rates numerically 0 occurred”"
     ]
    },
    {
     "name": "stdout",
     "output_type": "stream",
     "text": [
      ".."
     ]
    },
    {
     "name": "stderr",
     "output_type": "stream",
     "text": [
      "Warning message:\n",
      "“glm.fit: fitted rates numerically 0 occurred”Warning message:\n",
      "“glm.fit: fitted rates numerically 0 occurred”Warning message:\n",
      "“glm.fit: fitted rates numerically 0 occurred”Warning message:\n",
      "“glm.fit: fitted rates numerically 0 occurred”Warning message:\n",
      "“glm.fit: fitted rates numerically 0 occurred”Warning message:\n",
      "“glm.fit: fitted rates numerically 0 occurred”Warning message:\n",
      "“glm.fit: fitted rates numerically 0 occurred”Warning message:\n",
      "“glm.fit: fitted rates numerically 0 occurred”"
     ]
    },
    {
     "name": "stdout",
     "output_type": "stream",
     "text": [
      "."
     ]
    },
    {
     "name": "stderr",
     "output_type": "stream",
     "text": [
      "Warning message:\n",
      "“glm.fit: fitted rates numerically 0 occurred”Warning message:\n",
      "“glm.fit: fitted rates numerically 0 occurred”Warning message:\n",
      "“glm.fit: fitted rates numerically 0 occurred”Warning message:\n",
      "“glm.fit: fitted rates numerically 0 occurred”Warning message:\n",
      "“glm.fit: fitted rates numerically 0 occurred”Warning message:\n",
      "“glm.fit: fitted rates numerically 0 occurred”Warning message:\n",
      "“glm.fit: fitted rates numerically 0 occurred”Warning message:\n",
      "“glm.fit: fitted rates numerically 0 occurred”Warning message:\n",
      "“glm.fit: fitted rates numerically 0 occurred”Warning message:\n",
      "“glm.fit: fitted rates numerically 0 occurred”Warning message:\n",
      "“glm.fit: fitted rates numerically 0 occurred”Warning message:\n",
      "“glm.fit: fitted rates numerically 0 occurred”Warning message:\n",
      "“glm.fit: fitted rates numerically 0 occurred”Warning message:\n",
      "“glm.fit: fitted rates numerically 0 occurred”Warning message:\n",
      "“glm.fit: fitted rates numerically 0 occurred”Warning message:\n",
      "“glm.fit: fitted rates numerically 0 occurred”Warning message:\n",
      "“glm.fit: fitted rates numerically 0 occurred”Warning message:\n",
      "“glm.fit: fitted rates numerically 0 occurred”Warning message:\n",
      "“glm.fit: fitted rates numerically 0 occurred”Warning message:\n",
      "“glm.fit: fitted rates numerically 0 occurred”Warning message:\n",
      "“glm.fit: fitted rates numerically 0 occurred”Warning message:\n",
      "“glm.fit: fitted rates numerically 0 occurred”"
     ]
    },
    {
     "name": "stdout",
     "output_type": "stream",
     "text": [
      "."
     ]
    },
    {
     "name": "stderr",
     "output_type": "stream",
     "text": [
      "Warning message:\n",
      "“glm.fit: fitted rates numerically 0 occurred”Warning message:\n",
      "“glm.fit: fitted rates numerically 0 occurred”"
     ]
    },
    {
     "name": "stdout",
     "output_type": "stream",
     "text": [
      "."
     ]
    },
    {
     "name": "stderr",
     "output_type": "stream",
     "text": [
      "Warning message:\n",
      "“glm.fit: fitted rates numerically 0 occurred”Warning message:\n",
      "“glm.fit: fitted rates numerically 0 occurred”Warning message:\n",
      "“glm.fit: fitted rates numerically 0 occurred”Warning message:\n",
      "“glm.fit: fitted rates numerically 0 occurred”Warning message:\n",
      "“glm.fit: fitted rates numerically 0 occurred”Warning message:\n",
      "“glm.fit: fitted rates numerically 0 occurred”"
     ]
    },
    {
     "name": "stdout",
     "output_type": "stream",
     "text": [
      "..."
     ]
    },
    {
     "name": "stderr",
     "output_type": "stream",
     "text": [
      "Warning message:\n",
      "“glm.fit: fitted rates numerically 0 occurred”Warning message:\n",
      "“glm.fit: fitted rates numerically 0 occurred”"
     ]
    },
    {
     "name": "stdout",
     "output_type": "stream",
     "text": [
      "."
     ]
    },
    {
     "name": "stderr",
     "output_type": "stream",
     "text": [
      "Warning message:\n",
      "“glm.fit: fitted rates numerically 0 occurred”Warning message:\n",
      "“glm.fit: fitted rates numerically 0 occurred”"
     ]
    },
    {
     "name": "stdout",
     "output_type": "stream",
     "text": [
      "."
     ]
    },
    {
     "name": "stderr",
     "output_type": "stream",
     "text": [
      "Warning message:\n",
      "“glm.fit: fitted rates numerically 0 occurred”Warning message:\n",
      "“glm.fit: fitted rates numerically 0 occurred”Warning message:\n",
      "“glm.fit: fitted rates numerically 0 occurred”Warning message:\n",
      "“glm.fit: fitted rates numerically 0 occurred”Warning message:\n",
      "“glm.fit: fitted rates numerically 0 occurred”"
     ]
    },
    {
     "name": "stdout",
     "output_type": "stream",
     "text": [
      "."
     ]
    },
    {
     "name": "stderr",
     "output_type": "stream",
     "text": [
      "Warning message:\n",
      "“glm.fit: fitted rates numerically 0 occurred”"
     ]
    },
    {
     "name": "stdout",
     "output_type": "stream",
     "text": [
      "."
     ]
    },
    {
     "name": "stderr",
     "output_type": "stream",
     "text": [
      "Warning message:\n",
      "“glm.fit: fitted rates numerically 0 occurred”Warning message:\n",
      "“glm.fit: fitted rates numerically 0 occurred”Warning message:\n",
      "“glm.fit: fitted rates numerically 0 occurred”Warning message:\n",
      "“glm.fit: fitted rates numerically 0 occurred”Warning message:\n",
      "“glm.fit: fitted rates numerically 0 occurred”Warning message:\n",
      "“glm.fit: fitted rates numerically 0 occurred”Warning message:\n",
      "“glm.fit: fitted rates numerically 0 occurred”Warning message:\n",
      "“glm.fit: fitted rates numerically 0 occurred”Warning message:\n",
      "“glm.fit: fitted rates numerically 0 occurred”"
     ]
    }
   ],
   "source": [
    "# run ActiveDriver\n",
    "psnv_info = ActiveDriver(seqs, disorder, muts, sites)"
   ]
  },
  {
   "cell_type": "code",
   "execution_count": null,
   "metadata": {
    "ExecuteTime": {
     "end_time": "2019-08-07T13:43:28.578200Z",
     "start_time": "2019-08-07T13:43:28.544Z"
    }
   },
   "outputs": [],
   "source": [
    "# save gene-based p-values and merged report as CSV files\n",
    "write.csv(psnv_info$all_gene_based_fdr, \"pancan12_results_pvals.csv\")\n",
    "write.csv(psnv_info$merged_report, \"pancan12_results_merged.csv\")"
   ]
  },
  {
   "cell_type": "code",
   "execution_count": null,
   "metadata": {
    "ExecuteTime": {
     "end_time": "2019-08-07T13:43:29.123073Z",
     "start_time": "2019-08-07T13:43:29.043Z"
    }
   },
   "outputs": [],
   "source": [
    "# look at first few lines of every table in results\n",
    "lapply(psnv_info, head)"
   ]
  },
  {
   "cell_type": "code",
   "execution_count": null,
   "metadata": {
    "ExecuteTime": {
     "end_time": "2019-08-07T13:46:17.100313Z",
     "start_time": "2019-08-07T13:46:16.984Z"
    }
   },
   "outputs": [],
   "source": [
    "psnv_info$merged_report"
   ]
  },
  {
   "cell_type": "code",
   "execution_count": null,
   "metadata": {},
   "outputs": [],
   "source": []
  }
 ],
 "metadata": {
  "kernelspec": {
   "display_name": "R",
   "language": "R",
   "name": "ir"
  },
  "language_info": {
   "codemirror_mode": "r",
   "file_extension": ".r",
   "mimetype": "text/x-r-source",
   "name": "R",
   "pygments_lexer": "r",
   "version": "3.5.1"
  }
 },
 "nbformat": 4,
 "nbformat_minor": 2
}
