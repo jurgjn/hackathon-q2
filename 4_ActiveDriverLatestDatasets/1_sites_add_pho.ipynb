{
 "cells": [
  {
   "cell_type": "code",
   "execution_count": 1,
   "metadata": {
    "ExecuteTime": {
     "end_time": "2019-08-08T15:43:50.432049Z",
     "start_time": "2019-08-08T15:43:48.544Z"
    }
   },
   "outputs": [],
   "source": [
    "library(ActiveDriver)\n",
    "muts <- read.delim(\"../3_ActiveDriverMSB2013/all_mutations.tab\", sep=\" \")\n",
    "sites <- read.delim(\"../3_ActiveDriverMSB2013/all_phosphosites.tab\", sep=\" \")\n",
    "seqs <- read_fasta(\"../3_ActiveDriverMSB2013/all_proteins.fa\")\n",
    "disorder <- read_fasta(\"../3_ActiveDriverMSB2013/disorder_all_proteins.fa\")"
   ]
  },
  {
   "cell_type": "code",
   "execution_count": 2,
   "metadata": {
    "ExecuteTime": {
     "end_time": "2019-08-08T15:43:50.512040Z",
     "start_time": "2019-08-08T15:43:48.546Z"
    }
   },
   "outputs": [
    {
     "data": {
      "text/html": [
       "<table>\n",
       "<caption>A data.frame: 6 × 4</caption>\n",
       "<thead>\n",
       "\t<tr><th></th><th scope=col>gene</th><th scope=col>position</th><th scope=col>residue</th><th scope=col>kinase</th></tr>\n",
       "\t<tr><th></th><th scope=col>&lt;fct&gt;</th><th scope=col>&lt;int&gt;</th><th scope=col>&lt;fct&gt;</th><th scope=col>&lt;fct&gt;</th></tr>\n",
       "</thead>\n",
       "<tbody>\n",
       "\t<tr><th scope=row>SAMD11.169</th><td>SAMD11</td><td>169</td><td>S</td><td></td></tr>\n",
       "\t<tr><th scope=row>SAMD11.171</th><td>SAMD11</td><td>171</td><td>S</td><td></td></tr>\n",
       "\t<tr><th scope=row>SAMD11.640</th><td>SAMD11</td><td>640</td><td>S</td><td></td></tr>\n",
       "\t<tr><th scope=row>SAMD11.643</th><td>SAMD11</td><td>643</td><td>T</td><td></td></tr>\n",
       "\t<tr><th scope=row>NOC2L.22</th><td>NOC2L </td><td> 22</td><td>S</td><td></td></tr>\n",
       "\t<tr><th scope=row>NOC2L.26</th><td>NOC2L </td><td> 26</td><td>S</td><td></td></tr>\n",
       "</tbody>\n",
       "</table>\n"
      ],
      "text/latex": [
       "A data.frame: 6 × 4\n",
       "\\begin{tabular}{r|llll}\n",
       "  & gene & position & residue & kinase\\\\\n",
       "  & <fct> & <int> & <fct> & <fct>\\\\\n",
       "\\hline\n",
       "\tSAMD11.169 & SAMD11 & 169 & S & \\\\\n",
       "\tSAMD11.171 & SAMD11 & 171 & S & \\\\\n",
       "\tSAMD11.640 & SAMD11 & 640 & S & \\\\\n",
       "\tSAMD11.643 & SAMD11 & 643 & T & \\\\\n",
       "\tNOC2L.22 & NOC2L  &  22 & S & \\\\\n",
       "\tNOC2L.26 & NOC2L  &  26 & S & \\\\\n",
       "\\end{tabular}\n"
      ],
      "text/markdown": [
       "\n",
       "A data.frame: 6 × 4\n",
       "\n",
       "| <!--/--> | gene &lt;fct&gt; | position &lt;int&gt; | residue &lt;fct&gt; | kinase &lt;fct&gt; |\n",
       "|---|---|---|---|---|\n",
       "| SAMD11.169 | SAMD11 | 169 | S | <!----> |\n",
       "| SAMD11.171 | SAMD11 | 171 | S | <!----> |\n",
       "| SAMD11.640 | SAMD11 | 640 | S | <!----> |\n",
       "| SAMD11.643 | SAMD11 | 643 | T | <!----> |\n",
       "| NOC2L.22 | NOC2L  |  22 | S | <!----> |\n",
       "| NOC2L.26 | NOC2L  |  26 | S | <!----> |\n",
       "\n"
      ],
      "text/plain": [
       "           gene   position residue kinase\n",
       "SAMD11.169 SAMD11 169      S             \n",
       "SAMD11.171 SAMD11 171      S             \n",
       "SAMD11.640 SAMD11 640      S             \n",
       "SAMD11.643 SAMD11 643      T             \n",
       "NOC2L.22   NOC2L   22      S             \n",
       "NOC2L.26   NOC2L   26      S             "
      ]
     },
     "metadata": {},
     "output_type": "display_data"
    }
   ],
   "source": [
    "head(sites)"
   ]
  },
  {
   "cell_type": "code",
   "execution_count": 3,
   "metadata": {
    "ExecuteTime": {
     "end_time": "2019-08-08T15:43:50.539299Z",
     "start_time": "2019-08-08T15:43:48.548Z"
    }
   },
   "outputs": [
    {
     "data": {
      "text/html": [
       "<ol class=list-inline>\n",
       "\t<li>3116</li>\n",
       "\t<li>4</li>\n",
       "</ol>\n"
      ],
      "text/latex": [
       "\\begin{enumerate*}\n",
       "\\item 3116\n",
       "\\item 4\n",
       "\\end{enumerate*}\n"
      ],
      "text/markdown": [
       "1. 3116\n",
       "2. 4\n",
       "\n",
       "\n"
      ],
      "text/plain": [
       "[1] 3116    4"
      ]
     },
     "metadata": {},
     "output_type": "display_data"
    },
    {
     "data": {
      "text/html": [
       "<table>\n",
       "<caption>A matrix: 6 × 4 of type chr</caption>\n",
       "<thead>\n",
       "\t<tr><th scope=col>IDpos</th><th scope=col>uniprot</th><th scope=col>position</th><th scope=col>residue</th></tr>\n",
       "</thead>\n",
       "<tbody>\n",
       "\t<tr><td>A1A4S6_374</td><td>A1A4S6</td><td>374</td><td>S</td></tr>\n",
       "\t<tr><td>A1A4S6_376</td><td>A1A4S6</td><td>376</td><td>S</td></tr>\n",
       "\t<tr><td>A1A4S6_586</td><td>A1A4S6</td><td>586</td><td>T</td></tr>\n",
       "\t<tr><td>A1A4S6_589</td><td>A1A4S6</td><td>589</td><td>S</td></tr>\n",
       "\t<tr><td>A1A4S6_591</td><td>A1A4S6</td><td>591</td><td>S</td></tr>\n",
       "\t<tr><td>A1A4S6_600</td><td>A1A4S6</td><td>600</td><td>S</td></tr>\n",
       "</tbody>\n",
       "</table>\n"
      ],
      "text/latex": [
       "A matrix: 6 × 4 of type chr\n",
       "\\begin{tabular}{llll}\n",
       " IDpos & uniprot & position & residue\\\\\n",
       "\\hline\n",
       "\t A1A4S6\\_374 & A1A4S6 & 374 & S\\\\\n",
       "\t A1A4S6\\_376 & A1A4S6 & 376 & S\\\\\n",
       "\t A1A4S6\\_586 & A1A4S6 & 586 & T\\\\\n",
       "\t A1A4S6\\_589 & A1A4S6 & 589 & S\\\\\n",
       "\t A1A4S6\\_591 & A1A4S6 & 591 & S\\\\\n",
       "\t A1A4S6\\_600 & A1A4S6 & 600 & S\\\\\n",
       "\\end{tabular}\n"
      ],
      "text/markdown": [
       "\n",
       "A matrix: 6 × 4 of type chr\n",
       "\n",
       "| IDpos | uniprot | position | residue |\n",
       "|---|---|---|---|\n",
       "| A1A4S6_374 | A1A4S6 | 374 | S |\n",
       "| A1A4S6_376 | A1A4S6 | 376 | S |\n",
       "| A1A4S6_586 | A1A4S6 | 586 | T |\n",
       "| A1A4S6_589 | A1A4S6 | 589 | S |\n",
       "| A1A4S6_591 | A1A4S6 | 591 | S |\n",
       "| A1A4S6_600 | A1A4S6 | 600 | S |\n",
       "\n"
      ],
      "text/plain": [
       "     IDpos      uniprot position residue\n",
       "[1,] A1A4S6_374 A1A4S6  374      S      \n",
       "[2,] A1A4S6_376 A1A4S6  376      S      \n",
       "[3,] A1A4S6_586 A1A4S6  586      T      \n",
       "[4,] A1A4S6_589 A1A4S6  589      S      \n",
       "[5,] A1A4S6_591 A1A4S6  591      S      \n",
       "[6,] A1A4S6_600 A1A4S6  600      S      "
      ]
     },
     "metadata": {},
     "output_type": "display_data"
    }
   ],
   "source": [
    "sites.pho <- readRDS(\"../data-ptms-inigo/Phosphorylation_sites_GAPGEF.rds\")\n",
    "dim(sites.pho)\n",
    "head(sites.pho)"
   ]
  },
  {
   "cell_type": "code",
   "execution_count": 4,
   "metadata": {
    "ExecuteTime": {
     "end_time": "2019-08-08T15:43:50.694078Z",
     "start_time": "2019-08-08T15:43:48.549Z"
    }
   },
   "outputs": [
    {
     "data": {
      "text/html": [
       "<ol class=list-inline>\n",
       "\t<li>73872</li>\n",
       "\t<li>4</li>\n",
       "</ol>\n"
      ],
      "text/latex": [
       "\\begin{enumerate*}\n",
       "\\item 73872\n",
       "\\item 4\n",
       "\\end{enumerate*}\n"
      ],
      "text/markdown": [
       "1. 73872\n",
       "2. 4\n",
       "\n",
       "\n"
      ],
      "text/plain": [
       "[1] 73872     4"
      ]
     },
     "metadata": {},
     "output_type": "display_data"
    }
   ],
   "source": [
    "mappings <- readRDS(\"../data-ptms-inigo/MAPPING_to_GAPGEF.rds\")\n",
    "mappings.uniprot.gene <- mappings[,c(\"Entry_Uniprot\", \"GENE.NAME\")]\n",
    "colnames(mappings.uniprot.gene) <- c(\"uniprot\", \"gene\")\n",
    "sites.pho.matched <- merge(sites.pho, mappings.uniprot.gene, by.x=\"uniprot\", by.y=\"uniprot\")\n",
    "f_ <- function(gene, position) paste(gene, position, sep='.')\n",
    "rownames(sites.pho.matched) <- mapply(f_, sites.pho.matched$gene, sites.pho.matched$position)\n",
    "sites.pho.matched <- sites.pho.matched[,c(\"gene\", \"position\", \"residue\")]\n",
    "sites.pho.matched$kinase <- \"\"\n",
    "#sites.pho.matched.rbind <- rbind(sites, sites.pho.matched)\n",
    "dim(sites)\n",
    "#dim(sites.pho.matched)\n",
    "#dim(sites.pho.matched.rbind)\n",
    "\n",
    "write.table(sites.pho.matched, file='xtra_pho.tsv', sep=\"\\t\", quote=F)"
   ]
  },
  {
   "cell_type": "code",
   "execution_count": null,
   "metadata": {},
   "outputs": [],
   "source": []
  }
 ],
 "metadata": {
  "kernelspec": {
   "display_name": "R",
   "language": "R",
   "name": "ir"
  },
  "language_info": {
   "codemirror_mode": "r",
   "file_extension": ".r",
   "mimetype": "text/x-r-source",
   "name": "R",
   "pygments_lexer": "r",
   "version": "3.5.1"
  }
 },
 "nbformat": 4,
 "nbformat_minor": 2
}
