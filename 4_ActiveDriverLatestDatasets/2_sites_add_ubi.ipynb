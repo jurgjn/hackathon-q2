{
 "cells": [
  {
   "cell_type": "code",
   "execution_count": 1,
   "metadata": {
    "ExecuteTime": {
     "end_time": "2019-08-08T15:42:46.386352Z",
     "start_time": "2019-08-08T15:42:46.316Z"
    }
   },
   "outputs": [],
   "source": [
    "library(ActiveDriver)"
   ]
  },
  {
   "cell_type": "code",
   "execution_count": 2,
   "metadata": {
    "ExecuteTime": {
     "end_time": "2019-08-08T15:42:46.474485Z",
     "start_time": "2019-08-08T15:42:46.317Z"
    }
   },
   "outputs": [
    {
     "data": {
      "text/html": [
       "<table>\n",
       "<caption>A matrix: 6 × 2 of type chr</caption>\n",
       "<thead>\n",
       "\t<tr><th scope=col>uniprot</th><th scope=col>gene</th></tr>\n",
       "</thead>\n",
       "<tbody>\n",
       "\t<tr><td>NA    </td><td>ALS2    </td></tr>\n",
       "\t<tr><td>O14559</td><td>ARHGAP33</td></tr>\n",
       "\t<tr><td>O94887</td><td>FARP2   </td></tr>\n",
       "\t<tr><td>Q17R89</td><td>ARHGAP44</td></tr>\n",
       "\t<tr><td>Q3KR16</td><td>PLEKHG6 </td></tr>\n",
       "\t<tr><td>Q15311</td><td>RALBP1  </td></tr>\n",
       "</tbody>\n",
       "</table>\n"
      ],
      "text/latex": [
       "A matrix: 6 × 2 of type chr\n",
       "\\begin{tabular}{ll}\n",
       " uniprot & gene\\\\\n",
       "\\hline\n",
       "\t NA     & ALS2    \\\\\n",
       "\t O14559 & ARHGAP33\\\\\n",
       "\t O94887 & FARP2   \\\\\n",
       "\t Q17R89 & ARHGAP44\\\\\n",
       "\t Q3KR16 & PLEKHG6 \\\\\n",
       "\t Q15311 & RALBP1  \\\\\n",
       "\\end{tabular}\n"
      ],
      "text/markdown": [
       "\n",
       "A matrix: 6 × 2 of type chr\n",
       "\n",
       "| uniprot | gene |\n",
       "|---|---|\n",
       "| NA     | ALS2     |\n",
       "| O14559 | ARHGAP33 |\n",
       "| O94887 | FARP2    |\n",
       "| Q17R89 | ARHGAP44 |\n",
       "| Q3KR16 | PLEKHG6  |\n",
       "| Q15311 | RALBP1   |\n",
       "\n"
      ],
      "text/plain": [
       "     uniprot gene    \n",
       "[1,] NA      ALS2    \n",
       "[2,] O14559  ARHGAP33\n",
       "[3,] O94887  FARP2   \n",
       "[4,] Q17R89  ARHGAP44\n",
       "[5,] Q3KR16  PLEKHG6 \n",
       "[6,] Q15311  RALBP1  "
      ]
     },
     "metadata": {},
     "output_type": "display_data"
    }
   ],
   "source": [
    "mappings <- readRDS(\"../data-ptms-inigo/MAPPING_to_GAPGEF.rds\")\n",
    "mappings.uniprot.gene <- mappings[,c(\"Entry_Uniprot\", \"GENE.NAME\")]\n",
    "colnames(mappings.uniprot.gene) <- c(\"uniprot\", \"gene\")\n",
    "head(mappings.uniprot.gene)"
   ]
  },
  {
   "cell_type": "code",
   "execution_count": 3,
   "metadata": {
    "ExecuteTime": {
     "end_time": "2019-08-08T15:42:46.599577Z",
     "start_time": "2019-08-08T15:42:46.318Z"
    }
   },
   "outputs": [
    {
     "data": {
      "text/html": [
       "<table>\n",
       "<caption>A data.frame: 6 × 4</caption>\n",
       "<thead>\n",
       "\t<tr><th></th><th scope=col>gene</th><th scope=col>position</th><th scope=col>residue</th><th scope=col>kinase</th></tr>\n",
       "\t<tr><th></th><th scope=col>&lt;fct&gt;</th><th scope=col>&lt;int&gt;</th><th scope=col>&lt;fct&gt;</th><th scope=col>&lt;fct&gt;</th></tr>\n",
       "</thead>\n",
       "<tbody>\n",
       "\t<tr><th scope=row>RALBP1.152</th><td>RALBP1</td><td>152</td><td>K</td><td></td></tr>\n",
       "\t<tr><th scope=row>RALBP1.161</th><td>RALBP1</td><td>161</td><td>K</td><td></td></tr>\n",
       "\t<tr><th scope=row>RALBP1.226</th><td>RALBP1</td><td>226</td><td>K</td><td></td></tr>\n",
       "\t<tr><th scope=row>RALBP1.244</th><td>RALBP1</td><td>244</td><td>K</td><td></td></tr>\n",
       "\t<tr><th scope=row>RALBP1.268</th><td>RALBP1</td><td>268</td><td>K</td><td></td></tr>\n",
       "\t<tr><th scope=row>RALBP1.281</th><td>RALBP1</td><td>281</td><td>K</td><td></td></tr>\n",
       "</tbody>\n",
       "</table>\n"
      ],
      "text/latex": [
       "A data.frame: 6 × 4\n",
       "\\begin{tabular}{r|llll}\n",
       "  & gene & position & residue & kinase\\\\\n",
       "  & <fct> & <int> & <fct> & <fct>\\\\\n",
       "\\hline\n",
       "\tRALBP1.152 & RALBP1 & 152 & K & \\\\\n",
       "\tRALBP1.161 & RALBP1 & 161 & K & \\\\\n",
       "\tRALBP1.226 & RALBP1 & 226 & K & \\\\\n",
       "\tRALBP1.244 & RALBP1 & 244 & K & \\\\\n",
       "\tRALBP1.268 & RALBP1 & 268 & K & \\\\\n",
       "\tRALBP1.281 & RALBP1 & 281 & K & \\\\\n",
       "\\end{tabular}\n"
      ],
      "text/markdown": [
       "\n",
       "A data.frame: 6 × 4\n",
       "\n",
       "| <!--/--> | gene &lt;fct&gt; | position &lt;int&gt; | residue &lt;fct&gt; | kinase &lt;fct&gt; |\n",
       "|---|---|---|---|---|\n",
       "| RALBP1.152 | RALBP1 | 152 | K | <!----> |\n",
       "| RALBP1.161 | RALBP1 | 161 | K | <!----> |\n",
       "| RALBP1.226 | RALBP1 | 226 | K | <!----> |\n",
       "| RALBP1.244 | RALBP1 | 244 | K | <!----> |\n",
       "| RALBP1.268 | RALBP1 | 268 | K | <!----> |\n",
       "| RALBP1.281 | RALBP1 | 281 | K | <!----> |\n",
       "\n"
      ],
      "text/plain": [
       "           gene   position residue kinase\n",
       "RALBP1.152 RALBP1 152      K             \n",
       "RALBP1.161 RALBP1 161      K             \n",
       "RALBP1.226 RALBP1 226      K             \n",
       "RALBP1.244 RALBP1 244      K             \n",
       "RALBP1.268 RALBP1 268      K             \n",
       "RALBP1.281 RALBP1 281      K             "
      ]
     },
     "metadata": {},
     "output_type": "display_data"
    }
   ],
   "source": [
    "sites.ubi <- readRDS(\"../data-ptms-inigo/Ubiquitination_sites_GAPGEF.rds\")\n",
    "\n",
    "xtract.gene <- function(GenePos) strsplit(GenePos, '-')[[1]][1]\n",
    "xtract.res <- function(GenePos) substr(strsplit(GenePos, '-')[[1]][2], start=1, stop=1)\n",
    "xtract.pos <- function(GenePos) {\n",
    "    res.pos <- strsplit(GenePos, '-')[[1]][2]\n",
    "    as.integer(substr(res.pos, start=2, stop=nchar(res.pos)))\n",
    "}\n",
    "\n",
    "#xtract.gene('RALBP1-K152')\n",
    "#xtract.res('RALBP1-K152')\n",
    "#xtract.pos('RALBP1-K152')\n",
    "\n",
    "#sites.ubi$gene <- sapply(sites.ubi[,'GenePos'], xtract.gene)\n",
    "#sites.ubi$position <- sapply(sites.ubi[,'GenePos'], xtract.pos)\n",
    "#sites.ubi$residue <- sapply(sites.ubi[,'GenePos'], xtract.res)\n",
    "\n",
    "sites.ubi.xtract <- unique(data.frame( # quick-and-dirty unique() removes nine elements out of more-than-thousand\n",
    "    gene=sapply(sites.ubi[,'GenePos'], xtract.gene),\n",
    "    position=sapply(sites.ubi[,'GenePos'], xtract.pos),\n",
    "    residue=sapply(sites.ubi[,'GenePos'], xtract.res),\n",
    "    kinase=''\n",
    "))\n",
    "\n",
    "f_ <- function(gene, position) paste(gene, position, sep='.')\n",
    "rownames(sites.ubi.xtract) <- mapply(f_, sites.ubi.xtract$gene, sites.ubi.xtract$position)\n",
    "head(sites.ubi.xtract)"
   ]
  },
  {
   "cell_type": "code",
   "execution_count": 4,
   "metadata": {
    "ExecuteTime": {
     "end_time": "2019-08-08T15:42:46.614243Z",
     "start_time": "2019-08-08T15:42:46.319Z"
    }
   },
   "outputs": [],
   "source": [
    "write.table(sites.ubi.xtract, file='xtra_ubi.tsv', sep=\"\\t\", quote=F)"
   ]
  },
  {
   "cell_type": "code",
   "execution_count": null,
   "metadata": {},
   "outputs": [],
   "source": []
  }
 ],
 "metadata": {
  "kernelspec": {
   "display_name": "R",
   "language": "R",
   "name": "ir"
  },
  "language_info": {
   "codemirror_mode": "r",
   "file_extension": ".r",
   "mimetype": "text/x-r-source",
   "name": "R",
   "pygments_lexer": "r",
   "version": "3.5.1"
  }
 },
 "nbformat": 4,
 "nbformat_minor": 2
}
