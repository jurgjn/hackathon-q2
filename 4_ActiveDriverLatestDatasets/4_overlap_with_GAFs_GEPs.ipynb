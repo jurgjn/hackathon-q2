{
 "cells": [
  {
   "cell_type": "code",
   "execution_count": 1,
   "metadata": {
    "ExecuteTime": {
     "end_time": "2019-08-09T14:36:04.512841Z",
     "start_time": "2019-08-09T14:36:04.445Z"
    }
   },
   "outputs": [],
   "source": [
    "# Are there GAP/GEF hotspots within the MSB2013 dataset?\n",
    "library(ActiveDriver)"
   ]
  },
  {
   "cell_type": "code",
   "execution_count": 2,
   "metadata": {
    "ExecuteTime": {
     "end_time": "2019-08-09T14:36:05.045619Z",
     "start_time": "2019-08-09T14:36:04.948Z"
    }
   },
   "outputs": [],
   "source": [
    "# saveRDS(psnv_info, file=\"psnv_info.rds\", version=2)\n",
    "psnv_info <- readRDS('psnv_info.rds')"
   ]
  },
  {
   "cell_type": "code",
   "execution_count": 3,
   "metadata": {
    "ExecuteTime": {
     "end_time": "2019-08-09T14:36:05.629664Z",
     "start_time": "2019-08-09T14:36:05.575Z"
    }
   },
   "outputs": [
    {
     "data": {
      "text/html": [
       "<table>\n",
       "<caption>A data.frame: 6 × 13</caption>\n",
       "<thead>\n",
       "\t<tr><th scope=col>sample_id</th><th scope=col>mut_position</th><th scope=col>wt_residue</th><th scope=col>mut_residue</th><th scope=col>count</th><th scope=col>status</th><th scope=col>active_region</th><th scope=col>Freq</th><th scope=col>gene</th><th scope=col>PTM_position</th><th scope=col>residue</th><th scope=col>kinase</th><th scope=col>active_region_p</th></tr>\n",
       "\t<tr><th scope=col>&lt;chr&gt;</th><th scope=col>&lt;dbl&gt;</th><th scope=col>&lt;chr&gt;</th><th scope=col>&lt;chr&gt;</th><th scope=col>&lt;chr&gt;</th><th scope=col>&lt;chr&gt;</th><th scope=col>&lt;dbl&gt;</th><th scope=col>&lt;dbl&gt;</th><th scope=col>&lt;chr&gt;</th><th scope=col>&lt;dbl&gt;</th><th scope=col>&lt;chr&gt;</th><th scope=col>&lt;chr&gt;</th><th scope=col>&lt;dbl&gt;</th></tr>\n",
       "</thead>\n",
       "<tbody>\n",
       "\t<tr><td>TCGA-25-1635-01A</td><td>1253</td><td>E</td><td>K</td><td>1</td><td>N1   </td><td> 3</td><td>1235</td><td>ABCA1</td><td>1255</td><td>S</td><td>CSNK2A1                       </td><td>0.062004134</td></tr>\n",
       "\t<tr><td>TCGA-25-1635-01A</td><td>1253</td><td>E</td><td>K</td><td>1</td><td>N1   </td><td> 3</td><td>1262</td><td>ABCA1</td><td>1255</td><td>S</td><td>CSNK2A1                       </td><td>0.062004134</td></tr>\n",
       "\t<tr><td>16770           </td><td> 751</td><td>R</td><td>S</td><td>1</td><td>N2   </td><td>17</td><td> 747</td><td>ABL1 </td><td> 754</td><td>T</td><td>CLK1,CLK4,MAP3K8,STK3,STK4,TTK</td><td>0.017463786</td></tr>\n",
       "\t<tr><td>16770           </td><td> 751</td><td>R</td><td>S</td><td>1</td><td>N2   </td><td>17</td><td> 761</td><td>ABL1 </td><td> 754</td><td>T</td><td>CLK1,CLK4,MAP3K8,STK3,STK4,TTK</td><td>0.017463786</td></tr>\n",
       "\t<tr><td>16646           </td><td> 825</td><td>P</td><td>L</td><td>1</td><td>N1,N2</td><td>19</td><td> 840</td><td>ABL1 </td><td> 824</td><td>S</td><td>                              </td><td>0.003737638</td></tr>\n",
       "\t<tr><td>16646           </td><td> 825</td><td>P</td><td>L</td><td>1</td><td>N1,N2</td><td>19</td><td> 840</td><td>ABL1 </td><td> 828</td><td>S</td><td>                              </td><td>0.003737638</td></tr>\n",
       "</tbody>\n",
       "</table>\n"
      ],
      "text/latex": [
       "A data.frame: 6 × 13\n",
       "\\begin{tabular}{r|lllllllllllll}\n",
       " sample\\_id & mut\\_position & wt\\_residue & mut\\_residue & count & status & active\\_region & Freq & gene & PTM\\_position & residue & kinase & active\\_region\\_p\\\\\n",
       " <chr> & <dbl> & <chr> & <chr> & <chr> & <chr> & <dbl> & <dbl> & <chr> & <dbl> & <chr> & <chr> & <dbl>\\\\\n",
       "\\hline\n",
       "\t TCGA-25-1635-01A & 1253 & E & K & 1 & N1    &  3 & 1235 & ABCA1 & 1255 & S & CSNK2A1                        & 0.062004134\\\\\n",
       "\t TCGA-25-1635-01A & 1253 & E & K & 1 & N1    &  3 & 1262 & ABCA1 & 1255 & S & CSNK2A1                        & 0.062004134\\\\\n",
       "\t 16770            &  751 & R & S & 1 & N2    & 17 &  747 & ABL1  &  754 & T & CLK1,CLK4,MAP3K8,STK3,STK4,TTK & 0.017463786\\\\\n",
       "\t 16770            &  751 & R & S & 1 & N2    & 17 &  761 & ABL1  &  754 & T & CLK1,CLK4,MAP3K8,STK3,STK4,TTK & 0.017463786\\\\\n",
       "\t 16646            &  825 & P & L & 1 & N1,N2 & 19 &  840 & ABL1  &  824 & S &                                & 0.003737638\\\\\n",
       "\t 16646            &  825 & P & L & 1 & N1,N2 & 19 &  840 & ABL1  &  828 & S &                                & 0.003737638\\\\\n",
       "\\end{tabular}\n"
      ],
      "text/markdown": [
       "\n",
       "A data.frame: 6 × 13\n",
       "\n",
       "| sample_id &lt;chr&gt; | mut_position &lt;dbl&gt; | wt_residue &lt;chr&gt; | mut_residue &lt;chr&gt; | count &lt;chr&gt; | status &lt;chr&gt; | active_region &lt;dbl&gt; | Freq &lt;dbl&gt; | gene &lt;chr&gt; | PTM_position &lt;dbl&gt; | residue &lt;chr&gt; | kinase &lt;chr&gt; | active_region_p &lt;dbl&gt; |\n",
       "|---|---|---|---|---|---|---|---|---|---|---|---|---|\n",
       "| TCGA-25-1635-01A | 1253 | E | K | 1 | N1    |  3 | 1235 | ABCA1 | 1255 | S | CSNK2A1                        | 0.062004134 |\n",
       "| TCGA-25-1635-01A | 1253 | E | K | 1 | N1    |  3 | 1262 | ABCA1 | 1255 | S | CSNK2A1                        | 0.062004134 |\n",
       "| 16770            |  751 | R | S | 1 | N2    | 17 |  747 | ABL1  |  754 | T | CLK1,CLK4,MAP3K8,STK3,STK4,TTK | 0.017463786 |\n",
       "| 16770            |  751 | R | S | 1 | N2    | 17 |  761 | ABL1  |  754 | T | CLK1,CLK4,MAP3K8,STK3,STK4,TTK | 0.017463786 |\n",
       "| 16646            |  825 | P | L | 1 | N1,N2 | 19 |  840 | ABL1  |  824 | S | <!----> | 0.003737638 |\n",
       "| 16646            |  825 | P | L | 1 | N1,N2 | 19 |  840 | ABL1  |  828 | S | <!----> | 0.003737638 |\n",
       "\n"
      ],
      "text/plain": [
       "  sample_id        mut_position wt_residue mut_residue count status\n",
       "1 TCGA-25-1635-01A 1253         E          K           1     N1    \n",
       "2 TCGA-25-1635-01A 1253         E          K           1     N1    \n",
       "3 16770             751         R          S           1     N2    \n",
       "4 16770             751         R          S           1     N2    \n",
       "5 16646             825         P          L           1     N1,N2 \n",
       "6 16646             825         P          L           1     N1,N2 \n",
       "  active_region Freq gene  PTM_position residue kinase                        \n",
       "1  3            1235 ABCA1 1255         S       CSNK2A1                       \n",
       "2  3            1262 ABCA1 1255         S       CSNK2A1                       \n",
       "3 17             747 ABL1   754         T       CLK1,CLK4,MAP3K8,STK3,STK4,TTK\n",
       "4 17             761 ABL1   754         T       CLK1,CLK4,MAP3K8,STK3,STK4,TTK\n",
       "5 19             840 ABL1   824         S                                     \n",
       "6 19             840 ABL1   828         S                                     \n",
       "  active_region_p\n",
       "1 0.062004134    \n",
       "2 0.062004134    \n",
       "3 0.017463786    \n",
       "4 0.017463786    \n",
       "5 0.003737638    \n",
       "6 0.003737638    "
      ]
     },
     "metadata": {},
     "output_type": "display_data"
    }
   ],
   "source": [
    "#lapply(psnv_info, head)\n",
    "head(psnv_info$merged_report)"
   ]
  },
  {
   "cell_type": "code",
   "execution_count": 4,
   "metadata": {
    "ExecuteTime": {
     "end_time": "2019-08-09T14:36:06.437947Z",
     "start_time": "2019-08-09T14:36:06.417Z"
    }
   },
   "outputs": [
    {
     "data": {
      "text/html": [
       "141"
      ],
      "text/latex": [
       "141"
      ],
      "text/markdown": [
       "141"
      ],
      "text/plain": [
       "[1] 141"
      ]
     },
     "metadata": {},
     "output_type": "display_data"
    }
   ],
   "source": [
    "l.GAFs.GEPs <- read.csv(\"../data-dropbox/List_gap_gefs - Sheet1.tsv\", sep='\\t')$GENE.NAME\n",
    "length(l.GAFs.GEPs)"
   ]
  },
  {
   "cell_type": "code",
   "execution_count": 5,
   "metadata": {
    "ExecuteTime": {
     "end_time": "2019-08-09T14:36:07.099985Z",
     "start_time": "2019-08-09T14:36:06.998Z"
    }
   },
   "outputs": [
    {
     "data": {
      "text/html": [
       "<table>\n",
       "<caption>A data.frame: 158 × 13</caption>\n",
       "<thead>\n",
       "\t<tr><th></th><th scope=col>sample_id</th><th scope=col>mut_position</th><th scope=col>wt_residue</th><th scope=col>mut_residue</th><th scope=col>count</th><th scope=col>status</th><th scope=col>active_region</th><th scope=col>Freq</th><th scope=col>gene</th><th scope=col>PTM_position</th><th scope=col>residue</th><th scope=col>kinase</th><th scope=col>active_region_p</th></tr>\n",
       "\t<tr><th></th><th scope=col>&lt;chr&gt;</th><th scope=col>&lt;dbl&gt;</th><th scope=col>&lt;chr&gt;</th><th scope=col>&lt;chr&gt;</th><th scope=col>&lt;chr&gt;</th><th scope=col>&lt;chr&gt;</th><th scope=col>&lt;dbl&gt;</th><th scope=col>&lt;dbl&gt;</th><th scope=col>&lt;chr&gt;</th><th scope=col>&lt;dbl&gt;</th><th scope=col>&lt;chr&gt;</th><th scope=col>&lt;chr&gt;</th><th scope=col>&lt;dbl&gt;</th></tr>\n",
       "</thead>\n",
       "<tbody>\n",
       "\t<tr><th scope=row>73</th><td>TCGA-23-1124-01A</td><td>1750</td><td>S</td><td>I</td><td>1</td><td>DI,N2</td><td>25</td><td>1740</td><td>AKAP13   </td><td>1754</td><td>S</td><td>  </td><td>0.0015964893</td></tr>\n",
       "\t<tr><th scope=row>74</th><td>TCGA-23-1124-01A</td><td>1750</td><td>S</td><td>I</td><td>1</td><td>DI,N2</td><td>25</td><td>1740</td><td>AKAP13   </td><td>1747</td><td>T</td><td>  </td><td>0.0015964893</td></tr>\n",
       "\t<tr><th scope=row>75</th><td>TCGA-23-1124-01A</td><td>1750</td><td>S</td><td>I</td><td>1</td><td>DI,N2</td><td>25</td><td>1740</td><td>AKAP13   </td><td>1750</td><td>S</td><td>NA</td><td>0.0015964893</td></tr>\n",
       "\t<tr><th scope=row>76</th><td>TCGA-23-1124-01A</td><td>1750</td><td>S</td><td>I</td><td>1</td><td>DI,N2</td><td>25</td><td>1761</td><td>AKAP13   </td><td>1754</td><td>S</td><td>  </td><td>0.0015964893</td></tr>\n",
       "\t<tr><th scope=row>77</th><td>TCGA-23-1124-01A</td><td>1750</td><td>S</td><td>I</td><td>1</td><td>DI,N2</td><td>25</td><td>1761</td><td>AKAP13   </td><td>1747</td><td>T</td><td>  </td><td>0.0015964893</td></tr>\n",
       "\t<tr><th scope=row>78</th><td>TCGA-23-1124-01A</td><td>1750</td><td>S</td><td>I</td><td>1</td><td>DI,N2</td><td>25</td><td>1761</td><td>AKAP13   </td><td>1750</td><td>S</td><td>NA</td><td>0.0015964893</td></tr>\n",
       "\t<tr><th scope=row>121</th><td>HCC2218         </td><td> 605</td><td>E</td><td>K</td><td>1</td><td>N1,N2</td><td> 8</td><td> 594</td><td>ARHGAP11A</td><td> 606</td><td>S</td><td>NA</td><td>0.0008292936</td></tr>\n",
       "\t<tr><th scope=row>122</th><td>HCC2218         </td><td> 605</td><td>E</td><td>K</td><td>1</td><td>N1,N2</td><td> 8</td><td> 594</td><td>ARHGAP11A</td><td> 601</td><td>K</td><td>NA</td><td>0.0008292936</td></tr>\n",
       "\t<tr><th scope=row>123</th><td>HCC2218         </td><td> 605</td><td>E</td><td>K</td><td>1</td><td>N1,N2</td><td> 8</td><td> 594</td><td>ARHGAP11A</td><td> 604</td><td>S</td><td>NA</td><td>0.0008292936</td></tr>\n",
       "\t<tr><th scope=row>124</th><td>HCC2218         </td><td> 605</td><td>E</td><td>K</td><td>1</td><td>N1,N2</td><td> 8</td><td> 645</td><td>ARHGAP11A</td><td> 606</td><td>S</td><td>NA</td><td>0.0008292936</td></tr>\n",
       "\t<tr><th scope=row>125</th><td>HCC2218         </td><td> 605</td><td>E</td><td>K</td><td>1</td><td>N1,N2</td><td> 8</td><td> 645</td><td>ARHGAP11A</td><td> 601</td><td>K</td><td>NA</td><td>0.0008292936</td></tr>\n",
       "\t<tr><th scope=row>126</th><td>HCC2218         </td><td> 605</td><td>E</td><td>K</td><td>1</td><td>N1,N2</td><td> 8</td><td> 645</td><td>ARHGAP11A</td><td> 604</td><td>S</td><td>NA</td><td>0.0008292936</td></tr>\n",
       "\t<tr><th scope=row>127</th><td>TCGA-13-1509-01A</td><td> 776</td><td>N</td><td>T</td><td>1</td><td>N1   </td><td> 8</td><td> 785</td><td>ARHGAP31 </td><td> 778</td><td>S</td><td>NA</td><td>0.0007308008</td></tr>\n",
       "\t<tr><th scope=row>128</th><td>TCGA-13-1509-01A</td><td> 776</td><td>N</td><td>T</td><td>1</td><td>N1   </td><td> 8</td><td> 771</td><td>ARHGAP31 </td><td> 778</td><td>S</td><td>NA</td><td>0.0007308008</td></tr>\n",
       "\t<tr><th scope=row>129</th><td>TCGA-13-0903-01A</td><td> 472</td><td>L</td><td>I</td><td>1</td><td>N2   </td><td> 1</td><td> 486</td><td>ARHGAP36 </td><td> 479</td><td>S</td><td>NA</td><td>0.0072568148</td></tr>\n",
       "\t<tr><th scope=row>130</th><td>TCGA-13-0903-01A</td><td> 472</td><td>L</td><td>I</td><td>1</td><td>N2   </td><td> 1</td><td> 486</td><td>ARHGAP36 </td><td> 478</td><td>T</td><td>NA</td><td>0.0072568148</td></tr>\n",
       "\t<tr><th scope=row>131</th><td>TCGA-13-0903-01A</td><td> 472</td><td>L</td><td>I</td><td>1</td><td>N2   </td><td> 1</td><td> 471</td><td>ARHGAP36 </td><td> 479</td><td>S</td><td>NA</td><td>0.0072568148</td></tr>\n",
       "\t<tr><th scope=row>132</th><td>TCGA-13-0903-01A</td><td> 472</td><td>L</td><td>I</td><td>1</td><td>N2   </td><td> 1</td><td> 471</td><td>ARHGAP36 </td><td> 478</td><td>T</td><td>NA</td><td>0.0072568148</td></tr>\n",
       "\t<tr><th scope=row>133</th><td>Br27P           </td><td>1124</td><td>S</td><td>L</td><td>1</td><td>DI,N2</td><td>15</td><td>1149</td><td>ARHGAP5  </td><td>1124</td><td>S</td><td>NA</td><td>0.0063847708</td></tr>\n",
       "\t<tr><th scope=row>134</th><td>Br27P           </td><td>1124</td><td>S</td><td>L</td><td>1</td><td>DI,N2</td><td>15</td><td>1149</td><td>ARHGAP5  </td><td>1129</td><td>T</td><td>NA</td><td>0.0063847708</td></tr>\n",
       "\t<tr><th scope=row>135</th><td>Br27P           </td><td>1124</td><td>S</td><td>L</td><td>1</td><td>DI,N2</td><td>15</td><td>1149</td><td>ARHGAP5  </td><td>1129</td><td>T</td><td>  </td><td>0.0063847708</td></tr>\n",
       "\t<tr><th scope=row>136</th><td>Br27P           </td><td>1124</td><td>S</td><td>L</td><td>1</td><td>DI,N2</td><td>15</td><td>1149</td><td>ARHGAP5  </td><td>1124</td><td>S</td><td>  </td><td>0.0063847708</td></tr>\n",
       "\t<tr><th scope=row>137</th><td>Br27P           </td><td>1124</td><td>S</td><td>L</td><td>1</td><td>DI,N2</td><td>15</td><td>1081</td><td>ARHGAP5  </td><td>1124</td><td>S</td><td>NA</td><td>0.0063847708</td></tr>\n",
       "\t<tr><th scope=row>138</th><td>Br27P           </td><td>1124</td><td>S</td><td>L</td><td>1</td><td>DI,N2</td><td>15</td><td>1081</td><td>ARHGAP5  </td><td>1129</td><td>T</td><td>NA</td><td>0.0063847708</td></tr>\n",
       "\t<tr><th scope=row>139</th><td>Br27P           </td><td>1124</td><td>S</td><td>L</td><td>1</td><td>DI,N2</td><td>15</td><td>1081</td><td>ARHGAP5  </td><td>1129</td><td>T</td><td>  </td><td>0.0063847708</td></tr>\n",
       "\t<tr><th scope=row>140</th><td>Br27P           </td><td>1124</td><td>S</td><td>L</td><td>1</td><td>DI,N2</td><td>15</td><td>1081</td><td>ARHGAP5  </td><td>1124</td><td>S</td><td>  </td><td>0.0063847708</td></tr>\n",
       "\t<tr><th scope=row>141</th><td>HX13T           </td><td> 264</td><td>G</td><td>C</td><td>1</td><td>N1,N2</td><td> 5</td><td> 273</td><td>ARHGEF40 </td><td> 262</td><td>S</td><td>NA</td><td>0.0004748775</td></tr>\n",
       "\t<tr><th scope=row>142</th><td>HX13T           </td><td> 264</td><td>G</td><td>C</td><td>1</td><td>N1,N2</td><td> 5</td><td> 273</td><td>ARHGEF40 </td><td> 266</td><td>S</td><td>NA</td><td>0.0004748775</td></tr>\n",
       "\t<tr><th scope=row>143</th><td>HX13T           </td><td> 264</td><td>G</td><td>C</td><td>1</td><td>N1,N2</td><td> 5</td><td> 273</td><td>ARHGEF40 </td><td> 262</td><td>S</td><td>  </td><td>0.0004748775</td></tr>\n",
       "\t<tr><th scope=row>144</th><td>HX13T           </td><td> 264</td><td>G</td><td>C</td><td>1</td><td>N1,N2</td><td> 5</td><td> 273</td><td>ARHGEF40 </td><td> 257</td><td>T</td><td>NA</td><td>0.0004748775</td></tr>\n",
       "\t<tr><th scope=row>⋮</th><td>⋮</td><td>⋮</td><td>⋮</td><td>⋮</td><td>⋮</td><td>⋮</td><td>⋮</td><td>⋮</td><td>⋮</td><td>⋮</td><td>⋮</td><td>⋮</td><td>⋮</td></tr>\n",
       "\t<tr><th scope=row>1923</th><td>TCGA-36-1578-01A</td><td> 766</td><td>P</td><td>A</td><td>1</td><td>N2      </td><td> 3</td><td> 739</td><td>RASGRF2</td><td> 762</td><td>T</td><td>NA      </td><td>0.143171038</td></tr>\n",
       "\t<tr><th scope=row>1924</th><td>TCGA-36-1578-01A</td><td> 766</td><td>P</td><td>A</td><td>1</td><td>N2      </td><td> 3</td><td> 783</td><td>RASGRF2</td><td> 762</td><td>T</td><td>NA      </td><td>0.143171038</td></tr>\n",
       "\t<tr><th scope=row>2125</th><td>TCGA-13-0893-01B</td><td>1184</td><td>P</td><td>H</td><td>1</td><td>N2      </td><td>11</td><td>1236</td><td>SOS1   </td><td>1178</td><td>S</td><td>NA      </td><td>0.008291220</td></tr>\n",
       "\t<tr><th scope=row>2126</th><td>TCGA-13-0893-01B</td><td>1184</td><td>P</td><td>H</td><td>1</td><td>N2      </td><td>11</td><td>1236</td><td>SOS1   </td><td>1178</td><td>S</td><td>MAPK1   </td><td>0.008291220</td></tr>\n",
       "\t<tr><th scope=row>2127</th><td>TCGA-13-0893-01B</td><td>1184</td><td>P</td><td>H</td><td>1</td><td>N2      </td><td>11</td><td>1154</td><td>SOS1   </td><td>1178</td><td>S</td><td>NA      </td><td>0.008291220</td></tr>\n",
       "\t<tr><th scope=row>2128</th><td>TCGA-13-0893-01B</td><td>1184</td><td>P</td><td>H</td><td>1</td><td>N2      </td><td>11</td><td>1154</td><td>SOS1   </td><td>1178</td><td>S</td><td>MAPK1   </td><td>0.008291220</td></tr>\n",
       "\t<tr><th scope=row>2129</th><td>TCGA-04-1362-01A</td><td>1231</td><td>L</td><td>V</td><td>1</td><td>N1,N2   </td><td>11</td><td>1236</td><td>SOS1   </td><td>1228</td><td>S</td><td>NA      </td><td>0.008291220</td></tr>\n",
       "\t<tr><th scope=row>2130</th><td>TCGA-04-1362-01A</td><td>1231</td><td>L</td><td>V</td><td>1</td><td>N1,N2   </td><td>11</td><td>1236</td><td>SOS1   </td><td>1229</td><td>S</td><td>NA      </td><td>0.008291220</td></tr>\n",
       "\t<tr><th scope=row>2131</th><td>TCGA-04-1362-01A</td><td>1231</td><td>L</td><td>V</td><td>1</td><td>N1,N2   </td><td>11</td><td>1236</td><td>SOS1   </td><td>1227</td><td>S</td><td>NA      </td><td>0.008291220</td></tr>\n",
       "\t<tr><th scope=row>2132</th><td>TCGA-04-1362-01A</td><td>1231</td><td>L</td><td>V</td><td>1</td><td>N1,N2   </td><td>11</td><td>1154</td><td>SOS1   </td><td>1228</td><td>S</td><td>NA      </td><td>0.008291220</td></tr>\n",
       "\t<tr><th scope=row>2133</th><td>TCGA-04-1362-01A</td><td>1231</td><td>L</td><td>V</td><td>1</td><td>N1,N2   </td><td>11</td><td>1154</td><td>SOS1   </td><td>1229</td><td>S</td><td>NA      </td><td>0.008291220</td></tr>\n",
       "\t<tr><th scope=row>2134</th><td>TCGA-04-1362-01A</td><td>1231</td><td>L</td><td>V</td><td>1</td><td>N1,N2   </td><td>11</td><td>1154</td><td>SOS1   </td><td>1227</td><td>S</td><td>NA      </td><td>0.008291220</td></tr>\n",
       "\t<tr><th scope=row>2135</th><td>Br17X           </td><td> 433</td><td>E</td><td>K</td><td>1</td><td>N2      </td><td> 3</td><td> 420</td><td>SOS1   </td><td> 427</td><td>K</td><td>NA      </td><td>0.002838161</td></tr>\n",
       "\t<tr><th scope=row>2136</th><td>Br17X           </td><td> 433</td><td>E</td><td>K</td><td>1</td><td>N2      </td><td> 3</td><td> 434</td><td>SOS1   </td><td> 427</td><td>K</td><td>NA      </td><td>0.002838161</td></tr>\n",
       "\t<tr><th scope=row>2295</th><td>TCGA-23-1022-01A</td><td> 170</td><td>S</td><td>F</td><td>1</td><td>DI,N1,N2</td><td> 2</td><td> 163</td><td>TIAM1  </td><td> 172</td><td>S</td><td>NA      </td><td>0.001979194</td></tr>\n",
       "\t<tr><th scope=row>2296</th><td>TCGA-23-1022-01A</td><td> 170</td><td>S</td><td>F</td><td>1</td><td>DI,N1,N2</td><td> 2</td><td> 163</td><td>TIAM1  </td><td> 170</td><td>S</td><td>NA      </td><td>0.001979194</td></tr>\n",
       "\t<tr><th scope=row>2297</th><td>TCGA-23-1022-01A</td><td> 170</td><td>S</td><td>F</td><td>1</td><td>DI,N1,N2</td><td> 2</td><td> 179</td><td>TIAM1  </td><td> 172</td><td>S</td><td>NA      </td><td>0.001979194</td></tr>\n",
       "\t<tr><th scope=row>2298</th><td>TCGA-23-1022-01A</td><td> 170</td><td>S</td><td>F</td><td>1</td><td>DI,N1,N2</td><td> 2</td><td> 179</td><td>TIAM1  </td><td> 170</td><td>S</td><td>NA      </td><td>0.001979194</td></tr>\n",
       "\t<tr><th scope=row>2829</th><td>16835           </td><td> 801</td><td>L</td><td>P</td><td>1</td><td>N2      </td><td>15</td><td> 725</td><td>VAV1   </td><td> 804</td><td>K</td><td>NA      </td><td>         NA</td></tr>\n",
       "\t<tr><th scope=row>2830</th><td>16835           </td><td> 801</td><td>L</td><td>P</td><td>1</td><td>N2      </td><td>15</td><td> 846</td><td>VAV1   </td><td> 804</td><td>K</td><td>NA      </td><td>         NA</td></tr>\n",
       "\t<tr><th scope=row>2831</th><td>TCGA-24-1546-01A</td><td> 435</td><td>K</td><td>N</td><td>1</td><td>DI,N2   </td><td> 9</td><td> 451</td><td>VAV1   </td><td> 429</td><td>K</td><td>NA      </td><td>0.010609141</td></tr>\n",
       "\t<tr><th scope=row>2832</th><td>TCGA-24-1546-01A</td><td> 435</td><td>K</td><td>N</td><td>1</td><td>DI,N2   </td><td> 9</td><td> 451</td><td>VAV1   </td><td> 435</td><td>K</td><td>NA      </td><td>0.010609141</td></tr>\n",
       "\t<tr><th scope=row>2833</th><td>TCGA-24-1546-01A</td><td> 435</td><td>K</td><td>N</td><td>1</td><td>DI,N2   </td><td> 9</td><td> 422</td><td>VAV1   </td><td> 429</td><td>K</td><td>NA      </td><td>0.010609141</td></tr>\n",
       "\t<tr><th scope=row>2834</th><td>TCGA-24-1546-01A</td><td> 435</td><td>K</td><td>N</td><td>1</td><td>DI,N2   </td><td> 9</td><td> 422</td><td>VAV1   </td><td> 435</td><td>K</td><td>NA      </td><td>0.010609141</td></tr>\n",
       "\t<tr><th scope=row>2835</th><td>16951           </td><td> 143</td><td>R</td><td>L</td><td>1</td><td>N1      </td><td> 3</td><td> 135</td><td>VAV2   </td><td> 142</td><td>Y</td><td>NA      </td><td>0.015885076</td></tr>\n",
       "\t<tr><th scope=row>2836</th><td>16951           </td><td> 143</td><td>R</td><td>L</td><td>1</td><td>N1      </td><td> 3</td><td> 135</td><td>VAV2   </td><td> 142</td><td>Y</td><td>EGFR,LCK</td><td>0.015885076</td></tr>\n",
       "\t<tr><th scope=row>2837</th><td>16951           </td><td> 143</td><td>R</td><td>L</td><td>1</td><td>N1      </td><td> 3</td><td> 149</td><td>VAV2   </td><td> 142</td><td>Y</td><td>NA      </td><td>0.015885076</td></tr>\n",
       "\t<tr><th scope=row>2838</th><td>16951           </td><td> 143</td><td>R</td><td>L</td><td>1</td><td>N1      </td><td> 3</td><td> 149</td><td>VAV2   </td><td> 142</td><td>Y</td><td>EGFR,LCK</td><td>0.015885076</td></tr>\n",
       "\t<tr><th scope=row>2839</th><td>17210           </td><td> 840</td><td>S</td><td>Y</td><td>1</td><td>N1      </td><td>17</td><td> 835</td><td>VAV3   </td><td> 842</td><td>Y</td><td>NA      </td><td>0.001778071</td></tr>\n",
       "\t<tr><th scope=row>2840</th><td>17210           </td><td> 840</td><td>S</td><td>Y</td><td>1</td><td>N1      </td><td>17</td><td> 848</td><td>VAV3   </td><td> 842</td><td>Y</td><td>NA      </td><td>0.001778071</td></tr>\n",
       "</tbody>\n",
       "</table>\n"
      ],
      "text/latex": [
       "A data.frame: 158 × 13\n",
       "\\begin{tabular}{r|lllllllllllll}\n",
       "  & sample\\_id & mut\\_position & wt\\_residue & mut\\_residue & count & status & active\\_region & Freq & gene & PTM\\_position & residue & kinase & active\\_region\\_p\\\\\n",
       "  & <chr> & <dbl> & <chr> & <chr> & <chr> & <chr> & <dbl> & <dbl> & <chr> & <dbl> & <chr> & <chr> & <dbl>\\\\\n",
       "\\hline\n",
       "\t73 & TCGA-23-1124-01A & 1750 & S & I & 1 & DI,N2 & 25 & 1740 & AKAP13    & 1754 & S &    & 0.0015964893\\\\\n",
       "\t74 & TCGA-23-1124-01A & 1750 & S & I & 1 & DI,N2 & 25 & 1740 & AKAP13    & 1747 & T &    & 0.0015964893\\\\\n",
       "\t75 & TCGA-23-1124-01A & 1750 & S & I & 1 & DI,N2 & 25 & 1740 & AKAP13    & 1750 & S & NA & 0.0015964893\\\\\n",
       "\t76 & TCGA-23-1124-01A & 1750 & S & I & 1 & DI,N2 & 25 & 1761 & AKAP13    & 1754 & S &    & 0.0015964893\\\\\n",
       "\t77 & TCGA-23-1124-01A & 1750 & S & I & 1 & DI,N2 & 25 & 1761 & AKAP13    & 1747 & T &    & 0.0015964893\\\\\n",
       "\t78 & TCGA-23-1124-01A & 1750 & S & I & 1 & DI,N2 & 25 & 1761 & AKAP13    & 1750 & S & NA & 0.0015964893\\\\\n",
       "\t121 & HCC2218          &  605 & E & K & 1 & N1,N2 &  8 &  594 & ARHGAP11A &  606 & S & NA & 0.0008292936\\\\\n",
       "\t122 & HCC2218          &  605 & E & K & 1 & N1,N2 &  8 &  594 & ARHGAP11A &  601 & K & NA & 0.0008292936\\\\\n",
       "\t123 & HCC2218          &  605 & E & K & 1 & N1,N2 &  8 &  594 & ARHGAP11A &  604 & S & NA & 0.0008292936\\\\\n",
       "\t124 & HCC2218          &  605 & E & K & 1 & N1,N2 &  8 &  645 & ARHGAP11A &  606 & S & NA & 0.0008292936\\\\\n",
       "\t125 & HCC2218          &  605 & E & K & 1 & N1,N2 &  8 &  645 & ARHGAP11A &  601 & K & NA & 0.0008292936\\\\\n",
       "\t126 & HCC2218          &  605 & E & K & 1 & N1,N2 &  8 &  645 & ARHGAP11A &  604 & S & NA & 0.0008292936\\\\\n",
       "\t127 & TCGA-13-1509-01A &  776 & N & T & 1 & N1    &  8 &  785 & ARHGAP31  &  778 & S & NA & 0.0007308008\\\\\n",
       "\t128 & TCGA-13-1509-01A &  776 & N & T & 1 & N1    &  8 &  771 & ARHGAP31  &  778 & S & NA & 0.0007308008\\\\\n",
       "\t129 & TCGA-13-0903-01A &  472 & L & I & 1 & N2    &  1 &  486 & ARHGAP36  &  479 & S & NA & 0.0072568148\\\\\n",
       "\t130 & TCGA-13-0903-01A &  472 & L & I & 1 & N2    &  1 &  486 & ARHGAP36  &  478 & T & NA & 0.0072568148\\\\\n",
       "\t131 & TCGA-13-0903-01A &  472 & L & I & 1 & N2    &  1 &  471 & ARHGAP36  &  479 & S & NA & 0.0072568148\\\\\n",
       "\t132 & TCGA-13-0903-01A &  472 & L & I & 1 & N2    &  1 &  471 & ARHGAP36  &  478 & T & NA & 0.0072568148\\\\\n",
       "\t133 & Br27P            & 1124 & S & L & 1 & DI,N2 & 15 & 1149 & ARHGAP5   & 1124 & S & NA & 0.0063847708\\\\\n",
       "\t134 & Br27P            & 1124 & S & L & 1 & DI,N2 & 15 & 1149 & ARHGAP5   & 1129 & T & NA & 0.0063847708\\\\\n",
       "\t135 & Br27P            & 1124 & S & L & 1 & DI,N2 & 15 & 1149 & ARHGAP5   & 1129 & T &    & 0.0063847708\\\\\n",
       "\t136 & Br27P            & 1124 & S & L & 1 & DI,N2 & 15 & 1149 & ARHGAP5   & 1124 & S &    & 0.0063847708\\\\\n",
       "\t137 & Br27P            & 1124 & S & L & 1 & DI,N2 & 15 & 1081 & ARHGAP5   & 1124 & S & NA & 0.0063847708\\\\\n",
       "\t138 & Br27P            & 1124 & S & L & 1 & DI,N2 & 15 & 1081 & ARHGAP5   & 1129 & T & NA & 0.0063847708\\\\\n",
       "\t139 & Br27P            & 1124 & S & L & 1 & DI,N2 & 15 & 1081 & ARHGAP5   & 1129 & T &    & 0.0063847708\\\\\n",
       "\t140 & Br27P            & 1124 & S & L & 1 & DI,N2 & 15 & 1081 & ARHGAP5   & 1124 & S &    & 0.0063847708\\\\\n",
       "\t141 & HX13T            &  264 & G & C & 1 & N1,N2 &  5 &  273 & ARHGEF40  &  262 & S & NA & 0.0004748775\\\\\n",
       "\t142 & HX13T            &  264 & G & C & 1 & N1,N2 &  5 &  273 & ARHGEF40  &  266 & S & NA & 0.0004748775\\\\\n",
       "\t143 & HX13T            &  264 & G & C & 1 & N1,N2 &  5 &  273 & ARHGEF40  &  262 & S &    & 0.0004748775\\\\\n",
       "\t144 & HX13T            &  264 & G & C & 1 & N1,N2 &  5 &  273 & ARHGEF40  &  257 & T & NA & 0.0004748775\\\\\n",
       "\t⋮ & ⋮ & ⋮ & ⋮ & ⋮ & ⋮ & ⋮ & ⋮ & ⋮ & ⋮ & ⋮ & ⋮ & ⋮ & ⋮\\\\\n",
       "\t1923 & TCGA-36-1578-01A &  766 & P & A & 1 & N2       &  3 &  739 & RASGRF2 &  762 & T & NA       & 0.143171038\\\\\n",
       "\t1924 & TCGA-36-1578-01A &  766 & P & A & 1 & N2       &  3 &  783 & RASGRF2 &  762 & T & NA       & 0.143171038\\\\\n",
       "\t2125 & TCGA-13-0893-01B & 1184 & P & H & 1 & N2       & 11 & 1236 & SOS1    & 1178 & S & NA       & 0.008291220\\\\\n",
       "\t2126 & TCGA-13-0893-01B & 1184 & P & H & 1 & N2       & 11 & 1236 & SOS1    & 1178 & S & MAPK1    & 0.008291220\\\\\n",
       "\t2127 & TCGA-13-0893-01B & 1184 & P & H & 1 & N2       & 11 & 1154 & SOS1    & 1178 & S & NA       & 0.008291220\\\\\n",
       "\t2128 & TCGA-13-0893-01B & 1184 & P & H & 1 & N2       & 11 & 1154 & SOS1    & 1178 & S & MAPK1    & 0.008291220\\\\\n",
       "\t2129 & TCGA-04-1362-01A & 1231 & L & V & 1 & N1,N2    & 11 & 1236 & SOS1    & 1228 & S & NA       & 0.008291220\\\\\n",
       "\t2130 & TCGA-04-1362-01A & 1231 & L & V & 1 & N1,N2    & 11 & 1236 & SOS1    & 1229 & S & NA       & 0.008291220\\\\\n",
       "\t2131 & TCGA-04-1362-01A & 1231 & L & V & 1 & N1,N2    & 11 & 1236 & SOS1    & 1227 & S & NA       & 0.008291220\\\\\n",
       "\t2132 & TCGA-04-1362-01A & 1231 & L & V & 1 & N1,N2    & 11 & 1154 & SOS1    & 1228 & S & NA       & 0.008291220\\\\\n",
       "\t2133 & TCGA-04-1362-01A & 1231 & L & V & 1 & N1,N2    & 11 & 1154 & SOS1    & 1229 & S & NA       & 0.008291220\\\\\n",
       "\t2134 & TCGA-04-1362-01A & 1231 & L & V & 1 & N1,N2    & 11 & 1154 & SOS1    & 1227 & S & NA       & 0.008291220\\\\\n",
       "\t2135 & Br17X            &  433 & E & K & 1 & N2       &  3 &  420 & SOS1    &  427 & K & NA       & 0.002838161\\\\\n",
       "\t2136 & Br17X            &  433 & E & K & 1 & N2       &  3 &  434 & SOS1    &  427 & K & NA       & 0.002838161\\\\\n",
       "\t2295 & TCGA-23-1022-01A &  170 & S & F & 1 & DI,N1,N2 &  2 &  163 & TIAM1   &  172 & S & NA       & 0.001979194\\\\\n",
       "\t2296 & TCGA-23-1022-01A &  170 & S & F & 1 & DI,N1,N2 &  2 &  163 & TIAM1   &  170 & S & NA       & 0.001979194\\\\\n",
       "\t2297 & TCGA-23-1022-01A &  170 & S & F & 1 & DI,N1,N2 &  2 &  179 & TIAM1   &  172 & S & NA       & 0.001979194\\\\\n",
       "\t2298 & TCGA-23-1022-01A &  170 & S & F & 1 & DI,N1,N2 &  2 &  179 & TIAM1   &  170 & S & NA       & 0.001979194\\\\\n",
       "\t2829 & 16835            &  801 & L & P & 1 & N2       & 15 &  725 & VAV1    &  804 & K & NA       &          NA\\\\\n",
       "\t2830 & 16835            &  801 & L & P & 1 & N2       & 15 &  846 & VAV1    &  804 & K & NA       &          NA\\\\\n",
       "\t2831 & TCGA-24-1546-01A &  435 & K & N & 1 & DI,N2    &  9 &  451 & VAV1    &  429 & K & NA       & 0.010609141\\\\\n",
       "\t2832 & TCGA-24-1546-01A &  435 & K & N & 1 & DI,N2    &  9 &  451 & VAV1    &  435 & K & NA       & 0.010609141\\\\\n",
       "\t2833 & TCGA-24-1546-01A &  435 & K & N & 1 & DI,N2    &  9 &  422 & VAV1    &  429 & K & NA       & 0.010609141\\\\\n",
       "\t2834 & TCGA-24-1546-01A &  435 & K & N & 1 & DI,N2    &  9 &  422 & VAV1    &  435 & K & NA       & 0.010609141\\\\\n",
       "\t2835 & 16951            &  143 & R & L & 1 & N1       &  3 &  135 & VAV2    &  142 & Y & NA       & 0.015885076\\\\\n",
       "\t2836 & 16951            &  143 & R & L & 1 & N1       &  3 &  135 & VAV2    &  142 & Y & EGFR,LCK & 0.015885076\\\\\n",
       "\t2837 & 16951            &  143 & R & L & 1 & N1       &  3 &  149 & VAV2    &  142 & Y & NA       & 0.015885076\\\\\n",
       "\t2838 & 16951            &  143 & R & L & 1 & N1       &  3 &  149 & VAV2    &  142 & Y & EGFR,LCK & 0.015885076\\\\\n",
       "\t2839 & 17210            &  840 & S & Y & 1 & N1       & 17 &  835 & VAV3    &  842 & Y & NA       & 0.001778071\\\\\n",
       "\t2840 & 17210            &  840 & S & Y & 1 & N1       & 17 &  848 & VAV3    &  842 & Y & NA       & 0.001778071\\\\\n",
       "\\end{tabular}\n"
      ],
      "text/markdown": [
       "\n",
       "A data.frame: 158 × 13\n",
       "\n",
       "| <!--/--> | sample_id &lt;chr&gt; | mut_position &lt;dbl&gt; | wt_residue &lt;chr&gt; | mut_residue &lt;chr&gt; | count &lt;chr&gt; | status &lt;chr&gt; | active_region &lt;dbl&gt; | Freq &lt;dbl&gt; | gene &lt;chr&gt; | PTM_position &lt;dbl&gt; | residue &lt;chr&gt; | kinase &lt;chr&gt; | active_region_p &lt;dbl&gt; |\n",
       "|---|---|---|---|---|---|---|---|---|---|---|---|---|---|\n",
       "| 73 | TCGA-23-1124-01A | 1750 | S | I | 1 | DI,N2 | 25 | 1740 | AKAP13    | 1754 | S | <!----> | 0.0015964893 |\n",
       "| 74 | TCGA-23-1124-01A | 1750 | S | I | 1 | DI,N2 | 25 | 1740 | AKAP13    | 1747 | T | <!----> | 0.0015964893 |\n",
       "| 75 | TCGA-23-1124-01A | 1750 | S | I | 1 | DI,N2 | 25 | 1740 | AKAP13    | 1750 | S | NA | 0.0015964893 |\n",
       "| 76 | TCGA-23-1124-01A | 1750 | S | I | 1 | DI,N2 | 25 | 1761 | AKAP13    | 1754 | S | <!----> | 0.0015964893 |\n",
       "| 77 | TCGA-23-1124-01A | 1750 | S | I | 1 | DI,N2 | 25 | 1761 | AKAP13    | 1747 | T | <!----> | 0.0015964893 |\n",
       "| 78 | TCGA-23-1124-01A | 1750 | S | I | 1 | DI,N2 | 25 | 1761 | AKAP13    | 1750 | S | NA | 0.0015964893 |\n",
       "| 121 | HCC2218          |  605 | E | K | 1 | N1,N2 |  8 |  594 | ARHGAP11A |  606 | S | NA | 0.0008292936 |\n",
       "| 122 | HCC2218          |  605 | E | K | 1 | N1,N2 |  8 |  594 | ARHGAP11A |  601 | K | NA | 0.0008292936 |\n",
       "| 123 | HCC2218          |  605 | E | K | 1 | N1,N2 |  8 |  594 | ARHGAP11A |  604 | S | NA | 0.0008292936 |\n",
       "| 124 | HCC2218          |  605 | E | K | 1 | N1,N2 |  8 |  645 | ARHGAP11A |  606 | S | NA | 0.0008292936 |\n",
       "| 125 | HCC2218          |  605 | E | K | 1 | N1,N2 |  8 |  645 | ARHGAP11A |  601 | K | NA | 0.0008292936 |\n",
       "| 126 | HCC2218          |  605 | E | K | 1 | N1,N2 |  8 |  645 | ARHGAP11A |  604 | S | NA | 0.0008292936 |\n",
       "| 127 | TCGA-13-1509-01A |  776 | N | T | 1 | N1    |  8 |  785 | ARHGAP31  |  778 | S | NA | 0.0007308008 |\n",
       "| 128 | TCGA-13-1509-01A |  776 | N | T | 1 | N1    |  8 |  771 | ARHGAP31  |  778 | S | NA | 0.0007308008 |\n",
       "| 129 | TCGA-13-0903-01A |  472 | L | I | 1 | N2    |  1 |  486 | ARHGAP36  |  479 | S | NA | 0.0072568148 |\n",
       "| 130 | TCGA-13-0903-01A |  472 | L | I | 1 | N2    |  1 |  486 | ARHGAP36  |  478 | T | NA | 0.0072568148 |\n",
       "| 131 | TCGA-13-0903-01A |  472 | L | I | 1 | N2    |  1 |  471 | ARHGAP36  |  479 | S | NA | 0.0072568148 |\n",
       "| 132 | TCGA-13-0903-01A |  472 | L | I | 1 | N2    |  1 |  471 | ARHGAP36  |  478 | T | NA | 0.0072568148 |\n",
       "| 133 | Br27P            | 1124 | S | L | 1 | DI,N2 | 15 | 1149 | ARHGAP5   | 1124 | S | NA | 0.0063847708 |\n",
       "| 134 | Br27P            | 1124 | S | L | 1 | DI,N2 | 15 | 1149 | ARHGAP5   | 1129 | T | NA | 0.0063847708 |\n",
       "| 135 | Br27P            | 1124 | S | L | 1 | DI,N2 | 15 | 1149 | ARHGAP5   | 1129 | T | <!----> | 0.0063847708 |\n",
       "| 136 | Br27P            | 1124 | S | L | 1 | DI,N2 | 15 | 1149 | ARHGAP5   | 1124 | S | <!----> | 0.0063847708 |\n",
       "| 137 | Br27P            | 1124 | S | L | 1 | DI,N2 | 15 | 1081 | ARHGAP5   | 1124 | S | NA | 0.0063847708 |\n",
       "| 138 | Br27P            | 1124 | S | L | 1 | DI,N2 | 15 | 1081 | ARHGAP5   | 1129 | T | NA | 0.0063847708 |\n",
       "| 139 | Br27P            | 1124 | S | L | 1 | DI,N2 | 15 | 1081 | ARHGAP5   | 1129 | T | <!----> | 0.0063847708 |\n",
       "| 140 | Br27P            | 1124 | S | L | 1 | DI,N2 | 15 | 1081 | ARHGAP5   | 1124 | S | <!----> | 0.0063847708 |\n",
       "| 141 | HX13T            |  264 | G | C | 1 | N1,N2 |  5 |  273 | ARHGEF40  |  262 | S | NA | 0.0004748775 |\n",
       "| 142 | HX13T            |  264 | G | C | 1 | N1,N2 |  5 |  273 | ARHGEF40  |  266 | S | NA | 0.0004748775 |\n",
       "| 143 | HX13T            |  264 | G | C | 1 | N1,N2 |  5 |  273 | ARHGEF40  |  262 | S | <!----> | 0.0004748775 |\n",
       "| 144 | HX13T            |  264 | G | C | 1 | N1,N2 |  5 |  273 | ARHGEF40  |  257 | T | NA | 0.0004748775 |\n",
       "| ⋮ | ⋮ | ⋮ | ⋮ | ⋮ | ⋮ | ⋮ | ⋮ | ⋮ | ⋮ | ⋮ | ⋮ | ⋮ | ⋮ |\n",
       "| 1923 | TCGA-36-1578-01A |  766 | P | A | 1 | N2       |  3 |  739 | RASGRF2 |  762 | T | NA       | 0.143171038 |\n",
       "| 1924 | TCGA-36-1578-01A |  766 | P | A | 1 | N2       |  3 |  783 | RASGRF2 |  762 | T | NA       | 0.143171038 |\n",
       "| 2125 | TCGA-13-0893-01B | 1184 | P | H | 1 | N2       | 11 | 1236 | SOS1    | 1178 | S | NA       | 0.008291220 |\n",
       "| 2126 | TCGA-13-0893-01B | 1184 | P | H | 1 | N2       | 11 | 1236 | SOS1    | 1178 | S | MAPK1    | 0.008291220 |\n",
       "| 2127 | TCGA-13-0893-01B | 1184 | P | H | 1 | N2       | 11 | 1154 | SOS1    | 1178 | S | NA       | 0.008291220 |\n",
       "| 2128 | TCGA-13-0893-01B | 1184 | P | H | 1 | N2       | 11 | 1154 | SOS1    | 1178 | S | MAPK1    | 0.008291220 |\n",
       "| 2129 | TCGA-04-1362-01A | 1231 | L | V | 1 | N1,N2    | 11 | 1236 | SOS1    | 1228 | S | NA       | 0.008291220 |\n",
       "| 2130 | TCGA-04-1362-01A | 1231 | L | V | 1 | N1,N2    | 11 | 1236 | SOS1    | 1229 | S | NA       | 0.008291220 |\n",
       "| 2131 | TCGA-04-1362-01A | 1231 | L | V | 1 | N1,N2    | 11 | 1236 | SOS1    | 1227 | S | NA       | 0.008291220 |\n",
       "| 2132 | TCGA-04-1362-01A | 1231 | L | V | 1 | N1,N2    | 11 | 1154 | SOS1    | 1228 | S | NA       | 0.008291220 |\n",
       "| 2133 | TCGA-04-1362-01A | 1231 | L | V | 1 | N1,N2    | 11 | 1154 | SOS1    | 1229 | S | NA       | 0.008291220 |\n",
       "| 2134 | TCGA-04-1362-01A | 1231 | L | V | 1 | N1,N2    | 11 | 1154 | SOS1    | 1227 | S | NA       | 0.008291220 |\n",
       "| 2135 | Br17X            |  433 | E | K | 1 | N2       |  3 |  420 | SOS1    |  427 | K | NA       | 0.002838161 |\n",
       "| 2136 | Br17X            |  433 | E | K | 1 | N2       |  3 |  434 | SOS1    |  427 | K | NA       | 0.002838161 |\n",
       "| 2295 | TCGA-23-1022-01A |  170 | S | F | 1 | DI,N1,N2 |  2 |  163 | TIAM1   |  172 | S | NA       | 0.001979194 |\n",
       "| 2296 | TCGA-23-1022-01A |  170 | S | F | 1 | DI,N1,N2 |  2 |  163 | TIAM1   |  170 | S | NA       | 0.001979194 |\n",
       "| 2297 | TCGA-23-1022-01A |  170 | S | F | 1 | DI,N1,N2 |  2 |  179 | TIAM1   |  172 | S | NA       | 0.001979194 |\n",
       "| 2298 | TCGA-23-1022-01A |  170 | S | F | 1 | DI,N1,N2 |  2 |  179 | TIAM1   |  170 | S | NA       | 0.001979194 |\n",
       "| 2829 | 16835            |  801 | L | P | 1 | N2       | 15 |  725 | VAV1    |  804 | K | NA       |          NA |\n",
       "| 2830 | 16835            |  801 | L | P | 1 | N2       | 15 |  846 | VAV1    |  804 | K | NA       |          NA |\n",
       "| 2831 | TCGA-24-1546-01A |  435 | K | N | 1 | DI,N2    |  9 |  451 | VAV1    |  429 | K | NA       | 0.010609141 |\n",
       "| 2832 | TCGA-24-1546-01A |  435 | K | N | 1 | DI,N2    |  9 |  451 | VAV1    |  435 | K | NA       | 0.010609141 |\n",
       "| 2833 | TCGA-24-1546-01A |  435 | K | N | 1 | DI,N2    |  9 |  422 | VAV1    |  429 | K | NA       | 0.010609141 |\n",
       "| 2834 | TCGA-24-1546-01A |  435 | K | N | 1 | DI,N2    |  9 |  422 | VAV1    |  435 | K | NA       | 0.010609141 |\n",
       "| 2835 | 16951            |  143 | R | L | 1 | N1       |  3 |  135 | VAV2    |  142 | Y | NA       | 0.015885076 |\n",
       "| 2836 | 16951            |  143 | R | L | 1 | N1       |  3 |  135 | VAV2    |  142 | Y | EGFR,LCK | 0.015885076 |\n",
       "| 2837 | 16951            |  143 | R | L | 1 | N1       |  3 |  149 | VAV2    |  142 | Y | NA       | 0.015885076 |\n",
       "| 2838 | 16951            |  143 | R | L | 1 | N1       |  3 |  149 | VAV2    |  142 | Y | EGFR,LCK | 0.015885076 |\n",
       "| 2839 | 17210            |  840 | S | Y | 1 | N1       | 17 |  835 | VAV3    |  842 | Y | NA       | 0.001778071 |\n",
       "| 2840 | 17210            |  840 | S | Y | 1 | N1       | 17 |  848 | VAV3    |  842 | Y | NA       | 0.001778071 |\n",
       "\n"
      ],
      "text/plain": [
       "     sample_id        mut_position wt_residue mut_residue count status  \n",
       "73   TCGA-23-1124-01A 1750         S          I           1     DI,N2   \n",
       "74   TCGA-23-1124-01A 1750         S          I           1     DI,N2   \n",
       "75   TCGA-23-1124-01A 1750         S          I           1     DI,N2   \n",
       "76   TCGA-23-1124-01A 1750         S          I           1     DI,N2   \n",
       "77   TCGA-23-1124-01A 1750         S          I           1     DI,N2   \n",
       "78   TCGA-23-1124-01A 1750         S          I           1     DI,N2   \n",
       "121  HCC2218           605         E          K           1     N1,N2   \n",
       "122  HCC2218           605         E          K           1     N1,N2   \n",
       "123  HCC2218           605         E          K           1     N1,N2   \n",
       "124  HCC2218           605         E          K           1     N1,N2   \n",
       "125  HCC2218           605         E          K           1     N1,N2   \n",
       "126  HCC2218           605         E          K           1     N1,N2   \n",
       "127  TCGA-13-1509-01A  776         N          T           1     N1      \n",
       "128  TCGA-13-1509-01A  776         N          T           1     N1      \n",
       "129  TCGA-13-0903-01A  472         L          I           1     N2      \n",
       "130  TCGA-13-0903-01A  472         L          I           1     N2      \n",
       "131  TCGA-13-0903-01A  472         L          I           1     N2      \n",
       "132  TCGA-13-0903-01A  472         L          I           1     N2      \n",
       "133  Br27P            1124         S          L           1     DI,N2   \n",
       "134  Br27P            1124         S          L           1     DI,N2   \n",
       "135  Br27P            1124         S          L           1     DI,N2   \n",
       "136  Br27P            1124         S          L           1     DI,N2   \n",
       "137  Br27P            1124         S          L           1     DI,N2   \n",
       "138  Br27P            1124         S          L           1     DI,N2   \n",
       "139  Br27P            1124         S          L           1     DI,N2   \n",
       "140  Br27P            1124         S          L           1     DI,N2   \n",
       "141  HX13T             264         G          C           1     N1,N2   \n",
       "142  HX13T             264         G          C           1     N1,N2   \n",
       "143  HX13T             264         G          C           1     N1,N2   \n",
       "144  HX13T             264         G          C           1     N1,N2   \n",
       "⋮    ⋮                ⋮            ⋮          ⋮           ⋮     ⋮       \n",
       "1923 TCGA-36-1578-01A  766         P          A           1     N2      \n",
       "1924 TCGA-36-1578-01A  766         P          A           1     N2      \n",
       "2125 TCGA-13-0893-01B 1184         P          H           1     N2      \n",
       "2126 TCGA-13-0893-01B 1184         P          H           1     N2      \n",
       "2127 TCGA-13-0893-01B 1184         P          H           1     N2      \n",
       "2128 TCGA-13-0893-01B 1184         P          H           1     N2      \n",
       "2129 TCGA-04-1362-01A 1231         L          V           1     N1,N2   \n",
       "2130 TCGA-04-1362-01A 1231         L          V           1     N1,N2   \n",
       "2131 TCGA-04-1362-01A 1231         L          V           1     N1,N2   \n",
       "2132 TCGA-04-1362-01A 1231         L          V           1     N1,N2   \n",
       "2133 TCGA-04-1362-01A 1231         L          V           1     N1,N2   \n",
       "2134 TCGA-04-1362-01A 1231         L          V           1     N1,N2   \n",
       "2135 Br17X             433         E          K           1     N2      \n",
       "2136 Br17X             433         E          K           1     N2      \n",
       "2295 TCGA-23-1022-01A  170         S          F           1     DI,N1,N2\n",
       "2296 TCGA-23-1022-01A  170         S          F           1     DI,N1,N2\n",
       "2297 TCGA-23-1022-01A  170         S          F           1     DI,N1,N2\n",
       "2298 TCGA-23-1022-01A  170         S          F           1     DI,N1,N2\n",
       "2829 16835             801         L          P           1     N2      \n",
       "2830 16835             801         L          P           1     N2      \n",
       "2831 TCGA-24-1546-01A  435         K          N           1     DI,N2   \n",
       "2832 TCGA-24-1546-01A  435         K          N           1     DI,N2   \n",
       "2833 TCGA-24-1546-01A  435         K          N           1     DI,N2   \n",
       "2834 TCGA-24-1546-01A  435         K          N           1     DI,N2   \n",
       "2835 16951             143         R          L           1     N1      \n",
       "2836 16951             143         R          L           1     N1      \n",
       "2837 16951             143         R          L           1     N1      \n",
       "2838 16951             143         R          L           1     N1      \n",
       "2839 17210             840         S          Y           1     N1      \n",
       "2840 17210             840         S          Y           1     N1      \n",
       "     active_region Freq gene      PTM_position residue kinase   active_region_p\n",
       "73   25            1740 AKAP13    1754         S                0.0015964893   \n",
       "74   25            1740 AKAP13    1747         T                0.0015964893   \n",
       "75   25            1740 AKAP13    1750         S       NA       0.0015964893   \n",
       "76   25            1761 AKAP13    1754         S                0.0015964893   \n",
       "77   25            1761 AKAP13    1747         T                0.0015964893   \n",
       "78   25            1761 AKAP13    1750         S       NA       0.0015964893   \n",
       "121   8             594 ARHGAP11A  606         S       NA       0.0008292936   \n",
       "122   8             594 ARHGAP11A  601         K       NA       0.0008292936   \n",
       "123   8             594 ARHGAP11A  604         S       NA       0.0008292936   \n",
       "124   8             645 ARHGAP11A  606         S       NA       0.0008292936   \n",
       "125   8             645 ARHGAP11A  601         K       NA       0.0008292936   \n",
       "126   8             645 ARHGAP11A  604         S       NA       0.0008292936   \n",
       "127   8             785 ARHGAP31   778         S       NA       0.0007308008   \n",
       "128   8             771 ARHGAP31   778         S       NA       0.0007308008   \n",
       "129   1             486 ARHGAP36   479         S       NA       0.0072568148   \n",
       "130   1             486 ARHGAP36   478         T       NA       0.0072568148   \n",
       "131   1             471 ARHGAP36   479         S       NA       0.0072568148   \n",
       "132   1             471 ARHGAP36   478         T       NA       0.0072568148   \n",
       "133  15            1149 ARHGAP5   1124         S       NA       0.0063847708   \n",
       "134  15            1149 ARHGAP5   1129         T       NA       0.0063847708   \n",
       "135  15            1149 ARHGAP5   1129         T                0.0063847708   \n",
       "136  15            1149 ARHGAP5   1124         S                0.0063847708   \n",
       "137  15            1081 ARHGAP5   1124         S       NA       0.0063847708   \n",
       "138  15            1081 ARHGAP5   1129         T       NA       0.0063847708   \n",
       "139  15            1081 ARHGAP5   1129         T                0.0063847708   \n",
       "140  15            1081 ARHGAP5   1124         S                0.0063847708   \n",
       "141   5             273 ARHGEF40   262         S       NA       0.0004748775   \n",
       "142   5             273 ARHGEF40   266         S       NA       0.0004748775   \n",
       "143   5             273 ARHGEF40   262         S                0.0004748775   \n",
       "144   5             273 ARHGEF40   257         T       NA       0.0004748775   \n",
       "⋮    ⋮             ⋮    ⋮         ⋮            ⋮       ⋮        ⋮              \n",
       "1923  3             739 RASGRF2    762         T       NA       0.143171038    \n",
       "1924  3             783 RASGRF2    762         T       NA       0.143171038    \n",
       "2125 11            1236 SOS1      1178         S       NA       0.008291220    \n",
       "2126 11            1236 SOS1      1178         S       MAPK1    0.008291220    \n",
       "2127 11            1154 SOS1      1178         S       NA       0.008291220    \n",
       "2128 11            1154 SOS1      1178         S       MAPK1    0.008291220    \n",
       "2129 11            1236 SOS1      1228         S       NA       0.008291220    \n",
       "2130 11            1236 SOS1      1229         S       NA       0.008291220    \n",
       "2131 11            1236 SOS1      1227         S       NA       0.008291220    \n",
       "2132 11            1154 SOS1      1228         S       NA       0.008291220    \n",
       "2133 11            1154 SOS1      1229         S       NA       0.008291220    \n",
       "2134 11            1154 SOS1      1227         S       NA       0.008291220    \n",
       "2135  3             420 SOS1       427         K       NA       0.002838161    \n",
       "2136  3             434 SOS1       427         K       NA       0.002838161    \n",
       "2295  2             163 TIAM1      172         S       NA       0.001979194    \n",
       "2296  2             163 TIAM1      170         S       NA       0.001979194    \n",
       "2297  2             179 TIAM1      172         S       NA       0.001979194    \n",
       "2298  2             179 TIAM1      170         S       NA       0.001979194    \n",
       "2829 15             725 VAV1       804         K       NA                NA    \n",
       "2830 15             846 VAV1       804         K       NA                NA    \n",
       "2831  9             451 VAV1       429         K       NA       0.010609141    \n",
       "2832  9             451 VAV1       435         K       NA       0.010609141    \n",
       "2833  9             422 VAV1       429         K       NA       0.010609141    \n",
       "2834  9             422 VAV1       435         K       NA       0.010609141    \n",
       "2835  3             135 VAV2       142         Y       NA       0.015885076    \n",
       "2836  3             135 VAV2       142         Y       EGFR,LCK 0.015885076    \n",
       "2837  3             149 VAV2       142         Y       NA       0.015885076    \n",
       "2838  3             149 VAV2       142         Y       EGFR,LCK 0.015885076    \n",
       "2839 17             835 VAV3       842         Y       NA       0.001778071    \n",
       "2840 17             848 VAV3       842         Y       NA       0.001778071    "
      ]
     },
     "metadata": {},
     "output_type": "display_data"
    }
   ],
   "source": [
    "MSB2013.GAFs.GEPs <- psnv_info$merged_report[is.element(psnv_info$merged_report$gene, l.GAFs.GEPs),]\n",
    "MSB2013.GAFs.GEPs"
   ]
  },
  {
   "cell_type": "code",
   "execution_count": 7,
   "metadata": {
    "ExecuteTime": {
     "end_time": "2019-08-09T10:40:34.615218Z",
     "start_time": "2019-08-09T10:40:34.599Z"
    }
   },
   "outputs": [],
   "source": [
    "write.table(MSB2013.GAFs.GEPs, file='MSB2013_GAFs_GEPs.tsv', sep=\"\\t\", quote=F, row.names=FALSE)"
   ]
  },
  {
   "cell_type": "code",
   "execution_count": 15,
   "metadata": {
    "ExecuteTime": {
     "end_time": "2019-08-09T14:48:58.919672Z",
     "start_time": "2019-08-09T14:48:58.905Z"
    }
   },
   "outputs": [
    {
     "data": {
      "text/html": [
       "30"
      ],
      "text/latex": [
       "30"
      ],
      "text/markdown": [
       "30"
      ],
      "text/plain": [
       "[1] 30"
      ]
     },
     "metadata": {},
     "output_type": "display_data"
    }
   ],
   "source": [
    "# number of genes\n",
    "length(unique(MSB2013.GAFs.GEPs$gene))"
   ]
  },
  {
   "cell_type": "code",
   "execution_count": 18,
   "metadata": {
    "ExecuteTime": {
     "end_time": "2019-08-09T14:50:31.542009Z",
     "start_time": "2019-08-09T14:50:31.527Z"
    }
   },
   "outputs": [
    {
     "data": {
      "text/html": [
       "<ol class=list-inline>\n",
       "\t<li>35</li>\n",
       "\t<li>2</li>\n",
       "</ol>\n"
      ],
      "text/latex": [
       "\\begin{enumerate*}\n",
       "\\item 35\n",
       "\\item 2\n",
       "\\end{enumerate*}\n"
      ],
      "text/markdown": [
       "1. 35\n",
       "2. 2\n",
       "\n",
       "\n"
      ],
      "text/plain": [
       "[1] 35  2"
      ]
     },
     "metadata": {},
     "output_type": "display_data"
    }
   ],
   "source": [
    "# length(unique(MSB2013.GAFs.GEPs$active_region))\n",
    "# active_region seems to refer to a region *within* the gene\n",
    "# regions within different genes can have the same id\n",
    "dim(unique(MSB2013.GAFs.GEPs[,c('gene', 'active_region')]))"
   ]
  },
  {
   "cell_type": "code",
   "execution_count": null,
   "metadata": {},
   "outputs": [],
   "source": []
  }
 ],
 "metadata": {
  "kernelspec": {
   "display_name": "R",
   "language": "R",
   "name": "ir"
  },
  "language_info": {
   "codemirror_mode": "r",
   "file_extension": ".r",
   "mimetype": "text/x-r-source",
   "name": "R",
   "pygments_lexer": "r",
   "version": "3.5.1"
  }
 },
 "nbformat": 4,
 "nbformat_minor": 2
}
