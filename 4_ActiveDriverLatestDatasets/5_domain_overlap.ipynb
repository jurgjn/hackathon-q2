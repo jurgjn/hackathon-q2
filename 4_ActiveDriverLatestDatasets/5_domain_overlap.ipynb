{
 "cells": [
  {
   "cell_type": "code",
   "execution_count": 3,
   "metadata": {
    "ExecuteTime": {
     "end_time": "2019-08-09T15:03:20.221328Z",
     "start_time": "2019-08-09T15:03:20.207Z"
    }
   },
   "outputs": [],
   "source": [
    "suppressWarnings(library(tidyverse))\n",
    "suppressWarnings(library(magrittr)) # https://cran.r-project.org/web/packages/magrittr/vignettes/magrittr.html"
   ]
  },
  {
   "cell_type": "code",
   "execution_count": 4,
   "metadata": {
    "ExecuteTime": {
     "end_time": "2019-08-09T15:03:21.430728Z",
     "start_time": "2019-08-09T15:03:21.211Z"
    }
   },
   "outputs": [
    {
     "data": {
      "text/html": [
       "<table>\n",
       "<caption>A data.frame: 10 × 6</caption>\n",
       "<thead>\n",
       "\t<tr><th scope=col>Entry</th><th scope=col>Gene</th><th scope=col>DomainsStr</th><th scope=col>DomainType</th><th scope=col>DomainStart</th><th scope=col>DomainStop</th></tr>\n",
       "\t<tr><th scope=col>&lt;fct&gt;</th><th scope=col>&lt;fct&gt;</th><th scope=col>&lt;chr&gt;</th><th scope=col>&lt;chr&gt;</th><th scope=col>&lt;chr&gt;</th><th scope=col>&lt;chr&gt;</th></tr>\n",
       "</thead>\n",
       "<tbody>\n",
       "\t<tr><td>SOS1_HUMAN</td><td>SOS1  </td><td>Pfam:Histone(40-169)       </td><td>Pfam:Histone      </td><td>40 </td><td>169 </td></tr>\n",
       "\t<tr><td>SOS1_HUMAN</td><td>SOS1  </td><td>RhoGEF(204-389)            </td><td>RhoGEF            </td><td>204</td><td>389 </td></tr>\n",
       "\t<tr><td>SOS1_HUMAN</td><td>SOS1  </td><td>PH(444-548)                </td><td>PH                </td><td>444</td><td>548 </td></tr>\n",
       "\t<tr><td>SOS1_HUMAN</td><td>SOS1  </td><td>RasGEFN(596-741)           </td><td>RasGEFN           </td><td>596</td><td>741 </td></tr>\n",
       "\t<tr><td>SOS1_HUMAN</td><td>SOS1  </td><td>RasGEF(776-1020)           </td><td>RasGEF            </td><td>776</td><td>1020</td></tr>\n",
       "\t<tr><td>P85A_HUMAN</td><td>PIK3R1</td><td>SH3(6-78)                  </td><td>SH3               </td><td>6  </td><td>78  </td></tr>\n",
       "\t<tr><td>P85A_HUMAN</td><td>PIK3R1</td><td>RhoGAP(126-298)            </td><td>RhoGAP            </td><td>126</td><td>298 </td></tr>\n",
       "\t<tr><td>P85A_HUMAN</td><td>PIK3R1</td><td>SH2(331-414)               </td><td>SH2               </td><td>331</td><td>414 </td></tr>\n",
       "\t<tr><td>P85A_HUMAN</td><td>PIK3R1</td><td>Pfam:PI3K_P85_iSH2(431-599)</td><td>Pfam:PI3K_P85_iSH2</td><td>431</td><td>599 </td></tr>\n",
       "\t<tr><td>P85A_HUMAN</td><td>PIK3R1</td><td>SH2(622-704)               </td><td>SH2               </td><td>622</td><td>704 </td></tr>\n",
       "</tbody>\n",
       "</table>\n"
      ],
      "text/latex": [
       "A data.frame: 10 × 6\n",
       "\\begin{tabular}{r|llllll}\n",
       " Entry & Gene & DomainsStr & DomainType & DomainStart & DomainStop\\\\\n",
       " <fct> & <fct> & <chr> & <chr> & <chr> & <chr>\\\\\n",
       "\\hline\n",
       "\t SOS1\\_HUMAN & SOS1   & Pfam:Histone(40-169)        & Pfam:Histone       & 40  & 169 \\\\\n",
       "\t SOS1\\_HUMAN & SOS1   & RhoGEF(204-389)             & RhoGEF             & 204 & 389 \\\\\n",
       "\t SOS1\\_HUMAN & SOS1   & PH(444-548)                 & PH                 & 444 & 548 \\\\\n",
       "\t SOS1\\_HUMAN & SOS1   & RasGEFN(596-741)            & RasGEFN            & 596 & 741 \\\\\n",
       "\t SOS1\\_HUMAN & SOS1   & RasGEF(776-1020)            & RasGEF             & 776 & 1020\\\\\n",
       "\t P85A\\_HUMAN & PIK3R1 & SH3(6-78)                   & SH3                & 6   & 78  \\\\\n",
       "\t P85A\\_HUMAN & PIK3R1 & RhoGAP(126-298)             & RhoGAP             & 126 & 298 \\\\\n",
       "\t P85A\\_HUMAN & PIK3R1 & SH2(331-414)                & SH2                & 331 & 414 \\\\\n",
       "\t P85A\\_HUMAN & PIK3R1 & Pfam:PI3K\\_P85\\_iSH2(431-599) & Pfam:PI3K\\_P85\\_iSH2 & 431 & 599 \\\\\n",
       "\t P85A\\_HUMAN & PIK3R1 & SH2(622-704)                & SH2                & 622 & 704 \\\\\n",
       "\\end{tabular}\n"
      ],
      "text/markdown": [
       "\n",
       "A data.frame: 10 × 6\n",
       "\n",
       "| Entry &lt;fct&gt; | Gene &lt;fct&gt; | DomainsStr &lt;chr&gt; | DomainType &lt;chr&gt; | DomainStart &lt;chr&gt; | DomainStop &lt;chr&gt; |\n",
       "|---|---|---|---|---|---|\n",
       "| SOS1_HUMAN | SOS1   | Pfam:Histone(40-169)        | Pfam:Histone       | 40  | 169  |\n",
       "| SOS1_HUMAN | SOS1   | RhoGEF(204-389)             | RhoGEF             | 204 | 389  |\n",
       "| SOS1_HUMAN | SOS1   | PH(444-548)                 | PH                 | 444 | 548  |\n",
       "| SOS1_HUMAN | SOS1   | RasGEFN(596-741)            | RasGEFN            | 596 | 741  |\n",
       "| SOS1_HUMAN | SOS1   | RasGEF(776-1020)            | RasGEF             | 776 | 1020 |\n",
       "| P85A_HUMAN | PIK3R1 | SH3(6-78)                   | SH3                | 6   | 78   |\n",
       "| P85A_HUMAN | PIK3R1 | RhoGAP(126-298)             | RhoGAP             | 126 | 298  |\n",
       "| P85A_HUMAN | PIK3R1 | SH2(331-414)                | SH2                | 331 | 414  |\n",
       "| P85A_HUMAN | PIK3R1 | Pfam:PI3K_P85_iSH2(431-599) | Pfam:PI3K_P85_iSH2 | 431 | 599  |\n",
       "| P85A_HUMAN | PIK3R1 | SH2(622-704)                | SH2                | 622 | 704  |\n",
       "\n"
      ],
      "text/plain": [
       "   Entry      Gene   DomainsStr                  DomainType         DomainStart\n",
       "1  SOS1_HUMAN SOS1   Pfam:Histone(40-169)        Pfam:Histone       40         \n",
       "2  SOS1_HUMAN SOS1   RhoGEF(204-389)             RhoGEF             204        \n",
       "3  SOS1_HUMAN SOS1   PH(444-548)                 PH                 444        \n",
       "4  SOS1_HUMAN SOS1   RasGEFN(596-741)            RasGEFN            596        \n",
       "5  SOS1_HUMAN SOS1   RasGEF(776-1020)            RasGEF             776        \n",
       "6  P85A_HUMAN PIK3R1 SH3(6-78)                   SH3                6          \n",
       "7  P85A_HUMAN PIK3R1 RhoGAP(126-298)             RhoGAP             126        \n",
       "8  P85A_HUMAN PIK3R1 SH2(331-414)                SH2                331        \n",
       "9  P85A_HUMAN PIK3R1 Pfam:PI3K_P85_iSH2(431-599) Pfam:PI3K_P85_iSH2 431        \n",
       "10 P85A_HUMAN PIK3R1 SH2(622-704)                SH2                622        \n",
       "   DomainStop\n",
       "1  169       \n",
       "2  389       \n",
       "3  548       \n",
       "4  741       \n",
       "5  1020      \n",
       "6  78        \n",
       "7  298       \n",
       "8  414       \n",
       "9  599       \n",
       "10 704       "
      ]
     },
     "metadata": {},
     "output_type": "display_data"
    }
   ],
   "source": [
    "# Parse domains file to have one domain per row\n",
    "read.table(\"../_cloud/smartdomssummary.txt\", sep='\\t', col.names=c('Entry', 'Gene', 'DomainsStr')) %>%\n",
    "    subset(Gene %in% c('PIK3R1', 'SOS1')) %>%\n",
    "    separate_rows(DomainsStr, sep=',') %>%\n",
    "    mutate(DomainsStr = trimws(DomainsStr)) %>%\n",
    "    separate(col=DomainsStr, into=c('DomainType', 'DomainStartStop'), sep='\\\\(', remove=F) %>%\n",
    "    separate(col=DomainStartStop, into=c('DomainStart', 'DomainStop'), sep='\\\\-', remove=T) %>%\n",
    "    mutate(DomainStop = substr(DomainStop, start=1, stop=nchar(DomainStop)-1))"
   ]
  },
  {
   "cell_type": "code",
   "execution_count": null,
   "metadata": {},
   "outputs": [],
   "source": []
  }
 ],
 "metadata": {
  "kernelspec": {
   "display_name": "R",
   "language": "R",
   "name": "ir"
  },
  "language_info": {
   "codemirror_mode": "r",
   "file_extension": ".r",
   "mimetype": "text/x-r-source",
   "name": "R",
   "pygments_lexer": "r",
   "version": "3.5.1"
  }
 },
 "nbformat": 4,
 "nbformat_minor": 2
}
