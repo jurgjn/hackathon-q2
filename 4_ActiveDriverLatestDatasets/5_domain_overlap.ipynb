{
 "cells": [
  {
   "cell_type": "code",
   "execution_count": 1,
   "metadata": {
    "ExecuteTime": {
     "end_time": "2019-08-09T15:37:32.226475Z",
     "start_time": "2019-08-09T15:37:31.504Z"
    }
   },
   "outputs": [
    {
     "name": "stderr",
     "output_type": "stream",
     "text": [
      "── \u001b[1mAttaching packages\u001b[22m ─────────────────────────────────────── tidyverse 1.2.1 ──\n",
      "\u001b[32m✔\u001b[39m \u001b[34mggplot2\u001b[39m 3.1.1     \u001b[32m✔\u001b[39m \u001b[34mpurrr  \u001b[39m 0.3.2\n",
      "\u001b[32m✔\u001b[39m \u001b[34mtibble \u001b[39m 2.1.3     \u001b[32m✔\u001b[39m \u001b[34mdplyr  \u001b[39m 0.8.1\n",
      "\u001b[32m✔\u001b[39m \u001b[34mtidyr  \u001b[39m 0.8.3     \u001b[32m✔\u001b[39m \u001b[34mstringr\u001b[39m 1.4.0\n",
      "\u001b[32m✔\u001b[39m \u001b[34mreadr  \u001b[39m 1.1.1     \u001b[32m✔\u001b[39m \u001b[34mforcats\u001b[39m 0.3.0\n",
      "── \u001b[1mConflicts\u001b[22m ────────────────────────────────────────── tidyverse_conflicts() ──\n",
      "\u001b[31m✖\u001b[39m \u001b[34mdplyr\u001b[39m::\u001b[32mfilter()\u001b[39m masks \u001b[34mstats\u001b[39m::filter()\n",
      "\u001b[31m✖\u001b[39m \u001b[34mdplyr\u001b[39m::\u001b[32mlag()\u001b[39m    masks \u001b[34mstats\u001b[39m::lag()\n",
      "\n",
      "Attaching package: ‘magrittr’\n",
      "\n",
      "The following object is masked from ‘package:purrr’:\n",
      "\n",
      "    set_names\n",
      "\n",
      "The following object is masked from ‘package:tidyr’:\n",
      "\n",
      "    extract\n",
      "\n"
     ]
    }
   ],
   "source": [
    "suppressWarnings(library(tidyverse))\n",
    "suppressWarnings(library(magrittr)) # https://cran.r-project.org/web/packages/magrittr/vignettes/magrittr.html"
   ]
  },
  {
   "cell_type": "code",
   "execution_count": 2,
   "metadata": {
    "ExecuteTime": {
     "end_time": "2019-08-09T15:37:32.953941Z",
     "start_time": "2019-08-09T15:37:31.505Z"
    }
   },
   "outputs": [
    {
     "data": {
      "text/html": [
       "<table>\n",
       "<caption>A data.frame: 6 × 6</caption>\n",
       "<thead>\n",
       "\t<tr><th scope=col>Entry</th><th scope=col>Gene</th><th scope=col>DomainsStr</th><th scope=col>DomainType</th><th scope=col>DomainStart</th><th scope=col>DomainStop</th></tr>\n",
       "\t<tr><th scope=col>&lt;chr&gt;</th><th scope=col>&lt;chr&gt;</th><th scope=col>&lt;chr&gt;</th><th scope=col>&lt;chr&gt;</th><th scope=col>&lt;dbl&gt;</th><th scope=col>&lt;dbl&gt;</th></tr>\n",
       "</thead>\n",
       "<tbody>\n",
       "\t<tr><td>FN3K_HUMAN </td><td>FN3K  </td><td>Pfam:Fructosamin_kin(2-309)</td><td>Pfam:Fructosamin_kin</td><td>  2</td><td>309</td></tr>\n",
       "\t<tr><td>FN3K_HUMAN </td><td>FN3K  </td><td>Pfam:APH(28-279)           </td><td>Pfam:APH            </td><td> 28</td><td>279</td></tr>\n",
       "\t<tr><td>FNBP4_HUMAN</td><td>FNBP4 </td><td>WW(215-248)                </td><td>WW                  </td><td>215</td><td>248</td></tr>\n",
       "\t<tr><td>FNBP4_HUMAN</td><td>FNBP4 </td><td>WW(596-629)                </td><td>WW                  </td><td>596</td><td>629</td></tr>\n",
       "\t<tr><td>FND3A_HUMAN</td><td>FNDC3A</td><td>FN3(266-358)               </td><td>FN3                 </td><td>266</td><td>358</td></tr>\n",
       "\t<tr><td>FND3A_HUMAN</td><td>FNDC3A</td><td>FN3(371-452)               </td><td>FN3                 </td><td>371</td><td>452</td></tr>\n",
       "</tbody>\n",
       "</table>\n"
      ],
      "text/latex": [
       "A data.frame: 6 × 6\n",
       "\\begin{tabular}{r|llllll}\n",
       " Entry & Gene & DomainsStr & DomainType & DomainStart & DomainStop\\\\\n",
       " <chr> & <chr> & <chr> & <chr> & <dbl> & <dbl>\\\\\n",
       "\\hline\n",
       "\t FN3K\\_HUMAN  & FN3K   & Pfam:Fructosamin\\_kin(2-309) & Pfam:Fructosamin\\_kin &   2 & 309\\\\\n",
       "\t FN3K\\_HUMAN  & FN3K   & Pfam:APH(28-279)            & Pfam:APH             &  28 & 279\\\\\n",
       "\t FNBP4\\_HUMAN & FNBP4  & WW(215-248)                 & WW                   & 215 & 248\\\\\n",
       "\t FNBP4\\_HUMAN & FNBP4  & WW(596-629)                 & WW                   & 596 & 629\\\\\n",
       "\t FND3A\\_HUMAN & FNDC3A & FN3(266-358)                & FN3                  & 266 & 358\\\\\n",
       "\t FND3A\\_HUMAN & FNDC3A & FN3(371-452)                & FN3                  & 371 & 452\\\\\n",
       "\\end{tabular}\n"
      ],
      "text/markdown": [
       "\n",
       "A data.frame: 6 × 6\n",
       "\n",
       "| Entry &lt;chr&gt; | Gene &lt;chr&gt; | DomainsStr &lt;chr&gt; | DomainType &lt;chr&gt; | DomainStart &lt;dbl&gt; | DomainStop &lt;dbl&gt; |\n",
       "|---|---|---|---|---|---|\n",
       "| FN3K_HUMAN  | FN3K   | Pfam:Fructosamin_kin(2-309) | Pfam:Fructosamin_kin |   2 | 309 |\n",
       "| FN3K_HUMAN  | FN3K   | Pfam:APH(28-279)            | Pfam:APH             |  28 | 279 |\n",
       "| FNBP4_HUMAN | FNBP4  | WW(215-248)                 | WW                   | 215 | 248 |\n",
       "| FNBP4_HUMAN | FNBP4  | WW(596-629)                 | WW                   | 596 | 629 |\n",
       "| FND3A_HUMAN | FNDC3A | FN3(266-358)                | FN3                  | 266 | 358 |\n",
       "| FND3A_HUMAN | FNDC3A | FN3(371-452)                | FN3                  | 371 | 452 |\n",
       "\n"
      ],
      "text/plain": [
       "  Entry       Gene   DomainsStr                  DomainType          \n",
       "1 FN3K_HUMAN  FN3K   Pfam:Fructosamin_kin(2-309) Pfam:Fructosamin_kin\n",
       "2 FN3K_HUMAN  FN3K   Pfam:APH(28-279)            Pfam:APH            \n",
       "3 FNBP4_HUMAN FNBP4  WW(215-248)                 WW                  \n",
       "4 FNBP4_HUMAN FNBP4  WW(596-629)                 WW                  \n",
       "5 FND3A_HUMAN FNDC3A FN3(266-358)                FN3                 \n",
       "6 FND3A_HUMAN FNDC3A FN3(371-452)                FN3                 \n",
       "  DomainStart DomainStop\n",
       "1   2         309       \n",
       "2  28         279       \n",
       "3 215         248       \n",
       "4 596         629       \n",
       "5 266         358       \n",
       "6 371         452       "
      ]
     },
     "metadata": {},
     "output_type": "display_data"
    }
   ],
   "source": [
    "# Parse domains file to have one domain per row\n",
    "domains <- read.table(\"../_cloud/smartdomssummary.txt\", sep='\\t', col.names=c('Entry', 'Gene', 'DomainsStr'), stringsAsFactors=FALSE) %>%\n",
    "    #subset(Gene %in% c('PIK3R1', 'SOS1')) %>%\n",
    "    separate_rows(DomainsStr, sep=',') %>%\n",
    "    mutate(DomainsStr = trimws(DomainsStr)) %>%\n",
    "    separate(col=DomainsStr, into=c('DomainType', 'DomainStartStop'), sep='\\\\(', remove=F) %>%\n",
    "    separate(col=DomainStartStop, into=c('DomainStart', 'DomainStop'), sep='\\\\-', remove=T) %>%\n",
    "    mutate(DomainStop = substr(DomainStop, start=1, stop=nchar(DomainStop)-1)) %>%\n",
    "    mutate(DomainStart = as.numeric(DomainStart)) %>%\n",
    "    mutate(DomainStop = as.numeric(DomainStop))\n",
    "head(domains)"
   ]
  },
  {
   "cell_type": "code",
   "execution_count": 3,
   "metadata": {
    "ExecuteTime": {
     "end_time": "2019-08-09T15:37:33.467773Z",
     "start_time": "2019-08-09T15:37:31.508Z"
    }
   },
   "outputs": [
    {
     "data": {
      "text/html": [
       "<table>\n",
       "<caption>A data.frame: 6 × 14</caption>\n",
       "<thead>\n",
       "\t<tr><th scope=col>sample_id</th><th scope=col>mut_position</th><th scope=col>wt_residue</th><th scope=col>mut_residue</th><th scope=col>count</th><th scope=col>status</th><th scope=col>active_region</th><th scope=col>Freq</th><th scope=col>gene</th><th scope=col>PTM_position</th><th scope=col>residue</th><th scope=col>kinase</th><th scope=col>active_region_p</th><th scope=col>domain</th></tr>\n",
       "\t<tr><th scope=col>&lt;chr&gt;</th><th scope=col>&lt;int&gt;</th><th scope=col>&lt;chr&gt;</th><th scope=col>&lt;chr&gt;</th><th scope=col>&lt;int&gt;</th><th scope=col>&lt;chr&gt;</th><th scope=col>&lt;int&gt;</th><th scope=col>&lt;int&gt;</th><th scope=col>&lt;chr&gt;</th><th scope=col>&lt;int&gt;</th><th scope=col>&lt;chr&gt;</th><th scope=col>&lt;chr&gt;</th><th scope=col>&lt;dbl&gt;</th><th scope=col>&lt;chr&gt;</th></tr>\n",
       "</thead>\n",
       "<tbody>\n",
       "\t<tr><td>TCGA-23-1124-01A</td><td>1750</td><td>S</td><td>I</td><td>1</td><td>DI,N2</td><td>25</td><td>1740</td><td>AKAP13</td><td>1754</td><td>S</td><td>  </td><td>0.001596489</td><td></td></tr>\n",
       "\t<tr><td>TCGA-23-1124-01A</td><td>1750</td><td>S</td><td>I</td><td>1</td><td>DI,N2</td><td>25</td><td>1740</td><td>AKAP13</td><td>1747</td><td>T</td><td>  </td><td>0.001596489</td><td></td></tr>\n",
       "\t<tr><td>TCGA-23-1124-01A</td><td>1750</td><td>S</td><td>I</td><td>1</td><td>DI,N2</td><td>25</td><td>1740</td><td>AKAP13</td><td>1750</td><td>S</td><td>NA</td><td>0.001596489</td><td></td></tr>\n",
       "\t<tr><td>TCGA-23-1124-01A</td><td>1750</td><td>S</td><td>I</td><td>1</td><td>DI,N2</td><td>25</td><td>1761</td><td>AKAP13</td><td>1754</td><td>S</td><td>  </td><td>0.001596489</td><td></td></tr>\n",
       "\t<tr><td>TCGA-23-1124-01A</td><td>1750</td><td>S</td><td>I</td><td>1</td><td>DI,N2</td><td>25</td><td>1761</td><td>AKAP13</td><td>1747</td><td>T</td><td>  </td><td>0.001596489</td><td></td></tr>\n",
       "\t<tr><td>TCGA-23-1124-01A</td><td>1750</td><td>S</td><td>I</td><td>1</td><td>DI,N2</td><td>25</td><td>1761</td><td>AKAP13</td><td>1750</td><td>S</td><td>NA</td><td>0.001596489</td><td></td></tr>\n",
       "</tbody>\n",
       "</table>\n"
      ],
      "text/latex": [
       "A data.frame: 6 × 14\n",
       "\\begin{tabular}{r|llllllllllllll}\n",
       " sample\\_id & mut\\_position & wt\\_residue & mut\\_residue & count & status & active\\_region & Freq & gene & PTM\\_position & residue & kinase & active\\_region\\_p & domain\\\\\n",
       " <chr> & <int> & <chr> & <chr> & <int> & <chr> & <int> & <int> & <chr> & <int> & <chr> & <chr> & <dbl> & <chr>\\\\\n",
       "\\hline\n",
       "\t TCGA-23-1124-01A & 1750 & S & I & 1 & DI,N2 & 25 & 1740 & AKAP13 & 1754 & S &    & 0.001596489 & \\\\\n",
       "\t TCGA-23-1124-01A & 1750 & S & I & 1 & DI,N2 & 25 & 1740 & AKAP13 & 1747 & T &    & 0.001596489 & \\\\\n",
       "\t TCGA-23-1124-01A & 1750 & S & I & 1 & DI,N2 & 25 & 1740 & AKAP13 & 1750 & S & NA & 0.001596489 & \\\\\n",
       "\t TCGA-23-1124-01A & 1750 & S & I & 1 & DI,N2 & 25 & 1761 & AKAP13 & 1754 & S &    & 0.001596489 & \\\\\n",
       "\t TCGA-23-1124-01A & 1750 & S & I & 1 & DI,N2 & 25 & 1761 & AKAP13 & 1747 & T &    & 0.001596489 & \\\\\n",
       "\t TCGA-23-1124-01A & 1750 & S & I & 1 & DI,N2 & 25 & 1761 & AKAP13 & 1750 & S & NA & 0.001596489 & \\\\\n",
       "\\end{tabular}\n"
      ],
      "text/markdown": [
       "\n",
       "A data.frame: 6 × 14\n",
       "\n",
       "| sample_id &lt;chr&gt; | mut_position &lt;int&gt; | wt_residue &lt;chr&gt; | mut_residue &lt;chr&gt; | count &lt;int&gt; | status &lt;chr&gt; | active_region &lt;int&gt; | Freq &lt;int&gt; | gene &lt;chr&gt; | PTM_position &lt;int&gt; | residue &lt;chr&gt; | kinase &lt;chr&gt; | active_region_p &lt;dbl&gt; | domain &lt;chr&gt; |\n",
       "|---|---|---|---|---|---|---|---|---|---|---|---|---|---|\n",
       "| TCGA-23-1124-01A | 1750 | S | I | 1 | DI,N2 | 25 | 1740 | AKAP13 | 1754 | S | <!----> | 0.001596489 | <!----> |\n",
       "| TCGA-23-1124-01A | 1750 | S | I | 1 | DI,N2 | 25 | 1740 | AKAP13 | 1747 | T | <!----> | 0.001596489 | <!----> |\n",
       "| TCGA-23-1124-01A | 1750 | S | I | 1 | DI,N2 | 25 | 1740 | AKAP13 | 1750 | S | NA | 0.001596489 | <!----> |\n",
       "| TCGA-23-1124-01A | 1750 | S | I | 1 | DI,N2 | 25 | 1761 | AKAP13 | 1754 | S | <!----> | 0.001596489 | <!----> |\n",
       "| TCGA-23-1124-01A | 1750 | S | I | 1 | DI,N2 | 25 | 1761 | AKAP13 | 1747 | T | <!----> | 0.001596489 | <!----> |\n",
       "| TCGA-23-1124-01A | 1750 | S | I | 1 | DI,N2 | 25 | 1761 | AKAP13 | 1750 | S | NA | 0.001596489 | <!----> |\n",
       "\n"
      ],
      "text/plain": [
       "  sample_id        mut_position wt_residue mut_residue count status\n",
       "1 TCGA-23-1124-01A 1750         S          I           1     DI,N2 \n",
       "2 TCGA-23-1124-01A 1750         S          I           1     DI,N2 \n",
       "3 TCGA-23-1124-01A 1750         S          I           1     DI,N2 \n",
       "4 TCGA-23-1124-01A 1750         S          I           1     DI,N2 \n",
       "5 TCGA-23-1124-01A 1750         S          I           1     DI,N2 \n",
       "6 TCGA-23-1124-01A 1750         S          I           1     DI,N2 \n",
       "  active_region Freq gene   PTM_position residue kinase active_region_p domain\n",
       "1 25            1740 AKAP13 1754         S              0.001596489           \n",
       "2 25            1740 AKAP13 1747         T              0.001596489           \n",
       "3 25            1740 AKAP13 1750         S       NA     0.001596489           \n",
       "4 25            1761 AKAP13 1754         S              0.001596489           \n",
       "5 25            1761 AKAP13 1747         T              0.001596489           \n",
       "6 25            1761 AKAP13 1750         S       NA     0.001596489           "
      ]
     },
     "metadata": {},
     "output_type": "display_data"
    }
   ],
   "source": [
    "GetDomains <- Vectorize(function(gene, pos) {\n",
    "    x <- domains %>% subset((Gene == gene) & (DomainStart <= pos) & (pos <= DomainStop))\n",
    "    if (length(x) > 0) {\n",
    "        toString(x$DomainsStr)\n",
    "    } else {\n",
    "        ''\n",
    "    }\n",
    "})\n",
    "\n",
    "GAFs.GEPs.domains <- read.table(\"MSB2013_GAFs_GEPs.tsv\", sep='\\t', header=T, stringsAsFactors=FALSE) %>%\n",
    "    mutate(domain=GetDomains(gene, mut_position))\n",
    "head(GAFs.GEPs.domains)"
   ]
  },
  {
   "cell_type": "code",
   "execution_count": 4,
   "metadata": {
    "ExecuteTime": {
     "end_time": "2019-08-09T15:37:33.480687Z",
     "start_time": "2019-08-09T15:37:31.509Z"
    }
   },
   "outputs": [],
   "source": [
    "write.table(GAFs.GEPs.domains, file='MSB2013_GAFs_GEPs_domains.tsv', sep=\"\\t\", quote=F, row.names=FALSE)"
   ]
  }
 ],
 "metadata": {
  "kernelspec": {
   "display_name": "R",
   "language": "R",
   "name": "ir"
  },
  "language_info": {
   "codemirror_mode": "r",
   "file_extension": ".r",
   "mimetype": "text/x-r-source",
   "name": "R",
   "pygments_lexer": "r",
   "version": "3.5.1"
  }
 },
 "nbformat": 4,
 "nbformat_minor": 2
}
